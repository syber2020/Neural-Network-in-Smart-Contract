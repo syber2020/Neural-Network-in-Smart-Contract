{
 "cells": [
  {
   "cell_type": "code",
   "execution_count": 1,
   "id": "alive-rally",
   "metadata": {
    "scrolled": true
   },
   "outputs": [
    {
     "name": "stdout",
     "output_type": "stream",
     "text": [
      "INFO:tensorflow:Enabling eager execution\n",
      "INFO:tensorflow:Enabling v2 tensorshape\n",
      "INFO:tensorflow:Enabling resource variables\n",
      "INFO:tensorflow:Enabling tensor equality\n",
      "INFO:tensorflow:Enabling control flow v2\n"
     ]
    },
    {
     "data": {
      "text/plain": [
       "768"
      ]
     },
     "execution_count": 1,
     "metadata": {},
     "output_type": "execute_result"
    }
   ],
   "source": [
    "import numpy as np\n",
    "import pandas as pd\n",
    "from sklearn.linear_model import Perceptron\n",
    "from keras.models import Sequential\n",
    "from keras.layers import Dense\n",
    "df = pd.read_csv('diabetes.csv',sep = ',')\n",
    "len(df)"
   ]
  },
  {
   "cell_type": "code",
   "execution_count": 2,
   "id": "demanding-spoke",
   "metadata": {},
   "outputs": [
    {
     "data": {
      "text/html": [
       "<div>\n",
       "<style scoped>\n",
       "    .dataframe tbody tr th:only-of-type {\n",
       "        vertical-align: middle;\n",
       "    }\n",
       "\n",
       "    .dataframe tbody tr th {\n",
       "        vertical-align: top;\n",
       "    }\n",
       "\n",
       "    .dataframe thead th {\n",
       "        text-align: right;\n",
       "    }\n",
       "</style>\n",
       "<table border=\"1\" class=\"dataframe\">\n",
       "  <thead>\n",
       "    <tr style=\"text-align: right;\">\n",
       "      <th></th>\n",
       "      <th>Pregnancies</th>\n",
       "      <th>Glucose</th>\n",
       "      <th>BloodPressure</th>\n",
       "      <th>SkinThickness</th>\n",
       "      <th>Insulin</th>\n",
       "      <th>BMI</th>\n",
       "      <th>DiabetesPedigreeFunction</th>\n",
       "      <th>Age</th>\n",
       "      <th>Outcome</th>\n",
       "    </tr>\n",
       "  </thead>\n",
       "  <tbody>\n",
       "    <tr>\n",
       "      <th>0</th>\n",
       "      <td>6</td>\n",
       "      <td>148</td>\n",
       "      <td>72</td>\n",
       "      <td>35</td>\n",
       "      <td>0</td>\n",
       "      <td>33</td>\n",
       "      <td>62</td>\n",
       "      <td>50</td>\n",
       "      <td>1</td>\n",
       "    </tr>\n",
       "    <tr>\n",
       "      <th>1</th>\n",
       "      <td>1</td>\n",
       "      <td>85</td>\n",
       "      <td>66</td>\n",
       "      <td>29</td>\n",
       "      <td>0</td>\n",
       "      <td>26</td>\n",
       "      <td>35</td>\n",
       "      <td>31</td>\n",
       "      <td>0</td>\n",
       "    </tr>\n",
       "    <tr>\n",
       "      <th>2</th>\n",
       "      <td>8</td>\n",
       "      <td>183</td>\n",
       "      <td>64</td>\n",
       "      <td>0</td>\n",
       "      <td>0</td>\n",
       "      <td>23</td>\n",
       "      <td>67</td>\n",
       "      <td>32</td>\n",
       "      <td>1</td>\n",
       "    </tr>\n",
       "    <tr>\n",
       "      <th>3</th>\n",
       "      <td>1</td>\n",
       "      <td>89</td>\n",
       "      <td>66</td>\n",
       "      <td>23</td>\n",
       "      <td>94</td>\n",
       "      <td>28</td>\n",
       "      <td>16</td>\n",
       "      <td>21</td>\n",
       "      <td>0</td>\n",
       "    </tr>\n",
       "    <tr>\n",
       "      <th>4</th>\n",
       "      <td>0</td>\n",
       "      <td>137</td>\n",
       "      <td>40</td>\n",
       "      <td>35</td>\n",
       "      <td>168</td>\n",
       "      <td>43</td>\n",
       "      <td>228</td>\n",
       "      <td>33</td>\n",
       "      <td>1</td>\n",
       "    </tr>\n",
       "  </tbody>\n",
       "</table>\n",
       "</div>"
      ],
      "text/plain": [
       "   Pregnancies  Glucose  BloodPressure  SkinThickness  Insulin  BMI  \\\n",
       "0            6      148             72             35        0   33   \n",
       "1            1       85             66             29        0   26   \n",
       "2            8      183             64              0        0   23   \n",
       "3            1       89             66             23       94   28   \n",
       "4            0      137             40             35      168   43   \n",
       "\n",
       "   DiabetesPedigreeFunction  Age  Outcome  \n",
       "0                        62   50        1  \n",
       "1                        35   31        0  \n",
       "2                        67   32        1  \n",
       "3                        16   21        0  \n",
       "4                       228   33        1  "
      ]
     },
     "execution_count": 2,
     "metadata": {},
     "output_type": "execute_result"
    }
   ],
   "source": [
    "df['DiabetesPedigreeFunction'] = df['DiabetesPedigreeFunction']*100\n",
    "df.DiabetesPedigreeFunction = df.DiabetesPedigreeFunction.astype(int)\n",
    "df.BMI = df.BMI.astype(int) \n",
    "df.head()"
   ]
  },
  {
   "cell_type": "code",
   "execution_count": 3,
   "id": "valued-burton",
   "metadata": {
    "scrolled": true
   },
   "outputs": [],
   "source": [
    "dataset = df.to_numpy()\n",
    "\n",
    "X = dataset[:500,0:8]\n",
    "X1 = dataset[500:,0:8]\n",
    "y = dataset[:500,8]\n",
    "y1 = dataset[500:,8]"
   ]
  },
  {
   "cell_type": "code",
   "execution_count": 4,
   "id": "parliamentary-breach",
   "metadata": {},
   "outputs": [
    {
     "name": "stdout",
     "output_type": "stream",
     "text": [
      "[[  6 148  72  35   0  33  62  50]\n",
      " [  1  85  66  29   0  26  35  31]\n",
      " [  8 183  64   0   0  23  67  32]\n",
      " [  1  89  66  23  94  28  16  21]\n",
      " [  0 137  40  35 168  43 228  33]]\n",
      "[1 0 1 0 1]\n"
     ]
    }
   ],
   "source": [
    "print(X[:5])\n",
    "print(y[:5])"
   ]
  },
  {
   "cell_type": "code",
   "execution_count": 5,
   "id": "grateful-influence",
   "metadata": {},
   "outputs": [],
   "source": [
    "# define the keras model\n",
    "model = Sequential()\n",
    "# model.add(Dense(12, input_dim=8, activation='relu'))\n",
    "# model.add(Dense(8, activation='relu'))\n",
    "model.add(Dense(1, activation='sigmoid'))"
   ]
  },
  {
   "cell_type": "code",
   "execution_count": 6,
   "id": "worthy-clearing",
   "metadata": {},
   "outputs": [],
   "source": [
    "# compile the keras model\n",
    "model.compile(loss='binary_crossentropy', optimizer='adam', metrics=['accuracy'])"
   ]
  },
  {
   "cell_type": "code",
   "execution_count": 7,
   "id": "least-harvey",
   "metadata": {},
   "outputs": [
    {
     "name": "stdout",
     "output_type": "stream",
     "text": [
      "Epoch 1/150\n",
      "WARNING:tensorflow:AutoGraph could not transform <bound method Dense.call of <keras.layers.core.Dense object at 0x000002A554098850>> and will run it as-is.\n",
      "Please report this to the TensorFlow team. When filing the bug, set the verbosity to 10 (on Linux, `export AUTOGRAPH_VERBOSITY=10`) and attach the full output.\n",
      "Cause: invalid syntax (tmppv3oe177.py, line 48)\n",
      "To silence this warning, decorate the function with @tf.autograph.experimental.do_not_convert\n",
      "WARNING: AutoGraph could not transform <bound method Dense.call of <keras.layers.core.Dense object at 0x000002A554098850>> and will run it as-is.\n",
      "Please report this to the TensorFlow team. When filing the bug, set the verbosity to 10 (on Linux, `export AUTOGRAPH_VERBOSITY=10`) and attach the full output.\n",
      "Cause: invalid syntax (tmppv3oe177.py, line 48)\n",
      "To silence this warning, decorate the function with @tf.autograph.experimental.do_not_convert\n",
      "50/50 [==============================] - 16s 587us/step - loss: 34.9120 - accuracy: 0.6193\n",
      "Epoch 2/150\n",
      "50/50 [==============================] - 0s 523us/step - loss: 28.4946 - accuracy: 0.6345\n",
      "Epoch 3/150\n",
      "50/50 [==============================] - 0s 513us/step - loss: 28.9683 - accuracy: 0.6165\n",
      "Epoch 4/150\n",
      "50/50 [==============================] - 0s 510us/step - loss: 25.1403 - accuracy: 0.6136\n",
      "Epoch 5/150\n",
      "50/50 [==============================] - 0s 520us/step - loss: 20.4420 - accuracy: 0.6531\n",
      "Epoch 6/150\n",
      "50/50 [==============================] - 0s 534us/step - loss: 17.7519 - accuracy: 0.6559\n",
      "Epoch 7/150\n",
      "50/50 [==============================] - ETA: 0s - loss: 20.5843 - accuracy: 0.500 - 0s 530us/step - loss: 16.3231 - accuracy: 0.6230\n",
      "Epoch 8/150\n",
      "50/50 [==============================] - 0s 530us/step - loss: 15.2373 - accuracy: 0.6403\n",
      "Epoch 9/150\n",
      "50/50 [==============================] - 0s 511us/step - loss: 13.9633 - accuracy: 0.6105\n",
      "Epoch 10/150\n",
      "50/50 [==============================] - 0s 510us/step - loss: 12.9016 - accuracy: 0.5827\n",
      "Epoch 11/150\n",
      "50/50 [==============================] - 0s 490us/step - loss: 9.9772 - accuracy: 0.5959\n",
      "Epoch 12/150\n",
      "50/50 [==============================] - 0s 536us/step - loss: 9.4341 - accuracy: 0.6017\n",
      "Epoch 13/150\n",
      "50/50 [==============================] - 0s 539us/step - loss: 9.2242 - accuracy: 0.6038\n",
      "Epoch 14/150\n",
      "50/50 [==============================] - 0s 547us/step - loss: 7.2190 - accuracy: 0.5977\n",
      "Epoch 15/150\n",
      "50/50 [==============================] - 0s 508us/step - loss: 6.1890 - accuracy: 0.5748\n",
      "Epoch 16/150\n",
      "50/50 [==============================] - 0s 530us/step - loss: 5.8415 - accuracy: 0.6013\n",
      "Epoch 17/150\n",
      "50/50 [==============================] - 0s 518us/step - loss: 5.4606 - accuracy: 0.6482\n",
      "Epoch 18/150\n",
      "50/50 [==============================] - 0s 507us/step - loss: 4.5151 - accuracy: 0.6338\n",
      "Epoch 19/150\n",
      "50/50 [==============================] - 0s 551us/step - loss: 5.1249 - accuracy: 0.6232\n",
      "Epoch 20/150\n",
      "50/50 [==============================] - 0s 533us/step - loss: 3.9144 - accuracy: 0.6206\n",
      "Epoch 21/150\n",
      "50/50 [==============================] - 0s 531us/step - loss: 3.5215 - accuracy: 0.6344\n",
      "Epoch 22/150\n",
      "50/50 [==============================] - 0s 510us/step - loss: 3.4045 - accuracy: 0.5947\n",
      "Epoch 23/150\n",
      "50/50 [==============================] - 0s 536us/step - loss: 3.1692 - accuracy: 0.6234\n",
      "Epoch 24/150\n",
      "50/50 [==============================] - 0s 543us/step - loss: 2.8362 - accuracy: 0.6350\n",
      "Epoch 25/150\n",
      "50/50 [==============================] - 0s 573us/step - loss: 2.6234 - accuracy: 0.6634\n",
      "Epoch 26/150\n",
      "50/50 [==============================] - 0s 530us/step - loss: 2.6786 - accuracy: 0.5973\n",
      "Epoch 27/150\n",
      "50/50 [==============================] - 0s 520us/step - loss: 2.3225 - accuracy: 0.6149\n",
      "Epoch 28/150\n",
      "50/50 [==============================] - 0s 551us/step - loss: 2.0810 - accuracy: 0.6037\n",
      "Epoch 29/150\n",
      "50/50 [==============================] - 0s 542us/step - loss: 1.9132 - accuracy: 0.6203\n",
      "Epoch 30/150\n",
      "50/50 [==============================] - 0s 530us/step - loss: 1.8687 - accuracy: 0.6166\n",
      "Epoch 31/150\n",
      "50/50 [==============================] - 0s 543us/step - loss: 1.8220 - accuracy: 0.6389\n",
      "Epoch 32/150\n",
      "50/50 [==============================] - 0s 520us/step - loss: 1.5908 - accuracy: 0.6323\n",
      "Epoch 33/150\n",
      "50/50 [==============================] - 0s 537us/step - loss: 1.5188 - accuracy: 0.6169\n",
      "Epoch 34/150\n",
      "50/50 [==============================] - 0s 524us/step - loss: 1.2511 - accuracy: 0.6489\n",
      "Epoch 35/150\n",
      "50/50 [==============================] - 0s 551us/step - loss: 1.1622 - accuracy: 0.6525\n",
      "Epoch 36/150\n",
      "50/50 [==============================] - 0s 535us/step - loss: 1.2259 - accuracy: 0.6112\n",
      "Epoch 37/150\n",
      "50/50 [==============================] - 0s 510us/step - loss: 1.1422 - accuracy: 0.6246\n",
      "Epoch 38/150\n",
      "50/50 [==============================] - 0s 535us/step - loss: 1.0924 - accuracy: 0.6200\n",
      "Epoch 39/150\n",
      "50/50 [==============================] - 0s 528us/step - loss: 1.0263 - accuracy: 0.6095\n",
      "Epoch 40/150\n",
      "50/50 [==============================] - 0s 526us/step - loss: 0.9391 - accuracy: 0.6445\n",
      "Epoch 41/150\n",
      "50/50 [==============================] - 0s 563us/step - loss: 0.9579 - accuracy: 0.6437\n",
      "Epoch 42/150\n",
      "50/50 [==============================] - 0s 548us/step - loss: 0.9623 - accuracy: 0.5937\n",
      "Epoch 43/150\n",
      "50/50 [==============================] - 0s 530us/step - loss: 0.9714 - accuracy: 0.5921\n",
      "Epoch 44/150\n",
      "50/50 [==============================] - 0s 530us/step - loss: 0.8630 - accuracy: 0.6145\n",
      "Epoch 45/150\n",
      "50/50 [==============================] - 0s 551us/step - loss: 0.8334 - accuracy: 0.6307\n",
      "Epoch 46/150\n",
      "50/50 [==============================] - 0s 571us/step - loss: 0.7973 - accuracy: 0.5899\n",
      "Epoch 47/150\n",
      "50/50 [==============================] - 0s 579us/step - loss: 0.7532 - accuracy: 0.6638\n",
      "Epoch 48/150\n",
      "50/50 [==============================] - 0s 510us/step - loss: 0.7596 - accuracy: 0.6392\n",
      "Epoch 49/150\n",
      "50/50 [==============================] - 0s 530us/step - loss: 0.7088 - accuracy: 0.6265\n",
      "Epoch 50/150\n",
      "50/50 [==============================] - 0s 531us/step - loss: 0.7203 - accuracy: 0.6195\n",
      "Epoch 51/150\n",
      "50/50 [==============================] - 0s 531us/step - loss: 0.7333 - accuracy: 0.6500\n",
      "Epoch 52/150\n",
      "50/50 [==============================] - 0s 530us/step - loss: 0.7315 - accuracy: 0.6215\n",
      "Epoch 53/150\n",
      "50/50 [==============================] - 0s 569us/step - loss: 0.6927 - accuracy: 0.6071\n",
      "Epoch 54/150\n",
      "50/50 [==============================] - 0s 521us/step - loss: 0.6976 - accuracy: 0.6347\n",
      "Epoch 55/150\n",
      "50/50 [==============================] - 0s 546us/step - loss: 0.6502 - accuracy: 0.6725\n",
      "Epoch 56/150\n",
      "50/50 [==============================] - 0s 524us/step - loss: 0.6876 - accuracy: 0.6520\n",
      "Epoch 57/150\n",
      "50/50 [==============================] - 0s 510us/step - loss: 0.6509 - accuracy: 0.6548\n",
      "Epoch 58/150\n",
      "50/50 [==============================] - 0s 494us/step - loss: 0.6392 - accuracy: 0.6663\n",
      "Epoch 59/150\n",
      "50/50 [==============================] - 0s 545us/step - loss: 0.6221 - accuracy: 0.7174\n",
      "Epoch 60/150\n",
      "50/50 [==============================] - 0s 513us/step - loss: 0.6416 - accuracy: 0.6287\n",
      "Epoch 61/150\n",
      "50/50 [==============================] - 0s 534us/step - loss: 0.6731 - accuracy: 0.6167\n",
      "Epoch 62/150\n",
      "50/50 [==============================] - 0s 530us/step - loss: 0.6548 - accuracy: 0.6225\n",
      "Epoch 63/150\n",
      "50/50 [==============================] - 0s 530us/step - loss: 0.6238 - accuracy: 0.6674\n",
      "Epoch 64/150\n",
      "50/50 [==============================] - 0s 530us/step - loss: 0.6456 - accuracy: 0.6488\n",
      "Epoch 65/150\n",
      "50/50 [==============================] - 0s 515us/step - loss: 0.6438 - accuracy: 0.6584\n",
      "Epoch 66/150\n",
      "50/50 [==============================] - 0s 508us/step - loss: 0.6400 - accuracy: 0.6467\n",
      "Epoch 67/150\n",
      "50/50 [==============================] - 0s 510us/step - loss: 0.6149 - accuracy: 0.6870\n",
      "Epoch 68/150\n",
      "50/50 [==============================] - 0s 512us/step - loss: 0.6388 - accuracy: 0.6578\n",
      "Epoch 69/150\n",
      "50/50 [==============================] - 0s 518us/step - loss: 0.6168 - accuracy: 0.6929\n",
      "Epoch 70/150\n",
      "50/50 [==============================] - 0s 551us/step - loss: 0.6670 - accuracy: 0.6174\n",
      "Epoch 71/150\n",
      "50/50 [==============================] - 0s 508us/step - loss: 0.6183 - accuracy: 0.6449\n"
     ]
    },
    {
     "name": "stdout",
     "output_type": "stream",
     "text": [
      "Epoch 72/150\n",
      "50/50 [==============================] - 0s 517us/step - loss: 0.6352 - accuracy: 0.6724\n",
      "Epoch 73/150\n",
      "50/50 [==============================] - 0s 551us/step - loss: 0.6325 - accuracy: 0.6553\n",
      "Epoch 74/150\n",
      "50/50 [==============================] - 0s 559us/step - loss: 0.6168 - accuracy: 0.6517\n",
      "Epoch 75/150\n",
      "50/50 [==============================] - 0s 521us/step - loss: 0.6115 - accuracy: 0.6932\n",
      "Epoch 76/150\n",
      "50/50 [==============================] - 0s 530us/step - loss: 0.6125 - accuracy: 0.6960\n",
      "Epoch 77/150\n",
      "50/50 [==============================] - 0s 536us/step - loss: 0.5991 - accuracy: 0.6729\n",
      "Epoch 78/150\n",
      "50/50 [==============================] - 0s 510us/step - loss: 0.6418 - accuracy: 0.6485\n",
      "Epoch 79/150\n",
      "50/50 [==============================] - 0s 490us/step - loss: 0.6336 - accuracy: 0.6685\n",
      "Epoch 80/150\n",
      "50/50 [==============================] - 0s 525us/step - loss: 0.6078 - accuracy: 0.7177\n",
      "Epoch 81/150\n",
      "50/50 [==============================] - 0s 492us/step - loss: 0.6017 - accuracy: 0.6758\n",
      "Epoch 82/150\n",
      "50/50 [==============================] - 0s 511us/step - loss: 0.6221 - accuracy: 0.6987\n",
      "Epoch 83/150\n",
      "50/50 [==============================] - 0s 530us/step - loss: 0.6121 - accuracy: 0.6742\n",
      "Epoch 84/150\n",
      "50/50 [==============================] - 0s 495us/step - loss: 0.6210 - accuracy: 0.6738\n",
      "Epoch 85/150\n",
      "50/50 [==============================] - 0s 490us/step - loss: 0.6266 - accuracy: 0.6665\n",
      "Epoch 86/150\n",
      "50/50 [==============================] - 0s 509us/step - loss: 0.6336 - accuracy: 0.6610\n",
      "Epoch 87/150\n",
      "50/50 [==============================] - 0s 490us/step - loss: 0.6217 - accuracy: 0.6574\n",
      "Epoch 88/150\n",
      "50/50 [==============================] - 0s 469us/step - loss: 0.6210 - accuracy: 0.6810\n",
      "Epoch 89/150\n",
      "50/50 [==============================] - 0s 529us/step - loss: 0.6655 - accuracy: 0.6313\n",
      "Epoch 90/150\n",
      "50/50 [==============================] - 0s 490us/step - loss: 0.5795 - accuracy: 0.6942\n",
      "Epoch 91/150\n",
      "50/50 [==============================] - 0s 558us/step - loss: 0.6249 - accuracy: 0.6728\n",
      "Epoch 92/150\n",
      "50/50 [==============================] - 0s 517us/step - loss: 0.6143 - accuracy: 0.7115\n",
      "Epoch 93/150\n",
      "50/50 [==============================] - 0s 492us/step - loss: 0.5990 - accuracy: 0.7200\n",
      "Epoch 94/150\n",
      "50/50 [==============================] - 0s 534us/step - loss: 0.6359 - accuracy: 0.6467\n",
      "Epoch 95/150\n",
      "50/50 [==============================] - 0s 533us/step - loss: 0.6134 - accuracy: 0.6696\n",
      "Epoch 96/150\n",
      "50/50 [==============================] - 0s 489us/step - loss: 0.6016 - accuracy: 0.7302\n",
      "Epoch 97/150\n",
      "50/50 [==============================] - 0s 514us/step - loss: 0.6206 - accuracy: 0.6867\n",
      "Epoch 98/150\n",
      "50/50 [==============================] - 0s 524us/step - loss: 0.6371 - accuracy: 0.6690\n",
      "Epoch 99/150\n",
      "50/50 [==============================] - 0s 490us/step - loss: 0.6055 - accuracy: 0.7059\n",
      "Epoch 100/150\n",
      "50/50 [==============================] - 0s 539us/step - loss: 0.6227 - accuracy: 0.6759\n",
      "Epoch 101/150\n",
      "50/50 [==============================] - 0s 529us/step - loss: 0.6322 - accuracy: 0.6804\n",
      "Epoch 102/150\n",
      "50/50 [==============================] - 0s 510us/step - loss: 0.6053 - accuracy: 0.6753\n",
      "Epoch 103/150\n",
      "50/50 [==============================] - 0s 536us/step - loss: 0.6225 - accuracy: 0.6809\n",
      "Epoch 104/150\n",
      "50/50 [==============================] - 0s 530us/step - loss: 0.6088 - accuracy: 0.6944\n",
      "Epoch 105/150\n",
      "50/50 [==============================] - 0s 510us/step - loss: 0.6313 - accuracy: 0.6658\n",
      "Epoch 106/150\n",
      "50/50 [==============================] - 0s 529us/step - loss: 0.5786 - accuracy: 0.7169\n",
      "Epoch 107/150\n",
      "50/50 [==============================] - 0s 513us/step - loss: 0.6365 - accuracy: 0.6712\n",
      "Epoch 108/150\n",
      "50/50 [==============================] - 0s 494us/step - loss: 0.6011 - accuracy: 0.7136\n",
      "Epoch 109/150\n",
      "50/50 [==============================] - 0s 491us/step - loss: 0.6007 - accuracy: 0.6950\n",
      "Epoch 110/150\n",
      "50/50 [==============================] - 0s 482us/step - loss: 0.6127 - accuracy: 0.7083\n",
      "Epoch 111/150\n",
      "50/50 [==============================] - 0s 529us/step - loss: 0.6036 - accuracy: 0.7007\n",
      "Epoch 112/150\n",
      "50/50 [==============================] - 0s 522us/step - loss: 0.5763 - accuracy: 0.7448\n",
      "Epoch 113/150\n",
      "50/50 [==============================] - 0s 520us/step - loss: 0.6090 - accuracy: 0.6938\n",
      "Epoch 114/150\n",
      "50/50 [==============================] - 0s 510us/step - loss: 0.6114 - accuracy: 0.6872\n",
      "Epoch 115/150\n",
      "50/50 [==============================] - 0s 510us/step - loss: 0.6213 - accuracy: 0.6609\n",
      "Epoch 116/150\n",
      "50/50 [==============================] - 0s 539us/step - loss: 0.6268 - accuracy: 0.6844\n",
      "Epoch 117/150\n",
      "50/50 [==============================] - 0s 532us/step - loss: 0.6551 - accuracy: 0.6665\n",
      "Epoch 118/150\n",
      "50/50 [==============================] - 0s 571us/step - loss: 0.6016 - accuracy: 0.6817\n",
      "Epoch 119/150\n",
      "50/50 [==============================] - 0s 510us/step - loss: 0.6561 - accuracy: 0.6527\n",
      "Epoch 120/150\n",
      "50/50 [==============================] - 0s 504us/step - loss: 0.6047 - accuracy: 0.6755\n",
      "Epoch 121/150\n",
      "50/50 [==============================] - 0s 511us/step - loss: 0.6058 - accuracy: 0.6906\n",
      "Epoch 122/150\n",
      "50/50 [==============================] - 0s 478us/step - loss: 0.6137 - accuracy: 0.6829\n",
      "Epoch 123/150\n",
      "50/50 [==============================] - 0s 507us/step - loss: 0.6092 - accuracy: 0.6884\n",
      "Epoch 124/150\n",
      "50/50 [==============================] - 0s 522us/step - loss: 0.6120 - accuracy: 0.6919\n",
      "Epoch 125/150\n",
      "50/50 [==============================] - 0s 502us/step - loss: 0.5748 - accuracy: 0.7151\n",
      "Epoch 126/150\n",
      "50/50 [==============================] - 0s 521us/step - loss: 0.6015 - accuracy: 0.6896\n",
      "Epoch 127/150\n",
      "50/50 [==============================] - 0s 519us/step - loss: 0.5896 - accuracy: 0.6978\n",
      "Epoch 128/150\n",
      "50/50 [==============================] - 0s 491us/step - loss: 0.6062 - accuracy: 0.6869\n",
      "Epoch 129/150\n",
      "50/50 [==============================] - 0s 513us/step - loss: 0.6232 - accuracy: 0.6704\n",
      "Epoch 130/150\n",
      "50/50 [==============================] - 0s 530us/step - loss: 0.5972 - accuracy: 0.6958\n",
      "Epoch 131/150\n",
      "50/50 [==============================] - 0s 508us/step - loss: 0.6077 - accuracy: 0.7039\n",
      "Epoch 132/150\n",
      "50/50 [==============================] - 0s 510us/step - loss: 0.5968 - accuracy: 0.6988\n",
      "Epoch 133/150\n",
      "50/50 [==============================] - 0s 510us/step - loss: 0.6030 - accuracy: 0.6904\n",
      "Epoch 134/150\n",
      "50/50 [==============================] - 0s 512us/step - loss: 0.5833 - accuracy: 0.7040\n",
      "Epoch 135/150\n",
      "50/50 [==============================] - 0s 499us/step - loss: 0.6294 - accuracy: 0.6939\n",
      "Epoch 136/150\n",
      "50/50 [==============================] - 0s 524us/step - loss: 0.5921 - accuracy: 0.7164\n",
      "Epoch 137/150\n",
      "50/50 [==============================] - 0s 525us/step - loss: 0.6207 - accuracy: 0.6640\n",
      "Epoch 138/150\n",
      "50/50 [==============================] - 0s 505us/step - loss: 0.6126 - accuracy: 0.7117\n",
      "Epoch 139/150\n",
      "50/50 [==============================] - 0s 510us/step - loss: 0.5592 - accuracy: 0.7153\n",
      "Epoch 140/150\n",
      "50/50 [==============================] - 0s 510us/step - loss: 0.6044 - accuracy: 0.7043\n",
      "Epoch 141/150\n",
      "50/50 [==============================] - 0s 506us/step - loss: 0.5686 - accuracy: 0.7523\n",
      "Epoch 142/150\n",
      "50/50 [==============================] - 0s 534us/step - loss: 0.6496 - accuracy: 0.6345\n",
      "Epoch 143/150\n",
      "50/50 [==============================] - 0s 528us/step - loss: 0.5810 - accuracy: 0.7258\n",
      "Epoch 144/150\n",
      "50/50 [==============================] - 0s 530us/step - loss: 0.6139 - accuracy: 0.6825\n",
      "Epoch 145/150\n",
      "50/50 [==============================] - 0s 544us/step - loss: 0.5910 - accuracy: 0.6978\n",
      "Epoch 146/150\n",
      "50/50 [==============================] - 0s 530us/step - loss: 0.6258 - accuracy: 0.6706\n",
      "Epoch 147/150\n",
      "50/50 [==============================] - 0s 494us/step - loss: 0.6002 - accuracy: 0.7040\n",
      "Epoch 148/150\n",
      "50/50 [==============================] - 0s 521us/step - loss: 0.5903 - accuracy: 0.7015\n",
      "Epoch 149/150\n",
      "50/50 [==============================] - 0s 506us/step - loss: 0.5829 - accuracy: 0.6970\n",
      "Epoch 150/150\n",
      "50/50 [==============================] - 0s 510us/step - loss: 0.6246 - accuracy: 0.6474\n"
     ]
    },
    {
     "data": {
      "text/plain": [
       "<keras.callbacks.History at 0x2a55424cbe0>"
      ]
     },
     "execution_count": 7,
     "metadata": {},
     "output_type": "execute_result"
    }
   ],
   "source": [
    "4\n",
    "...\n",
    "# fit the keras model on the dataset\n",
    "model.fit(X, y, epochs=150, batch_size=10)"
   ]
  },
  {
   "cell_type": "code",
   "execution_count": 8,
   "id": "lasting-karaoke",
   "metadata": {},
   "outputs": [
    {
     "name": "stdout",
     "output_type": "stream",
     "text": [
      "16/16 [==============================] - 0s 533us/step - loss: 0.5828 - accuracy: 0.7260\n",
      "Accuracy: 72.60\n"
     ]
    }
   ],
   "source": [
    "4\n",
    "...\n",
    "# evaluate the keras model\n",
    "_, accuracy = model.evaluate(X, y)\n",
    "print('Accuracy: %.2f' % (accuracy*100))"
   ]
  },
  {
   "cell_type": "code",
   "execution_count": 9,
   "id": "powerful-swing",
   "metadata": {},
   "outputs": [
    {
     "name": "stdout",
     "output_type": "stream",
     "text": [
      "{'name': 'dense', 'trainable': True, 'dtype': 'float32', 'units': 1, 'activation': 'sigmoid', 'use_bias': True, 'kernel_initializer': {'class_name': 'GlorotUniform', 'config': {'seed': None}}, 'bias_initializer': {'class_name': 'Zeros', 'config': {}}, 'kernel_regularizer': None, 'bias_regularizer': None, 'activity_regularizer': None, 'kernel_constraint': None, 'bias_constraint': None} [array([[ 0.1336686 ],\n",
      "       [ 0.01281627],\n",
      "       [-0.02605827],\n",
      "       [-0.00809638],\n",
      "       [ 0.00042689],\n",
      "       [ 0.02288144],\n",
      "       [ 0.00286406],\n",
      "       [-0.02028321]], dtype=float32), array([-0.8780793], dtype=float32)]\n"
     ]
    }
   ],
   "source": [
    "for layer in model.layers: print(layer.get_config(), layer.get_weights())"
   ]
  },
  {
   "cell_type": "code",
   "execution_count": 10,
   "id": "statutory-response",
   "metadata": {},
   "outputs": [
    {
     "data": {
      "text/plain": [
       "array([[0.20666757],\n",
       "       [0.23457822],\n",
       "       [0.1286436 ],\n",
       "       [0.39137575],\n",
       "       [0.18334338],\n",
       "       [0.34115294],\n",
       "       [0.2919616 ],\n",
       "       [0.4150602 ],\n",
       "       [0.38807353],\n",
       "       [0.28600824]], dtype=float32)"
      ]
     },
     "execution_count": 10,
     "metadata": {},
     "output_type": "execute_result"
    }
   ],
   "source": [
    "predictions = model.predict(X1)\n",
    "predictions[:10]"
   ]
  },
  {
   "cell_type": "code",
   "execution_count": 11,
   "id": "damaged-damages",
   "metadata": {},
   "outputs": [
    {
     "data": {
      "text/plain": [
       "[0, 0, 0, 0, 0, 0, 0, 0, 0, 0]"
      ]
     },
     "execution_count": 11,
     "metadata": {},
     "output_type": "execute_result"
    }
   ],
   "source": [
    "\n",
    "rounded= [round(x[0]) for x in predictions]\n",
    "rounded[:10]"
   ]
  },
  {
   "cell_type": "code",
   "execution_count": 12,
   "id": "altered-korea",
   "metadata": {},
   "outputs": [
    {
     "data": {
      "text/plain": [
       "0.7089552238805971"
      ]
     },
     "execution_count": 12,
     "metadata": {},
     "output_type": "execute_result"
    }
   ],
   "source": [
    "from sklearn.metrics import accuracy_score\n",
    "accuracy_score(y1, rounded)"
   ]
  },
  {
   "cell_type": "code",
   "execution_count": 13,
   "id": "universal-vanilla",
   "metadata": {},
   "outputs": [
    {
     "name": "stdout",
     "output_type": "stream",
     "text": [
      "[0 0 1 0 0 0 1 0 0 0]\n"
     ]
    }
   ],
   "source": [
    "print(y1[:10])"
   ]
  },
  {
   "cell_type": "code",
   "execution_count": null,
   "id": "electronic-creation",
   "metadata": {},
   "outputs": [],
   "source": []
  }
 ],
 "metadata": {
  "kernelspec": {
   "display_name": "Python 3",
   "language": "python",
   "name": "python3"
  },
  "language_info": {
   "codemirror_mode": {
    "name": "ipython",
    "version": 3
   },
   "file_extension": ".py",
   "mimetype": "text/x-python",
   "name": "python",
   "nbconvert_exporter": "python",
   "pygments_lexer": "ipython3",
   "version": "3.9.2"
  }
 },
 "nbformat": 4,
 "nbformat_minor": 5
}
