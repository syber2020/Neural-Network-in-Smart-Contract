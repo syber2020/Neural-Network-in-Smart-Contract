{
 "cells": [
  {
   "cell_type": "code",
   "execution_count": 573,
   "id": "alive-rally",
   "metadata": {
    "scrolled": true
   },
   "outputs": [
    {
     "data": {
      "text/plain": [
       "True"
      ]
     },
     "execution_count": 573,
     "metadata": {},
     "output_type": "execute_result"
    }
   ],
   "source": [
    "import numpy as np\n",
    "import pandas as pd\n",
    "from sklearn.linear_model import Perceptron\n",
    "from keras.models import Sequential\n",
    "from keras.layers import Dense\n",
    "df = pd.read_csv('diabetes.csv',sep = ',')\n",
    "# starting web3 operations\n",
    "import numpy as np\n",
    "import json\n",
    "from web3 import Web3\n",
    "import time\n",
    "ganache_url = \"HTTP://127.0.0.1:8545\"\n",
    "web3 = Web3(Web3.HTTPProvider(ganache_url))\n",
    "web3.isConnected()"
   ]
  },
  {
   "cell_type": "code",
   "execution_count": 574,
   "id": "qualified-matthew",
   "metadata": {},
   "outputs": [],
   "source": [
    "abi = json.loads('[{ \"inputs\": [], \"name\": \"add_print\", \"outputs\": [ { \"internalType\": \"int256\", \"name\": \"x\", \"type\": \"int256\" }, { \"internalType\": \"int256\", \"name\": \"y\", \"type\": \"int256\" } ], \"stateMutability\": \"view\", \"type\": \"function\" }, { \"inputs\": [ { \"internalType\": \"int256[]\", \"name\": \"input\", \"type\": \"int256[]\" }, { \"internalType\": \"int256[]\", \"name\": \"w\", \"type\": \"int256[]\" }, { \"internalType\": \"int256[]\", \"name\": \"b\", \"type\": \"int256[]\" } ], \"name\": \"compute_IXWB\", \"outputs\": [], \"stateMutability\": \"nonpayable\", \"type\": \"function\" }, { \"inputs\": [ { \"internalType\": \"int256\", \"name\": \"a\", \"type\": \"int256\" }, { \"internalType\": \"int256\", \"name\": \"b\", \"type\": \"int256\" }, { \"internalType\": \"int256\", \"name\": \"c\", \"type\": \"int256\" }, { \"internalType\": \"int256\", \"name\": \"d\", \"type\": \"int256\" } ], \"name\": \"compute_addition\", \"outputs\": [], \"stateMutability\": \"nonpayable\", \"type\": \"function\" }, { \"inputs\": [ { \"internalType\": \"int256\", \"name\": \"x\", \"type\": \"int256\" }, { \"internalType\": \"int256\", \"name\": \"y\", \"type\": \"int256\" } ], \"name\": \"compute_lcm\", \"outputs\": [], \"stateMutability\": \"nonpayable\", \"type\": \"function\" }, { \"inputs\": [ { \"internalType\": \"int256\", \"name\": \"d\", \"type\": \"int256\" } ], \"name\": \"compute_sigmoid\", \"outputs\": [], \"stateMutability\": \"nonpayable\", \"type\": \"function\" }, { \"inputs\": [], \"name\": \"lcm_print\", \"outputs\": [ { \"internalType\": \"int256\", \"name\": \"\", \"type\": \"int256\" } ], \"stateMutability\": \"view\", \"type\": \"function\" }, { \"inputs\": [], \"name\": \"predict_print\", \"outputs\": [ { \"internalType\": \"int256\", \"name\": \"\", \"type\": \"int256\" } ], \"stateMutability\": \"view\", \"type\": \"function\" }]')\n",
    "cont_address = \"0xFD9fFdE09432258482C532d80bBDB5c4577dc2DF\"\n",
    "\n",
    "account1 = \"0x37bfB436392DaAE0E91EdcD9c4128FBcADF3919d\"\n",
    "private_key1 = \"e72044de2331844a3c0232dc23d43fb8ca4f555854b4da07e2fb530d003e5e2d\"\n",
    "account2 = \"0xfbD8f1F5878b0b5b3E627e7cc14617b05B582867\"\n",
    "private_key2=\"56c8f569b23a423f9d66d46f86f7ada7ba0d28dfba03c34f661bb15358b042bb\"\n"
   ]
  },
  {
   "cell_type": "code",
   "execution_count": 575,
   "id": "demanding-spoke",
   "metadata": {},
   "outputs": [
    {
     "data": {
      "text/html": [
       "<div>\n",
       "<style scoped>\n",
       "    .dataframe tbody tr th:only-of-type {\n",
       "        vertical-align: middle;\n",
       "    }\n",
       "\n",
       "    .dataframe tbody tr th {\n",
       "        vertical-align: top;\n",
       "    }\n",
       "\n",
       "    .dataframe thead th {\n",
       "        text-align: right;\n",
       "    }\n",
       "</style>\n",
       "<table border=\"1\" class=\"dataframe\">\n",
       "  <thead>\n",
       "    <tr style=\"text-align: right;\">\n",
       "      <th></th>\n",
       "      <th>Pregnancies</th>\n",
       "      <th>Glucose</th>\n",
       "      <th>BloodPressure</th>\n",
       "      <th>SkinThickness</th>\n",
       "      <th>Insulin</th>\n",
       "      <th>BMI</th>\n",
       "      <th>DiabetesPedigreeFunction</th>\n",
       "      <th>Age</th>\n",
       "      <th>Outcome</th>\n",
       "    </tr>\n",
       "  </thead>\n",
       "  <tbody>\n",
       "    <tr>\n",
       "      <th>0</th>\n",
       "      <td>6</td>\n",
       "      <td>148</td>\n",
       "      <td>72</td>\n",
       "      <td>35</td>\n",
       "      <td>0</td>\n",
       "      <td>33</td>\n",
       "      <td>62</td>\n",
       "      <td>50</td>\n",
       "      <td>1</td>\n",
       "    </tr>\n",
       "    <tr>\n",
       "      <th>1</th>\n",
       "      <td>1</td>\n",
       "      <td>85</td>\n",
       "      <td>66</td>\n",
       "      <td>29</td>\n",
       "      <td>0</td>\n",
       "      <td>26</td>\n",
       "      <td>35</td>\n",
       "      <td>31</td>\n",
       "      <td>0</td>\n",
       "    </tr>\n",
       "    <tr>\n",
       "      <th>2</th>\n",
       "      <td>8</td>\n",
       "      <td>183</td>\n",
       "      <td>64</td>\n",
       "      <td>0</td>\n",
       "      <td>0</td>\n",
       "      <td>23</td>\n",
       "      <td>67</td>\n",
       "      <td>32</td>\n",
       "      <td>1</td>\n",
       "    </tr>\n",
       "    <tr>\n",
       "      <th>3</th>\n",
       "      <td>1</td>\n",
       "      <td>89</td>\n",
       "      <td>66</td>\n",
       "      <td>23</td>\n",
       "      <td>94</td>\n",
       "      <td>28</td>\n",
       "      <td>16</td>\n",
       "      <td>21</td>\n",
       "      <td>0</td>\n",
       "    </tr>\n",
       "    <tr>\n",
       "      <th>4</th>\n",
       "      <td>0</td>\n",
       "      <td>137</td>\n",
       "      <td>40</td>\n",
       "      <td>35</td>\n",
       "      <td>168</td>\n",
       "      <td>43</td>\n",
       "      <td>228</td>\n",
       "      <td>33</td>\n",
       "      <td>1</td>\n",
       "    </tr>\n",
       "  </tbody>\n",
       "</table>\n",
       "</div>"
      ],
      "text/plain": [
       "   Pregnancies  Glucose  BloodPressure  SkinThickness  Insulin  BMI  \\\n",
       "0            6      148             72             35        0   33   \n",
       "1            1       85             66             29        0   26   \n",
       "2            8      183             64              0        0   23   \n",
       "3            1       89             66             23       94   28   \n",
       "4            0      137             40             35      168   43   \n",
       "\n",
       "   DiabetesPedigreeFunction  Age  Outcome  \n",
       "0                        62   50        1  \n",
       "1                        35   31        0  \n",
       "2                        67   32        1  \n",
       "3                        16   21        0  \n",
       "4                       228   33        1  "
      ]
     },
     "execution_count": 575,
     "metadata": {},
     "output_type": "execute_result"
    }
   ],
   "source": [
    "df['DiabetesPedigreeFunction'] = df['DiabetesPedigreeFunction']*100\n",
    "df.DiabetesPedigreeFunction = df.DiabetesPedigreeFunction.astype(int)\n",
    "df.BMI = df.BMI.astype(int) \n",
    "df.head()"
   ]
  },
  {
   "cell_type": "code",
   "execution_count": 576,
   "id": "valued-burton",
   "metadata": {
    "scrolled": true
   },
   "outputs": [],
   "source": [
    "dataset = df.to_numpy()\n",
    "\n",
    "X = dataset[:500,0:8]\n",
    "X1 = dataset[500:,0:8]\n",
    "y = dataset[:500,8]\n",
    "y1 = dataset[500:,8]"
   ]
  },
  {
   "cell_type": "code",
   "execution_count": 577,
   "id": "parliamentary-breach",
   "metadata": {},
   "outputs": [
    {
     "name": "stdout",
     "output_type": "stream",
     "text": [
      "[[  6 148  72  35   0  33  62  50]\n",
      " [  1  85  66  29   0  26  35  31]\n",
      " [  8 183  64   0   0  23  67  32]\n",
      " [  1  89  66  23  94  28  16  21]\n",
      " [  0 137  40  35 168  43 228  33]]\n",
      "[1 0 1 0 1]\n"
     ]
    }
   ],
   "source": [
    "print(X[:5])\n",
    "print(y[:5])"
   ]
  },
  {
   "cell_type": "code",
   "execution_count": 578,
   "id": "grateful-influence",
   "metadata": {},
   "outputs": [],
   "source": [
    "# define the keras model\n",
    "model = Sequential()\n",
    "# model.add(Dense(12, input_dim=8, activation='sigmoid'))\n",
    "# model.add(Dense(8, activation='sigmoid'))\n",
    "model.add(Dense(1, activation='sigmoid'))"
   ]
  },
  {
   "cell_type": "code",
   "execution_count": 579,
   "id": "worthy-clearing",
   "metadata": {},
   "outputs": [],
   "source": [
    "# compile the keras model\n",
    "model.compile(loss='binary_crossentropy', optimizer='adam', metrics=['accuracy'])"
   ]
  },
  {
   "cell_type": "code",
   "execution_count": 580,
   "id": "least-harvey",
   "metadata": {},
   "outputs": [
    {
     "name": "stdout",
     "output_type": "stream",
     "text": [
      "Epoch 1/150\n",
      "50/50 [==============================] - 1s 667us/step - loss: 49.5240 - accuracy: 0.3818\n",
      "Epoch 2/150\n",
      "50/50 [==============================] - 0s 547us/step - loss: 40.4884 - accuracy: 0.3609\n",
      "Epoch 3/150\n",
      "50/50 [==============================] - 0s 520us/step - loss: 30.3310 - accuracy: 0.3854\n",
      "Epoch 4/150\n",
      "50/50 [==============================] - 0s 510us/step - loss: 26.0265 - accuracy: 0.3886\n",
      "Epoch 5/150\n",
      "50/50 [==============================] - 0s 544us/step - loss: 24.4727 - accuracy: 0.3355\n",
      "Epoch 6/150\n",
      "50/50 [==============================] - 0s 510us/step - loss: 21.0080 - accuracy: 0.3801\n",
      "Epoch 7/150\n",
      "50/50 [==============================] - 0s 548us/step - loss: 16.7759 - accuracy: 0.4064\n",
      "Epoch 8/150\n",
      "50/50 [==============================] - 0s 530us/step - loss: 14.2493 - accuracy: 0.4272\n",
      "Epoch 9/150\n",
      "50/50 [==============================] - 0s 530us/step - loss: 13.1791 - accuracy: 0.4299\n",
      "Epoch 10/150\n",
      "50/50 [==============================] - 0s 546us/step - loss: 11.4071 - accuracy: 0.4786\n",
      "Epoch 11/150\n",
      "50/50 [==============================] - 0s 530us/step - loss: 10.4789 - accuracy: 0.4705\n",
      "Epoch 12/150\n",
      "50/50 [==============================] - 0s 510us/step - loss: 9.7621 - accuracy: 0.5030\n",
      "Epoch 13/150\n",
      "50/50 [==============================] - 0s 511us/step - loss: 8.9720 - accuracy: 0.4587\n",
      "Epoch 14/150\n",
      "50/50 [==============================] - 0s 544us/step - loss: 7.3085 - accuracy: 0.4856\n",
      "Epoch 15/150\n",
      "50/50 [==============================] - 0s 530us/step - loss: 6.5303 - accuracy: 0.5301\n",
      "Epoch 16/150\n",
      "50/50 [==============================] - 0s 529us/step - loss: 5.5235 - accuracy: 0.5503\n",
      "Epoch 17/150\n",
      "50/50 [==============================] - 0s 510us/step - loss: 5.8602 - accuracy: 0.5093\n",
      "Epoch 18/150\n",
      "50/50 [==============================] - 0s 680us/step - loss: 5.5207 - accuracy: 0.5165\n",
      "Epoch 19/150\n",
      "50/50 [==============================] - 0s 531us/step - loss: 5.5423 - accuracy: 0.5049\n",
      "Epoch 20/150\n",
      "50/50 [==============================] - 0s 542us/step - loss: 5.1989 - accuracy: 0.5361\n",
      "Epoch 21/150\n",
      "50/50 [==============================] - 0s 521us/step - loss: 4.5872 - accuracy: 0.5165\n",
      "Epoch 22/150\n",
      "50/50 [==============================] - 0s 571us/step - loss: 4.4261 - accuracy: 0.5259\n",
      "Epoch 23/150\n",
      "50/50 [==============================] - 0s 510us/step - loss: 4.2896 - accuracy: 0.5273\n",
      "Epoch 24/150\n",
      "50/50 [==============================] - 0s 530us/step - loss: 3.7796 - accuracy: 0.5637\n",
      "Epoch 25/150\n",
      "50/50 [==============================] - 0s 503us/step - loss: 3.5883 - accuracy: 0.5300\n",
      "Epoch 26/150\n",
      "50/50 [==============================] - 0s 514us/step - loss: 3.3287 - accuracy: 0.5243\n",
      "Epoch 27/150\n",
      "50/50 [==============================] - 0s 510us/step - loss: 3.5853 - accuracy: 0.5175\n",
      "Epoch 28/150\n",
      "50/50 [==============================] - 0s 523us/step - loss: 3.4727 - accuracy: 0.5025\n",
      "Epoch 29/150\n",
      "50/50 [==============================] - 0s 634us/step - loss: 3.7323 - accuracy: 0.4738\n",
      "Epoch 30/150\n",
      "50/50 [==============================] - 0s 510us/step - loss: 3.2342 - accuracy: 0.5208\n",
      "Epoch 31/150\n",
      "50/50 [==============================] - 0s 523us/step - loss: 3.0686 - accuracy: 0.5350\n",
      "Epoch 32/150\n",
      "50/50 [==============================] - 0s 533us/step - loss: 3.0369 - accuracy: 0.4864\n",
      "Epoch 33/150\n",
      "50/50 [==============================] - 0s 519us/step - loss: 3.0408 - accuracy: 0.5020\n",
      "Epoch 34/150\n",
      "50/50 [==============================] - 0s 550us/step - loss: 2.4129 - accuracy: 0.5607\n",
      "Epoch 35/150\n",
      "50/50 [==============================] - 0s 530us/step - loss: 3.1367 - accuracy: 0.5146\n",
      "Epoch 36/150\n",
      "50/50 [==============================] - 0s 536us/step - loss: 2.2338 - accuracy: 0.5804\n",
      "Epoch 37/150\n",
      "50/50 [==============================] - 0s 540us/step - loss: 2.5338 - accuracy: 0.5284\n",
      "Epoch 38/150\n",
      "50/50 [==============================] - 0s 504us/step - loss: 2.5422 - accuracy: 0.5147\n",
      "Epoch 39/150\n",
      "50/50 [==============================] - 0s 551us/step - loss: 2.3638 - accuracy: 0.5483\n",
      "Epoch 40/150\n",
      "50/50 [==============================] - 0s 490us/step - loss: 2.1504 - accuracy: 0.5471\n",
      "Epoch 41/150\n",
      "50/50 [==============================] - 0s 524us/step - loss: 2.1296 - accuracy: 0.5281\n",
      "Epoch 42/150\n",
      "50/50 [==============================] - 0s 520us/step - loss: 2.1151 - accuracy: 0.5532\n",
      "Epoch 43/150\n",
      "50/50 [==============================] - 0s 571us/step - loss: 2.0878 - accuracy: 0.4916\n",
      "Epoch 44/150\n",
      "50/50 [==============================] - 0s 564us/step - loss: 2.0432 - accuracy: 0.5146\n",
      "Epoch 45/150\n",
      "50/50 [==============================] - 0s 532us/step - loss: 1.8601 - accuracy: 0.5488\n",
      "Epoch 46/150\n",
      "50/50 [==============================] - 0s 530us/step - loss: 1.9100 - accuracy: 0.5019\n",
      "Epoch 47/150\n",
      "50/50 [==============================] - 0s 531us/step - loss: 1.8305 - accuracy: 0.5312\n",
      "Epoch 48/150\n",
      "50/50 [==============================] - 0s 544us/step - loss: 1.8129 - accuracy: 0.5444\n",
      "Epoch 49/150\n",
      "50/50 [==============================] - 0s 538us/step - loss: 1.6959 - accuracy: 0.5172\n",
      "Epoch 50/150\n",
      "50/50 [==============================] - 0s 650us/step - loss: 1.7012 - accuracy: 0.5224\n",
      "Epoch 51/150\n",
      "50/50 [==============================] - 0s 510us/step - loss: 1.6963 - accuracy: 0.5573\n",
      "Epoch 52/150\n",
      "50/50 [==============================] - 0s 510us/step - loss: 1.8315 - accuracy: 0.5442\n",
      "Epoch 53/150\n",
      "50/50 [==============================] - 0s 511us/step - loss: 1.8590 - accuracy: 0.5103\n",
      "Epoch 54/150\n",
      "50/50 [==============================] - 0s 531us/step - loss: 1.6667 - accuracy: 0.5234\n",
      "Epoch 55/150\n",
      "50/50 [==============================] - 0s 523us/step - loss: 1.3121 - accuracy: 0.5565\n",
      "Epoch 56/150\n",
      "50/50 [==============================] - 0s 520us/step - loss: 1.3174 - accuracy: 0.5816\n",
      "Epoch 57/150\n",
      "50/50 [==============================] - 0s 520us/step - loss: 1.2797 - accuracy: 0.5564\n",
      "Epoch 58/150\n",
      "50/50 [==============================] - 0s 510us/step - loss: 1.2137 - accuracy: 0.5747\n",
      "Epoch 59/150\n",
      "50/50 [==============================] - 0s 510us/step - loss: 1.2369 - accuracy: 0.5624\n",
      "Epoch 60/150\n",
      "50/50 [==============================] - 0s 510us/step - loss: 1.1140 - accuracy: 0.6026\n",
      "Epoch 61/150\n",
      "50/50 [==============================] - 0s 478us/step - loss: 1.0751 - accuracy: 0.5946\n",
      "Epoch 62/150\n",
      "50/50 [==============================] - 0s 533us/step - loss: 1.0769 - accuracy: 0.5923\n",
      "Epoch 63/150\n",
      "50/50 [==============================] - 0s 534us/step - loss: 1.0336 - accuracy: 0.5744\n",
      "Epoch 64/150\n",
      "50/50 [==============================] - 0s 510us/step - loss: 1.1202 - accuracy: 0.5552\n",
      "Epoch 65/150\n",
      "50/50 [==============================] - 0s 517us/step - loss: 0.8433 - accuracy: 0.6300\n",
      "Epoch 66/150\n",
      "50/50 [==============================] - 0s 530us/step - loss: 0.9717 - accuracy: 0.6264\n",
      "Epoch 67/150\n",
      "50/50 [==============================] - 0s 543us/step - loss: 0.9611 - accuracy: 0.5675\n",
      "Epoch 68/150\n",
      "50/50 [==============================] - 0s 530us/step - loss: 0.8450 - accuracy: 0.6380\n",
      "Epoch 69/150\n",
      "50/50 [==============================] - 0s 525us/step - loss: 0.8028 - accuracy: 0.6482\n",
      "Epoch 70/150\n",
      "50/50 [==============================] - 0s 528us/step - loss: 0.8168 - accuracy: 0.6166\n",
      "Epoch 71/150\n",
      "50/50 [==============================] - 0s 516us/step - loss: 0.7728 - accuracy: 0.6100\n",
      "Epoch 72/150\n",
      "50/50 [==============================] - 0s 510us/step - loss: 0.7368 - accuracy: 0.6434\n",
      "Epoch 73/150\n",
      "50/50 [==============================] - 0s 510us/step - loss: 0.7529 - accuracy: 0.6063\n",
      "Epoch 74/150\n",
      "50/50 [==============================] - 0s 530us/step - loss: 0.7589 - accuracy: 0.6318\n",
      "Epoch 75/150\n",
      "50/50 [==============================] - 0s 501us/step - loss: 0.7498 - accuracy: 0.6249\n",
      "Epoch 76/150\n",
      "50/50 [==============================] - 0s 524us/step - loss: 0.6516 - accuracy: 0.6951\n",
      "Epoch 77/150\n",
      "50/50 [==============================] - 0s 531us/step - loss: 0.6603 - accuracy: 0.6538\n",
      "Epoch 78/150\n",
      "50/50 [==============================] - 0s 520us/step - loss: 0.6441 - accuracy: 0.6660\n",
      "Epoch 79/150\n",
      "50/50 [==============================] - 0s 530us/step - loss: 0.6693 - accuracy: 0.6758\n",
      "Epoch 80/150\n",
      "50/50 [==============================] - 0s 531us/step - loss: 0.6434 - accuracy: 0.6835\n",
      "Epoch 81/150\n"
     ]
    },
    {
     "name": "stdout",
     "output_type": "stream",
     "text": [
      "50/50 [==============================] - 0s 510us/step - loss: 0.6603 - accuracy: 0.6655\n",
      "Epoch 82/150\n",
      "50/50 [==============================] - 0s 501us/step - loss: 0.6058 - accuracy: 0.7002\n",
      "Epoch 83/150\n",
      "50/50 [==============================] - 0s 537us/step - loss: 0.5787 - accuracy: 0.7164\n",
      "Epoch 84/150\n",
      "50/50 [==============================] - 0s 530us/step - loss: 0.6341 - accuracy: 0.6690\n",
      "Epoch 85/150\n",
      "50/50 [==============================] - 0s 510us/step - loss: 0.6101 - accuracy: 0.7165\n",
      "Epoch 86/150\n",
      "50/50 [==============================] - 0s 510us/step - loss: 0.6315 - accuracy: 0.6724\n",
      "Epoch 87/150\n",
      "50/50 [==============================] - 0s 637us/step - loss: 0.5989 - accuracy: 0.6807\n",
      "Epoch 88/150\n",
      "50/50 [==============================] - 0s 489us/step - loss: 0.5947 - accuracy: 0.7094\n",
      "Epoch 89/150\n",
      "50/50 [==============================] - 0s 494us/step - loss: 0.5926 - accuracy: 0.7106\n",
      "Epoch 90/150\n",
      "50/50 [==============================] - 0s 632us/step - loss: 0.6040 - accuracy: 0.6879\n",
      "Epoch 91/150\n",
      "50/50 [==============================] - 0s 527us/step - loss: 0.6008 - accuracy: 0.7047\n",
      "Epoch 92/150\n",
      "50/50 [==============================] - 0s 510us/step - loss: 0.5976 - accuracy: 0.6953\n",
      "Epoch 93/150\n",
      "50/50 [==============================] - 0s 530us/step - loss: 0.5990 - accuracy: 0.6913\n",
      "Epoch 94/150\n",
      "50/50 [==============================] - 0s 487us/step - loss: 0.6060 - accuracy: 0.7029\n",
      "Epoch 95/150\n",
      "50/50 [==============================] - 0s 489us/step - loss: 0.6225 - accuracy: 0.6594\n",
      "Epoch 96/150\n",
      "50/50 [==============================] - 0s 511us/step - loss: 0.5842 - accuracy: 0.7206\n",
      "Epoch 97/150\n",
      "50/50 [==============================] - 0s 489us/step - loss: 0.5828 - accuracy: 0.6945\n",
      "Epoch 98/150\n",
      "50/50 [==============================] - 0s 514us/step - loss: 0.5735 - accuracy: 0.7098\n",
      "Epoch 99/150\n",
      "50/50 [==============================] - 0s 505us/step - loss: 0.5796 - accuracy: 0.7426\n",
      "Epoch 100/150\n",
      "50/50 [==============================] - 0s 520us/step - loss: 0.6084 - accuracy: 0.6939\n",
      "Epoch 101/150\n",
      "50/50 [==============================] - 0s 490us/step - loss: 0.6049 - accuracy: 0.7055\n",
      "Epoch 102/150\n",
      "50/50 [==============================] - 0s 511us/step - loss: 0.6278 - accuracy: 0.6995\n",
      "Epoch 103/150\n",
      "50/50 [==============================] - 0s 489us/step - loss: 0.5970 - accuracy: 0.6977\n",
      "Epoch 104/150\n",
      "50/50 [==============================] - 0s 519us/step - loss: 0.5667 - accuracy: 0.6965\n",
      "Epoch 105/150\n",
      "50/50 [==============================] - 0s 530us/step - loss: 0.6056 - accuracy: 0.6918\n",
      "Epoch 106/150\n",
      "50/50 [==============================] - 0s 494us/step - loss: 0.5730 - accuracy: 0.7136\n",
      "Epoch 107/150\n",
      "50/50 [==============================] - 0s 501us/step - loss: 0.5730 - accuracy: 0.7305\n",
      "Epoch 108/150\n",
      "50/50 [==============================] - 0s 505us/step - loss: 0.5515 - accuracy: 0.7332\n",
      "Epoch 109/150\n",
      "50/50 [==============================] - 0s 490us/step - loss: 0.6174 - accuracy: 0.6499\n",
      "Epoch 110/150\n",
      "50/50 [==============================] - 0s 510us/step - loss: 0.6412 - accuracy: 0.6545\n",
      "Epoch 111/150\n",
      "50/50 [==============================] - 0s 510us/step - loss: 0.5721 - accuracy: 0.7212\n",
      "Epoch 112/150\n",
      "50/50 [==============================] - 0s 488us/step - loss: 0.5884 - accuracy: 0.6911\n",
      "Epoch 113/150\n",
      "50/50 [==============================] - 0s 497us/step - loss: 0.5791 - accuracy: 0.7496\n",
      "Epoch 114/150\n",
      "50/50 [==============================] - 0s 530us/step - loss: 0.5440 - accuracy: 0.7337\n",
      "Epoch 115/150\n",
      "50/50 [==============================] - 0s 551us/step - loss: 0.5958 - accuracy: 0.7267\n",
      "Epoch 116/150\n",
      "50/50 [==============================] - 0s 507us/step - loss: 0.5403 - accuracy: 0.7745\n",
      "Epoch 117/150\n",
      "50/50 [==============================] - 0s 492us/step - loss: 0.5798 - accuracy: 0.7215\n",
      "Epoch 118/150\n",
      "50/50 [==============================] - 0s 523us/step - loss: 0.6264 - accuracy: 0.7002\n",
      "Epoch 119/150\n",
      "50/50 [==============================] - 0s 503us/step - loss: 0.5756 - accuracy: 0.7254\n",
      "Epoch 120/150\n",
      "50/50 [==============================] - 0s 482us/step - loss: 0.5652 - accuracy: 0.7351\n",
      "Epoch 121/150\n",
      "50/50 [==============================] - 0s 534us/step - loss: 0.5735 - accuracy: 0.7354\n",
      "Epoch 122/150\n",
      "50/50 [==============================] - 0s 530us/step - loss: 0.5872 - accuracy: 0.6980\n",
      "Epoch 123/150\n",
      "50/50 [==============================] - 0s 530us/step - loss: 0.5921 - accuracy: 0.6987\n",
      "Epoch 124/150\n",
      "50/50 [==============================] - 0s 506us/step - loss: 0.5839 - accuracy: 0.7204\n",
      "Epoch 125/150\n",
      "50/50 [==============================] - 0s 510us/step - loss: 0.5766 - accuracy: 0.7204\n",
      "Epoch 126/150\n",
      "50/50 [==============================] - 0s 502us/step - loss: 0.6122 - accuracy: 0.7000\n",
      "Epoch 127/150\n",
      "50/50 [==============================] - 0s 530us/step - loss: 0.5973 - accuracy: 0.6839\n",
      "Epoch 128/150\n",
      "50/50 [==============================] - 0s 510us/step - loss: 0.6165 - accuracy: 0.6769\n",
      "Epoch 129/150\n",
      "50/50 [==============================] - 0s 530us/step - loss: 0.5493 - accuracy: 0.7413\n",
      "Epoch 130/150\n",
      "50/50 [==============================] - 0s 510us/step - loss: 0.6024 - accuracy: 0.7128\n",
      "Epoch 131/150\n",
      "50/50 [==============================] - 0s 516us/step - loss: 0.6422 - accuracy: 0.6601\n",
      "Epoch 132/150\n",
      "50/50 [==============================] - 0s 499us/step - loss: 0.5884 - accuracy: 0.6954\n",
      "Epoch 133/150\n",
      "50/50 [==============================] - 0s 510us/step - loss: 0.5827 - accuracy: 0.7031\n",
      "Epoch 134/150\n",
      "50/50 [==============================] - 0s 502us/step - loss: 0.6061 - accuracy: 0.6881\n",
      "Epoch 135/150\n",
      "50/50 [==============================] - 0s 551us/step - loss: 0.6063 - accuracy: 0.6817\n",
      "Epoch 136/150\n",
      "50/50 [==============================] - 0s 510us/step - loss: 0.5731 - accuracy: 0.7305\n",
      "Epoch 137/150\n",
      "50/50 [==============================] - 0s 492us/step - loss: 0.6640 - accuracy: 0.6570\n",
      "Epoch 138/150\n",
      "50/50 [==============================] - 0s 515us/step - loss: 0.5955 - accuracy: 0.6955\n",
      "Epoch 139/150\n",
      "50/50 [==============================] - 0s 510us/step - loss: 0.5801 - accuracy: 0.6956\n",
      "Epoch 140/150\n",
      "50/50 [==============================] - 0s 626us/step - loss: 0.5805 - accuracy: 0.7172\n",
      "Epoch 141/150\n",
      "50/50 [==============================] - 0s 510us/step - loss: 0.5712 - accuracy: 0.7270\n",
      "Epoch 142/150\n",
      "50/50 [==============================] - 0s 510us/step - loss: 0.5894 - accuracy: 0.7135\n",
      "Epoch 143/150\n",
      "50/50 [==============================] - 0s 517us/step - loss: 0.5885 - accuracy: 0.7204\n",
      "Epoch 144/150\n",
      "50/50 [==============================] - 0s 490us/step - loss: 0.5625 - accuracy: 0.7057\n",
      "Epoch 145/150\n",
      "50/50 [==============================] - 0s 536us/step - loss: 0.5666 - accuracy: 0.7232\n",
      "Epoch 146/150\n",
      "50/50 [==============================] - 0s 521us/step - loss: 0.5817 - accuracy: 0.7231\n",
      "Epoch 147/150\n",
      "50/50 [==============================] - 0s 512us/step - loss: 0.6158 - accuracy: 0.6881\n",
      "Epoch 148/150\n",
      "50/50 [==============================] - 0s 494us/step - loss: 0.5709 - accuracy: 0.7387\n",
      "Epoch 149/150\n",
      "50/50 [==============================] - 0s 525us/step - loss: 0.5937 - accuracy: 0.7060\n",
      "Epoch 150/150\n",
      "50/50 [==============================] - 0s 548us/step - loss: 0.5676 - accuracy: 0.7419\n"
     ]
    },
    {
     "data": {
      "text/plain": [
       "<keras.callbacks.History at 0x2212e39d280>"
      ]
     },
     "execution_count": 580,
     "metadata": {},
     "output_type": "execute_result"
    }
   ],
   "source": [
    "4\n",
    "...\n",
    "# fit the keras model on the dataset\n",
    "model.fit(X, y, epochs=150, batch_size=10)"
   ]
  },
  {
   "cell_type": "code",
   "execution_count": 581,
   "id": "arranged-superior",
   "metadata": {},
   "outputs": [
    {
     "name": "stdout",
     "output_type": "stream",
     "text": [
      "Model: \"sequential_15\"\n",
      "_________________________________________________________________\n",
      "Layer (type)                 Output Shape              Param #   \n",
      "=================================================================\n",
      "dense_15 (Dense)             (10, 1)                   9         \n",
      "=================================================================\n",
      "Total params: 9\n",
      "Trainable params: 9\n",
      "Non-trainable params: 0\n",
      "_________________________________________________________________\n",
      "None\n"
     ]
    }
   ],
   "source": [
    "print(model.summary())"
   ]
  },
  {
   "cell_type": "code",
   "execution_count": 582,
   "id": "lasting-karaoke",
   "metadata": {},
   "outputs": [
    {
     "name": "stdout",
     "output_type": "stream",
     "text": [
      "16/16 [==============================] - 0s 533us/step - loss: 0.5748 - accuracy: 0.7240\n",
      "Accuracy: 72.40\n"
     ]
    }
   ],
   "source": [
    "4\n",
    "...\n",
    "# evaluate the keras model\n",
    "_, accuracy = model.evaluate(X, y)\n",
    "print('Accuracy: %.2f' % (accuracy*100))"
   ]
  },
  {
   "cell_type": "code",
   "execution_count": 583,
   "id": "tested-hudson",
   "metadata": {},
   "outputs": [
    {
     "name": "stdout",
     "output_type": "stream",
     "text": [
      "{'name': 'dense_15', 'trainable': True, 'dtype': 'float32', 'units': 1, 'activation': 'sigmoid', 'use_bias': True, 'kernel_initializer': {'class_name': 'GlorotUniform', 'config': {'seed': None}}, 'bias_initializer': {'class_name': 'Zeros', 'config': {}}, 'kernel_regularizer': None, 'bias_regularizer': None, 'activity_regularizer': None, 'kernel_constraint': None, 'bias_constraint': None}\n",
      "[array([[ 0.13180472],\n",
      "       [ 0.01522984],\n",
      "       [-0.0241265 ],\n",
      "       [-0.00736459],\n",
      "       [ 0.0004862 ],\n",
      "       [ 0.02817816],\n",
      "       [ 0.0057025 ],\n",
      "       [-0.0167144 ]], dtype=float32), array([-1.4048632], dtype=float32)]\n"
     ]
    }
   ],
   "source": [
    "for layer in model.layers: \n",
    "    print(layer.get_config())\n",
    "    print(layer.get_weights())\n",
    "    \n",
    "    w = layer.get_weights()"
   ]
  },
  {
   "cell_type": "code",
   "execution_count": 584,
   "id": "directed-census",
   "metadata": {},
   "outputs": [],
   "source": [
    "weights = w[0]\n",
    "bias = w[1]"
   ]
  },
  {
   "cell_type": "code",
   "execution_count": 585,
   "id": "intensive-princeton",
   "metadata": {},
   "outputs": [
    {
     "name": "stdout",
     "output_type": "stream",
     "text": [
      "[  2 117  90  19  71  25  31  21]\n"
     ]
    }
   ],
   "source": [
    "print(X1[0])"
   ]
  },
  {
   "cell_type": "code",
   "execution_count": 586,
   "id": "statutory-response",
   "metadata": {},
   "outputs": [],
   "source": [
    "predictions = model.predict(X1)\n",
    "# predictions"
   ]
  },
  {
   "cell_type": "code",
   "execution_count": 587,
   "id": "sharp-alliance",
   "metadata": {},
   "outputs": [],
   "source": [
    "# for i in range(len(predictions)):\n",
    "#     if(predictions[i]>=.5):\n",
    "#         print(i)"
   ]
  },
  {
   "cell_type": "code",
   "execution_count": 588,
   "id": "damaged-damages",
   "metadata": {},
   "outputs": [],
   "source": [
    "\n",
    "rounded= [round(x[0]) for x in predictions]\n",
    "# rounded"
   ]
  },
  {
   "cell_type": "code",
   "execution_count": 589,
   "id": "altered-korea",
   "metadata": {},
   "outputs": [
    {
     "data": {
      "text/plain": [
       "0.75"
      ]
     },
     "execution_count": 589,
     "metadata": {},
     "output_type": "execute_result"
    }
   ],
   "source": [
    "from sklearn.metrics import accuracy_score\n",
    "accuracy_score(y1, rounded)"
   ]
  },
  {
   "cell_type": "code",
   "execution_count": 620,
   "id": "olive-dover",
   "metadata": {},
   "outputs": [
    {
     "name": "stdout",
     "output_type": "stream",
     "text": [
      "              precision    recall  f1-score   support\n",
      "\n",
      "           0       0.81      0.82      0.82       182\n",
      "           1       0.61      0.59      0.60        86\n",
      "\n",
      "    accuracy                           0.75       268\n",
      "   macro avg       0.71      0.71      0.71       268\n",
      "weighted avg       0.75      0.75      0.75       268\n",
      "\n"
     ]
    }
   ],
   "source": [
    "print(classification_report(y1,rounded))"
   ]
  },
  {
   "cell_type": "code",
   "execution_count": 590,
   "id": "advance-jacksonville",
   "metadata": {},
   "outputs": [
    {
     "name": "stdout",
     "output_type": "stream",
     "text": [
      "[0, 0, 0, 0, 0, 0, 0, 1, 0, 0, 0, 0, 0, 0, 0, 1, 1, 0, 1, 0, 0, 0, 1, 1, 1, 0, 0, 0, 0, 0, 1, 0, 0, 1, 0, 1, 0, 0, 0, 0, 0, 0, 0, 0, 0, 1, 1, 0, 0, 0, 0, 0, 0, 0, 0, 0, 0, 0, 1, 0, 0, 1, 0, 0, 0, 0, 0, 0, 1, 0, 0, 0, 0, 0, 0, 0, 1, 0, 1, 0, 0, 0, 0, 0, 1, 0, 1, 0, 1, 1, 1, 0, 0, 1, 1, 1, 0, 1, 1, 0, 0, 1, 0, 1, 1, 0, 1, 0, 0, 0, 0, 1, 1, 0, 1, 0, 0, 0, 1, 1, 0, 0, 1, 0, 0, 0, 0, 0, 0, 0, 1, 0, 0, 0, 1, 1, 0, 0, 1, 0, 0, 1, 0, 1, 0, 1, 0, 1, 1, 0, 0, 0, 0, 0, 0, 1, 0, 0, 0, 0, 1, 1, 0, 1, 0, 0, 0, 0, 0, 1, 1, 0, 0, 1, 0, 1, 1, 0, 1, 0, 0, 1, 0, 0, 0, 0, 0, 0, 0, 0, 0, 1, 1, 1, 0, 0, 1, 1, 0, 1, 0, 0, 0, 1, 0, 0, 1, 1, 1, 0, 1, 0, 1, 0, 0, 1, 1, 0, 0, 0, 0, 0, 0, 0, 0, 0, 0, 0, 0, 0, 0, 0, 1, 0, 0, 0, 0, 0, 0, 0, 1, 1, 0, 1, 1, 0, 0, 0, 1, 1, 1, 0, 0, 1, 1, 0, 0, 0, 0, 1, 0, 1, 0, 0, 0, 0, 0, 0]\n"
     ]
    }
   ],
   "source": [
    "print(rounded)"
   ]
  },
  {
   "cell_type": "code",
   "execution_count": 591,
   "id": "universal-vanilla",
   "metadata": {},
   "outputs": [
    {
     "name": "stdout",
     "output_type": "stream",
     "text": [
      "[0 0 1 0 0 0 1 0 0 0]\n"
     ]
    }
   ],
   "source": [
    "print(y1[:10])"
   ]
  },
  {
   "cell_type": "code",
   "execution_count": 592,
   "id": "interested-penguin",
   "metadata": {},
   "outputs": [
    {
     "data": {
      "text/plain": [
       "array([[ 131., 1000.],\n",
       "       [  15., 1000.],\n",
       "       [ -24., 1000.],\n",
       "       [  -7., 1000.],\n",
       "       [   0., 1000.],\n",
       "       [  28., 1000.],\n",
       "       [   5., 1000.],\n",
       "       [ -16., 1000.]])"
      ]
     },
     "execution_count": 592,
     "metadata": {},
     "output_type": "execute_result"
    }
   ],
   "source": [
    "w = np.zeros((8,2))\n",
    "for i in range(weights.shape[0]):\n",
    "    w[i][0] = int(weights[i][0]*1000)\n",
    "    w[i][1] = 1000\n",
    "w\n"
   ]
  },
  {
   "cell_type": "code",
   "execution_count": 593,
   "id": "marked-treatment",
   "metadata": {},
   "outputs": [],
   "source": [
    "b = []\n",
    "b.append(int(bias*1000))\n",
    "b.append(1000)"
   ]
  },
  {
   "cell_type": "code",
   "execution_count": 594,
   "id": "designed-seventh",
   "metadata": {},
   "outputs": [],
   "source": [
    "def compute_lcm(x, y):\n",
    "   # choose the greater number\n",
    "    if (x > y):\n",
    "        greater = x\n",
    "    else:\n",
    "        greater = y\n",
    "    while(True):\n",
    "        if((greater % x == 0) and (greater % y == 0)):\n",
    "            lcm = greater\n",
    "            break\n",
    "        greater += 1\n",
    "    return lcm"
   ]
  },
  {
   "cell_type": "code",
   "execution_count": 595,
   "id": "wired-words",
   "metadata": {},
   "outputs": [],
   "source": [
    "def addition(a,b,c,d):\n",
    "    den = compute_lcm(b,d)\n",
    "#     den = b*d\n",
    "    num = ((den/b)*a) + ((den/d)*c)\n",
    "#     print(num,den)\n",
    "    return float(num),float(den)\n",
    "        "
   ]
  },
  {
   "cell_type": "code",
   "execution_count": 596,
   "id": "revised-legislation",
   "metadata": {},
   "outputs": [],
   "source": [
    "def IXWB(inputs,w,b):\n",
    "    num=0\n",
    "    den=0\n",
    "    out = np.zeros((inputs.shape[0],1))\n",
    "    for i in range(inputs.shape[0]):\n",
    "#     for i in range(10):\n",
    "#         print(inputs[i][0],w)\n",
    "        for j in range(inputs.shape[1]):\n",
    "            num = num + inputs[i][j]*w[j][0]\n",
    "            den = w[0][1]\n",
    "        num,den = addition(num,den,b[0],b[1])\n",
    "        out[i][0] = num\n",
    "#         out[i][1] = den\n",
    "        num =0\n",
    "        den =0\n",
    "    return out"
   ]
  },
  {
   "cell_type": "code",
   "execution_count": 597,
   "id": "purple-jimmy",
   "metadata": {},
   "outputs": [
    {
     "name": "stdout",
     "output_type": "stream",
     "text": [
      "[  2 117  90  19  71  25  31  21]\n",
      "-1404\n"
     ]
    }
   ],
   "source": [
    "print(X1[0])\n",
    "print(b[0])"
   ]
  },
  {
   "cell_type": "code",
   "execution_count": 598,
   "id": "elementary-journal",
   "metadata": {},
   "outputs": [],
   "source": [
    "test = IXWB(X1,w,b)\n",
    "# print(test)"
   ]
  },
  {
   "cell_type": "code",
   "execution_count": 599,
   "id": "demonstrated-target",
   "metadata": {},
   "outputs": [],
   "source": [
    "# for i in range(len(test)):\n",
    "#     if(test[i][0]>0):\n",
    "#         print(i)"
   ]
  },
  {
   "cell_type": "code",
   "execution_count": 600,
   "id": "passing-opinion",
   "metadata": {},
   "outputs": [],
   "source": [
    "def sigmoidfrac(x):\n",
    "    if(x>=0):\n",
    "        return 1\n",
    "    else:\n",
    "        return 0"
   ]
  },
  {
   "cell_type": "code",
   "execution_count": 601,
   "id": "ignored-template",
   "metadata": {},
   "outputs": [],
   "source": [
    "out = []\n",
    "for i in range(test.shape[0]):\n",
    "    out.append(sigmoidfrac(test[i][0]))\n",
    "# out"
   ]
  },
  {
   "cell_type": "code",
   "execution_count": 602,
   "id": "guilty-simpson",
   "metadata": {},
   "outputs": [
    {
     "data": {
      "text/plain": [
       "0.7574626865671642"
      ]
     },
     "execution_count": 602,
     "metadata": {},
     "output_type": "execute_result"
    }
   ],
   "source": [
    "from sklearn.metrics import accuracy_score\n",
    "accuracy_score(y1, out)"
   ]
  },
  {
   "cell_type": "code",
   "execution_count": 603,
   "id": "horizontal-decade",
   "metadata": {},
   "outputs": [
    {
     "data": {
      "text/plain": [
       "array([[159,  23],\n",
       "       [ 42,  44]], dtype=int64)"
      ]
     },
     "execution_count": 603,
     "metadata": {},
     "output_type": "execute_result"
    }
   ],
   "source": [
    "\n",
    "from sklearn.metrics import confusion_matrix\n",
    "from sklearn.metrics import classification_report\n",
    "confusion_matrix(y1,out)"
   ]
  },
  {
   "cell_type": "code",
   "execution_count": 604,
   "id": "brazilian-yorkshire",
   "metadata": {},
   "outputs": [
    {
     "data": {
      "text/plain": [
       "<AxesSubplot:>"
      ]
     },
     "execution_count": 604,
     "metadata": {},
     "output_type": "execute_result"
    },
    {
     "data": {
      "image/png": "[encoded data removed]",
      "text/plain": [
       "<Figure size 432x288 with 2 Axes>"
      ]
     },
     "metadata": {
      "needs_background": "light"
     },
     "output_type": "display_data"
    }
   ],
   "source": [
    "from sklearn.metrics import confusion_matrix\n",
    "from sklearn.metrics import classification_report\n",
    "cf_matrix = confusion_matrix(y1,out)\n",
    "sns.heatmap(cf_matrix/np.sum(cf_matrix), annot=True, \n",
    "            fmt='.2%', cmap='Blues')"
   ]
  },
  {
   "cell_type": "code",
   "execution_count": 605,
   "id": "dependent-graphic",
   "metadata": {},
   "outputs": [],
   "source": [
    "weight = new_weight.tolist()"
   ]
  },
  {
   "cell_type": "code",
   "execution_count": 606,
   "id": "capable-grass",
   "metadata": {},
   "outputs": [
    {
     "name": "stdout",
     "output_type": "stream",
     "text": [
      "[[ 0.13180472]\n",
      " [ 0.01522984]\n",
      " [-0.0241265 ]\n",
      " [-0.00736459]\n",
      " [ 0.0004862 ]\n",
      " [ 0.02817816]\n",
      " [ 0.0057025 ]\n",
      " [-0.0167144 ]]\n",
      "[-1.4048632]\n"
     ]
    }
   ],
   "source": [
    "print(weights)\n",
    "print(bias)"
   ]
  },
  {
   "cell_type": "code",
   "execution_count": 607,
   "id": "ordinary-optimum",
   "metadata": {},
   "outputs": [],
   "source": [
    "# # def sigmoid_tx(acc,pk,X_input,weight,bias,cont_address,abi):\n",
    "# contract = web3.eth.contract(address=cont_address,abi=abi)\n",
    "# # getting IXWB\n",
    "# nonce = web3.eth.getTransactionCount(account1)\n",
    "# print(type(X_input),type(weight),type(bias))\n",
    "# tx_IXWB = contract.functions.compute_IXWB(X_input,weight,bias\n",
    "#     ).buildTransaction({\n",
    "#     'gas': 100000,\n",
    "#     'gasPrice': web3.toWei('1', 'gwei'),\n",
    "#     'from': account1,\n",
    "#     'nonce': nonce\n",
    "#     }) \n",
    "# signed_txn = web3.eth.account.signTransaction(tx_IXWB, private_key=private_key1)\n",
    "# start_time = time.time()\n",
    "# tx_hash = web3.eth.sendRawTransaction(signed_txn.rawTransaction)\n",
    "# tx_receipt = web3.eth.waitForTransactionReceipt(tx_hash)\n",
    "# end_time = time.time()\n",
    "# print(end_time -start_time)\n",
    "# out_num,out_den = contract.functions.add_print().call()\n",
    "\n",
    "# # getting sigmoid\n",
    "# nonce= web3.eth.getTransactionCount(account1)\n",
    "# tx_sigmoid = contract.functions.compute_sigmoid(\n",
    "#     out_num\n",
    "#      ).buildTransaction({\n",
    "#     'gas': 70000,\n",
    "#     'gasPrice': web3.toWei('1', 'gwei'),\n",
    "#     'from': account1,\n",
    "#     'nonce': nonce\n",
    "#     }) \n",
    "# signed_txn = web3.eth.account.signTransaction(tx_sigmoid, private_key=private_key1)\n",
    "# start_time = time.time()\n",
    "# tx_hash = web3.eth.sendRawTransaction(signed_txn.rawTransaction)\n",
    "# tx_receipt = web3.eth.waitForTransactionReceipt(tx_hash)\n",
    "# end_time = time.time()\n",
    "# print(end_time -start_time)\n",
    "# pred = contract.functions.predict_print().call()\n",
    "# #     return pred"
   ]
  },
  {
   "cell_type": "code",
   "execution_count": 608,
   "id": "brazilian-teens",
   "metadata": {},
   "outputs": [
    {
     "name": "stdout",
     "output_type": "stream",
     "text": [
      "[[  2 117  90 ...  25  31  21]\n",
      " [  3  84  72 ...  37  26  28]\n",
      " [  6   0  68 ...  39  72  41]\n",
      " ...\n",
      " [  5 121  72 ...  26  24  30]\n",
      " [  1 126  60 ...  30  34  47]\n",
      " [  1  93  70 ...  30  31  23]] [131, 15, -24, -7, 0, 28, 5, -16] [-1404, 1000]\n"
     ]
    }
   ],
   "source": [
    "# print (X1, w,b,)\n",
    "# b = b.tolist()\n",
    "nw  = w[:,0].astype(int)\n",
    "nw = nw.tolist()\n",
    "print (X1, nw,b)"
   ]
  },
  {
   "cell_type": "code",
   "execution_count": 609,
   "id": "exposed-score",
   "metadata": {},
   "outputs": [],
   "source": [
    "pred =[]\n",
    "IXWB_time=[]\n",
    "sigmoid_time=[]\n",
    "IXWB_gasuse=[]\n",
    "sigmoid_gasuse=[]\n",
    "\n",
    "for i in range(X1.shape[0]):\n",
    "    # getting IXWB\n",
    "    inputs = X1[i].tolist()\n",
    "#     pred.append(sigmoid_tx(account1, private_key1,inputs,weight,bias,cont_address,abi))\n",
    "    contract = web3.eth.contract(address=cont_address,abi=abi)\n",
    "#     print(inputs,nw,b)\n",
    "    nonce = web3.eth.getTransactionCount(account2)\n",
    "#     print(type(inputs),type(nw),type(b))\n",
    "    tx_IXWB = contract.functions.compute_IXWB(\n",
    "        inputs,nw,b\n",
    "        ).buildTransaction({\n",
    "        'gas': 1000000,\n",
    "        'gasPrice': web3.toWei('10', 'gwei'),\n",
    "        'from': account2,\n",
    "        'nonce': nonce\n",
    "        }) \n",
    "    signed_txn = web3.eth.account.signTransaction(tx_IXWB, private_key=private_key2)\n",
    "    start_time = time.time()\n",
    "    tx_hash = web3.eth.sendRawTransaction(signed_txn.rawTransaction)\n",
    "    tx_receipt = web3.eth.waitForTransactionReceipt(tx_hash)\n",
    "    end_time = time.time()\n",
    "    IXWB_time.append(end_time -start_time)\n",
    "    IXWB_gasuse.append(tx_receipt.gasUsed)\n",
    "    out_num,out_den = contract.functions.add_print().call()\n",
    "\n",
    "    # getting sigmoid\n",
    "    nonce= web3.eth.getTransactionCount(account2)\n",
    "    tx_sigmoid = contract.functions.compute_sigmoid(\n",
    "        out_num\n",
    "         ).buildTransaction({\n",
    "        'gas': 1000000,\n",
    "        'gasPrice': web3.toWei('10', 'gwei'),\n",
    "        'from': account2,\n",
    "        'nonce': nonce\n",
    "        }) \n",
    "    signed_txn = web3.eth.account.signTransaction(tx_sigmoid, private_key=private_key2)\n",
    "    start_time = time.time()\n",
    "    tx_hash = web3.eth.sendRawTransaction(signed_txn.rawTransaction)\n",
    "    tx_receipt = web3.eth.waitForTransactionReceipt(tx_hash)\n",
    "    end_time = time.time()\n",
    "    sigmoid_time.append(end_time -start_time)\n",
    "    sigmoid_gasuse.append(tx_receipt.gasUsed)\n",
    "    pred.append(contract.functions.predict_print().call())\n",
    "    inputs.clear()\n",
    "   "
   ]
  },
  {
   "cell_type": "code",
   "execution_count": 610,
   "id": "complete-unknown",
   "metadata": {},
   "outputs": [
    {
     "name": "stdout",
     "output_type": "stream",
     "text": [
      "[0, 0, 0, 0, 0, 0, 0, 0, 0, 0, 0, 0, 0, 0, 0, 1, 0, 0, 1, 0, 0, 0, 1, 1, 1, 0, 0, 0, 0, 0, 0, 0, 0, 1, 0, 1, 0, 0, 0, 0, 0, 0, 0, 0, 0, 1, 1, 0, 0, 0, 0, 0, 0, 0, 0, 0, 0, 0, 1, 0, 0, 1, 0, 0, 0, 0, 0, 0, 0, 0, 0, 0, 0, 0, 0, 0, 1, 0, 1, 0, 0, 0, 0, 0, 0, 0, 1, 0, 1, 1, 1, 0, 0, 0, 0, 1, 0, 1, 0, 0, 0, 1, 0, 1, 1, 0, 1, 0, 0, 0, 0, 1, 1, 0, 1, 0, 0, 0, 0, 1, 0, 0, 1, 0, 0, 0, 0, 0, 0, 0, 1, 0, 0, 0, 1, 1, 0, 0, 0, 0, 0, 1, 0, 1, 0, 0, 0, 1, 1, 0, 0, 0, 0, 0, 0, 1, 0, 0, 0, 0, 1, 1, 0, 1, 0, 0, 0, 0, 0, 1, 1, 0, 0, 0, 0, 1, 0, 0, 1, 0, 0, 1, 0, 0, 0, 0, 0, 0, 0, 0, 0, 1, 0, 1, 0, 0, 1, 1, 0, 1, 0, 0, 0, 1, 0, 0, 1, 1, 1, 0, 1, 0, 1, 0, 0, 1, 1, 0, 0, 0, 0, 0, 0, 0, 0, 0, 0, 0, 0, 0, 0, 0, 1, 0, 0, 0, 0, 0, 0, 0, 1, 0, 0, 1, 1, 0, 0, 0, 1, 1, 1, 0, 0, 0, 1, 0, 0, 0, 0, 1, 0, 1, 0, 0, 0, 0, 0, 0]\n"
     ]
    }
   ],
   "source": [
    "print(pred)"
   ]
  },
  {
   "cell_type": "code",
   "execution_count": 611,
   "id": "decent-dynamics",
   "metadata": {},
   "outputs": [
    {
     "name": "stdout",
     "output_type": "stream",
     "text": [
      "0.7574626865671642\n"
     ]
    }
   ],
   "source": [
    "print(accuracy_score(y1, pred))"
   ]
  },
  {
   "cell_type": "code",
   "execution_count": 612,
   "id": "medium-gates",
   "metadata": {},
   "outputs": [
    {
     "name": "stdout",
     "output_type": "stream",
     "text": [
      "[0.21686601638793945, 0.17762517929077148, 0.2905142307281494, 0.178236722946167, 0.1456315517425537, 0.09760689735412598, 0.20308279991149902, 0.2582080364227295, 0.15616297721862793, 0.16323399543762207, 0.11991190910339355, 0.13579106330871582, 0.12622570991516113, 0.1292877197265625, 0.18892669677734375, 0.20916271209716797, 0.1888282299041748, 0.1309053897857666, 0.20672369003295898, 0.14614558219909668, 0.14429521560668945, 0.1764991283416748, 0.188981294631958, 0.15928101539611816, 0.17954707145690918, 0.27723240852355957, 0.11323952674865723, 0.20530056953430176, 0.1380760669708252, 0.17032980918884277, 0.1530451774597168, 0.18718481063842773, 0.22796130180358887, 0.10522246360778809, 0.19834184646606445, 0.2807953357696533, 0.17554426193237305, 0.13833951950073242, 0.1551833152770996, 0.1982097625732422, 0.1412515640258789, 0.2418837547302246, 0.1467456817626953, 0.08312439918518066, 0.1931777000427246, 0.16559958457946777, 0.17797517776489258, 0.19061613082885742, 0.2024071216583252, 0.15947985649108887, 0.12592458724975586, 0.14213085174560547, 0.14126181602478027, 0.17405223846435547, 0.18181824684143066, 0.1403183937072754, 0.1086435317993164, 0.22314929962158203, 0.14291787147521973, 0.15791082382202148, 0.1244502067565918, 0.1849522590637207, 0.20174121856689453, 0.19784832000732422, 0.18530678749084473, 0.12683749198913574, 0.12046122550964355, 0.1022787094116211, 0.17828917503356934, 0.1455526351928711, 0.2286829948425293, 0.14609384536743164, 0.1444094181060791, 0.15625596046447754, 0.10655570030212402, 0.12895464897155762, 0.2489025592803955, 0.23060393333435059, 0.16078734397888184, 0.20566463470458984, 0.23949909210205078, 0.18503332138061523, 0.1644754409790039, 0.14710593223571777, 0.2043323516845703, 0.19683361053466797, 0.1705484390258789, 0.15949058532714844, 0.23928499221801758, 0.16094446182250977, 0.18485188484191895, 0.1614832878112793, 0.14249324798583984, 0.15612292289733887, 0.2096395492553711, 0.12484908103942871, 0.10648345947265625, 0.18489456176757812, 0.20254278182983398, 0.2105731964111328, 0.19189023971557617, 0.14515209197998047, 0.15482163429260254, 0.0947408676147461, 0.161207914352417, 0.12736153602600098, 0.10959696769714355, 0.21787476539611816, 0.11039185523986816, 0.10545063018798828, 0.15509963035583496, 0.1724226474761963, 0.09452581405639648, 0.16864371299743652, 0.17252516746520996, 0.12791061401367188, 0.15847349166870117, 0.21387910842895508, 0.17287158966064453, 0.22081947326660156, 0.15798664093017578, 0.12436938285827637, 0.21599173545837402, 0.22908782958984375, 0.15366888046264648, 0.11234068870544434, 0.18430471420288086, 0.1096186637878418, 0.11441898345947266, 0.12900900840759277, 0.1553966999053955, 0.16737008094787598, 0.17389965057373047, 0.1847374439239502, 0.14138126373291016, 0.17221355438232422, 0.15177631378173828, 0.14355802536010742, 0.12792658805847168, 0.2115941047668457, 0.11353039741516113, 0.2754073143005371, 0.13148045539855957, 0.1863417625427246, 0.17037057876586914, 0.1787889003753662, 0.22783350944519043, 0.20192575454711914, 0.23463845252990723, 0.19532489776611328, 0.11465644836425781, 0.11074495315551758, 0.15634775161743164, 0.11095046997070312, 0.11973357200622559, 0.11468791961669922, 0.14826583862304688, 0.22809362411499023, 0.13300681114196777, 0.17527389526367188, 0.16028141975402832, 0.11577010154724121, 0.16608166694641113, 0.25585317611694336, 0.2026205062866211, 0.14718246459960938, 0.21246671676635742, 0.1969907283782959, 0.19075369834899902, 0.10376763343811035, 0.24529218673706055, 0.14431190490722656, 0.11630368232727051, 0.16051840782165527, 0.10912728309631348, 0.15014100074768066, 0.14063644409179688, 0.1434612274169922, 0.196946382522583, 0.11072993278503418, 0.2397615909576416, 0.14505934715270996, 0.14517688751220703, 0.17333126068115234, 0.12462949752807617, 0.10989260673522949, 0.17886638641357422, 0.18911194801330566, 0.13995838165283203, 0.17469286918640137, 0.1418459415435791, 0.2055363655090332, 0.12315964698791504, 0.1741180419921875, 0.1638638973236084, 0.11475229263305664, 0.1877880096435547, 0.17183685302734375, 0.16054725646972656, 0.22148752212524414, 0.1302347183227539, 0.21828866004943848, 0.17475056648254395, 0.2188558578491211, 0.21829009056091309, 0.16530513763427734, 0.17118048667907715, 0.2274618148803711, 0.16581368446350098, 0.22504162788391113, 0.24160504341125488, 0.19865846633911133, 0.1803267002105713, 0.16168951988220215, 0.13881492614746094, 0.1507408618927002, 0.19057083129882812, 0.19827842712402344, 0.20719385147094727, 0.17074346542358398, 0.08173966407775879, 0.17833971977233887, 0.1832118034362793, 0.14077425003051758, 0.1644747257232666, 0.14513802528381348, 0.1124105453491211, 0.11657094955444336, 0.1397864818572998, 0.18080449104309082, 0.19368767738342285, 0.1572716236114502, 0.2571067810058594, 0.10268616676330566, 0.1390681266784668, 0.15619754791259766, 0.231475830078125, 0.12170267105102539, 0.11352849006652832, 0.11533236503601074, 0.20965075492858887, 0.19624018669128418, 0.16518616676330566, 0.1863555908203125, 0.18952608108520508, 0.16353368759155273, 0.12159895896911621, 0.21205830574035645, 0.11407852172851562, 0.12555384635925293, 0.15427112579345703, 0.09424853324890137, 0.17357277870178223, 0.20993876457214355, 0.16827130317687988, 0.2548518180847168, 0.15767979621887207, 0.19854187965393066, 0.19666409492492676, 0.1946091651916504, 0.18011808395385742, 0.17450881004333496, 0.10057640075683594, 0.18482208251953125, 0.08280134201049805, 0.17847108840942383, 0.22565102577209473, 0.14626502990722656]\n",
      "[22642, 22642, 22642, 22642, 22642, 22642, 22642, 22642, 22642, 22642, 22642, 22642, 22642, 22642, 22642, 41480, 13421, 22642, 41492, 13421, 22642, 22642, 41492, 22292, 22280, 13421, 22642, 22642, 22642, 22642, 22642, 22642, 22642, 41492, 13421, 41492, 13421, 22642, 22642, 22642, 22642, 22642, 22642, 22642, 22642, 41492, 22292, 13421, 22642, 22642, 22642, 22642, 22642, 22642, 22642, 22642, 22642, 22642, 41492, 13421, 22642, 41492, 13421, 22642, 22642, 22642, 22642, 22642, 22642, 22642, 22642, 22642, 22642, 22642, 22642, 22642, 41492, 13421, 41492, 13421, 22642, 22642, 22642, 22642, 22642, 22642, 41492, 13421, 41480, 22280, 22292, 13421, 22642, 22642, 22642, 41480, 13421, 41480, 13421, 22642, 22642, 41492, 13421, 41480, 22292, 13421, 41492, 13421, 22642, 22642, 22642, 41492, 22292, 13421, 41492, 13421, 22642, 22642, 22642, 41492, 13421, 22642, 41492, 13421, 22642, 22642, 22642, 22642, 22642, 22642, 41492, 13421, 22642, 22642, 41480, 22292, 13421, 22642, 22642, 22642, 22642, 41480, 13421, 41492, 13421, 22642, 22642, 41492, 22280, 13421, 22642, 22642, 22642, 22642, 22642, 41492, 13421, 22642, 22642, 22642, 41492, 22292, 13421, 41492, 13421, 22642, 22642, 22642, 22642, 41480, 22292, 13421, 22642, 22642, 22642, 41492, 13421, 22642, 41480, 13421, 22642, 41480, 13421, 22642, 22642, 22642, 22642, 22642, 22642, 22642, 22642, 41492, 13421, 41480, 13421, 22642, 41480, 22292, 13421, 41492, 13421, 22642, 22642, 41492, 13421, 22642, 41492, 22280, 22292, 13421, 41492, 13421, 41492, 13421, 22642, 41492, 22292, 13421, 22642, 22642, 22642, 22642, 22642, 22642, 22642, 22642, 22642, 22642, 22642, 22642, 22642, 22642, 41492, 13421, 22642, 22642, 22642, 22642, 22642, 22642, 41492, 13421, 22642, 41480, 22292, 13421, 22642, 22642, 41492, 22292, 22292, 13421, 22642, 22642, 41480, 13421, 22642, 22642, 22642, 41480, 13421, 41492, 13421, 22642, 22642, 22642, 22642, 22642]\n"
     ]
    }
   ],
   "source": [
    "print(sigmoid_time)\n",
    "print(sigmoid_gasuse)"
   ]
  },
  {
   "cell_type": "code",
   "execution_count": 613,
   "id": "twelve-greeting",
   "metadata": {},
   "outputs": [],
   "source": [
    "import pandas as pd\n",
    "df = pd.DataFrame(sigmoid_time)\n",
    "df.to_csv(\"testfile\",index=False)\n"
   ]
  },
  {
   "cell_type": "code",
   "execution_count": 614,
   "id": "great-engineering",
   "metadata": {},
   "outputs": [],
   "source": [
    "# a = pd.DataFrame(sigmoid_time)\n",
    "# a.to_csv(\"sigmoid_time_ganache.csv\",index=False)\n",
    "# a = pd.DataFrame(sigmoid_gasuse)\n",
    "# a.to_csv(\"sigmoid_gasuse_ganache.csv\",index=False)\n",
    "# a = pd.DataFrame(IXWB_time)\n",
    "# a.to_csv(\"IXWB_time_ganache.csv\",index=False)\n",
    "# a = pd.DataFrame(IXWB_gasuse)\n",
    "# a.to_csv(\"IXWB_gasuse_ganache.csv\",index=False)"
   ]
  },
  {
   "cell_type": "code",
   "execution_count": 615,
   "id": "floating-lebanon",
   "metadata": {},
   "outputs": [],
   "source": [
    "from sklearn.metrics import confusion_matrix\n",
    "from sklearn.metrics import classification_report\n",
    "cf_matrix = confusion_matrix(y1,pred)"
   ]
  },
  {
   "cell_type": "code",
   "execution_count": 616,
   "id": "simple-carry",
   "metadata": {},
   "outputs": [
    {
     "data": {
      "text/plain": [
       "<AxesSubplot:>"
      ]
     },
     "execution_count": 616,
     "metadata": {},
     "output_type": "execute_result"
    },
    {
     "data": {
      "image/png": "[encoded data removed]",
      "text/plain": [
       "<Figure size 432x288 with 2 Axes>"
      ]
     },
     "metadata": {
      "needs_background": "light"
     },
     "output_type": "display_data"
    }
   ],
   "source": [
    "import seaborn as sns\n",
    "sns.heatmap(cf_matrix, annot=True)"
   ]
  },
  {
   "cell_type": "code",
   "execution_count": 617,
   "id": "sustainable-month",
   "metadata": {},
   "outputs": [
    {
     "data": {
      "text/plain": [
       "<AxesSubplot:>"
      ]
     },
     "execution_count": 617,
     "metadata": {},
     "output_type": "execute_result"
    },
    {
     "data": {
      "image/png": "[encoded data removed]",
      "text/plain": [
       "<Figure size 432x288 with 2 Axes>"
      ]
     },
     "metadata": {
      "needs_background": "light"
     },
     "output_type": "display_data"
    }
   ],
   "source": [
    "sns.heatmap(cf_matrix/np.sum(cf_matrix), annot=True, \n",
    "            fmt='.2%', cmap='Blues')"
   ]
  },
  {
   "cell_type": "code",
   "execution_count": 618,
   "id": "broken-inventory",
   "metadata": {},
   "outputs": [
    {
     "name": "stdout",
     "output_type": "stream",
     "text": [
      "              precision    recall  f1-score   support\n",
      "\n",
      "           0       0.79      0.87      0.83       182\n",
      "           1       0.66      0.51      0.58        86\n",
      "\n",
      "    accuracy                           0.76       268\n",
      "   macro avg       0.72      0.69      0.70       268\n",
      "weighted avg       0.75      0.76      0.75       268\n",
      "\n"
     ]
    }
   ],
   "source": [
    "print(classification_report(y1,pred))"
   ]
  },
  {
   "cell_type": "code",
   "execution_count": null,
   "id": "fossil-involvement",
   "metadata": {},
   "outputs": [],
   "source": []
  }
 ],
 "metadata": {
  "kernelspec": {
   "display_name": "Python 3",
   "language": "python",
   "name": "python3"
  },
  "language_info": {
   "codemirror_mode": {
    "name": "ipython",
    "version": 3
   },
   "file_extension": ".py",
   "mimetype": "text/x-python",
   "name": "python",
   "nbconvert_exporter": "python",
   "pygments_lexer": "ipython3",
   "version": "3.9.2"
  }
 },
 "nbformat": 4,
 "nbformat_minor": 5
}
