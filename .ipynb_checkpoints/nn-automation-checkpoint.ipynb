{
 "cells": [
  {
   "cell_type": "code",
   "execution_count": 112,
   "id": "convertible-daily",
   "metadata": {},
   "outputs": [
    {
     "data": {
      "text/plain": [
       "True"
      ]
     },
     "execution_count": 112,
     "metadata": {},
     "output_type": "execute_result"
    }
   ],
   "source": [
    "# starting web3 operations\n",
    "import numpy as np\n",
    "import json\n",
    "from web3 import Web3\n",
    "import time\n",
    "ganache_url = \"HTTP://127.0.0.1:8545\"\n",
    "web3 = Web3(Web3.HTTPProvider(ganache_url))\n",
    "web3.isConnected()"
   ]
  },
  {
   "cell_type": "code",
   "execution_count": 113,
   "id": "usual-madagascar",
   "metadata": {},
   "outputs": [
    {
     "name": "stdout",
     "output_type": "stream",
     "text": [
      "99.993124312\n"
     ]
    }
   ],
   "source": [
    "# Basic web3 \n",
    "block = web3.eth.get_block('latest')\n",
    "balance_1 = web3.eth.getBalance(\"0x37bfB436392DaAE0E91EdcD9c4128FBcADF3919d\")\n",
    "print(web3.fromWei(balance_1,'ether'))"
   ]
  },
  {
   "cell_type": "code",
   "execution_count": 114,
   "id": "insured-broadcasting",
   "metadata": {},
   "outputs": [],
   "source": [
    "abi = json.loads('[{ \"inputs\": [], \"name\": \"add_print\", \"outputs\": [ { \"internalType\": \"int256\", \"name\": \"x\", \"type\": \"int256\" }, { \"internalType\": \"int256\", \"name\": \"y\", \"type\": \"int256\" } ], \"stateMutability\": \"view\", \"type\": \"function\" }, { \"inputs\": [ { \"internalType\": \"int256[]\", \"name\": \"input\", \"type\": \"int256[]\" }, { \"internalType\": \"int256[]\", \"name\": \"w\", \"type\": \"int256[]\" }, { \"internalType\": \"int256[]\", \"name\": \"b\", \"type\": \"int256[]\" } ], \"name\": \"compute_IXWB\", \"outputs\": [], \"stateMutability\": \"nonpayable\", \"type\": \"function\" }, { \"inputs\": [ { \"internalType\": \"int256\", \"name\": \"a\", \"type\": \"int256\" }, { \"internalType\": \"int256\", \"name\": \"b\", \"type\": \"int256\" }, { \"internalType\": \"int256\", \"name\": \"c\", \"type\": \"int256\" }, { \"internalType\": \"int256\", \"name\": \"d\", \"type\": \"int256\" } ], \"name\": \"compute_addition\", \"outputs\": [], \"stateMutability\": \"nonpayable\", \"type\": \"function\" }, { \"inputs\": [ { \"internalType\": \"int256\", \"name\": \"x\", \"type\": \"int256\" }, { \"internalType\": \"int256\", \"name\": \"y\", \"type\": \"int256\" } ], \"name\": \"compute_lcm\", \"outputs\": [], \"stateMutability\": \"nonpayable\", \"type\": \"function\" }, { \"inputs\": [ { \"internalType\": \"int256\", \"name\": \"d\", \"type\": \"int256\" } ], \"name\": \"compute_sigmoid\", \"outputs\": [], \"stateMutability\": \"nonpayable\", \"type\": \"function\" }, { \"inputs\": [], \"name\": \"lcm_print\", \"outputs\": [ { \"internalType\": \"int256\", \"name\": \"\", \"type\": \"int256\" } ], \"stateMutability\": \"view\", \"type\": \"function\" }, { \"inputs\": [], \"name\": \"predict_print\", \"outputs\": [ { \"internalType\": \"int256\", \"name\": \"\", \"type\": \"int256\" } ], \"stateMutability\": \"view\", \"type\": \"function\" }]')\n",
    "cont_address = \"0x824c0dd9D4Ddc38AbE39c8C4D37643c5500A8b49\""
   ]
  },
  {
   "cell_type": "code",
   "execution_count": 115,
   "id": "robust-herald",
   "metadata": {},
   "outputs": [],
   "source": [
    "contract = web3.eth.contract(address=cont_address,abi=abi)"
   ]
  },
  {
   "cell_type": "code",
   "execution_count": 116,
   "id": "palestinian-transmission",
   "metadata": {},
   "outputs": [],
   "source": [
    "account1 = \"0x37bfB436392DaAE0E91EdcD9c4128FBcADF3919d\"\n",
    "private_key1 = \"e72044de2331844a3c0232dc23d43fb8ca4f555854b4da07e2fb530d003e5e2d\"\n",
    "account2 = \"0xfbD8f1F5878b0b5b3E627e7cc14617b05B582867\"\n",
    "private_key2=\"56c8f569b23a423f9d66d46f86f7ada7ba0d28dfba03c34f661bb15358b042bb\""
   ]
  },
  {
   "cell_type": "code",
   "execution_count": 117,
   "id": "velvet-burton",
   "metadata": {},
   "outputs": [],
   "source": [
    "# callfunction = contract.function.callfunction().call()\n",
    "#print(web3.utils.fromWei(callfunction,'ether'))"
   ]
  },
  {
   "cell_type": "markdown",
   "id": "roman-sound",
   "metadata": {},
   "source": [
    "### Sending Ether between accounts"
   ]
  },
  {
   "cell_type": "code",
   "execution_count": 118,
   "id": "painful-bronze",
   "metadata": {},
   "outputs": [],
   "source": [
    "# # get the nonce\n",
    "# nonce = web3.eth.getTransactionCount(account1)\n",
    "# # build the transaction\n",
    "# tx = {\n",
    "#     'nonce': nonce,\n",
    "#     'to': account2,\n",
    "#     'value':web3.toWei(1,'ether'),\n",
    "#     'gas':2000000,      #for miners to mine transactions\n",
    "#     'gasPrice': web3.toWei('50','gwei') \n",
    "# }\n",
    "# # sign the transaction\n",
    "# signed_tx = web3.eth.account.signTransaction(tx,private_key1)\n",
    "\n",
    "# # send the transaction\n",
    "# tx_hash = web3.eth.sendRawTransaction(signed_tx.rawTransaction)\n",
    "\n"
   ]
  },
  {
   "cell_type": "code",
   "execution_count": 119,
   "id": "norwegian-stability",
   "metadata": {},
   "outputs": [],
   "source": [
    "# # get transaction hash\n",
    "# print(web3.toHex(tx_hash))"
   ]
  },
  {
   "cell_type": "code",
   "execution_count": 120,
   "id": "recognized-tuition",
   "metadata": {},
   "outputs": [],
   "source": [
    "nonce = web3.eth.getTransactionCount(account1)"
   ]
  },
  {
   "cell_type": "code",
   "execution_count": 121,
   "id": "realistic-branch",
   "metadata": {},
   "outputs": [
    {
     "name": "stdout",
     "output_type": "stream",
     "text": [
      "0.21287775039672852\n"
     ]
    }
   ],
   "source": [
    "a =15\n",
    "b = 30\n",
    "transaction = contract.functions.compute_lcm(\n",
    "    a,b\n",
    "     ).buildTransaction({\n",
    "    'gas': 70000,\n",
    "    'gasPrice': web3.toWei('1', 'gwei'),\n",
    "    'from': account1,\n",
    "    'nonce': nonce\n",
    "    })\n",
    "\n",
    "signed_txn = web3.eth.account.signTransaction(transaction, private_key=private_key1)\n",
    "start_time = time.time()\n",
    "tx_hash = web3.eth.sendRawTransaction(signed_txn.rawTransaction)\n",
    "tx_receipt = web3.eth.waitForTransactionReceipt(tx_hash)\n",
    "end_time = time.time()\n",
    "print(end_time -start_time)"
   ]
  },
  {
   "cell_type": "code",
   "execution_count": 122,
   "id": "quarterly-binary",
   "metadata": {},
   "outputs": [
    {
     "data": {
      "text/plain": [
       "30"
      ]
     },
     "execution_count": 122,
     "metadata": {},
     "output_type": "execute_result"
    }
   ],
   "source": [
    "lcm = contract.functions.lcm_print().call()\n",
    "lcm"
   ]
  },
  {
   "cell_type": "code",
   "execution_count": 123,
   "id": "virgin-founder",
   "metadata": {},
   "outputs": [
    {
     "name": "stdout",
     "output_type": "stream",
     "text": [
      "41828\n"
     ]
    }
   ],
   "source": [
    "print(tx_receipt.gasUsed)"
   ]
  },
  {
   "cell_type": "code",
   "execution_count": 124,
   "id": "operating-western",
   "metadata": {},
   "outputs": [
    {
     "name": "stdout",
     "output_type": "stream",
     "text": [
      "0.2094101905822754\n"
     ]
    }
   ],
   "source": [
    "a =15\n",
    "b = 30\n",
    "c = 28\n",
    "d = 30\n",
    "nonce = web3.eth.getTransactionCount(account1)\n",
    "transaction = contract.functions.compute_addition(\n",
    "    a,b,c,d\n",
    "     ).buildTransaction({\n",
    "    'gas': 70000,\n",
    "    'gasPrice': web3.toWei('1', 'gwei'),\n",
    "    'from': account1,\n",
    "    'nonce': nonce\n",
    "    }) \n",
    "signed_txn = web3.eth.account.signTransaction(transaction, private_key=private_key1)\n",
    "start_time = time.time()\n",
    "tx_hash = web3.eth.sendRawTransaction(signed_txn.rawTransaction)\n",
    "tx_receipt = web3.eth.waitForTransactionReceipt(tx_hash)\n",
    "end_time = time.time()\n",
    "print(end_time -start_time)"
   ]
  },
  {
   "cell_type": "code",
   "execution_count": 125,
   "id": "retained-parking",
   "metadata": {},
   "outputs": [
    {
     "name": "stdout",
     "output_type": "stream",
     "text": [
      "65544\n"
     ]
    }
   ],
   "source": [
    "add = contract.functions.add_print().call()\n",
    "add\n",
    "print(tx_receipt.gasUsed)"
   ]
  },
  {
   "cell_type": "code",
   "execution_count": 126,
   "id": "inner-organization",
   "metadata": {},
   "outputs": [
    {
     "name": "stdout",
     "output_type": "stream",
     "text": [
      "0.32781553268432617\n"
     ]
    }
   ],
   "source": [
    "input =[2,3,4,5,6]\n",
    "weight =[2,3,4,5,6]\n",
    "bias = [1,2]\n",
    "\n",
    "nonce = web3.eth.getTransactionCount(account1)\n",
    "transaction = contract.functions.compute_IXWB(\n",
    "    input,weight,bias\n",
    "     ).buildTransaction({\n",
    "    'gas': 100000,\n",
    "    'gasPrice': web3.toWei('1', 'gwei'),\n",
    "    'from': account1,\n",
    "    'nonce': nonce\n",
    "    }) \n",
    "signed_txn = web3.eth.account.signTransaction(transaction, private_key=private_key1)\n",
    "start_time = time.time()\n",
    "tx_hash = web3.eth.sendRawTransaction(signed_txn.rawTransaction)\n",
    "tx_receipt = web3.eth.waitForTransactionReceipt(tx_hash)\n",
    "end_time = time.time()\n",
    "print(end_time -start_time)\n"
   ]
  },
  {
   "cell_type": "code",
   "execution_count": 127,
   "id": "downtown-cooperation",
   "metadata": {},
   "outputs": [
    {
     "name": "stdout",
     "output_type": "stream",
     "text": [
      "97482\n"
     ]
    }
   ],
   "source": [
    "add = contract.functions.add_print().call()\n",
    "add\n",
    "print(tx_receipt.gasUsed)"
   ]
  },
  {
   "cell_type": "code",
   "execution_count": 128,
   "id": "blessed-amendment",
   "metadata": {},
   "outputs": [
    {
     "name": "stdout",
     "output_type": "stream",
     "text": [
      "0.2333226203918457\n"
     ]
    }
   ],
   "source": [
    "d =-50\n",
    "nonce = web3.eth.getTransactionCount(account1)\n",
    "transaction = contract.functions.compute_sigmoid(\n",
    "    d\n",
    "     ).buildTransaction({\n",
    "    'gas': 70000,\n",
    "    'gasPrice': web3.toWei('1', 'gwei'),\n",
    "    'from': account1,\n",
    "    'nonce': nonce\n",
    "    }) \n",
    "signed_txn = web3.eth.account.signTransaction(transaction, private_key=private_key1)\n",
    "start_time = time.time()\n",
    "tx_hash = web3.eth.sendRawTransaction(signed_txn.rawTransaction)\n",
    "tx_receipt = web3.eth.waitForTransactionReceipt(tx_hash)\n",
    "end_time = time.time()\n",
    "print(end_time -start_time)"
   ]
  },
  {
   "cell_type": "code",
   "execution_count": 129,
   "id": "accepting-choice",
   "metadata": {},
   "outputs": [
    {
     "name": "stdout",
     "output_type": "stream",
     "text": [
      "22642\n"
     ]
    }
   ],
   "source": [
    "pred = contract.functions.predict_print().call()\n",
    "pred\n",
    "print(tx_receipt.gasUsed)"
   ]
  },
  {
   "cell_type": "code",
   "execution_count": null,
   "id": "immune-satellite",
   "metadata": {},
   "outputs": [],
   "source": []
  }
 ],
 "metadata": {
  "kernelspec": {
   "display_name": "Python 3",
   "language": "python",
   "name": "python3"
  },
  "language_info": {
   "codemirror_mode": {
    "name": "ipython",
    "version": 3
   },
   "file_extension": ".py",
   "mimetype": "text/x-python",
   "name": "python",
   "nbconvert_exporter": "python",
   "pygments_lexer": "ipython3",
   "version": "3.9.2"
  }
 },
 "nbformat": 4,
 "nbformat_minor": 5
}
