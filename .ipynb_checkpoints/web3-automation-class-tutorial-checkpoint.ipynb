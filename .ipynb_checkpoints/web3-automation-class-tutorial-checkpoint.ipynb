{
 "cells": [
  {
   "cell_type": "code",
   "execution_count": 19,
   "id": "convertible-daily",
   "metadata": {},
   "outputs": [
    {
     "data": {
      "text/plain": [
       "True"
      ]
     },
     "execution_count": 19,
     "metadata": {},
     "output_type": "execute_result"
    }
   ],
   "source": [
    "# starting web3 operations\n",
    "import numpy as np\n",
    "import json\n",
    "from web3 import Web3\n",
    "import time\n",
    "# ganache_url = \"HTTP://127.0.0.1:8545\"\n",
    "ropsten_url =\"https://ropsten.infura.io/v3/69facb650fb74935abcc5f574e93fd8c\"\n",
    "# web3 = Web3(Web3.HTTPProvider(ganache_url))\n",
    "web3 = Web3(Web3.HTTPProvider(ropsten_url))\n",
    "web3.isConnected()"
   ]
  },
  {
   "cell_type": "code",
   "execution_count": 20,
   "id": "usual-madagascar",
   "metadata": {},
   "outputs": [
    {
     "name": "stdout",
     "output_type": "stream",
     "text": [
      "8.444591690019125544\n"
     ]
    }
   ],
   "source": [
    "# Basic web3 \n",
    "block = web3.eth.get_block('latest')\n",
    "balance_1 = web3.eth.getBalance(\"0x37bfB436392DaAE0E91EdcD9c4128FBcADF3919d\")\n",
    "print(web3.fromWei(balance_1,'ether'))"
   ]
  },
  {
   "cell_type": "code",
   "execution_count": 21,
   "id": "insured-broadcasting",
   "metadata": {},
   "outputs": [],
   "source": [
    "abi = json.loads('[ { \"inputs\": [], \"name\": \"retrieve\", \"outputs\": [ { \"internalType\": \"uint256\", \"name\": \"\", \"type\": \"uint256\" } ], \"stateMutability\": \"view\", \"type\": \"function\" }, { \"inputs\": [ { \"internalType\": \"uint256\", \"name\": \"num\", \"type\": \"uint256\" } ], \"name\": \"store\", \"outputs\": [], \"stateMutability\": \"nonpayable\", \"type\": \"function\" }]')\n",
    "cont_address = \"0x1c3292FD9b62Cc6e0DcafF8424db9A2242825170\"\n",
    "cont_address=\"0x230f5b534FD6bDcD1082918Ff4170F875BAA6B76\""
   ]
  },
  {
   "cell_type": "code",
   "execution_count": 22,
   "id": "robust-herald",
   "metadata": {},
   "outputs": [],
   "source": [
    "contract = web3.eth.contract(address=cont_address,abi=abi)"
   ]
  },
  {
   "cell_type": "code",
   "execution_count": 23,
   "id": "palestinian-transmission",
   "metadata": {},
   "outputs": [],
   "source": [
    "account1 = \"account\"\n",
    "private_key1 = \"private-key\"\n",
    "account2 = \"account\"\n",
    "private_key2=\"private key\""
   ]
  },
  {
   "cell_type": "code",
   "execution_count": 24,
   "id": "velvet-burton",
   "metadata": {},
   "outputs": [],
   "source": [
    "# callfunction = contract.function.callfunction().call()\n",
    "#print(web3.utils.fromWei(callfunction,'ether'))"
   ]
  },
  {
   "cell_type": "markdown",
   "id": "roman-sound",
   "metadata": {},
   "source": [
    "### Sending Ether between accounts"
   ]
  },
  {
   "cell_type": "code",
   "execution_count": 25,
   "id": "painful-bronze",
   "metadata": {},
   "outputs": [],
   "source": [
    "# # get the nonce\n",
    "# nonce = web3.eth.getTransactionCount(account1)\n",
    "# # build the transaction\n",
    "# tx = {\n",
    "#     'nonce': nonce,\n",
    "#     'to': account2,\n",
    "#     'value':web3.toWei(1,'ether'),\n",
    "#     'gas':2000000,      #for miners to mine transactions\n",
    "#     'gasPrice': web3.toWei('50','gwei') \n",
    "# }\n",
    "# # sign the transaction\n",
    "# signed_tx = web3.eth.account.signTransaction(tx,private_key1)\n",
    "# # send the transaction\n",
    "# tx_hash = web3.eth.sendRawTransaction(signed_tx.rawTransaction)\n"
   ]
  },
  {
   "cell_type": "code",
   "execution_count": 26,
   "id": "printable-apparel",
   "metadata": {},
   "outputs": [
    {
     "name": "stdout",
     "output_type": "stream",
     "text": [
      "8.444591690019125544\n"
     ]
    }
   ],
   "source": [
    "print(web3.fromWei(balance_1,'ether'))"
   ]
  },
  {
   "cell_type": "code",
   "execution_count": 27,
   "id": "norwegian-stability",
   "metadata": {},
   "outputs": [],
   "source": [
    "# # get transaction hash\n",
    "# print(web3.toHex(tx_hash))"
   ]
  },
  {
   "cell_type": "code",
   "execution_count": 28,
   "id": "recognized-tuition",
   "metadata": {},
   "outputs": [],
   "source": [
    "nonce = web3.eth.getTransactionCount(account1)"
   ]
  },
  {
   "cell_type": "code",
   "execution_count": 29,
   "id": "realistic-branch",
   "metadata": {},
   "outputs": [],
   "source": [
    "a =15\n",
    "b = 30\n",
    "c = 40\n",
    "d  = 50"
   ]
  },
  {
   "cell_type": "code",
   "execution_count": 32,
   "id": "immediate-pittsburgh",
   "metadata": {},
   "outputs": [],
   "source": [
    "def send_tx(x, account, private_key,contract):\n",
    "    nonce = web3.eth.getTransactionCount(account)\n",
    "    tx_store = contract.functions.store(\n",
    "        x\n",
    "         ).buildTransaction({\n",
    "        'gas': 100000,\n",
    "        'gasPrice': web3.toWei('10', 'gwei'),\n",
    "        'from': account,\n",
    "        'nonce': nonce\n",
    "        })\n",
    "\n",
    "    signed_txn = web3.eth.account.signTransaction(tx_store, private_key=private_key)\n",
    "    start_time = time.time()\n",
    "    tx_hash = web3.eth.sendRawTransaction(signed_txn.rawTransaction)\n",
    "    tx_receipt = web3.eth.waitForTransactionReceipt(tx_hash)\n",
    "\n",
    "    end_time = time.time()\n",
    "    print(\"time taken for thsi transaction is\",end_time -start_time)\n",
    "    print(\"gas used for this transactino is\",tx_receipt.gasUsed)\n",
    "    print(\"the stored number is \", contract.functions.retrieve().call())"
   ]
  },
  {
   "cell_type": "code",
   "execution_count": 33,
   "id": "dental-insulation",
   "metadata": {},
   "outputs": [
    {
     "name": "stdout",
     "output_type": "stream",
     "text": [
      "time taken for thsi transaction is 54.38510799407959\n",
      "gas used for this transactino is 26624\n",
      "the stored number is  15\n"
     ]
    }
   ],
   "source": [
    "send_tx(a,account2,private_key2,contract)"
   ]
  },
  {
   "cell_type": "code",
   "execution_count": null,
   "id": "quarterly-binary",
   "metadata": {},
   "outputs": [],
   "source": [
    "a = [1,2,3,4,5,6,7,8,9,10]\n",
    "for i in range(len(a)):\n",
    "    send_tx(a[i],account2,private_key2,contract)\n",
    "\n"
   ]
  },
  {
   "cell_type": "code",
   "execution_count": null,
   "id": "three-turkish",
   "metadata": {},
   "outputs": [],
   "source": [
    "print(tx_receipt.gasUsed)"
   ]
  },
  {
   "cell_type": "code",
   "execution_count": null,
   "id": "immune-satellite",
   "metadata": {},
   "outputs": [],
   "source": []
  }
 ],
 "metadata": {
  "kernelspec": {
   "display_name": "Python 3",
   "language": "python",
   "name": "python3"
  },
  "language_info": {
   "codemirror_mode": {
    "name": "ipython",
    "version": 3
   },
   "file_extension": ".py",
   "mimetype": "text/x-python",
   "name": "python",
   "nbconvert_exporter": "python",
   "pygments_lexer": "ipython3",
   "version": "3.9.2"
  }
 },
 "nbformat": 4,
 "nbformat_minor": 5
}
