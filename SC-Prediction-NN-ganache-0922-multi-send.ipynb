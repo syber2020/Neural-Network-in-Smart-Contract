{
 "cells": [
  {
   "cell_type": "code",
   "execution_count": 488,
   "id": "alive-rally",
   "metadata": {
    "scrolled": true
   },
   "outputs": [
    {
     "data": {
      "text/plain": [
       "True"
      ]
     },
     "execution_count": 488,
     "metadata": {},
     "output_type": "execute_result"
    }
   ],
   "source": [
    "import numpy as np\n",
    "import pandas as pd\n",
    "from sklearn.linear_model import Perceptron\n",
    "from keras.models import Sequential\n",
    "from keras.layers import Dense\n",
    "df = pd.read_csv('diabetes.csv',sep = ',')\n",
    "# starting web3 operations\n",
    "import numpy as np\n",
    "import json\n",
    "from web3 import Web3\n",
    "import time\n",
    "ganache_url = \"HTTP://127.0.0.1:8545\"\n",
    "web3 = Web3(Web3.HTTPProvider(ganache_url))\n",
    "web3.isConnected()"
   ]
  },
  {
   "cell_type": "code",
   "execution_count": 489,
   "id": "amino-delicious",
   "metadata": {},
   "outputs": [],
   "source": [
    "abi = json.loads('[{ \"inputs\": [], \"name\": \"add_print\", \"outputs\": [ { \"internalType\": \"int256\", \"name\": \"x\", \"type\": \"int256\" }, { \"internalType\": \"int256\", \"name\": \"y\", \"type\": \"int256\" } ], \"stateMutability\": \"view\", \"type\": \"function\" }, { \"inputs\": [ { \"internalType\": \"int256[]\", \"name\": \"input\", \"type\": \"int256[]\" }, { \"internalType\": \"int256[]\", \"name\": \"w\", \"type\": \"int256[]\" }, { \"internalType\": \"int256[]\", \"name\": \"b\", \"type\": \"int256[]\" } ], \"name\": \"compute_IXWB\", \"outputs\": [], \"stateMutability\": \"nonpayable\", \"type\": \"function\" }, { \"inputs\": [ { \"internalType\": \"int256\", \"name\": \"a\", \"type\": \"int256\" }, { \"internalType\": \"int256\", \"name\": \"b\", \"type\": \"int256\" }, { \"internalType\": \"int256\", \"name\": \"c\", \"type\": \"int256\" }, { \"internalType\": \"int256\", \"name\": \"d\", \"type\": \"int256\" } ], \"name\": \"compute_addition\", \"outputs\": [], \"stateMutability\": \"nonpayable\", \"type\": \"function\" }, { \"inputs\": [ { \"internalType\": \"int256\", \"name\": \"x\", \"type\": \"int256\" }, { \"internalType\": \"int256\", \"name\": \"y\", \"type\": \"int256\" } ], \"name\": \"compute_lcm\", \"outputs\": [], \"stateMutability\": \"nonpayable\", \"type\": \"function\" }, { \"inputs\": [ { \"internalType\": \"int256\", \"name\": \"d\", \"type\": \"int256\" } ], \"name\": \"compute_sigmoid\", \"outputs\": [], \"stateMutability\": \"nonpayable\", \"type\": \"function\" }, { \"inputs\": [], \"name\": \"lcm_print\", \"outputs\": [ { \"internalType\": \"int256\", \"name\": \"\", \"type\": \"int256\" } ], \"stateMutability\": \"view\", \"type\": \"function\" }, { \"inputs\": [], \"name\": \"predict_print\", \"outputs\": [ { \"internalType\": \"int256\", \"name\": \"\", \"type\": \"int256\" } ], \"stateMutability\": \"view\", \"type\": \"function\" }]')\n",
    "cont_address = \"0xFD9fFdE09432258482C532d80bBDB5c4577dc2DF\"\n",
    "\n",
    "account1 = \"0x37bfB436392DaAE0E91EdcD9c4128FBcADF3919d\"\n",
    "private_key1 = \"e72044de2331844a3c0232dc23d43fb8ca4f555854b4da07e2fb530d003e5e2d\"\n",
    "account2 = \"0xfbD8f1F5878b0b5b3E627e7cc14617b05B582867\"\n",
    "private_key2=\"56c8f569b23a423f9d66d46f86f7ada7ba0d28dfba03c34f661bb15358b042bb\"\n"
   ]
  },
  {
   "cell_type": "code",
   "execution_count": 490,
   "id": "demanding-spoke",
   "metadata": {},
   "outputs": [
    {
     "data": {
      "text/html": [
       "<div>\n",
       "<style scoped>\n",
       "    .dataframe tbody tr th:only-of-type {\n",
       "        vertical-align: middle;\n",
       "    }\n",
       "\n",
       "    .dataframe tbody tr th {\n",
       "        vertical-align: top;\n",
       "    }\n",
       "\n",
       "    .dataframe thead th {\n",
       "        text-align: right;\n",
       "    }\n",
       "</style>\n",
       "<table border=\"1\" class=\"dataframe\">\n",
       "  <thead>\n",
       "    <tr style=\"text-align: right;\">\n",
       "      <th></th>\n",
       "      <th>Pregnancies</th>\n",
       "      <th>Glucose</th>\n",
       "      <th>BloodPressure</th>\n",
       "      <th>SkinThickness</th>\n",
       "      <th>Insulin</th>\n",
       "      <th>BMI</th>\n",
       "      <th>DiabetesPedigreeFunction</th>\n",
       "      <th>Age</th>\n",
       "      <th>Outcome</th>\n",
       "    </tr>\n",
       "  </thead>\n",
       "  <tbody>\n",
       "    <tr>\n",
       "      <th>0</th>\n",
       "      <td>6</td>\n",
       "      <td>148</td>\n",
       "      <td>72</td>\n",
       "      <td>35</td>\n",
       "      <td>0</td>\n",
       "      <td>33</td>\n",
       "      <td>62</td>\n",
       "      <td>50</td>\n",
       "      <td>1</td>\n",
       "    </tr>\n",
       "    <tr>\n",
       "      <th>1</th>\n",
       "      <td>1</td>\n",
       "      <td>85</td>\n",
       "      <td>66</td>\n",
       "      <td>29</td>\n",
       "      <td>0</td>\n",
       "      <td>26</td>\n",
       "      <td>35</td>\n",
       "      <td>31</td>\n",
       "      <td>0</td>\n",
       "    </tr>\n",
       "    <tr>\n",
       "      <th>2</th>\n",
       "      <td>8</td>\n",
       "      <td>183</td>\n",
       "      <td>64</td>\n",
       "      <td>0</td>\n",
       "      <td>0</td>\n",
       "      <td>23</td>\n",
       "      <td>67</td>\n",
       "      <td>32</td>\n",
       "      <td>1</td>\n",
       "    </tr>\n",
       "    <tr>\n",
       "      <th>3</th>\n",
       "      <td>1</td>\n",
       "      <td>89</td>\n",
       "      <td>66</td>\n",
       "      <td>23</td>\n",
       "      <td>94</td>\n",
       "      <td>28</td>\n",
       "      <td>16</td>\n",
       "      <td>21</td>\n",
       "      <td>0</td>\n",
       "    </tr>\n",
       "    <tr>\n",
       "      <th>4</th>\n",
       "      <td>0</td>\n",
       "      <td>137</td>\n",
       "      <td>40</td>\n",
       "      <td>35</td>\n",
       "      <td>168</td>\n",
       "      <td>43</td>\n",
       "      <td>228</td>\n",
       "      <td>33</td>\n",
       "      <td>1</td>\n",
       "    </tr>\n",
       "  </tbody>\n",
       "</table>\n",
       "</div>"
      ],
      "text/plain": [
       "   Pregnancies  Glucose  BloodPressure  SkinThickness  Insulin  BMI  \\\n",
       "0            6      148             72             35        0   33   \n",
       "1            1       85             66             29        0   26   \n",
       "2            8      183             64              0        0   23   \n",
       "3            1       89             66             23       94   28   \n",
       "4            0      137             40             35      168   43   \n",
       "\n",
       "   DiabetesPedigreeFunction  Age  Outcome  \n",
       "0                        62   50        1  \n",
       "1                        35   31        0  \n",
       "2                        67   32        1  \n",
       "3                        16   21        0  \n",
       "4                       228   33        1  "
      ]
     },
     "execution_count": 490,
     "metadata": {},
     "output_type": "execute_result"
    }
   ],
   "source": [
    "df['DiabetesPedigreeFunction'] = df['DiabetesPedigreeFunction']*100\n",
    "df.DiabetesPedigreeFunction = df.DiabetesPedigreeFunction.astype(int)\n",
    "df.BMI = df.BMI.astype(int) \n",
    "df.head()"
   ]
  },
  {
   "cell_type": "code",
   "execution_count": 491,
   "id": "valued-burton",
   "metadata": {
    "scrolled": true
   },
   "outputs": [],
   "source": [
    "dataset = df.to_numpy()\n",
    "\n",
    "X = dataset[:500,0:8]\n",
    "X1 = dataset[500:,0:8]\n",
    "y = dataset[:500,8]\n",
    "y1 = dataset[500:,8]"
   ]
  },
  {
   "cell_type": "code",
   "execution_count": 492,
   "id": "parliamentary-breach",
   "metadata": {},
   "outputs": [
    {
     "name": "stdout",
     "output_type": "stream",
     "text": [
      "[[  6 148  72  35   0  33  62  50]\n",
      " [  1  85  66  29   0  26  35  31]\n",
      " [  8 183  64   0   0  23  67  32]\n",
      " [  1  89  66  23  94  28  16  21]\n",
      " [  0 137  40  35 168  43 228  33]]\n",
      "[1 0 1 0 1]\n"
     ]
    }
   ],
   "source": [
    "print(X[:5])\n",
    "print(y[:5])"
   ]
  },
  {
   "cell_type": "code",
   "execution_count": 493,
   "id": "grateful-influence",
   "metadata": {},
   "outputs": [],
   "source": [
    "# define the keras model\n",
    "model = Sequential()\n",
    "# model.add(Dense(12, input_dim=8, activation='sigmoid'))\n",
    "# model.add(Dense(8, activation='sigmoid'))\n",
    "model.add(Dense(1, activation='sigmoid'))"
   ]
  },
  {
   "cell_type": "code",
   "execution_count": 494,
   "id": "worthy-clearing",
   "metadata": {},
   "outputs": [],
   "source": [
    "# compile the keras model\n",
    "model.compile(loss='binary_crossentropy', optimizer='adam', metrics=['accuracy'])"
   ]
  },
  {
   "cell_type": "code",
   "execution_count": 495,
   "id": "least-harvey",
   "metadata": {},
   "outputs": [
    {
     "name": "stdout",
     "output_type": "stream",
     "text": [
      "Epoch 1/150\n",
      "50/50 [==============================] - 1s 538us/step - loss: 47.9136 - accuracy: 0.3297\n",
      "Epoch 2/150\n",
      "50/50 [==============================] - 0s 518us/step - loss: 37.2631 - accuracy: 0.3368\n",
      "Epoch 3/150\n",
      "50/50 [==============================] - 0s 538us/step - loss: 30.9752 - accuracy: 0.3660\n",
      "Epoch 4/150\n",
      "50/50 [==============================] - 0s 518us/step - loss: 23.3883 - accuracy: 0.3790\n",
      "Epoch 5/150\n",
      "50/50 [==============================] - 0s 498us/step - loss: 17.3296 - accuracy: 0.4303\n",
      "Epoch 6/150\n",
      "50/50 [==============================] - 0s 518us/step - loss: 14.3766 - accuracy: 0.4586\n",
      "Epoch 7/150\n",
      "50/50 [==============================] - 0s 498us/step - loss: 12.7127 - accuracy: 0.5047\n",
      "Epoch 8/150\n",
      "50/50 [==============================] - 0s 717us/step - loss: 12.9626 - accuracy: 0.5117\n",
      "Epoch 9/150\n",
      "50/50 [==============================] - 0s 558us/step - loss: 11.2199 - accuracy: 0.5230\n",
      "Epoch 10/150\n",
      "50/50 [==============================] - 0s 458us/step - loss: 11.8447 - accuracy: 0.5140\n",
      "Epoch 11/150\n",
      "50/50 [==============================] - 0s 478us/step - loss: 10.9552 - accuracy: 0.5040\n",
      "Epoch 12/150\n",
      "50/50 [==============================] - 0s 498us/step - loss: 11.5494 - accuracy: 0.4986\n",
      "Epoch 13/150\n",
      "50/50 [==============================] - 0s 498us/step - loss: 11.2512 - accuracy: 0.4762\n",
      "Epoch 14/150\n",
      "50/50 [==============================] - 0s 518us/step - loss: 9.8628 - accuracy: 0.4728\n",
      "Epoch 15/150\n",
      "50/50 [==============================] - 0s 498us/step - loss: 9.3168 - accuracy: 0.4712\n",
      "Epoch 16/150\n",
      "50/50 [==============================] - 0s 498us/step - loss: 9.0289 - accuracy: 0.4878\n",
      "Epoch 17/150\n",
      "50/50 [==============================] - 0s 478us/step - loss: 8.4273 - accuracy: 0.5178\n",
      "Epoch 18/150\n",
      "50/50 [==============================] - 0s 498us/step - loss: 8.8357 - accuracy: 0.4642\n",
      "Epoch 19/150\n",
      "50/50 [==============================] - 0s 478us/step - loss: 7.4602 - accuracy: 0.4776\n",
      "Epoch 20/150\n",
      "50/50 [==============================] - 0s 478us/step - loss: 7.6891 - accuracy: 0.4635\n",
      "Epoch 21/150\n",
      "50/50 [==============================] - 0s 478us/step - loss: 7.2277 - accuracy: 0.4710\n",
      "Epoch 22/150\n",
      "50/50 [==============================] - 0s 478us/step - loss: 6.9383 - accuracy: 0.5270\n",
      "Epoch 23/150\n",
      "50/50 [==============================] - 0s 518us/step - loss: 7.2902 - accuracy: 0.4795\n",
      "Epoch 24/150\n",
      "50/50 [==============================] - 0s 498us/step - loss: 7.4500 - accuracy: 0.4556\n",
      "Epoch 25/150\n",
      "50/50 [==============================] - 0s 478us/step - loss: 5.6806 - accuracy: 0.4818\n",
      "Epoch 26/150\n",
      "50/50 [==============================] - 0s 498us/step - loss: 5.7651 - accuracy: 0.4913\n",
      "Epoch 27/150\n",
      "50/50 [==============================] - 0s 478us/step - loss: 5.7858 - accuracy: 0.4645\n",
      "Epoch 28/150\n",
      "50/50 [==============================] - 0s 478us/step - loss: 5.2531 - accuracy: 0.4793\n",
      "Epoch 29/150\n",
      "50/50 [==============================] - 0s 498us/step - loss: 5.4057 - accuracy: 0.4531\n",
      "Epoch 30/150\n",
      "50/50 [==============================] - 0s 518us/step - loss: 4.6595 - accuracy: 0.5088\n",
      "Epoch 31/150\n",
      "50/50 [==============================] - 0s 498us/step - loss: 4.6127 - accuracy: 0.4532\n",
      "Epoch 32/150\n",
      "50/50 [==============================] - 0s 518us/step - loss: 4.9234 - accuracy: 0.4576\n",
      "Epoch 33/150\n",
      "50/50 [==============================] - 0s 518us/step - loss: 4.2182 - accuracy: 0.4589\n",
      "Epoch 34/150\n",
      "50/50 [==============================] - 0s 478us/step - loss: 4.3697 - accuracy: 0.4504\n",
      "Epoch 35/150\n",
      "50/50 [==============================] - 0s 498us/step - loss: 3.8342 - accuracy: 0.4575\n",
      "Epoch 36/150\n",
      "50/50 [==============================] - 0s 498us/step - loss: 3.8474 - accuracy: 0.4231\n",
      "Epoch 37/150\n",
      "50/50 [==============================] - 0s 498us/step - loss: 3.5841 - accuracy: 0.4868\n",
      "Epoch 38/150\n",
      "50/50 [==============================] - 0s 518us/step - loss: 3.4947 - accuracy: 0.4406\n",
      "Epoch 39/150\n",
      "50/50 [==============================] - 0s 518us/step - loss: 3.5805 - accuracy: 0.4470\n",
      "Epoch 40/150\n",
      "50/50 [==============================] - 0s 478us/step - loss: 2.7785 - accuracy: 0.4900\n",
      "Epoch 41/150\n",
      "50/50 [==============================] - 0s 498us/step - loss: 3.3801 - accuracy: 0.4313\n",
      "Epoch 42/150\n",
      "50/50 [==============================] - 0s 518us/step - loss: 3.0793 - accuracy: 0.4889\n",
      "Epoch 43/150\n",
      "50/50 [==============================] - 0s 498us/step - loss: 3.0235 - accuracy: 0.4713\n",
      "Epoch 44/150\n",
      "50/50 [==============================] - 0s 518us/step - loss: 2.6244 - accuracy: 0.4890\n",
      "Epoch 45/150\n",
      "50/50 [==============================] - 0s 737us/step - loss: 2.8409 - accuracy: 0.4782\n",
      "Epoch 46/150\n",
      "50/50 [==============================] - 0s 578us/step - loss: 2.8089 - accuracy: 0.4780\n",
      "Epoch 47/150\n",
      "50/50 [==============================] - 0s 498us/step - loss: 2.7494 - accuracy: 0.4844\n",
      "Epoch 48/150\n",
      "50/50 [==============================] - 0s 498us/step - loss: 2.4546 - accuracy: 0.4976\n",
      "Epoch 49/150\n",
      "50/50 [==============================] - 0s 478us/step - loss: 2.2682 - accuracy: 0.4663\n",
      "Epoch 50/150\n",
      "50/50 [==============================] - 0s 498us/step - loss: 2.4303 - accuracy: 0.4893\n",
      "Epoch 51/150\n",
      "50/50 [==============================] - 0s 478us/step - loss: 2.4608 - accuracy: 0.5035\n",
      "Epoch 52/150\n",
      "50/50 [==============================] - 0s 478us/step - loss: 2.4846 - accuracy: 0.4624\n",
      "Epoch 53/150\n",
      "50/50 [==============================] - 0s 498us/step - loss: 1.9298 - accuracy: 0.5068\n",
      "Epoch 54/150\n",
      "50/50 [==============================] - 0s 498us/step - loss: 2.0126 - accuracy: 0.5198\n",
      "Epoch 55/150\n",
      "50/50 [==============================] - 0s 478us/step - loss: 1.9979 - accuracy: 0.5323\n",
      "Epoch 56/150\n",
      "50/50 [==============================] - 0s 498us/step - loss: 1.9828 - accuracy: 0.5333\n",
      "Epoch 57/150\n",
      "50/50 [==============================] - 0s 498us/step - loss: 1.7458 - accuracy: 0.5520\n",
      "Epoch 58/150\n",
      "50/50 [==============================] - 0s 498us/step - loss: 1.8590 - accuracy: 0.4928\n",
      "Epoch 59/150\n",
      "50/50 [==============================] - 0s 478us/step - loss: 1.6174 - accuracy: 0.5421\n",
      "Epoch 60/150\n",
      "50/50 [==============================] - 0s 498us/step - loss: 1.7453 - accuracy: 0.5249\n",
      "Epoch 61/150\n",
      "50/50 [==============================] - 0s 518us/step - loss: 1.7483 - accuracy: 0.5518\n",
      "Epoch 62/150\n",
      "50/50 [==============================] - 0s 478us/step - loss: 1.7530 - accuracy: 0.5059\n",
      "Epoch 63/150\n",
      "50/50 [==============================] - 0s 498us/step - loss: 1.5605 - accuracy: 0.5551\n",
      "Epoch 64/150\n",
      "50/50 [==============================] - 0s 498us/step - loss: 1.2834 - accuracy: 0.5650\n",
      "Epoch 65/150\n",
      "50/50 [==============================] - 0s 538us/step - loss: 1.5414 - accuracy: 0.5090\n",
      "Epoch 66/150\n",
      "50/50 [==============================] - 0s 538us/step - loss: 1.4782 - accuracy: 0.5531\n",
      "Epoch 67/150\n",
      "50/50 [==============================] - 0s 518us/step - loss: 1.3758 - accuracy: 0.6069\n",
      "Epoch 68/150\n",
      "50/50 [==============================] - 0s 518us/step - loss: 1.5078 - accuracy: 0.5324\n",
      "Epoch 69/150\n",
      "50/50 [==============================] - 0s 518us/step - loss: 1.1072 - accuracy: 0.6272\n",
      "Epoch 70/150\n",
      "50/50 [==============================] - 0s 498us/step - loss: 1.1419 - accuracy: 0.5892\n",
      "Epoch 71/150\n",
      "50/50 [==============================] - 0s 498us/step - loss: 1.1569 - accuracy: 0.6117\n",
      "Epoch 72/150\n",
      "50/50 [==============================] - 0s 478us/step - loss: 1.0821 - accuracy: 0.5981\n",
      "Epoch 73/150\n",
      "50/50 [==============================] - 0s 518us/step - loss: 1.1331 - accuracy: 0.6239\n",
      "Epoch 74/150\n",
      "50/50 [==============================] - 0s 518us/step - loss: 1.0592 - accuracy: 0.5733\n",
      "Epoch 75/150\n",
      "50/50 [==============================] - 0s 518us/step - loss: 0.9849 - accuracy: 0.6149\n",
      "Epoch 76/150\n",
      "50/50 [==============================] - 0s 498us/step - loss: 1.0168 - accuracy: 0.6351\n",
      "Epoch 77/150\n",
      "50/50 [==============================] - 0s 498us/step - loss: 0.9094 - accuracy: 0.6132\n",
      "Epoch 78/150\n",
      "50/50 [==============================] - 0s 518us/step - loss: 0.9993 - accuracy: 0.5864\n",
      "Epoch 79/150\n",
      "50/50 [==============================] - 0s 518us/step - loss: 1.0053 - accuracy: 0.6442\n",
      "Epoch 80/150\n",
      "50/50 [==============================] - 0s 498us/step - loss: 0.8892 - accuracy: 0.6390\n",
      "Epoch 81/150\n",
      "50/50 [==============================] - 0s 638us/step - loss: 0.8368 - accuracy: 0.6245\n",
      "Epoch 82/150\n",
      "50/50 [==============================] - 0s 697us/step - loss: 0.8252 - accuracy: 0.6538\n",
      "Epoch 83/150\n",
      "50/50 [==============================] - 0s 478us/step - loss: 0.8344 - accuracy: 0.6216\n",
      "Epoch 84/150\n",
      "50/50 [==============================] - 0s 498us/step - loss: 0.7899 - accuracy: 0.6493\n",
      "Epoch 85/150\n",
      "50/50 [==============================] - 0s 478us/step - loss: 0.8052 - accuracy: 0.6320\n",
      "Epoch 86/150\n",
      "50/50 [==============================] - 0s 518us/step - loss: 0.7431 - accuracy: 0.6864\n",
      "Epoch 87/150\n",
      "50/50 [==============================] - 0s 538us/step - loss: 0.7361 - accuracy: 0.6855\n",
      "Epoch 88/150\n",
      "50/50 [==============================] - 0s 498us/step - loss: 0.7476 - accuracy: 0.6519\n",
      "Epoch 89/150\n",
      "50/50 [==============================] - 0s 498us/step - loss: 0.7126 - accuracy: 0.6435\n",
      "Epoch 90/150\n",
      "50/50 [==============================] - 0s 458us/step - loss: 0.7310 - accuracy: 0.6523\n",
      "Epoch 91/150\n",
      "50/50 [==============================] - 0s 498us/step - loss: 0.6489 - accuracy: 0.6980\n",
      "Epoch 92/150\n",
      "50/50 [==============================] - 0s 498us/step - loss: 0.6839 - accuracy: 0.6843\n",
      "Epoch 93/150\n",
      "50/50 [==============================] - 0s 538us/step - loss: 0.7010 - accuracy: 0.6717\n",
      "Epoch 94/150\n",
      "50/50 [==============================] - 0s 518us/step - loss: 0.6656 - accuracy: 0.6808\n",
      "Epoch 95/150\n",
      "50/50 [==============================] - 0s 478us/step - loss: 0.7032 - accuracy: 0.6832\n",
      "Epoch 96/150\n",
      "50/50 [==============================] - 0s 478us/step - loss: 0.6519 - accuracy: 0.6827\n",
      "Epoch 97/150\n",
      "50/50 [==============================] - 0s 478us/step - loss: 0.6350 - accuracy: 0.6993\n",
      "Epoch 98/150\n",
      "50/50 [==============================] - 0s 498us/step - loss: 0.6121 - accuracy: 0.6957\n",
      "Epoch 99/150\n",
      "50/50 [==============================] - 0s 498us/step - loss: 0.5820 - accuracy: 0.7205\n",
      "Epoch 100/150\n",
      "50/50 [==============================] - 0s 498us/step - loss: 0.6010 - accuracy: 0.6971\n",
      "Epoch 101/150\n",
      "50/50 [==============================] - 0s 498us/step - loss: 0.6887 - accuracy: 0.6730\n",
      "Epoch 102/150\n",
      "50/50 [==============================] - 0s 518us/step - loss: 0.6391 - accuracy: 0.6514\n",
      "Epoch 103/150\n",
      "50/50 [==============================] - 0s 518us/step - loss: 0.6085 - accuracy: 0.7031\n",
      "Epoch 104/150\n",
      "50/50 [==============================] - 0s 498us/step - loss: 0.5984 - accuracy: 0.7302\n",
      "Epoch 105/150\n",
      "50/50 [==============================] - 0s 498us/step - loss: 0.6096 - accuracy: 0.6992\n",
      "Epoch 106/150\n",
      "50/50 [==============================] - 0s 498us/step - loss: 0.6184 - accuracy: 0.6842\n",
      "Epoch 107/150\n",
      "50/50 [==============================] - 0s 498us/step - loss: 0.6386 - accuracy: 0.6470\n",
      "Epoch 108/150\n",
      "50/50 [==============================] - 0s 478us/step - loss: 0.6185 - accuracy: 0.6935\n",
      "Epoch 109/150\n",
      "50/50 [==============================] - 0s 498us/step - loss: 0.6332 - accuracy: 0.6971\n",
      "Epoch 110/150\n",
      "50/50 [==============================] - 0s 498us/step - loss: 0.6089 - accuracy: 0.6792\n",
      "Epoch 111/150\n",
      "50/50 [==============================] - 0s 498us/step - loss: 0.5879 - accuracy: 0.7064\n",
      "Epoch 112/150\n",
      "50/50 [==============================] - 0s 498us/step - loss: 0.5903 - accuracy: 0.7182\n",
      "Epoch 113/150\n",
      "50/50 [==============================] - 0s 478us/step - loss: 0.6099 - accuracy: 0.6751\n",
      "Epoch 114/150\n",
      "50/50 [==============================] - 0s 478us/step - loss: 0.5758 - accuracy: 0.7459\n",
      "Epoch 115/150\n",
      "50/50 [==============================] - 0s 478us/step - loss: 0.6126 - accuracy: 0.6808\n",
      "Epoch 116/150\n",
      "50/50 [==============================] - 0s 478us/step - loss: 0.6331 - accuracy: 0.6830\n",
      "Epoch 117/150\n",
      "50/50 [==============================] - 0s 478us/step - loss: 0.6110 - accuracy: 0.7115\n",
      "Epoch 118/150\n",
      "50/50 [==============================] - 0s 598us/step - loss: 0.5827 - accuracy: 0.7206\n",
      "Epoch 119/150\n",
      "50/50 [==============================] - 0s 717us/step - loss: 0.5632 - accuracy: 0.7244\n",
      "Epoch 120/150\n",
      "50/50 [==============================] - 0s 478us/step - loss: 0.6332 - accuracy: 0.6692\n",
      "Epoch 121/150\n",
      "50/50 [==============================] - 0s 478us/step - loss: 0.6196 - accuracy: 0.6758\n",
      "Epoch 122/150\n",
      "50/50 [==============================] - 0s 478us/step - loss: 0.5954 - accuracy: 0.7088\n",
      "Epoch 123/150\n",
      "50/50 [==============================] - 0s 558us/step - loss: 0.6036 - accuracy: 0.7071\n",
      "Epoch 124/150\n",
      "50/50 [==============================] - 0s 478us/step - loss: 0.5775 - accuracy: 0.7124\n",
      "Epoch 125/150\n",
      "50/50 [==============================] - 0s 478us/step - loss: 0.5741 - accuracy: 0.7038\n",
      "Epoch 126/150\n",
      "50/50 [==============================] - 0s 498us/step - loss: 0.6003 - accuracy: 0.7002\n",
      "Epoch 127/150\n",
      "50/50 [==============================] - 0s 478us/step - loss: 0.6067 - accuracy: 0.6861\n",
      "Epoch 128/150\n",
      "50/50 [==============================] - 0s 498us/step - loss: 0.6158 - accuracy: 0.6861\n",
      "Epoch 129/150\n",
      "50/50 [==============================] - 0s 518us/step - loss: 0.6013 - accuracy: 0.6956\n",
      "Epoch 130/150\n",
      "50/50 [==============================] - 0s 518us/step - loss: 0.6203 - accuracy: 0.6749\n",
      "Epoch 131/150\n",
      "50/50 [==============================] - 0s 518us/step - loss: 0.6283 - accuracy: 0.6769\n",
      "Epoch 132/150\n",
      "50/50 [==============================] - 0s 478us/step - loss: 0.5917 - accuracy: 0.6948\n",
      "Epoch 133/150\n",
      "50/50 [==============================] - 0s 518us/step - loss: 0.5988 - accuracy: 0.6929\n",
      "Epoch 134/150\n",
      "50/50 [==============================] - 0s 498us/step - loss: 0.6279 - accuracy: 0.6690\n",
      "Epoch 135/150\n",
      "50/50 [==============================] - 0s 498us/step - loss: 0.5656 - accuracy: 0.7363\n",
      "Epoch 136/150\n",
      "50/50 [==============================] - 0s 498us/step - loss: 0.6076 - accuracy: 0.6919\n",
      "Epoch 137/150\n",
      "50/50 [==============================] - 0s 498us/step - loss: 0.5730 - accuracy: 0.7132\n",
      "Epoch 138/150\n",
      "50/50 [==============================] - 0s 498us/step - loss: 0.5753 - accuracy: 0.7182\n",
      "Epoch 139/150\n",
      "50/50 [==============================] - 0s 498us/step - loss: 0.5653 - accuracy: 0.7534\n",
      "Epoch 140/150\n",
      "50/50 [==============================] - 0s 518us/step - loss: 0.6202 - accuracy: 0.6804\n",
      "Epoch 141/150\n",
      "50/50 [==============================] - 0s 498us/step - loss: 0.6051 - accuracy: 0.6823\n",
      "Epoch 142/150\n",
      "50/50 [==============================] - 0s 538us/step - loss: 0.5744 - accuracy: 0.7256\n",
      "Epoch 143/150\n",
      "50/50 [==============================] - 0s 538us/step - loss: 0.5722 - accuracy: 0.7419\n",
      "Epoch 144/150\n",
      "50/50 [==============================] - 0s 498us/step - loss: 0.5884 - accuracy: 0.7009\n",
      "Epoch 145/150\n",
      "50/50 [==============================] - 0s 498us/step - loss: 0.5809 - accuracy: 0.7309\n",
      "Epoch 146/150\n",
      "50/50 [==============================] - 0s 518us/step - loss: 0.5949 - accuracy: 0.7055\n",
      "Epoch 147/150\n",
      "50/50 [==============================] - 0s 518us/step - loss: 0.5937 - accuracy: 0.7082\n",
      "Epoch 148/150\n",
      "50/50 [==============================] - 0s 478us/step - loss: 0.6335 - accuracy: 0.6717\n",
      "Epoch 149/150\n",
      "50/50 [==============================] - 0s 498us/step - loss: 0.5624 - accuracy: 0.7396\n",
      "Epoch 150/150\n",
      "50/50 [==============================] - 0s 498us/step - loss: 0.5628 - accuracy: 0.7423\n"
     ]
    },
    {
     "data": {
      "text/plain": [
       "<keras.callbacks.History at 0x2212c45f760>"
      ]
     },
     "execution_count": 495,
     "metadata": {},
     "output_type": "execute_result"
    }
   ],
   "source": [
    "4\n",
    "...\n",
    "# fit the keras model on the dataset\n",
    "model.fit(X, y, epochs=150, batch_size=10)"
   ]
  },
  {
   "cell_type": "code",
   "execution_count": 496,
   "id": "arranged-superior",
   "metadata": {},
   "outputs": [
    {
     "name": "stdout",
     "output_type": "stream",
     "text": [
      "Model: \"sequential_14\"\n",
      "_________________________________________________________________\n",
      "Layer (type)                 Output Shape              Param #   \n",
      "=================================================================\n",
      "dense_14 (Dense)             (10, 1)                   9         \n",
      "=================================================================\n",
      "Total params: 9\n",
      "Trainable params: 9\n",
      "Non-trainable params: 0\n",
      "_________________________________________________________________\n",
      "None\n"
     ]
    }
   ],
   "source": [
    "print(model.summary())"
   ]
  },
  {
   "cell_type": "code",
   "execution_count": 497,
   "id": "lasting-karaoke",
   "metadata": {},
   "outputs": [
    {
     "name": "stdout",
     "output_type": "stream",
     "text": [
      "16/16 [==============================] - 0s 585us/step - loss: 0.5884 - accuracy: 0.7160\n",
      "Accuracy: 71.60\n"
     ]
    }
   ],
   "source": [
    "4\n",
    "...\n",
    "# evaluate the keras model\n",
    "_, accuracy = model.evaluate(X, y)\n",
    "print('Accuracy: %.2f' % (accuracy*100))"
   ]
  },
  {
   "cell_type": "code",
   "execution_count": 498,
   "id": "tested-hudson",
   "metadata": {},
   "outputs": [
    {
     "name": "stdout",
     "output_type": "stream",
     "text": [
      "{'name': 'dense_14', 'trainable': True, 'dtype': 'float32', 'units': 1, 'activation': 'sigmoid', 'use_bias': True, 'kernel_initializer': {'class_name': 'GlorotUniform', 'config': {'seed': None}}, 'bias_initializer': {'class_name': 'Zeros', 'config': {}}, 'kernel_regularizer': None, 'bias_regularizer': None, 'activity_regularizer': None, 'kernel_constraint': None, 'bias_constraint': None}\n",
      "[array([[ 0.13211168],\n",
      "       [ 0.01525926],\n",
      "       [-0.02515939],\n",
      "       [-0.00679704],\n",
      "       [ 0.0019308 ],\n",
      "       [ 0.02504629],\n",
      "       [ 0.00425911],\n",
      "       [-0.01824518]], dtype=float32), array([-1.1685565], dtype=float32)]\n"
     ]
    }
   ],
   "source": [
    "for layer in model.layers: \n",
    "    print(layer.get_config())\n",
    "    print(layer.get_weights())\n",
    "    \n",
    "    w = layer.get_weights()"
   ]
  },
  {
   "cell_type": "code",
   "execution_count": 499,
   "id": "directed-census",
   "metadata": {},
   "outputs": [],
   "source": [
    "weights = w[0]\n",
    "bias = w[1]"
   ]
  },
  {
   "cell_type": "code",
   "execution_count": 500,
   "id": "intensive-princeton",
   "metadata": {},
   "outputs": [
    {
     "name": "stdout",
     "output_type": "stream",
     "text": [
      "[  2 117  90  19  71  25  31  21]\n"
     ]
    }
   ],
   "source": [
    "print(X1[0])"
   ]
  },
  {
   "cell_type": "code",
   "execution_count": 501,
   "id": "statutory-response",
   "metadata": {},
   "outputs": [],
   "source": [
    "predictions = model.predict(X1)\n",
    "# predictions"
   ]
  },
  {
   "cell_type": "code",
   "execution_count": 502,
   "id": "sharp-alliance",
   "metadata": {},
   "outputs": [],
   "source": [
    "# for i in range(len(predictions)):\n",
    "#     if(predictions[i]>=.5):\n",
    "#         print(i)"
   ]
  },
  {
   "cell_type": "code",
   "execution_count": 503,
   "id": "damaged-damages",
   "metadata": {},
   "outputs": [],
   "source": [
    "\n",
    "rounded= [round(x[0]) for x in predictions]\n",
    "# rounded"
   ]
  },
  {
   "cell_type": "code",
   "execution_count": 504,
   "id": "altered-korea",
   "metadata": {},
   "outputs": [
    {
     "data": {
      "text/plain": [
       "0.7089552238805971"
      ]
     },
     "execution_count": 504,
     "metadata": {},
     "output_type": "execute_result"
    }
   ],
   "source": [
    "from sklearn.metrics import accuracy_score\n",
    "accuracy_score(y1, rounded)"
   ]
  },
  {
   "cell_type": "code",
   "execution_count": 505,
   "id": "advance-jacksonville",
   "metadata": {},
   "outputs": [
    {
     "name": "stdout",
     "output_type": "stream",
     "text": [
      "[0, 0, 0, 0, 0, 0, 0, 1, 0, 0, 0, 0, 0, 0, 0, 1, 1, 0, 1, 0, 0, 0, 1, 1, 1, 0, 0, 0, 0, 0, 1, 0, 0, 1, 0, 1, 0, 0, 0, 0, 1, 1, 0, 0, 0, 1, 1, 1, 0, 0, 0, 0, 0, 0, 0, 1, 0, 0, 1, 0, 0, 1, 0, 0, 0, 0, 0, 0, 1, 0, 0, 0, 0, 0, 1, 1, 1, 0, 1, 0, 0, 0, 0, 0, 1, 0, 1, 0, 1, 1, 1, 0, 0, 1, 1, 1, 0, 1, 0, 1, 0, 1, 0, 1, 1, 0, 1, 0, 0, 0, 1, 1, 1, 0, 1, 0, 0, 0, 0, 1, 0, 0, 1, 0, 0, 0, 0, 0, 0, 0, 1, 0, 0, 0, 1, 1, 0, 0, 1, 0, 0, 1, 0, 1, 0, 1, 0, 1, 1, 0, 0, 0, 0, 0, 0, 1, 0, 0, 0, 0, 1, 1, 1, 1, 0, 0, 0, 0, 1, 1, 1, 0, 0, 1, 0, 1, 0, 0, 1, 1, 0, 1, 0, 0, 0, 1, 0, 0, 0, 0, 0, 1, 1, 1, 0, 1, 1, 1, 0, 1, 0, 0, 0, 1, 0, 0, 1, 1, 1, 0, 1, 0, 1, 1, 0, 1, 1, 0, 0, 0, 0, 0, 0, 0, 0, 0, 0, 0, 0, 0, 0, 0, 1, 0, 0, 0, 0, 0, 1, 0, 1, 1, 0, 1, 1, 0, 0, 0, 1, 1, 1, 0, 0, 1, 1, 0, 0, 0, 0, 0, 0, 1, 0, 0, 0, 0, 0, 0]\n"
     ]
    }
   ],
   "source": [
    "print(rounded)"
   ]
  },
  {
   "cell_type": "code",
   "execution_count": 506,
   "id": "universal-vanilla",
   "metadata": {},
   "outputs": [
    {
     "name": "stdout",
     "output_type": "stream",
     "text": [
      "[0 0 1 0 0 0 1 0 0 0]\n"
     ]
    }
   ],
   "source": [
    "print(y1[:10])"
   ]
  },
  {
   "cell_type": "code",
   "execution_count": 507,
   "id": "interested-penguin",
   "metadata": {},
   "outputs": [
    {
     "data": {
      "text/plain": [
       "array([[ 132., 1000.],\n",
       "       [  15., 1000.],\n",
       "       [ -25., 1000.],\n",
       "       [  -6., 1000.],\n",
       "       [   1., 1000.],\n",
       "       [  25., 1000.],\n",
       "       [   4., 1000.],\n",
       "       [ -18., 1000.]])"
      ]
     },
     "execution_count": 507,
     "metadata": {},
     "output_type": "execute_result"
    }
   ],
   "source": [
    "w = np.zeros((8,2))\n",
    "for i in range(weights.shape[0]):\n",
    "    w[i][0] = int(weights[i][0]*1000)\n",
    "    w[i][1] = 1000\n",
    "w\n"
   ]
  },
  {
   "cell_type": "code",
   "execution_count": 508,
   "id": "marked-treatment",
   "metadata": {},
   "outputs": [],
   "source": [
    "b = []\n",
    "b.append(int(bias*1000))\n",
    "b.append(1000)"
   ]
  },
  {
   "cell_type": "code",
   "execution_count": 509,
   "id": "designed-seventh",
   "metadata": {},
   "outputs": [],
   "source": [
    "def compute_lcm(x, y):\n",
    "   # choose the greater number\n",
    "    if (x > y):\n",
    "        greater = x\n",
    "    else:\n",
    "        greater = y\n",
    "    while(True):\n",
    "        if((greater % x == 0) and (greater % y == 0)):\n",
    "            lcm = greater\n",
    "            break\n",
    "        greater += 1\n",
    "    return lcm"
   ]
  },
  {
   "cell_type": "code",
   "execution_count": 510,
   "id": "wired-words",
   "metadata": {},
   "outputs": [],
   "source": [
    "def addition(a,b,c,d):\n",
    "    den = compute_lcm(b,d)\n",
    "#     den = b*d\n",
    "    num = ((den/b)*a) + ((den/d)*c)\n",
    "#     print(num,den)\n",
    "    return float(num),float(den)\n",
    "        "
   ]
  },
  {
   "cell_type": "code",
   "execution_count": 511,
   "id": "revised-legislation",
   "metadata": {},
   "outputs": [],
   "source": [
    "def IXWB(inputs,w,b):\n",
    "    num=0\n",
    "    den=0\n",
    "    out = np.zeros((inputs.shape[0],1))\n",
    "    for i in range(inputs.shape[0]):\n",
    "#     for i in range(10):\n",
    "#         print(inputs[i][0],w)\n",
    "        for j in range(inputs.shape[1]):\n",
    "            num = num + inputs[i][j]*w[j][0]\n",
    "            den = w[0][1]\n",
    "        num,den = addition(num,den,b[0],b[1])\n",
    "        out[i][0] = num\n",
    "#         out[i][1] = den\n",
    "        num =0\n",
    "        den =0\n",
    "    return out"
   ]
  },
  {
   "cell_type": "code",
   "execution_count": 512,
   "id": "purple-jimmy",
   "metadata": {},
   "outputs": [
    {
     "name": "stdout",
     "output_type": "stream",
     "text": [
      "[  2 117  90  19  71  25  31  21]\n",
      "-1168\n"
     ]
    }
   ],
   "source": [
    "print(X1[0])\n",
    "print(b[0])"
   ]
  },
  {
   "cell_type": "code",
   "execution_count": 513,
   "id": "elementary-journal",
   "metadata": {},
   "outputs": [],
   "source": [
    "test = IXWB(X1,w,b)\n",
    "# print(test)"
   ]
  },
  {
   "cell_type": "code",
   "execution_count": 514,
   "id": "demonstrated-target",
   "metadata": {},
   "outputs": [],
   "source": [
    "# for i in range(len(test)):\n",
    "#     if(test[i][0]>0):\n",
    "#         print(i)"
   ]
  },
  {
   "cell_type": "code",
   "execution_count": 515,
   "id": "passing-opinion",
   "metadata": {},
   "outputs": [],
   "source": [
    "def sigmoidfrac(x):\n",
    "    if(x>=0):\n",
    "        return 1\n",
    "    else:\n",
    "        return 0"
   ]
  },
  {
   "cell_type": "code",
   "execution_count": 516,
   "id": "ignored-template",
   "metadata": {},
   "outputs": [],
   "source": [
    "out = []\n",
    "for i in range(test.shape[0]):\n",
    "    out.append(sigmoidfrac(test[i][0]))\n",
    "# out"
   ]
  },
  {
   "cell_type": "code",
   "execution_count": 517,
   "id": "guilty-simpson",
   "metadata": {},
   "outputs": [
    {
     "data": {
      "text/plain": [
       "0.7388059701492538"
      ]
     },
     "execution_count": 517,
     "metadata": {},
     "output_type": "execute_result"
    }
   ],
   "source": [
    "from sklearn.metrics import accuracy_score\n",
    "accuracy_score(y1, out)"
   ]
  },
  {
   "cell_type": "code",
   "execution_count": null,
   "id": "wooden-central",
   "metadata": {},
   "outputs": [],
   "source": [
    "\n"
   ]
  },
  {
   "cell_type": "code",
   "execution_count": 518,
   "id": "canadian-herald",
   "metadata": {},
   "outputs": [],
   "source": [
    "weight = new_weight.tolist()"
   ]
  },
  {
   "cell_type": "code",
   "execution_count": 519,
   "id": "basic-things",
   "metadata": {},
   "outputs": [
    {
     "name": "stdout",
     "output_type": "stream",
     "text": [
      "[[ 0.13211168]\n",
      " [ 0.01525926]\n",
      " [-0.02515939]\n",
      " [-0.00679704]\n",
      " [ 0.0019308 ]\n",
      " [ 0.02504629]\n",
      " [ 0.00425911]\n",
      " [-0.01824518]]\n",
      "[-1.1685565]\n"
     ]
    }
   ],
   "source": [
    "print(weights)\n",
    "print(bias)"
   ]
  },
  {
   "cell_type": "code",
   "execution_count": 520,
   "id": "ordinary-optimum",
   "metadata": {},
   "outputs": [],
   "source": [
    "# # def sigmoid_tx(acc,pk,X_input,weight,bias,cont_address,abi):\n",
    "# contract = web3.eth.contract(address=cont_address,abi=abi)\n",
    "# # getting IXWB\n",
    "# nonce = web3.eth.getTransactionCount(account1)\n",
    "# print(type(X_input),type(weight),type(bias))\n",
    "# tx_IXWB = contract.functions.compute_IXWB(X_input,weight,bias\n",
    "#     ).buildTransaction({\n",
    "#     'gas': 100000,\n",
    "#     'gasPrice': web3.toWei('1', 'gwei'),\n",
    "#     'from': account1,\n",
    "#     'nonce': nonce\n",
    "#     }) \n",
    "# signed_txn = web3.eth.account.signTransaction(tx_IXWB, private_key=private_key1)\n",
    "# start_time = time.time()\n",
    "# tx_hash = web3.eth.sendRawTransaction(signed_txn.rawTransaction)\n",
    "# tx_receipt = web3.eth.waitForTransactionReceipt(tx_hash)\n",
    "# end_time = time.time()\n",
    "# print(end_time -start_time)\n",
    "# out_num,out_den = contract.functions.add_print().call()\n",
    "\n",
    "# # getting sigmoid\n",
    "# nonce= web3.eth.getTransactionCount(account1)\n",
    "# tx_sigmoid = contract.functions.compute_sigmoid(\n",
    "#     out_num\n",
    "#      ).buildTransaction({\n",
    "#     'gas': 70000,\n",
    "#     'gasPrice': web3.toWei('1', 'gwei'),\n",
    "#     'from': account1,\n",
    "#     'nonce': nonce\n",
    "#     }) \n",
    "# signed_txn = web3.eth.account.signTransaction(tx_sigmoid, private_key=private_key1)\n",
    "# start_time = time.time()\n",
    "# tx_hash = web3.eth.sendRawTransaction(signed_txn.rawTransaction)\n",
    "# tx_receipt = web3.eth.waitForTransactionReceipt(tx_hash)\n",
    "# end_time = time.time()\n",
    "# print(end_time -start_time)\n",
    "# pred = contract.functions.predict_print().call()\n",
    "# #     return pred"
   ]
  },
  {
   "cell_type": "code",
   "execution_count": 521,
   "id": "brazilian-teens",
   "metadata": {},
   "outputs": [
    {
     "name": "stdout",
     "output_type": "stream",
     "text": [
      "[[  2 117  90 ...  25  31  21]\n",
      " [  3  84  72 ...  37  26  28]\n",
      " [  6   0  68 ...  39  72  41]\n",
      " ...\n",
      " [  5 121  72 ...  26  24  30]\n",
      " [  1 126  60 ...  30  34  47]\n",
      " [  1  93  70 ...  30  31  23]] [132, 15, -25, -6, 1, 25, 4, -18] [-1168, 1000]\n"
     ]
    }
   ],
   "source": [
    "# print (X1, w,b,)\n",
    "# b = b.tolist()\n",
    "nw  = w[:,0].astype(int)\n",
    "nw = nw.tolist()\n",
    "print (X1, nw,b)"
   ]
  },
  {
   "cell_type": "code",
   "execution_count": null,
   "id": "human-nomination",
   "metadata": {},
   "outputs": [],
   "source": [
    "def predict_compute()\n",
    "    pred =[]\n",
    "    IXWB_time=[]\n",
    "    sigmoid_time=[]\n",
    "    IXWB_gasuse=[]\n",
    "    sigmoid_gasuse=[]\n",
    "    for i in range(X1.shape[0]):\n",
    "        # getting IXWB\n",
    "        inputs = X1[i].tolist()\n",
    "        contract = web3.eth.contract(address=cont_address,abi=abi)\n",
    "        nonce = web3.eth.getTransactionCount(account2)\n",
    "        tx_IXWB = contract.functions.compute_IXWB(\n",
    "            inputs,nw,b\n",
    "            ).buildTransaction({\n",
    "            'gas': 1000000,\n",
    "            'gasPrice': web3.toWei('10', 'gwei'),\n",
    "            'from': account2,\n",
    "            'nonce': nonce\n",
    "            }) \n",
    "        signed_txn = web3.eth.account.signTransaction(tx_IXWB, private_key=private_key2)\n",
    "        start_time = time.time()\n",
    "        tx_hash = web3.eth.sendRawTransaction(signed_txn.rawTransaction)\n",
    "        tx_receipt = web3.eth.waitForTransactionReceipt(tx_hash)\n",
    "        end_time = time.time()\n",
    "        IXWB_time.append(end_time -start_time)\n",
    "        IXWB_gasuse.append(tx_receipt.gasUsed)\n",
    "        out_num,out_den = contract.functions.add_print().call()\n",
    "\n",
    "        # getting sigmoid\n",
    "        nonce= web3.eth.getTransactionCount(account2)\n",
    "        tx_sigmoid = contract.functions.compute_sigmoid(\n",
    "            out_num\n",
    "             ).buildTransaction({\n",
    "            'gas': 1000000,\n",
    "            'gasPrice': web3.toWei('10', 'gwei'),\n",
    "            'from': account2,\n",
    "            'nonce': nonce\n",
    "            }) \n",
    "        signed_txn = web3.eth.account.signTransaction(tx_sigmoid, private_key=private_key2)\n",
    "        start_time = time.time()\n",
    "        tx_hash = web3.eth.sendRawTransaction(signed_txn.rawTransaction)\n",
    "        tx_receipt = web3.eth.waitForTransactionReceipt(tx_hash)\n",
    "        end_time = time.time()\n",
    "        sigmoid_time.append(end_time -start_time)\n",
    "        sigmoid_gasuse.append(tx_receipt.gasUsed)\n",
    "        pred.append(contract.functions.predict_print().call())\n",
    "        inputs.clear()"
   ]
  },
  {
   "cell_type": "code",
   "execution_count": 527,
   "id": "numeric-strip",
   "metadata": {},
   "outputs": [],
   "source": [
    "pred =[]\n",
    "IXWB_time=[]\n",
    "sigmoid_time=[]\n",
    "IXWB_gasuse=[]\n",
    "sigmoid_gasuse=[]\n",
    "\n",
    "for i in range(X1.shape[0]):\n",
    "    # getting IXWB\n",
    "    inputs = X1[i].tolist()\n",
    "#     pred.append(sigmoid_tx(account1, private_key1,inputs,weight,bias,cont_address,abi))\n",
    "    contract = web3.eth.contract(address=cont_address,abi=abi)\n",
    "#     print(inputs,nw,b)\n",
    "    nonce = web3.eth.getTransactionCount(account2)\n",
    "#     print(type(inputs),type(nw),type(b))\n",
    "    tx_IXWB = contract.functions.compute_IXWB(\n",
    "        inputs,nw,b\n",
    "        ).buildTransaction({\n",
    "        'gas': 1000000,\n",
    "        'gasPrice': web3.toWei('10', 'gwei'),\n",
    "        'from': account2,\n",
    "        'nonce': nonce\n",
    "        }) \n",
    "    signed_txn = web3.eth.account.signTransaction(tx_IXWB, private_key=private_key2)\n",
    "    start_time = time.time()\n",
    "    tx_hash = web3.eth.sendRawTransaction(signed_txn.rawTransaction)\n",
    "    tx_receipt = web3.eth.waitForTransactionReceipt(tx_hash)\n",
    "    end_time = time.time()\n",
    "    IXWB_time.append(end_time -start_time)\n",
    "    IXWB_gasuse.append(tx_receipt.gasUsed)\n",
    "    out_num,out_den = contract.functions.add_print().call()\n",
    "\n",
    "    # getting sigmoid\n",
    "    nonce= web3.eth.getTransactionCount(account2)\n",
    "    tx_sigmoid = contract.functions.compute_sigmoid(\n",
    "        out_num\n",
    "         ).buildTransaction({\n",
    "        'gas': 1000000,\n",
    "        'gasPrice': web3.toWei('10', 'gwei'),\n",
    "        'from': account2,\n",
    "        'nonce': nonce\n",
    "        }) \n",
    "    signed_txn = web3.eth.account.signTransaction(tx_sigmoid, private_key=private_key2)\n",
    "    start_time = time.time()\n",
    "    tx_hash = web3.eth.sendRawTransaction(signed_txn.rawTransaction)\n",
    "    tx_receipt = web3.eth.waitForTransactionReceipt(tx_hash)\n",
    "    end_time = time.time()\n",
    "    sigmoid_time.append(end_time -start_time)\n",
    "    sigmoid_gasuse.append(tx_receipt.gasUsed)\n",
    "    pred.append(contract.functions.predict_print().call())\n",
    "    inputs.clear()\n",
    "   "
   ]
  },
  {
   "cell_type": "code",
   "execution_count": 528,
   "id": "cross-bandwidth",
   "metadata": {},
   "outputs": [
    {
     "name": "stdout",
     "output_type": "stream",
     "text": [
      "[0, 0, 0, 0, 0, 0, 0, 1, 0, 0, 0, 0, 0, 0, 0, 1, 1, 0, 1, 0, 0, 0, 1, 1, 1, 0, 0, 0, 0, 0, 1, 0, 0, 1, 0, 1, 0, 0, 0, 0, 0, 0, 0, 0, 0, 1, 1, 1, 0, 0, 0, 0, 0, 0, 0, 0, 0, 0, 1, 0, 0, 1, 0, 0, 0, 0, 0, 0, 1, 0, 0, 0, 0, 0, 0, 0, 1, 0, 1, 0, 0, 0, 0, 0, 1, 0, 1, 0, 1, 1, 1, 0, 0, 0, 1, 1, 0, 1, 0, 0, 0, 1, 0, 1, 1, 0, 1, 0, 0, 0, 0, 1, 1, 0, 1, 0, 0, 0, 0, 1, 0, 0, 1, 0, 0, 0, 0, 0, 0, 0, 1, 0, 0, 0, 1, 1, 0, 0, 0, 0, 0, 1, 0, 1, 0, 1, 0, 1, 1, 0, 0, 0, 0, 0, 0, 1, 0, 0, 0, 0, 1, 1, 0, 1, 0, 0, 0, 0, 0, 1, 1, 0, 0, 0, 0, 1, 0, 0, 1, 0, 0, 1, 0, 0, 0, 0, 0, 0, 0, 0, 0, 1, 0, 1, 0, 0, 1, 1, 0, 1, 0, 0, 0, 1, 0, 0, 1, 1, 1, 0, 1, 0, 1, 0, 0, 1, 1, 0, 0, 0, 0, 0, 0, 0, 0, 0, 0, 0, 0, 0, 0, 0, 1, 0, 0, 0, 0, 0, 0, 0, 1, 1, 0, 1, 1, 0, 0, 0, 1, 1, 1, 0, 0, 1, 1, 0, 0, 0, 0, 0, 0, 1, 0, 0, 0, 0, 0, 0]\n"
     ]
    }
   ],
   "source": [
    "print(pred)"
   ]
  },
  {
   "cell_type": "code",
   "execution_count": 530,
   "id": "complete-archives",
   "metadata": {},
   "outputs": [
    {
     "name": "stdout",
     "output_type": "stream",
     "text": [
      "0.7388059701492538\n"
     ]
    }
   ],
   "source": [
    "print(accuracy_score(y1, pred))"
   ]
  },
  {
   "cell_type": "code",
   "execution_count": 532,
   "id": "found-diversity",
   "metadata": {},
   "outputs": [
    {
     "name": "stdout",
     "output_type": "stream",
     "text": [
      "[0.06054830551147461, 0.12253451347351074, 0.156449556350708, 0.10309863090515137, 0.12160325050354004, 0.1445465087890625, 0.10182905197143555, 0.12809371948242188, 0.12788629531860352, 0.08518171310424805, 0.08038926124572754, 0.136735200881958, 0.11088299751281738, 0.11569857597351074, 0.1114051342010498, 0.13178515434265137, 0.07615518569946289, 0.11945962905883789, 0.1148977279663086, 0.12138032913208008, 0.1106266975402832, 0.09958553314208984, 0.1390533447265625, 0.0812532901763916, 0.13999533653259277, 0.13186335563659668, 0.09899282455444336, 0.12333869934082031, 0.1005551815032959, 0.13277482986450195, 0.1580038070678711, 0.12741613388061523, 0.07145285606384277, 0.17385387420654297, 0.14792585372924805, 0.14545011520385742, 0.13996124267578125, 0.15015220642089844, 0.1551513671875, 0.12607526779174805, 0.1361687183380127, 0.11244034767150879, 0.13125228881835938, 0.10642099380493164, 0.10099005699157715, 0.12711024284362793, 0.08689236640930176, 0.11559581756591797, 0.17416739463806152, 0.1134026050567627, 0.10601043701171875, 0.10778164863586426, 0.11432099342346191, 0.09878039360046387, 0.1294395923614502, 0.09975004196166992, 0.11973762512207031, 0.10992264747619629, 0.12804150581359863, 0.12106490135192871, 0.12694787979125977, 0.12399458885192871, 0.13291168212890625, 0.11130166053771973, 0.13583636283874512, 0.11064600944519043, 0.10254430770874023, 0.08890724182128906, 0.11227917671203613, 0.15922164916992188, 0.14332318305969238, 0.12762713432312012, 0.14389300346374512, 0.12314558029174805, 0.1232907772064209, 0.12122821807861328, 0.14400291442871094, 0.17221450805664062, 0.15034151077270508, 0.14936518669128418, 0.1126863956451416, 0.10485577583312988, 0.1117856502532959, 0.1156768798828125, 0.15050745010375977, 0.1350247859954834, 0.1450364589691162, 0.11525917053222656, 0.09823894500732422, 0.09580206871032715, 0.1251678466796875, 0.1329479217529297, 0.09906196594238281, 0.1084442138671875, 0.10474038124084473, 0.1046760082244873, 0.12041211128234863, 0.187302827835083, 0.13495755195617676, 0.11110973358154297, 0.12739968299865723, 0.18878817558288574, 0.10173964500427246, 0.11459803581237793, 0.1045377254486084, 0.137251615524292, 0.14862465858459473, 0.14490342140197754, 0.12048912048339844, 0.1077265739440918, 0.12850165367126465, 0.1393723487854004, 0.14538121223449707, 0.1065218448638916, 0.10858941078186035, 0.09665751457214355, 0.09482264518737793, 0.11057472229003906, 0.14012837409973145, 0.12345099449157715, 0.1573166847229004, 0.1066279411315918, 0.15131425857543945, 0.1529836654663086, 0.11201333999633789, 0.15344882011413574, 0.1371457576751709, 0.10658884048461914, 0.12402486801147461, 0.10410094261169434, 0.15739798545837402, 0.14107155799865723, 0.08037948608398438, 0.1445934772491455, 0.12631702423095703, 0.1623990535736084, 0.14486360549926758, 0.13122844696044922, 0.11938071250915527, 0.10074901580810547, 0.12576961517333984, 0.09991931915283203, 0.12836980819702148, 0.14669585227966309, 0.13657522201538086, 0.08202457427978516, 0.15263700485229492, 0.14583206176757812, 0.15459156036376953, 0.1210639476776123, 0.13895869255065918, 0.12411189079284668, 0.08991217613220215, 0.12523388862609863, 0.07908296585083008, 0.11624670028686523, 0.1263573169708252, 0.10079550743103027, 0.12540268898010254, 0.10103940963745117, 0.11520600318908691, 0.10349035263061523, 0.13968920707702637, 0.1386394500732422, 0.1074972152709961, 0.11630463600158691, 0.12845969200134277, 0.08884525299072266, 0.14254403114318848, 0.12258338928222656, 0.12637853622436523, 0.11538243293762207, 0.1118156909942627, 0.1378157138824463, 0.12055492401123047, 0.12533926963806152, 0.1604151725769043, 0.10768699645996094, 0.12423491477966309, 0.08898615837097168, 0.11450743675231934, 0.2262570858001709, 0.12702703475952148, 0.08406376838684082, 0.13819622993469238, 0.11072349548339844, 0.11365985870361328, 0.1477670669555664, 0.11716079711914062, 0.07526040077209473, 0.08010482788085938, 0.1213068962097168, 0.13178730010986328, 0.14385747909545898, 0.11354708671569824, 0.1291675567626953, 0.10288119316101074, 0.10579228401184082, 0.1419837474822998, 0.12153506278991699, 0.12513327598571777, 0.08117127418518066, 0.12928128242492676, 0.14826273918151855, 0.13803553581237793, 0.1327810287475586, 0.146803617477417, 0.09292054176330566, 0.1835486888885498, 0.17431640625, 0.10646367073059082, 0.1437985897064209, 0.12342166900634766, 0.12065505981445312, 0.13056683540344238, 0.10850834846496582, 0.13120388984680176, 0.11143279075622559, 0.12070465087890625, 0.12050223350524902, 0.11752176284790039, 0.13117718696594238, 0.14882707595825195, 0.13983607292175293, 0.11865496635437012, 0.11647868156433105, 0.12406468391418457, 0.12265491485595703, 0.0989067554473877, 0.07809662818908691, 0.1299605369567871, 0.11160922050476074, 0.14281344413757324, 0.14811396598815918, 0.16086220741271973, 0.1085355281829834, 0.15158653259277344, 0.13567185401916504, 0.14969444274902344, 0.06848025321960449, 0.12516379356384277, 0.13612818717956543, 0.1366863250732422, 0.1350266933441162, 0.11762237548828125, 0.11052894592285156, 0.11889505386352539, 0.12453675270080566, 0.14284205436706543, 0.14227628707885742, 0.14627861976623535, 0.14696455001831055, 0.12067151069641113, 0.1392347812652588, 0.11526846885681152, 0.17562556266784668, 0.08200979232788086, 0.05566668510437012, 0.10251522064208984, 0.16013836860656738, 0.16266202926635742, 0.15198898315429688, 0.23417186737060547, 0.08515572547912598, 0.11385536193847656, 0.14695143699645996, 0.08701920509338379, 0.08420062065124512]\n",
      "[22642, 22642, 22642, 22642, 22642, 22642, 22642, 41480, 13421, 22642, 22642, 22642, 22642, 22642, 22642, 41492, 22280, 13421, 41492, 13421, 22642, 22642, 41492, 22292, 22280, 13421, 22642, 22642, 22642, 22642, 41480, 13421, 22642, 41492, 13415, 41492, 13421, 22642, 22642, 22642, 22642, 22642, 22642, 22642, 22642, 41492, 22292, 22280, 13421, 22642, 22642, 22642, 22642, 22642, 22642, 22642, 22642, 22642, 41492, 13421, 22642, 41492, 13421, 22642, 22642, 22642, 22642, 22642, 41480, 13421, 22642, 22642, 22642, 22642, 22642, 22642, 41492, 13421, 41492, 13421, 22642, 22642, 22642, 22642, 41492, 13421, 41492, 13421, 41480, 22280, 22292, 13421, 22642, 22642, 41480, 22292, 13421, 41480, 13421, 22642, 22642, 41492, 13421, 41480, 22292, 13421, 41492, 13421, 22642, 22642, 22642, 41492, 22292, 13421, 41492, 13421, 22642, 22642, 22642, 41492, 13421, 22642, 41492, 13421, 22642, 22642, 22642, 22642, 22642, 22642, 41480, 13421, 22642, 22642, 41480, 22292, 13421, 22642, 22642, 22642, 22642, 41480, 13421, 41492, 13421, 41492, 13421, 41492, 22280, 13421, 22630, 22642, 22642, 22642, 22642, 41492, 13421, 22642, 22642, 22642, 41492, 22292, 13421, 41492, 13421, 22642, 22642, 22642, 22642, 41492, 22292, 13421, 22642, 22642, 22642, 41492, 13421, 22642, 41480, 13421, 22642, 41480, 13421, 22642, 22642, 22642, 22642, 22642, 22642, 22642, 22642, 41492, 13421, 41480, 13421, 22642, 41480, 22292, 13421, 41492, 13421, 22642, 22642, 41492, 13421, 22642, 41492, 22292, 22292, 13421, 41492, 13421, 41492, 13421, 22642, 41492, 22292, 13421, 22642, 22642, 22642, 22642, 22642, 22642, 22642, 22642, 22642, 22642, 22642, 22642, 22642, 22642, 41492, 13421, 22642, 22642, 22642, 22642, 22642, 22642, 41492, 22280, 13421, 41480, 22292, 13421, 22642, 22642, 41492, 22292, 22292, 13421, 22642, 41492, 22280, 13421, 22642, 22642, 22642, 22642, 22642, 41492, 13421, 22642, 22642, 22642, 22642, 22642]\n"
     ]
    }
   ],
   "source": [
    "print(sigmoid_time)\n",
    "print(sigmoid_gasuse)"
   ]
  },
  {
   "cell_type": "code",
   "execution_count": null,
   "id": "featured-double",
   "metadata": {},
   "outputs": [],
   "source": []
  }
 ],
 "metadata": {
  "kernelspec": {
   "display_name": "Python 3",
   "language": "python",
   "name": "python3"
  },
  "language_info": {
   "codemirror_mode": {
    "name": "ipython",
    "version": 3
   },
   "file_extension": ".py",
   "mimetype": "text/x-python",
   "name": "python",
   "nbconvert_exporter": "python",
   "pygments_lexer": "ipython3",
   "version": "3.9.2"
  }
 },
 "nbformat": 4,
 "nbformat_minor": 5
}
