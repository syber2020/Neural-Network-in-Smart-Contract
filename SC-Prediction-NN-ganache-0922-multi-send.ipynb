{
 "cells": [
  {
   "cell_type": "code",
   "execution_count": 60,
   "id": "alive-rally",
   "metadata": {
    "scrolled": true
   },
   "outputs": [],
   "source": [
    "import numpy as np\n",
    "import pandas as pd\n",
    "from sklearn.linear_model import Perceptron\n",
    "from keras.models import Sequential\n",
    "from keras.layers import Dense\n",
    "import time\n",
    "import threading\n",
    "import numpy as np\n",
    "import json\n",
    "from web3 import Web3\n",
    "\n"
   ]
  },
  {
   "cell_type": "code",
   "execution_count": 61,
   "id": "hired-democracy",
   "metadata": {},
   "outputs": [
    {
     "data": {
      "text/plain": [
       "False"
      ]
     },
     "execution_count": 61,
     "metadata": {},
     "output_type": "execute_result"
    }
   ],
   "source": [
    "df = pd.read_csv('diabetes.csv',sep = ',')\n",
    "# starting web3 operations\n",
    "\n",
    "# ganache_url = \"HTTP://127.0.0.1:8545\"\n",
    "infura_url = \"https://ropsten.infura.io/v3/6072fdc3b95c407caa681f63ebaf72b8\"\n",
    "# web3 = Web3(Web3.HTTPProvider(ganache_url))\n",
    "web3 = Web3(Web3.HTTPProvider(infura_url))\n",
    "web3.isConnected()"
   ]
  },
  {
   "cell_type": "code",
   "execution_count": 62,
   "id": "amino-delicious",
   "metadata": {},
   "outputs": [],
   "source": [
    "abi = json.loads('[{ \"inputs\": [], \"name\": \"add_print\", \"outputs\": [ { \"internalType\": \"int256\", \"name\": \"x\", \"type\": \"int256\" }, { \"internalType\": \"int256\", \"name\": \"y\", \"type\": \"int256\" } ], \"stateMutability\": \"view\", \"type\": \"function\" }, { \"inputs\": [ { \"internalType\": \"int256[]\", \"name\": \"input\", \"type\": \"int256[]\" }, { \"internalType\": \"int256[]\", \"name\": \"w\", \"type\": \"int256[]\" }, { \"internalType\": \"int256[]\", \"name\": \"b\", \"type\": \"int256[]\" } ], \"name\": \"compute_IXWB\", \"outputs\": [], \"stateMutability\": \"nonpayable\", \"type\": \"function\" }, { \"inputs\": [ { \"internalType\": \"int256\", \"name\": \"a\", \"type\": \"int256\" }, { \"internalType\": \"int256\", \"name\": \"b\", \"type\": \"int256\" }, { \"internalType\": \"int256\", \"name\": \"c\", \"type\": \"int256\" }, { \"internalType\": \"int256\", \"name\": \"d\", \"type\": \"int256\" } ], \"name\": \"compute_addition\", \"outputs\": [], \"stateMutability\": \"nonpayable\", \"type\": \"function\" }, { \"inputs\": [ { \"internalType\": \"int256\", \"name\": \"x\", \"type\": \"int256\" }, { \"internalType\": \"int256\", \"name\": \"y\", \"type\": \"int256\" } ], \"name\": \"compute_lcm\", \"outputs\": [], \"stateMutability\": \"nonpayable\", \"type\": \"function\" }, { \"inputs\": [ { \"internalType\": \"int256\", \"name\": \"d\", \"type\": \"int256\" } ], \"name\": \"compute_sigmoid\", \"outputs\": [], \"stateMutability\": \"nonpayable\", \"type\": \"function\" }, { \"inputs\": [], \"name\": \"lcm_print\", \"outputs\": [ { \"internalType\": \"int256\", \"name\": \"\", \"type\": \"int256\" } ], \"stateMutability\": \"view\", \"type\": \"function\" }, { \"inputs\": [], \"name\": \"predict_print\", \"outputs\": [ { \"internalType\": \"int256\", \"name\": \"\", \"type\": \"int256\" } ], \"stateMutability\": \"view\", \"type\": \"function\" }]')\n",
    "cont_address = \"0xFD9fFdE09432258482C532d80bBDB5c4577dc2DF\"\n",
    "\n",
    "account1 = \"0x37bfB436392DaAE0E91EdcD9c4128FBcADF3919d\"\n",
    "private_key1 = \"e72044de2331844a3c0232dc23d43fb8ca4f555854b4da07e2fb530d003e5e2d\"\n",
    "account2 = \"0xfbD8f1F5878b0b5b3E627e7cc14617b05B582867\"\n",
    "private_key2=\"56c8f569b23a423f9d66d46f86f7ada7ba0d28dfba03c34f661bb15358b042bb\"\n"
   ]
  },
  {
   "cell_type": "code",
   "execution_count": 63,
   "id": "demanding-spoke",
   "metadata": {},
   "outputs": [
    {
     "data": {
      "text/html": [
       "<div>\n",
       "<style scoped>\n",
       "    .dataframe tbody tr th:only-of-type {\n",
       "        vertical-align: middle;\n",
       "    }\n",
       "\n",
       "    .dataframe tbody tr th {\n",
       "        vertical-align: top;\n",
       "    }\n",
       "\n",
       "    .dataframe thead th {\n",
       "        text-align: right;\n",
       "    }\n",
       "</style>\n",
       "<table border=\"1\" class=\"dataframe\">\n",
       "  <thead>\n",
       "    <tr style=\"text-align: right;\">\n",
       "      <th></th>\n",
       "      <th>Pregnancies</th>\n",
       "      <th>Glucose</th>\n",
       "      <th>BloodPressure</th>\n",
       "      <th>SkinThickness</th>\n",
       "      <th>Insulin</th>\n",
       "      <th>BMI</th>\n",
       "      <th>DiabetesPedigreeFunction</th>\n",
       "      <th>Age</th>\n",
       "      <th>Outcome</th>\n",
       "    </tr>\n",
       "  </thead>\n",
       "  <tbody>\n",
       "    <tr>\n",
       "      <th>0</th>\n",
       "      <td>6</td>\n",
       "      <td>148</td>\n",
       "      <td>72</td>\n",
       "      <td>35</td>\n",
       "      <td>0</td>\n",
       "      <td>33</td>\n",
       "      <td>62</td>\n",
       "      <td>50</td>\n",
       "      <td>1</td>\n",
       "    </tr>\n",
       "    <tr>\n",
       "      <th>1</th>\n",
       "      <td>1</td>\n",
       "      <td>85</td>\n",
       "      <td>66</td>\n",
       "      <td>29</td>\n",
       "      <td>0</td>\n",
       "      <td>26</td>\n",
       "      <td>35</td>\n",
       "      <td>31</td>\n",
       "      <td>0</td>\n",
       "    </tr>\n",
       "    <tr>\n",
       "      <th>2</th>\n",
       "      <td>8</td>\n",
       "      <td>183</td>\n",
       "      <td>64</td>\n",
       "      <td>0</td>\n",
       "      <td>0</td>\n",
       "      <td>23</td>\n",
       "      <td>67</td>\n",
       "      <td>32</td>\n",
       "      <td>1</td>\n",
       "    </tr>\n",
       "    <tr>\n",
       "      <th>3</th>\n",
       "      <td>1</td>\n",
       "      <td>89</td>\n",
       "      <td>66</td>\n",
       "      <td>23</td>\n",
       "      <td>94</td>\n",
       "      <td>28</td>\n",
       "      <td>16</td>\n",
       "      <td>21</td>\n",
       "      <td>0</td>\n",
       "    </tr>\n",
       "    <tr>\n",
       "      <th>4</th>\n",
       "      <td>0</td>\n",
       "      <td>137</td>\n",
       "      <td>40</td>\n",
       "      <td>35</td>\n",
       "      <td>168</td>\n",
       "      <td>43</td>\n",
       "      <td>228</td>\n",
       "      <td>33</td>\n",
       "      <td>1</td>\n",
       "    </tr>\n",
       "  </tbody>\n",
       "</table>\n",
       "</div>"
      ],
      "text/plain": [
       "   Pregnancies  Glucose  BloodPressure  SkinThickness  Insulin  BMI  \\\n",
       "0            6      148             72             35        0   33   \n",
       "1            1       85             66             29        0   26   \n",
       "2            8      183             64              0        0   23   \n",
       "3            1       89             66             23       94   28   \n",
       "4            0      137             40             35      168   43   \n",
       "\n",
       "   DiabetesPedigreeFunction  Age  Outcome  \n",
       "0                        62   50        1  \n",
       "1                        35   31        0  \n",
       "2                        67   32        1  \n",
       "3                        16   21        0  \n",
       "4                       228   33        1  "
      ]
     },
     "execution_count": 63,
     "metadata": {},
     "output_type": "execute_result"
    }
   ],
   "source": [
    "df['DiabetesPedigreeFunction'] = df['DiabetesPedigreeFunction']*100\n",
    "df.DiabetesPedigreeFunction = df.DiabetesPedigreeFunction.astype(int)\n",
    "df.BMI = df.BMI.astype(int) \n",
    "df.head()"
   ]
  },
  {
   "cell_type": "code",
   "execution_count": 64,
   "id": "valued-burton",
   "metadata": {
    "scrolled": true
   },
   "outputs": [],
   "source": [
    "dataset = df.to_numpy()\n",
    "\n",
    "X = dataset[:500,0:8]\n",
    "X1 = dataset[500:,0:8]\n",
    "y = dataset[:500,8]\n",
    "y1 = dataset[500:,8]"
   ]
  },
  {
   "cell_type": "code",
   "execution_count": 65,
   "id": "parliamentary-breach",
   "metadata": {},
   "outputs": [
    {
     "name": "stdout",
     "output_type": "stream",
     "text": [
      "[[  6 148  72  35   0  33  62  50]\n",
      " [  1  85  66  29   0  26  35  31]\n",
      " [  8 183  64   0   0  23  67  32]\n",
      " [  1  89  66  23  94  28  16  21]\n",
      " [  0 137  40  35 168  43 228  33]]\n",
      "[1 0 1 0 1]\n"
     ]
    }
   ],
   "source": [
    "print(X[:5])\n",
    "print(y[:5])"
   ]
  },
  {
   "cell_type": "code",
   "execution_count": 66,
   "id": "grateful-influence",
   "metadata": {},
   "outputs": [],
   "source": [
    "# define the keras model\n",
    "model = Sequential()\n",
    "# model.add(Dense(12, input_dim=8, activation='sigmoid'))\n",
    "# model.add(Dense(8, activation='sigmoid'))\n",
    "model.add(Dense(1, activation='sigmoid'))"
   ]
  },
  {
   "cell_type": "code",
   "execution_count": 67,
   "id": "worthy-clearing",
   "metadata": {},
   "outputs": [],
   "source": [
    "# compile the keras model\n",
    "model.compile(loss='binary_crossentropy', optimizer='adam', metrics=['accuracy'])"
   ]
  },
  {
   "cell_type": "code",
   "execution_count": 68,
   "id": "least-harvey",
   "metadata": {},
   "outputs": [
    {
     "name": "stdout",
     "output_type": "stream",
     "text": [
      "Epoch 1/150\n",
      "50/50 [==============================] - 1s 618us/step - loss: 83.9482 - accuracy: 0.3417\n",
      "Epoch 2/150\n",
      "50/50 [==============================] - 0s 558us/step - loss: 68.0651 - accuracy: 0.3656\n",
      "Epoch 3/150\n",
      "50/50 [==============================] - 0s 558us/step - loss: 57.1237 - accuracy: 0.3861\n",
      "Epoch 4/150\n",
      "50/50 [==============================] - 0s 518us/step - loss: 46.9833 - accuracy: 0.3706\n",
      "Epoch 5/150\n",
      "50/50 [==============================] - 0s 518us/step - loss: 36.5500 - accuracy: 0.3926\n",
      "Epoch 6/150\n",
      "50/50 [==============================] - 0s 518us/step - loss: 30.2551 - accuracy: 0.3777\n",
      "Epoch 7/150\n",
      "50/50 [==============================] - 0s 538us/step - loss: 23.1128 - accuracy: 0.3840\n",
      "Epoch 8/150\n",
      "50/50 [==============================] - 0s 498us/step - loss: 18.9152 - accuracy: 0.3577\n",
      "Epoch 9/150\n",
      "50/50 [==============================] - 0s 498us/step - loss: 16.3781 - accuracy: 0.4230\n",
      "Epoch 10/150\n",
      "50/50 [==============================] - 0s 498us/step - loss: 11.6854 - accuracy: 0.4760\n",
      "Epoch 11/150\n",
      "50/50 [==============================] - 0s 677us/step - loss: 10.2414 - accuracy: 0.5052\n",
      "Epoch 12/150\n",
      "50/50 [==============================] - 0s 578us/step - loss: 9.9573 - accuracy: 0.5060\n",
      "Epoch 13/150\n",
      "50/50 [==============================] - 0s 538us/step - loss: 8.2812 - accuracy: 0.5136\n",
      "Epoch 14/150\n",
      "50/50 [==============================] - 0s 478us/step - loss: 7.0673 - accuracy: 0.5334\n",
      "Epoch 15/150\n",
      "50/50 [==============================] - 0s 498us/step - loss: 6.7721 - accuracy: 0.5471\n",
      "Epoch 16/150\n",
      "50/50 [==============================] - 0s 478us/step - loss: 6.1731 - accuracy: 0.5495\n",
      "Epoch 17/150\n",
      "50/50 [==============================] - 0s 478us/step - loss: 5.6299 - accuracy: 0.5606\n",
      "Epoch 18/150\n",
      "50/50 [==============================] - 0s 518us/step - loss: 4.4462 - accuracy: 0.5942\n",
      "Epoch 19/150\n",
      "50/50 [==============================] - 0s 518us/step - loss: 5.2483 - accuracy: 0.5571\n",
      "Epoch 20/150\n",
      "50/50 [==============================] - 0s 498us/step - loss: 4.8930 - accuracy: 0.5566\n",
      "Epoch 21/150\n",
      "50/50 [==============================] - 0s 498us/step - loss: 4.0813 - accuracy: 0.5794\n",
      "Epoch 22/150\n",
      "50/50 [==============================] - 0s 478us/step - loss: 4.1521 - accuracy: 0.6026\n",
      "Epoch 23/150\n",
      "50/50 [==============================] - 0s 478us/step - loss: 4.4561 - accuracy: 0.5666\n",
      "Epoch 24/150\n",
      "50/50 [==============================] - 0s 478us/step - loss: 4.3935 - accuracy: 0.5699\n",
      "Epoch 25/150\n",
      "50/50 [==============================] - 0s 518us/step - loss: 3.6111 - accuracy: 0.6248\n",
      "Epoch 26/150\n",
      "50/50 [==============================] - 0s 518us/step - loss: 3.6037 - accuracy: 0.6063\n",
      "Epoch 27/150\n",
      "50/50 [==============================] - 0s 538us/step - loss: 3.7539 - accuracy: 0.5661\n",
      "Epoch 28/150\n",
      "50/50 [==============================] - 0s 538us/step - loss: 3.4840 - accuracy: 0.5915\n",
      "Epoch 29/150\n",
      "50/50 [==============================] - 0s 498us/step - loss: 3.9230 - accuracy: 0.5748\n",
      "Epoch 30/150\n",
      "50/50 [==============================] - 0s 478us/step - loss: 4.1584 - accuracy: 0.5621\n",
      "Epoch 31/150\n",
      "50/50 [==============================] - 0s 498us/step - loss: 3.1037 - accuracy: 0.6085\n",
      "Epoch 32/150\n",
      "50/50 [==============================] - 0s 518us/step - loss: 3.2944 - accuracy: 0.6111\n",
      "Epoch 33/150\n",
      "50/50 [==============================] - 0s 558us/step - loss: 3.3264 - accuracy: 0.5966\n",
      "Epoch 34/150\n",
      "50/50 [==============================] - 0s 518us/step - loss: 3.2975 - accuracy: 0.6093\n",
      "Epoch 35/150\n",
      "50/50 [==============================] - 0s 518us/step - loss: 3.0550 - accuracy: 0.6180\n",
      "Epoch 36/150\n",
      "50/50 [==============================] - 0s 498us/step - loss: 3.4683 - accuracy: 0.5488\n",
      "Epoch 37/150\n",
      "50/50 [==============================] - 0s 478us/step - loss: 3.0244 - accuracy: 0.6292\n",
      "Epoch 38/150\n",
      "50/50 [==============================] - 0s 478us/step - loss: 2.8268 - accuracy: 0.6164\n",
      "Epoch 39/150\n",
      "50/50 [==============================] - 0s 498us/step - loss: 2.9627 - accuracy: 0.5862\n",
      "Epoch 40/150\n",
      "50/50 [==============================] - 0s 478us/step - loss: 2.9285 - accuracy: 0.6226\n",
      "Epoch 41/150\n",
      "50/50 [==============================] - 0s 498us/step - loss: 3.2841 - accuracy: 0.5674\n",
      "Epoch 42/150\n",
      "50/50 [==============================] - 0s 478us/step - loss: 2.9993 - accuracy: 0.6031\n",
      "Epoch 43/150\n",
      "50/50 [==============================] - 0s 498us/step - loss: 2.9065 - accuracy: 0.5843\n",
      "Epoch 44/150\n",
      "50/50 [==============================] - 0s 498us/step - loss: 2.7380 - accuracy: 0.6020\n",
      "Epoch 45/150\n",
      "50/50 [==============================] - 0s 518us/step - loss: 2.7852 - accuracy: 0.6161\n",
      "Epoch 46/150\n",
      "50/50 [==============================] - 0s 498us/step - loss: 3.4024 - accuracy: 0.5626\n",
      "Epoch 47/150\n",
      "50/50 [==============================] - 0s 498us/step - loss: 3.2836 - accuracy: 0.5707\n",
      "Epoch 48/150\n",
      "50/50 [==============================] - 0s 498us/step - loss: 2.5527 - accuracy: 0.6490\n",
      "Epoch 49/150\n",
      "50/50 [==============================] - 0s 538us/step - loss: 2.3438 - accuracy: 0.6216\n",
      "Epoch 50/150\n",
      "50/50 [==============================] - 0s 498us/step - loss: 2.9697 - accuracy: 0.5808\n",
      "Epoch 51/150\n",
      "50/50 [==============================] - 0s 498us/step - loss: 2.6019 - accuracy: 0.6219\n",
      "Epoch 52/150\n",
      "50/50 [==============================] - 0s 478us/step - loss: 2.6096 - accuracy: 0.5725\n",
      "Epoch 53/150\n",
      "50/50 [==============================] - 0s 518us/step - loss: 2.3541 - accuracy: 0.6096\n",
      "Epoch 54/150\n",
      "50/50 [==============================] - 0s 498us/step - loss: 2.6007 - accuracy: 0.6046\n",
      "Epoch 55/150\n",
      "50/50 [==============================] - 0s 518us/step - loss: 2.2089 - accuracy: 0.6123\n",
      "Epoch 56/150\n",
      "50/50 [==============================] - 0s 498us/step - loss: 2.4347 - accuracy: 0.6039\n",
      "Epoch 57/150\n",
      "50/50 [==============================] - 0s 498us/step - loss: 2.4073 - accuracy: 0.6215\n",
      "Epoch 58/150\n",
      "50/50 [==============================] - 0s 498us/step - loss: 2.2238 - accuracy: 0.6401\n",
      "Epoch 59/150\n",
      "50/50 [==============================] - 0s 498us/step - loss: 2.5097 - accuracy: 0.6100\n",
      "Epoch 60/150\n",
      "50/50 [==============================] - 0s 498us/step - loss: 2.1970 - accuracy: 0.6629\n",
      "Epoch 61/150\n",
      "50/50 [==============================] - 0s 478us/step - loss: 1.9936 - accuracy: 0.6266\n",
      "Epoch 62/150\n",
      "50/50 [==============================] - 0s 697us/step - loss: 2.0248 - accuracy: 0.6307\n",
      "Epoch 63/150\n",
      "50/50 [==============================] - 0s 538us/step - loss: 2.3973 - accuracy: 0.5867\n",
      "Epoch 64/150\n",
      "50/50 [==============================] - 0s 458us/step - loss: 1.8302 - accuracy: 0.6741\n",
      "Epoch 65/150\n",
      "50/50 [==============================] - 0s 518us/step - loss: 2.2240 - accuracy: 0.5663\n",
      "Epoch 66/150\n",
      "50/50 [==============================] - 0s 558us/step - loss: 1.9106 - accuracy: 0.5983\n",
      "Epoch 67/150\n",
      "50/50 [==============================] - 0s 538us/step - loss: 1.9357 - accuracy: 0.5972\n",
      "Epoch 68/150\n",
      "50/50 [==============================] - 0s 518us/step - loss: 1.8959 - accuracy: 0.6296\n",
      "Epoch 69/150\n",
      "50/50 [==============================] - 0s 578us/step - loss: 1.9539 - accuracy: 0.6186\n",
      "Epoch 70/150\n",
      "50/50 [==============================] - 0s 598us/step - loss: 2.1123 - accuracy: 0.5815\n",
      "Epoch 71/150\n",
      "50/50 [==============================] - 0s 558us/step - loss: 2.0033 - accuracy: 0.5836\n",
      "Epoch 72/150\n",
      "50/50 [==============================] - 0s 498us/step - loss: 1.8768 - accuracy: 0.6376\n",
      "Epoch 73/150\n",
      "50/50 [==============================] - 0s 518us/step - loss: 1.6813 - accuracy: 0.6587\n",
      "Epoch 74/150\n",
      "50/50 [==============================] - 0s 518us/step - loss: 1.7328 - accuracy: 0.6098\n",
      "Epoch 75/150\n",
      "50/50 [==============================] - 0s 498us/step - loss: 1.5865 - accuracy: 0.6190\n",
      "Epoch 76/150\n",
      "50/50 [==============================] - 0s 518us/step - loss: 1.5135 - accuracy: 0.6604\n",
      "Epoch 77/150\n",
      "50/50 [==============================] - 0s 518us/step - loss: 1.4538 - accuracy: 0.6197\n",
      "Epoch 78/150\n",
      "50/50 [==============================] - 0s 498us/step - loss: 1.6245 - accuracy: 0.5989\n",
      "Epoch 79/150\n",
      "50/50 [==============================] - 0s 658us/step - loss: 1.3387 - accuracy: 0.6297\n",
      "Epoch 80/150\n",
      "50/50 [==============================] - 0s 658us/step - loss: 1.3598 - accuracy: 0.6343\n",
      "Epoch 81/150\n"
     ]
    },
    {
     "name": "stdout",
     "output_type": "stream",
     "text": [
      "50/50 [==============================] - 0s 518us/step - loss: 1.6247 - accuracy: 0.5854\n",
      "Epoch 82/150\n",
      "50/50 [==============================] - 0s 518us/step - loss: 1.3097 - accuracy: 0.6165\n",
      "Epoch 83/150\n",
      "50/50 [==============================] - 0s 478us/step - loss: 1.3486 - accuracy: 0.6647\n",
      "Epoch 84/150\n",
      "50/50 [==============================] - 0s 498us/step - loss: 1.2557 - accuracy: 0.6295\n",
      "Epoch 85/150\n",
      "50/50 [==============================] - 0s 558us/step - loss: 1.3066 - accuracy: 0.6472\n",
      "Epoch 86/150\n",
      "50/50 [==============================] - 0s 538us/step - loss: 1.4782 - accuracy: 0.5850\n",
      "Epoch 87/150\n",
      "50/50 [==============================] - 0s 518us/step - loss: 1.2594 - accuracy: 0.6357\n",
      "Epoch 88/150\n",
      "50/50 [==============================] - 0s 538us/step - loss: 1.1324 - accuracy: 0.6524\n",
      "Epoch 89/150\n",
      "50/50 [==============================] - 0s 498us/step - loss: 1.2969 - accuracy: 0.6165\n",
      "Epoch 90/150\n",
      "50/50 [==============================] - 0s 538us/step - loss: 1.2262 - accuracy: 0.6046\n",
      "Epoch 91/150\n",
      "50/50 [==============================] - 0s 518us/step - loss: 1.1786 - accuracy: 0.6561\n",
      "Epoch 92/150\n",
      "50/50 [==============================] - 0s 618us/step - loss: 0.8323 - accuracy: 0.7128\n",
      "Epoch 93/150\n",
      "50/50 [==============================] - 0s 618us/step - loss: 1.1083 - accuracy: 0.6386\n",
      "Epoch 94/150\n",
      "50/50 [==============================] - 0s 598us/step - loss: 1.0957 - accuracy: 0.6403\n",
      "Epoch 95/150\n",
      "50/50 [==============================] - 0s 558us/step - loss: 0.8603 - accuracy: 0.6961\n",
      "Epoch 96/150\n",
      "50/50 [==============================] - 0s 638us/step - loss: 0.9842 - accuracy: 0.6567\n",
      "Epoch 97/150\n",
      "50/50 [==============================] - 0s 638us/step - loss: 0.9417 - accuracy: 0.6852\n",
      "Epoch 98/150\n",
      "50/50 [==============================] - 0s 618us/step - loss: 0.9641 - accuracy: 0.6646\n",
      "Epoch 99/150\n",
      "50/50 [==============================] - 0s 598us/step - loss: 0.8834 - accuracy: 0.6452\n",
      "Epoch 100/150\n",
      "50/50 [==============================] - 0s 618us/step - loss: 0.9653 - accuracy: 0.6699\n",
      "Epoch 101/150\n",
      "50/50 [==============================] - 0s 578us/step - loss: 0.7454 - accuracy: 0.7177\n",
      "Epoch 102/150\n",
      "50/50 [==============================] - 0s 598us/step - loss: 0.9101 - accuracy: 0.6525\n",
      "Epoch 103/150\n",
      "50/50 [==============================] - 0s 578us/step - loss: 0.8242 - accuracy: 0.7020\n",
      "Epoch 104/150\n",
      "50/50 [==============================] - 0s 578us/step - loss: 0.7458 - accuracy: 0.6743\n",
      "Epoch 105/150\n",
      "50/50 [==============================] - 0s 538us/step - loss: 0.8124 - accuracy: 0.6821\n",
      "Epoch 106/150\n",
      "50/50 [==============================] - 0s 538us/step - loss: 0.7243 - accuracy: 0.7004\n",
      "Epoch 107/150\n",
      "50/50 [==============================] - 0s 578us/step - loss: 0.7324 - accuracy: 0.6590\n",
      "Epoch 108/150\n",
      "50/50 [==============================] - 0s 578us/step - loss: 0.7140 - accuracy: 0.6804\n",
      "Epoch 109/150\n",
      "50/50 [==============================] - 0s 598us/step - loss: 0.7135 - accuracy: 0.6939\n",
      "Epoch 110/150\n",
      "50/50 [==============================] - 0s 697us/step - loss: 0.7535 - accuracy: 0.6659\n",
      "Epoch 111/150\n",
      "50/50 [==============================] - 0s 598us/step - loss: 0.7251 - accuracy: 0.6618\n",
      "Epoch 112/150\n",
      "50/50 [==============================] - 0s 538us/step - loss: 0.6538 - accuracy: 0.6914\n",
      "Epoch 113/150\n",
      "50/50 [==============================] - 0s 658us/step - loss: 0.7310 - accuracy: 0.6768\n",
      "Epoch 114/150\n",
      "50/50 [==============================] - 0s 518us/step - loss: 0.6327 - accuracy: 0.6862\n",
      "Epoch 115/150\n",
      "50/50 [==============================] - 0s 498us/step - loss: 0.7103 - accuracy: 0.6559\n",
      "Epoch 116/150\n",
      "50/50 [==============================] - 0s 518us/step - loss: 0.6364 - accuracy: 0.6968\n",
      "Epoch 117/150\n",
      "50/50 [==============================] - 0s 717us/step - loss: 0.6811 - accuracy: 0.6448\n",
      "Epoch 118/150\n",
      "50/50 [==============================] - 0s 558us/step - loss: 0.5788 - accuracy: 0.7085\n",
      "Epoch 119/150\n",
      "50/50 [==============================] - 0s 538us/step - loss: 0.6001 - accuracy: 0.7184\n",
      "Epoch 120/150\n",
      "50/50 [==============================] - 0s 498us/step - loss: 0.6111 - accuracy: 0.6932\n",
      "Epoch 121/150\n",
      "50/50 [==============================] - 0s 478us/step - loss: 0.6417 - accuracy: 0.6873\n",
      "Epoch 122/150\n",
      "50/50 [==============================] - 0s 578us/step - loss: 0.6232 - accuracy: 0.7274\n",
      "Epoch 123/150\n",
      "50/50 [==============================] - 0s 578us/step - loss: 0.6000 - accuracy: 0.7081\n",
      "Epoch 124/150\n",
      "50/50 [==============================] - 0s 538us/step - loss: 0.6027 - accuracy: 0.6862\n",
      "Epoch 125/150\n",
      "50/50 [==============================] - 0s 498us/step - loss: 0.5989 - accuracy: 0.7181\n",
      "Epoch 126/150\n",
      "50/50 [==============================] - 0s 498us/step - loss: 0.6155 - accuracy: 0.6976\n",
      "Epoch 127/150\n",
      "50/50 [==============================] - 0s 558us/step - loss: 0.6420 - accuracy: 0.6805\n",
      "Epoch 128/150\n",
      "50/50 [==============================] - 0s 638us/step - loss: 0.6074 - accuracy: 0.6876\n",
      "Epoch 129/150\n",
      "50/50 [==============================] - 0s 598us/step - loss: 0.5592 - accuracy: 0.7459\n",
      "Epoch 130/150\n",
      "50/50 [==============================] - 0s 598us/step - loss: 0.5744 - accuracy: 0.7102\n",
      "Epoch 131/150\n",
      "50/50 [==============================] - 0s 518us/step - loss: 0.5914 - accuracy: 0.6878\n",
      "Epoch 132/150\n",
      "50/50 [==============================] - 0s 498us/step - loss: 0.5951 - accuracy: 0.7036\n",
      "Epoch 133/150\n",
      "50/50 [==============================] - 0s 498us/step - loss: 0.5880 - accuracy: 0.7031\n",
      "Epoch 134/150\n",
      "50/50 [==============================] - 0s 498us/step - loss: 0.6160 - accuracy: 0.6944\n",
      "Epoch 135/150\n",
      "50/50 [==============================] - 0s 498us/step - loss: 0.6156 - accuracy: 0.6937\n",
      "Epoch 136/150\n",
      "50/50 [==============================] - 0s 518us/step - loss: 0.6311 - accuracy: 0.6654\n",
      "Epoch 137/150\n",
      "50/50 [==============================] - 0s 518us/step - loss: 0.6187 - accuracy: 0.6806\n",
      "Epoch 138/150\n",
      "50/50 [==============================] - 0s 498us/step - loss: 0.5676 - accuracy: 0.7326\n",
      "Epoch 139/150\n",
      "50/50 [==============================] - 0s 498us/step - loss: 0.5830 - accuracy: 0.7114\n",
      "Epoch 140/150\n",
      "50/50 [==============================] - 0s 478us/step - loss: 0.5963 - accuracy: 0.6888\n",
      "Epoch 141/150\n",
      "50/50 [==============================] - 0s 498us/step - loss: 0.5857 - accuracy: 0.7098\n",
      "Epoch 142/150\n",
      "50/50 [==============================] - 0s 518us/step - loss: 0.6238 - accuracy: 0.6648\n",
      "Epoch 143/150\n",
      "50/50 [==============================] - 0s 498us/step - loss: 0.5971 - accuracy: 0.7243\n",
      "Epoch 144/150\n",
      "50/50 [==============================] - 0s 479us/step - loss: 0.5706 - accuracy: 0.6980\n",
      "Epoch 145/150\n",
      "50/50 [==============================] - 0s 1ms/step - loss: 0.5452 - accuracy: 0.7259\n",
      "Epoch 146/150\n",
      "50/50 [==============================] - 0s 518us/step - loss: 0.5715 - accuracy: 0.7254\n",
      "Epoch 147/150\n",
      "50/50 [==============================] - 0s 558us/step - loss: 0.5823 - accuracy: 0.7343\n",
      "Epoch 148/150\n",
      "50/50 [==============================] - 0s 478us/step - loss: 0.5897 - accuracy: 0.7047\n",
      "Epoch 149/150\n",
      "50/50 [==============================] - 0s 478us/step - loss: 0.5974 - accuracy: 0.7117\n",
      "Epoch 150/150\n",
      "50/50 [==============================] - 0s 478us/step - loss: 0.6250 - accuracy: 0.6671\n"
     ]
    },
    {
     "data": {
      "text/plain": [
       "<keras.callbacks.History at 0x25502627a00>"
      ]
     },
     "execution_count": 68,
     "metadata": {},
     "output_type": "execute_result"
    }
   ],
   "source": [
    "4\n",
    "...\n",
    "# fit the keras model on the dataset\n",
    "model.fit(X, y, epochs=150, batch_size=10)"
   ]
  },
  {
   "cell_type": "code",
   "execution_count": 69,
   "id": "arranged-superior",
   "metadata": {},
   "outputs": [
    {
     "name": "stdout",
     "output_type": "stream",
     "text": [
      "Model: \"sequential_1\"\n",
      "_________________________________________________________________\n",
      "Layer (type)                 Output Shape              Param #   \n",
      "=================================================================\n",
      "dense_1 (Dense)              (10, 1)                   9         \n",
      "=================================================================\n",
      "Total params: 9\n",
      "Trainable params: 9\n",
      "Non-trainable params: 0\n",
      "_________________________________________________________________\n",
      "None\n"
     ]
    }
   ],
   "source": [
    "print(model.summary())"
   ]
  },
  {
   "cell_type": "code",
   "execution_count": 70,
   "id": "lasting-karaoke",
   "metadata": {},
   "outputs": [
    {
     "name": "stdout",
     "output_type": "stream",
     "text": [
      "16/16 [==============================] - 0s 521us/step - loss: 0.5835 - accuracy: 0.7180\n",
      "Accuracy: 71.80\n"
     ]
    }
   ],
   "source": [
    "4\n",
    "...\n",
    "# evaluate the keras model\n",
    "_, accuracy = model.evaluate(X, y)\n",
    "print('Accuracy: %.2f' % (accuracy*100))"
   ]
  },
  {
   "cell_type": "code",
   "execution_count": 71,
   "id": "tested-hudson",
   "metadata": {},
   "outputs": [
    {
     "name": "stdout",
     "output_type": "stream",
     "text": [
      "{'name': 'dense_1', 'trainable': True, 'dtype': 'float32', 'units': 1, 'activation': 'sigmoid', 'use_bias': True, 'kernel_initializer': {'class_name': 'GlorotUniform', 'config': {'seed': None}}, 'bias_initializer': {'class_name': 'Zeros', 'config': {}}, 'kernel_regularizer': None, 'bias_regularizer': None, 'activity_regularizer': None, 'kernel_constraint': None, 'bias_constraint': None}\n",
      "[array([[ 0.1535856 ],\n",
      "       [ 0.0156769 ],\n",
      "       [-0.02423137],\n",
      "       [-0.00803495],\n",
      "       [ 0.00033388],\n",
      "       [ 0.02447723],\n",
      "       [ 0.00554988],\n",
      "       [-0.02162356]], dtype=float32), array([-1.1886494], dtype=float32)]\n"
     ]
    }
   ],
   "source": [
    "for layer in model.layers: \n",
    "    print(layer.get_config())\n",
    "    print(layer.get_weights())\n",
    "    \n",
    "    w = layer.get_weights()"
   ]
  },
  {
   "cell_type": "code",
   "execution_count": 72,
   "id": "directed-census",
   "metadata": {},
   "outputs": [],
   "source": [
    "weights = w[0]\n",
    "bias = w[1]"
   ]
  },
  {
   "cell_type": "code",
   "execution_count": 73,
   "id": "intensive-princeton",
   "metadata": {},
   "outputs": [
    {
     "name": "stdout",
     "output_type": "stream",
     "text": [
      "[  2 117  90  19  71  25  31  21]\n"
     ]
    }
   ],
   "source": [
    "print(X1[0])"
   ]
  },
  {
   "cell_type": "code",
   "execution_count": 74,
   "id": "statutory-response",
   "metadata": {},
   "outputs": [],
   "source": [
    "predictions = model.predict(X1)\n",
    "# predictions"
   ]
  },
  {
   "cell_type": "code",
   "execution_count": 75,
   "id": "sharp-alliance",
   "metadata": {},
   "outputs": [],
   "source": [
    "# for i in range(len(predictions)):\n",
    "#     if(predictions[i]>=.5):\n",
    "#         print(i)"
   ]
  },
  {
   "cell_type": "code",
   "execution_count": 76,
   "id": "damaged-damages",
   "metadata": {},
   "outputs": [],
   "source": [
    "\n",
    "rounded= [round(x[0]) for x in predictions]\n",
    "# rounded"
   ]
  },
  {
   "cell_type": "code",
   "execution_count": 77,
   "id": "altered-korea",
   "metadata": {},
   "outputs": [
    {
     "data": {
      "text/plain": [
       "0.7388059701492538"
      ]
     },
     "execution_count": 77,
     "metadata": {},
     "output_type": "execute_result"
    }
   ],
   "source": [
    "from sklearn.metrics import accuracy_score\n",
    "accuracy_score(y1, rounded)"
   ]
  },
  {
   "cell_type": "code",
   "execution_count": 78,
   "id": "advance-jacksonville",
   "metadata": {},
   "outputs": [
    {
     "name": "stdout",
     "output_type": "stream",
     "text": [
      "[0, 0, 0, 0, 0, 0, 0, 1, 0, 0, 0, 0, 0, 0, 0, 1, 1, 0, 1, 0, 0, 0, 1, 1, 1, 0, 0, 0, 0, 0, 1, 0, 0, 1, 0, 1, 0, 0, 0, 0, 0, 0, 0, 0, 0, 1, 1, 1, 0, 0, 0, 0, 0, 0, 0, 0, 0, 0, 1, 1, 0, 1, 0, 0, 0, 0, 0, 0, 1, 0, 0, 0, 0, 0, 0, 0, 1, 0, 1, 0, 0, 0, 0, 0, 1, 0, 1, 0, 1, 1, 1, 0, 0, 1, 1, 1, 0, 1, 0, 0, 0, 1, 0, 1, 1, 0, 1, 0, 0, 0, 0, 1, 1, 0, 1, 0, 0, 0, 1, 1, 0, 0, 1, 0, 0, 0, 0, 0, 0, 0, 1, 0, 0, 0, 1, 1, 0, 0, 1, 0, 0, 1, 0, 1, 0, 1, 0, 1, 1, 0, 0, 0, 0, 0, 0, 1, 0, 0, 0, 0, 1, 1, 0, 1, 0, 0, 0, 1, 0, 1, 1, 0, 0, 0, 0, 1, 1, 0, 1, 0, 0, 1, 0, 0, 0, 0, 1, 0, 0, 0, 1, 1, 1, 1, 0, 0, 1, 1, 0, 1, 0, 0, 0, 1, 0, 0, 1, 1, 1, 0, 1, 0, 1, 0, 0, 1, 1, 0, 0, 0, 0, 0, 0, 0, 0, 0, 0, 0, 0, 0, 0, 1, 1, 0, 0, 0, 0, 0, 0, 0, 1, 1, 0, 1, 1, 0, 0, 0, 1, 1, 1, 0, 0, 0, 1, 0, 0, 0, 0, 1, 0, 1, 0, 0, 0, 0, 0, 0]\n"
     ]
    }
   ],
   "source": [
    "print(rounded)"
   ]
  },
  {
   "cell_type": "code",
   "execution_count": 79,
   "id": "universal-vanilla",
   "metadata": {},
   "outputs": [
    {
     "name": "stdout",
     "output_type": "stream",
     "text": [
      "[0 0 1 0 0 0 1 0 0 0]\n"
     ]
    }
   ],
   "source": [
    "print(y1[:10])"
   ]
  },
  {
   "cell_type": "code",
   "execution_count": 80,
   "id": "interested-penguin",
   "metadata": {},
   "outputs": [
    {
     "data": {
      "text/plain": [
       "array([[ 153., 1000.],\n",
       "       [  15., 1000.],\n",
       "       [ -24., 1000.],\n",
       "       [  -8., 1000.],\n",
       "       [   0., 1000.],\n",
       "       [  24., 1000.],\n",
       "       [   5., 1000.],\n",
       "       [ -21., 1000.]])"
      ]
     },
     "execution_count": 80,
     "metadata": {},
     "output_type": "execute_result"
    }
   ],
   "source": [
    "w = np.zeros((8,2))\n",
    "for i in range(weights.shape[0]):\n",
    "    w[i][0] = int(weights[i][0]*1000)\n",
    "    w[i][1] = 1000\n",
    "w\n"
   ]
  },
  {
   "cell_type": "code",
   "execution_count": 81,
   "id": "marked-treatment",
   "metadata": {},
   "outputs": [],
   "source": [
    "b = []\n",
    "b.append(int(bias*1000))\n",
    "b.append(1000)"
   ]
  },
  {
   "cell_type": "code",
   "execution_count": 82,
   "id": "designed-seventh",
   "metadata": {},
   "outputs": [],
   "source": [
    "def compute_lcm(x, y):\n",
    "   # choose the greater number\n",
    "    if (x > y):\n",
    "        greater = x\n",
    "    else:\n",
    "        greater = y\n",
    "    while(True):\n",
    "        if((greater % x == 0) and (greater % y == 0)):\n",
    "            lcm = greater\n",
    "            break\n",
    "        greater += 1\n",
    "    return lcm"
   ]
  },
  {
   "cell_type": "code",
   "execution_count": 83,
   "id": "wired-words",
   "metadata": {},
   "outputs": [],
   "source": [
    "def addition(a,b,c,d):\n",
    "    den = compute_lcm(b,d)\n",
    "#     den = b*d\n",
    "    num = ((den/b)*a) + ((den/d)*c)\n",
    "#     print(num,den)\n",
    "    return float(num),float(den)\n",
    "        "
   ]
  },
  {
   "cell_type": "code",
   "execution_count": 84,
   "id": "revised-legislation",
   "metadata": {},
   "outputs": [],
   "source": [
    "def IXWB(inputs,w,b):\n",
    "    num=0\n",
    "    den=0\n",
    "    out = np.zeros((inputs.shape[0],1))\n",
    "    for i in range(inputs.shape[0]):\n",
    "#     for i in range(10):\n",
    "#         print(inputs[i][0],w)\n",
    "        for j in range(inputs.shape[1]):\n",
    "            num = num + inputs[i][j]*w[j][0]\n",
    "            den = w[0][1]\n",
    "        num,den = addition(num,den,b[0],b[1])\n",
    "        out[i][0] = num\n",
    "#         out[i][1] = den\n",
    "        num =0\n",
    "        den =0\n",
    "    return out"
   ]
  },
  {
   "cell_type": "code",
   "execution_count": 85,
   "id": "purple-jimmy",
   "metadata": {},
   "outputs": [
    {
     "name": "stdout",
     "output_type": "stream",
     "text": [
      "[  2 117  90  19  71  25  31  21]\n",
      "-1188\n"
     ]
    }
   ],
   "source": [
    "print(X1[0])\n",
    "print(b[0])"
   ]
  },
  {
   "cell_type": "code",
   "execution_count": 86,
   "id": "elementary-journal",
   "metadata": {},
   "outputs": [],
   "source": [
    "test = IXWB(X1,w,b)\n",
    "# print(test)"
   ]
  },
  {
   "cell_type": "code",
   "execution_count": 87,
   "id": "demonstrated-target",
   "metadata": {},
   "outputs": [],
   "source": [
    "# for i in range(len(test)):\n",
    "#     if(test[i][0]>0):\n",
    "#         print(i)"
   ]
  },
  {
   "cell_type": "code",
   "execution_count": 88,
   "id": "passing-opinion",
   "metadata": {},
   "outputs": [],
   "source": [
    "def sigmoidfrac(x):\n",
    "    if(x>=0):\n",
    "        return 1\n",
    "    else:\n",
    "        return 0"
   ]
  },
  {
   "cell_type": "code",
   "execution_count": 89,
   "id": "ignored-template",
   "metadata": {},
   "outputs": [],
   "source": [
    "out = []\n",
    "for i in range(test.shape[0]):\n",
    "    out.append(sigmoidfrac(test[i][0]))\n",
    "# out"
   ]
  },
  {
   "cell_type": "code",
   "execution_count": 90,
   "id": "guilty-simpson",
   "metadata": {},
   "outputs": [
    {
     "data": {
      "text/plain": [
       "0.746268656716418"
      ]
     },
     "execution_count": 90,
     "metadata": {},
     "output_type": "execute_result"
    }
   ],
   "source": [
    "from sklearn.metrics import accuracy_score\n",
    "accuracy_score(y1, out)"
   ]
  },
  {
   "cell_type": "code",
   "execution_count": null,
   "id": "wooden-central",
   "metadata": {},
   "outputs": [],
   "source": [
    "\n"
   ]
  },
  {
   "cell_type": "code",
   "execution_count": 91,
   "id": "basic-things",
   "metadata": {},
   "outputs": [
    {
     "name": "stdout",
     "output_type": "stream",
     "text": [
      "[[ 0.1535856 ]\n",
      " [ 0.0156769 ]\n",
      " [-0.02423137]\n",
      " [-0.00803495]\n",
      " [ 0.00033388]\n",
      " [ 0.02447723]\n",
      " [ 0.00554988]\n",
      " [-0.02162356]]\n",
      "[-1.1886494]\n"
     ]
    }
   ],
   "source": [
    "print(weights)\n",
    "print(bias)"
   ]
  },
  {
   "cell_type": "code",
   "execution_count": 92,
   "id": "ordinary-optimum",
   "metadata": {},
   "outputs": [],
   "source": [
    "# # def sigmoid_tx(acc,pk,X_input,weight,bias,cont_address,abi):\n",
    "# contract = web3.eth.contract(address=cont_address,abi=abi)\n",
    "# # getting IXWB\n",
    "# nonce = web3.eth.getTransactionCount(account1)\n",
    "# print(type(X_input),type(weight),type(bias))\n",
    "# tx_IXWB = contract.functions.compute_IXWB(X_input,weight,bias\n",
    "#     ).buildTransaction({\n",
    "#     'gas': 100000,\n",
    "#     'gasPrice': web3.toWei('1', 'gwei'),\n",
    "#     'from': account1,\n",
    "#     'nonce': nonce\n",
    "#     }) \n",
    "# signed_txn = web3.eth.account.signTransaction(tx_IXWB, private_key=private_key1)\n",
    "# start_time = time.time()\n",
    "# tx_hash = web3.eth.sendRawTransaction(signed_txn.rawTransaction)\n",
    "# tx_receipt = web3.eth.waitForTransactionReceipt(tx_hash)\n",
    "# end_time = time.time()\n",
    "# print(end_time -start_time)\n",
    "# out_num,out_den = contract.functions.add_print().call()\n",
    "\n",
    "# # getting sigmoid\n",
    "# nonce= web3.eth.getTransactionCount(account1)\n",
    "# tx_sigmoid = contract.functions.compute_sigmoid(\n",
    "#     out_num\n",
    "#      ).buildTransaction({\n",
    "#     'gas': 70000,\n",
    "#     'gasPrice': web3.toWei('1', 'gwei'),\n",
    "#     'from': account1,\n",
    "#     'nonce': nonce\n",
    "#     }) \n",
    "# signed_txn = web3.eth.account.signTransaction(tx_sigmoid, private_key=private_key1)\n",
    "# start_time = time.time()\n",
    "# tx_hash = web3.eth.sendRawTransaction(signed_txn.rawTransaction)\n",
    "# tx_receipt = web3.eth.waitForTransactionReceipt(tx_hash)\n",
    "# end_time = time.time()\n",
    "# print(end_time -start_time)\n",
    "# pred = contract.functions.predict_print().call()\n",
    "# #     return pred"
   ]
  },
  {
   "cell_type": "code",
   "execution_count": 93,
   "id": "brazilian-teens",
   "metadata": {},
   "outputs": [
    {
     "name": "stdout",
     "output_type": "stream",
     "text": [
      "[[  2 117  90 ...  25  31  21]\n",
      " [  3  84  72 ...  37  26  28]\n",
      " [  6   0  68 ...  39  72  41]\n",
      " ...\n",
      " [  5 121  72 ...  26  24  30]\n",
      " [  1 126  60 ...  30  34  47]\n",
      " [  1  93  70 ...  30  31  23]] [153, 15, -24, -8, 0, 24, 5, -21] [-1188, 1000]\n"
     ]
    }
   ],
   "source": [
    "# print (X1, w,b,)\n",
    "# b = b.tolist()\n",
    "nw  = w[:,0].astype(int)\n",
    "nw = nw.tolist()\n",
    "print (X1, nw,b)"
   ]
  },
  {
   "cell_type": "code",
   "execution_count": 94,
   "id": "smart-rouge",
   "metadata": {},
   "outputs": [],
   "source": [
    "def predict_compute(cont_address,abi,inputs, weight, bias, account, privatekey):\n",
    "#     pred =[]\n",
    "#     IXWB_time=[]\n",
    "#     sigmoid_time=[]\n",
    "#     IXWB_gasuse=[]\n",
    "#     sigmoid_gasuse=[]\n",
    "    print(\"executing IXWB\")\n",
    "    contract = web3.eth.contract(address=cont_address,abi=abi)\n",
    "#     for i in range(X1.shape[0]):\n",
    "#         # getting IXWB\n",
    "    inputs = X1[i].tolist()\n",
    "    nonce = web3.eth.getTransactionCount(account)\n",
    "    tx_IXWB = contract.functions.compute_IXWB(\n",
    "        inputs,weight,bias\n",
    "        ).buildTransaction({\n",
    "        'gas': 1000000,\n",
    "        'gasPrice': web3.toWei('100', 'gwei'),\n",
    "        'from': account,\n",
    "        'nonce': nonce\n",
    "        }) \n",
    "    signed_txn = web3.eth.account.signTransaction(tx_IXWB, private_key=privatekey)\n",
    "#     start_time = time.time()\n",
    "    tx_hash = web3.eth.sendRawTransaction(signed_txn.rawTransaction)\n",
    "    tx_receipt = web3.eth.waitForTransactionReceipt(tx_hash)\n",
    "#     end_time = time.time()\n",
    "#     IXWB_time.append(end_time -start_time)\n",
    "#     IXWB_gasuse.append(tx_receipt.gasUsed)\n",
    "    print(tx_receipt.gasUsed)\n",
    "    out_num,out_den = contract.functions.add_print().call()\n",
    "    print(\"Executing Sigmoid\")\n",
    "    # getting sigmoid\n",
    "    nonce= web3.eth.getTransactionCount(account1)\n",
    "    tx_sigmoid = contract.functions.compute_sigmoid(\n",
    "        out_num\n",
    "         ).buildTransaction({\n",
    "        'gas': 1000000,\n",
    "        'gasPrice': web3.toWei('100', 'gwei'),\n",
    "        'from': account,\n",
    "        'nonce': nonce\n",
    "        }) \n",
    "    signed_txn = web3.eth.account.signTransaction(tx_sigmoid, private_key=privatekey)\n",
    "#     start_time = time.time()\n",
    "    tx_hash = web3.eth.sendRawTransaction(signed_txn.rawTransaction)\n",
    "    tx_receipt = web3.eth.waitForTransactionReceipt(tx_hash)\n",
    "#     end_time = time.time()\n",
    "#     sigmoid_time.append(end_time -start_time)\n",
    "#     sigmoid_gasuse.append(tx_receipt.gasUsed)\n",
    "    print(tx_receipt.gasUsed)\n",
    "    pred.append(contract.functions.predict_print().call())\n",
    "    inputs.clear()\n",
    "#     return pred,IXWB_time,IXWB_gasuse,sigmoid_time,sigmoif_gasuse"
   ]
  },
  {
   "cell_type": "code",
   "execution_count": 95,
   "id": "accepting-remedy",
   "metadata": {},
   "outputs": [],
   "source": [
    "account3 =\"0x3A3faD8eF61aC63959bbB4193941205663ea69af\"\n",
    "private_key3 =\"4d743448f76d875b4ac392da3dc504bf319267533947318698cef2d0eb6b807c\"\n",
    "account4 =\"0xfC508F0E500410e23B65373F04d2901e718c7615\"\n",
    "private_key4 =\"bce950eb2a43f7fcf94a5d037d254768249926d526e9734d9077c4484f64074a\"\n",
    "account5 =\"0x49176788Ae14C48BfE31c8dff36fBb636B1FA48B\"\n",
    "private_key5 =\"f4678fcff70debac717b0b7b6069dc96e6dbfd459a2ab9659b6d3c80d81448c9\"\n",
    "account6 =\"0x48c5C975DAa8C1988C0f32F9e8d854eb8cAfE57d\"\n",
    "private_key6 =\"1a17b9f46b9108cad7346e7338df7f3340d40979a8cbca1e61abd2164e9d859a\"\n",
    "account7 =\"0x5dF6B30c276caA8D9d31Cca7FEeCEc5cA927fE71\"\n",
    "private_key7 =\"bc550839a3b4b47e747fefe248c54501b3cbd9cfbcf5d86b8bfa5ca50750ad82\"\n",
    "account8 =\"0x0118E72EeAf9DFD1997f7f896f942950327e299a\"\n",
    "private_key8 =\"6130e6a5acb1a69fb4dbb73b73cfc9fd3068422867bbff1f76a35599d0c53da2\"\n",
    "account9 =\"0xc3FC4C06648aD9215C6Cdb295625ceD1541c05E2\"\n",
    "private_key9 =\"a26b260d2c029ed904d009a3b78f216f3fa206081f09a47dfd70427f0d37f767\"\n",
    "account10 =\"0x1424D8455E6d98177462356B758fF919fF19Fc26\"\n",
    "private_key10 =\"b1441ced995944f4ab2fe62743c3ba32ab14378c874c41d8e6fbd97d90f439ea\"\n",
    "\n"
   ]
  },
  {
   "cell_type": "code",
   "execution_count": 96,
   "id": "proved-closure",
   "metadata": {},
   "outputs": [
    {
     "name": "stdout",
     "output_type": "stream",
     "text": [
      "executing IXWB\n",
      "executing IXWB\n",
      "executing IXWB\n",
      "executing IXWB\n",
      "executing IXWB\n",
      "executing IXWB\n",
      "executing IXWB\n",
      "executing IXWB\n",
      "executing IXWB\n",
      "executing IXWB\n"
     ]
    },
    {
     "name": "stderr",
     "output_type": "stream",
     "text": [
      "Exception in thread Thread-38:\n",
      "Traceback (most recent call last):\n",
      "  File \"c:\\users\\syed\\appdata\\local\\programs\\python\\python39\\lib\\threading.py\", line 954, in _bootstrap_inner\n",
      "    self.run()\n",
      "  File \"c:\\users\\syed\\appdata\\local\\programs\\python\\python39\\lib\\threading.py\", line 892, in run\n",
      "    self._target(*self._args, **self._kwargs)\n",
      "  File \"<ipython-input-94-e3edafc09d69>\", line 23, in predict_compute\n",
      "  File \"c:\\users\\syed\\appdata\\local\\programs\\python\\python39\\lib\\site-packages\\web3\\module.py\", line 57, in caller\n",
      "    result = w3.manager.request_blocking(method_str,\n",
      "  File \"c:\\users\\syed\\appdata\\local\\programs\\python\\python39\\lib\\site-packages\\web3\\manager.py\", line 187, in request_blocking\n",
      "    return self.formatted_response(response,\n",
      "  File \"c:\\users\\syed\\appdata\\local\\programs\\python\\python39\\lib\\site-packages\\web3\\manager.py\", line 168, in formatted_response\n",
      "    raise ValueError(response[\"error\"])\n",
      "ValueError: {'code': -32000, 'message': 'insufficient funds for gas * price + value'}\n",
      "Exception in thread Thread-39:\n",
      "Traceback (most recent call last):\n",
      "  File \"c:\\users\\syed\\appdata\\local\\programs\\python\\python39\\lib\\threading.py\", line 954, in _bootstrap_inner\n",
      "    self.run()\n",
      "  File \"c:\\users\\syed\\appdata\\local\\programs\\python\\python39\\lib\\threading.py\", line 892, in run\n",
      "    self._target(*self._args, **self._kwargs)\n",
      "  File \"<ipython-input-94-e3edafc09d69>\", line 23, in predict_compute\n",
      "  File \"c:\\users\\syed\\appdata\\local\\programs\\python\\python39\\lib\\site-packages\\web3\\module.py\", line 57, in caller\n",
      "    result = w3.manager.request_blocking(method_str,\n",
      "  File \"c:\\users\\syed\\appdata\\local\\programs\\python\\python39\\lib\\site-packages\\web3\\manager.py\", line 187, in request_blocking\n",
      "    return self.formatted_response(response,\n",
      "  File \"c:\\users\\syed\\appdata\\local\\programs\\python\\python39\\lib\\site-packages\\web3\\manager.py\", line 168, in formatted_response\n",
      "    raise ValueError(response[\"error\"])\n",
      "ValueError: {'code': -32000, 'message': 'insufficient funds for gas * price + value'}\n",
      "Exception in thread Thread-37:\n",
      "Traceback (most recent call last):\n",
      "  File \"c:\\users\\syed\\appdata\\local\\programs\\python\\python39\\lib\\threading.py\", line 954, in _bootstrap_inner\n",
      "    self.run()\n",
      "  File \"c:\\users\\syed\\appdata\\local\\programs\\python\\python39\\lib\\threading.py\", line 892, in run\n",
      "    self._target(*self._args, **self._kwargs)\n",
      "  File \"<ipython-input-94-e3edafc09d69>\", line 23, in predict_compute\n",
      "  File \"c:\\users\\syed\\appdata\\local\\programs\\python\\python39\\lib\\site-packages\\web3\\module.py\", line 57, in caller\n",
      "    result = w3.manager.request_blocking(method_str,\n",
      "  File \"c:\\users\\syed\\appdata\\local\\programs\\python\\python39\\lib\\site-packages\\web3\\manager.py\", line 187, in request_blocking\n",
      "Exception in thread Thread-41:\n",
      "Traceback (most recent call last):\n",
      "  File \"c:\\users\\syed\\appdata\\local\\programs\\python\\python39\\lib\\threading.py\", line 954, in _bootstrap_inner\n",
      "    return self.formatted_response(response,\n",
      "  File \"c:\\users\\syed\\appdata\\local\\programs\\python\\python39\\lib\\site-packages\\web3\\manager.py\", line 168, in formatted_response\n",
      "    self.run()\n",
      "  File \"c:\\users\\syed\\appdata\\local\\programs\\python\\python39\\lib\\threading.py\", line 892, in run\n",
      "    raise ValueError(response[\"error\"])\n",
      "ValueError: {'code': -32000, 'message': 'insufficient funds for gas * price + value'}\n",
      "    self._target(*self._args, **self._kwargs)\n",
      "  File \"<ipython-input-94-e3edafc09d69>\", line 23, in predict_compute\n",
      "  File \"c:\\users\\syed\\appdata\\local\\programs\\python\\python39\\lib\\site-packages\\web3\\module.py\", line 57, in caller\n",
      "    result = w3.manager.request_blocking(method_str,\n",
      "  File \"c:\\users\\syed\\appdata\\local\\programs\\python\\python39\\lib\\site-packages\\web3\\manager.py\", line 187, in request_blocking\n",
      "    return self.formatted_response(response,\n",
      "  File \"c:\\users\\syed\\appdata\\local\\programs\\python\\python39\\lib\\site-packages\\web3\\manager.py\", line 168, in formatted_response\n",
      "    raise ValueError(response[\"error\"])\n",
      "ValueError: {'code': -32000, 'message': 'insufficient funds for gas * price + value'}\n",
      "Exception in thread Thread-36:\n",
      "Traceback (most recent call last):\n",
      "  File \"c:\\users\\syed\\appdata\\local\\programs\\python\\python39\\lib\\threading.py\", line 954, in _bootstrap_inner\n",
      "    self.run()\n",
      "  File \"c:\\users\\syed\\appdata\\local\\programs\\python\\python39\\lib\\threading.py\", line 892, in run\n",
      "    self._target(*self._args, **self._kwargs)\n",
      "  File \"<ipython-input-94-e3edafc09d69>\", line 23, in predict_compute\n",
      "  File \"c:\\users\\syed\\appdata\\local\\programs\\python\\python39\\lib\\site-packages\\web3\\module.py\", line 57, in caller\n",
      "    result = w3.manager.request_blocking(method_str,\n",
      "  File \"c:\\users\\syed\\appdata\\local\\programs\\python\\python39\\lib\\site-packages\\web3\\manager.py\", line 187, in request_blocking\n",
      "    return self.formatted_response(response,\n",
      "  File \"c:\\users\\syed\\appdata\\local\\programs\\python\\python39\\lib\\site-packages\\web3\\manager.py\", line 168, in formatted_response\n",
      "    raise ValueError(response[\"error\"])\n",
      "ValueError: {'code': -32000, 'message': 'insufficient funds for gas * price + value'}\n",
      "Exception in thread Thread-40:\n",
      "Traceback (most recent call last):\n",
      "  File \"c:\\users\\syed\\appdata\\local\\programs\\python\\python39\\lib\\threading.py\", line 954, in _bootstrap_inner\n",
      "    self.run()\n",
      "  File \"c:\\users\\syed\\appdata\\local\\programs\\python\\python39\\lib\\threading.py\", line 892, in run\n",
      "    self._target(*self._args, **self._kwargs)\n",
      "  File \"<ipython-input-94-e3edafc09d69>\", line 23, in predict_compute\n",
      "  File \"c:\\users\\syed\\appdata\\local\\programs\\python\\python39\\lib\\site-packages\\web3\\module.py\", line 57, in caller\n",
      "    result = w3.manager.request_blocking(method_str,\n",
      "  File \"c:\\users\\syed\\appdata\\local\\programs\\python\\python39\\lib\\site-packages\\web3\\manager.py\", line 187, in request_blocking\n",
      "    return self.formatted_response(response,\n",
      "  File \"c:\\users\\syed\\appdata\\local\\programs\\python\\python39\\lib\\site-packages\\web3\\manager.py\", line 168, in formatted_response\n",
      "Exception in thread     Thread-42:\n",
      "Traceback (most recent call last):\n",
      "  File \"c:\\users\\syed\\appdata\\local\\programs\\python\\python39\\lib\\threading.py\", line 954, in _bootstrap_inner\n",
      "raise ValueError(response[\"error\"])\n",
      "Exception in thread ValueError: {'code': -32000, 'message': 'insufficient funds for gas * price + value'}Thread-43:\n",
      "Traceback (most recent call last):\n",
      "  File \"c:\\users\\syed\\appdata\\local\\programs\\python\\python39\\lib\\threading.py\", line 954, in _bootstrap_inner\n",
      "\n",
      "    self.run()\n",
      "  File \"c:\\users\\syed\\appdata\\local\\programs\\python\\python39\\lib\\threading.py\", line 892, in run\n",
      "    self.run()\n",
      "  File \"c:\\users\\syed\\appdata\\local\\programs\\python\\python39\\lib\\threading.py\", line 892, in run\n",
      "    self._target(*self._args, **self._kwargs)\n",
      "  File \"<ipython-input-94-e3edafc09d69>\", line 23, in predict_compute\n",
      "    self._target(*self._args, **self._kwargs)\n",
      "  File \"<ipython-input-94-e3edafc09d69>\", line 23, in predict_compute\n",
      "  File \"c:\\users\\syed\\appdata\\local\\programs\\python\\python39\\lib\\site-packages\\web3\\module.py\", line 57, in caller\n",
      "    result = w3.manager.request_blocking(method_str,\n",
      "  File \"c:\\users\\syed\\appdata\\local\\programs\\python\\python39\\lib\\site-packages\\web3\\manager.py\", line 187, in request_blocking\n",
      "      File \"c:\\users\\syed\\appdata\\local\\programs\\python\\python39\\lib\\site-packages\\web3\\module.py\", line 57, in caller\n",
      "return self.formatted_response(response,\n",
      "  File \"c:\\users\\syed\\appdata\\local\\programs\\python\\python39\\lib\\site-packages\\web3\\manager.py\", line 168, in formatted_response\n",
      "    raise ValueError(response[\"error\"])\n",
      "ValueError: {'code': -32000, 'message': 'insufficient funds for gas * price + value'}\n",
      "    result = w3.manager.request_blocking(method_str,\n",
      "  File \"c:\\users\\syed\\appdata\\local\\programs\\python\\python39\\lib\\site-packages\\web3\\manager.py\", line 187, in request_blocking\n",
      "    return self.formatted_response(response,\n",
      "  File \"c:\\users\\syed\\appdata\\local\\programs\\python\\python39\\lib\\site-packages\\web3\\manager.py\", line 168, in formatted_response\n",
      "    raise ValueError(response[\"error\"])\n",
      "ValueError: {'code': -32000, 'message': 'insufficient funds for gas * price + value'}\n"
     ]
    },
    {
     "name": "stdout",
     "output_type": "stream",
     "text": [
      "48922\n",
      "Executing Sigmoid\n",
      "43322\n",
      "Executing Sigmoid\n"
     ]
    },
    {
     "name": "stderr",
     "output_type": "stream",
     "text": [
      "Exception in thread Thread-34:\n",
      "Traceback (most recent call last):\n",
      "  File \"c:\\users\\syed\\appdata\\local\\programs\\python\\python39\\lib\\threading.py\", line 954, in _bootstrap_inner\n",
      "    self.run()\n",
      "  File \"c:\\users\\syed\\appdata\\local\\programs\\python\\python39\\lib\\threading.py\", line 892, in run\n",
      "    self._target(*self._args, **self._kwargs)\n",
      "  File \"<ipython-input-94-e3edafc09d69>\", line 49, in predict_compute\n",
      "NameError: name 'pred' is not defined\n"
     ]
    },
    {
     "name": "stdout",
     "output_type": "stream",
     "text": [
      "24042\n"
     ]
    },
    {
     "name": "stderr",
     "output_type": "stream",
     "text": [
      "Exception in thread Thread-35:\n",
      "Traceback (most recent call last):\n",
      "  File \"c:\\users\\syed\\appdata\\local\\programs\\python\\python39\\lib\\site-packages\\web3\\eth.py\", line 641, in wait_for_transaction_receipt\n",
      "    return wait_for_transaction_receipt(self.web3, transaction_hash, timeout, poll_latency)\n",
      "  File \"c:\\users\\syed\\appdata\\local\\programs\\python\\python39\\lib\\site-packages\\web3\\_utils\\transactions.py\", line 132, in wait_for_transaction_receipt\n",
      "    _timeout.sleep(poll_latency)\n",
      "  File \"c:\\users\\syed\\appdata\\local\\programs\\python\\python39\\lib\\site-packages\\web3\\_utils\\threads.py\", line 89, in sleep\n",
      "    self.check()\n",
      "  File \"c:\\users\\syed\\appdata\\local\\programs\\python\\python39\\lib\\site-packages\\web3\\_utils\\threads.py\", line 82, in check\n",
      "    raise self\n",
      "web3._utils.threads.Timeout: 120 seconds\n",
      "\n",
      "During handling of the above exception, another exception occurred:\n",
      "\n",
      "Traceback (most recent call last):\n",
      "  File \"c:\\users\\syed\\appdata\\local\\programs\\python\\python39\\lib\\threading.py\", line 954, in _bootstrap_inner\n",
      "    self.run()\n",
      "  File \"c:\\users\\syed\\appdata\\local\\programs\\python\\python39\\lib\\threading.py\", line 892, in run\n",
      "    self._target(*self._args, **self._kwargs)\n",
      "  File \"<ipython-input-94-e3edafc09d69>\", line 44, in predict_compute\n",
      "  File \"c:\\users\\syed\\appdata\\local\\programs\\python\\python39\\lib\\site-packages\\web3\\_utils\\decorators.py\", line 51, in wrapper\n",
      "    return to_wrap(*args, **kwargs)\n",
      "  File \"c:\\users\\syed\\appdata\\local\\programs\\python\\python39\\lib\\site-packages\\web3\\eth.py\", line 635, in waitForTransactionReceipt\n",
      "    return self.wait_for_transaction_receipt(transaction_hash, timeout, poll_latency)\n",
      "  File \"c:\\users\\syed\\appdata\\local\\programs\\python\\python39\\lib\\site-packages\\web3\\eth.py\", line 643, in wait_for_transaction_receipt\n",
      "    raise TimeExhausted(\n",
      "web3.exceptions.TimeExhausted: Transaction HexBytes('0xd0f1c7630b6289118f2c06dbc273f7436038b961a0201b9d9077fc6c23538137') is not in the chain, after 120 seconds\n"
     ]
    }
   ],
   "source": [
    "\n",
    "\n",
    "if __name__ ==\"__main__\":\n",
    "    inputs = X1[0]\n",
    "    weight = nw\n",
    "    bias = b\n",
    "    t1 = threading.Thread(target = predict_compute,args=(cont_address,abi,inputs,weight,bias,account1,private_key1))\n",
    "    t2 = threading.Thread(target = predict_compute,args=(cont_address,abi,inputs,weight,bias,account2,private_key2))\n",
    "    t3 = threading.Thread(target = predict_compute,args=(cont_address,abi,inputs,weight,bias,account3,private_key3))\n",
    "    t4 = threading.Thread(target = predict_compute,args=(cont_address,abi,inputs,weight,bias,account4,private_key4))\n",
    "    t5 = threading.Thread(target = predict_compute,args=(cont_address,abi,inputs,weight,bias,account5,private_key5))\n",
    "    t6 = threading.Thread(target = predict_compute,args=(cont_address,abi,inputs,weight,bias,account6,private_key6))\n",
    "    t7 = threading.Thread(target = predict_compute,args=(cont_address,abi,inputs,weight,bias,account7,private_key7))\n",
    "    t8 = threading.Thread(target = predict_compute,args=(cont_address,abi,inputs,weight,bias,account8,private_key8))\n",
    "    t9 = threading.Thread(target = predict_compute,args=(cont_address,abi,inputs,weight,bias,account9,private_key9))\n",
    "    t10 = threading.Thread(target = predict_compute,args=(cont_address,abi,inputs,weight,bias,account10,private_key10))\n",
    "    t1.start()\n",
    "    t2.start()\n",
    "    t3.start()\n",
    "    t4.start()\n",
    "    t5.start()\n",
    "    t6.start()\n",
    "    t7.start()\n",
    "    t8.start()\n",
    "    t9.start()\n",
    "    t10.start()\n",
    "    \n",
    "    t1.join()\n",
    "    t2.join()\n",
    "    t3.join()\n",
    "    t4.join()\n",
    "    t5.join()\n",
    "    t6.join()\n",
    "    t7.join()\n",
    "    t8.join()\n",
    "    t9.join()\n",
    "    t10.join()\n",
    "    "
   ]
  },
  {
   "cell_type": "code",
   "execution_count": null,
   "id": "numeric-strip",
   "metadata": {},
   "outputs": [],
   "source": []
  },
  {
   "cell_type": "code",
   "execution_count": 97,
   "id": "cross-bandwidth",
   "metadata": {},
   "outputs": [
    {
     "ename": "NameError",
     "evalue": "name 'pred' is not defined",
     "output_type": "error",
     "traceback": [
      "\u001b[1;31m---------------------------------------------------------------------------\u001b[0m",
      "\u001b[1;31mNameError\u001b[0m                                 Traceback (most recent call last)",
      "\u001b[1;32m<ipython-input-97-008509a38355>\u001b[0m in \u001b[0;36m<module>\u001b[1;34m\u001b[0m\n\u001b[1;32m----> 1\u001b[1;33m \u001b[0mprint\u001b[0m\u001b[1;33m(\u001b[0m\u001b[0mpred\u001b[0m\u001b[1;33m)\u001b[0m\u001b[1;33m\u001b[0m\u001b[1;33m\u001b[0m\u001b[0m\n\u001b[0m",
      "\u001b[1;31mNameError\u001b[0m: name 'pred' is not defined"
     ]
    }
   ],
   "source": [
    "print(pred)"
   ]
  },
  {
   "cell_type": "code",
   "execution_count": null,
   "id": "complete-archives",
   "metadata": {},
   "outputs": [],
   "source": [
    "print(accuracy_score(y1, pred))"
   ]
  },
  {
   "cell_type": "code",
   "execution_count": null,
   "id": "found-diversity",
   "metadata": {},
   "outputs": [],
   "source": [
    "print(sigmoid_time)\n",
    "print(sigmoid_gasuse)"
   ]
  },
  {
   "cell_type": "code",
   "execution_count": null,
   "id": "featured-double",
   "metadata": {},
   "outputs": [],
   "source": []
  }
 ],
 "metadata": {
  "kernelspec": {
   "display_name": "Python 3",
   "language": "python",
   "name": "python3"
  },
  "language_info": {
   "codemirror_mode": {
    "name": "ipython",
    "version": 3
   },
   "file_extension": ".py",
   "mimetype": "text/x-python",
   "name": "python",
   "nbconvert_exporter": "python",
   "pygments_lexer": "ipython3",
   "version": "3.9.2"
  }
 },
 "nbformat": 4,
 "nbformat_minor": 5
}
