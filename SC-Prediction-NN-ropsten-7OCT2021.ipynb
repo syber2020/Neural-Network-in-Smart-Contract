{
 "cells": [
  {
   "cell_type": "code",
   "execution_count": 39,
   "id": "alive-rally",
   "metadata": {
    "scrolled": true
   },
   "outputs": [
    {
     "data": {
      "text/plain": [
       "True"
      ]
     },
     "execution_count": 39,
     "metadata": {},
     "output_type": "execute_result"
    }
   ],
   "source": [
    "import numpy as np\n",
    "import pandas as pd\n",
    "from sklearn.linear_model import Perceptron\n",
    "from keras.models import Sequential\n",
    "from keras.layers import Dense\n",
    "df = pd.read_csv('diabetes.csv',sep = ',')\n",
    "# starting web3 operations\n",
    "import numpy as np\n",
    "import json\n",
    "from web3 import Web3\n",
    "import time\n",
    "# ganache_url = \"HTTP://127.0.0.1:8545\"\n",
    "ropsten_url = \"https://ropsten.infura.io/v3/6072fdc3b95c407caa681f63ebaf72b8\"\n",
    "# ropsten_url = \"https://ropsten.infura.io/v3/a1f0f6389bcc4a2f90e2710985f3415e\"\n",
    "web3 = Web3(Web3.HTTPProvider(ropsten_url))\n",
    "web3.isConnected()"
   ]
  },
  {
   "cell_type": "code",
   "execution_count": 40,
   "id": "qualified-matthew",
   "metadata": {},
   "outputs": [],
   "source": [
    "abi = json.loads('[{ \"inputs\": [], \"name\": \"add_print\", \"outputs\": [ { \"internalType\": \"int256\", \"name\": \"x\", \"type\": \"int256\" }, { \"internalType\": \"int256\", \"name\": \"y\", \"type\": \"int256\" } ], \"stateMutability\": \"view\", \"type\": \"function\" }, { \"inputs\": [ { \"internalType\": \"int256[]\", \"name\": \"input\", \"type\": \"int256[]\" }, { \"internalType\": \"int256[]\", \"name\": \"w\", \"type\": \"int256[]\" }, { \"internalType\": \"int256[]\", \"name\": \"b\", \"type\": \"int256[]\" } ], \"name\": \"compute_IXWB\", \"outputs\": [], \"stateMutability\": \"nonpayable\", \"type\": \"function\" }, { \"inputs\": [ { \"internalType\": \"int256\", \"name\": \"a\", \"type\": \"int256\" }, { \"internalType\": \"int256\", \"name\": \"b\", \"type\": \"int256\" }, { \"internalType\": \"int256\", \"name\": \"c\", \"type\": \"int256\" }, { \"internalType\": \"int256\", \"name\": \"d\", \"type\": \"int256\" } ], \"name\": \"compute_addition\", \"outputs\": [], \"stateMutability\": \"nonpayable\", \"type\": \"function\" }, { \"inputs\": [ { \"internalType\": \"int256\", \"name\": \"x\", \"type\": \"int256\" }, { \"internalType\": \"int256\", \"name\": \"y\", \"type\": \"int256\" } ], \"name\": \"compute_lcm\", \"outputs\": [], \"stateMutability\": \"nonpayable\", \"type\": \"function\" }, { \"inputs\": [ { \"internalType\": \"int256\", \"name\": \"d\", \"type\": \"int256\" } ], \"name\": \"compute_sigmoid\", \"outputs\": [], \"stateMutability\": \"nonpayable\", \"type\": \"function\" }, { \"inputs\": [], \"name\": \"lcm_print\", \"outputs\": [ { \"internalType\": \"int256\", \"name\": \"\", \"type\": \"int256\" } ], \"stateMutability\": \"view\", \"type\": \"function\" }, { \"inputs\": [], \"name\": \"predict_print\", \"outputs\": [ { \"internalType\": \"int256\", \"name\": \"\", \"type\": \"int256\" } ], \"stateMutability\": \"view\", \"type\": \"function\" }]')\n",
    "# cont_address = \"0xFD9fFdE09432258482C532d80bBDB5c4577dc2DF\"\n",
    "# cont_address = \"0xDBd0f216C38Dd54594A340CEeF63bCae637328ea\" #ropsten\n",
    "cont_address = \"0xFD9fFdE09432258482C532d80bBDB5c4577dc2DF\"   #ganache\n",
    "account1 = \"0x37bfB436392DaAE0E91EdcD9c4128FBcADF3919d\"\n",
    "private_key1 = \"e72044de2331844a3c0232dc23d43fb8ca4f555854b4da07e2fb530d003e5e2d\"\n",
    "account2 = \"0xfbD8f1F5878b0b5b3E627e7cc14617b05B582867\"\n",
    "private_key2=\"56c8f569b23a423f9d66d46f86f7ada7ba0d28dfba03c34f661bb15358b042bb\"\n"
   ]
  },
  {
   "cell_type": "code",
   "execution_count": 41,
   "id": "demanding-spoke",
   "metadata": {},
   "outputs": [
    {
     "data": {
      "text/html": [
       "<div>\n",
       "<style scoped>\n",
       "    .dataframe tbody tr th:only-of-type {\n",
       "        vertical-align: middle;\n",
       "    }\n",
       "\n",
       "    .dataframe tbody tr th {\n",
       "        vertical-align: top;\n",
       "    }\n",
       "\n",
       "    .dataframe thead th {\n",
       "        text-align: right;\n",
       "    }\n",
       "</style>\n",
       "<table border=\"1\" class=\"dataframe\">\n",
       "  <thead>\n",
       "    <tr style=\"text-align: right;\">\n",
       "      <th></th>\n",
       "      <th>Pregnancies</th>\n",
       "      <th>Glucose</th>\n",
       "      <th>BloodPressure</th>\n",
       "      <th>SkinThickness</th>\n",
       "      <th>Insulin</th>\n",
       "      <th>BMI</th>\n",
       "      <th>DiabetesPedigreeFunction</th>\n",
       "      <th>Age</th>\n",
       "      <th>Outcome</th>\n",
       "    </tr>\n",
       "  </thead>\n",
       "  <tbody>\n",
       "    <tr>\n",
       "      <th>0</th>\n",
       "      <td>6</td>\n",
       "      <td>148</td>\n",
       "      <td>72</td>\n",
       "      <td>35</td>\n",
       "      <td>0</td>\n",
       "      <td>33</td>\n",
       "      <td>62</td>\n",
       "      <td>50</td>\n",
       "      <td>1</td>\n",
       "    </tr>\n",
       "    <tr>\n",
       "      <th>1</th>\n",
       "      <td>1</td>\n",
       "      <td>85</td>\n",
       "      <td>66</td>\n",
       "      <td>29</td>\n",
       "      <td>0</td>\n",
       "      <td>26</td>\n",
       "      <td>35</td>\n",
       "      <td>31</td>\n",
       "      <td>0</td>\n",
       "    </tr>\n",
       "    <tr>\n",
       "      <th>2</th>\n",
       "      <td>8</td>\n",
       "      <td>183</td>\n",
       "      <td>64</td>\n",
       "      <td>0</td>\n",
       "      <td>0</td>\n",
       "      <td>23</td>\n",
       "      <td>67</td>\n",
       "      <td>32</td>\n",
       "      <td>1</td>\n",
       "    </tr>\n",
       "    <tr>\n",
       "      <th>3</th>\n",
       "      <td>1</td>\n",
       "      <td>89</td>\n",
       "      <td>66</td>\n",
       "      <td>23</td>\n",
       "      <td>94</td>\n",
       "      <td>28</td>\n",
       "      <td>16</td>\n",
       "      <td>21</td>\n",
       "      <td>0</td>\n",
       "    </tr>\n",
       "    <tr>\n",
       "      <th>4</th>\n",
       "      <td>0</td>\n",
       "      <td>137</td>\n",
       "      <td>40</td>\n",
       "      <td>35</td>\n",
       "      <td>168</td>\n",
       "      <td>43</td>\n",
       "      <td>228</td>\n",
       "      <td>33</td>\n",
       "      <td>1</td>\n",
       "    </tr>\n",
       "  </tbody>\n",
       "</table>\n",
       "</div>"
      ],
      "text/plain": [
       "   Pregnancies  Glucose  BloodPressure  SkinThickness  Insulin  BMI  \\\n",
       "0            6      148             72             35        0   33   \n",
       "1            1       85             66             29        0   26   \n",
       "2            8      183             64              0        0   23   \n",
       "3            1       89             66             23       94   28   \n",
       "4            0      137             40             35      168   43   \n",
       "\n",
       "   DiabetesPedigreeFunction  Age  Outcome  \n",
       "0                        62   50        1  \n",
       "1                        35   31        0  \n",
       "2                        67   32        1  \n",
       "3                        16   21        0  \n",
       "4                       228   33        1  "
      ]
     },
     "execution_count": 41,
     "metadata": {},
     "output_type": "execute_result"
    }
   ],
   "source": [
    "df['DiabetesPedigreeFunction'] = df['DiabetesPedigreeFunction']*100\n",
    "df.DiabetesPedigreeFunction = df.DiabetesPedigreeFunction.astype(int)\n",
    "df.BMI = df.BMI.astype(int) \n",
    "df.head()"
   ]
  },
  {
   "cell_type": "code",
   "execution_count": 42,
   "id": "valued-burton",
   "metadata": {
    "scrolled": true
   },
   "outputs": [],
   "source": [
    "dataset = df.to_numpy()\n",
    "\n",
    "X = dataset[:500,0:8]\n",
    "X1 = dataset[500:,0:8]\n",
    "y = dataset[:500,8]\n",
    "y1 = dataset[500:,8]"
   ]
  },
  {
   "cell_type": "code",
   "execution_count": 43,
   "id": "parliamentary-breach",
   "metadata": {},
   "outputs": [
    {
     "name": "stdout",
     "output_type": "stream",
     "text": [
      "[[  6 148  72  35   0  33  62  50]\n",
      " [  1  85  66  29   0  26  35  31]\n",
      " [  8 183  64   0   0  23  67  32]\n",
      " [  1  89  66  23  94  28  16  21]\n",
      " [  0 137  40  35 168  43 228  33]]\n",
      "[1 0 1 0 1]\n"
     ]
    }
   ],
   "source": [
    "print(X[:5])\n",
    "print(y[:5])"
   ]
  },
  {
   "cell_type": "code",
   "execution_count": 44,
   "id": "grateful-influence",
   "metadata": {},
   "outputs": [],
   "source": [
    "# define the keras model\n",
    "model = Sequential()\n",
    "# model.add(Dense(12, input_dim=8, activation='sigmoid'))\n",
    "# model.add(Dense(8, activation='sigmoid'))\n",
    "model.add(Dense(1, activation='sigmoid'))"
   ]
  },
  {
   "cell_type": "code",
   "execution_count": 45,
   "id": "worthy-clearing",
   "metadata": {},
   "outputs": [],
   "source": [
    "# compile the keras model\n",
    "model.compile(loss='binary_crossentropy', optimizer='adam', metrics=['accuracy'])"
   ]
  },
  {
   "cell_type": "code",
   "execution_count": 46,
   "id": "least-harvey",
   "metadata": {},
   "outputs": [
    {
     "name": "stdout",
     "output_type": "stream",
     "text": [
      "Epoch 1/150\n",
      "50/50 [==============================] - 1s 549us/step - loss: 48.3396 - accuracy: 0.6474\n",
      "Epoch 2/150\n",
      "50/50 [==============================] - 0s 490us/step - loss: 41.6653 - accuracy: 0.6541\n",
      "Epoch 3/150\n",
      "50/50 [==============================] - 0s 496us/step - loss: 36.5902 - accuracy: 0.6207\n",
      "Epoch 4/150\n",
      "50/50 [==============================] - 0s 530us/step - loss: 28.2250 - accuracy: 0.6401\n",
      "Epoch 5/150\n",
      "50/50 [==============================] - 0s 517us/step - loss: 21.6048 - accuracy: 0.6126\n",
      "Epoch 6/150\n",
      "50/50 [==============================] - 0s 544us/step - loss: 14.0573 - accuracy: 0.6102\n",
      "Epoch 7/150\n",
      "50/50 [==============================] - 0s 530us/step - loss: 6.8496 - accuracy: 0.5745\n",
      "Epoch 8/150\n",
      "50/50 [==============================] - 0s 524us/step - loss: 4.8069 - accuracy: 0.4660\n",
      "Epoch 9/150\n",
      "50/50 [==============================] - 0s 513us/step - loss: 3.8365 - accuracy: 0.5009\n",
      "Epoch 10/150\n",
      "50/50 [==============================] - 0s 520us/step - loss: 3.5386 - accuracy: 0.4902\n",
      "Epoch 11/150\n",
      "50/50 [==============================] - 0s 483us/step - loss: 2.9730 - accuracy: 0.5619\n",
      "Epoch 12/150\n",
      "50/50 [==============================] - 0s 489us/step - loss: 2.9852 - accuracy: 0.4976\n",
      "Epoch 13/150\n",
      "50/50 [==============================] - 0s 551us/step - loss: 2.7726 - accuracy: 0.5035\n",
      "Epoch 14/150\n",
      "50/50 [==============================] - 0s 496us/step - loss: 2.9820 - accuracy: 0.5293\n",
      "Epoch 15/150\n",
      "50/50 [==============================] - 0s 510us/step - loss: 2.4519 - accuracy: 0.5579\n",
      "Epoch 16/150\n",
      "50/50 [==============================] - 0s 534us/step - loss: 2.5933 - accuracy: 0.4847\n",
      "Epoch 17/150\n",
      "50/50 [==============================] - 0s 557us/step - loss: 2.3172 - accuracy: 0.5700\n",
      "Epoch 18/150\n",
      "50/50 [==============================] - 0s 504us/step - loss: 2.1386 - accuracy: 0.5265\n",
      "Epoch 19/150\n",
      "50/50 [==============================] - 0s 500us/step - loss: 2.1312 - accuracy: 0.5485\n",
      "Epoch 20/150\n",
      "50/50 [==============================] - 0s 551us/step - loss: 1.8882 - accuracy: 0.5617\n",
      "Epoch 21/150\n",
      "50/50 [==============================] - 0s 530us/step - loss: 1.9513 - accuracy: 0.5178\n",
      "Epoch 22/150\n",
      "50/50 [==============================] - 0s 530us/step - loss: 1.6002 - accuracy: 0.5840\n",
      "Epoch 23/150\n",
      "50/50 [==============================] - 0s 514us/step - loss: 1.6026 - accuracy: 0.5917\n",
      "Epoch 24/150\n",
      "50/50 [==============================] - 0s 509us/step - loss: 1.4058 - accuracy: 0.5992\n",
      "Epoch 25/150\n",
      "50/50 [==============================] - 0s 510us/step - loss: 1.3800 - accuracy: 0.5831\n",
      "Epoch 26/150\n",
      "50/50 [==============================] - 0s 510us/step - loss: 1.5266 - accuracy: 0.5348\n",
      "Epoch 27/150\n",
      "50/50 [==============================] - 0s 531us/step - loss: 1.3024 - accuracy: 0.5870\n",
      "Epoch 28/150\n",
      "50/50 [==============================] - 0s 530us/step - loss: 1.1831 - accuracy: 0.5846\n",
      "Epoch 29/150\n",
      "50/50 [==============================] - 0s 530us/step - loss: 1.1631 - accuracy: 0.6054\n",
      "Epoch 30/150\n",
      "50/50 [==============================] - 0s 510us/step - loss: 1.0470 - accuracy: 0.5741\n",
      "Epoch 31/150\n",
      "50/50 [==============================] - 0s 531us/step - loss: 1.0342 - accuracy: 0.6139\n",
      "Epoch 32/150\n",
      "50/50 [==============================] - 0s 530us/step - loss: 1.0007 - accuracy: 0.6125\n",
      "Epoch 33/150\n",
      "50/50 [==============================] - 0s 510us/step - loss: 0.9429 - accuracy: 0.6057\n",
      "Epoch 34/150\n",
      "50/50 [==============================] - 0s 531us/step - loss: 0.9844 - accuracy: 0.6255\n",
      "Epoch 35/150\n",
      "50/50 [==============================] - 0s 725us/step - loss: 0.9113 - accuracy: 0.5732\n",
      "Epoch 36/150\n",
      "50/50 [==============================] - 0s 500us/step - loss: 0.9353 - accuracy: 0.6155\n",
      "Epoch 37/150\n",
      "50/50 [==============================] - 0s 520us/step - loss: 0.9661 - accuracy: 0.5785\n",
      "Epoch 38/150\n",
      "50/50 [==============================] - 0s 493us/step - loss: 0.8293 - accuracy: 0.6280\n",
      "Epoch 39/150\n",
      "50/50 [==============================] - 0s 510us/step - loss: 0.8808 - accuracy: 0.6122\n",
      "Epoch 40/150\n",
      "50/50 [==============================] - 0s 531us/step - loss: 0.7768 - accuracy: 0.6439\n",
      "Epoch 41/150\n",
      "50/50 [==============================] - 0s 530us/step - loss: 0.8019 - accuracy: 0.6449\n",
      "Epoch 42/150\n",
      "50/50 [==============================] - 0s 551us/step - loss: 0.6883 - accuracy: 0.6613\n",
      "Epoch 43/150\n",
      "50/50 [==============================] - 0s 530us/step - loss: 0.6952 - accuracy: 0.6770\n",
      "Epoch 44/150\n",
      "50/50 [==============================] - 0s 531us/step - loss: 0.7504 - accuracy: 0.5977\n",
      "Epoch 45/150\n",
      "50/50 [==============================] - 0s 504us/step - loss: 0.7308 - accuracy: 0.6154\n",
      "Epoch 46/150\n",
      "50/50 [==============================] - 0s 530us/step - loss: 0.7171 - accuracy: 0.6413\n",
      "Epoch 47/150\n",
      "50/50 [==============================] - 0s 510us/step - loss: 0.6907 - accuracy: 0.6436\n",
      "Epoch 48/150\n",
      "50/50 [==============================] - 0s 495us/step - loss: 0.7348 - accuracy: 0.6145\n",
      "Epoch 49/150\n",
      "50/50 [==============================] - 0s 592us/step - loss: 0.6552 - accuracy: 0.6444\n",
      "Epoch 50/150\n",
      "50/50 [==============================] - 0s 493us/step - loss: 0.6246 - accuracy: 0.7253\n",
      "Epoch 51/150\n",
      "50/50 [==============================] - 0s 520us/step - loss: 0.6731 - accuracy: 0.6601\n",
      "Epoch 52/150\n",
      "50/50 [==============================] - 0s 490us/step - loss: 0.6408 - accuracy: 0.6795\n",
      "Epoch 53/150\n",
      "50/50 [==============================] - 0s 505us/step - loss: 0.6329 - accuracy: 0.6771\n",
      "Epoch 54/150\n",
      "50/50 [==============================] - 0s 530us/step - loss: 0.6359 - accuracy: 0.6682\n",
      "Epoch 55/150\n",
      "50/50 [==============================] - 0s 490us/step - loss: 0.6528 - accuracy: 0.6619\n",
      "Epoch 56/150\n",
      "50/50 [==============================] - 0s 493us/step - loss: 0.6300 - accuracy: 0.6694\n",
      "Epoch 57/150\n",
      "50/50 [==============================] - 0s 506us/step - loss: 0.6753 - accuracy: 0.6880\n",
      "Epoch 58/150\n",
      "50/50 [==============================] - 0s 510us/step - loss: 0.6567 - accuracy: 0.6602\n",
      "Epoch 59/150\n",
      "50/50 [==============================] - 0s 515us/step - loss: 0.6049 - accuracy: 0.6877\n",
      "Epoch 60/150\n",
      "50/50 [==============================] - 0s 509us/step - loss: 0.6352 - accuracy: 0.6895\n",
      "Epoch 61/150\n",
      "50/50 [==============================] - 0s 509us/step - loss: 0.6251 - accuracy: 0.6956\n",
      "Epoch 62/150\n",
      "50/50 [==============================] - 0s 489us/step - loss: 0.6102 - accuracy: 0.7074\n",
      "Epoch 63/150\n",
      "50/50 [==============================] - 0s 487us/step - loss: 0.6281 - accuracy: 0.6862\n",
      "Epoch 64/150\n",
      "50/50 [==============================] - 0s 489us/step - loss: 0.6168 - accuracy: 0.6879\n",
      "Epoch 65/150\n",
      "50/50 [==============================] - 0s 490us/step - loss: 0.6289 - accuracy: 0.6789\n",
      "Epoch 66/150\n",
      "50/50 [==============================] - 0s 510us/step - loss: 0.6238 - accuracy: 0.6764\n",
      "Epoch 67/150\n",
      "50/50 [==============================] - 0s 490us/step - loss: 0.6173 - accuracy: 0.6902\n",
      "Epoch 68/150\n",
      "50/50 [==============================] - 0s 489us/step - loss: 0.6684 - accuracy: 0.6626\n",
      "Epoch 69/150\n",
      "50/50 [==============================] - 0s 521us/step - loss: 0.6437 - accuracy: 0.6343\n",
      "Epoch 70/150\n",
      "50/50 [==============================] - 0s 490us/step - loss: 0.5960 - accuracy: 0.6929\n",
      "Epoch 71/150\n",
      "50/50 [==============================] - 0s 523us/step - loss: 0.6120 - accuracy: 0.6749\n",
      "Epoch 72/150\n",
      "50/50 [==============================] - 0s 511us/step - loss: 0.6195 - accuracy: 0.6541\n",
      "Epoch 73/150\n",
      "50/50 [==============================] - 0s 524us/step - loss: 0.6126 - accuracy: 0.7028\n",
      "Epoch 74/150\n",
      "50/50 [==============================] - 0s 486us/step - loss: 0.6220 - accuracy: 0.7002\n",
      "Epoch 75/150\n",
      "50/50 [==============================] - 0s 507us/step - loss: 0.6251 - accuracy: 0.6972\n",
      "Epoch 76/150\n",
      "50/50 [==============================] - 0s 541us/step - loss: 0.6245 - accuracy: 0.6691\n",
      "Epoch 77/150\n",
      "50/50 [==============================] - 0s 489us/step - loss: 0.5976 - accuracy: 0.6941\n",
      "Epoch 78/150\n",
      "50/50 [==============================] - 0s 542us/step - loss: 0.6130 - accuracy: 0.6853\n",
      "Epoch 79/150\n",
      "50/50 [==============================] - 0s 505us/step - loss: 0.6172 - accuracy: 0.6683\n",
      "Epoch 80/150\n",
      "50/50 [==============================] - 0s 490us/step - loss: 0.6057 - accuracy: 0.6934\n",
      "Epoch 81/150\n"
     ]
    },
    {
     "name": "stdout",
     "output_type": "stream",
     "text": [
      "50/50 [==============================] - 0s 511us/step - loss: 0.5867 - accuracy: 0.6954\n",
      "Epoch 82/150\n",
      "50/50 [==============================] - 0s 520us/step - loss: 0.6301 - accuracy: 0.6662\n",
      "Epoch 83/150\n",
      "50/50 [==============================] - 0s 490us/step - loss: 0.6677 - accuracy: 0.6471\n",
      "Epoch 84/150\n",
      "50/50 [==============================] - 0s 504us/step - loss: 0.6110 - accuracy: 0.7005\n",
      "Epoch 85/150\n",
      "50/50 [==============================] - 0s 530us/step - loss: 0.6210 - accuracy: 0.7076\n",
      "Epoch 86/150\n",
      "50/50 [==============================] - 0s 525us/step - loss: 0.6213 - accuracy: 0.6797\n",
      "Epoch 87/150\n",
      "50/50 [==============================] - 0s 483us/step - loss: 0.5778 - accuracy: 0.7011\n",
      "Epoch 88/150\n",
      "50/50 [==============================] - 0s 496us/step - loss: 0.6290 - accuracy: 0.6716\n",
      "Epoch 89/150\n",
      "50/50 [==============================] - 0s 489us/step - loss: 0.5999 - accuracy: 0.6974\n",
      "Epoch 90/150\n",
      "50/50 [==============================] - 0s 532us/step - loss: 0.6113 - accuracy: 0.6895\n",
      "Epoch 91/150\n",
      "50/50 [==============================] - 0s 490us/step - loss: 0.6436 - accuracy: 0.6673\n",
      "Epoch 92/150\n",
      "50/50 [==============================] - 0s 536us/step - loss: 0.6413 - accuracy: 0.6489\n",
      "Epoch 93/150\n",
      "50/50 [==============================] - 0s 571us/step - loss: 0.5930 - accuracy: 0.7339\n",
      "Epoch 94/150\n",
      "50/50 [==============================] - 0s 530us/step - loss: 0.6382 - accuracy: 0.6638\n",
      "Epoch 95/150\n",
      "50/50 [==============================] - 0s 510us/step - loss: 0.6335 - accuracy: 0.6623\n",
      "Epoch 96/150\n",
      "50/50 [==============================] - 0s 530us/step - loss: 0.5998 - accuracy: 0.6910\n",
      "Epoch 97/150\n",
      "50/50 [==============================] - 0s 511us/step - loss: 0.6247 - accuracy: 0.6660\n",
      "Epoch 98/150\n",
      "50/50 [==============================] - 0s 522us/step - loss: 0.6030 - accuracy: 0.6852\n",
      "Epoch 99/150\n",
      "50/50 [==============================] - 0s 510us/step - loss: 0.6158 - accuracy: 0.6728\n",
      "Epoch 100/150\n",
      "50/50 [==============================] - 0s 487us/step - loss: 0.6597 - accuracy: 0.6443\n",
      "Epoch 101/150\n",
      "50/50 [==============================] - 0s 516us/step - loss: 0.6376 - accuracy: 0.6664\n",
      "Epoch 102/150\n",
      "50/50 [==============================] - 0s 495us/step - loss: 0.5982 - accuracy: 0.7103\n",
      "Epoch 103/150\n",
      "50/50 [==============================] - 0s 530us/step - loss: 0.6198 - accuracy: 0.6750\n",
      "Epoch 104/150\n",
      "50/50 [==============================] - 0s 501us/step - loss: 0.6120 - accuracy: 0.6844\n",
      "Epoch 105/150\n",
      "50/50 [==============================] - 0s 471us/step - loss: 0.6306 - accuracy: 0.6698\n",
      "Epoch 106/150\n",
      "50/50 [==============================] - 0s 492us/step - loss: 0.6175 - accuracy: 0.6794\n",
      "Epoch 107/150\n",
      "50/50 [==============================] - 0s 535us/step - loss: 0.6165 - accuracy: 0.6956\n",
      "Epoch 108/150\n",
      "50/50 [==============================] - 0s 498us/step - loss: 0.6200 - accuracy: 0.6621\n",
      "Epoch 109/150\n",
      "50/50 [==============================] - 0s 518us/step - loss: 0.6150 - accuracy: 0.7092\n",
      "Epoch 110/150\n",
      "50/50 [==============================] - 0s 510us/step - loss: 0.6160 - accuracy: 0.6978\n",
      "Epoch 111/150\n",
      "50/50 [==============================] - 0s 513us/step - loss: 0.6131 - accuracy: 0.7048\n",
      "Epoch 112/150\n",
      "50/50 [==============================] - 0s 503us/step - loss: 0.6293 - accuracy: 0.6597\n",
      "Epoch 113/150\n",
      "50/50 [==============================] - 0s 513us/step - loss: 0.5973 - accuracy: 0.6783\n",
      "Epoch 114/150\n",
      "50/50 [==============================] - 0s 530us/step - loss: 0.5884 - accuracy: 0.7083\n",
      "Epoch 115/150\n",
      "50/50 [==============================] - 0s 591us/step - loss: 0.6330 - accuracy: 0.6604\n",
      "Epoch 116/150\n",
      "50/50 [==============================] - 0s 530us/step - loss: 0.6085 - accuracy: 0.6895\n",
      "Epoch 117/150\n",
      "50/50 [==============================] - 0s 571us/step - loss: 0.6133 - accuracy: 0.6732\n",
      "Epoch 118/150\n",
      "50/50 [==============================] - 0s 501us/step - loss: 0.6228 - accuracy: 0.6875\n",
      "Epoch 119/150\n",
      "50/50 [==============================] - 0s 510us/step - loss: 0.5812 - accuracy: 0.7201\n",
      "Epoch 120/150\n",
      "50/50 [==============================] - 0s 489us/step - loss: 0.6204 - accuracy: 0.6833\n",
      "Epoch 121/150\n",
      "50/50 [==============================] - 0s 520us/step - loss: 0.6171 - accuracy: 0.6778\n",
      "Epoch 122/150\n",
      "50/50 [==============================] - 0s 489us/step - loss: 0.6347 - accuracy: 0.6692\n",
      "Epoch 123/150\n",
      "50/50 [==============================] - 0s 523us/step - loss: 0.6118 - accuracy: 0.7225\n",
      "Epoch 124/150\n",
      "50/50 [==============================] - 0s 490us/step - loss: 0.6437 - accuracy: 0.6725\n",
      "Epoch 125/150\n",
      "50/50 [==============================] - 0s 483us/step - loss: 0.6122 - accuracy: 0.7086\n",
      "Epoch 126/150\n",
      "50/50 [==============================] - 0s 471us/step - loss: 0.6129 - accuracy: 0.6919\n",
      "Epoch 127/150\n",
      "50/50 [==============================] - 0s 510us/step - loss: 0.6080 - accuracy: 0.6888\n",
      "Epoch 128/150\n",
      "50/50 [==============================] - 0s 510us/step - loss: 0.6082 - accuracy: 0.7000\n",
      "Epoch 129/150\n",
      "50/50 [==============================] - 0s 510us/step - loss: 0.5991 - accuracy: 0.7118\n",
      "Epoch 130/150\n",
      "50/50 [==============================] - 0s 499us/step - loss: 0.5745 - accuracy: 0.7340\n",
      "Epoch 131/150\n",
      "50/50 [==============================] - 0s 490us/step - loss: 0.6704 - accuracy: 0.6536\n",
      "Epoch 132/150\n",
      "50/50 [==============================] - 0s 510us/step - loss: 0.6010 - accuracy: 0.6759\n",
      "Epoch 133/150\n",
      "50/50 [==============================] - 0s 490us/step - loss: 0.5924 - accuracy: 0.6826\n",
      "Epoch 134/150\n",
      "50/50 [==============================] - 0s 505us/step - loss: 0.6226 - accuracy: 0.6639\n",
      "Epoch 135/150\n",
      "50/50 [==============================] - 0s 510us/step - loss: 0.5999 - accuracy: 0.7005\n",
      "Epoch 136/150\n",
      "50/50 [==============================] - 0s 510us/step - loss: 0.5623 - accuracy: 0.7296\n",
      "Epoch 137/150\n",
      "50/50 [==============================] - 0s 534us/step - loss: 0.6038 - accuracy: 0.6754\n",
      "Epoch 138/150\n",
      "50/50 [==============================] - 0s 489us/step - loss: 0.5621 - accuracy: 0.7101\n",
      "Epoch 139/150\n",
      "50/50 [==============================] - 0s 469us/step - loss: 0.6150 - accuracy: 0.6976\n",
      "Epoch 140/150\n",
      "50/50 [==============================] - 0s 503us/step - loss: 0.5788 - accuracy: 0.7090\n",
      "Epoch 141/150\n",
      "50/50 [==============================] - 0s 522us/step - loss: 0.6208 - accuracy: 0.6889\n",
      "Epoch 142/150\n",
      "50/50 [==============================] - 0s 510us/step - loss: 0.6586 - accuracy: 0.6450\n",
      "Epoch 143/150\n",
      "50/50 [==============================] - 0s 510us/step - loss: 0.6065 - accuracy: 0.6833\n",
      "Epoch 144/150\n",
      "50/50 [==============================] - 0s 508us/step - loss: 0.6028 - accuracy: 0.6960\n",
      "Epoch 145/150\n",
      "50/50 [==============================] - 0s 500us/step - loss: 0.5916 - accuracy: 0.6897\n",
      "Epoch 146/150\n",
      "50/50 [==============================] - 0s 502us/step - loss: 0.5704 - accuracy: 0.7121\n",
      "Epoch 147/150\n",
      "50/50 [==============================] - 0s 503us/step - loss: 0.6090 - accuracy: 0.7130\n",
      "Epoch 148/150\n",
      "50/50 [==============================] - 0s 510us/step - loss: 0.6059 - accuracy: 0.6931\n",
      "Epoch 149/150\n",
      "50/50 [==============================] - 0s 499us/step - loss: 0.5936 - accuracy: 0.7082\n",
      "Epoch 150/150\n",
      "50/50 [==============================] - 0s 512us/step - loss: 0.5890 - accuracy: 0.7150\n"
     ]
    },
    {
     "data": {
      "text/plain": [
       "<keras.callbacks.History at 0x1f54adf20d0>"
      ]
     },
     "execution_count": 46,
     "metadata": {},
     "output_type": "execute_result"
    }
   ],
   "source": [
    "4\n",
    "...\n",
    "# fit the keras model on the dataset\n",
    "model.fit(X, y, epochs=150, batch_size=10)"
   ]
  },
  {
   "cell_type": "code",
   "execution_count": 47,
   "id": "arranged-superior",
   "metadata": {},
   "outputs": [
    {
     "name": "stdout",
     "output_type": "stream",
     "text": [
      "Model: \"sequential_1\"\n",
      "_________________________________________________________________\n",
      "Layer (type)                 Output Shape              Param #   \n",
      "=================================================================\n",
      "dense_1 (Dense)              (10, 1)                   9         \n",
      "=================================================================\n",
      "Total params: 9\n",
      "Trainable params: 9\n",
      "Non-trainable params: 0\n",
      "_________________________________________________________________\n",
      "None\n"
     ]
    }
   ],
   "source": [
    "print(model.summary())"
   ]
  },
  {
   "cell_type": "code",
   "execution_count": 48,
   "id": "lasting-karaoke",
   "metadata": {},
   "outputs": [
    {
     "name": "stdout",
     "output_type": "stream",
     "text": [
      "16/16 [==============================] - 0s 666us/step - loss: 0.5936 - accuracy: 0.6920\n",
      "Accuracy: 69.20\n"
     ]
    }
   ],
   "source": [
    "4\n",
    "...\n",
    "# evaluate the keras model\n",
    "_, accuracy = model.evaluate(X, y)\n",
    "print('Accuracy: %.2f' % (accuracy*100))"
   ]
  },
  {
   "cell_type": "code",
   "execution_count": 49,
   "id": "tested-hudson",
   "metadata": {},
   "outputs": [
    {
     "name": "stdout",
     "output_type": "stream",
     "text": [
      "{'name': 'dense_1', 'trainable': True, 'dtype': 'float32', 'units': 1, 'activation': 'sigmoid', 'use_bias': True, 'kernel_initializer': {'class_name': 'GlorotUniform', 'config': {'seed': None}}, 'bias_initializer': {'class_name': 'Zeros', 'config': {}}, 'kernel_regularizer': None, 'bias_regularizer': None, 'activity_regularizer': None, 'kernel_constraint': None, 'bias_constraint': None}\n",
      "[array([[ 0.13222545],\n",
      "       [ 0.01286913],\n",
      "       [-0.02776367],\n",
      "       [-0.00861748],\n",
      "       [-0.00020436],\n",
      "       [ 0.02227871],\n",
      "       [ 0.00254237],\n",
      "       [-0.01989787]], dtype=float32), array([-0.90075237], dtype=float32)]\n"
     ]
    }
   ],
   "source": [
    "for layer in model.layers: \n",
    "    print(layer.get_config())\n",
    "    print(layer.get_weights())\n",
    "    \n",
    "    w = layer.get_weights()"
   ]
  },
  {
   "cell_type": "code",
   "execution_count": 50,
   "id": "directed-census",
   "metadata": {},
   "outputs": [],
   "source": [
    "weights = w[0]\n",
    "bias = w[1]"
   ]
  },
  {
   "cell_type": "code",
   "execution_count": 51,
   "id": "intensive-princeton",
   "metadata": {},
   "outputs": [
    {
     "name": "stdout",
     "output_type": "stream",
     "text": [
      "[  2 117  90  19  71  25  31  21]\n"
     ]
    }
   ],
   "source": [
    "print(X1[0])"
   ]
  },
  {
   "cell_type": "code",
   "execution_count": 52,
   "id": "statutory-response",
   "metadata": {},
   "outputs": [],
   "source": [
    "predictions = model.predict(X1)\n",
    "# predictions"
   ]
  },
  {
   "cell_type": "code",
   "execution_count": 53,
   "id": "sharp-alliance",
   "metadata": {},
   "outputs": [],
   "source": [
    "# for i in range(len(predictions)):\n",
    "#     if(predictions[i]>=.5):\n",
    "#         print(i)"
   ]
  },
  {
   "cell_type": "code",
   "execution_count": 54,
   "id": "damaged-damages",
   "metadata": {},
   "outputs": [],
   "source": [
    "\n",
    "rounded= [round(x[0]) for x in predictions]\n",
    "# rounded"
   ]
  },
  {
   "cell_type": "code",
   "execution_count": 55,
   "id": "altered-korea",
   "metadata": {},
   "outputs": [
    {
     "data": {
      "text/plain": [
       "0.6940298507462687"
      ]
     },
     "execution_count": 55,
     "metadata": {},
     "output_type": "execute_result"
    }
   ],
   "source": [
    "from sklearn.metrics import accuracy_score\n",
    "\n",
    "accuracy_score(y1, rounded)"
   ]
  },
  {
   "cell_type": "code",
   "execution_count": 56,
   "id": "olive-dover",
   "metadata": {},
   "outputs": [
    {
     "name": "stdout",
     "output_type": "stream",
     "text": [
      "              precision    recall  f1-score   support\n",
      "\n",
      "           0       0.71      0.94      0.81       182\n",
      "           1       0.58      0.17      0.27        86\n",
      "\n",
      "    accuracy                           0.69       268\n",
      "   macro avg       0.64      0.56      0.54       268\n",
      "weighted avg       0.66      0.69      0.63       268\n",
      "\n"
     ]
    }
   ],
   "source": [
    "from sklearn.metrics import classification_report\n",
    "print(classification_report(y1,rounded))"
   ]
  },
  {
   "cell_type": "code",
   "execution_count": 57,
   "id": "advance-jacksonville",
   "metadata": {},
   "outputs": [
    {
     "name": "stdout",
     "output_type": "stream",
     "text": [
      "[0, 0, 0, 0, 0, 0, 0, 0, 0, 0, 0, 0, 0, 0, 0, 0, 0, 0, 1, 0, 0, 0, 1, 1, 0, 0, 0, 0, 0, 0, 0, 0, 0, 1, 0, 1, 0, 0, 0, 0, 0, 0, 0, 0, 0, 0, 0, 0, 0, 0, 0, 0, 0, 0, 0, 0, 0, 0, 0, 0, 0, 0, 0, 0, 0, 0, 0, 0, 0, 0, 0, 0, 0, 0, 0, 0, 0, 0, 1, 0, 0, 0, 0, 0, 0, 0, 1, 0, 0, 1, 0, 0, 0, 0, 0, 0, 0, 0, 0, 0, 0, 1, 0, 0, 1, 0, 0, 0, 0, 0, 0, 1, 0, 0, 0, 0, 0, 0, 0, 1, 0, 0, 1, 0, 0, 0, 0, 0, 0, 0, 0, 0, 0, 0, 0, 1, 0, 0, 0, 0, 0, 0, 0, 1, 0, 0, 0, 1, 0, 0, 0, 0, 0, 0, 0, 0, 0, 0, 0, 0, 0, 1, 0, 0, 0, 0, 0, 0, 0, 0, 0, 0, 0, 0, 0, 1, 0, 0, 0, 0, 0, 0, 0, 0, 0, 0, 0, 0, 0, 0, 0, 0, 0, 0, 0, 0, 0, 1, 0, 0, 0, 0, 0, 1, 0, 0, 1, 0, 1, 0, 0, 0, 1, 0, 0, 1, 0, 0, 0, 0, 0, 0, 0, 0, 0, 0, 0, 0, 0, 0, 0, 0, 0, 0, 0, 0, 0, 0, 0, 0, 0, 0, 0, 0, 1, 0, 0, 0, 0, 0, 0, 0, 0, 0, 0, 0, 0, 0, 0, 0, 0, 1, 0, 0, 0, 0, 0, 0]\n"
     ]
    }
   ],
   "source": [
    "print(rounded)"
   ]
  },
  {
   "cell_type": "code",
   "execution_count": 58,
   "id": "universal-vanilla",
   "metadata": {},
   "outputs": [
    {
     "name": "stdout",
     "output_type": "stream",
     "text": [
      "[0 0 1 0 0 0 1 0 0 0]\n"
     ]
    }
   ],
   "source": [
    "print(y1[:10])"
   ]
  },
  {
   "cell_type": "code",
   "execution_count": 59,
   "id": "interested-penguin",
   "metadata": {},
   "outputs": [
    {
     "data": {
      "text/plain": [
       "array([[ 132., 1000.],\n",
       "       [  12., 1000.],\n",
       "       [ -27., 1000.],\n",
       "       [  -8., 1000.],\n",
       "       [   0., 1000.],\n",
       "       [  22., 1000.],\n",
       "       [   2., 1000.],\n",
       "       [ -19., 1000.]])"
      ]
     },
     "execution_count": 59,
     "metadata": {},
     "output_type": "execute_result"
    }
   ],
   "source": [
    "w = np.zeros((8,2))\n",
    "for i in range(weights.shape[0]):\n",
    "    w[i][0] = int(weights[i][0]*1000)\n",
    "    w[i][1] = 1000\n",
    "w\n"
   ]
  },
  {
   "cell_type": "code",
   "execution_count": 60,
   "id": "marked-treatment",
   "metadata": {},
   "outputs": [],
   "source": [
    "b = []\n",
    "b.append(int(bias*1000))\n",
    "b.append(1000)"
   ]
  },
  {
   "cell_type": "code",
   "execution_count": 61,
   "id": "designed-seventh",
   "metadata": {},
   "outputs": [],
   "source": [
    "def compute_lcm(x, y):\n",
    "   # choose the greater number\n",
    "    if (x > y):\n",
    "        greater = x\n",
    "    else:\n",
    "        greater = y\n",
    "    while(True):\n",
    "        if((greater % x == 0) and (greater % y == 0)):\n",
    "            lcm = greater\n",
    "            break\n",
    "        greater += 1\n",
    "    return lcm"
   ]
  },
  {
   "cell_type": "code",
   "execution_count": 62,
   "id": "wired-words",
   "metadata": {},
   "outputs": [],
   "source": [
    "def addition(a,b,c,d):\n",
    "    den = compute_lcm(b,d)\n",
    "#     den = b*d\n",
    "    num = ((den/b)*a) + ((den/d)*c)\n",
    "#     print(num,den)\n",
    "    return float(num),float(den)\n",
    "        "
   ]
  },
  {
   "cell_type": "code",
   "execution_count": 63,
   "id": "revised-legislation",
   "metadata": {},
   "outputs": [],
   "source": [
    "def IXWB(inputs,w,b):\n",
    "    num=0\n",
    "    den=0\n",
    "    out = np.zeros((inputs.shape[0],1))\n",
    "    for i in range(inputs.shape[0]):\n",
    "#     for i in range(10):\n",
    "#         print(inputs[i][0],w)\n",
    "        for j in range(inputs.shape[1]):\n",
    "            num = num + inputs[i][j]*w[j][0]\n",
    "            den = w[0][1]\n",
    "        num,den = addition(num,den,b[0],b[1])\n",
    "        out[i][0] = num\n",
    "#         out[i][1] = den\n",
    "        num =0\n",
    "        den =0\n",
    "    return out"
   ]
  },
  {
   "cell_type": "code",
   "execution_count": 64,
   "id": "purple-jimmy",
   "metadata": {},
   "outputs": [
    {
     "name": "stdout",
     "output_type": "stream",
     "text": [
      "[  2 117  90  19  71  25  31  21]\n",
      "-900\n"
     ]
    }
   ],
   "source": [
    "print(X1[0])\n",
    "print(b[0])"
   ]
  },
  {
   "cell_type": "code",
   "execution_count": 65,
   "id": "elementary-journal",
   "metadata": {},
   "outputs": [],
   "source": [
    "test = IXWB(X1,w,b)\n",
    "# print(test)"
   ]
  },
  {
   "cell_type": "code",
   "execution_count": 66,
   "id": "demonstrated-target",
   "metadata": {},
   "outputs": [],
   "source": [
    "# for i in range(len(test)):\n",
    "#     if(test[i][0]>0):\n",
    "#         print(i)"
   ]
  },
  {
   "cell_type": "code",
   "execution_count": 67,
   "id": "passing-opinion",
   "metadata": {},
   "outputs": [],
   "source": [
    "def sigmoidfrac(x):\n",
    "    if(x>=0):\n",
    "        return 1\n",
    "    else:\n",
    "        return 0"
   ]
  },
  {
   "cell_type": "code",
   "execution_count": 68,
   "id": "ignored-template",
   "metadata": {},
   "outputs": [],
   "source": [
    "out = []\n",
    "for i in range(test.shape[0]):\n",
    "    out.append(sigmoidfrac(test[i][0]))\n",
    "# out"
   ]
  },
  {
   "cell_type": "code",
   "execution_count": 69,
   "id": "guilty-simpson",
   "metadata": {},
   "outputs": [
    {
     "data": {
      "text/plain": [
       "0.6940298507462687"
      ]
     },
     "execution_count": 69,
     "metadata": {},
     "output_type": "execute_result"
    }
   ],
   "source": [
    "from sklearn.metrics import accuracy_score\n",
    "accuracy_score(y1, out)"
   ]
  },
  {
   "cell_type": "code",
   "execution_count": 70,
   "id": "horizontal-decade",
   "metadata": {},
   "outputs": [
    {
     "data": {
      "text/plain": [
       "array([[172,  10],\n",
       "       [ 72,  14]], dtype=int64)"
      ]
     },
     "execution_count": 70,
     "metadata": {},
     "output_type": "execute_result"
    }
   ],
   "source": [
    "\n",
    "from sklearn.metrics import confusion_matrix\n",
    "from sklearn.metrics import classification_report\n",
    "confusion_matrix(y1,out)"
   ]
  },
  {
   "cell_type": "code",
   "execution_count": 71,
   "id": "brazilian-yorkshire",
   "metadata": {},
   "outputs": [
    {
     "data": {
      "text/plain": [
       "<AxesSubplot:>"
      ]
     },
     "execution_count": 71,
     "metadata": {},
     "output_type": "execute_result"
    },
    {
     "data": {
      "image/png": "[encoded data removed]",
      "text/plain": [
       "<Figure size 432x288 with 2 Axes>"
      ]
     },
     "metadata": {},
     "output_type": "display_data"
    }
   ],
   "source": [
    "from sklearn.metrics import confusion_matrix\n",
    "from sklearn.metrics import classification_report\n",
    "import seaborn as sns; sns.set_theme()\n",
    "cf_matrix = confusion_matrix(y1,out)\n",
    "sns.heatmap(cf_matrix/np.sum(cf_matrix), annot=True, \n",
    "            fmt='.2%', cmap='Blues')"
   ]
  },
  {
   "cell_type": "code",
   "execution_count": 72,
   "id": "dependent-graphic",
   "metadata": {},
   "outputs": [],
   "source": [
    "# weight = new_weight.tolist()"
   ]
  },
  {
   "cell_type": "code",
   "execution_count": 73,
   "id": "capable-grass",
   "metadata": {},
   "outputs": [
    {
     "name": "stdout",
     "output_type": "stream",
     "text": [
      "[[ 0.13222545]\n",
      " [ 0.01286913]\n",
      " [-0.02776367]\n",
      " [-0.00861748]\n",
      " [-0.00020436]\n",
      " [ 0.02227871]\n",
      " [ 0.00254237]\n",
      " [-0.01989787]]\n",
      "[-0.90075237]\n"
     ]
    }
   ],
   "source": [
    "print(weights)\n",
    "print(bias)"
   ]
  },
  {
   "cell_type": "code",
   "execution_count": 74,
   "id": "ordinary-optimum",
   "metadata": {},
   "outputs": [],
   "source": [
    "# # def sigmoid_tx(acc,pk,X_input,weight,bias,cont_address,abi):\n",
    "# contract = web3.eth.contract(address=cont_address,abi=abi)\n",
    "# # getting IXWB\n",
    "# nonce = web3.eth.getTransactionCount(account1)\n",
    "# print(type(X_input),type(weight),type(bias))\n",
    "# tx_IXWB = contract.functions.compute_IXWB(X_input,weight,bias\n",
    "#     ).buildTransaction({\n",
    "#     'gas': 100000,\n",
    "#     'gasPrice': web3.toWei('1', 'gwei'),\n",
    "#     'from': account1,\n",
    "#     'nonce': nonce\n",
    "#     }) \n",
    "# signed_txn = web3.eth.account.signTransaction(tx_IXWB, private_key=private_key1)\n",
    "# start_time = time.time()\n",
    "# tx_hash = web3.eth.sendRawTransaction(signed_txn.rawTransaction)\n",
    "# tx_receipt = web3.eth.waitForTransactionReceipt(tx_hash)\n",
    "# end_time = time.time()\n",
    "# print(end_time -start_time)\n",
    "# out_num,out_den = contract.functions.add_print().call()\n",
    "\n",
    "# # getting sigmoid\n",
    "# nonce= web3.eth.getTransactionCount(account1)\n",
    "# tx_sigmoid = contract.functions.compute_sigmoid(\n",
    "#     out_num\n",
    "#      ).buildTransaction({\n",
    "#     'gas': 70000,\n",
    "#     'gasPrice': web3.toWei('1', 'gwei'),\n",
    "#     'from': account1,\n",
    "#     'nonce': nonce\n",
    "#     }) \n",
    "# signed_txn = web3.eth.account.signTransaction(tx_sigmoid, private_key=private_key1)\n",
    "# start_time = time.time()\n",
    "# tx_hash = web3.eth.sendRawTransaction(signed_txn.rawTransaction)\n",
    "# tx_receipt = web3.eth.waitForTransactionReceipt(tx_hash)\n",
    "# end_time = time.time()\n",
    "# print(end_time -start_time)\n",
    "# pred = contract.functions.predict_print().call()\n",
    "# #     return pred"
   ]
  },
  {
   "cell_type": "code",
   "execution_count": 75,
   "id": "brazilian-teens",
   "metadata": {},
   "outputs": [
    {
     "name": "stdout",
     "output_type": "stream",
     "text": [
      "[[  2 117  90 ...  25  31  21]\n",
      " [  3  84  72 ...  37  26  28]\n",
      " [  6   0  68 ...  39  72  41]\n",
      " ...\n",
      " [  5 121  72 ...  26  24  30]\n",
      " [  1 126  60 ...  30  34  47]\n",
      " [  1  93  70 ...  30  31  23]] [132, 12, -27, -8, 0, 22, 2, -19] [-900, 1000]\n"
     ]
    }
   ],
   "source": [
    "# print (X1, w,b,)\n",
    "# b = b.tolist()\n",
    "nw  = w[:,0].astype(int)\n",
    "nw = nw.tolist()\n",
    "print (X1, nw,b)"
   ]
  },
  {
   "cell_type": "code",
   "execution_count": 76,
   "id": "exposed-score",
   "metadata": {},
   "outputs": [
    {
     "name": "stdout",
     "output_type": "stream",
     "text": [
      "0\n",
      "[2, 117, 90, 19, 71, 25, 31, 21]\n",
      "8.400018453598022\n",
      "48934\n",
      "21.92115306854248\n",
      "24042\n"
     ]
    }
   ],
   "source": [
    "pred =[]\n",
    "ropsten_IXWB_time=[]\n",
    "ropsten_sigmoid_time=[]\n",
    "ropsten_IXWB_gasuse=[]\n",
    "ropsten_sigmoid_gasuse=[]\n",
    "\n",
    "for i in range(1):\n",
    "    print(i)\n",
    "    inputs = X1[i].tolist()\n",
    "    print(inputs)\n",
    "#     pred.append(sigmoid_tx(account1, private_key1,inputs,weight,bias,cont_address,abi))\n",
    "    contract = web3.eth.contract(address=cont_address,abi=abi)\n",
    "#     print(inputs,nw,b)\n",
    "    nonce = web3.eth.getTransactionCount(account1)\n",
    "#     print(type(inputs),type(nw),type(b))\n",
    "    tx_IXWB = contract.functions.compute_IXWB(\n",
    "        inputs,nw,b\n",
    "        ).buildTransaction({\n",
    "        'gas': 1000000,\n",
    "        'gasPrice': web3.toWei('100', 'gwei'),\n",
    "        'from': account1,\n",
    "        'nonce': nonce\n",
    "        }) \n",
    "    signed_txn = web3.eth.account.signTransaction(tx_IXWB, private_key=private_key1)\n",
    "    start_time = time.time()\n",
    "    tx_hash = web3.eth.sendRawTransaction(signed_txn.rawTransaction)\n",
    "    tx_receipt = web3.eth.waitForTransactionReceipt(tx_hash)\n",
    "    end_time = time.time()\n",
    "    ropsten_IXWB_time.append(end_time -start_time)\n",
    "    print(end_time -start_time)\n",
    "    ropsten_IXWB_gasuse.append(tx_receipt.gasUsed)\n",
    "    print(tx_receipt.gasUsed)\n",
    "    out_num,out_den = contract.functions.add_print().call()\n",
    "\n",
    "    # getting sigmoid\n",
    "    nonce= web3.eth.getTransactionCount(account2)\n",
    "    tx_sigmoid = contract.functions.compute_sigmoid(\n",
    "        out_num\n",
    "         ).buildTransaction({\n",
    "        'gas': 1000000,\n",
    "        'gasPrice': web3.toWei('100', 'gwei'),\n",
    "        'from': account2,\n",
    "        'nonce': nonce\n",
    "        }) \n",
    "    signed_txn = web3.eth.account.signTransaction(tx_sigmoid, private_key=private_key2)\n",
    "    start_time = time.time()\n",
    "    tx_hash = web3.eth.sendRawTransaction(signed_txn.rawTransaction)\n",
    "    tx_receipt = web3.eth.waitForTransactionReceipt(tx_hash)\n",
    "    end_time = time.time()\n",
    "    ropsten_sigmoid_time.append(end_time -start_time)\n",
    "    print(end_time -start_time)\n",
    "    ropsten_sigmoid_gasuse.append(tx_receipt.gasUsed)\n",
    "    print(tx_receipt.gasUsed)\n",
    "    pred.append(contract.functions.predict_print().call())\n",
    "    inputs.clear()\n",
    "   "
   ]
  },
  {
   "cell_type": "code",
   "execution_count": 77,
   "id": "complete-unknown",
   "metadata": {},
   "outputs": [
    {
     "name": "stdout",
     "output_type": "stream",
     "text": [
      "[0]\n"
     ]
    }
   ],
   "source": [
    "print(pred)"
   ]
  },
  {
   "cell_type": "code",
   "execution_count": 78,
   "id": "decent-dynamics",
   "metadata": {},
   "outputs": [
    {
     "ename": "ValueError",
     "evalue": "Found input variables with inconsistent numbers of samples: [268, 1]",
     "output_type": "error",
     "traceback": [
      "\u001b[1;31m---------------------------------------------------------------------------\u001b[0m",
      "\u001b[1;31mValueError\u001b[0m                                Traceback (most recent call last)",
      "\u001b[1;32m<ipython-input-78-55be814043e5>\u001b[0m in \u001b[0;36m<module>\u001b[1;34m\u001b[0m\n\u001b[1;32m----> 1\u001b[1;33m \u001b[0mprint\u001b[0m\u001b[1;33m(\u001b[0m\u001b[0maccuracy_score\u001b[0m\u001b[1;33m(\u001b[0m\u001b[0my1\u001b[0m\u001b[1;33m,\u001b[0m \u001b[0mpred\u001b[0m\u001b[1;33m)\u001b[0m\u001b[1;33m)\u001b[0m\u001b[1;33m\u001b[0m\u001b[1;33m\u001b[0m\u001b[0m\n\u001b[0m",
      "\u001b[1;32mc:\\users\\syed\\appdata\\local\\programs\\python\\python39\\lib\\site-packages\\sklearn\\utils\\validation.py\u001b[0m in \u001b[0;36minner_f\u001b[1;34m(*args, **kwargs)\u001b[0m\n\u001b[0;32m     61\u001b[0m             \u001b[0mextra_args\u001b[0m \u001b[1;33m=\u001b[0m \u001b[0mlen\u001b[0m\u001b[1;33m(\u001b[0m\u001b[0margs\u001b[0m\u001b[1;33m)\u001b[0m \u001b[1;33m-\u001b[0m \u001b[0mlen\u001b[0m\u001b[1;33m(\u001b[0m\u001b[0mall_args\u001b[0m\u001b[1;33m)\u001b[0m\u001b[1;33m\u001b[0m\u001b[1;33m\u001b[0m\u001b[0m\n\u001b[0;32m     62\u001b[0m             \u001b[1;32mif\u001b[0m \u001b[0mextra_args\u001b[0m \u001b[1;33m<=\u001b[0m \u001b[1;36m0\u001b[0m\u001b[1;33m:\u001b[0m\u001b[1;33m\u001b[0m\u001b[1;33m\u001b[0m\u001b[0m\n\u001b[1;32m---> 63\u001b[1;33m                 \u001b[1;32mreturn\u001b[0m \u001b[0mf\u001b[0m\u001b[1;33m(\u001b[0m\u001b[1;33m*\u001b[0m\u001b[0margs\u001b[0m\u001b[1;33m,\u001b[0m \u001b[1;33m**\u001b[0m\u001b[0mkwargs\u001b[0m\u001b[1;33m)\u001b[0m\u001b[1;33m\u001b[0m\u001b[1;33m\u001b[0m\u001b[0m\n\u001b[0m\u001b[0;32m     64\u001b[0m \u001b[1;33m\u001b[0m\u001b[0m\n\u001b[0;32m     65\u001b[0m             \u001b[1;31m# extra_args > 0\u001b[0m\u001b[1;33m\u001b[0m\u001b[1;33m\u001b[0m\u001b[1;33m\u001b[0m\u001b[0m\n",
      "\u001b[1;32mc:\\users\\syed\\appdata\\local\\programs\\python\\python39\\lib\\site-packages\\sklearn\\metrics\\_classification.py\u001b[0m in \u001b[0;36maccuracy_score\u001b[1;34m(y_true, y_pred, normalize, sample_weight)\u001b[0m\n\u001b[0;32m    200\u001b[0m \u001b[1;33m\u001b[0m\u001b[0m\n\u001b[0;32m    201\u001b[0m     \u001b[1;31m# Compute accuracy for each possible representation\u001b[0m\u001b[1;33m\u001b[0m\u001b[1;33m\u001b[0m\u001b[1;33m\u001b[0m\u001b[0m\n\u001b[1;32m--> 202\u001b[1;33m     \u001b[0my_type\u001b[0m\u001b[1;33m,\u001b[0m \u001b[0my_true\u001b[0m\u001b[1;33m,\u001b[0m \u001b[0my_pred\u001b[0m \u001b[1;33m=\u001b[0m \u001b[0m_check_targets\u001b[0m\u001b[1;33m(\u001b[0m\u001b[0my_true\u001b[0m\u001b[1;33m,\u001b[0m \u001b[0my_pred\u001b[0m\u001b[1;33m)\u001b[0m\u001b[1;33m\u001b[0m\u001b[1;33m\u001b[0m\u001b[0m\n\u001b[0m\u001b[0;32m    203\u001b[0m     \u001b[0mcheck_consistent_length\u001b[0m\u001b[1;33m(\u001b[0m\u001b[0my_true\u001b[0m\u001b[1;33m,\u001b[0m \u001b[0my_pred\u001b[0m\u001b[1;33m,\u001b[0m \u001b[0msample_weight\u001b[0m\u001b[1;33m)\u001b[0m\u001b[1;33m\u001b[0m\u001b[1;33m\u001b[0m\u001b[0m\n\u001b[0;32m    204\u001b[0m     \u001b[1;32mif\u001b[0m \u001b[0my_type\u001b[0m\u001b[1;33m.\u001b[0m\u001b[0mstartswith\u001b[0m\u001b[1;33m(\u001b[0m\u001b[1;34m'multilabel'\u001b[0m\u001b[1;33m)\u001b[0m\u001b[1;33m:\u001b[0m\u001b[1;33m\u001b[0m\u001b[1;33m\u001b[0m\u001b[0m\n",
      "\u001b[1;32mc:\\users\\syed\\appdata\\local\\programs\\python\\python39\\lib\\site-packages\\sklearn\\metrics\\_classification.py\u001b[0m in \u001b[0;36m_check_targets\u001b[1;34m(y_true, y_pred)\u001b[0m\n\u001b[0;32m     81\u001b[0m     \u001b[0my_pred\u001b[0m \u001b[1;33m:\u001b[0m \u001b[0marray\u001b[0m \u001b[1;32mor\u001b[0m \u001b[0mindicator\u001b[0m \u001b[0mmatrix\u001b[0m\u001b[1;33m\u001b[0m\u001b[1;33m\u001b[0m\u001b[0m\n\u001b[0;32m     82\u001b[0m     \"\"\"\n\u001b[1;32m---> 83\u001b[1;33m     \u001b[0mcheck_consistent_length\u001b[0m\u001b[1;33m(\u001b[0m\u001b[0my_true\u001b[0m\u001b[1;33m,\u001b[0m \u001b[0my_pred\u001b[0m\u001b[1;33m)\u001b[0m\u001b[1;33m\u001b[0m\u001b[1;33m\u001b[0m\u001b[0m\n\u001b[0m\u001b[0;32m     84\u001b[0m     \u001b[0mtype_true\u001b[0m \u001b[1;33m=\u001b[0m \u001b[0mtype_of_target\u001b[0m\u001b[1;33m(\u001b[0m\u001b[0my_true\u001b[0m\u001b[1;33m)\u001b[0m\u001b[1;33m\u001b[0m\u001b[1;33m\u001b[0m\u001b[0m\n\u001b[0;32m     85\u001b[0m     \u001b[0mtype_pred\u001b[0m \u001b[1;33m=\u001b[0m \u001b[0mtype_of_target\u001b[0m\u001b[1;33m(\u001b[0m\u001b[0my_pred\u001b[0m\u001b[1;33m)\u001b[0m\u001b[1;33m\u001b[0m\u001b[1;33m\u001b[0m\u001b[0m\n",
      "\u001b[1;32mc:\\users\\syed\\appdata\\local\\programs\\python\\python39\\lib\\site-packages\\sklearn\\utils\\validation.py\u001b[0m in \u001b[0;36mcheck_consistent_length\u001b[1;34m(*arrays)\u001b[0m\n\u001b[0;32m    260\u001b[0m     \u001b[0muniques\u001b[0m \u001b[1;33m=\u001b[0m \u001b[0mnp\u001b[0m\u001b[1;33m.\u001b[0m\u001b[0munique\u001b[0m\u001b[1;33m(\u001b[0m\u001b[0mlengths\u001b[0m\u001b[1;33m)\u001b[0m\u001b[1;33m\u001b[0m\u001b[1;33m\u001b[0m\u001b[0m\n\u001b[0;32m    261\u001b[0m     \u001b[1;32mif\u001b[0m \u001b[0mlen\u001b[0m\u001b[1;33m(\u001b[0m\u001b[0muniques\u001b[0m\u001b[1;33m)\u001b[0m \u001b[1;33m>\u001b[0m \u001b[1;36m1\u001b[0m\u001b[1;33m:\u001b[0m\u001b[1;33m\u001b[0m\u001b[1;33m\u001b[0m\u001b[0m\n\u001b[1;32m--> 262\u001b[1;33m         raise ValueError(\"Found input variables with inconsistent numbers of\"\n\u001b[0m\u001b[0;32m    263\u001b[0m                          \" samples: %r\" % [int(l) for l in lengths])\n\u001b[0;32m    264\u001b[0m \u001b[1;33m\u001b[0m\u001b[0m\n",
      "\u001b[1;31mValueError\u001b[0m: Found input variables with inconsistent numbers of samples: [268, 1]"
     ]
    }
   ],
   "source": [
    "print(accuracy_score(y1, pred))"
   ]
  },
  {
   "cell_type": "code",
   "execution_count": null,
   "id": "medium-gates",
   "metadata": {},
   "outputs": [],
   "source": [
    "# print(sigmoid_time)\n",
    "# print(sigmoid_gasuse)"
   ]
  },
  {
   "cell_type": "code",
   "execution_count": null,
   "id": "twelve-greeting",
   "metadata": {},
   "outputs": [],
   "source": [
    "# import pandas as pd\n",
    "# df = pd.DataFrame(sigmoid_time)\n",
    "# df.to_csv(\"testfile\",index=False)\n"
   ]
  },
  {
   "cell_type": "code",
   "execution_count": null,
   "id": "great-engineering",
   "metadata": {},
   "outputs": [],
   "source": [
    "# a = pd.DataFrame(ropsten_sigmoid_time)\n",
    "# a.to_csv(\"sigmoid_time_ropsten.csv\",index=False)\n",
    "# a = pd.DataFrame(ropsten_sigmoid_gasuse)\n",
    "# a.to_csv(\"sigmoid_gasuse_ropsten.csv\",index=False)\n",
    "# a = pd.DataFrame(ropsten_IXWB_time)\n",
    "# a.to_csv(\"IXWB_time_ropsten.csv\",index=False)\n",
    "# a = pd.DataFrame(ropsten_IXWB_gasuse)\n",
    "# a.to_csv(\"IXWB_gasuse_ropsten.csv\",index=False)"
   ]
  },
  {
   "cell_type": "code",
   "execution_count": null,
   "id": "floating-lebanon",
   "metadata": {},
   "outputs": [],
   "source": [
    "from sklearn.metrics import confusion_matrix\n",
    "from sklearn.metrics import classification_report\n",
    "cf_matrix = confusion_matrix(y1,pred)"
   ]
  },
  {
   "cell_type": "code",
   "execution_count": null,
   "id": "simple-carry",
   "metadata": {},
   "outputs": [],
   "source": [
    "import seaborn as sns\n",
    "sns.heatmap(cf_matrix, annot=True)"
   ]
  },
  {
   "cell_type": "code",
   "execution_count": null,
   "id": "sustainable-month",
   "metadata": {},
   "outputs": [],
   "source": [
    "sns.heatmap(cf_matrix/np.sum(cf_matrix), annot=True, \n",
    "            fmt='.2%', cmap='Blues')"
   ]
  },
  {
   "cell_type": "code",
   "execution_count": null,
   "id": "broken-inventory",
   "metadata": {
    "scrolled": true
   },
   "outputs": [],
   "source": [
    "print(classification_report(y1,pred))"
   ]
  },
  {
   "cell_type": "code",
   "execution_count": null,
   "id": "fossil-involvement",
   "metadata": {},
   "outputs": [],
   "source": []
  }
 ],
 "metadata": {
  "kernelspec": {
   "display_name": "Python 3",
   "language": "python",
   "name": "python3"
  },
  "language_info": {
   "codemirror_mode": {
    "name": "ipython",
    "version": 3
   },
   "file_extension": ".py",
   "mimetype": "text/x-python",
   "name": "python",
   "nbconvert_exporter": "python",
   "pygments_lexer": "ipython3",
   "version": "3.9.2"
  }
 },
 "nbformat": 4,
 "nbformat_minor": 5
}
