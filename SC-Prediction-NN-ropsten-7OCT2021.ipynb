{
 "cells": [
  {
   "cell_type": "code",
   "execution_count": 77,
   "id": "alive-rally",
   "metadata": {
    "scrolled": true
   },
   "outputs": [
    {
     "data": {
      "text/plain": [
       "True"
      ]
     },
     "execution_count": 77,
     "metadata": {},
     "output_type": "execute_result"
    }
   ],
   "source": [
    "import numpy as np\n",
    "import pandas as pd\n",
    "from sklearn.linear_model import Perceptron\n",
    "from keras.models import Sequential\n",
    "from keras.layers import Dense\n",
    "df = pd.read_csv('diabetes.csv',sep = ',')\n",
    "# starting web3 operations\n",
    "import numpy as np\n",
    "import json\n",
    "from web3 import Web3\n",
    "import time\n",
    "ganache_url = \"HTTP://127.0.0.1:8545\"\n",
    "ropsten_url = \"https://ropsten.infura.io/v3/6072fdc3b95c407caa681f63ebaf72b8\"\n",
    "web3 = Web3(Web3.HTTPProvider(ropsten_url))\n",
    "web3.isConnected()"
   ]
  },
  {
   "cell_type": "code",
   "execution_count": 78,
   "id": "qualified-matthew",
   "metadata": {},
   "outputs": [],
   "source": [
    "abi = json.loads('[{ \"inputs\": [], \"name\": \"add_print\", \"outputs\": [ { \"internalType\": \"int256\", \"name\": \"x\", \"type\": \"int256\" }, { \"internalType\": \"int256\", \"name\": \"y\", \"type\": \"int256\" } ], \"stateMutability\": \"view\", \"type\": \"function\" }, { \"inputs\": [ { \"internalType\": \"int256[]\", \"name\": \"input\", \"type\": \"int256[]\" }, { \"internalType\": \"int256[]\", \"name\": \"w\", \"type\": \"int256[]\" }, { \"internalType\": \"int256[]\", \"name\": \"b\", \"type\": \"int256[]\" } ], \"name\": \"compute_IXWB\", \"outputs\": [], \"stateMutability\": \"nonpayable\", \"type\": \"function\" }, { \"inputs\": [ { \"internalType\": \"int256\", \"name\": \"a\", \"type\": \"int256\" }, { \"internalType\": \"int256\", \"name\": \"b\", \"type\": \"int256\" }, { \"internalType\": \"int256\", \"name\": \"c\", \"type\": \"int256\" }, { \"internalType\": \"int256\", \"name\": \"d\", \"type\": \"int256\" } ], \"name\": \"compute_addition\", \"outputs\": [], \"stateMutability\": \"nonpayable\", \"type\": \"function\" }, { \"inputs\": [ { \"internalType\": \"int256\", \"name\": \"x\", \"type\": \"int256\" }, { \"internalType\": \"int256\", \"name\": \"y\", \"type\": \"int256\" } ], \"name\": \"compute_lcm\", \"outputs\": [], \"stateMutability\": \"nonpayable\", \"type\": \"function\" }, { \"inputs\": [ { \"internalType\": \"int256\", \"name\": \"d\", \"type\": \"int256\" } ], \"name\": \"compute_sigmoid\", \"outputs\": [], \"stateMutability\": \"nonpayable\", \"type\": \"function\" }, { \"inputs\": [], \"name\": \"lcm_print\", \"outputs\": [ { \"internalType\": \"int256\", \"name\": \"\", \"type\": \"int256\" } ], \"stateMutability\": \"view\", \"type\": \"function\" }, { \"inputs\": [], \"name\": \"predict_print\", \"outputs\": [ { \"internalType\": \"int256\", \"name\": \"\", \"type\": \"int256\" } ], \"stateMutability\": \"view\", \"type\": \"function\" }]')\n",
    "# cont_address = \"0xFD9fFdE09432258482C532d80bBDB5c4577dc2DF\"\n",
    "cont_address = \"0xDBd0f216C38Dd54594A340CEeF63bCae637328ea\"\n",
    "account1 = \"0x37bfB436392DaAE0E91EdcD9c4128FBcADF3919d\"\n",
    "private_key1 = \"e72044de2331844a3c0232dc23d43fb8ca4f555854b4da07e2fb530d003e5e2d\"\n",
    "account2 = \"0xfbD8f1F5878b0b5b3E627e7cc14617b05B582867\"\n",
    "private_key2=\"56c8f569b23a423f9d66d46f86f7ada7ba0d28dfba03c34f661bb15358b042bb\"\n"
   ]
  },
  {
   "cell_type": "code",
   "execution_count": 79,
   "id": "demanding-spoke",
   "metadata": {},
   "outputs": [
    {
     "data": {
      "text/html": [
       "<div>\n",
       "<style scoped>\n",
       "    .dataframe tbody tr th:only-of-type {\n",
       "        vertical-align: middle;\n",
       "    }\n",
       "\n",
       "    .dataframe tbody tr th {\n",
       "        vertical-align: top;\n",
       "    }\n",
       "\n",
       "    .dataframe thead th {\n",
       "        text-align: right;\n",
       "    }\n",
       "</style>\n",
       "<table border=\"1\" class=\"dataframe\">\n",
       "  <thead>\n",
       "    <tr style=\"text-align: right;\">\n",
       "      <th></th>\n",
       "      <th>Pregnancies</th>\n",
       "      <th>Glucose</th>\n",
       "      <th>BloodPressure</th>\n",
       "      <th>SkinThickness</th>\n",
       "      <th>Insulin</th>\n",
       "      <th>BMI</th>\n",
       "      <th>DiabetesPedigreeFunction</th>\n",
       "      <th>Age</th>\n",
       "      <th>Outcome</th>\n",
       "    </tr>\n",
       "  </thead>\n",
       "  <tbody>\n",
       "    <tr>\n",
       "      <th>0</th>\n",
       "      <td>6</td>\n",
       "      <td>148</td>\n",
       "      <td>72</td>\n",
       "      <td>35</td>\n",
       "      <td>0</td>\n",
       "      <td>33</td>\n",
       "      <td>62</td>\n",
       "      <td>50</td>\n",
       "      <td>1</td>\n",
       "    </tr>\n",
       "    <tr>\n",
       "      <th>1</th>\n",
       "      <td>1</td>\n",
       "      <td>85</td>\n",
       "      <td>66</td>\n",
       "      <td>29</td>\n",
       "      <td>0</td>\n",
       "      <td>26</td>\n",
       "      <td>35</td>\n",
       "      <td>31</td>\n",
       "      <td>0</td>\n",
       "    </tr>\n",
       "    <tr>\n",
       "      <th>2</th>\n",
       "      <td>8</td>\n",
       "      <td>183</td>\n",
       "      <td>64</td>\n",
       "      <td>0</td>\n",
       "      <td>0</td>\n",
       "      <td>23</td>\n",
       "      <td>67</td>\n",
       "      <td>32</td>\n",
       "      <td>1</td>\n",
       "    </tr>\n",
       "    <tr>\n",
       "      <th>3</th>\n",
       "      <td>1</td>\n",
       "      <td>89</td>\n",
       "      <td>66</td>\n",
       "      <td>23</td>\n",
       "      <td>94</td>\n",
       "      <td>28</td>\n",
       "      <td>16</td>\n",
       "      <td>21</td>\n",
       "      <td>0</td>\n",
       "    </tr>\n",
       "    <tr>\n",
       "      <th>4</th>\n",
       "      <td>0</td>\n",
       "      <td>137</td>\n",
       "      <td>40</td>\n",
       "      <td>35</td>\n",
       "      <td>168</td>\n",
       "      <td>43</td>\n",
       "      <td>228</td>\n",
       "      <td>33</td>\n",
       "      <td>1</td>\n",
       "    </tr>\n",
       "  </tbody>\n",
       "</table>\n",
       "</div>"
      ],
      "text/plain": [
       "   Pregnancies  Glucose  BloodPressure  SkinThickness  Insulin  BMI  \\\n",
       "0            6      148             72             35        0   33   \n",
       "1            1       85             66             29        0   26   \n",
       "2            8      183             64              0        0   23   \n",
       "3            1       89             66             23       94   28   \n",
       "4            0      137             40             35      168   43   \n",
       "\n",
       "   DiabetesPedigreeFunction  Age  Outcome  \n",
       "0                        62   50        1  \n",
       "1                        35   31        0  \n",
       "2                        67   32        1  \n",
       "3                        16   21        0  \n",
       "4                       228   33        1  "
      ]
     },
     "execution_count": 79,
     "metadata": {},
     "output_type": "execute_result"
    }
   ],
   "source": [
    "df['DiabetesPedigreeFunction'] = df['DiabetesPedigreeFunction']*100\n",
    "df.DiabetesPedigreeFunction = df.DiabetesPedigreeFunction.astype(int)\n",
    "df.BMI = df.BMI.astype(int) \n",
    "df.head()"
   ]
  },
  {
   "cell_type": "code",
   "execution_count": 80,
   "id": "valued-burton",
   "metadata": {
    "scrolled": true
   },
   "outputs": [],
   "source": [
    "dataset = df.to_numpy()\n",
    "\n",
    "X = dataset[:500,0:8]\n",
    "X1 = dataset[500:,0:8]\n",
    "y = dataset[:500,8]\n",
    "y1 = dataset[500:,8]"
   ]
  },
  {
   "cell_type": "code",
   "execution_count": 81,
   "id": "parliamentary-breach",
   "metadata": {},
   "outputs": [
    {
     "name": "stdout",
     "output_type": "stream",
     "text": [
      "[[  6 148  72  35   0  33  62  50]\n",
      " [  1  85  66  29   0  26  35  31]\n",
      " [  8 183  64   0   0  23  67  32]\n",
      " [  1  89  66  23  94  28  16  21]\n",
      " [  0 137  40  35 168  43 228  33]]\n",
      "[1 0 1 0 1]\n"
     ]
    }
   ],
   "source": [
    "print(X[:5])\n",
    "print(y[:5])"
   ]
  },
  {
   "cell_type": "code",
   "execution_count": 82,
   "id": "grateful-influence",
   "metadata": {},
   "outputs": [],
   "source": [
    "# define the keras model\n",
    "model = Sequential()\n",
    "# model.add(Dense(12, input_dim=8, activation='sigmoid'))\n",
    "# model.add(Dense(8, activation='sigmoid'))\n",
    "model.add(Dense(1, activation='sigmoid'))"
   ]
  },
  {
   "cell_type": "code",
   "execution_count": 83,
   "id": "worthy-clearing",
   "metadata": {},
   "outputs": [],
   "source": [
    "# compile the keras model\n",
    "model.compile(loss='binary_crossentropy', optimizer='adam', metrics=['accuracy'])"
   ]
  },
  {
   "cell_type": "code",
   "execution_count": 84,
   "id": "least-harvey",
   "metadata": {},
   "outputs": [
    {
     "name": "stdout",
     "output_type": "stream",
     "text": [
      "Epoch 1/150\n",
      "50/50 [==============================] - 1s 562us/step - loss: 51.7352 - accuracy: 0.6264\n",
      "Epoch 2/150\n",
      "50/50 [==============================] - 0s 510us/step - loss: 39.7809 - accuracy: 0.6660\n",
      "Epoch 3/150\n",
      "50/50 [==============================] - 0s 510us/step - loss: 37.9111 - accuracy: 0.6335\n",
      "Epoch 4/150\n",
      "50/50 [==============================] - 0s 531us/step - loss: 28.4807 - accuracy: 0.6037\n",
      "Epoch 5/150\n",
      "50/50 [==============================] - 0s 530us/step - loss: 23.0632 - accuracy: 0.6034\n",
      "Epoch 6/150\n",
      "50/50 [==============================] - 0s 510us/step - loss: 18.3159 - accuracy: 0.5625\n",
      "Epoch 7/150\n",
      "50/50 [==============================] - 0s 530us/step - loss: 15.4158 - accuracy: 0.5559\n",
      "Epoch 8/150\n",
      "50/50 [==============================] - 0s 506us/step - loss: 13.1986 - accuracy: 0.5363\n",
      "Epoch 9/150\n",
      "50/50 [==============================] - 0s 510us/step - loss: 11.6086 - accuracy: 0.5327\n",
      "Epoch 10/150\n",
      "50/50 [==============================] - 0s 530us/step - loss: 12.9478 - accuracy: 0.5144\n",
      "Epoch 11/150\n",
      "50/50 [==============================] - 0s 548us/step - loss: 11.9786 - accuracy: 0.4884\n",
      "Epoch 12/150\n",
      "50/50 [==============================] - 0s 508us/step - loss: 9.8137 - accuracy: 0.4868\n",
      "Epoch 13/150\n",
      "50/50 [==============================] - 0s 489us/step - loss: 9.8829 - accuracy: 0.4682\n",
      "Epoch 14/150\n",
      "50/50 [==============================] - 0s 531us/step - loss: 8.1550 - accuracy: 0.4909\n",
      "Epoch 15/150\n",
      "50/50 [==============================] - 0s 506us/step - loss: 7.3447 - accuracy: 0.5042\n",
      "Epoch 16/150\n",
      "50/50 [==============================] - 0s 518us/step - loss: 7.9345 - accuracy: 0.4692\n",
      "Epoch 17/150\n",
      "50/50 [==============================] - 0s 510us/step - loss: 7.2548 - accuracy: 0.4760\n",
      "Epoch 18/150\n",
      "50/50 [==============================] - 0s 518us/step - loss: 6.3076 - accuracy: 0.4624\n",
      "Epoch 19/150\n",
      "50/50 [==============================] - 0s 530us/step - loss: 5.8014 - accuracy: 0.4813\n",
      "Epoch 20/150\n",
      "50/50 [==============================] - 0s 510us/step - loss: 5.5287 - accuracy: 0.4949\n",
      "Epoch 21/150\n",
      "50/50 [==============================] - 0s 469us/step - loss: 4.4686 - accuracy: 0.5342\n",
      "Epoch 22/150\n",
      "50/50 [==============================] - 0s 510us/step - loss: 4.3729 - accuracy: 0.5220\n",
      "Epoch 23/150\n",
      "50/50 [==============================] - 0s 510us/step - loss: 4.5247 - accuracy: 0.4973\n",
      "Epoch 24/150\n",
      "50/50 [==============================] - 0s 507us/step - loss: 3.7145 - accuracy: 0.5416\n",
      "Epoch 25/150\n",
      "50/50 [==============================] - 0s 525us/step - loss: 3.6570 - accuracy: 0.5639\n",
      "Epoch 26/150\n",
      "50/50 [==============================] - 0s 519us/step - loss: 2.9394 - accuracy: 0.5792\n",
      "Epoch 27/150\n",
      "50/50 [==============================] - 0s 530us/step - loss: 2.9768 - accuracy: 0.5447\n",
      "Epoch 28/150\n",
      "50/50 [==============================] - 0s 551us/step - loss: 2.5078 - accuracy: 0.5882\n",
      "Epoch 29/150\n",
      "50/50 [==============================] - 0s 490us/step - loss: 2.4642 - accuracy: 0.5740\n",
      "Epoch 30/150\n",
      "50/50 [==============================] - 0s 517us/step - loss: 2.4580 - accuracy: 0.5557\n",
      "Epoch 31/150\n",
      "50/50 [==============================] - 0s 530us/step - loss: 2.2344 - accuracy: 0.5582\n",
      "Epoch 32/150\n",
      "50/50 [==============================] - 0s 551us/step - loss: 1.9002 - accuracy: 0.5721\n",
      "Epoch 33/150\n",
      "50/50 [==============================] - 0s 544us/step - loss: 1.7038 - accuracy: 0.5913\n",
      "Epoch 34/150\n",
      "50/50 [==============================] - 0s 530us/step - loss: 1.8084 - accuracy: 0.5741\n",
      "Epoch 35/150\n",
      "50/50 [==============================] - 0s 536us/step - loss: 1.6414 - accuracy: 0.6010\n",
      "Epoch 36/150\n",
      "50/50 [==============================] - 0s 516us/step - loss: 1.7095 - accuracy: 0.5221\n",
      "Epoch 37/150\n",
      "50/50 [==============================] - 0s 541us/step - loss: 1.2451 - accuracy: 0.6445\n",
      "Epoch 38/150\n",
      "50/50 [==============================] - 0s 510us/step - loss: 1.3094 - accuracy: 0.6180\n",
      "Epoch 39/150\n",
      "50/50 [==============================] - 0s 490us/step - loss: 1.2715 - accuracy: 0.6241\n",
      "Epoch 40/150\n",
      "50/50 [==============================] - 0s 517us/step - loss: 1.1915 - accuracy: 0.6289\n",
      "Epoch 41/150\n",
      "50/50 [==============================] - 0s 510us/step - loss: 1.3478 - accuracy: 0.6064\n",
      "Epoch 42/150\n",
      "50/50 [==============================] - 0s 530us/step - loss: 1.1250 - accuracy: 0.6271\n",
      "Epoch 43/150\n",
      "50/50 [==============================] - 0s 531us/step - loss: 1.0117 - accuracy: 0.6705\n",
      "Epoch 44/150\n",
      "50/50 [==============================] - 0s 501us/step - loss: 1.0512 - accuracy: 0.6744\n",
      "Epoch 45/150\n",
      "50/50 [==============================] - 0s 528us/step - loss: 1.0660 - accuracy: 0.6397\n",
      "Epoch 46/150\n",
      "50/50 [==============================] - 0s 530us/step - loss: 1.0831 - accuracy: 0.6270\n",
      "Epoch 47/150\n",
      "50/50 [==============================] - 0s 490us/step - loss: 1.1091 - accuracy: 0.6539\n",
      "Epoch 48/150\n",
      "50/50 [==============================] - 0s 510us/step - loss: 1.0156 - accuracy: 0.6461\n",
      "Epoch 49/150\n",
      "50/50 [==============================] - 0s 473us/step - loss: 0.9037 - accuracy: 0.6503\n",
      "Epoch 50/150\n",
      "50/50 [==============================] - 0s 490us/step - loss: 0.9710 - accuracy: 0.6328\n",
      "Epoch 51/150\n",
      "50/50 [==============================] - 0s 529us/step - loss: 0.9557 - accuracy: 0.6429\n",
      "Epoch 52/150\n",
      "50/50 [==============================] - 0s 510us/step - loss: 0.9851 - accuracy: 0.6739\n",
      "Epoch 53/150\n",
      "50/50 [==============================] - 0s 510us/step - loss: 0.9182 - accuracy: 0.6974\n",
      "Epoch 54/150\n",
      "50/50 [==============================] - 0s 551us/step - loss: 0.9666 - accuracy: 0.6263\n",
      "Epoch 55/150\n",
      "50/50 [==============================] - 0s 510us/step - loss: 0.9137 - accuracy: 0.6587\n",
      "Epoch 56/150\n",
      "50/50 [==============================] - 0s 494us/step - loss: 0.8415 - accuracy: 0.6794\n",
      "Epoch 57/150\n",
      "50/50 [==============================] - 0s 489us/step - loss: 1.0003 - accuracy: 0.6247\n",
      "Epoch 58/150\n",
      "50/50 [==============================] - 0s 490us/step - loss: 0.8373 - accuracy: 0.6661\n",
      "Epoch 59/150\n",
      "50/50 [==============================] - 0s 490us/step - loss: 0.8363 - accuracy: 0.6516\n",
      "Epoch 60/150\n",
      "50/50 [==============================] - 0s 489us/step - loss: 0.8408 - accuracy: 0.6630\n",
      "Epoch 61/150\n",
      "50/50 [==============================] - 0s 490us/step - loss: 0.8358 - accuracy: 0.6897\n",
      "Epoch 62/150\n",
      "50/50 [==============================] - 0s 493us/step - loss: 0.7161 - accuracy: 0.6898\n",
      "Epoch 63/150\n",
      "50/50 [==============================] - 0s 490us/step - loss: 0.8073 - accuracy: 0.6791\n",
      "Epoch 64/150\n",
      "50/50 [==============================] - 0s 489us/step - loss: 0.7118 - accuracy: 0.6990\n",
      "Epoch 65/150\n",
      "50/50 [==============================] - 0s 490us/step - loss: 0.7038 - accuracy: 0.6814\n",
      "Epoch 66/150\n",
      "50/50 [==============================] - 0s 531us/step - loss: 0.7611 - accuracy: 0.6682\n",
      "Epoch 67/150\n",
      "50/50 [==============================] - 0s 510us/step - loss: 0.7510 - accuracy: 0.6681\n",
      "Epoch 68/150\n",
      "50/50 [==============================] - 0s 532us/step - loss: 0.7146 - accuracy: 0.6778\n",
      "Epoch 69/150\n",
      "50/50 [==============================] - 0s 510us/step - loss: 0.7011 - accuracy: 0.6861\n",
      "Epoch 70/150\n",
      "50/50 [==============================] - 0s 489us/step - loss: 0.7370 - accuracy: 0.6822\n",
      "Epoch 71/150\n",
      "50/50 [==============================] - 0s 490us/step - loss: 0.6875 - accuracy: 0.6995\n",
      "Epoch 72/150\n",
      "50/50 [==============================] - 0s 469us/step - loss: 0.6779 - accuracy: 0.6846\n",
      "Epoch 73/150\n",
      "50/50 [==============================] - 0s 530us/step - loss: 0.6779 - accuracy: 0.6848\n",
      "Epoch 74/150\n",
      "50/50 [==============================] - 0s 490us/step - loss: 0.6691 - accuracy: 0.6752\n",
      "Epoch 75/150\n",
      "50/50 [==============================] - 0s 510us/step - loss: 0.6838 - accuracy: 0.6777\n",
      "Epoch 76/150\n",
      "50/50 [==============================] - 0s 510us/step - loss: 0.6491 - accuracy: 0.6997\n",
      "Epoch 77/150\n",
      "50/50 [==============================] - 0s 551us/step - loss: 0.6702 - accuracy: 0.6899\n",
      "Epoch 78/150\n",
      "50/50 [==============================] - 0s 530us/step - loss: 0.6453 - accuracy: 0.7047\n",
      "Epoch 79/150\n",
      "50/50 [==============================] - 0s 510us/step - loss: 0.6292 - accuracy: 0.6773\n",
      "Epoch 80/150\n",
      "50/50 [==============================] - 0s 490us/step - loss: 0.6602 - accuracy: 0.6584\n",
      "Epoch 81/150\n"
     ]
    },
    {
     "name": "stdout",
     "output_type": "stream",
     "text": [
      "50/50 [==============================] - 0s 510us/step - loss: 0.5993 - accuracy: 0.7173\n",
      "Epoch 82/150\n",
      "50/50 [==============================] - 0s 531us/step - loss: 0.6507 - accuracy: 0.6980\n",
      "Epoch 83/150\n",
      "50/50 [==============================] - 0s 490us/step - loss: 0.6230 - accuracy: 0.6737\n",
      "Epoch 84/150\n",
      "50/50 [==============================] - 0s 530us/step - loss: 0.6229 - accuracy: 0.7030\n",
      "Epoch 85/150\n",
      "50/50 [==============================] - 0s 531us/step - loss: 0.6413 - accuracy: 0.6773\n",
      "Epoch 86/150\n",
      "50/50 [==============================] - 0s 489us/step - loss: 0.6089 - accuracy: 0.7138\n",
      "Epoch 87/150\n",
      "50/50 [==============================] - 0s 510us/step - loss: 0.6427 - accuracy: 0.6930\n",
      "Epoch 88/150\n",
      "50/50 [==============================] - 0s 469us/step - loss: 0.6151 - accuracy: 0.6946\n",
      "Epoch 89/150\n",
      "50/50 [==============================] - 0s 498us/step - loss: 0.6666 - accuracy: 0.6834\n",
      "Epoch 90/150\n",
      "50/50 [==============================] - 0s 517us/step - loss: 0.6068 - accuracy: 0.7144\n",
      "Epoch 91/150\n",
      "50/50 [==============================] - 0s 525us/step - loss: 0.6371 - accuracy: 0.6755\n",
      "Epoch 92/150\n",
      "50/50 [==============================] - 0s 510us/step - loss: 0.6129 - accuracy: 0.7115\n",
      "Epoch 93/150\n",
      "50/50 [==============================] - 0s 489us/step - loss: 0.6232 - accuracy: 0.6931\n",
      "Epoch 94/150\n",
      "50/50 [==============================] - 0s 510us/step - loss: 0.6309 - accuracy: 0.6677\n",
      "Epoch 95/150\n",
      "50/50 [==============================] - 0s 512us/step - loss: 0.6078 - accuracy: 0.6898\n",
      "Epoch 96/150\n",
      "50/50 [==============================] - 0s 469us/step - loss: 0.6103 - accuracy: 0.6866\n",
      "Epoch 97/150\n",
      "50/50 [==============================] - 0s 510us/step - loss: 0.5688 - accuracy: 0.7312\n",
      "Epoch 98/150\n",
      "50/50 [==============================] - 0s 530us/step - loss: 0.6178 - accuracy: 0.6944\n",
      "Epoch 99/150\n",
      "50/50 [==============================] - 0s 510us/step - loss: 0.5810 - accuracy: 0.7015\n",
      "Epoch 100/150\n",
      "50/50 [==============================] - 0s 551us/step - loss: 0.6199 - accuracy: 0.6642\n",
      "Epoch 101/150\n",
      "50/50 [==============================] - 0s 510us/step - loss: 0.5962 - accuracy: 0.6981\n",
      "Epoch 102/150\n",
      "50/50 [==============================] - 0s 498us/step - loss: 0.5982 - accuracy: 0.6986\n",
      "Epoch 103/150\n",
      "50/50 [==============================] - 0s 510us/step - loss: 0.5645 - accuracy: 0.7083\n",
      "Epoch 104/150\n",
      "50/50 [==============================] - 0s 506us/step - loss: 0.6133 - accuracy: 0.6943\n",
      "Epoch 105/150\n",
      "50/50 [==============================] - 0s 495us/step - loss: 0.6190 - accuracy: 0.7011\n",
      "Epoch 106/150\n",
      "50/50 [==============================] - 0s 489us/step - loss: 0.6234 - accuracy: 0.6771\n",
      "Epoch 107/150\n",
      "50/50 [==============================] - 0s 494us/step - loss: 0.5929 - accuracy: 0.6942\n",
      "Epoch 108/150\n",
      "50/50 [==============================] - 0s 489us/step - loss: 0.5735 - accuracy: 0.7443\n",
      "Epoch 109/150\n",
      "50/50 [==============================] - 0s 490us/step - loss: 0.5869 - accuracy: 0.6843\n",
      "Epoch 110/150\n",
      "50/50 [==============================] - 0s 510us/step - loss: 0.5916 - accuracy: 0.7064\n",
      "Epoch 111/150\n",
      "50/50 [==============================] - 0s 449us/step - loss: 0.5927 - accuracy: 0.7038\n",
      "Epoch 112/150\n",
      "50/50 [==============================] - 0s 469us/step - loss: 0.6220 - accuracy: 0.6750\n",
      "Epoch 113/150\n",
      "50/50 [==============================] - 0s 492us/step - loss: 0.6145 - accuracy: 0.6892\n",
      "Epoch 114/150\n",
      "50/50 [==============================] - 0s 484us/step - loss: 0.5954 - accuracy: 0.6994\n",
      "Epoch 115/150\n",
      "50/50 [==============================] - 0s 481us/step - loss: 0.6003 - accuracy: 0.7058\n",
      "Epoch 116/150\n",
      "50/50 [==============================] - 0s 469us/step - loss: 0.5837 - accuracy: 0.6925\n",
      "Epoch 117/150\n",
      "50/50 [==============================] - 0s 503us/step - loss: 0.6417 - accuracy: 0.6703\n",
      "Epoch 118/150\n",
      "50/50 [==============================] - 0s 510us/step - loss: 0.6279 - accuracy: 0.6683\n",
      "Epoch 119/150\n",
      "50/50 [==============================] - 0s 510us/step - loss: 0.5997 - accuracy: 0.7028\n",
      "Epoch 120/150\n",
      "50/50 [==============================] - 0s 491us/step - loss: 0.5861 - accuracy: 0.7187\n",
      "Epoch 121/150\n",
      "50/50 [==============================] - 0s 510us/step - loss: 0.5742 - accuracy: 0.7516\n",
      "Epoch 122/150\n",
      "50/50 [==============================] - 0s 551us/step - loss: 0.6409 - accuracy: 0.6872\n",
      "Epoch 123/150\n",
      "50/50 [==============================] - 0s 510us/step - loss: 0.6089 - accuracy: 0.6745\n",
      "Epoch 124/150\n",
      "50/50 [==============================] - 0s 505us/step - loss: 0.5828 - accuracy: 0.7034\n",
      "Epoch 125/150\n",
      "50/50 [==============================] - 0s 510us/step - loss: 0.5980 - accuracy: 0.6921\n",
      "Epoch 126/150\n",
      "50/50 [==============================] - 0s 512us/step - loss: 0.5938 - accuracy: 0.7035\n",
      "Epoch 127/150\n",
      "50/50 [==============================] - 0s 500us/step - loss: 0.6093 - accuracy: 0.6988\n",
      "Epoch 128/150\n",
      "50/50 [==============================] - 0s 510us/step - loss: 0.5590 - accuracy: 0.7215\n",
      "Epoch 129/150\n",
      "50/50 [==============================] - 0s 489us/step - loss: 0.5686 - accuracy: 0.7478\n",
      "Epoch 130/150\n",
      "50/50 [==============================] - 0s 479us/step - loss: 0.6114 - accuracy: 0.6726\n",
      "Epoch 131/150\n",
      "50/50 [==============================] - 0s 482us/step - loss: 0.5733 - accuracy: 0.7127\n",
      "Epoch 132/150\n",
      "50/50 [==============================] - 0s 511us/step - loss: 0.6003 - accuracy: 0.7017\n",
      "Epoch 133/150\n",
      "50/50 [==============================] - 0s 490us/step - loss: 0.6082 - accuracy: 0.7021\n",
      "Epoch 134/150\n",
      "50/50 [==============================] - 0s 510us/step - loss: 0.5988 - accuracy: 0.7182\n",
      "Epoch 135/150\n",
      "50/50 [==============================] - 0s 490us/step - loss: 0.5688 - accuracy: 0.7355\n",
      "Epoch 136/150\n",
      "50/50 [==============================] - 0s 490us/step - loss: 0.5927 - accuracy: 0.7076\n",
      "Epoch 137/150\n",
      "50/50 [==============================] - 0s 510us/step - loss: 0.5871 - accuracy: 0.6920\n",
      "Epoch 138/150\n",
      "50/50 [==============================] - 0s 496us/step - loss: 0.5787 - accuracy: 0.7061\n",
      "Epoch 139/150\n",
      "50/50 [==============================] - 0s 530us/step - loss: 0.6079 - accuracy: 0.6594\n",
      "Epoch 140/150\n",
      "50/50 [==============================] - 0s 510us/step - loss: 0.5912 - accuracy: 0.7191\n",
      "Epoch 141/150\n",
      "50/50 [==============================] - 0s 530us/step - loss: 0.5674 - accuracy: 0.7247\n",
      "Epoch 142/150\n",
      "50/50 [==============================] - 0s 510us/step - loss: 0.5936 - accuracy: 0.7166\n",
      "Epoch 143/150\n",
      "50/50 [==============================] - 0s 510us/step - loss: 0.6027 - accuracy: 0.6875\n",
      "Epoch 144/150\n",
      "50/50 [==============================] - 0s 500us/step - loss: 0.6163 - accuracy: 0.6697\n",
      "Epoch 145/150\n",
      "50/50 [==============================] - 0s 510us/step - loss: 0.6061 - accuracy: 0.6945\n",
      "Epoch 146/150\n",
      "50/50 [==============================] - 0s 510us/step - loss: 0.6090 - accuracy: 0.6704\n",
      "Epoch 147/150\n",
      "50/50 [==============================] - 0s 510us/step - loss: 0.5966 - accuracy: 0.7106\n",
      "Epoch 148/150\n",
      "50/50 [==============================] - 0s 489us/step - loss: 0.6234 - accuracy: 0.6694\n",
      "Epoch 149/150\n",
      "50/50 [==============================] - 0s 490us/step - loss: 0.6117 - accuracy: 0.6995\n",
      "Epoch 150/150\n",
      "50/50 [==============================] - 0s 530us/step - loss: 0.6014 - accuracy: 0.6981\n"
     ]
    },
    {
     "data": {
      "text/plain": [
       "<keras.callbacks.History at 0x1b84fac00a0>"
      ]
     },
     "execution_count": 84,
     "metadata": {},
     "output_type": "execute_result"
    }
   ],
   "source": [
    "4\n",
    "...\n",
    "# fit the keras model on the dataset\n",
    "model.fit(X, y, epochs=150, batch_size=10)"
   ]
  },
  {
   "cell_type": "code",
   "execution_count": 85,
   "id": "arranged-superior",
   "metadata": {},
   "outputs": [
    {
     "name": "stdout",
     "output_type": "stream",
     "text": [
      "Model: \"sequential_2\"\n",
      "_________________________________________________________________\n",
      "Layer (type)                 Output Shape              Param #   \n",
      "=================================================================\n",
      "dense_2 (Dense)              (10, 1)                   9         \n",
      "=================================================================\n",
      "Total params: 9\n",
      "Trainable params: 9\n",
      "Non-trainable params: 0\n",
      "_________________________________________________________________\n",
      "None\n"
     ]
    }
   ],
   "source": [
    "print(model.summary())"
   ]
  },
  {
   "cell_type": "code",
   "execution_count": 86,
   "id": "lasting-karaoke",
   "metadata": {},
   "outputs": [
    {
     "name": "stdout",
     "output_type": "stream",
     "text": [
      "16/16 [==============================] - 0s 533us/step - loss: 0.5927 - accuracy: 0.7040\n",
      "Accuracy: 70.40\n"
     ]
    }
   ],
   "source": [
    "4\n",
    "...\n",
    "# evaluate the keras model\n",
    "_, accuracy = model.evaluate(X, y)\n",
    "print('Accuracy: %.2f' % (accuracy*100))"
   ]
  },
  {
   "cell_type": "code",
   "execution_count": 87,
   "id": "tested-hudson",
   "metadata": {},
   "outputs": [
    {
     "name": "stdout",
     "output_type": "stream",
     "text": [
      "{'name': 'dense_2', 'trainable': True, 'dtype': 'float32', 'units': 1, 'activation': 'sigmoid', 'use_bias': True, 'kernel_initializer': {'class_name': 'GlorotUniform', 'config': {'seed': None}}, 'bias_initializer': {'class_name': 'Zeros', 'config': {}}, 'kernel_regularizer': None, 'bias_regularizer': None, 'activity_regularizer': None, 'kernel_constraint': None, 'bias_constraint': None}\n",
      "[array([[ 0.1317913 ],\n",
      "       [ 0.01293169],\n",
      "       [-0.02870766],\n",
      "       [-0.00874176],\n",
      "       [ 0.00390543],\n",
      "       [ 0.02216847],\n",
      "       [ 0.00335452],\n",
      "       [-0.02210104]], dtype=float32), array([-1.0875537], dtype=float32)]\n"
     ]
    }
   ],
   "source": [
    "for layer in model.layers: \n",
    "    print(layer.get_config())\n",
    "    print(layer.get_weights())\n",
    "    \n",
    "    w = layer.get_weights()"
   ]
  },
  {
   "cell_type": "code",
   "execution_count": 88,
   "id": "directed-census",
   "metadata": {},
   "outputs": [],
   "source": [
    "weights = w[0]\n",
    "bias = w[1]"
   ]
  },
  {
   "cell_type": "code",
   "execution_count": 89,
   "id": "intensive-princeton",
   "metadata": {},
   "outputs": [
    {
     "name": "stdout",
     "output_type": "stream",
     "text": [
      "[  2 117  90  19  71  25  31  21]\n"
     ]
    }
   ],
   "source": [
    "print(X1[0])"
   ]
  },
  {
   "cell_type": "code",
   "execution_count": 90,
   "id": "statutory-response",
   "metadata": {},
   "outputs": [],
   "source": [
    "predictions = model.predict(X1)\n",
    "# predictions"
   ]
  },
  {
   "cell_type": "code",
   "execution_count": 91,
   "id": "sharp-alliance",
   "metadata": {},
   "outputs": [],
   "source": [
    "# for i in range(len(predictions)):\n",
    "#     if(predictions[i]>=.5):\n",
    "#         print(i)"
   ]
  },
  {
   "cell_type": "code",
   "execution_count": 92,
   "id": "damaged-damages",
   "metadata": {},
   "outputs": [],
   "source": [
    "\n",
    "rounded= [round(x[0]) for x in predictions]\n",
    "# rounded"
   ]
  },
  {
   "cell_type": "code",
   "execution_count": 93,
   "id": "altered-korea",
   "metadata": {},
   "outputs": [
    {
     "data": {
      "text/plain": [
       "0.7201492537313433"
      ]
     },
     "execution_count": 93,
     "metadata": {},
     "output_type": "execute_result"
    }
   ],
   "source": [
    "from sklearn.metrics import accuracy_score\n",
    "\n",
    "accuracy_score(y1, rounded)"
   ]
  },
  {
   "cell_type": "code",
   "execution_count": 94,
   "id": "olive-dover",
   "metadata": {},
   "outputs": [
    {
     "name": "stdout",
     "output_type": "stream",
     "text": [
      "              precision    recall  f1-score   support\n",
      "\n",
      "           0       0.73      0.93      0.82       182\n",
      "           1       0.65      0.28      0.39        86\n",
      "\n",
      "    accuracy                           0.72       268\n",
      "   macro avg       0.69      0.60      0.60       268\n",
      "weighted avg       0.70      0.72      0.68       268\n",
      "\n"
     ]
    }
   ],
   "source": [
    "from sklearn.metrics import classification_report\n",
    "print(classification_report(y1,rounded))"
   ]
  },
  {
   "cell_type": "code",
   "execution_count": 95,
   "id": "advance-jacksonville",
   "metadata": {},
   "outputs": [
    {
     "name": "stdout",
     "output_type": "stream",
     "text": [
      "[0, 0, 0, 0, 0, 0, 0, 0, 0, 0, 0, 0, 0, 0, 0, 0, 0, 0, 0, 0, 0, 0, 1, 0, 0, 0, 0, 0, 0, 0, 0, 0, 0, 1, 0, 1, 0, 0, 0, 0, 0, 0, 0, 0, 0, 1, 1, 0, 0, 0, 0, 0, 0, 0, 0, 0, 0, 0, 0, 0, 0, 1, 0, 0, 0, 0, 0, 0, 0, 0, 0, 0, 0, 0, 0, 0, 1, 0, 0, 0, 0, 0, 0, 0, 1, 0, 0, 0, 0, 0, 0, 0, 0, 0, 0, 1, 0, 0, 0, 0, 0, 1, 0, 0, 1, 0, 1, 0, 0, 0, 0, 1, 1, 0, 1, 0, 0, 0, 0, 1, 0, 0, 0, 0, 0, 0, 0, 0, 0, 0, 0, 0, 0, 0, 0, 0, 0, 0, 0, 0, 0, 0, 0, 1, 0, 1, 0, 1, 0, 0, 0, 0, 0, 0, 0, 1, 0, 0, 0, 0, 0, 0, 0, 0, 0, 0, 0, 0, 0, 0, 1, 0, 0, 0, 0, 1, 0, 0, 0, 0, 0, 0, 0, 0, 0, 0, 0, 0, 0, 0, 0, 0, 0, 0, 0, 1, 0, 1, 0, 0, 0, 0, 0, 1, 0, 0, 1, 1, 0, 0, 1, 0, 1, 1, 0, 1, 1, 0, 0, 0, 0, 0, 0, 0, 0, 0, 0, 0, 0, 0, 0, 0, 0, 0, 0, 0, 0, 0, 0, 0, 1, 0, 0, 0, 1, 0, 0, 0, 1, 0, 0, 0, 0, 1, 0, 0, 0, 0, 0, 0, 0, 1, 0, 0, 0, 0, 0, 0]\n"
     ]
    }
   ],
   "source": [
    "print(rounded)"
   ]
  },
  {
   "cell_type": "code",
   "execution_count": 96,
   "id": "universal-vanilla",
   "metadata": {},
   "outputs": [
    {
     "name": "stdout",
     "output_type": "stream",
     "text": [
      "[0 0 1 0 0 0 1 0 0 0]\n"
     ]
    }
   ],
   "source": [
    "print(y1[:10])"
   ]
  },
  {
   "cell_type": "code",
   "execution_count": 97,
   "id": "interested-penguin",
   "metadata": {},
   "outputs": [
    {
     "data": {
      "text/plain": [
       "array([[ 131., 1000.],\n",
       "       [  12., 1000.],\n",
       "       [ -28., 1000.],\n",
       "       [  -8., 1000.],\n",
       "       [   3., 1000.],\n",
       "       [  22., 1000.],\n",
       "       [   3., 1000.],\n",
       "       [ -22., 1000.]])"
      ]
     },
     "execution_count": 97,
     "metadata": {},
     "output_type": "execute_result"
    }
   ],
   "source": [
    "w = np.zeros((8,2))\n",
    "for i in range(weights.shape[0]):\n",
    "    w[i][0] = int(weights[i][0]*1000)\n",
    "    w[i][1] = 1000\n",
    "w\n"
   ]
  },
  {
   "cell_type": "code",
   "execution_count": 98,
   "id": "marked-treatment",
   "metadata": {},
   "outputs": [],
   "source": [
    "b = []\n",
    "b.append(int(bias*1000))\n",
    "b.append(1000)"
   ]
  },
  {
   "cell_type": "code",
   "execution_count": 99,
   "id": "designed-seventh",
   "metadata": {},
   "outputs": [],
   "source": [
    "def compute_lcm(x, y):\n",
    "   # choose the greater number\n",
    "    if (x > y):\n",
    "        greater = x\n",
    "    else:\n",
    "        greater = y\n",
    "    while(True):\n",
    "        if((greater % x == 0) and (greater % y == 0)):\n",
    "            lcm = greater\n",
    "            break\n",
    "        greater += 1\n",
    "    return lcm"
   ]
  },
  {
   "cell_type": "code",
   "execution_count": 100,
   "id": "wired-words",
   "metadata": {},
   "outputs": [],
   "source": [
    "def addition(a,b,c,d):\n",
    "    den = compute_lcm(b,d)\n",
    "#     den = b*d\n",
    "    num = ((den/b)*a) + ((den/d)*c)\n",
    "#     print(num,den)\n",
    "    return float(num),float(den)\n",
    "        "
   ]
  },
  {
   "cell_type": "code",
   "execution_count": 101,
   "id": "revised-legislation",
   "metadata": {},
   "outputs": [],
   "source": [
    "def IXWB(inputs,w,b):\n",
    "    num=0\n",
    "    den=0\n",
    "    out = np.zeros((inputs.shape[0],1))\n",
    "    for i in range(inputs.shape[0]):\n",
    "#     for i in range(10):\n",
    "#         print(inputs[i][0],w)\n",
    "        for j in range(inputs.shape[1]):\n",
    "            num = num + inputs[i][j]*w[j][0]\n",
    "            den = w[0][1]\n",
    "        num,den = addition(num,den,b[0],b[1])\n",
    "        out[i][0] = num\n",
    "#         out[i][1] = den\n",
    "        num =0\n",
    "        den =0\n",
    "    return out"
   ]
  },
  {
   "cell_type": "code",
   "execution_count": 102,
   "id": "purple-jimmy",
   "metadata": {},
   "outputs": [
    {
     "name": "stdout",
     "output_type": "stream",
     "text": [
      "[  2 117  90  19  71  25  31  21]\n",
      "-1087\n"
     ]
    }
   ],
   "source": [
    "print(X1[0])\n",
    "print(b[0])"
   ]
  },
  {
   "cell_type": "code",
   "execution_count": 103,
   "id": "elementary-journal",
   "metadata": {},
   "outputs": [],
   "source": [
    "test = IXWB(X1,w,b)\n",
    "# print(test)"
   ]
  },
  {
   "cell_type": "code",
   "execution_count": 104,
   "id": "demonstrated-target",
   "metadata": {},
   "outputs": [],
   "source": [
    "# for i in range(len(test)):\n",
    "#     if(test[i][0]>0):\n",
    "#         print(i)"
   ]
  },
  {
   "cell_type": "code",
   "execution_count": 105,
   "id": "passing-opinion",
   "metadata": {},
   "outputs": [],
   "source": [
    "def sigmoidfrac(x):\n",
    "    if(x>=0):\n",
    "        return 1\n",
    "    else:\n",
    "        return 0"
   ]
  },
  {
   "cell_type": "code",
   "execution_count": 106,
   "id": "ignored-template",
   "metadata": {},
   "outputs": [],
   "source": [
    "out = []\n",
    "for i in range(test.shape[0]):\n",
    "    out.append(sigmoidfrac(test[i][0]))\n",
    "# out"
   ]
  },
  {
   "cell_type": "code",
   "execution_count": 107,
   "id": "guilty-simpson",
   "metadata": {},
   "outputs": [
    {
     "data": {
      "text/plain": [
       "0.7126865671641791"
      ]
     },
     "execution_count": 107,
     "metadata": {},
     "output_type": "execute_result"
    }
   ],
   "source": [
    "from sklearn.metrics import accuracy_score\n",
    "accuracy_score(y1, out)"
   ]
  },
  {
   "cell_type": "code",
   "execution_count": 108,
   "id": "horizontal-decade",
   "metadata": {},
   "outputs": [
    {
     "data": {
      "text/plain": [
       "array([[172,  10],\n",
       "       [ 67,  19]], dtype=int64)"
      ]
     },
     "execution_count": 108,
     "metadata": {},
     "output_type": "execute_result"
    }
   ],
   "source": [
    "\n",
    "from sklearn.metrics import confusion_matrix\n",
    "from sklearn.metrics import classification_report\n",
    "confusion_matrix(y1,out)"
   ]
  },
  {
   "cell_type": "code",
   "execution_count": 109,
   "id": "brazilian-yorkshire",
   "metadata": {},
   "outputs": [
    {
     "data": {
      "text/plain": [
       "<AxesSubplot:>"
      ]
     },
     "execution_count": 109,
     "metadata": {},
     "output_type": "execute_result"
    },
    {
     "data": {
      "image/png": "[encoded data removed]",
      "text/plain": [
       "<Figure size 432x288 with 2 Axes>"
      ]
     },
     "metadata": {},
     "output_type": "display_data"
    }
   ],
   "source": [
    "from sklearn.metrics import confusion_matrix\n",
    "from sklearn.metrics import classification_report\n",
    "import seaborn as sns; sns.set_theme()\n",
    "cf_matrix = confusion_matrix(y1,out)\n",
    "sns.heatmap(cf_matrix/np.sum(cf_matrix), annot=True, \n",
    "            fmt='.2%', cmap='Blues')"
   ]
  },
  {
   "cell_type": "code",
   "execution_count": 110,
   "id": "dependent-graphic",
   "metadata": {},
   "outputs": [],
   "source": [
    "# weight = new_weight.tolist()"
   ]
  },
  {
   "cell_type": "code",
   "execution_count": 111,
   "id": "capable-grass",
   "metadata": {},
   "outputs": [
    {
     "name": "stdout",
     "output_type": "stream",
     "text": [
      "[[ 0.1317913 ]\n",
      " [ 0.01293169]\n",
      " [-0.02870766]\n",
      " [-0.00874176]\n",
      " [ 0.00390543]\n",
      " [ 0.02216847]\n",
      " [ 0.00335452]\n",
      " [-0.02210104]]\n",
      "[-1.0875537]\n"
     ]
    }
   ],
   "source": [
    "print(weights)\n",
    "print(bias)"
   ]
  },
  {
   "cell_type": "code",
   "execution_count": 112,
   "id": "ordinary-optimum",
   "metadata": {},
   "outputs": [],
   "source": [
    "# # def sigmoid_tx(acc,pk,X_input,weight,bias,cont_address,abi):\n",
    "# contract = web3.eth.contract(address=cont_address,abi=abi)\n",
    "# # getting IXWB\n",
    "# nonce = web3.eth.getTransactionCount(account1)\n",
    "# print(type(X_input),type(weight),type(bias))\n",
    "# tx_IXWB = contract.functions.compute_IXWB(X_input,weight,bias\n",
    "#     ).buildTransaction({\n",
    "#     'gas': 100000,\n",
    "#     'gasPrice': web3.toWei('1', 'gwei'),\n",
    "#     'from': account1,\n",
    "#     'nonce': nonce\n",
    "#     }) \n",
    "# signed_txn = web3.eth.account.signTransaction(tx_IXWB, private_key=private_key1)\n",
    "# start_time = time.time()\n",
    "# tx_hash = web3.eth.sendRawTransaction(signed_txn.rawTransaction)\n",
    "# tx_receipt = web3.eth.waitForTransactionReceipt(tx_hash)\n",
    "# end_time = time.time()\n",
    "# print(end_time -start_time)\n",
    "# out_num,out_den = contract.functions.add_print().call()\n",
    "\n",
    "# # getting sigmoid\n",
    "# nonce= web3.eth.getTransactionCount(account1)\n",
    "# tx_sigmoid = contract.functions.compute_sigmoid(\n",
    "#     out_num\n",
    "#      ).buildTransaction({\n",
    "#     'gas': 70000,\n",
    "#     'gasPrice': web3.toWei('1', 'gwei'),\n",
    "#     'from': account1,\n",
    "#     'nonce': nonce\n",
    "#     }) \n",
    "# signed_txn = web3.eth.account.signTransaction(tx_sigmoid, private_key=private_key1)\n",
    "# start_time = time.time()\n",
    "# tx_hash = web3.eth.sendRawTransaction(signed_txn.rawTransaction)\n",
    "# tx_receipt = web3.eth.waitForTransactionReceipt(tx_hash)\n",
    "# end_time = time.time()\n",
    "# print(end_time -start_time)\n",
    "# pred = contract.functions.predict_print().call()\n",
    "# #     return pred"
   ]
  },
  {
   "cell_type": "code",
   "execution_count": 113,
   "id": "brazilian-teens",
   "metadata": {},
   "outputs": [
    {
     "name": "stdout",
     "output_type": "stream",
     "text": [
      "[[  2 117  90 ...  25  31  21]\n",
      " [  3  84  72 ...  37  26  28]\n",
      " [  6   0  68 ...  39  72  41]\n",
      " ...\n",
      " [  5 121  72 ...  26  24  30]\n",
      " [  1 126  60 ...  30  34  47]\n",
      " [  1  93  70 ...  30  31  23]] [131, 12, -28, -8, 3, 22, 3, -22] [-1087, 1000]\n"
     ]
    }
   ],
   "source": [
    "# print (X1, w,b,)\n",
    "# b = b.tolist()\n",
    "nw  = w[:,0].astype(int)\n",
    "nw = nw.tolist()\n",
    "print (X1, nw,b)"
   ]
  },
  {
   "cell_type": "code",
   "execution_count": null,
   "id": "exposed-score",
   "metadata": {},
   "outputs": [
    {
     "name": "stdout",
     "output_type": "stream",
     "text": [
      "0\n",
      "1\n",
      "2\n",
      "3\n",
      "4\n",
      "5\n",
      "6\n",
      "7\n",
      "8\n",
      "9\n",
      "10\n",
      "11\n",
      "12\n",
      "13\n",
      "14\n",
      "15\n",
      "16\n",
      "17\n",
      "18\n",
      "19\n",
      "20\n",
      "21\n",
      "22\n",
      "23\n",
      "24\n",
      "25\n",
      "26\n",
      "27\n",
      "28\n",
      "29\n",
      "30\n",
      "31\n",
      "32\n",
      "33\n",
      "34\n",
      "35\n",
      "36\n",
      "37\n",
      "38\n",
      "39\n",
      "40\n",
      "41\n",
      "42\n",
      "43\n",
      "44\n",
      "45\n",
      "46\n",
      "47\n",
      "48\n",
      "49\n",
      "50\n",
      "51\n",
      "52\n",
      "53\n",
      "54\n",
      "55\n",
      "56\n",
      "57\n",
      "58\n",
      "59\n",
      "60\n",
      "61\n",
      "62\n",
      "63\n",
      "64\n",
      "65\n",
      "66\n",
      "67\n",
      "68\n",
      "69\n",
      "70\n",
      "71\n",
      "72\n",
      "73\n",
      "74\n",
      "75\n",
      "76\n",
      "77\n",
      "78\n",
      "79\n",
      "80\n",
      "81\n",
      "82\n",
      "83\n",
      "84\n",
      "85\n",
      "86\n",
      "87\n",
      "88\n",
      "89\n",
      "90\n",
      "91\n",
      "92\n",
      "93\n",
      "94\n",
      "95\n",
      "96\n",
      "97\n",
      "98\n",
      "99\n",
      "100\n",
      "101\n",
      "102\n",
      "103\n",
      "104\n",
      "105\n",
      "106\n",
      "107\n",
      "108\n",
      "109\n",
      "110\n",
      "111\n",
      "112\n",
      "113\n",
      "114\n",
      "115\n",
      "116\n",
      "117\n",
      "118\n",
      "119\n",
      "120\n",
      "121\n",
      "122\n",
      "123\n",
      "124\n",
      "125\n",
      "126\n",
      "127\n",
      "128\n",
      "129\n",
      "130\n",
      "131\n",
      "132\n",
      "133\n",
      "134\n",
      "135\n",
      "136\n",
      "137\n",
      "138\n",
      "139\n",
      "140\n",
      "141\n",
      "142\n",
      "143\n",
      "144\n",
      "145\n",
      "146\n",
      "147\n",
      "148\n",
      "149\n",
      "150\n",
      "151\n",
      "152\n",
      "153\n",
      "154\n",
      "155\n",
      "156\n",
      "157\n",
      "158\n",
      "159\n",
      "160\n",
      "161\n",
      "162\n",
      "163\n",
      "164\n",
      "165\n",
      "166\n",
      "167\n",
      "168\n",
      "169\n",
      "170\n",
      "171\n",
      "172\n",
      "173\n",
      "174\n",
      "175\n",
      "176\n",
      "177\n",
      "178\n",
      "179\n",
      "180\n",
      "181\n",
      "182\n",
      "183\n",
      "184\n",
      "185\n",
      "186\n",
      "187\n",
      "188\n",
      "189\n",
      "190\n",
      "191\n",
      "192\n",
      "193\n",
      "194\n",
      "195\n",
      "196\n",
      "197\n",
      "198\n",
      "199\n",
      "200\n",
      "201\n",
      "202\n",
      "203\n",
      "204\n",
      "205\n",
      "206\n",
      "207\n",
      "208\n",
      "209\n",
      "210\n",
      "211\n",
      "212\n",
      "213\n",
      "214\n",
      "215\n",
      "216\n",
      "217\n",
      "218\n",
      "219\n",
      "220\n",
      "221\n",
      "222\n",
      "223\n",
      "224\n",
      "225\n",
      "226\n",
      "227\n",
      "228\n",
      "229\n",
      "230\n",
      "231\n",
      "232\n",
      "233\n",
      "234\n",
      "235\n",
      "236\n",
      "237\n",
      "238\n",
      "239\n",
      "240\n",
      "241\n",
      "242\n",
      "243\n",
      "244\n",
      "245\n",
      "246\n",
      "247\n",
      "248\n",
      "249\n",
      "250\n",
      "251\n",
      "252\n",
      "253\n",
      "254\n",
      "255\n",
      "256\n",
      "257\n",
      "258\n",
      "259\n",
      "260\n",
      "261\n",
      "262\n",
      "263\n",
      "264\n",
      "265\n",
      "266\n"
     ]
    }
   ],
   "source": [
    "pred =[]\n",
    "ropsten_IXWB_time=[]\n",
    "ropsten_sigmoid_time=[]\n",
    "ropsten_IXWB_gasuse=[]\n",
    "ropsten_sigmoid_gasuse=[]\n",
    "\n",
    "for i in range(X1.shape[0]):\n",
    "    print(i)\n",
    "    inputs = X1[i].tolist()\n",
    "#     pred.append(sigmoid_tx(account1, private_key1,inputs,weight,bias,cont_address,abi))\n",
    "    contract = web3.eth.contract(address=cont_address,abi=abi)\n",
    "#     print(inputs,nw,b)\n",
    "    nonce = web3.eth.getTransactionCount(account1)\n",
    "#     print(type(inputs),type(nw),type(b))\n",
    "    tx_IXWB = contract.functions.compute_IXWB(\n",
    "        inputs,nw,b\n",
    "        ).buildTransaction({\n",
    "        'gas': 1000000,\n",
    "        'gasPrice': web3.toWei('20', 'gwei'),\n",
    "        'from': account1,\n",
    "        'nonce': nonce\n",
    "        }) \n",
    "    signed_txn = web3.eth.account.signTransaction(tx_IXWB, private_key=private_key1)\n",
    "    start_time = time.time()\n",
    "    tx_hash = web3.eth.sendRawTransaction(signed_txn.rawTransaction)\n",
    "    tx_receipt = web3.eth.waitForTransactionReceipt(tx_hash)\n",
    "    end_time = time.time()\n",
    "    ropsten_IXWB_time.append(end_time -start_time)\n",
    "    ropsten_IXWB_gasuse.append(tx_receipt.gasUsed)\n",
    "    out_num,out_den = contract.functions.add_print().call()\n",
    "\n",
    "    # getting sigmoid\n",
    "    nonce= web3.eth.getTransactionCount(account2)\n",
    "    tx_sigmoid = contract.functions.compute_sigmoid(\n",
    "        out_num\n",
    "         ).buildTransaction({\n",
    "        'gas': 1000000,\n",
    "        'gasPrice': web3.toWei('20', 'gwei'),\n",
    "        'from': account2,\n",
    "        'nonce': nonce\n",
    "        }) \n",
    "    signed_txn = web3.eth.account.signTransaction(tx_sigmoid, private_key=private_key2)\n",
    "    start_time = time.time()\n",
    "    tx_hash = web3.eth.sendRawTransaction(signed_txn.rawTransaction)\n",
    "    tx_receipt = web3.eth.waitForTransactionReceipt(tx_hash)\n",
    "    end_time = time.time()\n",
    "    ropsten_sigmoid_time.append(end_time -start_time)\n",
    "    ropsten_sigmoid_gasuse.append(tx_receipt.gasUsed)\n",
    "    pred.append(contract.functions.predict_print().call())\n",
    "    inputs.clear()\n",
    "   "
   ]
  },
  {
   "cell_type": "code",
   "execution_count": null,
   "id": "complete-unknown",
   "metadata": {},
   "outputs": [],
   "source": [
    "print(pred)"
   ]
  },
  {
   "cell_type": "code",
   "execution_count": null,
   "id": "decent-dynamics",
   "metadata": {},
   "outputs": [],
   "source": [
    "print(accuracy_score(y1, pred))"
   ]
  },
  {
   "cell_type": "code",
   "execution_count": null,
   "id": "medium-gates",
   "metadata": {},
   "outputs": [],
   "source": [
    "# print(sigmoid_time)\n",
    "# print(sigmoid_gasuse)"
   ]
  },
  {
   "cell_type": "code",
   "execution_count": null,
   "id": "twelve-greeting",
   "metadata": {},
   "outputs": [],
   "source": [
    "import pandas as pd\n",
    "df = pd.DataFrame(sigmoid_time)\n",
    "df.to_csv(\"testfile\",index=False)\n"
   ]
  },
  {
   "cell_type": "code",
   "execution_count": null,
   "id": "great-engineering",
   "metadata": {},
   "outputs": [],
   "source": [
    "a = pd.DataFrame(ropsten_sigmoid_time)\n",
    "a.to_csv(\"sigmoid_time_ropsten.csv\",index=False)\n",
    "a = pd.DataFrame(ropsten_sigmoid_gasuse)\n",
    "a.to_csv(\"sigmoid_gasuse_ropsten.csv\",index=False)\n",
    "a = pd.DataFrame(ropsten_IXWB_time)\n",
    "a.to_csv(\"IXWB_time_ropsten.csv\",index=False)\n",
    "a = pd.DataFrame(ropsten_IXWB_gasuse)\n",
    "a.to_csv(\"IXWB_gasuse_ropsten.csv\",index=False)"
   ]
  },
  {
   "cell_type": "code",
   "execution_count": null,
   "id": "floating-lebanon",
   "metadata": {},
   "outputs": [],
   "source": [
    "from sklearn.metrics import confusion_matrix\n",
    "from sklearn.metrics import classification_report\n",
    "cf_matrix = confusion_matrix(y1,pred)"
   ]
  },
  {
   "cell_type": "code",
   "execution_count": null,
   "id": "simple-carry",
   "metadata": {},
   "outputs": [],
   "source": [
    "import seaborn as sns\n",
    "sns.heatmap(cf_matrix, annot=True)"
   ]
  },
  {
   "cell_type": "code",
   "execution_count": null,
   "id": "sustainable-month",
   "metadata": {},
   "outputs": [],
   "source": [
    "sns.heatmap(cf_matrix/np.sum(cf_matrix), annot=True, \n",
    "            fmt='.2%', cmap='Blues')"
   ]
  },
  {
   "cell_type": "code",
   "execution_count": null,
   "id": "broken-inventory",
   "metadata": {},
   "outputs": [],
   "source": [
    "print(classification_report(y1,pred))"
   ]
  },
  {
   "cell_type": "code",
   "execution_count": null,
   "id": "fossil-involvement",
   "metadata": {},
   "outputs": [],
   "source": []
  }
 ],
 "metadata": {
  "kernelspec": {
   "display_name": "Python 3",
   "language": "python",
   "name": "python3"
  },
  "language_info": {
   "codemirror_mode": {
    "name": "ipython",
    "version": 3
   },
   "file_extension": ".py",
   "mimetype": "text/x-python",
   "name": "python",
   "nbconvert_exporter": "python",
   "pygments_lexer": "ipython3",
   "version": "3.9.2"
  }
 },
 "nbformat": 4,
 "nbformat_minor": 5
}
