{
 "cells": [
  {
   "cell_type": "code",
   "execution_count": 1,
   "id": "earlier-school",
   "metadata": {},
   "outputs": [],
   "source": [
    "import numpy as np\n",
    "a=np.random.randn(3,3)\n",
    "\n",
    "b=np.random.randn(3,1)\n",
    "\n",
    "c = a*b"
   ]
  },
  {
   "cell_type": "code",
   "execution_count": 2,
   "id": "coated-things",
   "metadata": {},
   "outputs": [
    {
     "name": "stdout",
     "output_type": "stream",
     "text": [
      "[[ 0.80339414 -0.6258041   0.01580566]\n",
      " [-0.02853965  0.04055798  0.06864494]\n",
      " [ 0.53384107  0.13603618 -0.32073779]]\n"
     ]
    }
   ],
   "source": [
    "print(c)"
   ]
  },
  {
   "cell_type": "code",
   "execution_count": 11,
   "id": "great-provincial",
   "metadata": {},
   "outputs": [],
   "source": [
    "a=np.random.randn(4,3)\n",
    "b=np.random.randn(4,1)"
   ]
  },
  {
   "cell_type": "code",
   "execution_count": 12,
   "id": "russian-thomson",
   "metadata": {},
   "outputs": [],
   "source": [
    "c = np.zeros((4,4))\n",
    "for i in range(3):\n",
    "    for j in range(4):\n",
    "        c[i][j] = a[j][i] + b[j]"
   ]
  },
  {
   "cell_type": "code",
   "execution_count": 13,
   "id": "amber-cheat",
   "metadata": {},
   "outputs": [
    {
     "data": {
      "text/plain": [
       "array([[-1.83585031, -2.85137521,  0.81443873,  0.96257434],\n",
       "       [ 0.18276876, -3.42193046, -0.24600764,  0.12958639],\n",
       "       [-1.26235865, -0.32244609,  1.40873991,  0.78985729],\n",
       "       [ 0.        ,  0.        ,  0.        ,  0.        ]])"
      ]
     },
     "execution_count": 13,
     "metadata": {},
     "output_type": "execute_result"
    }
   ],
   "source": [
    "c"
   ]
  },
  {
   "cell_type": "code",
   "execution_count": 17,
   "id": "incorporated-morgan",
   "metadata": {},
   "outputs": [
    {
     "data": {
      "text/plain": [
       "array([[-1.83585031, -2.85137521,  0.81443873,  0.96257434],\n",
       "       [ 0.18276876, -3.42193046, -0.24600764,  0.12958639],\n",
       "       [-1.26235865, -0.32244609,  1.40873991,  0.78985729]])"
      ]
     },
     "execution_count": 17,
     "metadata": {},
     "output_type": "execute_result"
    }
   ],
   "source": [
    "\n",
    "\n",
    "c = a.T + b.T\n",
    "c"
   ]
  },
  {
   "cell_type": "code",
   "execution_count": null,
   "id": "breathing-engineer",
   "metadata": {},
   "outputs": [],
   "source": []
  }
 ],
 "metadata": {
  "kernelspec": {
   "display_name": "Python 3",
   "language": "python",
   "name": "python3"
  },
  "language_info": {
   "codemirror_mode": {
    "name": "ipython",
    "version": 3
   },
   "file_extension": ".py",
   "mimetype": "text/x-python",
   "name": "python",
   "nbconvert_exporter": "python",
   "pygments_lexer": "ipython3",
   "version": "3.9.2"
  }
 },
 "nbformat": 4,
 "nbformat_minor": 5
}
