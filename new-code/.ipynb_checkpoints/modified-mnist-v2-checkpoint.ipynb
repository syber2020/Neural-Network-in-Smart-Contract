{
 "cells": [
  {
   "cell_type": "code",
   "execution_count": 265,
   "id": "administrative-appreciation",
   "metadata": {},
   "outputs": [],
   "source": [
    "from keras.datasets import mnist\n",
    "import numpy as np \n",
    "(x_train, y_train), (x_test, y_test) = mnist.load_data()"
   ]
  },
  {
   "cell_type": "code",
   "execution_count": 266,
   "id": "pacific-floor",
   "metadata": {},
   "outputs": [
    {
     "name": "stdout",
     "output_type": "stream",
     "text": [
      "Training data shape:  (60000, 28, 28)\n",
      "Test data shape (10000, 28, 28)\n"
     ]
    }
   ],
   "source": [
    "\n",
    "from keras.datasets import mnist\n",
    "\n",
    "# Setup train and test splits\n",
    "(x_train, y_train), (x_test, y_test) = mnist.load_data()\n",
    "print(\"Training data shape: \", x_train.shape) # (60000, 28, 28) -- 60000 images, each 28x28 pixels\n",
    "print(\"Test data shape\", x_test.shape) # (10000, 28, 28) -- 10000 images, each 28x28\n",
    "\n",
    "# Flatten the images\n",
    "image_vector_size = 28*28\n",
    "x_train = x_train.reshape(x_train.shape[0], image_vector_size)\n",
    "x_test = x_test.reshape(x_test.shape[0], image_vector_size)\n",
    "y_orig_test = y_test"
   ]
  },
  {
   "cell_type": "code",
   "execution_count": null,
   "id": "cheap-hunter",
   "metadata": {},
   "outputs": [],
   "source": []
  },
  {
   "cell_type": "code",
   "execution_count": 267,
   "id": "overhead-collectible",
   "metadata": {},
   "outputs": [
    {
     "name": "stdout",
     "output_type": "stream",
     "text": [
      "First 5 training lables as one-hot encoded vectors:\n",
      " [[0. 0. 0. 0. 0. 1. 0. 0. 0. 0.]\n",
      " [1. 0. 0. 0. 0. 0. 0. 0. 0. 0.]\n",
      " [0. 0. 0. 0. 1. 0. 0. 0. 0. 0.]\n",
      " [0. 1. 0. 0. 0. 0. 0. 0. 0. 0.]\n",
      " [0. 0. 0. 0. 0. 0. 0. 0. 0. 1.]]\n"
     ]
    },
    {
     "data": {
      "text/plain": [
       "'\\n[[0, 0, 0, 0, 0, 1, 0, 0, 0, 0]\\n [1, 0, 0, 0, 0, 0, 0, 0, 0, 0]\\n [0, 0, 0, 0, 1, 0, 0, 0, 0, 0]\\n [0, 1, 0, 0, 0, 0, 0, 0, 0, 0]\\n [0, 0, 0, 0, 0, 0, 0, 0, 0, 1]]\\n'"
      ]
     },
     "execution_count": 267,
     "metadata": {},
     "output_type": "execute_result"
    }
   ],
   "source": [
    "from tensorflow import keras\n",
    "from keras.datasets import mnist\n",
    "from keras import utils as np_utils\n",
    "\n",
    "# Setup train and test splits\n",
    "# (x_train, y_train), (x_test, y_test) = mnist.load_data()\n",
    "# print(\"Training label shape: \", y_train.shape) # (60000,) -- 60000 numbers (all 0-9)\n",
    "# print(\"First 5 training labels: \", y_train[:5]) # [5, 0, 4, 1, 9]\n",
    "\n",
    "# Convert to \"one-hot\" vectors using the to_categorical function\n",
    "num_classes = 10\n",
    "y_train = keras.utils.to_categorical(y_train, num_classes)\n",
    "y_test = keras.utils.to_categorical(y_test, num_classes)\n",
    "print(\"First 5 training lables as one-hot encoded vectors:\\n\", y_train[:5])\n",
    "\n",
    "# This is the one-hot version of: [5, 0, 4, 1, 9]\n",
    "\"\"\"\n",
    "[[0, 0, 0, 0, 0, 1, 0, 0, 0, 0]\n",
    " [1, 0, 0, 0, 0, 0, 0, 0, 0, 0]\n",
    " [0, 0, 0, 0, 1, 0, 0, 0, 0, 0]\n",
    " [0, 1, 0, 0, 0, 0, 0, 0, 0, 0]\n",
    " [0, 0, 0, 0, 0, 0, 0, 0, 0, 1]]\n",
    "\"\"\""
   ]
  },
  {
   "cell_type": "code",
   "execution_count": 298,
   "id": "applicable-influence",
   "metadata": {},
   "outputs": [
    {
     "name": "stdout",
     "output_type": "stream",
     "text": [
      "Model: \"sequential_19\"\n",
      "_________________________________________________________________\n",
      "Layer (type)                 Output Shape              Param #   \n",
      "=================================================================\n",
      "dense_51 (Dense)             (None, 4)                 3140      \n",
      "_________________________________________________________________\n",
      "dense_52 (Dense)             (None, 10)                50        \n",
      "=================================================================\n",
      "Total params: 3,190\n",
      "Trainable params: 3,190\n",
      "Non-trainable params: 0\n",
      "_________________________________________________________________\n"
     ]
    }
   ],
   "source": [
    "import matplotlib.pyplot as plt \n",
    "from keras.layers import Dense # Dense layers are \"fully connected\" layers\n",
    "from keras.models import Sequential # Documentation: https://keras.io/models/sequential/\n",
    "\n",
    "image_size = 784 # 28*28\n",
    "num_classes = 10 # ten unique digits\n",
    "\n",
    "model = Sequential()\n",
    "\n",
    "# The input layer requires the special input_shape parameter which should match\n",
    "# the shape of our training data.\n",
    "model.add(Dense(units=4, activation='sigmoid', input_shape=(image_size,)))\n",
    "model.add(Dense(units=num_classes, activation='softmax'))\n",
    "model.summary()"
   ]
  },
  {
   "cell_type": "code",
   "execution_count": 299,
   "id": "forbidden-interpretation",
   "metadata": {},
   "outputs": [
    {
     "name": "stdout",
     "output_type": "stream",
     "text": [
      "Epoch 1/100\n",
      "422/422 [==============================] - 1s 1ms/step - loss: 2.2117 - acc: 0.1684 - val_loss: 1.9440 - val_acc: 0.3800\n",
      "Epoch 2/100\n",
      "422/422 [==============================] - 0s 881us/step - loss: 1.9280 - acc: 0.3794 - val_loss: 1.7968 - val_acc: 0.4418\n",
      "Epoch 3/100\n",
      "422/422 [==============================] - 0s 838us/step - loss: 1.7920 - acc: 0.4509 - val_loss: 1.6818 - val_acc: 0.5608\n",
      "Epoch 4/100\n",
      "422/422 [==============================] - 0s 840us/step - loss: 1.6803 - acc: 0.5597 - val_loss: 1.5810 - val_acc: 0.6503\n",
      "Epoch 5/100\n",
      "422/422 [==============================] - 0s 841us/step - loss: 1.5826 - acc: 0.6365 - val_loss: 1.5009 - val_acc: 0.7077\n",
      "Epoch 6/100\n",
      "422/422 [==============================] - 0s 839us/step - loss: 1.5088 - acc: 0.6830 - val_loss: 1.4289 - val_acc: 0.7352\n",
      "Epoch 7/100\n",
      "422/422 [==============================] - 0s 839us/step - loss: 1.4509 - acc: 0.7077 - val_loss: 1.3584 - val_acc: 0.7500\n",
      "Epoch 8/100\n",
      "422/422 [==============================] - 0s 852us/step - loss: 1.3830 - acc: 0.7193 - val_loss: 1.3046 - val_acc: 0.7405\n",
      "Epoch 9/100\n",
      "422/422 [==============================] - 0s 843us/step - loss: 1.3302 - acc: 0.7220 - val_loss: 1.2623 - val_acc: 0.7427\n",
      "Epoch 10/100\n",
      "422/422 [==============================] - 0s 862us/step - loss: 1.2975 - acc: 0.7192 - val_loss: 1.2487 - val_acc: 0.7157\n",
      "Epoch 11/100\n",
      "422/422 [==============================] - 0s 859us/step - loss: 1.2512 - acc: 0.7293 - val_loss: 1.1882 - val_acc: 0.7530\n",
      "Epoch 12/100\n",
      "422/422 [==============================] - 0s 846us/step - loss: 1.2232 - acc: 0.7295 - val_loss: 1.1659 - val_acc: 0.7512\n",
      "Epoch 13/100\n",
      "422/422 [==============================] - 0s 879us/step - loss: 1.1940 - acc: 0.7328 - val_loss: 1.1501 - val_acc: 0.7485\n",
      "Epoch 14/100\n",
      "422/422 [==============================] - 0s 845us/step - loss: 1.1828 - acc: 0.7332 - val_loss: 1.1360 - val_acc: 0.7487\n",
      "Epoch 15/100\n",
      "422/422 [==============================] - 0s 838us/step - loss: 1.1452 - acc: 0.7404 - val_loss: 1.0996 - val_acc: 0.7478\n",
      "Epoch 16/100\n",
      "422/422 [==============================] - 0s 847us/step - loss: 1.1340 - acc: 0.7334 - val_loss: 1.0936 - val_acc: 0.7350\n",
      "Epoch 17/100\n",
      "422/422 [==============================] - 0s 838us/step - loss: 1.1057 - acc: 0.7368 - val_loss: 1.0353 - val_acc: 0.7747\n",
      "Epoch 18/100\n",
      "422/422 [==============================] - 0s 840us/step - loss: 1.0945 - acc: 0.7376 - val_loss: 1.0339 - val_acc: 0.7663\n",
      "Epoch 19/100\n",
      "422/422 [==============================] - 0s 857us/step - loss: 1.0790 - acc: 0.7380 - val_loss: 1.0205 - val_acc: 0.7637\n",
      "Epoch 20/100\n",
      "422/422 [==============================] - 0s 852us/step - loss: 1.0731 - acc: 0.7369 - val_loss: 1.0046 - val_acc: 0.7660\n",
      "Epoch 21/100\n",
      "422/422 [==============================] - 0s 857us/step - loss: 1.0460 - acc: 0.7463 - val_loss: 0.9753 - val_acc: 0.7757\n",
      "Epoch 22/100\n",
      "422/422 [==============================] - 0s 839us/step - loss: 1.0347 - acc: 0.7479 - val_loss: 0.9612 - val_acc: 0.7782\n",
      "Epoch 23/100\n",
      "422/422 [==============================] - 0s 868us/step - loss: 1.0314 - acc: 0.7470 - val_loss: 0.9707 - val_acc: 0.7707\n",
      "Epoch 24/100\n",
      "422/422 [==============================] - 0s 856us/step - loss: 1.0118 - acc: 0.7508 - val_loss: 0.9732 - val_acc: 0.7518\n",
      "Epoch 25/100\n",
      "422/422 [==============================] - 0s 842us/step - loss: 1.0139 - acc: 0.7416 - val_loss: 0.9488 - val_acc: 0.7672\n",
      "Epoch 26/100\n",
      "422/422 [==============================] - 0s 851us/step - loss: 0.9937 - acc: 0.7448 - val_loss: 0.9390 - val_acc: 0.7727\n",
      "Epoch 27/100\n",
      "422/422 [==============================] - 0s 873us/step - loss: 0.9927 - acc: 0.7457 - val_loss: 0.9272 - val_acc: 0.7760\n",
      "Epoch 28/100\n",
      "422/422 [==============================] - 0s 866us/step - loss: 0.9875 - acc: 0.7435 - val_loss: 0.9144 - val_acc: 0.7762\n",
      "Epoch 29/100\n",
      "422/422 [==============================] - 0s 854us/step - loss: 0.9681 - acc: 0.7538 - val_loss: 0.9071 - val_acc: 0.7693\n",
      "Epoch 30/100\n",
      "422/422 [==============================] - 0s 871us/step - loss: 0.9854 - acc: 0.7463 - val_loss: 0.9333 - val_acc: 0.7728\n",
      "Epoch 31/100\n",
      "422/422 [==============================] - 0s 845us/step - loss: 0.9814 - acc: 0.7466 - val_loss: 0.9000 - val_acc: 0.7763\n",
      "Epoch 32/100\n",
      "422/422 [==============================] - 0s 843us/step - loss: 0.9651 - acc: 0.7461 - val_loss: 0.8899 - val_acc: 0.7780\n",
      "Epoch 33/100\n",
      "422/422 [==============================] - 0s 847us/step - loss: 0.9623 - acc: 0.7447 - val_loss: 0.8741 - val_acc: 0.7803\n",
      "Epoch 34/100\n",
      "422/422 [==============================] - 0s 856us/step - loss: 0.9377 - acc: 0.7587 - val_loss: 0.8908 - val_acc: 0.7707\n",
      "Epoch 35/100\n",
      "422/422 [==============================] - 0s 870us/step - loss: 0.9554 - acc: 0.7503 - val_loss: 0.8965 - val_acc: 0.7698\n",
      "Epoch 36/100\n",
      "422/422 [==============================] - 0s 847us/step - loss: 0.9487 - acc: 0.7483 - val_loss: 0.8628 - val_acc: 0.7845\n",
      "Epoch 37/100\n",
      "422/422 [==============================] - 0s 843us/step - loss: 0.9246 - acc: 0.7581 - val_loss: 0.8605 - val_acc: 0.7817\n",
      "Epoch 38/100\n",
      "422/422 [==============================] - 0s 846us/step - loss: 0.9346 - acc: 0.7541 - val_loss: 0.8513 - val_acc: 0.7857\n",
      "Epoch 39/100\n",
      "422/422 [==============================] - 0s 848us/step - loss: 0.9237 - acc: 0.7548 - val_loss: 0.8896 - val_acc: 0.7668\n",
      "Epoch 40/100\n",
      "422/422 [==============================] - 0s 847us/step - loss: 0.9273 - acc: 0.7564 - val_loss: 0.8501 - val_acc: 0.7845\n",
      "Epoch 41/100\n",
      "422/422 [==============================] - 0s 897us/step - loss: 0.9251 - acc: 0.7564 - val_loss: 0.8449 - val_acc: 0.7857\n",
      "Epoch 42/100\n",
      "422/422 [==============================] - 0s 850us/step - loss: 0.9526 - acc: 0.7421 - val_loss: 0.8283 - val_acc: 0.7938\n",
      "Epoch 43/100\n",
      "422/422 [==============================] - 0s 847us/step - loss: 0.9044 - acc: 0.7587 - val_loss: 0.8256 - val_acc: 0.7915\n",
      "Epoch 44/100\n",
      "422/422 [==============================] - 0s 854us/step - loss: 0.8996 - acc: 0.7609 - val_loss: 0.8336 - val_acc: 0.7885\n",
      "Epoch 45/100\n",
      "422/422 [==============================] - 0s 845us/step - loss: 0.8979 - acc: 0.7630 - val_loss: 0.8418 - val_acc: 0.7885\n",
      "Epoch 46/100\n",
      "422/422 [==============================] - 0s 862us/step - loss: 0.9102 - acc: 0.7578 - val_loss: 0.8497 - val_acc: 0.7795\n",
      "Epoch 47/100\n",
      "422/422 [==============================] - 0s 852us/step - loss: 0.9053 - acc: 0.7599 - val_loss: 0.8123 - val_acc: 0.7922\n",
      "Epoch 48/100\n",
      "422/422 [==============================] - 0s 853us/step - loss: 0.8991 - acc: 0.7562 - val_loss: 0.8172 - val_acc: 0.7928\n",
      "Epoch 49/100\n",
      "422/422 [==============================] - 0s 865us/step - loss: 0.9096 - acc: 0.7510 - val_loss: 0.8314 - val_acc: 0.7847\n",
      "Epoch 50/100\n",
      "422/422 [==============================] - 0s 856us/step - loss: 0.9042 - acc: 0.7533 - val_loss: 0.8394 - val_acc: 0.7742\n",
      "Epoch 51/100\n",
      "422/422 [==============================] - 0s 864us/step - loss: 0.9093 - acc: 0.7485 - val_loss: 0.8234 - val_acc: 0.7820\n",
      "Epoch 52/100\n",
      "422/422 [==============================] - 0s 870us/step - loss: 0.8946 - acc: 0.7581 - val_loss: 0.8031 - val_acc: 0.7895\n",
      "Epoch 53/100\n",
      "422/422 [==============================] - 0s 847us/step - loss: 0.8998 - acc: 0.7563 - val_loss: 0.8223 - val_acc: 0.7815\n",
      "Epoch 54/100\n",
      "422/422 [==============================] - 0s 853us/step - loss: 0.8906 - acc: 0.7564 - val_loss: 0.8460 - val_acc: 0.7602\n",
      "Epoch 55/100\n",
      "422/422 [==============================] - 0s 846us/step - loss: 0.8864 - acc: 0.7557 - val_loss: 0.8074 - val_acc: 0.7803\n",
      "Epoch 56/100\n",
      "422/422 [==============================] - 0s 849us/step - loss: 0.8794 - acc: 0.7590 - val_loss: 0.7870 - val_acc: 0.7990\n",
      "Epoch 57/100\n",
      "422/422 [==============================] - 0s 859us/step - loss: 0.8837 - acc: 0.7603 - val_loss: 0.8161 - val_acc: 0.7803\n",
      "Epoch 58/100\n",
      "422/422 [==============================] - 0s 845us/step - loss: 0.8958 - acc: 0.7537 - val_loss: 0.8708 - val_acc: 0.7492\n",
      "Epoch 59/100\n",
      "422/422 [==============================] - 0s 843us/step - loss: 0.9004 - acc: 0.7459 - val_loss: 0.8347 - val_acc: 0.7625\n",
      "Epoch 60/100\n",
      "422/422 [==============================] - 0s 846us/step - loss: 0.8812 - acc: 0.7539 - val_loss: 0.7914 - val_acc: 0.7915\n",
      "Epoch 61/100\n"
     ]
    },
    {
     "name": "stdout",
     "output_type": "stream",
     "text": [
      "422/422 [==============================] - 0s 847us/step - loss: 0.8706 - acc: 0.7637 - val_loss: 0.7750 - val_acc: 0.8028\n",
      "Epoch 62/100\n",
      "422/422 [==============================] - 0s 843us/step - loss: 0.8756 - acc: 0.7601 - val_loss: 0.7955 - val_acc: 0.7910\n",
      "Epoch 63/100\n",
      "422/422 [==============================] - 0s 1ms/step - loss: 0.8663 - acc: 0.7654 - val_loss: 0.7927 - val_acc: 0.7975\n",
      "Epoch 64/100\n",
      "422/422 [==============================] - 0s 840us/step - loss: 0.8805 - acc: 0.7632 - val_loss: 0.7775 - val_acc: 0.7993\n",
      "Epoch 65/100\n",
      "422/422 [==============================] - 0s 859us/step - loss: 0.8711 - acc: 0.7644 - val_loss: 0.7780 - val_acc: 0.7988\n",
      "Epoch 66/100\n",
      "422/422 [==============================] - 0s 849us/step - loss: 0.8772 - acc: 0.7606 - val_loss: 0.8273 - val_acc: 0.7797\n",
      "Epoch 67/100\n",
      "422/422 [==============================] - 0s 850us/step - loss: 0.8654 - acc: 0.7661 - val_loss: 0.7920 - val_acc: 0.7927\n",
      "Epoch 68/100\n",
      "422/422 [==============================] - 0s 863us/step - loss: 0.8700 - acc: 0.7600 - val_loss: 0.7934 - val_acc: 0.7832\n",
      "Epoch 69/100\n",
      "422/422 [==============================] - 0s 849us/step - loss: 0.8728 - acc: 0.7562 - val_loss: 0.8233 - val_acc: 0.7687\n",
      "Epoch 70/100\n",
      "422/422 [==============================] - 0s 838us/step - loss: 0.8707 - acc: 0.7592 - val_loss: 0.7748 - val_acc: 0.7955\n",
      "Epoch 71/100\n",
      "422/422 [==============================] - 0s 845us/step - loss: 0.8787 - acc: 0.7504 - val_loss: 0.7885 - val_acc: 0.7910\n",
      "Epoch 72/100\n",
      "422/422 [==============================] - 0s 838us/step - loss: 0.8653 - acc: 0.7606 - val_loss: 0.7897 - val_acc: 0.7832\n",
      "Epoch 73/100\n",
      "422/422 [==============================] - 0s 850us/step - loss: 0.8648 - acc: 0.7593 - val_loss: 0.7684 - val_acc: 0.8015\n",
      "Epoch 74/100\n",
      "422/422 [==============================] - 0s 856us/step - loss: 0.8480 - acc: 0.7697 - val_loss: 0.7822 - val_acc: 0.7938\n",
      "Epoch 75/100\n",
      "422/422 [==============================] - 0s 842us/step - loss: 0.8857 - acc: 0.7499 - val_loss: 0.7781 - val_acc: 0.7970\n",
      "Epoch 76/100\n",
      "422/422 [==============================] - 0s 836us/step - loss: 0.8536 - acc: 0.7664 - val_loss: 0.7966 - val_acc: 0.7982\n",
      "Epoch 77/100\n",
      "422/422 [==============================] - 0s 854us/step - loss: 0.8829 - acc: 0.7593 - val_loss: 0.7699 - val_acc: 0.7965\n",
      "Epoch 78/100\n",
      "422/422 [==============================] - 0s 845us/step - loss: 0.8627 - acc: 0.7631 - val_loss: 0.7721 - val_acc: 0.7922\n",
      "Epoch 79/100\n",
      "422/422 [==============================] - 0s 891us/step - loss: 0.8640 - acc: 0.7592 - val_loss: 0.7701 - val_acc: 0.7943\n",
      "Epoch 80/100\n",
      "422/422 [==============================] - 0s 851us/step - loss: 0.8505 - acc: 0.7640 - val_loss: 0.7860 - val_acc: 0.7950\n",
      "Epoch 81/100\n",
      "422/422 [==============================] - 0s 840us/step - loss: 0.8630 - acc: 0.7654 - val_loss: 0.7691 - val_acc: 0.8008\n",
      "Epoch 82/100\n",
      "422/422 [==============================] - 0s 846us/step - loss: 0.8566 - acc: 0.7702 - val_loss: 0.7669 - val_acc: 0.7968\n",
      "Epoch 83/100\n",
      "422/422 [==============================] - 0s 846us/step - loss: 0.8683 - acc: 0.7589 - val_loss: 0.7723 - val_acc: 0.7930\n",
      "Epoch 84/100\n",
      "422/422 [==============================] - 0s 844us/step - loss: 0.8442 - acc: 0.7674 - val_loss: 0.7820 - val_acc: 0.7927\n",
      "Epoch 85/100\n",
      "422/422 [==============================] - 0s 865us/step - loss: 0.8476 - acc: 0.7687 - val_loss: 0.7620 - val_acc: 0.7992\n",
      "Epoch 86/100\n",
      "422/422 [==============================] - 0s 844us/step - loss: 0.8592 - acc: 0.7650 - val_loss: 0.7710 - val_acc: 0.8020\n",
      "Epoch 87/100\n",
      "422/422 [==============================] - 0s 861us/step - loss: 0.8566 - acc: 0.7687 - val_loss: 0.7695 - val_acc: 0.7977\n",
      "Epoch 88/100\n",
      "422/422 [==============================] - 0s 846us/step - loss: 0.8559 - acc: 0.7679 - val_loss: 0.7534 - val_acc: 0.8012\n",
      "Epoch 89/100\n",
      "422/422 [==============================] - 0s 840us/step - loss: 0.8320 - acc: 0.7731 - val_loss: 0.7806 - val_acc: 0.7965\n",
      "Epoch 90/100\n",
      "422/422 [==============================] - 0s 849us/step - loss: 0.8408 - acc: 0.7699 - val_loss: 0.8291 - val_acc: 0.7683\n",
      "Epoch 91/100\n",
      "422/422 [==============================] - 0s 846us/step - loss: 0.8551 - acc: 0.7632 - val_loss: 0.7837 - val_acc: 0.7850\n",
      "Epoch 92/100\n",
      "422/422 [==============================] - 0s 845us/step - loss: 0.8377 - acc: 0.7698 - val_loss: 0.7606 - val_acc: 0.7972\n",
      "Epoch 93/100\n",
      "422/422 [==============================] - 0s 864us/step - loss: 0.8366 - acc: 0.7714 - val_loss: 0.7771 - val_acc: 0.7855\n",
      "Epoch 94/100\n",
      "422/422 [==============================] - 0s 861us/step - loss: 0.8574 - acc: 0.7593 - val_loss: 0.7626 - val_acc: 0.7940\n",
      "Epoch 95/100\n",
      "422/422 [==============================] - 0s 846us/step - loss: 0.8408 - acc: 0.7622 - val_loss: 0.7530 - val_acc: 0.7985\n",
      "Epoch 96/100\n",
      "422/422 [==============================] - 0s 873us/step - loss: 0.8264 - acc: 0.7706 - val_loss: 0.7858 - val_acc: 0.7943\n",
      "Epoch 97/100\n",
      "422/422 [==============================] - 0s 842us/step - loss: 0.8316 - acc: 0.7760 - val_loss: 0.7598 - val_acc: 0.7920\n",
      "Epoch 98/100\n",
      "422/422 [==============================] - 0s 840us/step - loss: 0.8331 - acc: 0.7696 - val_loss: 0.7581 - val_acc: 0.8020\n",
      "Epoch 99/100\n",
      "422/422 [==============================] - 0s 866us/step - loss: 0.8436 - acc: 0.7694 - val_loss: 0.7857 - val_acc: 0.7918\n",
      "Epoch 100/100\n",
      "422/422 [==============================] - 0s 843us/step - loss: 0.8647 - acc: 0.7615 - val_loss: 0.7721 - val_acc: 0.7943\n"
     ]
    },
    {
     "data": {
      "image/png": "[encoded data removed]",
      "text/plain": [
       "<Figure size 432x288 with 1 Axes>"
      ]
     },
     "metadata": {
      "needs_background": "light"
     },
     "output_type": "display_data"
    },
    {
     "name": "stdout",
     "output_type": "stream",
     "text": [
      "Test loss: 0.853\n",
      "Test accuracy: 0.768\n"
     ]
    }
   ],
   "source": [
    "model.compile(optimizer=\"sgd\", loss='categorical_crossentropy', metrics=[\"acc\"])\n",
    "history = model.fit(x_train, y_train, batch_size=128, epochs=100, verbose=True, validation_split=.1)\n",
    "loss, accuracy  = model.evaluate(x_test, y_test, verbose=False)\n",
    "\n",
    "plt.plot(history.history['acc'])\n",
    "plt.plot(history.history['val_acc'])\n",
    "plt.title('model accuracy')\n",
    "plt.ylabel('accuracy')\n",
    "plt.xlabel('epoch')\n",
    "plt.legend(['training', 'validation'], loc='best')\n",
    "plt.show()\n",
    "\n",
    "print(f'Test loss: {loss:.3}')\n",
    "print(f'Test accuracy: {accuracy:.3}')"
   ]
  },
  {
   "cell_type": "code",
   "execution_count": 300,
   "id": "primary-missouri",
   "metadata": {},
   "outputs": [],
   "source": [
    "first_layer_weights = model.layers[0].get_weights()[0]\n",
    "first_layer_biases  = model.layers[0].get_weights()[1]\n",
    "second_layer_weights = model.layers[1].get_weights()[0]\n",
    "second_layer_biases  = model.layers[1].get_weights()[1]"
   ]
  },
  {
   "cell_type": "code",
   "execution_count": 301,
   "id": "interstate-hebrew",
   "metadata": {},
   "outputs": [],
   "source": [
    "fw = (first_layer_weights*100).astype(int)\n",
    "sw = (second_layer_weights*10).astype(int) \n",
    "fb = first_layer_biases  \n",
    "sb = second_layer_biases"
   ]
  },
  {
   "cell_type": "code",
   "execution_count": 302,
   "id": "present-miller",
   "metadata": {},
   "outputs": [
    {
     "data": {
      "text/plain": [
       "(784, 4)"
      ]
     },
     "execution_count": 302,
     "metadata": {},
     "output_type": "execute_result"
    }
   ],
   "source": [
    "fw.shape"
   ]
  },
  {
   "cell_type": "code",
   "execution_count": 303,
   "id": "complicated-journalist",
   "metadata": {},
   "outputs": [
    {
     "data": {
      "text/plain": [
       "(4, 10)"
      ]
     },
     "execution_count": 303,
     "metadata": {},
     "output_type": "execute_result"
    }
   ],
   "source": [
    "sw.shape"
   ]
  },
  {
   "cell_type": "code",
   "execution_count": 288,
   "id": "endless-remainder",
   "metadata": {},
   "outputs": [
    {
     "data": {
      "text/plain": [
       "array([[ 8, -8,  2, ...,  4,  0,  0],\n",
       "       [-8, -5, -7, ..., -6,  1,  4],\n",
       "       [ 0,  6, -1, ..., -2, -7, -3],\n",
       "       ...,\n",
       "       [-2,  0,  6, ..., -2,  1, -3],\n",
       "       [ 1, -8,  5, ..., -2, -1, -2],\n",
       "       [-6, -5,  6, ..., -6,  4, -2]])"
      ]
     },
     "execution_count": 288,
     "metadata": {},
     "output_type": "execute_result"
    }
   ],
   "source": [
    "fw"
   ]
  },
  {
   "cell_type": "code",
   "execution_count": 289,
   "id": "herbal-drilling",
   "metadata": {},
   "outputs": [
    {
     "data": {
      "text/plain": [
       "array([[-10,   7, -10, -10,  21, -11,   8,   9, -17,   6],\n",
       "       [  1,  -5,   5,  -3,   2,  -3,  -3,   7,   0,  -9],\n",
       "       [-10,   8,   6,  14, -11,  13,   0, -14,   5, -14],\n",
       "       [ -9,  11,  -1,  -2,  -8, -14,  -5,  13,  11,  14],\n",
       "       [ 13,   0,  -9,   3, -10,  11,  -7, -13,  16, -12],\n",
       "       [ 12,  10, -10,   4, -13,   5,  19,  -8, -10,  -9],\n",
       "       [ -8, -16, -16, -16,  20,  13,   9,  -3,  11,   9],\n",
       "       [  5,  11,  15,  -6,  -8,   0,  -3,  16, -11, -12],\n",
       "       [  9, -13,   2,  10, -15,   5,  12,  10, -11, -12],\n",
       "       [-10,  10,  -6,  19,  -8, -10,  -8,  18,  -4,   3],\n",
       "       [ 16,  -6,  -9,  -5, -10,   6,  -9,   6,  -2,  16],\n",
       "       [ -2,   3,  11, -11, -10,  -9,  14,  -3,  16, -10],\n",
       "       [ -3,  19,  -6, -11,  -2,  16,  -4,  -3,  -4,   3],\n",
       "       [  6, -14,   5,   8, -12,   2, -21,   6,   2,  12],\n",
       "       [-19,   4,  11,  11,   6,   0,  -3, -13,   8,   9],\n",
       "       [ 16,  -7,  20, -12,   3,  -9,  14,  -7,  -7,   0]])"
      ]
     },
     "execution_count": 289,
     "metadata": {},
     "output_type": "execute_result"
    }
   ],
   "source": [
    "sw"
   ]
  },
  {
   "cell_type": "code",
   "execution_count": 290,
   "id": "induced-finance",
   "metadata": {},
   "outputs": [],
   "source": [
    "## testing prediction with builtin functions"
   ]
  },
  {
   "cell_type": "code",
   "execution_count": 291,
   "id": "peripheral-sample",
   "metadata": {},
   "outputs": [],
   "source": [
    "def sigmoid(x):\n",
    "    return (1/(1+np.exp(-x)))\n",
    "def softmax(x):\n",
    "    sumexp = np.sum(np.exp(x))\n",
    "    return((np.exp(x)/sumexp))\n",
    "def layer1(x,w,b):\n",
    "    return sigmoid(np.dot(x,w)+b)\n",
    "def layer2(x,w,b):\n",
    "    return  softmax(np.dot(x,w)+b)"
   ]
  },
  {
   "cell_type": "code",
   "execution_count": 292,
   "id": "convinced-opera",
   "metadata": {},
   "outputs": [
    {
     "name": "stderr",
     "output_type": "stream",
     "text": [
      "<ipython-input-291-53500530f9b4>:2: RuntimeWarning: overflow encountered in exp\n",
      "  return (1/(1+np.exp(-x)))\n"
     ]
    },
    {
     "data": {
      "text/plain": [
       "array([[1., 1., 0., ..., 1., 0., 0.],\n",
       "       [0., 0., 1., ..., 1., 1., 1.],\n",
       "       [1., 1., 1., ..., 0., 1., 0.],\n",
       "       ...,\n",
       "       [1., 1., 0., ..., 0., 1., 0.],\n",
       "       [0., 0., 1., ..., 0., 0., 0.],\n",
       "       [1., 0., 0., ..., 0., 1., 1.]])"
      ]
     },
     "execution_count": 292,
     "metadata": {},
     "output_type": "execute_result"
    }
   ],
   "source": [
    "layer1_out = layer1(x_test,fw,fb)\n",
    "layer1_out\n"
   ]
  },
  {
   "cell_type": "code",
   "execution_count": 293,
   "id": "fleet-cross",
   "metadata": {},
   "outputs": [
    {
     "data": {
      "text/plain": [
       "array([[3.45017456e-36, 1.54691253e-39, 3.02992330e-39, ...,\n",
       "        6.99104219e-03, 1.14856047e-53, 5.92662662e-32],\n",
       "       [1.23685751e-26, 4.20494421e-39, 1.57092601e-17, ...,\n",
       "        4.34364608e-51, 2.70354212e-36, 1.28638735e-60],\n",
       "       [9.00591845e-59, 1.93729628e-10, 9.90487190e-33, ...,\n",
       "        2.05360614e-32, 4.40014434e-31, 2.51784094e-49],\n",
       "       ...,\n",
       "       [2.68462645e-55, 2.58360702e-44, 5.06048724e-44, ...,\n",
       "        8.50180150e-40, 6.70141092e-39, 2.95069365e-33],\n",
       "       [9.37854682e-36, 4.49360295e-26, 2.29745765e-48, ...,\n",
       "        1.18072542e-50, 9.94577565e-37, 5.69114992e-55],\n",
       "       [2.32470933e-38, 2.09351845e-40, 1.08620110e-29, ...,\n",
       "        2.31102925e-39, 6.87690722e-49, 5.05721872e-48]])"
      ]
     },
     "execution_count": 293,
     "metadata": {},
     "output_type": "execute_result"
    }
   ],
   "source": [
    "layer2_out = layer2(layer1_out,sw,sb)\n",
    "layer2_out"
   ]
  },
  {
   "cell_type": "code",
   "execution_count": 294,
   "id": "threaded-sacramento",
   "metadata": {},
   "outputs": [],
   "source": [
    "pred= np.zeros(layer2_out.shape[0])\n",
    "for i in range(layer2_out.shape[0]):\n",
    "    pred[i] = np.argmax(layer2_out[i])"
   ]
  },
  {
   "cell_type": "code",
   "execution_count": 295,
   "id": "cardiovascular-refrigerator",
   "metadata": {},
   "outputs": [
    {
     "data": {
      "text/plain": [
       "array([7, 2, 1, ..., 4, 5, 6], dtype=uint8)"
      ]
     },
     "execution_count": 295,
     "metadata": {},
     "output_type": "execute_result"
    }
   ],
   "source": [
    "y_orig_test"
   ]
  },
  {
   "cell_type": "code",
   "execution_count": 296,
   "id": "verbal-polyester",
   "metadata": {},
   "outputs": [
    {
     "data": {
      "text/plain": [
       "array([7., 2., 1., ..., 4., 5., 6.])"
      ]
     },
     "execution_count": 296,
     "metadata": {},
     "output_type": "execute_result"
    }
   ],
   "source": [
    "pred"
   ]
  },
  {
   "cell_type": "code",
   "execution_count": 297,
   "id": "working-logging",
   "metadata": {},
   "outputs": [
    {
     "data": {
      "text/plain": [
       "0.9043"
      ]
     },
     "execution_count": 297,
     "metadata": {},
     "output_type": "execute_result"
    }
   ],
   "source": [
    "from sklearn.metrics import accuracy_score\n",
    "accuracy_score(pred,y_orig_test)"
   ]
  },
  {
   "cell_type": "code",
   "execution_count": 208,
   "id": "american-narrow",
   "metadata": {},
   "outputs": [],
   "source": [
    "# in depth layers\n",
    "\n",
    "def create_dense(layer_sizes):\n",
    "    model = Sequential()\n",
    "    model.add(Dense(layer_sizes[0], activation='sigmoid', input_shape=(image_size,)))\n",
    "\n",
    "    for s in layer_sizes[1:]:\n",
    "        model.add(Dense(units = s, activation = 'sigmoid'))\n",
    "\n",
    "    model.add(Dense(units=num_classes, activation='softmax'))\n",
    "    return model\n",
    "\n",
    "def evaluate(model, batch_size=128, epochs=5):\n",
    "    model.summary()\n",
    "    model.compile(optimizer='sgd', loss='categorical_crossentropy', metrics=['acc'])\n",
    "    history = model.fit(x_train, y_train, batch_size=batch_size, epochs=epochs, validation_split=.1, verbose=False)\n",
    "    loss, accuracy  = model.evaluate(x_test, y_test, verbose=False)\n",
    "    \n",
    "    plt.plot(history.history['acc'])\n",
    "    plt.plot(history.history['val_acc'])\n",
    "    plt.title('model accuracy')\n",
    "    plt.ylabel('accuracy')\n",
    "    plt.xlabel('epoch')\n",
    "    plt.legend(['training', 'validation'], loc='best')\n",
    "    plt.show()\n",
    "\n",
    "    print()\n",
    "    print(f'Test loss: {loss:.3}')\n",
    "    print(f'Test accuracy: {accuracy:.3}')"
   ]
  },
  {
   "cell_type": "code",
   "execution_count": 27,
   "id": "plain-stereo",
   "metadata": {},
   "outputs": [
    {
     "name": "stdout",
     "output_type": "stream",
     "text": [
      "Model: \"sequential_7\"\n",
      "_________________________________________________________________\n",
      "Layer (type)                 Output Shape              Param #   \n",
      "=================================================================\n",
      "dense_20 (Dense)             (None, 32)                25120     \n",
      "_________________________________________________________________\n",
      "dense_21 (Dense)             (None, 10)                330       \n",
      "=================================================================\n",
      "Total params: 25,450\n",
      "Trainable params: 25,450\n",
      "Non-trainable params: 0\n",
      "_________________________________________________________________\n"
     ]
    },
    {
     "data": {
      "image/png": "[encoded data removed]",
      "text/plain": [
       "<Figure size 432x288 with 1 Axes>"
      ]
     },
     "metadata": {
      "needs_background": "light"
     },
     "output_type": "display_data"
    },
    {
     "name": "stdout",
     "output_type": "stream",
     "text": [
      "\n",
      "Test loss: 0.494\n",
      "Test accuracy: 0.888\n",
      "Model: \"sequential_8\"\n",
      "_________________________________________________________________\n",
      "Layer (type)                 Output Shape              Param #   \n",
      "=================================================================\n",
      "dense_22 (Dense)             (None, 32)                25120     \n",
      "_________________________________________________________________\n",
      "dense_23 (Dense)             (None, 32)                1056      \n",
      "_________________________________________________________________\n",
      "dense_24 (Dense)             (None, 10)                330       \n",
      "=================================================================\n",
      "Total params: 26,506\n",
      "Trainable params: 26,506\n",
      "Non-trainable params: 0\n",
      "_________________________________________________________________\n"
     ]
    },
    {
     "data": {
      "image/png": "[encoded data removed]",
      "text/plain": [
       "<Figure size 432x288 with 1 Axes>"
      ]
     },
     "metadata": {
      "needs_background": "light"
     },
     "output_type": "display_data"
    },
    {
     "name": "stdout",
     "output_type": "stream",
     "text": [
      "\n",
      "Test loss: 1.16\n",
      "Test accuracy: 0.814\n",
      "Model: \"sequential_9\"\n",
      "_________________________________________________________________\n",
      "Layer (type)                 Output Shape              Param #   \n",
      "=================================================================\n",
      "dense_25 (Dense)             (None, 32)                25120     \n",
      "_________________________________________________________________\n",
      "dense_26 (Dense)             (None, 32)                1056      \n",
      "_________________________________________________________________\n",
      "dense_27 (Dense)             (None, 32)                1056      \n",
      "_________________________________________________________________\n",
      "dense_28 (Dense)             (None, 10)                330       \n",
      "=================================================================\n",
      "Total params: 27,562\n",
      "Trainable params: 27,562\n",
      "Non-trainable params: 0\n",
      "_________________________________________________________________\n"
     ]
    },
    {
     "data": {
      "image/png": "[encoded data removed]",
      "text/plain": [
       "<Figure size 432x288 with 1 Axes>"
      ]
     },
     "metadata": {
      "needs_background": "light"
     },
     "output_type": "display_data"
    },
    {
     "name": "stdout",
     "output_type": "stream",
     "text": [
      "\n",
      "Test loss: 2.15\n",
      "Test accuracy: 0.569\n",
      "Model: \"sequential_10\"\n",
      "_________________________________________________________________\n",
      "Layer (type)                 Output Shape              Param #   \n",
      "=================================================================\n",
      "dense_29 (Dense)             (None, 32)                25120     \n",
      "_________________________________________________________________\n",
      "dense_30 (Dense)             (None, 32)                1056      \n",
      "_________________________________________________________________\n",
      "dense_31 (Dense)             (None, 32)                1056      \n",
      "_________________________________________________________________\n",
      "dense_32 (Dense)             (None, 32)                1056      \n",
      "_________________________________________________________________\n",
      "dense_33 (Dense)             (None, 10)                330       \n",
      "=================================================================\n",
      "Total params: 28,618\n",
      "Trainable params: 28,618\n",
      "Non-trainable params: 0\n",
      "_________________________________________________________________\n"
     ]
    },
    {
     "data": {
      "image/png": "[encoded data removed]",
      "text/plain": [
       "<Figure size 432x288 with 1 Axes>"
      ]
     },
     "metadata": {
      "needs_background": "light"
     },
     "output_type": "display_data"
    },
    {
     "name": "stdout",
     "output_type": "stream",
     "text": [
      "\n",
      "Test loss: 2.29\n",
      "Test accuracy: 0.113\n"
     ]
    }
   ],
   "source": [
    "for layers in range(1, 5):\n",
    "    model = create_dense([32] * layers)\n",
    "    evaluate(model)"
   ]
  },
  {
   "cell_type": "code",
   "execution_count": null,
   "id": "amateur-subdivision",
   "metadata": {},
   "outputs": [],
   "source": []
  }
 ],
 "metadata": {
  "kernelspec": {
   "display_name": "Python 3",
   "language": "python",
   "name": "python3"
  },
  "language_info": {
   "codemirror_mode": {
    "name": "ipython",
    "version": 3
   },
   "file_extension": ".py",
   "mimetype": "text/x-python",
   "name": "python",
   "nbconvert_exporter": "python",
   "pygments_lexer": "ipython3",
   "version": "3.9.2"
  }
 },
 "nbformat": 4,
 "nbformat_minor": 5
}
