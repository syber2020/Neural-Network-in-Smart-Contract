{
 "cells": [
  {
   "cell_type": "code",
   "execution_count": 84,
   "id": "eight-mercury",
   "metadata": {},
   "outputs": [],
   "source": [
    "import numpy as np\n",
    "import pandas as pd\n",
    "from sklearn.model_selection import train_test_split\n",
    "from sklearn.datasets import load_diabetes"
   ]
  },
  {
   "cell_type": "code",
   "execution_count": 85,
   "id": "isolated-miracle",
   "metadata": {},
   "outputs": [
    {
     "data": {
      "text/html": [
       "<div>\n",
       "<style scoped>\n",
       "    .dataframe tbody tr th:only-of-type {\n",
       "        vertical-align: middle;\n",
       "    }\n",
       "\n",
       "    .dataframe tbody tr th {\n",
       "        vertical-align: top;\n",
       "    }\n",
       "\n",
       "    .dataframe thead th {\n",
       "        text-align: right;\n",
       "    }\n",
       "</style>\n",
       "<table border=\"1\" class=\"dataframe\">\n",
       "  <thead>\n",
       "    <tr style=\"text-align: right;\">\n",
       "      <th></th>\n",
       "      <th>Pregnancies</th>\n",
       "      <th>Glucose</th>\n",
       "      <th>BloodPressure</th>\n",
       "      <th>SkinThickness</th>\n",
       "      <th>Insulin</th>\n",
       "      <th>BMI</th>\n",
       "      <th>DiabetesPedigreeFunction</th>\n",
       "      <th>Age</th>\n",
       "      <th>Outcome</th>\n",
       "    </tr>\n",
       "  </thead>\n",
       "  <tbody>\n",
       "    <tr>\n",
       "      <th>0</th>\n",
       "      <td>6</td>\n",
       "      <td>148</td>\n",
       "      <td>72</td>\n",
       "      <td>35</td>\n",
       "      <td>0</td>\n",
       "      <td>33</td>\n",
       "      <td>62</td>\n",
       "      <td>50</td>\n",
       "      <td>1</td>\n",
       "    </tr>\n",
       "    <tr>\n",
       "      <th>1</th>\n",
       "      <td>1</td>\n",
       "      <td>85</td>\n",
       "      <td>66</td>\n",
       "      <td>29</td>\n",
       "      <td>0</td>\n",
       "      <td>26</td>\n",
       "      <td>35</td>\n",
       "      <td>31</td>\n",
       "      <td>0</td>\n",
       "    </tr>\n",
       "    <tr>\n",
       "      <th>2</th>\n",
       "      <td>8</td>\n",
       "      <td>183</td>\n",
       "      <td>64</td>\n",
       "      <td>0</td>\n",
       "      <td>0</td>\n",
       "      <td>23</td>\n",
       "      <td>67</td>\n",
       "      <td>32</td>\n",
       "      <td>1</td>\n",
       "    </tr>\n",
       "    <tr>\n",
       "      <th>3</th>\n",
       "      <td>1</td>\n",
       "      <td>89</td>\n",
       "      <td>66</td>\n",
       "      <td>23</td>\n",
       "      <td>94</td>\n",
       "      <td>28</td>\n",
       "      <td>16</td>\n",
       "      <td>21</td>\n",
       "      <td>0</td>\n",
       "    </tr>\n",
       "    <tr>\n",
       "      <th>4</th>\n",
       "      <td>0</td>\n",
       "      <td>137</td>\n",
       "      <td>40</td>\n",
       "      <td>35</td>\n",
       "      <td>168</td>\n",
       "      <td>43</td>\n",
       "      <td>228</td>\n",
       "      <td>33</td>\n",
       "      <td>1</td>\n",
       "    </tr>\n",
       "  </tbody>\n",
       "</table>\n",
       "</div>"
      ],
      "text/plain": [
       "   Pregnancies  Glucose  BloodPressure  SkinThickness  Insulin  BMI  \\\n",
       "0            6      148             72             35        0   33   \n",
       "1            1       85             66             29        0   26   \n",
       "2            8      183             64              0        0   23   \n",
       "3            1       89             66             23       94   28   \n",
       "4            0      137             40             35      168   43   \n",
       "\n",
       "   DiabetesPedigreeFunction  Age  Outcome  \n",
       "0                        62   50        1  \n",
       "1                        35   31        0  \n",
       "2                        67   32        1  \n",
       "3                        16   21        0  \n",
       "4                       228   33        1  "
      ]
     },
     "execution_count": 85,
     "metadata": {},
     "output_type": "execute_result"
    }
   ],
   "source": [
    "df = pd.read_csv('diabetes.csv',sep = ',')\n",
    "df['DiabetesPedigreeFunction'] = df['DiabetesPedigreeFunction']*100\n",
    "df.DiabetesPedigreeFunction = df.DiabetesPedigreeFunction.astype(int)\n",
    "df.BMI = df.BMI.astype(int) \n",
    "df.head()"
   ]
  },
  {
   "cell_type": "code",
   "execution_count": 88,
   "id": "bright-poetry",
   "metadata": {},
   "outputs": [],
   "source": [
    "dataset = df.to_numpy()\n",
    "X_train_num = dataset[:500,0:8]\n",
    "X_test_num = dataset[500:,0:8]\n",
    "y_train_num = dataset[:500,8]\n",
    "y_test_num = dataset[500:,8]"
   ]
  },
  {
   "cell_type": "code",
   "execution_count": 89,
   "id": "spread-bristol",
   "metadata": {},
   "outputs": [],
   "source": [
    "X_train_den = np.full(X_train_num.shape, 1) \n",
    "X_test_den = np.full(X_test_num.shape, 1) \n",
    "y_train_den = np.full(len(y_train_num),1)\n",
    "y_test_den = np.full(len(y_test_num),1)"
   ]
  },
  {
   "cell_type": "code",
   "execution_count": 90,
   "id": "relative-consortium",
   "metadata": {},
   "outputs": [],
   "source": [
    "X_train_den[:,6] = X_train_den[:,6]*100"
   ]
  },
  {
   "cell_type": "code",
   "execution_count": 91,
   "id": "buried-hebrew",
   "metadata": {},
   "outputs": [
    {
     "data": {
      "text/plain": [
       "array([[  1,   1,   1, ...,   1, 100,   1],\n",
       "       [  1,   1,   1, ...,   1, 100,   1],\n",
       "       [  1,   1,   1, ...,   1, 100,   1],\n",
       "       ...,\n",
       "       [  1,   1,   1, ...,   1, 100,   1],\n",
       "       [  1,   1,   1, ...,   1, 100,   1],\n",
       "       [  1,   1,   1, ...,   1, 100,   1]])"
      ]
     },
     "execution_count": 91,
     "metadata": {},
     "output_type": "execute_result"
    }
   ],
   "source": [
    "X_train_den"
   ]
  },
  {
   "cell_type": "code",
   "execution_count": 92,
   "id": "fifteen-genome",
   "metadata": {},
   "outputs": [],
   "source": [
    "#shortening numners \n",
    "def shorter(c,d):\n",
    "    c = int(c)\n",
    "    d = int(d)\n",
    "    if(c<0):\n",
    "        n = c*(-1)\n",
    "        if(len(str(n))==len(str(d)) and len(str(n))>3):      \n",
    "            a = f\"{n:.0f}\"\n",
    "            a = str(a[:-3])\n",
    "            a = int(a)*(-1)\n",
    "            b = f\"{d:.0f}\"\n",
    "            b = str(b[:-3])\n",
    "            b = int(b)\n",
    "        elif(len(str(n))>=3 and len(str(d))>=3):\n",
    "            a = f\"{n:.0f}\"\n",
    "            a = str(a)\n",
    "            b = f\"{d:.0f}\"\n",
    "            b = str(b)\n",
    "            if(len(str(a))<len(str(b))):\n",
    "                s = len(str(a))-2\n",
    "            else:\n",
    "                s = len(str(b))-2\n",
    "            a = int(a[:-s])\n",
    "            b = int(b[:-s])\n",
    "            a = a*-1 \n",
    "        else:\n",
    "            a = int(n*-1)\n",
    "            b = d\n",
    "    elif(len(str(c))==len(str(d)) and len(str(c))>3):      \n",
    "            a = f\"{c:.0f}\"\n",
    "            a = str(a[:-2])\n",
    "            a = int(a)\n",
    "            b = f\"{d:.0f}\"\n",
    "            b = str(b[:-2])\n",
    "            b = int(b)\n",
    "#     elif(len(str(c))==1 and len(str(d))>3):\n",
    "#         a = int(0)\n",
    "#         b = int(1)\n",
    "    elif(len(str(c))>3 and len(str(d))>3):\n",
    "            a = f\"{c:.0f}\"\n",
    "            a = str(a)\n",
    "            b = f\"{d:.0f}\"\n",
    "            b = str(b)\n",
    "            if(len(str(a))<len(str(b))):\n",
    "                s = len(str(a))-3\n",
    "            else:\n",
    "                s = len(str(b))-3\n",
    "            a = int(a[:-s])\n",
    "            b = int(b[:-s])\n",
    "    else:\n",
    "        a = c\n",
    "        b = d\n",
    "    return a,b"
   ]
  },
  {
   "cell_type": "code",
   "execution_count": 93,
   "id": "boring-overview",
   "metadata": {},
   "outputs": [],
   "source": [
    "#condensed function multiply and add matrix with numerator and denominator one row at a time\n",
    "# Python Program to find the L.C.M. of two input number\n",
    "from math import gcd\n",
    "def compute_lcm(x, y):\n",
    "   # choose the greater number \n",
    "    if (x > y):\n",
    "        greater = x\n",
    "    else:\n",
    "        greater = y\n",
    "    while(True):\n",
    "        if(x==0):\n",
    "            lcm = y\n",
    "            break\n",
    "        elif(y==0):\n",
    "            lcm = x\n",
    "            break\n",
    "        elif((greater % x == 0) and (greater % y == 0)):\n",
    "            lcm = greater\n",
    "            break\n",
    "        greater += 1\n",
    "    return lcm\n",
    " \n",
    "#Subtracting 2 numbers of the form a/b -c/d\n",
    "def subtraction(a,b,c,d):\n",
    "    den = compute_lcm(b,d)\n",
    "    if b ==0:\n",
    "        num = c ; den = d\n",
    "    elif d==0:\n",
    "        num= a ; den = b\n",
    "    else:    \n",
    "        num = ((den/b)*a) - ((den/d)*c)\n",
    "    return num,den\n",
    "\n",
    "#adding array of elements of the form x/y\n",
    "def add_array(a_num,a_den):\n",
    "    #will work for an int array of any length\n",
    "    lcm = 1;sum1 =0\n",
    "    for i in a_den:\n",
    "        lcm = int(lcm*i/gcd(lcm, i))\n",
    "#     print(\"lcm is \",lcm)\n",
    "    for i in range(len(a_num)):\n",
    "        sum1 = sum1 + (a_num[i]*(a_den[i]/lcm))\n",
    "    return sum1,lcm\n",
    "\n",
    "#adding two numbers of the form a/b + c/d\n",
    "def addition(a,b,c,d):\n",
    "    den = compute_lcm(b,d)\n",
    "    if b ==0:\n",
    "        num = c ; den = d\n",
    "    elif d==0:\n",
    "        num= a ; den = b\n",
    "    else:    \n",
    "        num = ((den/b)*a) + ((den/d)*c)\n",
    "    return int(num),int(den)\n",
    "\n",
    "#multiplying two arrays of fraction and adding them  for row by column multiplication\n",
    "def multiply(a_num,a_den,b_num, b_den):\n",
    "#     print(type(a_num))\n",
    "    z_num = np.zeros(len(a_num)).astype(int)\n",
    "    z_den = np.zeros(len(a_den)).astype(int)\n",
    "#     print(\"printing anum,aden,bnum,bden\",a_num,a_den,b_num,b_den)                                   \n",
    "    for i in range(len(a_num)):\n",
    "        z_num[i]=(a_num[i]*b_num[i])     \n",
    "        z_den[i]=(a_den[i]*b_den[i])\n",
    "    \n",
    "    x = z_num.tolist()\n",
    "    y = z_den.tolist()\n",
    "#     print(\"Printing z_num and z_den\", x , y )\n",
    "    num,den = add_array(x,y)\n",
    "#     print(\"multiplication results is\",num,den) \n",
    "    return num,den\n",
    "    "
   ]
  },
  {
   "cell_type": "code",
   "execution_count": 94,
   "id": "original-luther",
   "metadata": {},
   "outputs": [],
   "source": [
    "#claculate y_hat =wx+b | x is in the form a single array and w is in the form of array too\n",
    "# need toc hange w into wnum and wden\n",
    "def y_hat(w_num,w_den,x_n,x_d,bnum, bden):\n",
    "    temp_n, temp_d = multiply(x_n,x_d,w_num,w_den)\n",
    "#         print(\"printing temporary values\",temp_n,temp_d)\n",
    "    y_hat_num,y_hat_den = addition( temp_n, temp_d,bnum,bden)\n",
    "    y_hat_num,y_hat_den = shorter(y_hat_num,y_hat_den)   #trying this\n",
    "#     print(\"y_hat values for this iterationsa are\",y_hat_num,y_hat_den)\n",
    "    return y_hat_num,y_hat_den"
   ]
  },
  {
   "cell_type": "code",
   "execution_count": 133,
   "id": "flush-import",
   "metadata": {},
   "outputs": [],
   "source": [
    "# taylor series works when x<1\n",
    "# Assumption based on values of x\n",
    "# need to check the bwlow formulas of taylor series one more time\n",
    "# x and y are numerator and denominator\n",
    "def sigmoidfrac(x,y):\n",
    "    if(x/y>=10):\n",
    "        num = 1; den = 1\n",
    "    elif((x/y)>=9 and (x/y)<10):\n",
    "        num = 99988; den = 100000\n",
    "    elif((x/y)>=8 and (x/y)<9):\n",
    "        num = 99966; den = 100000\n",
    "    elif((x/y)>=7 and (x/y)<8):\n",
    "        num = 99909; den = 100000\n",
    "    elif((x/y)>=6 and (x/y)<7):\n",
    "        num = 99753; den = 100000\n",
    "    elif((x/y)>=5 and (x/y)<6):\n",
    "        num = 99331; den = 100000\n",
    "    elif((x/y)>=1 and (x/y)<5):\n",
    "        q = int(x/y) \n",
    "        r = x%y\n",
    "        num= pow(19,q)*24*pow(y,4)\n",
    "        den= pow(19,q)*24*pow(y,4)+pow(7,q)*(24*pow(y,4)-24*r*pow(y,3)+12*pow(r,2)*pow(y,2)-4*y*pow(r,3)+pow(r,4))    \n",
    "    elif(x/y>-1 and x/y<1):\n",
    "        num= 24*pow(y,4)\n",
    "        den= 48*pow(y,4)-24*x*pow(y,3)+12*pow(x,2)*pow(y,2)-4*y*pow(x,3)+pow(x,4)   \n",
    "    elif(x/y>-6 and x/y<=-1):\n",
    "        q = int(x/y) \n",
    "        r = x%y\n",
    "        num = 24*pow(y,4)*pow(7,-q)\n",
    "        den = 24*pow(y,4)*pow(7,-q)+pow(19,-q)*(24*pow(y,4)+24*r*pow(y,3)+12*pow(r,2)*pow(y,2)+4*y*pow(r,3)+pow(r,4))\n",
    "    elif(x/y>-7 and x/y<=-6):\n",
    "        num =15; den= 10000 \n",
    "    elif(x/y>-8 and x/y<=-7):\n",
    "        num =6; den = 10000     \n",
    "    elif(x/y>-9 and x/y<=-8):\n",
    "        num =2; den = 10000 \n",
    "    elif(x/y>-10 and x/y<=-9):\n",
    "         num = 7; den = 100000\n",
    "    elif(x/y<=-10):\n",
    "         num = 0 ; den =1\n",
    "    return num,den"
   ]
  },
  {
   "cell_type": "code",
   "execution_count": 117,
   "id": "tight-proportion",
   "metadata": {},
   "outputs": [],
   "source": [
    "#calculating mean square values\n",
    "def mse(y_hat_num,y_hat_den,y_num,y_den):\n",
    "    num=0;den =0\n",
    "    for i in range(len(y_hat_num)):\n",
    "        num1,den1=subtraction(y_num[i],y_den[i],y_hat_num[i],y_hat_den[i])\n",
    "        num1 = num1*num1\n",
    "        den1 = den1*den1\n",
    "        num,den = addition(num,den,num1,den1)\n",
    "    den = den * len(y_den)\n",
    "#     print(num,den)\n",
    "    return num,den"
   ]
  },
  {
   "cell_type": "code",
   "execution_count": 156,
   "id": "informational-suspension",
   "metadata": {},
   "outputs": [],
   "source": [
    "#calculating subtraction of Y_hat Y\n",
    "# getting error \n",
    "def y_hat_substraction(y_hat_num,y_hat_den,y_num,y_den):\n",
    "    y_diffn =np.zeros(y_hat_num.shape[0])\n",
    "    y_diffd =np.zeros(y_hat_num.shape[0])\n",
    "    for i in range(len(y_hat_num)):\n",
    "        y_diffn[i],y_diffd[i] = subtraction(y_hat_num[i],y_hat_den[i], y_num[i], y_den[i])\n",
    "    return y_diffn,y_diffd\n",
    "\n"
   ]
  },
  {
   "cell_type": "code",
   "execution_count": 119,
   "id": "continental-infrared",
   "metadata": {},
   "outputs": [],
   "source": [
    "# get sigmoid derivative\n",
    "# define derivative of numerator and denominator\n",
    "def sigmoid_derivative(x,y):\n",
    "    num = x*y-pow(x,2)\n",
    "    den = pow(y,2)\n",
    "    return num,den"
   ]
  },
  {
   "cell_type": "code",
   "execution_count": 172,
   "id": "knowing-tension",
   "metadata": {},
   "outputs": [],
   "source": [
    "#multiply error and sigmoid derivative\n",
    "# this is useful for calcualting delta b and updating bias\n",
    "def delta_b(sign, sigd, errorn, errord):\n",
    "    delta_bn = np.zeros(len(sign))\n",
    "    delta_bd = np.zeros(len(sign))\n",
    "    for i in range(len(delta_bn)):\n",
    "        delta_bn[i] = sign[i]* errorn[i]\n",
    "        delta_bd[i] = sigd[i]* errord[i]\n",
    "    return delta_bn, delta_bd"
   ]
  },
  {
   "cell_type": "code",
   "execution_count": 178,
   "id": "reasonable-grass",
   "metadata": {},
   "outputs": [],
   "source": [
    "# multiply error and sigmoid and input, \n",
    "# this will give us a delta w for calculating new weights\n",
    "def delta_w(inputn, inputd, delbn,delbd):\n",
    "    inputn = inputn.T\n",
    "    inputd = inputd.T\n",
    "    delw_n = np.zeros(inputn.shape[0])\n",
    "    delw_d = np.zeros(inputd.shape[0])\n",
    "    temp_n = np.zeros(inputn.shape[1])\n",
    "    temp_d = np.zeros(inputd.shape[1])\n",
    "    print(inputn.shape)\n",
    "    print(delbn.shape)\n",
    "    for i in range(inputn.shape[0]):\n",
    "        delw_n[i], delw_d[i] = multiply(inputn[i], inputd[i], delbn, delbd)\n",
    "    return delw_n, delw_d"
   ]
  },
  {
   "cell_type": "code",
   "execution_count": 180,
   "id": "golden-browse",
   "metadata": {},
   "outputs": [],
   "source": [
    "# get new weights and biases\n",
    "def get_new_weights(lrn, lrd, dw_num,dw_den,w_num,w_den): \n",
    "    for i in range(len(dw_num)):\n",
    "        dw_num[i]= dw_num[i]*lrn\n",
    "        dw_den[i]= dw_den[i]*lrd\n",
    "    for i in range(len(dw_num)):\n",
    "        w_num[i],w_den[i] = subtraction(w_num[i],w_den[i],dw_num[i],dw_den[i]) \n",
    "    return w_num, w_den\n",
    "    "
   ]
  },
  {
   "cell_type": "code",
   "execution_count": 193,
   "id": "expired-welsh",
   "metadata": {},
   "outputs": [],
   "source": [
    "def get_new_bias(lrn, lrd, delb_num, delb_den,bnum, bden ):\n",
    "   \n",
    "    for i in range(len(sigdern)):\n",
    "        bt_num = lrn * delb_num[i]\n",
    "        bt_den = lrd * delb_den[i] \n",
    "        bnum,bden = subtraction(bnum,bden,bt_num,bt_den,)\n",
    "    return bnum,bden "
   ]
  },
  {
   "cell_type": "code",
   "execution_count": 124,
   "id": "smooth-filling",
   "metadata": {},
   "outputs": [],
   "source": [
    "#normalize weights and bias\n",
    "def normalize_weights_bias(wnum,wden, bnum,bden):\n",
    "    wn_num = np.zeros(10) \n",
    "    wn_den = np.zeros(10)\n",
    "    for i in range (len(wf_num)):\n",
    "        wn_num[i] = int((wnum[i]/wden[i]) * 100)\n",
    "        wn_den[i] = 100\n",
    "    bnum = int(bnum/bden * 100)\n",
    "    bden = 100\n",
    "    \n",
    "#     print(\"Normalizing weights and biases\",wn_num,wn_den, bnum, bden)\n",
    "    return wn_num, wn_den,bnum, bden"
   ]
  },
  {
   "cell_type": "code",
   "execution_count": 125,
   "id": "roman-horizon",
   "metadata": {},
   "outputs": [],
   "source": [
    "wnum = np.ones(10)\n",
    "wden = np.ones(10)\n",
    "bnum =1\n",
    "bden =1\n",
    "lr = [1,100]"
   ]
  },
  {
   "cell_type": "code",
   "execution_count": 126,
   "id": "capital-arnold",
   "metadata": {},
   "outputs": [
    {
     "data": {
      "text/plain": [
       "array([  6, 148,  72,  35,   0,  33,  62,  50], dtype=int64)"
      ]
     },
     "execution_count": 126,
     "metadata": {},
     "output_type": "execute_result"
    }
   ],
   "source": [
    "X_train_num[0]\n"
   ]
  },
  {
   "cell_type": "code",
   "execution_count": 144,
   "id": "reduced-moral",
   "metadata": {},
   "outputs": [],
   "source": [
    "# get yhat\n",
    "yh_n =np.zeros(len(y_train_num))\n",
    "yh_d =np.zeros(len(y_train_num))\n",
    "for i in range (X_train_num.shape[0]):\n",
    "    xn = X_train_num[i]\n",
    "    xd = X_train_den[i]\n",
    "    yh_n[i],yh_d[i]= y_hat(wnum,wden,xn,xd,bnum,bden)\n",
    "# print(yh_n, yh_d)"
   ]
  },
  {
   "cell_type": "code",
   "execution_count": 145,
   "id": "unlimited-procedure",
   "metadata": {},
   "outputs": [],
   "source": [
    "# get sigmoid \n",
    "sign = np.zeros(len(yh_n))\n",
    "sigd = np.zeros(len(yh_d))\n",
    "for i in range(len(yh_n)):\n",
    "    sign[i], sigd[i] = sigmoidfrac(yh_n[i], yh_d[i])\n",
    "    sign[i] = int(sign[i]/sigd[i]*1000)\n",
    "    sigd[i] = 1000\n",
    "# print(sign,sigd)"
   ]
  },
  {
   "cell_type": "code",
   "execution_count": 146,
   "id": "serial-category",
   "metadata": {},
   "outputs": [
    {
     "name": "stdout",
     "output_type": "stream",
     "text": [
      "213575416 500000000\n"
     ]
    }
   ],
   "source": [
    "# get mean square error\n",
    "msen,msed = mse(sign, sigd, y_train_num, y_train_den)\n",
    "print(msen,msed)"
   ]
  },
  {
   "cell_type": "code",
   "execution_count": 157,
   "id": "dental-border",
   "metadata": {},
   "outputs": [],
   "source": [
    "# get subtractino of sigmoid and labels\n",
    "ydifn = np.zeros(len(y_train_num))\n",
    "ydifd = np.zeros(len(y_train_num))\n",
    "ydifn, ydifd = y_hat_substraction(sign,sigd,y_train_num,y_train_den)"
   ]
  },
  {
   "cell_type": "code",
   "execution_count": 159,
   "id": "threaded-pocket",
   "metadata": {},
   "outputs": [],
   "source": [
    "# print(ydifn, ydifd)"
   ]
  },
  {
   "cell_type": "code",
   "execution_count": 161,
   "id": "domestic-tract",
   "metadata": {},
   "outputs": [],
   "source": [
    "# get sigmoid derivative\n",
    "sigdern = np.zeros(len(ydifn))\n",
    "sigderd = np.zeros(len(ydifd))\n",
    "for i in range(len(sigdern)):\n",
    "    sigdern[i],sigderd[i] = sigmoid_derivative(sign[i],sigd[i])\n",
    "\n"
   ]
  },
  {
   "cell_type": "code",
   "execution_count": 173,
   "id": "south-colon",
   "metadata": {},
   "outputs": [],
   "source": [
    "# multiply error and sig derivative\n",
    "delta_bn, delta_bd = delta_b(sign, sigd, ydifn, ydifd)  "
   ]
  },
  {
   "cell_type": "code",
   "execution_count": 174,
   "id": "partial-norway",
   "metadata": {},
   "outputs": [
    {
     "name": "stdout",
     "output_type": "stream",
     "text": [
      "500\n"
     ]
    }
   ],
   "source": [
    "print(len(delta_bn))"
   ]
  },
  {
   "cell_type": "code",
   "execution_count": 179,
   "id": "headed-gateway",
   "metadata": {},
   "outputs": [
    {
     "name": "stdout",
     "output_type": "stream",
     "text": [
      "(8, 500)\n",
      "(500,)\n"
     ]
    }
   ],
   "source": [
    "# get delta w by multiplying sig derivative with inputs\n",
    "delta_wn, delta_wd = delta_w(X_train_num, X_train_den, delta_bn,delta_bd)"
   ]
  },
  {
   "cell_type": "code",
   "execution_count": 183,
   "id": "foster-ballet",
   "metadata": {},
   "outputs": [],
   "source": [
    "lrn =1\n",
    "lrd =100"
   ]
  },
  {
   "cell_type": "code",
   "execution_count": 209,
   "id": "focused-graduate",
   "metadata": {},
   "outputs": [],
   "source": [
    "wnum, wden = get_new_weights(lrn,lrd,delta_wn,delta_wd,wnum,wden)"
   ]
  },
  {
   "cell_type": "code",
   "execution_count": 210,
   "id": "operational-proceeding",
   "metadata": {},
   "outputs": [
    {
     "name": "stdout",
     "output_type": "stream",
     "text": [
      "[-5.05443093e+10 -1.94937467e+12 -1.24235690e+12 -3.63638155e+11\n",
      " -1.23224253e+12 -5.25261786e+11 -8.41778298e+09 -5.55564675e+11\n",
      "  1.00000000e+02  1.00000000e+02] [1.e+12 1.e+12 1.e+12 1.e+12 1.e+12 1.e+12 1.e+14 1.e+12 1.e+02 1.e+02]\n"
     ]
    }
   ],
   "source": [
    "print(wnum, wden)"
   ]
  },
  {
   "cell_type": "code",
   "execution_count": 204,
   "id": "mobile-hanging",
   "metadata": {},
   "outputs": [],
   "source": [
    "bn, bd = get_new_bias(lrn,lrd, delta_bn, delta_bd,bnum,bden)"
   ]
  },
  {
   "cell_type": "code",
   "execution_count": 205,
   "id": "important-shoot",
   "metadata": {},
   "outputs": [
    {
     "name": "stdout",
     "output_type": "stream",
     "text": [
      "-81608416.0 100000000.0\n"
     ]
    }
   ],
   "source": [
    "print(bn,bd)"
   ]
  },
  {
   "cell_type": "code",
   "execution_count": 206,
   "id": "seeing-queensland",
   "metadata": {},
   "outputs": [],
   "source": [
    "for i in range(len(wnum)):\n",
    "    wnum[i]= int(wnum[i]/wden[i]*100)\n",
    "    wden[i]= 100"
   ]
  },
  {
   "cell_type": "code",
   "execution_count": 207,
   "id": "wicked-joint",
   "metadata": {},
   "outputs": [
    {
     "name": "stdout",
     "output_type": "stream",
     "text": [
      "[  -5. -193. -123.  -36. -122.  -52.    0.  -55.  100.  100.] [100. 100. 100. 100. 100. 100. 100. 100. 100. 100.]\n"
     ]
    }
   ],
   "source": [
    "print(wnum,wden)"
   ]
  },
  {
   "cell_type": "code",
   "execution_count": null,
   "id": "wrapped-trademark",
   "metadata": {},
   "outputs": [],
   "source": []
  }
 ],
 "metadata": {
  "kernelspec": {
   "display_name": "Python 3",
   "language": "python",
   "name": "python3"
  },
  "language_info": {
   "codemirror_mode": {
    "name": "ipython",
    "version": 3
   },
   "file_extension": ".py",
   "mimetype": "text/x-python",
   "name": "python",
   "nbconvert_exporter": "python",
   "pygments_lexer": "ipython3",
   "version": "3.9.2"
  }
 },
 "nbformat": 4,
 "nbformat_minor": 5
}
