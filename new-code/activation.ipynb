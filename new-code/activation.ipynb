{
 "cells": [
  {
   "cell_type": "code",
   "execution_count": 8,
   "id": "vertical-ecology",
   "metadata": {},
   "outputs": [],
   "source": [
    "import sys\n",
    "import math"
   ]
  },
  {
   "cell_type": "code",
   "execution_count": 9,
   "id": "usual-reach",
   "metadata": {},
   "outputs": [],
   "source": [
    "# taylor series works when x<1\n",
    "# Assumption based on values of x\n",
    "# need to check the bwlow formulas of taylor series one more time\n",
    "# x and y are numerator and denominator\n",
    "\n",
    "# def sigmoidfrac(x,y):\n",
    "#     if(x//y>=10):\n",
    "#         num = 1; den = 1\n",
    "#     elif((x//y)>=9 and (x//y)<10):\n",
    "#         num = 99988; den = 100000\n",
    "#     elif((x//y)>=8 and (x//y)<9):\n",
    "#         num = 99966; den = 100000\n",
    "#     elif((x//y)>=7 and (x//y)<8):\n",
    "#         num = 99909; den = 100000\n",
    "#     elif((x//y)>=6 and (x//y)<7):\n",
    "#         num = 99753; den = 100000\n",
    "#     elif((x//y)>=5 and (x//y)<6):\n",
    "#         num = 99331; den = 100000\n",
    "#     elif((x//y)>=1 and (x//y)<5):\n",
    "#         print(\"executing this part as the number is  less than 5 and greater than 1\", x//y)\n",
    "#         q = int(x//y) \n",
    "#         r = x%y\n",
    "#         print(\"value of q and r are\", q, r )\n",
    "#         num= pow(19,q)*24*pow(y,4)\n",
    "#         den= pow(19,q)*24*pow(y,4)+pow(7,q)*(24*pow(y,4)-24*r*pow(y,3)+12*pow(r,2)*pow(y,2)-4*y*pow(r,3)+pow(r,4))    \n",
    "#     elif(x/y>-1 and x/y<1):\n",
    "#         print(\"executing this part as the number is  less than 1 and greater than -1\",x/y)\n",
    "#         num= 24*pow(y,4)\n",
    "#         den= 48*pow(y,4)-24*x*pow(y,3)+12*pow(x,2)*pow(y,2)-4*y*pow(x,3)+pow(x,4)   \n",
    "#     elif(x//y>-6 and x//y<=-1):\n",
    "#         print(\"executing this part as the number is  less than -1 and greater than -6\",x//y)\n",
    "#         q = int(x//y) \n",
    "#         r = x%y\n",
    "#         print(\"value of q and r are\", q, r )\n",
    "#         num = 24*pow(y,4)*pow(7,-q)\n",
    "#         den = 24*pow(y,4)*pow(7,-q)+pow(19,-q)*(24*pow(y,4)+24*r*pow(y,3)+12*pow(r,2)*pow(y,2)+4*y*pow(r,3)+pow(r,4))\n",
    "#     elif(x//y>-7 and x//y<=-6):\n",
    "#         num =15; den= 10000 \n",
    "#     elif(x//y>-8 and x//y<=-7):\n",
    "#         num =6; den = 10000     \n",
    "#     elif(x//y>-9 and x//y<=-8):\n",
    "#         num =2; den = 10000 \n",
    "#     elif(x//y>-10 and x//y<=-9):\n",
    "#          num = 7; den = 100000\n",
    "#     elif(x//y<=-10):\n",
    "#          num = 0 ; den =1\n",
    "#     print(\" num and den are {0} {1}\". format (num, den) )\n",
    "#     print(num/den)\n",
    "# #     return num,den"
   ]
  },
  {
   "cell_type": "code",
   "execution_count": 11,
   "id": "outer-czech",
   "metadata": {},
   "outputs": [],
   "source": [
    "#testing sigmoid by making all the variables positive due to requirement of solidity\n",
    "def sigmoidfrac(x,y):\n",
    "    if(x//y>=10):\n",
    "        num = 1; den = 1\n",
    "    elif((x//y)>=9 and (x//y)<10):\n",
    "        num = 99988; den = 100000\n",
    "    elif((x//y)>=8 and (x//y)<9):\n",
    "        num = 99966; den = 100000\n",
    "    elif((x//y)>=7 and (x//y)<8):\n",
    "        num = 99909; den = 100000\n",
    "    elif((x//y)>=6 and (x//y)<7):\n",
    "        num = 99753; den = 100000\n",
    "    elif((x//y)>=5 and (x//y)<6):\n",
    "        num = 99331; den = 100000\n",
    "    elif((x//y)>=1 and (x//y)<5):\n",
    "        print(\"executing this part as the number is  less than 5 and greater than 1\", x//y)\n",
    "        q = int(x//y) \n",
    "        r = x%y\n",
    "        print(\"value of q and r are\", q, r )\n",
    "        num= pow(19,q)*24*pow(y,4)\n",
    "        den= pow(19,q)*24*pow(y,4)+pow(7,q)*(24*pow(y,4)-24*r*pow(y,3)+12*pow(r,2)*pow(y,2)-4*y*pow(r,3)+pow(r,4))    \n",
    "    elif(x/y>-1 and x/y<1):\n",
    "        print(\"executing this part as the number is  less than 1 and greater than -1\",x/y)\n",
    "        num= 24*pow(y,4)\n",
    "        den= 48*pow(y,4)-24*x*pow(y,3)+12*pow(x,2)*pow(y,2)-4*y*pow(x,3)+pow(x,4)   \n",
    "    elif(x//y>-6 and x//y<=-1):\n",
    "        print(\"executing this part as the number is  less than or equals to -1 and greater than -6\",x//y)\n",
    "        q = math.ceil(x/y) \n",
    "        r = x-(q*y)\n",
    "        print(\"value of r is \", r)\n",
    "        print(\"value of q is \", q)\n",
    "        q = q*(-1)\n",
    "        r = r*(-1)\n",
    "        print(\"value of q and r are\", q, r )\n",
    "        num = 24*pow(y,4)*pow(7,q)\n",
    "        den = 24*pow(y,4)*pow(7,q)+(24*pow(y,4)+24*r*pow(y,3)+12*pow(r,2)*pow(y,2)+4*y*pow(r,3)+pow(r,4))*pow(19,q)\n",
    "    elif(x//y>-7 and x//y<=-6):\n",
    "        num =15; den= 10000 \n",
    "    elif(x//y>-8 and x//y<=-7):\n",
    "        num =6; den = 10000     \n",
    "    elif(x//y>-9 and x//y<=-8):\n",
    "        num =2; den = 10000 \n",
    "    elif(x//y>-10 and x//y<=-9):\n",
    "         num = 7; den = 100000\n",
    "    elif(x//y<=-10):\n",
    "         num = 0 ; den =1\n",
    "    print(\" num and den are {0} {1}\". format (num, den) )\n",
    "    print(num/den)\n",
    "#     return num,den"
   ]
  },
  {
   "cell_type": "code",
   "execution_count": 12,
   "id": "ignored-examination",
   "metadata": {},
   "outputs": [],
   "source": [
    "import math\n",
    "import numpy as np\n",
    "def sigmoid(x,y):\n",
    "    sig = 1 / (1 + math.exp(-x/y))\n",
    "    print(sig)\n",
    "#     return sig"
   ]
  },
  {
   "cell_type": "code",
   "execution_count": 13,
   "id": "positive-headset",
   "metadata": {},
   "outputs": [],
   "source": [
    "a = np.array([-1,-10,-100,-43,-100])\n",
    "b = np.array([10000,1000,100,10,1])"
   ]
  },
  {
   "cell_type": "code",
   "execution_count": 14,
   "id": "overall-dressing",
   "metadata": {},
   "outputs": [
    {
     "name": "stdout",
     "output_type": "stream",
     "text": [
      "0.4999750000000208\n",
      "0.49750002083312506\n",
      "0.2689414213699951\n",
      "0.013386917827664779\n",
      "3.7200759760208356e-44\n"
     ]
    }
   ],
   "source": [
    "for i in range(len(a)):\n",
    "    sigmoid(int(a[i]),int(b[i]))"
   ]
  },
  {
   "cell_type": "code",
   "execution_count": 15,
   "id": "pregnant-mortality",
   "metadata": {},
   "outputs": [
    {
     "name": "stdout",
     "output_type": "stream",
     "text": [
      "values are  -1 10000\n",
      "executing this part as the number is  less than 1 and greater than -1 -0.0001\n",
      " num and den are 240000000000000000 480024001200040001\n",
      "0.4999750000000208\n",
      "values are  -10 1000\n",
      "executing this part as the number is  less than 1 and greater than -1 -0.01\n",
      " num and den are 24000000000000 48241204010000\n",
      "0.4975000208333316\n",
      "values are  -100 100\n",
      "executing this part as the number is  less than or equals to -1 and greater than -6 -1\n",
      "value of r is  0\n",
      "value of q is  -1\n",
      "value of q and r are 1 0\n",
      " num and den are 16800000000 62400000000\n",
      "0.2692307692307692\n",
      "values are  -43 10\n",
      "executing this part as the number is  less than or equals to -1 and greater than -6 -5\n",
      "value of r is  -3\n",
      "value of q is  -4\n",
      "value of q and r are 4 3\n",
      " num and den are 576240000 42795161481\n",
      "0.013465073621835412\n",
      "values are  -100 1\n",
      " num and den are 0 1\n",
      "0.0\n"
     ]
    }
   ],
   "source": [
    "for i in range(len(a)):\n",
    "    print(\"values are \", a[i], b[i])\n",
    "    sigmoidfrac(int(a[i]),int(b[i]))"
   ]
  },
  {
   "cell_type": "code",
   "execution_count": 193,
   "id": "starting-upset",
   "metadata": {},
   "outputs": [
    {
     "name": "stdout",
     "output_type": "stream",
     "text": [
      "executing this part as the number is  less than or equals to -1 and greater than -6 -5\n",
      "value of q and r are -4 -3\n",
      "0.9865347903669546\n"
     ]
    }
   ],
   "source": [
    "x = -43\n",
    "y = 10\n",
    "print(\"executing this part as the number is  less than or equals to -1 and greater than -6\",x//y)\n",
    "q = math.ceil(x/y) \n",
    "r = x-(q*y)\n",
    "print(\"value of q and r are\", q, r )\n",
    "num = 24*pow(y,4)*pow(7,q)\n",
    "den = 24*pow(y,4)*pow(7,q)+pow(19,q)*(24*pow(y,4)+24*r*pow(y,3)+12*pow(r,2)*pow(y,2)+4*y*pow(r,3)+pow(r,4))\n",
    "print(num/den)"
   ]
  },
  {
   "cell_type": "code",
   "execution_count": null,
   "id": "intelligent-terrorism",
   "metadata": {},
   "outputs": [],
   "source": []
  }
 ],
 "metadata": {
  "kernelspec": {
   "display_name": "Python 3",
   "language": "python",
   "name": "python3"
  },
  "language_info": {
   "codemirror_mode": {
    "name": "ipython",
    "version": 3
   },
   "file_extension": ".py",
   "mimetype": "text/x-python",
   "name": "python",
   "nbconvert_exporter": "python",
   "pygments_lexer": "ipython3",
   "version": "3.9.2"
  }
 },
 "nbformat": 4,
 "nbformat_minor": 5
}
