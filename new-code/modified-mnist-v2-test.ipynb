{
 "cells": [
  {
   "cell_type": "code",
   "execution_count": 1,
   "id": "administrative-appreciation",
   "metadata": {},
   "outputs": [],
   "source": [
    "from keras.datasets import mnist\n",
    "import numpy as np \n",
    "(x_train, y_train), (x_test, y_test) = mnist.load_data()"
   ]
  },
  {
   "cell_type": "code",
   "execution_count": 2,
   "id": "pacific-floor",
   "metadata": {},
   "outputs": [
    {
     "name": "stdout",
     "output_type": "stream",
     "text": [
      "Training data shape:  (60000, 28, 28)\n",
      "Test data shape (10000, 28, 28)\n"
     ]
    }
   ],
   "source": [
    "\n",
    "from keras.datasets import mnist\n",
    "\n",
    "# Setup train and test splits\n",
    "(x_train, y_train), (x_test, y_test) = mnist.load_data()\n",
    "print(\"Training data shape: \", x_train.shape) # (60000, 28, 28) -- 60000 images, each 28x28 pixels\n",
    "print(\"Test data shape\", x_test.shape) # (10000, 28, 28) -- 10000 images, each 28x28\n",
    "\n",
    "# Flatten the images\n",
    "image_vector_size = 28*28\n",
    "x_train = x_train.reshape(x_train.shape[0], image_vector_size)\n",
    "x_test = x_test.reshape(x_test.shape[0], image_vector_size)\n",
    "y_orig_test = y_test"
   ]
  },
  {
   "cell_type": "code",
   "execution_count": null,
   "id": "laughing-violin",
   "metadata": {},
   "outputs": [],
   "source": []
  },
  {
   "cell_type": "code",
   "execution_count": 3,
   "id": "overhead-collectible",
   "metadata": {},
   "outputs": [
    {
     "name": "stdout",
     "output_type": "stream",
     "text": [
      "First 5 training lables as one-hot encoded vectors:\n",
      " [[0. 0. 0. 0. 0. 1. 0. 0. 0. 0.]\n",
      " [1. 0. 0. 0. 0. 0. 0. 0. 0. 0.]\n",
      " [0. 0. 0. 0. 1. 0. 0. 0. 0. 0.]\n",
      " [0. 1. 0. 0. 0. 0. 0. 0. 0. 0.]\n",
      " [0. 0. 0. 0. 0. 0. 0. 0. 0. 1.]]\n"
     ]
    },
    {
     "data": {
      "text/plain": [
       "'\\n[[0, 0, 0, 0, 0, 1, 0, 0, 0, 0]\\n [1, 0, 0, 0, 0, 0, 0, 0, 0, 0]\\n [0, 0, 0, 0, 1, 0, 0, 0, 0, 0]\\n [0, 1, 0, 0, 0, 0, 0, 0, 0, 0]\\n [0, 0, 0, 0, 0, 0, 0, 0, 0, 1]]\\n'"
      ]
     },
     "execution_count": 3,
     "metadata": {},
     "output_type": "execute_result"
    }
   ],
   "source": [
    "from tensorflow import keras\n",
    "from keras.datasets import mnist\n",
    "from keras import utils as np_utils\n",
    "\n",
    "# Setup train and test splits\n",
    "# (x_train, y_train), (x_test, y_test) = mnist.load_data()\n",
    "# print(\"Training label shape: \", y_train.shape) # (60000,) -- 60000 numbers (all 0-9)\n",
    "# print(\"First 5 training labels: \", y_train[:5]) # [5, 0, 4, 1, 9]\n",
    "\n",
    "# Convert to \"one-hot\" vectors using the to_categorical function\n",
    "num_classes = 10\n",
    "y_train = keras.utils.to_categorical(y_train, num_classes)\n",
    "y_test = keras.utils.to_categorical(y_test, num_classes)\n",
    "print(\"First 5 training lables as one-hot encoded vectors:\\n\", y_train[:5])\n",
    "\n",
    "# This is the one-hot version of: [5, 0, 4, 1, 9]\n",
    "\"\"\"\n",
    "[[0, 0, 0, 0, 0, 1, 0, 0, 0, 0]\n",
    " [1, 0, 0, 0, 0, 0, 0, 0, 0, 0]\n",
    " [0, 0, 0, 0, 1, 0, 0, 0, 0, 0]\n",
    " [0, 1, 0, 0, 0, 0, 0, 0, 0, 0]\n",
    " [0, 0, 0, 0, 0, 0, 0, 0, 0, 1]]\n",
    "\"\"\""
   ]
  },
  {
   "cell_type": "code",
   "execution_count": 4,
   "id": "applicable-influence",
   "metadata": {},
   "outputs": [
    {
     "name": "stdout",
     "output_type": "stream",
     "text": [
      "Model: \"sequential\"\n",
      "_________________________________________________________________\n",
      " Layer (type)                Output Shape              Param #   \n",
      "=================================================================\n",
      " dense (Dense)               (None, 4)                 3140      \n",
      "                                                                 \n",
      " dense_1 (Dense)             (None, 10)                50        \n",
      "                                                                 \n",
      "=================================================================\n",
      "Total params: 3,190\n",
      "Trainable params: 3,190\n",
      "Non-trainable params: 0\n",
      "_________________________________________________________________\n"
     ]
    },
    {
     "name": "stderr",
     "output_type": "stream",
     "text": [
      "2022-03-20 18:54:50.895168: I tensorflow/core/platform/cpu_feature_guard.cc:151] This TensorFlow binary is optimized with oneAPI Deep Neural Network Library (oneDNN) to use the following CPU instructions in performance-critical operations:  AVX2 FMA\n",
      "To enable them in other operations, rebuild TensorFlow with the appropriate compiler flags.\n"
     ]
    }
   ],
   "source": [
    "import matplotlib.pyplot as plt \n",
    "from keras.layers import Dense # Dense layers are \"fully connected\" layers\n",
    "from keras.models import Sequential # Documentation: https://keras.io/models/sequential/\n",
    "\n",
    "image_size = 784 # 28*28\n",
    "num_classes = 10 # ten unique digits\n",
    "\n",
    "model = Sequential()\n",
    "\n",
    "# The input layer requires the special input_shape parameter which should match\n",
    "# the shape of our training data.\n",
    "model.add(Dense(units=4, activation='sigmoid', input_shape=(image_size,)))\n",
    "model.add(Dense(units=num_classes, activation='softmax'))\n",
    "model.summary()"
   ]
  },
  {
   "cell_type": "code",
   "execution_count": 5,
   "id": "forbidden-interpretation",
   "metadata": {},
   "outputs": [
    {
     "name": "stdout",
     "output_type": "stream",
     "text": [
      "Epoch 1/100\n",
      "422/422 [==============================] - 1s 2ms/step - loss: 2.1991 - acc: 0.2761 - val_loss: 2.0457 - val_acc: 0.3262\n",
      "Epoch 2/100\n",
      "422/422 [==============================] - 1s 2ms/step - loss: 1.9274 - acc: 0.4524 - val_loss: 1.8334 - val_acc: 0.5715\n",
      "Epoch 3/100\n",
      "422/422 [==============================] - 1s 2ms/step - loss: 1.7956 - acc: 0.5556 - val_loss: 1.7067 - val_acc: 0.6315\n",
      "Epoch 4/100\n",
      "422/422 [==============================] - 1s 2ms/step - loss: 1.6968 - acc: 0.5983 - val_loss: 1.6300 - val_acc: 0.6308\n",
      "Epoch 5/100\n",
      "422/422 [==============================] - 1s 2ms/step - loss: 1.6138 - acc: 0.6191 - val_loss: 1.5443 - val_acc: 0.6485\n",
      "Epoch 6/100\n",
      "422/422 [==============================] - 1s 2ms/step - loss: 1.5380 - acc: 0.6343 - val_loss: 1.5073 - val_acc: 0.6442\n",
      "Epoch 7/100\n",
      "422/422 [==============================] - 1s 2ms/step - loss: 1.4773 - acc: 0.6482 - val_loss: 1.4039 - val_acc: 0.7010\n",
      "Epoch 8/100\n",
      "422/422 [==============================] - 1s 2ms/step - loss: 1.4179 - acc: 0.6788 - val_loss: 1.4003 - val_acc: 0.6888\n",
      "Epoch 9/100\n",
      "422/422 [==============================] - 1s 2ms/step - loss: 1.3743 - acc: 0.6803 - val_loss: 1.3216 - val_acc: 0.7102\n",
      "Epoch 10/100\n",
      "422/422 [==============================] - 1s 2ms/step - loss: 1.3223 - acc: 0.6904 - val_loss: 1.2563 - val_acc: 0.7263\n",
      "Epoch 11/100\n",
      "422/422 [==============================] - 1s 2ms/step - loss: 1.2858 - acc: 0.6934 - val_loss: 1.2171 - val_acc: 0.7240\n",
      "Epoch 12/100\n",
      "422/422 [==============================] - 1s 2ms/step - loss: 1.2559 - acc: 0.6955 - val_loss: 1.2018 - val_acc: 0.7230\n",
      "Epoch 13/100\n",
      "422/422 [==============================] - 1s 2ms/step - loss: 1.2292 - acc: 0.6917 - val_loss: 1.1526 - val_acc: 0.7300\n",
      "Epoch 14/100\n",
      "422/422 [==============================] - 1s 2ms/step - loss: 1.1975 - acc: 0.6994 - val_loss: 1.1334 - val_acc: 0.7315\n",
      "Epoch 15/100\n",
      "422/422 [==============================] - 1s 2ms/step - loss: 1.1822 - acc: 0.6991 - val_loss: 1.1069 - val_acc: 0.7413\n",
      "Epoch 16/100\n",
      "422/422 [==============================] - 1s 2ms/step - loss: 1.1608 - acc: 0.7041 - val_loss: 1.0839 - val_acc: 0.7437\n",
      "Epoch 17/100\n",
      "422/422 [==============================] - 1s 2ms/step - loss: 1.1351 - acc: 0.7114 - val_loss: 1.0761 - val_acc: 0.7385\n",
      "Epoch 18/100\n",
      "422/422 [==============================] - 1s 2ms/step - loss: 1.1256 - acc: 0.7105 - val_loss: 1.0511 - val_acc: 0.7440\n",
      "Epoch 19/100\n",
      "422/422 [==============================] - 1s 2ms/step - loss: 1.1240 - acc: 0.7044 - val_loss: 1.0346 - val_acc: 0.7445\n",
      "Epoch 20/100\n",
      "422/422 [==============================] - 1s 2ms/step - loss: 1.0979 - acc: 0.7113 - val_loss: 1.0212 - val_acc: 0.7453\n",
      "Epoch 21/100\n",
      "422/422 [==============================] - 1s 2ms/step - loss: 1.0827 - acc: 0.7122 - val_loss: 1.0269 - val_acc: 0.7420\n",
      "Epoch 22/100\n",
      "422/422 [==============================] - 1s 2ms/step - loss: 1.0767 - acc: 0.7121 - val_loss: 1.0152 - val_acc: 0.7375\n",
      "Epoch 23/100\n",
      "422/422 [==============================] - 1s 2ms/step - loss: 1.0706 - acc: 0.7082 - val_loss: 0.9963 - val_acc: 0.7385\n",
      "Epoch 24/100\n",
      "422/422 [==============================] - 1s 2ms/step - loss: 1.0532 - acc: 0.7156 - val_loss: 0.9833 - val_acc: 0.7472\n",
      "Epoch 25/100\n",
      "422/422 [==============================] - 1s 2ms/step - loss: 1.0537 - acc: 0.7108 - val_loss: 1.0066 - val_acc: 0.7313\n",
      "Epoch 26/100\n",
      "422/422 [==============================] - 1s 2ms/step - loss: 1.0459 - acc: 0.7089 - val_loss: 0.9647 - val_acc: 0.7485\n",
      "Epoch 27/100\n",
      "422/422 [==============================] - 1s 2ms/step - loss: 1.0354 - acc: 0.7134 - val_loss: 0.9639 - val_acc: 0.7510\n",
      "Epoch 28/100\n",
      "422/422 [==============================] - 1s 2ms/step - loss: 1.0279 - acc: 0.7152 - val_loss: 0.9486 - val_acc: 0.7542\n",
      "Epoch 29/100\n",
      "422/422 [==============================] - 1s 2ms/step - loss: 1.0157 - acc: 0.7196 - val_loss: 0.9633 - val_acc: 0.7442\n",
      "Epoch 30/100\n",
      "422/422 [==============================] - 1s 2ms/step - loss: 1.0192 - acc: 0.7152 - val_loss: 1.0042 - val_acc: 0.7227\n",
      "Epoch 31/100\n",
      "422/422 [==============================] - 1s 2ms/step - loss: 1.0150 - acc: 0.7135 - val_loss: 0.9518 - val_acc: 0.7483\n",
      "Epoch 32/100\n",
      "422/422 [==============================] - 1s 2ms/step - loss: 1.0070 - acc: 0.7153 - val_loss: 0.9277 - val_acc: 0.7488\n",
      "Epoch 33/100\n",
      "422/422 [==============================] - 1s 2ms/step - loss: 1.0112 - acc: 0.7094 - val_loss: 0.9440 - val_acc: 0.7375\n",
      "Epoch 34/100\n",
      "422/422 [==============================] - 1s 2ms/step - loss: 0.9986 - acc: 0.7151 - val_loss: 0.9124 - val_acc: 0.7482\n",
      "Epoch 35/100\n",
      "422/422 [==============================] - 1s 2ms/step - loss: 0.9888 - acc: 0.7193 - val_loss: 0.9584 - val_acc: 0.7362\n",
      "Epoch 36/100\n",
      "422/422 [==============================] - 1s 2ms/step - loss: 0.9974 - acc: 0.7163 - val_loss: 0.9321 - val_acc: 0.7445\n",
      "Epoch 37/100\n",
      "422/422 [==============================] - 1s 2ms/step - loss: 1.0036 - acc: 0.7185 - val_loss: 0.9689 - val_acc: 0.7302\n",
      "Epoch 38/100\n",
      "422/422 [==============================] - 1s 2ms/step - loss: 0.9896 - acc: 0.7187 - val_loss: 0.9886 - val_acc: 0.7175\n",
      "Epoch 39/100\n",
      "422/422 [==============================] - 1s 2ms/step - loss: 0.9752 - acc: 0.7216 - val_loss: 0.8955 - val_acc: 0.7503\n",
      "Epoch 40/100\n",
      "422/422 [==============================] - 1s 2ms/step - loss: 0.9752 - acc: 0.7203 - val_loss: 0.8912 - val_acc: 0.7565\n",
      "Epoch 41/100\n",
      "422/422 [==============================] - 1s 2ms/step - loss: 0.9739 - acc: 0.7201 - val_loss: 0.9151 - val_acc: 0.7448\n",
      "Epoch 42/100\n",
      "422/422 [==============================] - 1s 2ms/step - loss: 0.9747 - acc: 0.7198 - val_loss: 0.9059 - val_acc: 0.7487\n",
      "Epoch 43/100\n",
      "422/422 [==============================] - 1s 2ms/step - loss: 0.9642 - acc: 0.7227 - val_loss: 0.8979 - val_acc: 0.7523\n",
      "Epoch 44/100\n",
      "422/422 [==============================] - 1s 2ms/step - loss: 0.9557 - acc: 0.7230 - val_loss: 0.8948 - val_acc: 0.7437\n",
      "Epoch 45/100\n",
      "422/422 [==============================] - 1s 2ms/step - loss: 0.9718 - acc: 0.7201 - val_loss: 0.9102 - val_acc: 0.7517\n",
      "Epoch 46/100\n",
      "422/422 [==============================] - 1s 2ms/step - loss: 0.9622 - acc: 0.7229 - val_loss: 0.8813 - val_acc: 0.7548\n",
      "Epoch 47/100\n",
      "422/422 [==============================] - 1s 2ms/step - loss: 0.9669 - acc: 0.7210 - val_loss: 0.8721 - val_acc: 0.7560\n",
      "Epoch 48/100\n",
      "422/422 [==============================] - 1s 2ms/step - loss: 0.9573 - acc: 0.7220 - val_loss: 0.8734 - val_acc: 0.7490\n",
      "Epoch 49/100\n",
      "422/422 [==============================] - 1s 2ms/step - loss: 0.9750 - acc: 0.7194 - val_loss: 0.9003 - val_acc: 0.7442\n",
      "Epoch 50/100\n",
      "422/422 [==============================] - 1s 2ms/step - loss: 0.9515 - acc: 0.7239 - val_loss: 0.8826 - val_acc: 0.7488\n",
      "Epoch 51/100\n",
      "422/422 [==============================] - 1s 2ms/step - loss: 0.9566 - acc: 0.7211 - val_loss: 0.8727 - val_acc: 0.7527\n",
      "Epoch 52/100\n",
      "422/422 [==============================] - 1s 2ms/step - loss: 0.9551 - acc: 0.7179 - val_loss: 0.8770 - val_acc: 0.7460\n",
      "Epoch 53/100\n",
      "422/422 [==============================] - 1s 2ms/step - loss: 0.9431 - acc: 0.7232 - val_loss: 0.9194 - val_acc: 0.7297\n",
      "Epoch 54/100\n",
      "422/422 [==============================] - 1s 2ms/step - loss: 0.9511 - acc: 0.7190 - val_loss: 0.8690 - val_acc: 0.7548\n",
      "Epoch 55/100\n",
      "422/422 [==============================] - 1s 2ms/step - loss: 0.9326 - acc: 0.7253 - val_loss: 0.8730 - val_acc: 0.7517\n",
      "Epoch 56/100\n",
      "422/422 [==============================] - 1s 2ms/step - loss: 0.9427 - acc: 0.7220 - val_loss: 1.0479 - val_acc: 0.7023\n",
      "Epoch 57/100\n",
      "422/422 [==============================] - 1s 2ms/step - loss: 0.9415 - acc: 0.7247 - val_loss: 0.8679 - val_acc: 0.7532\n",
      "Epoch 58/100\n",
      "422/422 [==============================] - 1s 3ms/step - loss: 0.9374 - acc: 0.7264 - val_loss: 0.8557 - val_acc: 0.7540\n",
      "Epoch 59/100\n",
      "422/422 [==============================] - 1s 2ms/step - loss: 0.9442 - acc: 0.7217 - val_loss: 0.8669 - val_acc: 0.7473\n",
      "Epoch 60/100\n",
      "422/422 [==============================] - 1s 2ms/step - loss: 0.9370 - acc: 0.7207 - val_loss: 0.8496 - val_acc: 0.7560\n",
      "Epoch 61/100\n",
      "422/422 [==============================] - 1s 2ms/step - loss: 0.9190 - acc: 0.7271 - val_loss: 0.8553 - val_acc: 0.7493\n",
      "Epoch 62/100\n"
     ]
    },
    {
     "name": "stdout",
     "output_type": "stream",
     "text": [
      "422/422 [==============================] - 1s 2ms/step - loss: 0.9293 - acc: 0.7249 - val_loss: 0.8788 - val_acc: 0.7523\n",
      "Epoch 63/100\n",
      "422/422 [==============================] - 1s 2ms/step - loss: 0.9327 - acc: 0.7270 - val_loss: 0.8544 - val_acc: 0.7522\n",
      "Epoch 64/100\n",
      "422/422 [==============================] - 1s 2ms/step - loss: 0.9228 - acc: 0.7271 - val_loss: 0.8486 - val_acc: 0.7512\n",
      "Epoch 65/100\n",
      "422/422 [==============================] - 1s 3ms/step - loss: 0.9313 - acc: 0.7228 - val_loss: 0.8846 - val_acc: 0.7402\n",
      "Epoch 66/100\n",
      "422/422 [==============================] - 1s 3ms/step - loss: 0.9334 - acc: 0.7202 - val_loss: 0.8468 - val_acc: 0.7523\n",
      "Epoch 67/100\n",
      "422/422 [==============================] - 1s 2ms/step - loss: 0.9291 - acc: 0.7238 - val_loss: 0.8484 - val_acc: 0.7537\n",
      "Epoch 68/100\n",
      "422/422 [==============================] - 1s 2ms/step - loss: 0.9140 - acc: 0.7283 - val_loss: 0.9443 - val_acc: 0.7265\n",
      "Epoch 69/100\n",
      "422/422 [==============================] - 1s 2ms/step - loss: 0.9349 - acc: 0.7194 - val_loss: 0.8597 - val_acc: 0.7503\n",
      "Epoch 70/100\n",
      "422/422 [==============================] - 1s 2ms/step - loss: 0.9237 - acc: 0.7262 - val_loss: 0.8840 - val_acc: 0.7405\n",
      "Epoch 71/100\n",
      "422/422 [==============================] - 1s 2ms/step - loss: 0.9260 - acc: 0.7228 - val_loss: 0.8530 - val_acc: 0.7498\n",
      "Epoch 72/100\n",
      "422/422 [==============================] - 1s 2ms/step - loss: 0.9196 - acc: 0.7270 - val_loss: 0.8434 - val_acc: 0.7527\n",
      "Epoch 73/100\n",
      "422/422 [==============================] - 1s 2ms/step - loss: 0.9224 - acc: 0.7261 - val_loss: 0.8318 - val_acc: 0.7607\n",
      "Epoch 74/100\n",
      "422/422 [==============================] - 1s 2ms/step - loss: 0.9105 - acc: 0.7283 - val_loss: 0.8560 - val_acc: 0.7572\n",
      "Epoch 75/100\n",
      "422/422 [==============================] - 1s 2ms/step - loss: 0.9217 - acc: 0.7280 - val_loss: 0.8321 - val_acc: 0.7607\n",
      "Epoch 76/100\n",
      "422/422 [==============================] - 1s 2ms/step - loss: 0.9067 - acc: 0.7299 - val_loss: 0.8557 - val_acc: 0.7510\n",
      "Epoch 77/100\n",
      "422/422 [==============================] - 1s 2ms/step - loss: 0.9050 - acc: 0.7306 - val_loss: 0.8933 - val_acc: 0.7370\n",
      "Epoch 78/100\n",
      "422/422 [==============================] - 1s 2ms/step - loss: 0.9191 - acc: 0.7281 - val_loss: 0.8468 - val_acc: 0.7562\n",
      "Epoch 79/100\n",
      "422/422 [==============================] - 1s 2ms/step - loss: 0.9074 - acc: 0.7298 - val_loss: 0.8266 - val_acc: 0.7580\n",
      "Epoch 80/100\n",
      "422/422 [==============================] - 1s 2ms/step - loss: 0.9110 - acc: 0.7298 - val_loss: 0.8539 - val_acc: 0.7558\n",
      "Epoch 81/100\n",
      "422/422 [==============================] - 1s 2ms/step - loss: 0.9065 - acc: 0.7319 - val_loss: 0.8675 - val_acc: 0.7488\n",
      "Epoch 82/100\n",
      "422/422 [==============================] - 1s 2ms/step - loss: 0.9087 - acc: 0.7267 - val_loss: 0.8482 - val_acc: 0.7572\n",
      "Epoch 83/100\n",
      "422/422 [==============================] - 1s 2ms/step - loss: 0.8997 - acc: 0.7333 - val_loss: 0.8749 - val_acc: 0.7487\n",
      "Epoch 84/100\n",
      "422/422 [==============================] - 1s 2ms/step - loss: 0.9129 - acc: 0.7286 - val_loss: 0.8694 - val_acc: 0.7393\n",
      "Epoch 85/100\n",
      "422/422 [==============================] - 1s 2ms/step - loss: 0.9096 - acc: 0.7264 - val_loss: 0.8357 - val_acc: 0.7510\n",
      "Epoch 86/100\n",
      "422/422 [==============================] - 1s 2ms/step - loss: 0.9137 - acc: 0.7237 - val_loss: 0.8119 - val_acc: 0.7602\n",
      "Epoch 87/100\n",
      "422/422 [==============================] - 1s 2ms/step - loss: 0.8977 - acc: 0.7269 - val_loss: 0.8190 - val_acc: 0.7592\n",
      "Epoch 88/100\n",
      "422/422 [==============================] - 1s 2ms/step - loss: 0.9060 - acc: 0.7278 - val_loss: 0.8801 - val_acc: 0.7387\n",
      "Epoch 89/100\n",
      "422/422 [==============================] - 1s 2ms/step - loss: 0.9038 - acc: 0.7271 - val_loss: 0.8216 - val_acc: 0.7562\n",
      "Epoch 90/100\n",
      "422/422 [==============================] - 1s 2ms/step - loss: 0.9090 - acc: 0.7239 - val_loss: 0.8693 - val_acc: 0.7408\n",
      "Epoch 91/100\n",
      "422/422 [==============================] - 1s 2ms/step - loss: 0.9167 - acc: 0.7236 - val_loss: 0.8341 - val_acc: 0.7523\n",
      "Epoch 92/100\n",
      "422/422 [==============================] - 1s 2ms/step - loss: 0.9197 - acc: 0.7217 - val_loss: 0.8110 - val_acc: 0.7598\n",
      "Epoch 93/100\n",
      "422/422 [==============================] - 1s 2ms/step - loss: 0.9066 - acc: 0.7253 - val_loss: 0.8182 - val_acc: 0.7570\n",
      "Epoch 94/100\n",
      "422/422 [==============================] - 1s 2ms/step - loss: 0.9047 - acc: 0.7283 - val_loss: 0.8078 - val_acc: 0.7602\n",
      "Epoch 95/100\n",
      "422/422 [==============================] - 1s 2ms/step - loss: 0.8888 - acc: 0.7321 - val_loss: 0.8516 - val_acc: 0.7462\n",
      "Epoch 96/100\n",
      "422/422 [==============================] - 1s 2ms/step - loss: 0.8970 - acc: 0.7279 - val_loss: 0.8431 - val_acc: 0.7423\n",
      "Epoch 97/100\n",
      "422/422 [==============================] - 1s 2ms/step - loss: 0.8905 - acc: 0.7313 - val_loss: 0.8196 - val_acc: 0.7600\n",
      "Epoch 98/100\n",
      "422/422 [==============================] - 1s 2ms/step - loss: 0.8987 - acc: 0.7305 - val_loss: 0.8209 - val_acc: 0.7635\n",
      "Epoch 99/100\n",
      "422/422 [==============================] - 1s 2ms/step - loss: 0.8921 - acc: 0.7343 - val_loss: 0.8515 - val_acc: 0.7562\n",
      "Epoch 100/100\n",
      "422/422 [==============================] - 1s 2ms/step - loss: 0.9037 - acc: 0.7313 - val_loss: 0.8555 - val_acc: 0.7452\n"
     ]
    },
    {
     "data": {
      "image/png": "[encoded data removed]",
      "text/plain": [
       "<Figure size 432x288 with 1 Axes>"
      ]
     },
     "metadata": {
      "needs_background": "light"
     },
     "output_type": "display_data"
    },
    {
     "name": "stdout",
     "output_type": "stream",
     "text": [
      "Test loss: 0.916\n",
      "Test accuracy: 0.721\n"
     ]
    }
   ],
   "source": [
    "model.compile(optimizer=\"sgd\", loss='categorical_crossentropy', metrics=[\"acc\"])\n",
    "history = model.fit(x_train, y_train, batch_size=128, epochs=100, verbose=True, validation_split=.1)\n",
    "loss, accuracy  = model.evaluate(x_test, y_test, verbose=False)\n",
    "\n",
    "plt.plot(history.history['acc'])\n",
    "plt.plot(history.history['val_acc'])\n",
    "plt.title('model accuracy')\n",
    "plt.ylabel('accuracy')\n",
    "plt.xlabel('epoch')\n",
    "plt.legend(['training', 'validation'], loc='best')\n",
    "plt.show()\n",
    "\n",
    "print(f'Test loss: {loss:.3}')\n",
    "print(f'Test accuracy: {accuracy:.3}')"
   ]
  },
  {
   "cell_type": "code",
   "execution_count": 8,
   "id": "primary-missouri",
   "metadata": {},
   "outputs": [],
   "source": [
    "first_layer_weights = model.layers[0].get_weights()[0]\n",
    "first_layer_biases  = model.layers[0].get_weights()[1]\n",
    "second_layer_weights = model.layers[1].get_weights()[0]\n",
    "second_layer_biases  = model.layers[1].get_weights()[1]"
   ]
  },
  {
   "cell_type": "code",
   "execution_count": 9,
   "id": "silent-queue",
   "metadata": {},
   "outputs": [],
   "source": [
    "fw = (first_layer_weights*1000).astype(int)\n",
    "sw = (second_layer_weights*10).astype(int) \n",
    "fb = first_layer_biases  \n",
    "sb = second_layer_biases"
   ]
  },
  {
   "cell_type": "code",
   "execution_count": null,
   "id": "e0173cb3",
   "metadata": {},
   "outputs": [],
   "source": []
  },
  {
   "cell_type": "code",
   "execution_count": 10,
   "id": "sublime-latin",
   "metadata": {},
   "outputs": [],
   "source": [
    "# fw = first_layer_weights\n",
    "# sw = second_layer_weights\n",
    "# fb = first_layer_biases \n",
    "# sb = second_layer_biases"
   ]
  },
  {
   "cell_type": "code",
   "execution_count": 11,
   "id": "indie-browse",
   "metadata": {},
   "outputs": [
    {
     "data": {
      "text/plain": [
       "(784, 4)"
      ]
     },
     "execution_count": 11,
     "metadata": {},
     "output_type": "execute_result"
    }
   ],
   "source": [
    "fw.shape"
   ]
  },
  {
   "cell_type": "code",
   "execution_count": 12,
   "id": "variable-luxury",
   "metadata": {},
   "outputs": [
    {
     "data": {
      "text/plain": [
       "(4, 10)"
      ]
     },
     "execution_count": 12,
     "metadata": {},
     "output_type": "execute_result"
    }
   ],
   "source": [
    "sw.shape"
   ]
  },
  {
   "cell_type": "code",
   "execution_count": 13,
   "id": "graphic-basement",
   "metadata": {},
   "outputs": [
    {
     "data": {
      "text/plain": [
       "array([[ 45, -26, -75,  20],\n",
       "       [ 79,  -3, -44,  25],\n",
       "       [ 14, -32, -81, -12],\n",
       "       ...,\n",
       "       [-29,  48,  57,  81],\n",
       "       [ 72,  71,  51, -78],\n",
       "       [-20,  24, -60,  -1]])"
      ]
     },
     "execution_count": 13,
     "metadata": {},
     "output_type": "execute_result"
    }
   ],
   "source": [
    "fw"
   ]
  },
  {
   "cell_type": "code",
   "execution_count": 14,
   "id": "oriental-anger",
   "metadata": {},
   "outputs": [
    {
     "data": {
      "text/plain": [
       "array([[-18, -17, -17,  35, -13,  29, -22,  25,  -5,  19],\n",
       "       [-14, -35,  21,  10,  19,   1,  22, -30,  12,  14],\n",
       "       [-31,  30, -32, -26,  12,  13,  17,   6,  15,   8],\n",
       "       [ 27, -26, -11, -18,  29, -21, -20,  29, -19,  28]])"
      ]
     },
     "execution_count": 14,
     "metadata": {},
     "output_type": "execute_result"
    }
   ],
   "source": [
    "sw"
   ]
  },
  {
   "cell_type": "code",
   "execution_count": 15,
   "id": "af76eb8e",
   "metadata": {},
   "outputs": [
    {
     "data": {
      "text/plain": [
       "array([-0.00202849, -0.00943029,  0.00678803,  0.00543431], dtype=float32)"
      ]
     },
     "execution_count": 15,
     "metadata": {},
     "output_type": "execute_result"
    }
   ],
   "source": [
    "fb"
   ]
  },
  {
   "cell_type": "code",
   "execution_count": 16,
   "id": "97614ccb",
   "metadata": {},
   "outputs": [
    {
     "data": {
      "text/plain": [
       "array([ 2.2527063 ,  1.1720363 ,  1.9989567 ,  0.69794524, -2.2860746 ,\n",
       "       -0.19927718, -0.79497284, -0.5982381 ,  0.20228048, -2.4453385 ],\n",
       "      dtype=float32)"
      ]
     },
     "execution_count": 16,
     "metadata": {},
     "output_type": "execute_result"
    }
   ],
   "source": [
    "sb"
   ]
  },
  {
   "cell_type": "code",
   "execution_count": 17,
   "id": "functional-surveillance",
   "metadata": {},
   "outputs": [],
   "source": [
    "## testing prediction with builtin functions"
   ]
  },
  {
   "cell_type": "code",
   "execution_count": 18,
   "id": "blind-juice",
   "metadata": {},
   "outputs": [],
   "source": [
    "def sigmoid(x):\n",
    "    return (1/(1+np.exp(-x)))\n",
    "def softmax(x):\n",
    "    sumexp = np.sum(np.exp(x))\n",
    "    return((np.exp(x)/sumexp))\n",
    "def layer1(x,w,b):\n",
    "    return sigmoid(np.dot(x,w)+b)\n",
    "def layer2(x,w,b):\n",
    "    return  softmax(np.dot(x,w)+b)"
   ]
  },
  {
   "cell_type": "code",
   "execution_count": 30,
   "id": "71a98442",
   "metadata": {},
   "outputs": [
    {
     "name": "stdout",
     "output_type": "stream",
     "text": [
      "-762703\n"
     ]
    }
   ],
   "source": [
    "print(np.sum(x_test[1]* fw[:,0]))"
   ]
  },
  {
   "cell_type": "code",
   "execution_count": 21,
   "id": "consecutive-matthew",
   "metadata": {},
   "outputs": [
    {
     "name": "stderr",
     "output_type": "stream",
     "text": [
      "/Users/Syed/anaconda/anaconda3/lib/python3.7/site-packages/ipykernel_launcher.py:2: RuntimeWarning: overflow encountered in exp\n",
      "  \n"
     ]
    },
    {
     "data": {
      "text/plain": [
       "array([[1., 0., 0., 1.],\n",
       "       [0., 1., 0., 0.],\n",
       "       [0., 0., 1., 0.]])"
      ]
     },
     "execution_count": 21,
     "metadata": {},
     "output_type": "execute_result"
    }
   ],
   "source": [
    "layer1_out = layer1(x_test,fw,fb)\n",
    "# layer1_out[:50]\n",
    "layer1_out[:3]"
   ]
  },
  {
   "cell_type": "code",
   "execution_count": 18,
   "id": "proved-ottawa",
   "metadata": {},
   "outputs": [
    {
     "data": {
      "text/plain": [
       "array([2.76898550e-20, 2.98692853e-44, 6.98583051e-22, 4.64583254e-21,\n",
       "       1.50356482e-37, 6.86730237e-36, 3.05191685e-42, 8.96994448e-16,\n",
       "       1.65533536e-39, 6.15235175e-36])"
      ]
     },
     "execution_count": 18,
     "metadata": {},
     "output_type": "execute_result"
    }
   ],
   "source": [
    "layer2_out = layer2(layer1_out,sw,sb)\n",
    "layer2_out[0]"
   ]
  },
  {
   "cell_type": "code",
   "execution_count": 19,
   "id": "everyday-cylinder",
   "metadata": {},
   "outputs": [],
   "source": [
    "pred= np.zeros(layer2_out.shape[0])\n",
    "for i in range(layer2_out.shape[0]):\n",
    "    pred[i] = np.argmax(layer2_out[i])"
   ]
  },
  {
   "cell_type": "code",
   "execution_count": 20,
   "id": "caring-aquatic",
   "metadata": {},
   "outputs": [
    {
     "data": {
      "text/plain": [
       "array([7, 2, 1, ..., 4, 5, 6], dtype=uint8)"
      ]
     },
     "execution_count": 20,
     "metadata": {},
     "output_type": "execute_result"
    }
   ],
   "source": [
    "y_orig_test"
   ]
  },
  {
   "cell_type": "code",
   "execution_count": 21,
   "id": "provincial-davis",
   "metadata": {},
   "outputs": [
    {
     "data": {
      "text/plain": [
       "array([7., 2., 1., ..., 4., 5., 6.])"
      ]
     },
     "execution_count": 21,
     "metadata": {},
     "output_type": "execute_result"
    }
   ],
   "source": [
    "pred"
   ]
  },
  {
   "cell_type": "code",
   "execution_count": 22,
   "id": "stupid-retro",
   "metadata": {},
   "outputs": [
    {
     "data": {
      "text/plain": [
       "0.6137"
      ]
     },
     "execution_count": 22,
     "metadata": {},
     "output_type": "execute_result"
    }
   ],
   "source": [
    "from sklearn.metrics import accuracy_score\n",
    "accuracy_score(pred,y_orig_test)"
   ]
  },
  {
   "cell_type": "code",
   "execution_count": 208,
   "id": "american-narrow",
   "metadata": {},
   "outputs": [],
   "source": [
    "# in depth layers\n",
    "\n",
    "def create_dense(layer_sizes):\n",
    "    model = Sequential()\n",
    "    model.add(Dense(layer_sizes[0], activation='sigmoid', input_shape=(image_size,)))\n",
    "\n",
    "    for s in layer_sizes[1:]:\n",
    "        model.add(Dense(units = s, activation = 'sigmoid'))\n",
    "\n",
    "    model.add(Dense(units=num_classes, activation='softmax'))\n",
    "    return model\n",
    "\n",
    "def evaluate(model, batch_size=128, epochs=5):\n",
    "    model.summary()\n",
    "    model.compile(optimizer='sgd', loss='categorical_crossentropy', metrics=['acc'])\n",
    "    history = model.fit(x_train, y_train, batch_size=batch_size, epochs=epochs, validation_split=.1, verbose=False)\n",
    "    loss, accuracy  = model.evaluate(x_test, y_test, verbose=False)\n",
    "    \n",
    "    plt.plot(history.history['acc'])\n",
    "    plt.plot(history.history['val_acc'])\n",
    "    plt.title('model accuracy')\n",
    "    plt.ylabel('accuracy')\n",
    "    plt.xlabel('epoch')\n",
    "    plt.legend(['training', 'validation'], loc='best')\n",
    "    plt.show()\n",
    "\n",
    "    print()\n",
    "    print(f'Test loss: {loss:.3}')\n",
    "    print(f'Test accuracy: {accuracy:.3}')"
   ]
  },
  {
   "cell_type": "code",
   "execution_count": 27,
   "id": "plain-stereo",
   "metadata": {},
   "outputs": [
    {
     "name": "stdout",
     "output_type": "stream",
     "text": [
      "Model: \"sequential_7\"\n",
      "_________________________________________________________________\n",
      "Layer (type)                 Output Shape              Param #   \n",
      "=================================================================\n",
      "dense_20 (Dense)             (None, 32)                25120     \n",
      "_________________________________________________________________\n",
      "dense_21 (Dense)             (None, 10)                330       \n",
      "=================================================================\n",
      "Total params: 25,450\n",
      "Trainable params: 25,450\n",
      "Non-trainable params: 0\n",
      "_________________________________________________________________\n"
     ]
    },
    {
     "data": {
      "image/png": "[encoded data removed]",
      "text/plain": [
       "<Figure size 432x288 with 1 Axes>"
      ]
     },
     "metadata": {
      "needs_background": "light"
     },
     "output_type": "display_data"
    },
    {
     "name": "stdout",
     "output_type": "stream",
     "text": [
      "\n",
      "Test loss: 0.494\n",
      "Test accuracy: 0.888\n",
      "Model: \"sequential_8\"\n",
      "_________________________________________________________________\n",
      "Layer (type)                 Output Shape              Param #   \n",
      "=================================================================\n",
      "dense_22 (Dense)             (None, 32)                25120     \n",
      "_________________________________________________________________\n",
      "dense_23 (Dense)             (None, 32)                1056      \n",
      "_________________________________________________________________\n",
      "dense_24 (Dense)             (None, 10)                330       \n",
      "=================================================================\n",
      "Total params: 26,506\n",
      "Trainable params: 26,506\n",
      "Non-trainable params: 0\n",
      "_________________________________________________________________\n"
     ]
    },
    {
     "data": {
      "image/png": "[encoded data removed]",
      "text/plain": [
       "<Figure size 432x288 with 1 Axes>"
      ]
     },
     "metadata": {
      "needs_background": "light"
     },
     "output_type": "display_data"
    },
    {
     "name": "stdout",
     "output_type": "stream",
     "text": [
      "\n",
      "Test loss: 1.16\n",
      "Test accuracy: 0.814\n",
      "Model: \"sequential_9\"\n",
      "_________________________________________________________________\n",
      "Layer (type)                 Output Shape              Param #   \n",
      "=================================================================\n",
      "dense_25 (Dense)             (None, 32)                25120     \n",
      "_________________________________________________________________\n",
      "dense_26 (Dense)             (None, 32)                1056      \n",
      "_________________________________________________________________\n",
      "dense_27 (Dense)             (None, 32)                1056      \n",
      "_________________________________________________________________\n",
      "dense_28 (Dense)             (None, 10)                330       \n",
      "=================================================================\n",
      "Total params: 27,562\n",
      "Trainable params: 27,562\n",
      "Non-trainable params: 0\n",
      "_________________________________________________________________\n"
     ]
    },
    {
     "data": {
      "image/png": "[encoded data removed]",
      "text/plain": [
       "<Figure size 432x288 with 1 Axes>"
      ]
     },
     "metadata": {
      "needs_background": "light"
     },
     "output_type": "display_data"
    },
    {
     "name": "stdout",
     "output_type": "stream",
     "text": [
      "\n",
      "Test loss: 2.15\n",
      "Test accuracy: 0.569\n",
      "Model: \"sequential_10\"\n",
      "_________________________________________________________________\n",
      "Layer (type)                 Output Shape              Param #   \n",
      "=================================================================\n",
      "dense_29 (Dense)             (None, 32)                25120     \n",
      "_________________________________________________________________\n",
      "dense_30 (Dense)             (None, 32)                1056      \n",
      "_________________________________________________________________\n",
      "dense_31 (Dense)             (None, 32)                1056      \n",
      "_________________________________________________________________\n",
      "dense_32 (Dense)             (None, 32)                1056      \n",
      "_________________________________________________________________\n",
      "dense_33 (Dense)             (None, 10)                330       \n",
      "=================================================================\n",
      "Total params: 28,618\n",
      "Trainable params: 28,618\n",
      "Non-trainable params: 0\n",
      "_________________________________________________________________\n"
     ]
    },
    {
     "data": {
      "image/png": "[encoded data removed]",
      "text/plain": [
       "<Figure size 432x288 with 1 Axes>"
      ]
     },
     "metadata": {
      "needs_background": "light"
     },
     "output_type": "display_data"
    },
    {
     "name": "stdout",
     "output_type": "stream",
     "text": [
      "\n",
      "Test loss: 2.29\n",
      "Test accuracy: 0.113\n"
     ]
    }
   ],
   "source": [
    "for layers in range(1, 5):\n",
    "    model = create_dense([32] * layers)\n",
    "    evaluate(model)"
   ]
  },
  {
   "cell_type": "code",
   "execution_count": null,
   "id": "amateur-subdivision",
   "metadata": {},
   "outputs": [],
   "source": []
  }
 ],
 "metadata": {
  "kernelspec": {
   "display_name": "Python 3 (ipykernel)",
   "language": "python",
   "name": "python3"
  },
  "language_info": {
   "codemirror_mode": {
    "name": "ipython",
    "version": 3
   },
   "file_extension": ".py",
   "mimetype": "text/x-python",
   "name": "python",
   "nbconvert_exporter": "python",
   "pygments_lexer": "ipython3",
   "version": "3.7.11"
  }
 },
 "nbformat": 4,
 "nbformat_minor": 5
}
