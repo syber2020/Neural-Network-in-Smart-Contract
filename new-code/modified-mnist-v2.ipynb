{
 "cells": [
  {
   "cell_type": "code",
   "execution_count": 344,
   "id": "administrative-appreciation",
   "metadata": {},
   "outputs": [],
   "source": [
    "from keras.datasets import mnist\n",
    "import numpy as np \n",
    "(x_train, y_train), (x_test, y_test) = mnist.load_data()"
   ]
  },
  {
   "cell_type": "code",
   "execution_count": 345,
   "id": "pacific-floor",
   "metadata": {},
   "outputs": [
    {
     "name": "stdout",
     "output_type": "stream",
     "text": [
      "Training data shape:  (60000, 28, 28)\n",
      "Test data shape (10000, 28, 28)\n"
     ]
    }
   ],
   "source": [
    "\n",
    "from keras.datasets import mnist\n",
    "\n",
    "# Setup train and test splits\n",
    "(x_train, y_train), (x_test, y_test) = mnist.load_data()\n",
    "print(\"Training data shape: \", x_train.shape) # (60000, 28, 28) -- 60000 images, each 28x28 pixels\n",
    "print(\"Test data shape\", x_test.shape) # (10000, 28, 28) -- 10000 images, each 28x28\n",
    "\n",
    "# Flatten the images\n",
    "image_vector_size = 28*28\n",
    "x_train = x_train.reshape(x_train.shape[0], image_vector_size)\n",
    "x_test = x_test.reshape(x_test.shape[0], image_vector_size)\n",
    "y_orig_test = y_test"
   ]
  },
  {
   "cell_type": "code",
   "execution_count": null,
   "id": "laughing-violin",
   "metadata": {},
   "outputs": [],
   "source": []
  },
  {
   "cell_type": "code",
   "execution_count": 346,
   "id": "overhead-collectible",
   "metadata": {},
   "outputs": [
    {
     "name": "stdout",
     "output_type": "stream",
     "text": [
      "First 5 training lables as one-hot encoded vectors:\n",
      " [[0. 0. 0. 0. 0. 1. 0. 0. 0. 0.]\n",
      " [1. 0. 0. 0. 0. 0. 0. 0. 0. 0.]\n",
      " [0. 0. 0. 0. 1. 0. 0. 0. 0. 0.]\n",
      " [0. 1. 0. 0. 0. 0. 0. 0. 0. 0.]\n",
      " [0. 0. 0. 0. 0. 0. 0. 0. 0. 1.]]\n"
     ]
    },
    {
     "data": {
      "text/plain": [
       "'\\n[[0, 0, 0, 0, 0, 1, 0, 0, 0, 0]\\n [1, 0, 0, 0, 0, 0, 0, 0, 0, 0]\\n [0, 0, 0, 0, 1, 0, 0, 0, 0, 0]\\n [0, 1, 0, 0, 0, 0, 0, 0, 0, 0]\\n [0, 0, 0, 0, 0, 0, 0, 0, 0, 1]]\\n'"
      ]
     },
     "execution_count": 346,
     "metadata": {},
     "output_type": "execute_result"
    }
   ],
   "source": [
    "from tensorflow import keras\n",
    "from keras.datasets import mnist\n",
    "from keras import utils as np_utils\n",
    "\n",
    "# Setup train and test splits\n",
    "# (x_train, y_train), (x_test, y_test) = mnist.load_data()\n",
    "# print(\"Training label shape: \", y_train.shape) # (60000,) -- 60000 numbers (all 0-9)\n",
    "# print(\"First 5 training labels: \", y_train[:5]) # [5, 0, 4, 1, 9]\n",
    "\n",
    "# Convert to \"one-hot\" vectors using the to_categorical function\n",
    "num_classes = 10\n",
    "y_train = keras.utils.to_categorical(y_train, num_classes)\n",
    "y_test = keras.utils.to_categorical(y_test, num_classes)\n",
    "print(\"First 5 training lables as one-hot encoded vectors:\\n\", y_train[:5])\n",
    "\n",
    "# This is the one-hot version of: [5, 0, 4, 1, 9]\n",
    "\"\"\"\n",
    "[[0, 0, 0, 0, 0, 1, 0, 0, 0, 0]\n",
    " [1, 0, 0, 0, 0, 0, 0, 0, 0, 0]\n",
    " [0, 0, 0, 0, 1, 0, 0, 0, 0, 0]\n",
    " [0, 1, 0, 0, 0, 0, 0, 0, 0, 0]\n",
    " [0, 0, 0, 0, 0, 0, 0, 0, 0, 1]]\n",
    "\"\"\""
   ]
  },
  {
   "cell_type": "code",
   "execution_count": 406,
   "id": "applicable-influence",
   "metadata": {},
   "outputs": [
    {
     "name": "stdout",
     "output_type": "stream",
     "text": [
      "Model: \"sequential_23\"\n",
      "_________________________________________________________________\n",
      "Layer (type)                 Output Shape              Param #   \n",
      "=================================================================\n",
      "dense_60 (Dense)             (None, 8)                 6280      \n",
      "_________________________________________________________________\n",
      "dense_61 (Dense)             (None, 10)                90        \n",
      "=================================================================\n",
      "Total params: 6,370\n",
      "Trainable params: 6,370\n",
      "Non-trainable params: 0\n",
      "_________________________________________________________________\n"
     ]
    }
   ],
   "source": [
    "import matplotlib.pyplot as plt \n",
    "from keras.layers import Dense # Dense layers are \"fully connected\" layers\n",
    "from keras.models import Sequential # Documentation: https://keras.io/models/sequential/\n",
    "\n",
    "image_size = 784 # 28*28\n",
    "num_classes = 10 # ten unique digits\n",
    "\n",
    "model = Sequential()\n",
    "\n",
    "# The input layer requires the special input_shape parameter which should match\n",
    "# the shape of our training data.\n",
    "model.add(Dense(units=8, activation='sigmoid', input_shape=(image_size,)))\n",
    "model.add(Dense(units=num_classes, activation='softmax'))\n",
    "model.summary()"
   ]
  },
  {
   "cell_type": "code",
   "execution_count": 407,
   "id": "forbidden-interpretation",
   "metadata": {},
   "outputs": [
    {
     "name": "stdout",
     "output_type": "stream",
     "text": [
      "Epoch 1/200\n",
      "422/422 [==============================] - 1s 2ms/step - loss: 2.0036 - acc: 0.3276 - val_loss: 1.5512 - val_acc: 0.6747\n",
      "Epoch 2/200\n",
      "422/422 [==============================] - 0s 852us/step - loss: 1.5383 - acc: 0.6740 - val_loss: 1.3754 - val_acc: 0.7298\n",
      "Epoch 3/200\n",
      "422/422 [==============================] - 0s 1ms/step - loss: 1.3753 - acc: 0.7086 - val_loss: 1.2301 - val_acc: 0.7588\n",
      "Epoch 4/200\n",
      "422/422 [==============================] - 0s 888us/step - loss: 1.2579 - acc: 0.7232 - val_loss: 1.1343 - val_acc: 0.7678\n",
      "Epoch 5/200\n",
      "422/422 [==============================] - 0s 885us/step - loss: 1.1634 - acc: 0.7356 - val_loss: 1.0571 - val_acc: 0.7663\n",
      "Epoch 6/200\n",
      "422/422 [==============================] - 0s 966us/step - loss: 1.0822 - acc: 0.7450 - val_loss: 0.9846 - val_acc: 0.7853\n",
      "Epoch 7/200\n",
      "422/422 [==============================] - 0s 876us/step - loss: 1.0333 - acc: 0.7510 - val_loss: 0.9267 - val_acc: 0.7898\n",
      "Epoch 8/200\n",
      "422/422 [==============================] - 0s 995us/step - loss: 0.9801 - acc: 0.7554 - val_loss: 0.8789 - val_acc: 0.7917\n",
      "Epoch 9/200\n",
      "422/422 [==============================] - 0s 926us/step - loss: 0.9418 - acc: 0.7648 - val_loss: 0.8688 - val_acc: 0.7857\n",
      "Epoch 10/200\n",
      "422/422 [==============================] - 0s 907us/step - loss: 0.9086 - acc: 0.7594 - val_loss: 0.8288 - val_acc: 0.7910\n",
      "Epoch 11/200\n",
      "422/422 [==============================] - 0s 1ms/step - loss: 0.8777 - acc: 0.7617 - val_loss: 0.8199 - val_acc: 0.7748\n",
      "Epoch 12/200\n",
      "422/422 [==============================] - 0s 846us/step - loss: 0.8531 - acc: 0.7691 - val_loss: 0.7593 - val_acc: 0.7995\n",
      "Epoch 13/200\n",
      "422/422 [==============================] - 0s 999us/step - loss: 0.8259 - acc: 0.7724 - val_loss: 0.7557 - val_acc: 0.7950\n",
      "Epoch 14/200\n",
      "422/422 [==============================] - 0s 921us/step - loss: 0.8199 - acc: 0.7717 - val_loss: 0.7482 - val_acc: 0.8022\n",
      "Epoch 15/200\n",
      "422/422 [==============================] - 0s 881us/step - loss: 0.7970 - acc: 0.7824 - val_loss: 0.6996 - val_acc: 0.8188\n",
      "Epoch 16/200\n",
      "422/422 [==============================] - 0s 1ms/step - loss: 0.7710 - acc: 0.7836 - val_loss: 0.7307 - val_acc: 0.8073\n",
      "Epoch 17/200\n",
      "422/422 [==============================] - 0s 861us/step - loss: 0.7592 - acc: 0.7917 - val_loss: 0.7563 - val_acc: 0.8007\n",
      "Epoch 18/200\n",
      "422/422 [==============================] - 0s 999us/step - loss: 0.7468 - acc: 0.7941 - val_loss: 0.6591 - val_acc: 0.8225\n",
      "Epoch 19/200\n",
      "422/422 [==============================] - 0s 923us/step - loss: 0.7276 - acc: 0.7960 - val_loss: 0.6615 - val_acc: 0.8205\n",
      "Epoch 20/200\n",
      "422/422 [==============================] - 0s 876us/step - loss: 0.7249 - acc: 0.7931 - val_loss: 0.6605 - val_acc: 0.8270\n",
      "Epoch 21/200\n",
      "422/422 [==============================] - 0s 1ms/step - loss: 0.7126 - acc: 0.7993 - val_loss: 0.6550 - val_acc: 0.8140\n",
      "Epoch 22/200\n",
      "422/422 [==============================] - 0s 844us/step - loss: 0.7101 - acc: 0.7946 - val_loss: 0.6457 - val_acc: 0.8192\n",
      "Epoch 23/200\n",
      "422/422 [==============================] - 0s 1ms/step - loss: 0.6956 - acc: 0.8040 - val_loss: 0.6372 - val_acc: 0.8223\n",
      "Epoch 24/200\n",
      "422/422 [==============================] - 0s 958us/step - loss: 0.6872 - acc: 0.8061 - val_loss: 0.6107 - val_acc: 0.8308\n",
      "Epoch 25/200\n",
      "422/422 [==============================] - 0s 859us/step - loss: 0.6900 - acc: 0.7982 - val_loss: 0.6266 - val_acc: 0.8173\n",
      "Epoch 26/200\n",
      "422/422 [==============================] - 0s 1ms/step - loss: 0.6806 - acc: 0.7959 - val_loss: 0.6024 - val_acc: 0.8350\n",
      "Epoch 27/200\n",
      "422/422 [==============================] - 0s 850us/step - loss: 0.6670 - acc: 0.8063 - val_loss: 0.6075 - val_acc: 0.8340\n",
      "Epoch 28/200\n",
      "422/422 [==============================] - 0s 1ms/step - loss: 0.6639 - acc: 0.8088 - val_loss: 0.5948 - val_acc: 0.8293\n",
      "Epoch 29/200\n",
      "422/422 [==============================] - 0s 928us/step - loss: 0.6497 - acc: 0.8152 - val_loss: 0.5927 - val_acc: 0.8388\n",
      "Epoch 30/200\n",
      "422/422 [==============================] - 0s 875us/step - loss: 0.6533 - acc: 0.8098 - val_loss: 0.5784 - val_acc: 0.8418\n",
      "Epoch 31/200\n",
      "422/422 [==============================] - 0s 1ms/step - loss: 0.6473 - acc: 0.8095 - val_loss: 0.6004 - val_acc: 0.8312\n",
      "Epoch 32/200\n",
      "422/422 [==============================] - 0s 852us/step - loss: 0.6387 - acc: 0.8155 - val_loss: 0.5713 - val_acc: 0.8452\n",
      "Epoch 33/200\n",
      "422/422 [==============================] - 0s 1ms/step - loss: 0.6406 - acc: 0.8146 - val_loss: 0.5522 - val_acc: 0.8505\n",
      "Epoch 34/200\n",
      "422/422 [==============================] - 0s 924us/step - loss: 0.6184 - acc: 0.8223 - val_loss: 0.6361 - val_acc: 0.8063\n",
      "Epoch 35/200\n",
      "422/422 [==============================] - 0s 859us/step - loss: 0.6430 - acc: 0.8109 - val_loss: 0.5474 - val_acc: 0.8497\n",
      "Epoch 36/200\n",
      "422/422 [==============================] - 0s 1ms/step - loss: 0.6210 - acc: 0.8178 - val_loss: 0.5711 - val_acc: 0.8307\n",
      "Epoch 37/200\n",
      "422/422 [==============================] - 0s 859us/step - loss: 0.6277 - acc: 0.8108 - val_loss: 0.5509 - val_acc: 0.8417\n",
      "Epoch 38/200\n",
      "422/422 [==============================] - 0s 1ms/step - loss: 0.6228 - acc: 0.8184 - val_loss: 0.5413 - val_acc: 0.8550\n",
      "Epoch 39/200\n",
      "422/422 [==============================] - 0s 961us/step - loss: 0.6231 - acc: 0.8220 - val_loss: 0.5424 - val_acc: 0.8518\n",
      "Epoch 40/200\n",
      "422/422 [==============================] - 0s 840us/step - loss: 0.6040 - acc: 0.8256 - val_loss: 0.5286 - val_acc: 0.8558\n",
      "Epoch 41/200\n",
      "422/422 [==============================] - 0s 1ms/step - loss: 0.5984 - acc: 0.8268 - val_loss: 0.5380 - val_acc: 0.8508\n",
      "Epoch 42/200\n",
      "422/422 [==============================] - 0s 832us/step - loss: 0.6140 - acc: 0.8233 - val_loss: 0.5311 - val_acc: 0.8477\n",
      "Epoch 43/200\n",
      "422/422 [==============================] - 0s 994us/step - loss: 0.6096 - acc: 0.8188 - val_loss: 0.5398 - val_acc: 0.8402\n",
      "Epoch 44/200\n",
      "422/422 [==============================] - 0s 942us/step - loss: 0.5948 - acc: 0.8237 - val_loss: 0.5322 - val_acc: 0.8498\n",
      "Epoch 45/200\n",
      "422/422 [==============================] - 0s 847us/step - loss: 0.6057 - acc: 0.8215 - val_loss: 0.5467 - val_acc: 0.8410\n",
      "Epoch 46/200\n",
      "422/422 [==============================] - 0s 1ms/step - loss: 0.5862 - acc: 0.8287 - val_loss: 0.5397 - val_acc: 0.8448\n",
      "Epoch 47/200\n",
      "422/422 [==============================] - 0s 874us/step - loss: 0.5998 - acc: 0.8227 - val_loss: 0.5171 - val_acc: 0.8563\n",
      "Epoch 48/200\n",
      "422/422 [==============================] - 0s 964us/step - loss: 0.5851 - acc: 0.8263 - val_loss: 0.5431 - val_acc: 0.8452\n",
      "Epoch 49/200\n",
      "422/422 [==============================] - 0s 913us/step - loss: 0.5736 - acc: 0.8339 - val_loss: 0.5229 - val_acc: 0.8493\n",
      "Epoch 50/200\n",
      "422/422 [==============================] - 0s 832us/step - loss: 0.5837 - acc: 0.8310 - val_loss: 0.5022 - val_acc: 0.8587\n",
      "Epoch 51/200\n",
      "422/422 [==============================] - 0s 1ms/step - loss: 0.5639 - acc: 0.8363 - val_loss: 0.5033 - val_acc: 0.8545\n",
      "Epoch 52/200\n",
      "422/422 [==============================] - 0s 859us/step - loss: 0.5705 - acc: 0.8315 - val_loss: 0.5095 - val_acc: 0.8533\n",
      "Epoch 53/200\n",
      "422/422 [==============================] - 0s 923us/step - loss: 0.5642 - acc: 0.8314 - val_loss: 0.5090 - val_acc: 0.8563\n",
      "Epoch 54/200\n",
      "422/422 [==============================] - 0s 919us/step - loss: 0.5707 - acc: 0.8308 - val_loss: 0.5037 - val_acc: 0.8588\n",
      "Epoch 55/200\n",
      "422/422 [==============================] - 0s 833us/step - loss: 0.5614 - acc: 0.8337 - val_loss: 0.5197 - val_acc: 0.8493\n",
      "Epoch 56/200\n",
      "422/422 [==============================] - 0s 1ms/step - loss: 0.5755 - acc: 0.8243 - val_loss: 0.5072 - val_acc: 0.8568\n",
      "Epoch 57/200\n",
      "422/422 [==============================] - 0s 876us/step - loss: 0.5579 - acc: 0.8347 - val_loss: 0.5296 - val_acc: 0.8500\n",
      "Epoch 58/200\n",
      "422/422 [==============================] - 0s 938us/step - loss: 0.5922 - acc: 0.8200 - val_loss: 0.4926 - val_acc: 0.8528\n",
      "Epoch 59/200\n",
      "422/422 [==============================] - 0s 933us/step - loss: 0.5438 - acc: 0.8387 - val_loss: 0.5073 - val_acc: 0.8488\n",
      "Epoch 60/200\n",
      "422/422 [==============================] - 0s 866us/step - loss: 0.5554 - acc: 0.8306 - val_loss: 0.4923 - val_acc: 0.8545\n",
      "Epoch 61/200\n"
     ]
    },
    {
     "name": "stdout",
     "output_type": "stream",
     "text": [
      "422/422 [==============================] - 0s 1ms/step - loss: 0.5510 - acc: 0.8336 - val_loss: 0.4769 - val_acc: 0.8608\n",
      "Epoch 62/200\n",
      "422/422 [==============================] - 0s 874us/step - loss: 0.5567 - acc: 0.8327 - val_loss: 0.5018 - val_acc: 0.8525\n",
      "Epoch 63/200\n",
      "422/422 [==============================] - 0s 849us/step - loss: 0.5618 - acc: 0.8270 - val_loss: 0.4907 - val_acc: 0.8555\n",
      "Epoch 64/200\n",
      "422/422 [==============================] - 0s 1ms/step - loss: 0.5492 - acc: 0.8355 - val_loss: 0.4806 - val_acc: 0.8620\n",
      "Epoch 65/200\n",
      "422/422 [==============================] - 0s 831us/step - loss: 0.5569 - acc: 0.8349 - val_loss: 0.4864 - val_acc: 0.8583\n",
      "Epoch 66/200\n",
      "422/422 [==============================] - 0s 947us/step - loss: 0.5432 - acc: 0.8413 - val_loss: 0.4758 - val_acc: 0.8582\n",
      "Epoch 67/200\n",
      "422/422 [==============================] - 0s 912us/step - loss: 0.5445 - acc: 0.8391 - val_loss: 0.4614 - val_acc: 0.8703\n",
      "Epoch 68/200\n",
      "422/422 [==============================] - 0s 826us/step - loss: 0.5280 - acc: 0.8456 - val_loss: 0.4713 - val_acc: 0.8665\n",
      "Epoch 69/200\n",
      "422/422 [==============================] - 0s 1ms/step - loss: 0.5499 - acc: 0.8364 - val_loss: 0.4885 - val_acc: 0.8575\n",
      "Epoch 70/200\n",
      "422/422 [==============================] - 0s 814us/step - loss: 0.5546 - acc: 0.8336 - val_loss: 0.5009 - val_acc: 0.8562\n",
      "Epoch 71/200\n",
      "422/422 [==============================] - 0s 923us/step - loss: 0.5497 - acc: 0.8355 - val_loss: 0.4843 - val_acc: 0.8563\n",
      "Epoch 72/200\n",
      "422/422 [==============================] - 0s 959us/step - loss: 0.5392 - acc: 0.8360 - val_loss: 0.4606 - val_acc: 0.8678\n",
      "Epoch 73/200\n",
      "422/422 [==============================] - 0s 838us/step - loss: 0.5248 - acc: 0.8428 - val_loss: 0.4793 - val_acc: 0.8553\n",
      "Epoch 74/200\n",
      "422/422 [==============================] - 0s 1ms/step - loss: 0.5435 - acc: 0.8350 - val_loss: 0.4734 - val_acc: 0.8587\n",
      "Epoch 75/200\n",
      "422/422 [==============================] - 0s 862us/step - loss: 0.5345 - acc: 0.8414 - val_loss: 0.4628 - val_acc: 0.8642\n",
      "Epoch 76/200\n",
      "422/422 [==============================] - 0s 931us/step - loss: 0.5290 - acc: 0.8438 - val_loss: 0.4584 - val_acc: 0.8728\n",
      "Epoch 77/200\n",
      "422/422 [==============================] - 0s 1ms/step - loss: 0.5115 - acc: 0.8531 - val_loss: 0.4579 - val_acc: 0.8705\n",
      "Epoch 78/200\n",
      "422/422 [==============================] - 0s 825us/step - loss: 0.5277 - acc: 0.8474 - val_loss: 0.4847 - val_acc: 0.8572\n",
      "Epoch 79/200\n",
      "422/422 [==============================] - 0s 1ms/step - loss: 0.5260 - acc: 0.8463 - val_loss: 0.4794 - val_acc: 0.8557\n",
      "Epoch 80/200\n",
      "422/422 [==============================] - 0s 857us/step - loss: 0.5437 - acc: 0.8370 - val_loss: 0.4636 - val_acc: 0.8580\n",
      "Epoch 81/200\n",
      "422/422 [==============================] - 0s 900us/step - loss: 0.5376 - acc: 0.8392 - val_loss: 0.4612 - val_acc: 0.8668\n",
      "Epoch 82/200\n",
      "422/422 [==============================] - 0s 933us/step - loss: 0.5151 - acc: 0.8445 - val_loss: 0.4490 - val_acc: 0.8692\n",
      "Epoch 83/200\n",
      "422/422 [==============================] - 0s 829us/step - loss: 0.5207 - acc: 0.8475 - val_loss: 0.4793 - val_acc: 0.8623\n",
      "Epoch 84/200\n",
      "422/422 [==============================] - 0s 1ms/step - loss: 0.5377 - acc: 0.8388 - val_loss: 0.4507 - val_acc: 0.8698\n",
      "Epoch 85/200\n",
      "422/422 [==============================] - 0s 869us/step - loss: 0.5168 - acc: 0.8450 - val_loss: 0.4531 - val_acc: 0.8657\n",
      "Epoch 86/200\n",
      "422/422 [==============================] - 0s 860us/step - loss: 0.5243 - acc: 0.8455 - val_loss: 0.4761 - val_acc: 0.8560\n",
      "Epoch 87/200\n",
      "422/422 [==============================] - 0s 1ms/step - loss: 0.5275 - acc: 0.8444 - val_loss: 0.4654 - val_acc: 0.8683\n",
      "Epoch 88/200\n",
      "422/422 [==============================] - 0s 841us/step - loss: 0.5168 - acc: 0.8505 - val_loss: 0.4542 - val_acc: 0.8750\n",
      "Epoch 89/200\n",
      "422/422 [==============================] - 0s 978us/step - loss: 0.5192 - acc: 0.8537 - val_loss: 0.4511 - val_acc: 0.8703\n",
      "Epoch 90/200\n",
      "422/422 [==============================] - 0s 940us/step - loss: 0.5050 - acc: 0.8516 - val_loss: 0.4485 - val_acc: 0.8717\n",
      "Epoch 91/200\n",
      "422/422 [==============================] - 0s 805us/step - loss: 0.5036 - acc: 0.8523 - val_loss: 0.4593 - val_acc: 0.8650\n",
      "Epoch 92/200\n",
      "422/422 [==============================] - 0s 1ms/step - loss: 0.5133 - acc: 0.8502 - val_loss: 0.4387 - val_acc: 0.8790\n",
      "Epoch 93/200\n",
      "422/422 [==============================] - 0s 826us/step - loss: 0.5090 - acc: 0.8471 - val_loss: 0.4588 - val_acc: 0.8695\n",
      "Epoch 94/200\n",
      "422/422 [==============================] - 0s 925us/step - loss: 0.5118 - acc: 0.8498 - val_loss: 0.4515 - val_acc: 0.8685\n",
      "Epoch 95/200\n",
      "422/422 [==============================] - 0s 942us/step - loss: 0.4938 - acc: 0.8538 - val_loss: 0.4402 - val_acc: 0.8792\n",
      "Epoch 96/200\n",
      "422/422 [==============================] - 0s 833us/step - loss: 0.4928 - acc: 0.8562 - val_loss: 0.4555 - val_acc: 0.8688\n",
      "Epoch 97/200\n",
      "422/422 [==============================] - 0s 1ms/step - loss: 0.5002 - acc: 0.8558 - val_loss: 0.4403 - val_acc: 0.8773\n",
      "Epoch 98/200\n",
      "422/422 [==============================] - 0s 850us/step - loss: 0.5010 - acc: 0.8551 - val_loss: 0.4706 - val_acc: 0.8633\n",
      "Epoch 99/200\n",
      "422/422 [==============================] - 0s 910us/step - loss: 0.5142 - acc: 0.8481 - val_loss: 0.4649 - val_acc: 0.8637\n",
      "Epoch 100/200\n",
      "422/422 [==============================] - 0s 969us/step - loss: 0.5077 - acc: 0.8523 - val_loss: 0.4389 - val_acc: 0.8797\n",
      "Epoch 101/200\n",
      "422/422 [==============================] - 0s 857us/step - loss: 0.5019 - acc: 0.8501 - val_loss: 0.4355 - val_acc: 0.8763\n",
      "Epoch 102/200\n",
      "422/422 [==============================] - 0s 1ms/step - loss: 0.4884 - acc: 0.8566 - val_loss: 0.4399 - val_acc: 0.8755\n",
      "Epoch 103/200\n",
      "422/422 [==============================] - 0s 1ms/step - loss: 0.4782 - acc: 0.8608 - val_loss: 0.4434 - val_acc: 0.8752\n",
      "Epoch 104/200\n",
      "422/422 [==============================] - 0s 1ms/step - loss: 0.4877 - acc: 0.8560 - val_loss: 0.4510 - val_acc: 0.8668\n",
      "Epoch 105/200\n",
      "422/422 [==============================] - 0s 1ms/step - loss: 0.4938 - acc: 0.8550 - val_loss: 0.4712 - val_acc: 0.8645\n",
      "Epoch 106/200\n",
      "422/422 [==============================] - 0s 938us/step - loss: 0.5087 - acc: 0.8476 - val_loss: 0.4451 - val_acc: 0.8772\n",
      "Epoch 107/200\n",
      "422/422 [==============================] - 0s 954us/step - loss: 0.4914 - acc: 0.8548 - val_loss: 0.4325 - val_acc: 0.8748\n",
      "Epoch 108/200\n",
      "422/422 [==============================] - 0s 907us/step - loss: 0.4934 - acc: 0.8566 - val_loss: 0.4269 - val_acc: 0.8768\n",
      "Epoch 109/200\n",
      "422/422 [==============================] - 0s 1ms/step - loss: 0.4958 - acc: 0.8545 - val_loss: 0.4399 - val_acc: 0.8783\n",
      "Epoch 110/200\n",
      "422/422 [==============================] - 0s 902us/step - loss: 0.5065 - acc: 0.8492 - val_loss: 0.4408 - val_acc: 0.8768\n",
      "Epoch 111/200\n",
      "422/422 [==============================] - 0s 909us/step - loss: 0.4924 - acc: 0.8586 - val_loss: 0.4229 - val_acc: 0.8843\n",
      "Epoch 112/200\n",
      "422/422 [==============================] - 0s 1ms/step - loss: 0.4731 - acc: 0.8613 - val_loss: 0.4437 - val_acc: 0.8780\n",
      "Epoch 113/200\n",
      "422/422 [==============================] - 0s 850us/step - loss: 0.4987 - acc: 0.8548 - val_loss: 0.4653 - val_acc: 0.8655\n",
      "Epoch 114/200\n",
      "422/422 [==============================] - 0s 1ms/step - loss: 0.5168 - acc: 0.8457 - val_loss: 0.4339 - val_acc: 0.8807\n",
      "Epoch 115/200\n",
      "422/422 [==============================] - 0s 885us/step - loss: 0.4945 - acc: 0.8557 - val_loss: 0.4270 - val_acc: 0.8812\n",
      "Epoch 116/200\n",
      "422/422 [==============================] - 0s 928us/step - loss: 0.4949 - acc: 0.8545 - val_loss: 0.4361 - val_acc: 0.8818\n",
      "Epoch 117/200\n",
      "422/422 [==============================] - 0s 933us/step - loss: 0.4906 - acc: 0.8542 - val_loss: 0.4360 - val_acc: 0.8803\n",
      "Epoch 118/200\n",
      "422/422 [==============================] - 0s 857us/step - loss: 0.4912 - acc: 0.8602 - val_loss: 0.4233 - val_acc: 0.8827\n",
      "Epoch 119/200\n",
      "422/422 [==============================] - 0s 1ms/step - loss: 0.4820 - acc: 0.8619 - val_loss: 0.4381 - val_acc: 0.8772\n",
      "Epoch 120/200\n",
      "422/422 [==============================] - 0s 888us/step - loss: 0.4893 - acc: 0.8563 - val_loss: 0.4147 - val_acc: 0.8810\n",
      "Epoch 121/200\n"
     ]
    },
    {
     "name": "stdout",
     "output_type": "stream",
     "text": [
      "422/422 [==============================] - 0s 879us/step - loss: 0.4821 - acc: 0.8590 - val_loss: 0.4293 - val_acc: 0.8743\n",
      "Epoch 122/200\n",
      "422/422 [==============================] - 0s 1ms/step - loss: 0.4875 - acc: 0.8549 - val_loss: 0.4492 - val_acc: 0.8608\n",
      "Epoch 123/200\n",
      "422/422 [==============================] - 0s 833us/step - loss: 0.4837 - acc: 0.8548 - val_loss: 0.4404 - val_acc: 0.8693\n",
      "Epoch 124/200\n",
      "422/422 [==============================] - 0s 976us/step - loss: 0.4811 - acc: 0.8588 - val_loss: 0.4196 - val_acc: 0.8797\n",
      "Epoch 125/200\n",
      "422/422 [==============================] - 0s 883us/step - loss: 0.4932 - acc: 0.8525 - val_loss: 0.4424 - val_acc: 0.8775\n",
      "Epoch 126/200\n",
      "422/422 [==============================] - 0s 805us/step - loss: 0.4902 - acc: 0.8561 - val_loss: 0.4298 - val_acc: 0.8840\n",
      "Epoch 127/200\n",
      "422/422 [==============================] - 0s 1ms/step - loss: 0.4922 - acc: 0.8522 - val_loss: 0.4333 - val_acc: 0.8762\n",
      "Epoch 128/200\n",
      "422/422 [==============================] - 0s 923us/step - loss: 0.4882 - acc: 0.8582 - val_loss: 0.4165 - val_acc: 0.8858\n",
      "Epoch 129/200\n",
      "422/422 [==============================] - 0s 988us/step - loss: 0.4859 - acc: 0.8575 - val_loss: 0.4277 - val_acc: 0.8840\n",
      "Epoch 130/200\n",
      "422/422 [==============================] - 0s 889us/step - loss: 0.4808 - acc: 0.8600 - val_loss: 0.4146 - val_acc: 0.8867\n",
      "Epoch 131/200\n",
      "422/422 [==============================] - 0s 847us/step - loss: 0.4762 - acc: 0.8634 - val_loss: 0.4052 - val_acc: 0.8895\n",
      "Epoch 132/200\n",
      "422/422 [==============================] - 0s 978us/step - loss: 0.4667 - acc: 0.8629 - val_loss: 0.4242 - val_acc: 0.8798\n",
      "Epoch 133/200\n",
      "422/422 [==============================] - 0s 858us/step - loss: 0.4852 - acc: 0.8563 - val_loss: 0.4314 - val_acc: 0.8817\n",
      "Epoch 134/200\n",
      "422/422 [==============================] - 0s 928us/step - loss: 0.4911 - acc: 0.8558 - val_loss: 0.4272 - val_acc: 0.8830\n",
      "Epoch 135/200\n",
      "422/422 [==============================] - 0s 881us/step - loss: 0.4760 - acc: 0.8609 - val_loss: 0.4281 - val_acc: 0.8813\n",
      "Epoch 136/200\n",
      "422/422 [==============================] - 0s 853us/step - loss: 0.4963 - acc: 0.8562 - val_loss: 0.4399 - val_acc: 0.8822\n",
      "Epoch 137/200\n",
      "422/422 [==============================] - 0s 1ms/step - loss: 0.4904 - acc: 0.8595 - val_loss: 0.4175 - val_acc: 0.8835\n",
      "Epoch 138/200\n",
      "422/422 [==============================] - 0s 852us/step - loss: 0.4770 - acc: 0.8568 - val_loss: 0.4132 - val_acc: 0.8893\n",
      "Epoch 139/200\n",
      "422/422 [==============================] - 0s 875us/step - loss: 0.4799 - acc: 0.8622 - val_loss: 0.4064 - val_acc: 0.8897\n",
      "Epoch 140/200\n",
      "422/422 [==============================] - 0s 940us/step - loss: 0.4711 - acc: 0.8621 - val_loss: 0.4152 - val_acc: 0.8883\n",
      "Epoch 141/200\n",
      "422/422 [==============================] - 0s 809us/step - loss: 0.4697 - acc: 0.8624 - val_loss: 0.4027 - val_acc: 0.8925\n",
      "Epoch 142/200\n",
      "422/422 [==============================] - 0s 957us/step - loss: 0.4658 - acc: 0.8646 - val_loss: 0.4216 - val_acc: 0.8838\n",
      "Epoch 143/200\n",
      "422/422 [==============================] - 0s 916us/step - loss: 0.4769 - acc: 0.8590 - val_loss: 0.4202 - val_acc: 0.8853\n",
      "Epoch 144/200\n",
      "422/422 [==============================] - 0s 829us/step - loss: 0.4762 - acc: 0.8624 - val_loss: 0.4092 - val_acc: 0.8913\n",
      "Epoch 145/200\n",
      "422/422 [==============================] - 0s 1ms/step - loss: 0.4655 - acc: 0.8638 - val_loss: 0.4084 - val_acc: 0.8903\n",
      "Epoch 146/200\n",
      "422/422 [==============================] - 0s 850us/step - loss: 0.4714 - acc: 0.8641 - val_loss: 0.4505 - val_acc: 0.8687\n",
      "Epoch 147/200\n",
      "422/422 [==============================] - 0s 928us/step - loss: 0.4691 - acc: 0.8626 - val_loss: 0.4261 - val_acc: 0.8820\n",
      "Epoch 148/200\n",
      "422/422 [==============================] - 0s 923us/step - loss: 0.4875 - acc: 0.8551 - val_loss: 0.4044 - val_acc: 0.8890\n",
      "Epoch 149/200\n",
      "422/422 [==============================] - 0s 857us/step - loss: 0.4665 - acc: 0.8617 - val_loss: 0.4025 - val_acc: 0.8898\n",
      "Epoch 150/200\n",
      "422/422 [==============================] - 0s 1ms/step - loss: 0.4637 - acc: 0.8644 - val_loss: 0.4134 - val_acc: 0.8820\n",
      "Epoch 151/200\n",
      "422/422 [==============================] - 0s 866us/step - loss: 0.4790 - acc: 0.8559 - val_loss: 0.4069 - val_acc: 0.8893\n",
      "Epoch 152/200\n",
      "422/422 [==============================] - 0s 933us/step - loss: 0.4682 - acc: 0.8612 - val_loss: 0.3983 - val_acc: 0.8892\n",
      "Epoch 153/200\n",
      "422/422 [==============================] - 0s 965us/step - loss: 0.4674 - acc: 0.8618 - val_loss: 0.3992 - val_acc: 0.8905\n",
      "Epoch 154/200\n",
      "422/422 [==============================] - 0s 857us/step - loss: 0.4621 - acc: 0.8617 - val_loss: 0.4144 - val_acc: 0.8822\n",
      "Epoch 155/200\n",
      "422/422 [==============================] - 0s 1ms/step - loss: 0.4643 - acc: 0.8636 - val_loss: 0.4156 - val_acc: 0.8847\n",
      "Epoch 156/200\n",
      "422/422 [==============================] - 0s 842us/step - loss: 0.4676 - acc: 0.8624 - val_loss: 0.4058 - val_acc: 0.8882\n",
      "Epoch 157/200\n",
      "422/422 [==============================] - 0s 900us/step - loss: 0.4630 - acc: 0.8629 - val_loss: 0.4044 - val_acc: 0.8923\n",
      "Epoch 158/200\n",
      "422/422 [==============================] - 0s 986us/step - loss: 0.4640 - acc: 0.8681 - val_loss: 0.4178 - val_acc: 0.8845\n",
      "Epoch 159/200\n",
      "422/422 [==============================] - 0s 840us/step - loss: 0.4819 - acc: 0.8573 - val_loss: 0.4058 - val_acc: 0.8892\n",
      "Epoch 160/200\n",
      "422/422 [==============================] - 0s 1ms/step - loss: 0.4619 - acc: 0.8645 - val_loss: 0.3977 - val_acc: 0.8913\n",
      "Epoch 161/200\n",
      "422/422 [==============================] - 0s 901us/step - loss: 0.4746 - acc: 0.8601 - val_loss: 0.3942 - val_acc: 0.8932\n",
      "Epoch 162/200\n",
      "422/422 [==============================] - 0s 877us/step - loss: 0.4613 - acc: 0.8689 - val_loss: 0.4004 - val_acc: 0.8920\n",
      "Epoch 163/200\n",
      "422/422 [==============================] - 0s 990us/step - loss: 0.4608 - acc: 0.8645 - val_loss: 0.4418 - val_acc: 0.8700\n",
      "Epoch 164/200\n",
      "422/422 [==============================] - 0s 862us/step - loss: 0.4749 - acc: 0.8587 - val_loss: 0.4126 - val_acc: 0.8792\n",
      "Epoch 165/200\n",
      "422/422 [==============================] - 0s 983us/step - loss: 0.4674 - acc: 0.8614 - val_loss: 0.4160 - val_acc: 0.8785\n",
      "Epoch 166/200\n",
      "422/422 [==============================] - 0s 885us/step - loss: 0.4649 - acc: 0.8619 - val_loss: 0.4011 - val_acc: 0.8910\n",
      "Epoch 167/200\n",
      "422/422 [==============================] - 0s 816us/step - loss: 0.4546 - acc: 0.8701 - val_loss: 0.4241 - val_acc: 0.8792\n",
      "Epoch 168/200\n",
      "422/422 [==============================] - 0s 1ms/step - loss: 0.4715 - acc: 0.8591 - val_loss: 0.4060 - val_acc: 0.8863\n",
      "Epoch 169/200\n",
      "422/422 [==============================] - 0s 860us/step - loss: 0.4597 - acc: 0.8634 - val_loss: 0.3986 - val_acc: 0.8918\n",
      "Epoch 170/200\n",
      "422/422 [==============================] - 0s 936us/step - loss: 0.4571 - acc: 0.8676 - val_loss: 0.4412 - val_acc: 0.8720\n",
      "Epoch 171/200\n",
      "422/422 [==============================] - 0s 932us/step - loss: 0.4769 - acc: 0.8614 - val_loss: 0.4121 - val_acc: 0.8823\n",
      "Epoch 172/200\n",
      "422/422 [==============================] - 0s 837us/step - loss: 0.4602 - acc: 0.8663 - val_loss: 0.4185 - val_acc: 0.8802\n",
      "Epoch 173/200\n",
      "422/422 [==============================] - 0s 1ms/step - loss: 0.4603 - acc: 0.8639 - val_loss: 0.4363 - val_acc: 0.8697\n",
      "Epoch 174/200\n",
      "422/422 [==============================] - 0s 843us/step - loss: 0.4662 - acc: 0.8581 - val_loss: 0.4101 - val_acc: 0.8843\n",
      "Epoch 175/200\n",
      "422/422 [==============================] - 0s 933us/step - loss: 0.4555 - acc: 0.8667 - val_loss: 0.4060 - val_acc: 0.8803\n",
      "Epoch 176/200\n",
      "422/422 [==============================] - 0s 961us/step - loss: 0.4525 - acc: 0.8673 - val_loss: 0.3949 - val_acc: 0.8915\n",
      "Epoch 177/200\n",
      "422/422 [==============================] - 0s 828us/step - loss: 0.4570 - acc: 0.8699 - val_loss: 0.3910 - val_acc: 0.8952\n",
      "Epoch 178/200\n",
      "422/422 [==============================] - 0s 1ms/step - loss: 0.4367 - acc: 0.8736 - val_loss: 0.3925 - val_acc: 0.8950\n",
      "Epoch 179/200\n",
      "422/422 [==============================] - 0s 916us/step - loss: 0.4539 - acc: 0.8689 - val_loss: 0.4025 - val_acc: 0.8903\n",
      "Epoch 180/200\n",
      "422/422 [==============================] - 0s 878us/step - loss: 0.4452 - acc: 0.8748 - val_loss: 0.3997 - val_acc: 0.8882\n",
      "Epoch 181/200\n"
     ]
    },
    {
     "name": "stdout",
     "output_type": "stream",
     "text": [
      "422/422 [==============================] - 0s 1ms/step - loss: 0.4551 - acc: 0.8694 - val_loss: 0.4122 - val_acc: 0.8860\n",
      "Epoch 182/200\n",
      "422/422 [==============================] - 0s 825us/step - loss: 0.4597 - acc: 0.8670 - val_loss: 0.3942 - val_acc: 0.8917\n",
      "Epoch 183/200\n",
      "422/422 [==============================] - 0s 971us/step - loss: 0.4426 - acc: 0.8747 - val_loss: 0.3970 - val_acc: 0.8943\n",
      "Epoch 184/200\n",
      "422/422 [==============================] - 0s 926us/step - loss: 0.4559 - acc: 0.8711 - val_loss: 0.4143 - val_acc: 0.8848\n",
      "Epoch 185/200\n",
      "422/422 [==============================] - 0s 830us/step - loss: 0.4513 - acc: 0.8720 - val_loss: 0.3992 - val_acc: 0.8908\n",
      "Epoch 186/200\n",
      "422/422 [==============================] - 0s 995us/step - loss: 0.4466 - acc: 0.8716 - val_loss: 0.3904 - val_acc: 0.8910\n",
      "Epoch 187/200\n",
      "422/422 [==============================] - 0s 827us/step - loss: 0.4463 - acc: 0.8706 - val_loss: 0.3962 - val_acc: 0.8920\n",
      "Epoch 188/200\n",
      "422/422 [==============================] - 0s 931us/step - loss: 0.4361 - acc: 0.8766 - val_loss: 0.4260 - val_acc: 0.8797\n",
      "Epoch 189/200\n",
      "422/422 [==============================] - 0s 974us/step - loss: 0.4552 - acc: 0.8701 - val_loss: 0.3910 - val_acc: 0.8935\n",
      "Epoch 190/200\n",
      "422/422 [==============================] - 0s 821us/step - loss: 0.4487 - acc: 0.8709 - val_loss: 0.4072 - val_acc: 0.8908\n",
      "Epoch 191/200\n",
      "422/422 [==============================] - 0s 1ms/step - loss: 0.4575 - acc: 0.8702 - val_loss: 0.3967 - val_acc: 0.8903\n",
      "Epoch 192/200\n",
      "422/422 [==============================] - 0s 871us/step - loss: 0.4427 - acc: 0.8762 - val_loss: 0.4009 - val_acc: 0.8910\n",
      "Epoch 193/200\n",
      "422/422 [==============================] - 0s 917us/step - loss: 0.4427 - acc: 0.8765 - val_loss: 0.3914 - val_acc: 0.8960\n",
      "Epoch 194/200\n",
      "422/422 [==============================] - 0s 941us/step - loss: 0.4376 - acc: 0.8792 - val_loss: 0.3829 - val_acc: 0.8968\n",
      "Epoch 195/200\n",
      "422/422 [==============================] - 0s 854us/step - loss: 0.4395 - acc: 0.8781 - val_loss: 0.3932 - val_acc: 0.8962\n",
      "Epoch 196/200\n",
      "422/422 [==============================] - 0s 1ms/step - loss: 0.4374 - acc: 0.8775 - val_loss: 0.3927 - val_acc: 0.8953\n",
      "Epoch 197/200\n",
      "422/422 [==============================] - 0s 866us/step - loss: 0.4417 - acc: 0.8789 - val_loss: 0.3939 - val_acc: 0.8925\n",
      "Epoch 198/200\n",
      "422/422 [==============================] - 0s 872us/step - loss: 0.4270 - acc: 0.8796 - val_loss: 0.4053 - val_acc: 0.8937\n",
      "Epoch 199/200\n",
      "422/422 [==============================] - 0s 989us/step - loss: 0.4670 - acc: 0.8710 - val_loss: 0.3979 - val_acc: 0.8917\n",
      "Epoch 200/200\n",
      "422/422 [==============================] - 0s 870us/step - loss: 0.4416 - acc: 0.8766 - val_loss: 0.4264 - val_acc: 0.8823\n"
     ]
    },
    {
     "data": {
      "image/png": "[encoded data removed]",
      "text/plain": [
       "<Figure size 432x288 with 1 Axes>"
      ]
     },
     "metadata": {
      "needs_background": "light"
     },
     "output_type": "display_data"
    },
    {
     "name": "stdout",
     "output_type": "stream",
     "text": [
      "Test loss: 0.509\n",
      "Test accuracy: 0.853\n"
     ]
    }
   ],
   "source": [
    "model.compile(optimizer=\"sgd\", loss='categorical_crossentropy', metrics=[\"acc\"])\n",
    "history = model.fit(x_train, y_train, batch_size=128, epochs=200, verbose=True, validation_split=.1)\n",
    "loss, accuracy  = model.evaluate(x_test, y_test, verbose=False)\n",
    "\n",
    "plt.plot(history.history['acc'])\n",
    "plt.plot(history.history['val_acc'])\n",
    "plt.title('model accuracy')\n",
    "plt.ylabel('accuracy')\n",
    "plt.xlabel('epoch')\n",
    "plt.legend(['training', 'validation'], loc='best')\n",
    "plt.show()\n",
    "\n",
    "print(f'Test loss: {loss:.3}')\n",
    "print(f'Test accuracy: {accuracy:.3}')"
   ]
  },
  {
   "cell_type": "code",
   "execution_count": 408,
   "id": "primary-missouri",
   "metadata": {},
   "outputs": [],
   "source": [
    "first_layer_weights = model.layers[0].get_weights()[0]\n",
    "first_layer_biases  = model.layers[0].get_weights()[1]\n",
    "second_layer_weights = model.layers[1].get_weights()[0]\n",
    "second_layer_biases  = model.layers[1].get_weights()[1]"
   ]
  },
  {
   "cell_type": "code",
   "execution_count": 409,
   "id": "silent-queue",
   "metadata": {},
   "outputs": [],
   "source": [
    "fw = (first_layer_weights*1000).astype(int)\n",
    "sw = (second_layer_weights*10).astype(int) \n",
    "fb = first_layer_biases  \n",
    "sb = second_layer_biases"
   ]
  },
  {
   "cell_type": "code",
   "execution_count": 410,
   "id": "sublime-latin",
   "metadata": {},
   "outputs": [],
   "source": [
    "# fw = first_layer_weights\n",
    "# sw = second_layer_weights\n",
    "# fb = first_layer_biases \n",
    "# sb = second_layer_biases"
   ]
  },
  {
   "cell_type": "code",
   "execution_count": 411,
   "id": "indie-browse",
   "metadata": {},
   "outputs": [
    {
     "data": {
      "text/plain": [
       "(784, 8)"
      ]
     },
     "execution_count": 411,
     "metadata": {},
     "output_type": "execute_result"
    }
   ],
   "source": [
    "fw.shape"
   ]
  },
  {
   "cell_type": "code",
   "execution_count": 412,
   "id": "variable-luxury",
   "metadata": {},
   "outputs": [
    {
     "data": {
      "text/plain": [
       "(8, 10)"
      ]
     },
     "execution_count": 412,
     "metadata": {},
     "output_type": "execute_result"
    }
   ],
   "source": [
    "sw.shape"
   ]
  },
  {
   "cell_type": "code",
   "execution_count": 413,
   "id": "graphic-basement",
   "metadata": {},
   "outputs": [
    {
     "data": {
      "text/plain": [
       "array([[ 10, -35, -86, ...,  29,  40, -79],\n",
       "       [  4, -11, -20, ...,  63, -16, -47],\n",
       "       [-64, -52,   8, ..., -37,  39, -48],\n",
       "       ...,\n",
       "       [  7, -19, -13, ...,  45, -24,   2],\n",
       "       [-16, -49,  33, ...,  65, -38,  -1],\n",
       "       [-70, -11,  30, ...,  40,  -2,  -2]])"
      ]
     },
     "execution_count": 413,
     "metadata": {},
     "output_type": "execute_result"
    }
   ],
   "source": [
    "fw"
   ]
  },
  {
   "cell_type": "code",
   "execution_count": 414,
   "id": "oriental-anger",
   "metadata": {},
   "outputs": [
    {
     "data": {
      "text/plain": [
       "array([[ 29,  20,  14, -10, -30,  -8,  31, -30,  10, -21],\n",
       "       [ 12, -23,  14, -11,   9,  11, -13, -12,  18,  -2],\n",
       "       [-27,   2,  10, -11,  32,   0,  27, -12,  -7, -21],\n",
       "       [ 17, -29, -16,  12,  16,   4,   0, -15, -15,  27],\n",
       "       [  2,  14,  17,   4, -10,  -4, -21,  28, -25,  -8],\n",
       "       [-23, -21,  24,  28, -19,  18,  11,   0,  -9, -18],\n",
       "       [  8,  26, -14,  20, -21,  27, -13, -26,  18, -19],\n",
       "       [-32,   9,  12,  10,  -2, -27, -19,   4,  19,  21]])"
      ]
     },
     "execution_count": 414,
     "metadata": {},
     "output_type": "execute_result"
    }
   ],
   "source": [
    "sw"
   ]
  },
  {
   "cell_type": "code",
   "execution_count": 415,
   "id": "functional-surveillance",
   "metadata": {},
   "outputs": [],
   "source": [
    "## testing prediction with builtin functions"
   ]
  },
  {
   "cell_type": "code",
   "execution_count": 416,
   "id": "blind-juice",
   "metadata": {},
   "outputs": [],
   "source": [
    "def sigmoid(x):\n",
    "    return (1/(1+np.exp(-x)))\n",
    "def softmax(x):\n",
    "    sumexp = np.sum(np.exp(x))\n",
    "    return((np.exp(x)/sumexp))\n",
    "def layer1(x,w,b):\n",
    "    return sigmoid(np.dot(x,w)+b)\n",
    "def layer2(x,w,b):\n",
    "    return  softmax(np.dot(x,w)+b)"
   ]
  },
  {
   "cell_type": "code",
   "execution_count": 417,
   "id": "consecutive-matthew",
   "metadata": {},
   "outputs": [
    {
     "name": "stderr",
     "output_type": "stream",
     "text": [
      "<ipython-input-416-53500530f9b4>:2: RuntimeWarning: overflow encountered in exp\n",
      "  return (1/(1+np.exp(-x)))\n"
     ]
    }
   ],
   "source": [
    "layer1_out = layer1(x_test,fw,fb)\n",
    "# layer1_out[:50]\n"
   ]
  },
  {
   "cell_type": "code",
   "execution_count": 418,
   "id": "proved-ottawa",
   "metadata": {},
   "outputs": [
    {
     "data": {
      "text/plain": [
       "array([5.34413380e-55, 6.93038469e-32, 1.03045605e-29, 7.70149039e-36,\n",
       "       1.57898075e-46, 7.96922481e-55, 5.88358763e-59, 2.85109143e-26,\n",
       "       5.29771478e-44, 1.64514522e-35])"
      ]
     },
     "execution_count": 418,
     "metadata": {},
     "output_type": "execute_result"
    }
   ],
   "source": [
    "layer2_out = layer2(layer1_out,sw,sb)\n",
    "layer2_out[0]"
   ]
  },
  {
   "cell_type": "code",
   "execution_count": 419,
   "id": "everyday-cylinder",
   "metadata": {},
   "outputs": [],
   "source": [
    "pred= np.zeros(layer2_out.shape[0])\n",
    "for i in range(layer2_out.shape[0]):\n",
    "    pred[i] = np.argmax(layer2_out[i])"
   ]
  },
  {
   "cell_type": "code",
   "execution_count": 420,
   "id": "caring-aquatic",
   "metadata": {},
   "outputs": [
    {
     "data": {
      "text/plain": [
       "array([7, 2, 1, ..., 4, 5, 6], dtype=uint8)"
      ]
     },
     "execution_count": 420,
     "metadata": {},
     "output_type": "execute_result"
    }
   ],
   "source": [
    "y_orig_test"
   ]
  },
  {
   "cell_type": "code",
   "execution_count": 421,
   "id": "provincial-davis",
   "metadata": {},
   "outputs": [
    {
     "data": {
      "text/plain": [
       "array([7., 5., 1., ..., 4., 0., 6.])"
      ]
     },
     "execution_count": 421,
     "metadata": {},
     "output_type": "execute_result"
    }
   ],
   "source": [
    "pred"
   ]
  },
  {
   "cell_type": "code",
   "execution_count": 422,
   "id": "stupid-retro",
   "metadata": {},
   "outputs": [
    {
     "data": {
      "text/plain": [
       "0.8178"
      ]
     },
     "execution_count": 422,
     "metadata": {},
     "output_type": "execute_result"
    }
   ],
   "source": [
    "from sklearn.metrics import accuracy_score\n",
    "accuracy_score(pred,y_orig_test)"
   ]
  },
  {
   "cell_type": "code",
   "execution_count": 208,
   "id": "american-narrow",
   "metadata": {},
   "outputs": [],
   "source": [
    "# in depth layers\n",
    "\n",
    "def create_dense(layer_sizes):\n",
    "    model = Sequential()\n",
    "    model.add(Dense(layer_sizes[0], activation='sigmoid', input_shape=(image_size,)))\n",
    "\n",
    "    for s in layer_sizes[1:]:\n",
    "        model.add(Dense(units = s, activation = 'sigmoid'))\n",
    "\n",
    "    model.add(Dense(units=num_classes, activation='softmax'))\n",
    "    return model\n",
    "\n",
    "def evaluate(model, batch_size=128, epochs=5):\n",
    "    model.summary()\n",
    "    model.compile(optimizer='sgd', loss='categorical_crossentropy', metrics=['acc'])\n",
    "    history = model.fit(x_train, y_train, batch_size=batch_size, epochs=epochs, validation_split=.1, verbose=False)\n",
    "    loss, accuracy  = model.evaluate(x_test, y_test, verbose=False)\n",
    "    \n",
    "    plt.plot(history.history['acc'])\n",
    "    plt.plot(history.history['val_acc'])\n",
    "    plt.title('model accuracy')\n",
    "    plt.ylabel('accuracy')\n",
    "    plt.xlabel('epoch')\n",
    "    plt.legend(['training', 'validation'], loc='best')\n",
    "    plt.show()\n",
    "\n",
    "    print()\n",
    "    print(f'Test loss: {loss:.3}')\n",
    "    print(f'Test accuracy: {accuracy:.3}')"
   ]
  },
  {
   "cell_type": "code",
   "execution_count": 27,
   "id": "plain-stereo",
   "metadata": {},
   "outputs": [
    {
     "name": "stdout",
     "output_type": "stream",
     "text": [
      "Model: \"sequential_7\"\n",
      "_________________________________________________________________\n",
      "Layer (type)                 Output Shape              Param #   \n",
      "=================================================================\n",
      "dense_20 (Dense)             (None, 32)                25120     \n",
      "_________________________________________________________________\n",
      "dense_21 (Dense)             (None, 10)                330       \n",
      "=================================================================\n",
      "Total params: 25,450\n",
      "Trainable params: 25,450\n",
      "Non-trainable params: 0\n",
      "_________________________________________________________________\n"
     ]
    },
    {
     "data": {
      "image/png": "[encoded data removed]",
      "text/plain": [
       "<Figure size 432x288 with 1 Axes>"
      ]
     },
     "metadata": {
      "needs_background": "light"
     },
     "output_type": "display_data"
    },
    {
     "name": "stdout",
     "output_type": "stream",
     "text": [
      "\n",
      "Test loss: 0.494\n",
      "Test accuracy: 0.888\n",
      "Model: \"sequential_8\"\n",
      "_________________________________________________________________\n",
      "Layer (type)                 Output Shape              Param #   \n",
      "=================================================================\n",
      "dense_22 (Dense)             (None, 32)                25120     \n",
      "_________________________________________________________________\n",
      "dense_23 (Dense)             (None, 32)                1056      \n",
      "_________________________________________________________________\n",
      "dense_24 (Dense)             (None, 10)                330       \n",
      "=================================================================\n",
      "Total params: 26,506\n",
      "Trainable params: 26,506\n",
      "Non-trainable params: 0\n",
      "_________________________________________________________________\n"
     ]
    },
    {
     "data": {
      "image/png": "[encoded data removed]",
      "text/plain": [
       "<Figure size 432x288 with 1 Axes>"
      ]
     },
     "metadata": {
      "needs_background": "light"
     },
     "output_type": "display_data"
    },
    {
     "name": "stdout",
     "output_type": "stream",
     "text": [
      "\n",
      "Test loss: 1.16\n",
      "Test accuracy: 0.814\n",
      "Model: \"sequential_9\"\n",
      "_________________________________________________________________\n",
      "Layer (type)                 Output Shape              Param #   \n",
      "=================================================================\n",
      "dense_25 (Dense)             (None, 32)                25120     \n",
      "_________________________________________________________________\n",
      "dense_26 (Dense)             (None, 32)                1056      \n",
      "_________________________________________________________________\n",
      "dense_27 (Dense)             (None, 32)                1056      \n",
      "_________________________________________________________________\n",
      "dense_28 (Dense)             (None, 10)                330       \n",
      "=================================================================\n",
      "Total params: 27,562\n",
      "Trainable params: 27,562\n",
      "Non-trainable params: 0\n",
      "_________________________________________________________________\n"
     ]
    },
    {
     "data": {
      "image/png": "[encoded data removed]",
      "text/plain": [
       "<Figure size 432x288 with 1 Axes>"
      ]
     },
     "metadata": {
      "needs_background": "light"
     },
     "output_type": "display_data"
    },
    {
     "name": "stdout",
     "output_type": "stream",
     "text": [
      "\n",
      "Test loss: 2.15\n",
      "Test accuracy: 0.569\n",
      "Model: \"sequential_10\"\n",
      "_________________________________________________________________\n",
      "Layer (type)                 Output Shape              Param #   \n",
      "=================================================================\n",
      "dense_29 (Dense)             (None, 32)                25120     \n",
      "_________________________________________________________________\n",
      "dense_30 (Dense)             (None, 32)                1056      \n",
      "_________________________________________________________________\n",
      "dense_31 (Dense)             (None, 32)                1056      \n",
      "_________________________________________________________________\n",
      "dense_32 (Dense)             (None, 32)                1056      \n",
      "_________________________________________________________________\n",
      "dense_33 (Dense)             (None, 10)                330       \n",
      "=================================================================\n",
      "Total params: 28,618\n",
      "Trainable params: 28,618\n",
      "Non-trainable params: 0\n",
      "_________________________________________________________________\n"
     ]
    },
    {
     "data": {
      "image/png": "[encoded data removed]",
      "text/plain": [
       "<Figure size 432x288 with 1 Axes>"
      ]
     },
     "metadata": {
      "needs_background": "light"
     },
     "output_type": "display_data"
    },
    {
     "name": "stdout",
     "output_type": "stream",
     "text": [
      "\n",
      "Test loss: 2.29\n",
      "Test accuracy: 0.113\n"
     ]
    }
   ],
   "source": [
    "for layers in range(1, 5):\n",
    "    model = create_dense([32] * layers)\n",
    "    evaluate(model)"
   ]
  },
  {
   "cell_type": "code",
   "execution_count": null,
   "id": "amateur-subdivision",
   "metadata": {},
   "outputs": [],
   "source": []
  }
 ],
 "metadata": {
  "kernelspec": {
   "display_name": "Python 3",
   "language": "python",
   "name": "python3"
  },
  "language_info": {
   "codemirror_mode": {
    "name": "ipython",
    "version": 3
   },
   "file_extension": ".py",
   "mimetype": "text/x-python",
   "name": "python",
   "nbconvert_exporter": "python",
   "pygments_lexer": "ipython3",
   "version": "3.9.2"
  }
 },
 "nbformat": 4,
 "nbformat_minor": 5
}
