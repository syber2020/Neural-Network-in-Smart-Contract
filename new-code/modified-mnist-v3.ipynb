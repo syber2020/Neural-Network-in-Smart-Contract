{
 "cells": [
  {
   "cell_type": "code",
   "execution_count": 3,
   "id": "5ea50fc3",
   "metadata": {},
   "outputs": [
    {
     "ename": "ModuleNotFoundError",
     "evalue": "No module named 'web3_softmax'",
     "output_type": "error",
     "traceback": [
      "\u001b[0;31m---------------------------------------------------------------------------\u001b[0m",
      "\u001b[0;31mModuleNotFoundError\u001b[0m                       Traceback (most recent call last)",
      "\u001b[0;32m/var/folders/9j/xg5sl5n57fs3q8d3c9svsb1r0000gq/T/ipykernel_3756/3396417242.py\u001b[0m in \u001b[0;36m<module>\u001b[0;34m\u001b[0m\n\u001b[1;32m      1\u001b[0m \u001b[0;32mfrom\u001b[0m \u001b[0mkeras\u001b[0m\u001b[0;34m.\u001b[0m\u001b[0mdatasets\u001b[0m \u001b[0;32mimport\u001b[0m \u001b[0mmnist\u001b[0m\u001b[0;34m\u001b[0m\u001b[0;34m\u001b[0m\u001b[0m\n\u001b[1;32m      2\u001b[0m \u001b[0;32mimport\u001b[0m \u001b[0mnumpy\u001b[0m \u001b[0;32mas\u001b[0m \u001b[0mnp\u001b[0m\u001b[0;34m\u001b[0m\u001b[0;34m\u001b[0m\u001b[0m\n\u001b[0;32m----> 3\u001b[0;31m \u001b[0;32mfrom\u001b[0m \u001b[0mweb3_softmax\u001b[0m\u001b[0;34m.\u001b[0m\u001b[0mipynb\u001b[0m \u001b[0;32mimport\u001b[0m \u001b[0;34m*\u001b[0m\u001b[0;34m\u001b[0m\u001b[0;34m\u001b[0m\u001b[0m\n\u001b[0m\u001b[1;32m      4\u001b[0m \u001b[0;32mfrom\u001b[0m \u001b[0mweb3_sigmoid_v2\u001b[0m \u001b[0;32mimport\u001b[0m \u001b[0;34m*\u001b[0m\u001b[0;34m\u001b[0m\u001b[0;34m\u001b[0m\u001b[0m\n",
      "\u001b[0;31mModuleNotFoundError\u001b[0m: No module named 'web3_softmax'"
     ]
    }
   ],
   "source": [
    "from keras.datasets import mnist\n",
    "import numpy as np \n",
    "from web3_softmax.ipynb import *\n",
    "from web3_sigmoid_v2 import *"
   ]
  },
  {
   "cell_type": "code",
   "execution_count": 1,
   "id": "administrative-appreciation",
   "metadata": {},
   "outputs": [
    {
     "name": "stdout",
     "output_type": "stream",
     "text": [
      "Downloading data from https://storage.googleapis.com/tensorflow/tf-keras-datasets/mnist.npz\n",
      "11493376/11490434 [==============================] - 2s 0us/step\n",
      "11501568/11490434 [==============================] - 2s 0us/step\n"
     ]
    }
   ],
   "source": [
    "\n",
    "(x_train, y_train), (x_test, y_test) = mnist.load_data()"
   ]
  },
  {
   "cell_type": "code",
   "execution_count": 2,
   "id": "pacific-floor",
   "metadata": {},
   "outputs": [
    {
     "name": "stdout",
     "output_type": "stream",
     "text": [
      "Training data shape:  (60000, 28, 28)\n",
      "Test data shape (10000, 28, 28)\n"
     ]
    }
   ],
   "source": [
    "\n",
    "from keras.datasets import mnist\n",
    "\n",
    "# Setup train and test splits\n",
    "(x_train, y_train), (x_test, y_test) = mnist.load_data()\n",
    "print(\"Training data shape: \", x_train.shape) # (60000, 28, 28) -- 60000 images, each 28x28 pixels\n",
    "print(\"Test data shape\", x_test.shape) # (10000, 28, 28) -- 10000 images, each 28x28\n",
    "\n",
    "# Flatten the images\n",
    "image_vector_size = 28*28\n",
    "x_train = x_train.reshape(x_train.shape[0], image_vector_size)\n",
    "x_test = x_test.reshape(x_test.shape[0], image_vector_size)\n",
    "y_orig_test = y_test"
   ]
  },
  {
   "cell_type": "code",
   "execution_count": null,
   "id": "laughing-violin",
   "metadata": {},
   "outputs": [],
   "source": []
  },
  {
   "cell_type": "code",
   "execution_count": 3,
   "id": "overhead-collectible",
   "metadata": {},
   "outputs": [
    {
     "name": "stdout",
     "output_type": "stream",
     "text": [
      "First 5 training lables as one-hot encoded vectors:\n",
      " [[0. 0. 0. 0. 0. 1. 0. 0. 0. 0.]\n",
      " [1. 0. 0. 0. 0. 0. 0. 0. 0. 0.]\n",
      " [0. 0. 0. 0. 1. 0. 0. 0. 0. 0.]\n",
      " [0. 1. 0. 0. 0. 0. 0. 0. 0. 0.]\n",
      " [0. 0. 0. 0. 0. 0. 0. 0. 0. 1.]]\n"
     ]
    },
    {
     "data": {
      "text/plain": [
       "'\\n[[0, 0, 0, 0, 0, 1, 0, 0, 0, 0]\\n [1, 0, 0, 0, 0, 0, 0, 0, 0, 0]\\n [0, 0, 0, 0, 1, 0, 0, 0, 0, 0]\\n [0, 1, 0, 0, 0, 0, 0, 0, 0, 0]\\n [0, 0, 0, 0, 0, 0, 0, 0, 0, 1]]\\n'"
      ]
     },
     "execution_count": 3,
     "metadata": {},
     "output_type": "execute_result"
    }
   ],
   "source": [
    "from tensorflow import keras\n",
    "from keras.datasets import mnist\n",
    "from keras import utils as np_utils\n",
    "\n",
    "# Setup train and test splits\n",
    "# (x_train, y_train), (x_test, y_test) = mnist.load_data()\n",
    "# print(\"Training label shape: \", y_train.shape) # (60000,) -- 60000 numbers (all 0-9)\n",
    "# print(\"First 5 training labels: \", y_train[:5]) # [5, 0, 4, 1, 9]\n",
    "\n",
    "# Convert to \"one-hot\" vectors using the to_categorical function\n",
    "num_classes = 10\n",
    "y_train = keras.utils.to_categorical(y_train, num_classes)\n",
    "y_test = keras.utils.to_categorical(y_test, num_classes)\n",
    "print(\"First 5 training lables as one-hot encoded vectors:\\n\", y_train[:5])\n",
    "\n",
    "# This is the one-hot version of: [5, 0, 4, 1, 9]\n",
    "\"\"\"\n",
    "[[0, 0, 0, 0, 0, 1, 0, 0, 0, 0]\n",
    " [1, 0, 0, 0, 0, 0, 0, 0, 0, 0]\n",
    " [0, 0, 0, 0, 1, 0, 0, 0, 0, 0]\n",
    " [0, 1, 0, 0, 0, 0, 0, 0, 0, 0]\n",
    " [0, 0, 0, 0, 0, 0, 0, 0, 0, 1]]\n",
    "\"\"\""
   ]
  },
  {
   "cell_type": "code",
   "execution_count": 5,
   "id": "applicable-influence",
   "metadata": {},
   "outputs": [
    {
     "name": "stdout",
     "output_type": "stream",
     "text": [
      "Model: \"sequential_1\"\n",
      "_________________________________________________________________\n",
      " Layer (type)                Output Shape              Param #   \n",
      "=================================================================\n",
      " dense_2 (Dense)             (None, 4)                 3140      \n",
      "                                                                 \n",
      " dense_3 (Dense)             (None, 10)                50        \n",
      "                                                                 \n",
      "=================================================================\n",
      "Total params: 3,190\n",
      "Trainable params: 3,190\n",
      "Non-trainable params: 0\n",
      "_________________________________________________________________\n"
     ]
    }
   ],
   "source": [
    "import matplotlib.pyplot as plt \n",
    "from keras.layers import Dense # Dense layers are \"fully connected\" layers\n",
    "from keras.models import Sequential # Documentation: https://keras.io/models/sequential/\n",
    "\n",
    "image_size = 784 # 28*28\n",
    "num_classes = 10 # ten unique digits\n",
    "\n",
    "model = Sequential()\n",
    "\n",
    "# The input layer requires the special input_shape parameter which should match\n",
    "# the shape of our training data.\n",
    "model.add(Dense(units=4, activation='sigmoid', input_shape=(image_size,)))\n",
    "model.add(Dense(units=num_classes, activation='softmax'))\n",
    "model.summary()"
   ]
  },
  {
   "cell_type": "code",
   "execution_count": 7,
   "id": "forbidden-interpretation",
   "metadata": {},
   "outputs": [
    {
     "name": "stdout",
     "output_type": "stream",
     "text": [
      "Epoch 1/100\n",
      "422/422 [==============================] - 1s 2ms/step - loss: 1.5568 - acc: 0.7092 - val_loss: 1.4731 - val_acc: 0.7493\n",
      "Epoch 2/100\n",
      "422/422 [==============================] - 1s 2ms/step - loss: 1.4671 - acc: 0.7188 - val_loss: 1.3905 - val_acc: 0.7470\n",
      "Epoch 3/100\n",
      "422/422 [==============================] - 1s 2ms/step - loss: 1.3976 - acc: 0.7191 - val_loss: 1.3322 - val_acc: 0.7400\n",
      "Epoch 4/100\n",
      "422/422 [==============================] - 1s 2ms/step - loss: 1.3364 - acc: 0.7203 - val_loss: 1.2819 - val_acc: 0.7442\n",
      "Epoch 5/100\n",
      "422/422 [==============================] - 1s 2ms/step - loss: 1.2837 - acc: 0.7238 - val_loss: 1.2165 - val_acc: 0.7415\n",
      "Epoch 6/100\n",
      "422/422 [==============================] - 1s 2ms/step - loss: 1.2354 - acc: 0.7282 - val_loss: 1.1693 - val_acc: 0.7558\n",
      "Epoch 7/100\n",
      "422/422 [==============================] - 1s 2ms/step - loss: 1.1951 - acc: 0.7351 - val_loss: 1.1458 - val_acc: 0.7408\n",
      "Epoch 8/100\n",
      "422/422 [==============================] - 1s 2ms/step - loss: 1.1673 - acc: 0.7312 - val_loss: 1.1073 - val_acc: 0.7512\n",
      "Epoch 9/100\n",
      "422/422 [==============================] - 1s 2ms/step - loss: 1.1367 - acc: 0.7313 - val_loss: 1.0730 - val_acc: 0.7572\n",
      "Epoch 10/100\n",
      "422/422 [==============================] - 1s 2ms/step - loss: 1.1053 - acc: 0.7369 - val_loss: 1.0711 - val_acc: 0.7433\n",
      "Epoch 11/100\n",
      "422/422 [==============================] - 1s 2ms/step - loss: 1.0835 - acc: 0.7360 - val_loss: 1.0387 - val_acc: 0.7485\n",
      "Epoch 12/100\n",
      "422/422 [==============================] - 1s 2ms/step - loss: 1.0711 - acc: 0.7299 - val_loss: 1.0059 - val_acc: 0.7577\n",
      "Epoch 13/100\n",
      "422/422 [==============================] - 1s 2ms/step - loss: 1.0546 - acc: 0.7350 - val_loss: 1.0007 - val_acc: 0.7638\n",
      "Epoch 14/100\n",
      "422/422 [==============================] - 1s 2ms/step - loss: 1.0368 - acc: 0.7411 - val_loss: 0.9783 - val_acc: 0.7638\n",
      "Epoch 15/100\n",
      "422/422 [==============================] - 1s 2ms/step - loss: 1.0155 - acc: 0.7469 - val_loss: 0.9591 - val_acc: 0.7645\n",
      "Epoch 16/100\n",
      "422/422 [==============================] - 1s 2ms/step - loss: 1.0059 - acc: 0.7438 - val_loss: 0.9482 - val_acc: 0.7667\n",
      "Epoch 17/100\n",
      "422/422 [==============================] - 1s 2ms/step - loss: 0.9917 - acc: 0.7456 - val_loss: 0.9332 - val_acc: 0.7718\n",
      "Epoch 18/100\n",
      "422/422 [==============================] - 1s 2ms/step - loss: 0.9860 - acc: 0.7400 - val_loss: 0.9328 - val_acc: 0.7532\n",
      "Epoch 19/100\n",
      "422/422 [==============================] - 1s 2ms/step - loss: 0.9626 - acc: 0.7446 - val_loss: 0.9088 - val_acc: 0.7665\n",
      "Epoch 20/100\n",
      "422/422 [==============================] - 1s 2ms/step - loss: 0.9705 - acc: 0.7365 - val_loss: 0.8989 - val_acc: 0.7683\n",
      "Epoch 21/100\n",
      "422/422 [==============================] - 1s 2ms/step - loss: 0.9498 - acc: 0.7420 - val_loss: 0.9222 - val_acc: 0.7477\n",
      "Epoch 22/100\n",
      "422/422 [==============================] - 1s 2ms/step - loss: 0.9405 - acc: 0.7463 - val_loss: 0.8938 - val_acc: 0.7637\n",
      "Epoch 23/100\n",
      "422/422 [==============================] - 1s 2ms/step - loss: 0.9453 - acc: 0.7393 - val_loss: 0.8797 - val_acc: 0.7587\n",
      "Epoch 24/100\n",
      "422/422 [==============================] - 1s 2ms/step - loss: 0.9309 - acc: 0.7404 - val_loss: 0.8924 - val_acc: 0.7630\n",
      "Epoch 25/100\n",
      "422/422 [==============================] - 1s 2ms/step - loss: 0.9260 - acc: 0.7476 - val_loss: 0.8764 - val_acc: 0.7633\n",
      "Epoch 26/100\n",
      "422/422 [==============================] - 1s 2ms/step - loss: 0.9092 - acc: 0.7521 - val_loss: 0.8606 - val_acc: 0.7673\n",
      "Epoch 27/100\n",
      "422/422 [==============================] - 1s 2ms/step - loss: 0.9207 - acc: 0.7435 - val_loss: 0.8560 - val_acc: 0.7682\n",
      "Epoch 28/100\n",
      "422/422 [==============================] - 1s 2ms/step - loss: 0.9149 - acc: 0.7458 - val_loss: 0.8684 - val_acc: 0.7620\n",
      "Epoch 29/100\n",
      "422/422 [==============================] - 1s 2ms/step - loss: 0.8982 - acc: 0.7512 - val_loss: 0.8445 - val_acc: 0.7743\n",
      "Epoch 30/100\n",
      "422/422 [==============================] - 1s 2ms/step - loss: 0.9012 - acc: 0.7497 - val_loss: 0.8733 - val_acc: 0.7590\n",
      "Epoch 31/100\n",
      "422/422 [==============================] - 1s 2ms/step - loss: 0.8908 - acc: 0.7526 - val_loss: 0.8441 - val_acc: 0.7695\n",
      "Epoch 32/100\n",
      "422/422 [==============================] - 1s 2ms/step - loss: 0.8882 - acc: 0.7482 - val_loss: 0.8701 - val_acc: 0.7527\n",
      "Epoch 33/100\n",
      "422/422 [==============================] - 1s 2ms/step - loss: 0.8923 - acc: 0.7453 - val_loss: 0.8646 - val_acc: 0.7568\n",
      "Epoch 34/100\n",
      "422/422 [==============================] - 1s 2ms/step - loss: 0.8941 - acc: 0.7468 - val_loss: 0.8315 - val_acc: 0.7700\n",
      "Epoch 35/100\n",
      "422/422 [==============================] - 1s 2ms/step - loss: 0.8782 - acc: 0.7521 - val_loss: 0.8654 - val_acc: 0.7543\n",
      "Epoch 36/100\n",
      "422/422 [==============================] - 1s 2ms/step - loss: 0.8774 - acc: 0.7490 - val_loss: 0.8133 - val_acc: 0.7798\n",
      "Epoch 37/100\n",
      "422/422 [==============================] - 1s 2ms/step - loss: 0.8671 - acc: 0.7544 - val_loss: 0.8121 - val_acc: 0.7778\n",
      "Epoch 38/100\n",
      "422/422 [==============================] - 1s 2ms/step - loss: 0.8598 - acc: 0.7586 - val_loss: 0.8033 - val_acc: 0.7773\n",
      "Epoch 39/100\n",
      "422/422 [==============================] - 1s 2ms/step - loss: 0.8595 - acc: 0.7558 - val_loss: 0.8254 - val_acc: 0.7665\n",
      "Epoch 40/100\n",
      "422/422 [==============================] - 1s 2ms/step - loss: 0.8621 - acc: 0.7542 - val_loss: 0.7961 - val_acc: 0.7758\n",
      "Epoch 41/100\n",
      "422/422 [==============================] - 1s 2ms/step - loss: 0.8607 - acc: 0.7504 - val_loss: 0.8277 - val_acc: 0.7670\n",
      "Epoch 42/100\n",
      "422/422 [==============================] - 1s 2ms/step - loss: 0.8417 - acc: 0.7601 - val_loss: 0.7842 - val_acc: 0.7810\n",
      "Epoch 43/100\n",
      "422/422 [==============================] - 1s 2ms/step - loss: 0.8504 - acc: 0.7545 - val_loss: 0.8041 - val_acc: 0.7723\n",
      "Epoch 44/100\n",
      "422/422 [==============================] - 1s 2ms/step - loss: 0.8417 - acc: 0.7594 - val_loss: 0.8093 - val_acc: 0.7725\n",
      "Epoch 45/100\n",
      "422/422 [==============================] - 1s 2ms/step - loss: 0.8526 - acc: 0.7549 - val_loss: 0.8639 - val_acc: 0.7452\n",
      "Epoch 46/100\n",
      "422/422 [==============================] - 1s 2ms/step - loss: 0.8469 - acc: 0.7541 - val_loss: 0.7937 - val_acc: 0.7740\n",
      "Epoch 47/100\n",
      "422/422 [==============================] - 1s 2ms/step - loss: 0.8387 - acc: 0.7559 - val_loss: 0.7996 - val_acc: 0.7702\n",
      "Epoch 48/100\n",
      "422/422 [==============================] - 1s 2ms/step - loss: 0.8420 - acc: 0.7554 - val_loss: 0.7819 - val_acc: 0.7722\n",
      "Epoch 49/100\n",
      "422/422 [==============================] - 1s 2ms/step - loss: 0.8396 - acc: 0.7576 - val_loss: 0.8196 - val_acc: 0.7538\n",
      "Epoch 50/100\n",
      "422/422 [==============================] - 1s 2ms/step - loss: 0.8420 - acc: 0.7552 - val_loss: 0.8334 - val_acc: 0.7553\n",
      "Epoch 51/100\n",
      "422/422 [==============================] - 1s 2ms/step - loss: 0.8296 - acc: 0.7584 - val_loss: 0.7847 - val_acc: 0.7658\n",
      "Epoch 52/100\n",
      "422/422 [==============================] - 1s 2ms/step - loss: 0.8416 - acc: 0.7534 - val_loss: 0.7745 - val_acc: 0.7817\n",
      "Epoch 53/100\n",
      "422/422 [==============================] - 1s 2ms/step - loss: 0.8240 - acc: 0.7608 - val_loss: 0.7852 - val_acc: 0.7755\n",
      "Epoch 54/100\n",
      "422/422 [==============================] - 1s 2ms/step - loss: 0.8515 - acc: 0.7491 - val_loss: 0.7849 - val_acc: 0.7763\n",
      "Epoch 55/100\n",
      "422/422 [==============================] - 1s 2ms/step - loss: 0.8363 - acc: 0.7574 - val_loss: 0.7858 - val_acc: 0.7740\n",
      "Epoch 56/100\n",
      "422/422 [==============================] - 1s 2ms/step - loss: 0.8317 - acc: 0.7582 - val_loss: 0.8026 - val_acc: 0.7673\n",
      "Epoch 57/100\n",
      "422/422 [==============================] - 1s 2ms/step - loss: 0.8378 - acc: 0.7565 - val_loss: 0.7875 - val_acc: 0.7727\n",
      "Epoch 58/100\n",
      "422/422 [==============================] - 1s 2ms/step - loss: 0.8127 - acc: 0.7626 - val_loss: 0.7633 - val_acc: 0.7800\n",
      "Epoch 59/100\n",
      "422/422 [==============================] - 1s 2ms/step - loss: 0.8243 - acc: 0.7576 - val_loss: 0.7754 - val_acc: 0.7748\n",
      "Epoch 60/100\n",
      "422/422 [==============================] - 1s 2ms/step - loss: 0.8164 - acc: 0.7628 - val_loss: 0.8058 - val_acc: 0.7615\n",
      "Epoch 61/100\n",
      "422/422 [==============================] - 1s 2ms/step - loss: 0.8284 - acc: 0.7589 - val_loss: 0.7720 - val_acc: 0.7777\n",
      "Epoch 62/100\n",
      "422/422 [==============================] - 1s 2ms/step - loss: 0.8129 - acc: 0.7631 - val_loss: 0.7778 - val_acc: 0.7775\n",
      "Epoch 63/100\n",
      "422/422 [==============================] - 1s 2ms/step - loss: 0.8126 - acc: 0.7631 - val_loss: 0.7749 - val_acc: 0.7723\n",
      "Epoch 64/100\n",
      "422/422 [==============================] - 1s 2ms/step - loss: 0.8190 - acc: 0.7591 - val_loss: 0.7738 - val_acc: 0.7750\n",
      "Epoch 65/100\n",
      "422/422 [==============================] - 1s 2ms/step - loss: 0.8246 - acc: 0.7560 - val_loss: 0.7935 - val_acc: 0.7650\n",
      "Epoch 66/100\n",
      "422/422 [==============================] - 1s 2ms/step - loss: 0.8193 - acc: 0.7586 - val_loss: 0.8062 - val_acc: 0.7665\n",
      "Epoch 67/100\n",
      "422/422 [==============================] - 1s 2ms/step - loss: 0.8114 - acc: 0.7633 - val_loss: 0.7688 - val_acc: 0.7775\n",
      "Epoch 68/100\n",
      "422/422 [==============================] - 1s 2ms/step - loss: 0.8143 - acc: 0.7606 - val_loss: 0.7606 - val_acc: 0.7783\n",
      "Epoch 69/100\n",
      "422/422 [==============================] - 1s 2ms/step - loss: 0.8138 - acc: 0.7596 - val_loss: 0.7808 - val_acc: 0.7710\n",
      "Epoch 70/100\n",
      "422/422 [==============================] - 1s 2ms/step - loss: 0.8197 - acc: 0.7581 - val_loss: 0.7580 - val_acc: 0.7757\n",
      "Epoch 71/100\n",
      "422/422 [==============================] - 1s 2ms/step - loss: 0.8146 - acc: 0.7599 - val_loss: 0.7819 - val_acc: 0.7670\n",
      "Epoch 72/100\n",
      "422/422 [==============================] - 1s 2ms/step - loss: 0.8251 - acc: 0.7569 - val_loss: 0.7617 - val_acc: 0.7758\n",
      "Epoch 73/100\n",
      "422/422 [==============================] - 1s 2ms/step - loss: 0.8382 - acc: 0.7524 - val_loss: 0.7594 - val_acc: 0.7757\n",
      "Epoch 74/100\n",
      "422/422 [==============================] - 1s 2ms/step - loss: 0.8012 - acc: 0.7649 - val_loss: 0.7654 - val_acc: 0.7813\n",
      "Epoch 75/100\n",
      "422/422 [==============================] - 1s 2ms/step - loss: 0.8027 - acc: 0.7701 - val_loss: 0.7437 - val_acc: 0.7892\n",
      "Epoch 76/100\n",
      "422/422 [==============================] - 1s 2ms/step - loss: 0.8086 - acc: 0.7677 - val_loss: 0.7596 - val_acc: 0.7850\n",
      "Epoch 77/100\n",
      "422/422 [==============================] - 1s 2ms/step - loss: 0.8161 - acc: 0.7639 - val_loss: 0.7551 - val_acc: 0.7865\n",
      "Epoch 78/100\n",
      "422/422 [==============================] - 1s 2ms/step - loss: 0.8089 - acc: 0.7664 - val_loss: 0.7795 - val_acc: 0.7732\n",
      "Epoch 79/100\n",
      "422/422 [==============================] - 1s 2ms/step - loss: 0.8127 - acc: 0.7605 - val_loss: 0.7781 - val_acc: 0.7775\n",
      "Epoch 80/100\n",
      "422/422 [==============================] - 1s 2ms/step - loss: 0.7990 - acc: 0.7660 - val_loss: 0.7379 - val_acc: 0.7862\n",
      "Epoch 81/100\n",
      "422/422 [==============================] - 1s 2ms/step - loss: 0.7966 - acc: 0.7668 - val_loss: 0.7423 - val_acc: 0.7827\n",
      "Epoch 82/100\n",
      "422/422 [==============================] - 1s 2ms/step - loss: 0.8012 - acc: 0.7662 - val_loss: 0.7669 - val_acc: 0.7707\n",
      "Epoch 83/100\n",
      "422/422 [==============================] - 1s 2ms/step - loss: 0.8208 - acc: 0.7576 - val_loss: 0.7611 - val_acc: 0.7773\n",
      "Epoch 84/100\n",
      "422/422 [==============================] - 1s 2ms/step - loss: 0.7989 - acc: 0.7692 - val_loss: 0.7468 - val_acc: 0.7920\n",
      "Epoch 85/100\n",
      "422/422 [==============================] - 1s 2ms/step - loss: 0.7940 - acc: 0.7715 - val_loss: 0.7518 - val_acc: 0.7885\n",
      "Epoch 86/100\n",
      "422/422 [==============================] - 1s 2ms/step - loss: 0.7995 - acc: 0.7672 - val_loss: 0.7386 - val_acc: 0.7928\n",
      "Epoch 87/100\n",
      "422/422 [==============================] - 1s 2ms/step - loss: 0.7952 - acc: 0.7694 - val_loss: 0.7599 - val_acc: 0.7858\n",
      "Epoch 88/100\n",
      "422/422 [==============================] - 1s 2ms/step - loss: 0.7960 - acc: 0.7671 - val_loss: 0.7495 - val_acc: 0.7850\n",
      "Epoch 89/100\n",
      "422/422 [==============================] - 1s 2ms/step - loss: 0.7954 - acc: 0.7695 - val_loss: 0.7459 - val_acc: 0.7820\n",
      "Epoch 90/100\n",
      "422/422 [==============================] - 1s 2ms/step - loss: 0.7948 - acc: 0.7675 - val_loss: 0.7706 - val_acc: 0.7758\n",
      "Epoch 91/100\n",
      "422/422 [==============================] - 1s 2ms/step - loss: 0.8123 - acc: 0.7578 - val_loss: 0.7599 - val_acc: 0.7797\n",
      "Epoch 92/100\n",
      "422/422 [==============================] - 1s 2ms/step - loss: 0.7922 - acc: 0.7697 - val_loss: 0.7500 - val_acc: 0.7885\n",
      "Epoch 93/100\n",
      "422/422 [==============================] - 1s 2ms/step - loss: 0.7984 - acc: 0.7677 - val_loss: 0.7387 - val_acc: 0.7900\n",
      "Epoch 94/100\n",
      "422/422 [==============================] - 1s 2ms/step - loss: 0.7908 - acc: 0.7723 - val_loss: 0.7360 - val_acc: 0.7888\n",
      "Epoch 95/100\n",
      "422/422 [==============================] - 1s 2ms/step - loss: 0.7910 - acc: 0.7739 - val_loss: 0.7350 - val_acc: 0.7932\n",
      "Epoch 96/100\n",
      "422/422 [==============================] - 1s 2ms/step - loss: 0.7831 - acc: 0.7734 - val_loss: 0.7747 - val_acc: 0.7843\n",
      "Epoch 97/100\n",
      "422/422 [==============================] - 1s 2ms/step - loss: 0.7879 - acc: 0.7712 - val_loss: 0.7573 - val_acc: 0.7818\n",
      "Epoch 98/100\n",
      "422/422 [==============================] - 1s 2ms/step - loss: 0.7953 - acc: 0.7700 - val_loss: 0.7638 - val_acc: 0.7855\n",
      "Epoch 99/100\n",
      "422/422 [==============================] - 1s 2ms/step - loss: 0.7942 - acc: 0.7690 - val_loss: 0.7579 - val_acc: 0.7832\n",
      "Epoch 100/100\n",
      "422/422 [==============================] - 1s 2ms/step - loss: 0.7971 - acc: 0.7714 - val_loss: 0.7445 - val_acc: 0.7865\n"
     ]
    },
    {
     "data": {
      "image/png": "[encoded data removed]",
      "text/plain": [
       "<Figure size 432x288 with 1 Axes>"
      ]
     },
     "metadata": {
      "needs_background": "light"
     },
     "output_type": "display_data"
    },
    {
     "name": "stdout",
     "output_type": "stream",
     "text": [
      "Test loss: 0.795\n",
      "Test accuracy: 0.772\n"
     ]
    }
   ],
   "source": [
    "model.compile(optimizer=\"sgd\", loss='categorical_crossentropy', metrics=[\"acc\"])\n",
    "history = model.fit(x_train, y_train, batch_size=128, epochs=100, verbose=True, validation_split=.1)\n",
    "loss, accuracy  = model.evaluate(x_test, y_test, verbose=False)\n",
    "\n",
    "plt.plot(history.history['acc'])\n",
    "plt.plot(history.history['val_acc'])\n",
    "plt.title('model accuracy')\n",
    "plt.ylabel('accuracy')\n",
    "plt.xlabel('epoch')\n",
    "plt.legend(['training', 'validation'], loc='best')\n",
    "plt.show()\n",
    "\n",
    "print(f'Test loss: {loss:.3}')\n",
    "print(f'Test accuracy: {accuracy:.3}')"
   ]
  },
  {
   "cell_type": "code",
   "execution_count": 8,
   "id": "primary-missouri",
   "metadata": {},
   "outputs": [],
   "source": [
    "first_layer_weights = model.layers[0].get_weights()[0]\n",
    "first_layer_biases  = model.layers[0].get_weights()[1]\n",
    "second_layer_weights = model.layers[1].get_weights()[0]\n",
    "second_layer_biases  = model.layers[1].get_weights()[1]"
   ]
  },
  {
   "cell_type": "code",
   "execution_count": 9,
   "id": "silent-queue",
   "metadata": {},
   "outputs": [],
   "source": [
    "fw = (first_layer_weights*1000).astype(int)\n",
    "sw = (second_layer_weights*10).astype(int) \n",
    "fb = first_layer_biases  \n",
    "sb = second_layer_biases"
   ]
  },
  {
   "cell_type": "code",
   "execution_count": 10,
   "id": "sublime-latin",
   "metadata": {},
   "outputs": [],
   "source": [
    "# fw = first_layer_weights\n",
    "# sw = second_layer_weights\n",
    "# fb = first_layer_biases \n",
    "# sb = second_layer_biases"
   ]
  },
  {
   "cell_type": "code",
   "execution_count": 11,
   "id": "indie-browse",
   "metadata": {},
   "outputs": [
    {
     "data": {
      "text/plain": [
       "(784, 4)"
      ]
     },
     "execution_count": 11,
     "metadata": {},
     "output_type": "execute_result"
    }
   ],
   "source": [
    "fw.shape"
   ]
  },
  {
   "cell_type": "code",
   "execution_count": 12,
   "id": "variable-luxury",
   "metadata": {},
   "outputs": [
    {
     "data": {
      "text/plain": [
       "(4, 10)"
      ]
     },
     "execution_count": 12,
     "metadata": {},
     "output_type": "execute_result"
    }
   ],
   "source": [
    "sw.shape"
   ]
  },
  {
   "cell_type": "code",
   "execution_count": 13,
   "id": "graphic-basement",
   "metadata": {},
   "outputs": [
    {
     "data": {
      "text/plain": [
       "array([[-55,  26, -46, -61],\n",
       "       [ 66, -38, -15, -47],\n",
       "       [ -5, -69,  69,  -6],\n",
       "       ...,\n",
       "       [ 28,  82,  73,  71],\n",
       "       [-75,  39,  23,  -7],\n",
       "       [ 37,  56, -29, -43]])"
      ]
     },
     "execution_count": 13,
     "metadata": {},
     "output_type": "execute_result"
    }
   ],
   "source": [
    "fw"
   ]
  },
  {
   "cell_type": "code",
   "execution_count": 14,
   "id": "oriental-anger",
   "metadata": {},
   "outputs": [
    {
     "data": {
      "text/plain": [
       "array([[ 15,  26,   5,  14, -33,  23,  14, -45,  23, -35],\n",
       "       [ 23, -40, -20, -25,  16,  16, -22,   4,  12,  21],\n",
       "       [ -4, -29,  23, -21,  28,  -4,  38, -17, -12, -17],\n",
       "       [ 27, -33,  21,  22, -16, -11, -26,  33, -20, -14]])"
      ]
     },
     "execution_count": 14,
     "metadata": {},
     "output_type": "execute_result"
    }
   ],
   "source": [
    "sw"
   ]
  },
  {
   "cell_type": "code",
   "execution_count": 15,
   "id": "functional-surveillance",
   "metadata": {},
   "outputs": [],
   "source": [
    "## testing prediction with builtin functions"
   ]
  },
  {
   "cell_type": "code",
   "execution_count": 16,
   "id": "blind-juice",
   "metadata": {},
   "outputs": [],
   "source": [
    "def sigmoid(x):\n",
    "    return (1/(1+np.exp(-x)))\n",
    "def softmax(x):\n",
    "    sumexp = np.sum(np.exp(x))\n",
    "    return((np.exp(x)/sumexp))\n",
    "def layer1(x,w,b):\n",
    "    return sigmoid(np.dot(x,w)+b)\n",
    "def layer2(x,w,b):\n",
    "    return  softmax(np.dot(x,w)+b)"
   ]
  },
  {
   "cell_type": "code",
   "execution_count": 17,
   "id": "consecutive-matthew",
   "metadata": {},
   "outputs": [
    {
     "name": "stderr",
     "output_type": "stream",
     "text": [
      "/Users/Syed/anaconda/anaconda3/lib/python3.7/site-packages/ipykernel_launcher.py:2: RuntimeWarning: overflow encountered in exp\n",
      "  \n"
     ]
    }
   ],
   "source": [
    "layer1_out = layer1(x_test,fw,fb)\n",
    "# layer1_out[:50]\n"
   ]
  },
  {
   "cell_type": "code",
   "execution_count": 18,
   "id": "proved-ottawa",
   "metadata": {},
   "outputs": [
    {
     "data": {
      "text/plain": [
       "array([2.76898550e-20, 2.98692853e-44, 6.98583051e-22, 4.64583254e-21,\n",
       "       1.50356482e-37, 6.86730237e-36, 3.05191685e-42, 8.96994448e-16,\n",
       "       1.65533536e-39, 6.15235175e-36])"
      ]
     },
     "execution_count": 18,
     "metadata": {},
     "output_type": "execute_result"
    }
   ],
   "source": [
    "layer2_out = layer2(layer1_out,sw,sb)\n",
    "layer2_out[0]"
   ]
  },
  {
   "cell_type": "code",
   "execution_count": 19,
   "id": "everyday-cylinder",
   "metadata": {},
   "outputs": [],
   "source": [
    "pred= np.zeros(layer2_out.shape[0])\n",
    "for i in range(layer2_out.shape[0]):\n",
    "    pred[i] = np.argmax(layer2_out[i])"
   ]
  },
  {
   "cell_type": "code",
   "execution_count": 20,
   "id": "caring-aquatic",
   "metadata": {},
   "outputs": [
    {
     "data": {
      "text/plain": [
       "array([7, 2, 1, ..., 4, 5, 6], dtype=uint8)"
      ]
     },
     "execution_count": 20,
     "metadata": {},
     "output_type": "execute_result"
    }
   ],
   "source": [
    "y_orig_test"
   ]
  },
  {
   "cell_type": "code",
   "execution_count": 21,
   "id": "provincial-davis",
   "metadata": {},
   "outputs": [
    {
     "data": {
      "text/plain": [
       "array([7., 2., 1., ..., 4., 5., 6.])"
      ]
     },
     "execution_count": 21,
     "metadata": {},
     "output_type": "execute_result"
    }
   ],
   "source": [
    "pred"
   ]
  },
  {
   "cell_type": "code",
   "execution_count": 22,
   "id": "stupid-retro",
   "metadata": {},
   "outputs": [
    {
     "data": {
      "text/plain": [
       "0.6137"
      ]
     },
     "execution_count": 22,
     "metadata": {},
     "output_type": "execute_result"
    }
   ],
   "source": [
    "from sklearn.metrics import accuracy_score\n",
    "accuracy_score(pred,y_orig_test)"
   ]
  },
  {
   "cell_type": "code",
   "execution_count": 208,
   "id": "american-narrow",
   "metadata": {},
   "outputs": [],
   "source": [
    "# in depth layers\n",
    "\n",
    "def create_dense(layer_sizes):\n",
    "    model = Sequential()\n",
    "    model.add(Dense(layer_sizes[0], activation='sigmoid', input_shape=(image_size,)))\n",
    "\n",
    "    for s in layer_sizes[1:]:\n",
    "        model.add(Dense(units = s, activation = 'sigmoid'))\n",
    "\n",
    "    model.add(Dense(units=num_classes, activation='softmax'))\n",
    "    return model\n",
    "\n",
    "def evaluate(model, batch_size=128, epochs=5):\n",
    "    model.summary()\n",
    "    model.compile(optimizer='sgd', loss='categorical_crossentropy', metrics=['acc'])\n",
    "    history = model.fit(x_train, y_train, batch_size=batch_size, epochs=epochs, validation_split=.1, verbose=False)\n",
    "    loss, accuracy  = model.evaluate(x_test, y_test, verbose=False)\n",
    "    \n",
    "    plt.plot(history.history['acc'])\n",
    "    plt.plot(history.history['val_acc'])\n",
    "    plt.title('model accuracy')\n",
    "    plt.ylabel('accuracy')\n",
    "    plt.xlabel('epoch')\n",
    "    plt.legend(['training', 'validation'], loc='best')\n",
    "    plt.show()\n",
    "\n",
    "    print()\n",
    "    print(f'Test loss: {loss:.3}')\n",
    "    print(f'Test accuracy: {accuracy:.3}')"
   ]
  },
  {
   "cell_type": "code",
   "execution_count": 27,
   "id": "plain-stereo",
   "metadata": {},
   "outputs": [
    {
     "name": "stdout",
     "output_type": "stream",
     "text": [
      "Model: \"sequential_7\"\n",
      "_________________________________________________________________\n",
      "Layer (type)                 Output Shape              Param #   \n",
      "=================================================================\n",
      "dense_20 (Dense)             (None, 32)                25120     \n",
      "_________________________________________________________________\n",
      "dense_21 (Dense)             (None, 10)                330       \n",
      "=================================================================\n",
      "Total params: 25,450\n",
      "Trainable params: 25,450\n",
      "Non-trainable params: 0\n",
      "_________________________________________________________________\n"
     ]
    },
    {
     "data": {
      "image/png": "[encoded data removed]",
      "text/plain": [
       "<Figure size 432x288 with 1 Axes>"
      ]
     },
     "metadata": {
      "needs_background": "light"
     },
     "output_type": "display_data"
    },
    {
     "name": "stdout",
     "output_type": "stream",
     "text": [
      "\n",
      "Test loss: 0.494\n",
      "Test accuracy: 0.888\n",
      "Model: \"sequential_8\"\n",
      "_________________________________________________________________\n",
      "Layer (type)                 Output Shape              Param #   \n",
      "=================================================================\n",
      "dense_22 (Dense)             (None, 32)                25120     \n",
      "_________________________________________________________________\n",
      "dense_23 (Dense)             (None, 32)                1056      \n",
      "_________________________________________________________________\n",
      "dense_24 (Dense)             (None, 10)                330       \n",
      "=================================================================\n",
      "Total params: 26,506\n",
      "Trainable params: 26,506\n",
      "Non-trainable params: 0\n",
      "_________________________________________________________________\n"
     ]
    },
    {
     "data": {
      "image/png": "[encoded data removed]",
      "text/plain": [
       "<Figure size 432x288 with 1 Axes>"
      ]
     },
     "metadata": {
      "needs_background": "light"
     },
     "output_type": "display_data"
    },
    {
     "name": "stdout",
     "output_type": "stream",
     "text": [
      "\n",
      "Test loss: 1.16\n",
      "Test accuracy: 0.814\n",
      "Model: \"sequential_9\"\n",
      "_________________________________________________________________\n",
      "Layer (type)                 Output Shape              Param #   \n",
      "=================================================================\n",
      "dense_25 (Dense)             (None, 32)                25120     \n",
      "_________________________________________________________________\n",
      "dense_26 (Dense)             (None, 32)                1056      \n",
      "_________________________________________________________________\n",
      "dense_27 (Dense)             (None, 32)                1056      \n",
      "_________________________________________________________________\n",
      "dense_28 (Dense)             (None, 10)                330       \n",
      "=================================================================\n",
      "Total params: 27,562\n",
      "Trainable params: 27,562\n",
      "Non-trainable params: 0\n",
      "_________________________________________________________________\n"
     ]
    },
    {
     "data": {
      "image/png": "[encoded data removed]",
      "text/plain": [
       "<Figure size 432x288 with 1 Axes>"
      ]
     },
     "metadata": {
      "needs_background": "light"
     },
     "output_type": "display_data"
    },
    {
     "name": "stdout",
     "output_type": "stream",
     "text": [
      "\n",
      "Test loss: 2.15\n",
      "Test accuracy: 0.569\n",
      "Model: \"sequential_10\"\n",
      "_________________________________________________________________\n",
      "Layer (type)                 Output Shape              Param #   \n",
      "=================================================================\n",
      "dense_29 (Dense)             (None, 32)                25120     \n",
      "_________________________________________________________________\n",
      "dense_30 (Dense)             (None, 32)                1056      \n",
      "_________________________________________________________________\n",
      "dense_31 (Dense)             (None, 32)                1056      \n",
      "_________________________________________________________________\n",
      "dense_32 (Dense)             (None, 32)                1056      \n",
      "_________________________________________________________________\n",
      "dense_33 (Dense)             (None, 10)                330       \n",
      "=================================================================\n",
      "Total params: 28,618\n",
      "Trainable params: 28,618\n",
      "Non-trainable params: 0\n",
      "_________________________________________________________________\n"
     ]
    },
    {
     "data": {
      "image/png": "[encoded data removed]",
      "text/plain": [
       "<Figure size 432x288 with 1 Axes>"
      ]
     },
     "metadata": {
      "needs_background": "light"
     },
     "output_type": "display_data"
    },
    {
     "name": "stdout",
     "output_type": "stream",
     "text": [
      "\n",
      "Test loss: 2.29\n",
      "Test accuracy: 0.113\n"
     ]
    }
   ],
   "source": [
    "for layers in range(1, 5):\n",
    "    model = create_dense([32] * layers)\n",
    "    evaluate(model)"
   ]
  },
  {
   "cell_type": "code",
   "execution_count": null,
   "id": "amateur-subdivision",
   "metadata": {},
   "outputs": [],
   "source": []
  }
 ],
 "metadata": {
  "kernelspec": {
   "display_name": "Python 3",
   "language": "python",
   "name": "python3"
  },
  "language_info": {
   "codemirror_mode": {
    "name": "ipython",
    "version": 3
   },
   "file_extension": ".py",
   "mimetype": "text/x-python",
   "name": "python",
   "nbconvert_exporter": "python",
   "pygments_lexer": "ipython3",
   "version": "3.9.2"
  }
 },
 "nbformat": 4,
 "nbformat_minor": 5
}
