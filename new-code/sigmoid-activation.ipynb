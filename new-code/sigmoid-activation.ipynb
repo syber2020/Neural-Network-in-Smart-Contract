{
 "cells": [
  {
   "cell_type": "code",
   "execution_count": 64,
   "id": "naked-redhead",
   "metadata": {},
   "outputs": [],
   "source": [
    "import sys\n",
    "import math"
   ]
  },
  {
   "cell_type": "code",
   "execution_count": 65,
   "id": "usual-reach",
   "metadata": {},
   "outputs": [],
   "source": [
    "# taylor series works when x<1\n",
    "# Assumption based on values of x\n",
    "# need to check the bwlow formulas of taylor series one more time\n",
    "# x and y are numerator and denominator\n",
    "\n",
    "# def sigmoidfrac(x,y):\n",
    "#     if(x//y>=10):\n",
    "#         num = 1; den = 1\n",
    "#     elif((x//y)>=9 and (x//y)<10):\n",
    "#         num = 99988; den = 100000\n",
    "#     elif((x//y)>=8 and (x//y)<9):\n",
    "#         num = 99966; den = 100000\n",
    "#     elif((x//y)>=7 and (x//y)<8):\n",
    "#         num = 99909; den = 100000\n",
    "#     elif((x//y)>=6 and (x//y)<7):\n",
    "#         num = 99753; den = 100000\n",
    "#     elif((x//y)>=5 and (x//y)<6):\n",
    "#         num = 99331; den = 100000\n",
    "#     elif((x//y)>=1 and (x//y)<5):\n",
    "#         print(\"executing this part as the number is  less than 5 and greater than 1\", x//y)\n",
    "#         q = int(x//y) \n",
    "#         r = x%y\n",
    "#         print(\"value of q and r are\", q, r )\n",
    "#         num= pow(19,q)*24*pow(y,4)\n",
    "#         den= pow(19,q)*24*pow(y,4)+pow(7,q)*(24*pow(y,4)-24*r*pow(y,3)+12*pow(r,2)*pow(y,2)-4*y*pow(r,3)+pow(r,4))    \n",
    "#     elif(x/y>-1 and x/y<1):\n",
    "#         print(\"executing this part as the number is  less than 1 and greater than -1\",x/y)\n",
    "#         num= 24*pow(y,4)\n",
    "#         den= 48*pow(y,4)-24*x*pow(y,3)+12*pow(x,2)*pow(y,2)-4*y*pow(x,3)+pow(x,4)   \n",
    "#     elif(x//y>-6 and x//y<=-1):\n",
    "#         print(\"executing this part as the number is  less than -1 and greater than -6\",x//y)\n",
    "#         q = int(x//y) \n",
    "#         r = x%y\n",
    "#         print(\"value of q and r are\", q, r )\n",
    "#         num = 24*pow(y,4)*pow(7,-q)\n",
    "#         den = 24*pow(y,4)*pow(7,-q)+pow(19,-q)*(24*pow(y,4)+24*r*pow(y,3)+12*pow(r,2)*pow(y,2)+4*y*pow(r,3)+pow(r,4))\n",
    "#     elif(x//y>-7 and x//y<=-6):\n",
    "#         num =15; den= 10000 \n",
    "#     elif(x//y>-8 and x//y<=-7):\n",
    "#         num =6; den = 10000     \n",
    "#     elif(x//y>-9 and x//y<=-8):\n",
    "#         num =2; den = 10000 \n",
    "#     elif(x//y>-10 and x//y<=-9):\n",
    "#          num = 7; den = 100000\n",
    "#     elif(x//y<=-10):\n",
    "#          num = 0 ; den =1\n",
    "#     print(\" num and den are {0} {1}\". format (num, den) )\n",
    "#     print(num/den)\n",
    "# #     return num,den"
   ]
  },
  {
   "cell_type": "code",
   "execution_count": 66,
   "id": "pointed-lounge",
   "metadata": {},
   "outputs": [],
   "source": [
    "#testing sigmoid by making all the variables positive due to requirement of solidity\n",
    "def sigmoidfrac(x,y):\n",
    "    if(x//y>=10):\n",
    "        num = 1; den = 1\n",
    "    elif((x//y)>=9 and (x//y)<10):\n",
    "        num = 99988; den = 100000\n",
    "    elif((x//y)>=8 and (x//y)<9):\n",
    "        num = 99966; den = 100000\n",
    "    elif((x//y)>=7 and (x//y)<8):\n",
    "        num = 99909; den = 100000\n",
    "    elif((x//y)>=6 and (x//y)<7):\n",
    "        num = 99753; den = 100000\n",
    "    elif((x//y)>=5 and (x//y)<6):\n",
    "        num = 99331; den = 100000\n",
    "    elif((x//y)>=1 and (x//y)<5):\n",
    "#         print(\"executing this part as the number is  less than 5 and greater than 1\", x//y)\n",
    "        q = int(x//y) \n",
    "        r = x%y\n",
    "#         print(\"value of q and r are\", q, r )\n",
    "        num= pow(19,q)*24*pow(y,4)\n",
    "        den= pow(19,q)*24*pow(y,4)+pow(7,q)*(24*pow(y,4)-24*r*pow(y,3)+12*pow(r,2)*pow(y,2)-4*y*pow(r,3)+pow(r,4))    \n",
    "    elif(x/y>-1 and x/y<1):\n",
    "#         print(\"executing this part as the number is  less than 1 and greater than -1\",x/y)\n",
    "        num= 24*pow(y,4)\n",
    "        den= 48*pow(y,4)-24*x*pow(y,3)+12*pow(x,2)*pow(y,2)-4*y*pow(x,3)+pow(x,4)   \n",
    "    elif(x//y>-6 and x//y<=-1):\n",
    "#         print(\"executing this part as the number is  less than or equals to -1 and greater than -6\",x//y)\n",
    "        q = math.ceil(x/y) \n",
    "        r = x-(q*y)\n",
    "#         print(\"value of r is \", r)\n",
    "#         print(\"value of q is \", q)\n",
    "        q = q*(-1)\n",
    "        r = r*(-1)\n",
    "#         print(\"value of q and r are\", q, r )\n",
    "        num = 24*pow(y,4)*pow(7,q)\n",
    "        den = 24*pow(y,4)*pow(7,q)+(24*pow(y,4)+24*r*pow(y,3)+12*pow(r,2)*pow(y,2)+4*y*pow(r,3)+pow(r,4))*pow(19,q)\n",
    "    elif(x//y>-7 and x//y<=-6):\n",
    "        num =15; den= 10000 \n",
    "    elif(x//y>-8 and x//y<=-7):\n",
    "        num =6; den = 10000     \n",
    "    elif(x//y>-9 and x//y<=-8):\n",
    "        num =2; den = 10000 \n",
    "    elif(x//y>-10 and x//y<=-9):\n",
    "         num = 7; den = 100000\n",
    "    elif(x//y<=-10):\n",
    "         num = 0 ; den =1\n",
    "#     print(\" num and den are {0} {1}\". format (num, den) )\n",
    "    \n",
    "    return num/den"
   ]
  },
  {
   "cell_type": "code",
   "execution_count": 67,
   "id": "ignored-examination",
   "metadata": {},
   "outputs": [],
   "source": [
    "import math\n",
    "import numpy as np\n",
    "def sigmoid(x,y):\n",
    "    sig = 1 / (1 + math.exp(-x/y))\n",
    "    return sig"
   ]
  },
  {
   "cell_type": "code",
   "execution_count": 68,
   "id": "positive-headset",
   "metadata": {},
   "outputs": [],
   "source": [
    "a = np.array([-1,-10,-100,-43,-100])\n",
    "b = np.array([10000,1000,100,10,1])"
   ]
  },
  {
   "cell_type": "code",
   "execution_count": 69,
   "id": "overall-dressing",
   "metadata": {},
   "outputs": [],
   "source": [
    "for i in range(len(a)):\n",
    "    sigmoid(int(a[i]),int(b[i]))"
   ]
  },
  {
   "cell_type": "code",
   "execution_count": 70,
   "id": "pregnant-mortality",
   "metadata": {},
   "outputs": [
    {
     "name": "stdout",
     "output_type": "stream",
     "text": [
      "values are  -1 10000\n",
      "values are  -10 1000\n",
      "values are  -100 100\n",
      "values are  -43 10\n",
      "values are  -100 1\n"
     ]
    }
   ],
   "source": [
    "for i in range(len(a)):\n",
    "    print(\"values are \", a[i], b[i])\n",
    "    sigmoidfrac(int(a[i]),int(b[i]))"
   ]
  },
  {
   "cell_type": "code",
   "execution_count": 71,
   "id": "nonprofit-alexandria",
   "metadata": {},
   "outputs": [],
   "source": [
    "a_list = list(range(-100, 101))\n",
    "a_val_num = np.array(a_list)\n",
    "a_val_den = np.full(201,10)\n"
   ]
  },
  {
   "cell_type": "code",
   "execution_count": 78,
   "id": "lined-chick",
   "metadata": {},
   "outputs": [],
   "source": [
    "sig_b = np.zeros(201)\n",
    "sig_e = np.zeros(201)\n",
    "for i in range(len(a_val_num)):\n",
    "    sig_b[i] = sigmoid(int(a_val_num[i]),int(a_val_den[i]))\n",
    "    sig_e[i] = sigmoidfrac(int(a_val_num[i]),int(a_val_den[i]))"
   ]
  },
  {
   "cell_type": "code",
   "execution_count": 79,
   "id": "breeding-thomson",
   "metadata": {},
   "outputs": [
    {
     "data": {
      "text/plain": [
       "array([4.53978687e-05, 5.01721647e-05, 5.54485247e-05, 6.12797396e-05,\n",
       "       6.77241496e-05, 7.48462275e-05, 8.27172229e-05, 9.14158739e-05,\n",
       "       1.01029194e-04, 1.11653341e-04, 1.23394576e-04, 1.36370327e-04,\n",
       "       1.50710358e-04, 1.66558065e-04, 1.84071905e-04, 2.03426978e-04,\n",
       "       2.24816770e-04, 2.48455082e-04, 2.74578156e-04, 3.03447030e-04,\n",
       "       3.35350130e-04, 3.70606141e-04, 4.09567165e-04, 4.52622223e-04,\n",
       "       5.00201107e-04, 5.52778637e-04, 6.10879359e-04, 6.75082731e-04,\n",
       "       7.46028834e-04, 8.24424686e-04, 9.11051194e-04, 1.00677082e-03,\n",
       "       1.11253603e-03, 1.22939862e-03, 1.35851995e-03, 1.50118226e-03,\n",
       "       1.65880108e-03, 1.83293894e-03, 2.02532039e-03, 2.23784852e-03,\n",
       "       2.47262316e-03, 2.73196076e-03, 3.01841632e-03, 3.33480731e-03,\n",
       "       3.68423990e-03, 4.07013772e-03, 4.49627316e-03, 4.96680165e-03,\n",
       "       5.48629890e-03, 6.05980149e-03, 6.69285092e-03, 7.39154134e-03,\n",
       "       8.16257115e-03, 9.01329865e-03, 9.95180187e-03, 1.09869426e-02,\n",
       "       1.21284350e-02, 1.33869178e-02, 1.47740317e-02, 1.63024994e-02,\n",
       "       1.79862100e-02, 1.98403057e-02, 2.18812709e-02, 2.41270214e-02,\n",
       "       2.65969936e-02, 2.93122308e-02, 3.22954647e-02, 3.55711893e-02,\n",
       "       3.91657228e-02, 4.31072549e-02, 4.74258732e-02, 5.21535631e-02,\n",
       "       5.73241759e-02, 6.29733561e-02, 6.91384203e-02, 7.58581800e-02,\n",
       "       8.31726965e-02, 9.11229610e-02, 9.97504891e-02, 1.09096821e-01,\n",
       "       1.19202922e-01, 1.30108474e-01, 1.41851065e-01, 1.54465265e-01,\n",
       "       1.67981615e-01, 1.82425524e-01, 1.97816111e-01, 2.14165017e-01,\n",
       "       2.31475217e-01, 2.49739894e-01, 2.68941421e-01, 2.89050497e-01,\n",
       "       3.10025519e-01, 3.31812228e-01, 3.54343694e-01, 3.77540669e-01,\n",
       "       4.01312340e-01, 4.25557483e-01, 4.50166003e-01, 4.75020813e-01,\n",
       "       5.00000000e-01, 5.24979187e-01, 5.49833997e-01, 5.74442517e-01,\n",
       "       5.98687660e-01, 6.22459331e-01, 6.45656306e-01, 6.68187772e-01,\n",
       "       6.89974481e-01, 7.10949503e-01, 7.31058579e-01, 7.50260106e-01,\n",
       "       7.68524783e-01, 7.85834983e-01, 8.02183889e-01, 8.17574476e-01,\n",
       "       8.32018385e-01, 8.45534735e-01, 8.58148935e-01, 8.69891526e-01,\n",
       "       8.80797078e-01, 8.90903179e-01, 9.00249511e-01, 9.08877039e-01,\n",
       "       9.16827304e-01, 9.24141820e-01, 9.30861580e-01, 9.37026644e-01,\n",
       "       9.42675824e-01, 9.47846437e-01, 9.52574127e-01, 9.56892745e-01,\n",
       "       9.60834277e-01, 9.64428811e-01, 9.67704535e-01, 9.70687769e-01,\n",
       "       9.73403006e-01, 9.75872979e-01, 9.78118729e-01, 9.80159694e-01,\n",
       "       9.82013790e-01, 9.83697501e-01, 9.85225968e-01, 9.86613082e-01,\n",
       "       9.87871565e-01, 9.89013057e-01, 9.90048198e-01, 9.90986701e-01,\n",
       "       9.91837429e-01, 9.92608459e-01, 9.93307149e-01, 9.93940199e-01,\n",
       "       9.94513701e-01, 9.95033198e-01, 9.95503727e-01, 9.95929862e-01,\n",
       "       9.96315760e-01, 9.96665193e-01, 9.96981584e-01, 9.97268039e-01,\n",
       "       9.97527377e-01, 9.97762151e-01, 9.97974680e-01, 9.98167061e-01,\n",
       "       9.98341199e-01, 9.98498818e-01, 9.98641480e-01, 9.98770601e-01,\n",
       "       9.98887464e-01, 9.98993229e-01, 9.99088949e-01, 9.99175575e-01,\n",
       "       9.99253971e-01, 9.99324917e-01, 9.99389121e-01, 9.99447221e-01,\n",
       "       9.99499799e-01, 9.99547378e-01, 9.99590433e-01, 9.99629394e-01,\n",
       "       9.99664650e-01, 9.99696553e-01, 9.99725422e-01, 9.99751545e-01,\n",
       "       9.99775183e-01, 9.99796573e-01, 9.99815928e-01, 9.99833442e-01,\n",
       "       9.99849290e-01, 9.99863630e-01, 9.99876605e-01, 9.99888347e-01,\n",
       "       9.99898971e-01, 9.99908584e-01, 9.99917283e-01, 9.99925154e-01,\n",
       "       9.99932276e-01, 9.99938720e-01, 9.99944551e-01, 9.99949828e-01,\n",
       "       9.99954602e-01])"
      ]
     },
     "execution_count": 79,
     "metadata": {},
     "output_type": "execute_result"
    }
   ],
   "source": [
    "sig_b"
   ]
  },
  {
   "cell_type": "code",
   "execution_count": 80,
   "id": "union-advice",
   "metadata": {},
   "outputs": [
    {
     "data": {
      "text/plain": [
       "array([0.00000000e+00, 0.00000000e+00, 0.00000000e+00, 0.00000000e+00,\n",
       "       0.00000000e+00, 0.00000000e+00, 0.00000000e+00, 0.00000000e+00,\n",
       "       0.00000000e+00, 0.00000000e+00, 7.00000000e-05, 7.00000000e-05,\n",
       "       7.00000000e-05, 7.00000000e-05, 7.00000000e-05, 7.00000000e-05,\n",
       "       7.00000000e-05, 7.00000000e-05, 7.00000000e-05, 7.00000000e-05,\n",
       "       2.00000000e-04, 2.00000000e-04, 2.00000000e-04, 2.00000000e-04,\n",
       "       2.00000000e-04, 2.00000000e-04, 2.00000000e-04, 2.00000000e-04,\n",
       "       2.00000000e-04, 2.00000000e-04, 6.00000000e-04, 6.00000000e-04,\n",
       "       6.00000000e-04, 6.00000000e-04, 6.00000000e-04, 6.00000000e-04,\n",
       "       6.00000000e-04, 6.00000000e-04, 6.00000000e-04, 6.00000000e-04,\n",
       "       1.50000000e-03, 1.50000000e-03, 1.50000000e-03, 1.50000000e-03,\n",
       "       1.50000000e-03, 1.50000000e-03, 1.50000000e-03, 1.50000000e-03,\n",
       "       1.50000000e-03, 1.50000000e-03, 6.74193090e-03, 7.45218103e-03,\n",
       "       8.22185966e-03, 9.07307572e-03, 1.00138605e-02, 1.10529526e-02,\n",
       "       1.21998822e-02, 1.34650736e-02, 1.48599658e-02, 1.63971407e-02,\n",
       "       1.80904447e-02, 1.99722003e-02, 2.20063058e-02, 2.42497431e-02,\n",
       "       2.67217564e-02, 2.94429881e-02, 3.24356049e-02, 3.57234531e-02,\n",
       "       3.93322345e-02, 4.32896786e-02, 4.76256595e-02, 5.24156480e-02,\n",
       "       5.75599469e-02, 6.31937064e-02, 6.93534868e-02, 7.60768046e-02,\n",
       "       8.34020218e-02, 9.13682481e-02, 1.00015227e-01, 1.09383138e-01,\n",
       "       1.19512195e-01, 1.30541212e-01, 1.42202431e-01, 1.54760274e-01,\n",
       "       1.68242538e-01, 1.82670744e-01, 1.98059395e-01, 2.14415375e-01,\n",
       "       2.31737435e-01, 2.50015663e-01, 2.69230769e-01, 2.89533019e-01,\n",
       "       3.10327706e-01, 3.31986483e-01, 3.54433969e-01, 3.77581121e-01,\n",
       "       4.01327055e-01, 4.25561342e-01, 4.50166562e-01, 4.75020832e-01,\n",
       "       5.00000000e-01, 5.24979165e-01, 5.49833217e-01, 5.74436155e-01,\n",
       "       5.98659004e-01, 6.22366288e-01, 6.45411127e-01, 6.67629165e-01,\n",
       "       6.88831741e-01, 7.08798852e-01, 7.30769231e-01, 7.49984334e-01,\n",
       "       7.68262406e-01, 7.85582900e-01, 8.01931388e-01, 8.17295844e-01,\n",
       "       8.31662713e-01, 8.45012950e-01, 8.57318188e-01, 8.68537183e-01,\n",
       "       8.80487805e-01, 8.90616861e-01, 8.99984693e-01, 9.08630902e-01,\n",
       "       9.16593542e-01, 9.23907465e-01, 9.30602809e-01, 9.36703646e-01,\n",
       "       9.42226794e-01, 9.47180797e-01, 9.52374340e-01, 9.56710321e-01,\n",
       "       9.60667732e-01, 9.64276194e-01, 9.67562574e-01, 9.70550617e-01,\n",
       "       9.73260633e-01, 9.75709227e-01, 9.77909073e-01, 9.79868725e-01,\n",
       "       9.81909555e-01, 9.83602859e-01, 9.85140021e-01, 9.86534790e-01,\n",
       "       9.87799419e-01, 9.88944601e-01, 9.89979426e-01, 9.90911334e-01,\n",
       "       9.91746078e-01, 9.92487699e-01, 9.93310000e-01, 9.93310000e-01,\n",
       "       9.93310000e-01, 9.93310000e-01, 9.93310000e-01, 9.93310000e-01,\n",
       "       9.93310000e-01, 9.93310000e-01, 9.93310000e-01, 9.93310000e-01,\n",
       "       9.97530000e-01, 9.97530000e-01, 9.97530000e-01, 9.97530000e-01,\n",
       "       9.97530000e-01, 9.97530000e-01, 9.97530000e-01, 9.97530000e-01,\n",
       "       9.97530000e-01, 9.97530000e-01, 9.99090000e-01, 9.99090000e-01,\n",
       "       9.99090000e-01, 9.99090000e-01, 9.99090000e-01, 9.99090000e-01,\n",
       "       9.99090000e-01, 9.99090000e-01, 9.99090000e-01, 9.99090000e-01,\n",
       "       9.99660000e-01, 9.99660000e-01, 9.99660000e-01, 9.99660000e-01,\n",
       "       9.99660000e-01, 9.99660000e-01, 9.99660000e-01, 9.99660000e-01,\n",
       "       9.99660000e-01, 9.99660000e-01, 9.99880000e-01, 9.99880000e-01,\n",
       "       9.99880000e-01, 9.99880000e-01, 9.99880000e-01, 9.99880000e-01,\n",
       "       9.99880000e-01, 9.99880000e-01, 9.99880000e-01, 9.99880000e-01,\n",
       "       1.00000000e+00])"
      ]
     },
     "execution_count": 80,
     "metadata": {},
     "output_type": "execute_result"
    }
   ],
   "source": [
    "sig_e"
   ]
  },
  {
   "cell_type": "code",
   "execution_count": 85,
   "id": "perceived-faith",
   "metadata": {},
   "outputs": [
    {
     "data": {
      "image/png": "[encoded data removed]",
      "text/plain": [
       "<Figure size 432x288 with 1 Axes>"
      ]
     },
     "metadata": {
      "needs_background": "light"
     },
     "output_type": "display_data"
    }
   ],
   "source": [
    "import matplotlib.pyplot as plt\n",
    "\n",
    "plt.plot(a_val_num, sig_b)\n",
    "plt.show()"
   ]
  },
  {
   "cell_type": "code",
   "execution_count": 86,
   "id": "cardiac-personality",
   "metadata": {},
   "outputs": [
    {
     "data": {
      "image/png": "[encoded data removed]",
      "text/plain": [
       "<Figure size 432x288 with 1 Axes>"
      ]
     },
     "metadata": {
      "needs_background": "light"
     },
     "output_type": "display_data"
    }
   ],
   "source": [
    "plt.plot(a_val_num, sig_e)\n",
    "plt.show()"
   ]
  },
  {
   "cell_type": "code",
   "execution_count": null,
   "id": "rental-preference",
   "metadata": {},
   "outputs": [],
   "source": []
  }
 ],
 "metadata": {
  "kernelspec": {
   "display_name": "Python 3 (ipykernel)",
   "language": "python",
   "name": "python3"
  },
  "language_info": {
   "codemirror_mode": {
    "name": "ipython",
    "version": 3
   },
   "file_extension": ".py",
   "mimetype": "text/x-python",
   "name": "python",
   "nbconvert_exporter": "python",
   "pygments_lexer": "ipython3",
   "version": "3.9.7"
  }
 },
 "nbformat": 4,
 "nbformat_minor": 5
}
