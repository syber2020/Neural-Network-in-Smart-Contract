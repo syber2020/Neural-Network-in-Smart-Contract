{
 "cells": [
  {
   "cell_type": "code",
   "execution_count": 10,
   "id": "chief-alias",
   "metadata": {},
   "outputs": [],
   "source": [
    "import numpy as np\n",
    "import pandas as pd\n",
    "from sklearn.model_selection import train_test_split\n",
    "from sklearn.datasets import load_diabetes"
   ]
  },
  {
   "cell_type": "code",
   "execution_count": 11,
   "id": "solar-modeling",
   "metadata": {},
   "outputs": [
    {
     "data": {
      "text/html": [
       "<div>\n",
       "<style scoped>\n",
       "    .dataframe tbody tr th:only-of-type {\n",
       "        vertical-align: middle;\n",
       "    }\n",
       "\n",
       "    .dataframe tbody tr th {\n",
       "        vertical-align: top;\n",
       "    }\n",
       "\n",
       "    .dataframe thead th {\n",
       "        text-align: right;\n",
       "    }\n",
       "</style>\n",
       "<table border=\"1\" class=\"dataframe\">\n",
       "  <thead>\n",
       "    <tr style=\"text-align: right;\">\n",
       "      <th></th>\n",
       "      <th>Pregnancies</th>\n",
       "      <th>Glucose</th>\n",
       "      <th>BloodPressure</th>\n",
       "      <th>SkinThickness</th>\n",
       "      <th>Insulin</th>\n",
       "      <th>BMI</th>\n",
       "      <th>DiabetesPedigreeFunction</th>\n",
       "      <th>Age</th>\n",
       "      <th>Outcome</th>\n",
       "    </tr>\n",
       "  </thead>\n",
       "  <tbody>\n",
       "    <tr>\n",
       "      <th>0</th>\n",
       "      <td>6</td>\n",
       "      <td>148</td>\n",
       "      <td>72</td>\n",
       "      <td>35</td>\n",
       "      <td>0</td>\n",
       "      <td>33</td>\n",
       "      <td>0</td>\n",
       "      <td>50</td>\n",
       "      <td>1</td>\n",
       "    </tr>\n",
       "    <tr>\n",
       "      <th>1</th>\n",
       "      <td>1</td>\n",
       "      <td>85</td>\n",
       "      <td>66</td>\n",
       "      <td>29</td>\n",
       "      <td>0</td>\n",
       "      <td>26</td>\n",
       "      <td>0</td>\n",
       "      <td>31</td>\n",
       "      <td>0</td>\n",
       "    </tr>\n",
       "    <tr>\n",
       "      <th>2</th>\n",
       "      <td>8</td>\n",
       "      <td>183</td>\n",
       "      <td>64</td>\n",
       "      <td>0</td>\n",
       "      <td>0</td>\n",
       "      <td>23</td>\n",
       "      <td>0</td>\n",
       "      <td>32</td>\n",
       "      <td>1</td>\n",
       "    </tr>\n",
       "    <tr>\n",
       "      <th>3</th>\n",
       "      <td>1</td>\n",
       "      <td>89</td>\n",
       "      <td>66</td>\n",
       "      <td>23</td>\n",
       "      <td>94</td>\n",
       "      <td>28</td>\n",
       "      <td>0</td>\n",
       "      <td>21</td>\n",
       "      <td>0</td>\n",
       "    </tr>\n",
       "    <tr>\n",
       "      <th>4</th>\n",
       "      <td>0</td>\n",
       "      <td>137</td>\n",
       "      <td>40</td>\n",
       "      <td>35</td>\n",
       "      <td>168</td>\n",
       "      <td>43</td>\n",
       "      <td>2</td>\n",
       "      <td>33</td>\n",
       "      <td>1</td>\n",
       "    </tr>\n",
       "  </tbody>\n",
       "</table>\n",
       "</div>"
      ],
      "text/plain": [
       "   Pregnancies  Glucose  BloodPressure  SkinThickness  Insulin  BMI  \\\n",
       "0            6      148             72             35        0   33   \n",
       "1            1       85             66             29        0   26   \n",
       "2            8      183             64              0        0   23   \n",
       "3            1       89             66             23       94   28   \n",
       "4            0      137             40             35      168   43   \n",
       "\n",
       "   DiabetesPedigreeFunction  Age  Outcome  \n",
       "0                         0   50        1  \n",
       "1                         0   31        0  \n",
       "2                         0   32        1  \n",
       "3                         0   21        0  \n",
       "4                         2   33        1  "
      ]
     },
     "execution_count": 11,
     "metadata": {},
     "output_type": "execute_result"
    }
   ],
   "source": [
    "df = pd.read_csv('diabetes.csv',sep = ',')\n",
    "# df['DiabetesPedigreeFunction'] = df['DiabetesPedigreeFunction']*100\n",
    "df.DiabetesPedigreeFunction = df.DiabetesPedigreeFunction.astype(int)\n",
    "df.BMI = df.BMI.astype(int) \n",
    "df.head()"
   ]
  },
  {
   "cell_type": "code",
   "execution_count": 12,
   "id": "moved-design",
   "metadata": {},
   "outputs": [],
   "source": [
    "dataset = df.to_numpy()\n",
    "X_train_num = dataset[:500,0:8]\n",
    "X_test_num = dataset[500:,0:8]\n",
    "y_train_num = dataset[:500,8]\n",
    "y_test_num = dataset[500:,8]"
   ]
  },
  {
   "cell_type": "code",
   "execution_count": 13,
   "id": "environmental-mixer",
   "metadata": {},
   "outputs": [
    {
     "data": {
      "text/plain": [
       "array([1, 0, 1, 0, 1, 0, 1, 0, 1, 1, 0, 1, 0, 1, 1, 1, 1, 1, 0, 1, 0, 0,\n",
       "       1, 1, 1, 1, 1, 0, 0, 0, 0, 1, 0, 0, 0, 0, 0, 1, 1, 1, 0, 0, 0, 1,\n",
       "       0, 1, 0, 0, 1, 0, 0, 0, 0, 1, 0, 0, 1, 0, 0, 0, 0, 1, 0, 0, 1, 0,\n",
       "       1, 0, 0, 0, 1, 0, 1, 0, 0, 0, 0, 0, 1, 0, 0, 0, 0, 0, 1, 0, 0, 0,\n",
       "       1, 0, 0, 0, 0, 1, 0, 0, 0, 0, 0, 1, 1, 0, 0, 0, 0, 0, 0, 0, 0, 1,\n",
       "       1, 1, 0, 0, 1, 1, 1, 0, 0, 0, 1, 0, 0, 0, 1, 1, 0, 0, 1, 1, 1, 1,\n",
       "       1, 0, 0, 0, 0, 0, 0, 0, 0, 0, 0, 1, 0, 0, 0, 0, 0, 0, 0, 0, 1, 0,\n",
       "       1, 1, 0, 0, 0, 1, 0, 0, 0, 0, 1, 1, 0, 0, 0, 0, 1, 1, 0, 0, 0, 1,\n",
       "       0, 1, 0, 1, 0, 0, 0, 0, 0, 1, 1, 1, 1, 1, 0, 0, 1, 1, 0, 1, 0, 1,\n",
       "       1, 1, 0, 0, 0, 0, 0, 0, 1, 1, 0, 1, 0, 0, 0, 1, 1, 1, 1, 0, 1, 1,\n",
       "       1, 1, 0, 0, 0, 0, 0, 1, 0, 0, 1, 1, 0, 0, 0, 1, 1, 1, 1, 0, 0, 0,\n",
       "       1, 1, 0, 1, 0, 0, 0, 0, 0, 0, 0, 0, 1, 1, 0, 0, 0, 1, 0, 1, 0, 0,\n",
       "       1, 0, 1, 0, 0, 1, 1, 0, 0, 0, 0, 0, 1, 0, 0, 0, 1, 0, 0, 1, 1, 0,\n",
       "       0, 1, 0, 0, 0, 1, 1, 1, 0, 0, 1, 0, 1, 0, 1, 1, 0, 1, 0, 0, 1, 0,\n",
       "       1, 1, 0, 0, 1, 0, 1, 0, 0, 1, 0, 1, 0, 1, 1, 1, 0, 0, 1, 0, 1, 0,\n",
       "       0, 0, 1, 0, 0, 0, 0, 1, 1, 1, 0, 0, 0, 0, 0, 0, 0, 0, 0, 1, 0, 0,\n",
       "       0, 0, 0, 1, 1, 1, 0, 1, 1, 0, 0, 1, 0, 0, 1, 0, 0, 1, 1, 0, 0, 0,\n",
       "       0, 1, 0, 0, 1, 0, 0, 0, 0, 0, 0, 0, 1, 1, 1, 0, 0, 1, 0, 0, 1, 0,\n",
       "       0, 1, 0, 1, 1, 0, 1, 0, 1, 0, 1, 0, 1, 1, 0, 0, 0, 0, 1, 1, 0, 1,\n",
       "       0, 1, 0, 0, 0, 0, 1, 1, 0, 1, 0, 1, 0, 0, 0, 0, 0, 1, 0, 0, 0, 0,\n",
       "       1, 0, 0, 1, 1, 1, 0, 0, 1, 0, 0, 1, 0, 0, 0, 1, 0, 0, 1, 0, 0, 0,\n",
       "       0, 0, 0, 0, 0, 0, 1, 0, 0, 0, 0, 0, 0, 0, 1, 0, 0, 0, 1, 0, 0, 0,\n",
       "       1, 1, 0, 0, 0, 0, 0, 0, 0, 1, 0, 0, 0, 0, 1, 0], dtype=int64)"
      ]
     },
     "execution_count": 13,
     "metadata": {},
     "output_type": "execute_result"
    }
   ],
   "source": [
    "y_train_num"
   ]
  },
  {
   "cell_type": "code",
   "execution_count": 14,
   "id": "premium-opposition",
   "metadata": {},
   "outputs": [],
   "source": [
    "np.random.seed(42)\n",
    "weights = np.random.rand(8,1)\n",
    "bias = np.random.rand(1)\n",
    "lr = 0.5 #learning rate\n"
   ]
  },
  {
   "cell_type": "code",
   "execution_count": 15,
   "id": "corresponding-porcelain",
   "metadata": {},
   "outputs": [
    {
     "data": {
      "text/plain": [
       "numpy.ndarray"
      ]
     },
     "execution_count": 15,
     "metadata": {},
     "output_type": "execute_result"
    }
   ],
   "source": [
    "type(weights)"
   ]
  },
  {
   "cell_type": "code",
   "execution_count": 16,
   "id": "planned-roads",
   "metadata": {},
   "outputs": [],
   "source": [
    "def sigmoid(x):\n",
    "    return 1/(1+np.exp(-x))"
   ]
  },
  {
   "cell_type": "code",
   "execution_count": 17,
   "id": "similar-identity",
   "metadata": {},
   "outputs": [],
   "source": [
    "def heav(x):\n",
    "    if(x<0): return 0\n",
    "    elif(x==0): return 0.5\n",
    "    else: return 1"
   ]
  },
  {
   "cell_type": "code",
   "execution_count": 18,
   "id": "commercial-veteran",
   "metadata": {},
   "outputs": [],
   "source": [
    "def sigmoid_derivative(x):\n",
    "    return sigmoid(x)*(1-sigmoid(x))"
   ]
  },
  {
   "cell_type": "code",
   "execution_count": 19,
   "id": "promising-egypt",
   "metadata": {},
   "outputs": [],
   "source": [
    "def heav_derivative(x):\n",
    "    return heav(x)*(1-heav(x))"
   ]
  },
  {
   "cell_type": "code",
   "execution_count": 26,
   "id": "plastic-poker",
   "metadata": {},
   "outputs": [
    {
     "name": "stdout",
     "output_type": "stream",
     "text": [
      "error  318.0\n"
     ]
    }
   ],
   "source": [
    "# for epoch in range(1):\n",
    "inputs = X_train_num\n",
    "XW = np.dot(inputs, weights)+ bias\n",
    "z = np.zeros(len(XW))\n",
    "for i in range(len(XW)):\n",
    "    z[i] = heav(XW[i])\n",
    "error = np.zeros(len(z))\n",
    "for i in range (len(z)):\n",
    "    error[i] = z[i] - y_train_num[i]\n",
    "print(\"error \", error.sum())\n",
    "dcost = error\n",
    "dpred = np.zeros(len(XW))\n",
    "for i in range(len(z)):\n",
    "    dpred[i] = heav_derivative(z[i])\n",
    "inputs = X_train_num.T\n",
    "z_del = np.zeros(len(dcost))\n",
    "for i in range(len(z_del)):\n",
    "    z_del[i] = dcost[i] * dpred[i]    \n",
    "mul = lr*np.dot(inputs, z_del)\n",
    "for i in range(len(weights)):\n",
    "    weights[i] = weights[i] - mul[i]\n",
    "for num in z_del:\n",
    "    bias = bias - lr*num"
   ]
  },
  {
   "cell_type": "code",
   "execution_count": 27,
   "id": "straight-payment",
   "metadata": {},
   "outputs": [
    {
     "name": "stdout",
     "output_type": "stream",
     "text": [
      "weights are  [[0.37454012]\n",
      " [0.95071431]\n",
      " [0.73199394]\n",
      " [0.59865848]\n",
      " [0.15601864]\n",
      " [0.15599452]\n",
      " [0.05808361]\n",
      " [0.86617615]]\n",
      "bias is [0.60111501]\n"
     ]
    }
   ],
   "source": [
    "print(\"weights are \",weights)\n",
    "print(\"bias is\", bias )"
   ]
  },
  {
   "cell_type": "code",
   "execution_count": 28,
   "id": "official-beijing",
   "metadata": {},
   "outputs": [
    {
     "name": "stdout",
     "output_type": "stream",
     "text": [
      "error  318.0\n",
      "error  318.0\n",
      "error  318.0\n",
      "error  318.0\n",
      "error  318.0\n",
      "error  318.0\n",
      "error  318.0\n",
      "error  318.0\n",
      "error  318.0\n",
      "error  318.0\n",
      "error  318.0\n",
      "error  318.0\n",
      "error  318.0\n",
      "error  318.0\n",
      "error  318.0\n",
      "error  318.0\n",
      "error  318.0\n",
      "error  318.0\n",
      "error  318.0\n",
      "error  318.0\n",
      "error  318.0\n",
      "error  318.0\n",
      "error  318.0\n",
      "error  318.0\n",
      "error  318.0\n",
      "error  318.0\n",
      "error  318.0\n",
      "error  318.0\n",
      "error  318.0\n",
      "error  318.0\n",
      "error  318.0\n",
      "error  318.0\n",
      "error  318.0\n",
      "error  318.0\n",
      "error  318.0\n",
      "error  318.0\n",
      "error  318.0\n",
      "error  318.0\n",
      "error  318.0\n",
      "error  318.0\n",
      "error  318.0\n",
      "error  318.0\n",
      "error  318.0\n",
      "error  318.0\n",
      "error  318.0\n",
      "error  318.0\n",
      "error  318.0\n",
      "error  318.0\n",
      "error  318.0\n",
      "error  318.0\n",
      "error  318.0\n",
      "error  318.0\n",
      "error  318.0\n",
      "error  318.0\n",
      "error  318.0\n",
      "error  318.0\n",
      "error  318.0\n",
      "error  318.0\n",
      "error  318.0\n",
      "error  318.0\n",
      "error  318.0\n",
      "error  318.0\n",
      "error  318.0\n",
      "error  318.0\n",
      "error  318.0\n",
      "error  318.0\n",
      "error  318.0\n",
      "error  318.0\n",
      "error  318.0\n",
      "error  318.0\n",
      "error  318.0\n",
      "error  318.0\n",
      "error  318.0\n",
      "error  318.0\n",
      "error  318.0\n",
      "error  318.0\n",
      "error  318.0\n",
      "error  318.0\n",
      "error  318.0\n",
      "error  318.0\n",
      "error  318.0\n",
      "error  318.0\n",
      "error  318.0\n",
      "error  318.0\n",
      "error  318.0\n",
      "error  318.0\n",
      "error  318.0\n",
      "error  318.0\n",
      "error  318.0\n",
      "error  318.0\n",
      "error  318.0\n",
      "error  318.0\n",
      "error  318.0\n",
      "error  318.0\n",
      "error  318.0\n",
      "error  318.0\n",
      "error  318.0\n",
      "error  318.0\n",
      "error  318.0\n",
      "error  318.0\n"
     ]
    }
   ],
   "source": [
    "for i in range(100): \n",
    "    inputs = X_train_num\n",
    "    XW = np.dot(inputs, weights)+ bias\n",
    "    z = np.zeros(len(XW))\n",
    "    for i in range(len(XW)):\n",
    "        z[i] = heav(XW[i])\n",
    "    error = np.zeros(len(z))\n",
    "    for i in range (len(z)):\n",
    "        error[i] = z[i] - y_train_num[i]\n",
    "    print(\"error \", error.sum())\n",
    "    dcost = error\n",
    "    dpred = np.zeros(len(XW))\n",
    "    for i in range(len(z)):\n",
    "        dpred[i] = heav_derivative(z[i])\n",
    "    inputs = X_train_num.T\n",
    "    z_del = np.zeros(len(dcost))\n",
    "    for i in range(len(z_del)):\n",
    "        z_del[i] = dcost[i] * dpred[i]    \n",
    "    mul = lr*np.dot(inputs, z_del)\n",
    "    for i in range(len(weights)):\n",
    "        weights[i] = weights[i] - mul[i]\n",
    "    for num in z_del:\n",
    "        bias = bias - lr*num"
   ]
  },
  {
   "cell_type": "code",
   "execution_count": 29,
   "id": "hollywood-basics",
   "metadata": {},
   "outputs": [
    {
     "name": "stdout",
     "output_type": "stream",
     "text": [
      "weights are  [[0.37454012]\n",
      " [0.95071431]\n",
      " [0.73199394]\n",
      " [0.59865848]\n",
      " [0.15601864]\n",
      " [0.15599452]\n",
      " [0.05808361]\n",
      " [0.86617615]]\n",
      "bias is [0.60111501]\n"
     ]
    }
   ],
   "source": [
    "print(\"weights are \",weights)\n",
    "print(\"bias is\", bias )"
   ]
  },
  {
   "cell_type": "code",
   "execution_count": 30,
   "id": "level-feeling",
   "metadata": {},
   "outputs": [
    {
     "name": "stdout",
     "output_type": "stream",
     "text": [
      "[1. 1. 1. 1. 1. 1. 1. 1. 1. 1. 1. 1. 1. 1. 1. 1. 1. 1. 1. 1. 1. 1. 1. 1.\n",
      " 1. 1. 1. 1. 1. 1. 1. 1. 1. 1. 1. 1. 1. 1. 1. 1. 1. 1. 1. 1. 1. 1. 1. 1.\n",
      " 1. 1. 1. 1. 1. 1. 1. 1. 1. 1. 1. 1. 1. 1. 1. 1. 1. 1. 1. 1. 1. 1. 1. 1.\n",
      " 1. 1. 1. 1. 1. 1. 1. 1. 1. 1. 1. 1. 1. 1. 1. 1. 1. 1. 1. 1. 1. 1. 1. 1.\n",
      " 1. 1. 1. 1. 1. 1. 1. 1. 1. 1. 1. 1. 1. 1. 1. 1. 1. 1. 1. 1. 1. 1. 1. 1.\n",
      " 1. 1. 1. 1. 1. 1. 1. 1. 1. 1. 1. 1. 1. 1. 1. 1. 1. 1. 1. 1. 1. 1. 1. 1.\n",
      " 1. 1. 1. 1. 1. 1. 1. 1. 1. 1. 1. 1. 1. 1. 1. 1. 1. 1. 1. 1. 1. 1. 1. 1.\n",
      " 1. 1. 1. 1. 1. 1. 1. 1. 1. 1. 1. 1. 1. 1. 1. 1. 1. 1. 1. 1. 1. 1. 1. 1.\n",
      " 1. 1. 1. 1. 1. 1. 1. 1. 1. 1. 1. 1. 1. 1. 1. 1. 1. 1. 1. 1. 1. 1. 1. 1.\n",
      " 1. 1. 1. 1. 1. 1. 1. 1. 1. 1. 1. 1. 1. 1. 1. 1. 1. 1. 1. 1. 1. 1. 1. 1.\n",
      " 1. 1. 1. 1. 1. 1. 1. 1. 1. 1. 1. 1. 1. 1. 1. 1. 1. 1. 1. 1. 1. 1. 1. 1.\n",
      " 1. 1. 1. 1. 1. 1. 1. 1. 1. 1. 1. 1. 1. 1. 1. 1. 1. 1. 1. 1. 1. 1. 1. 1.\n",
      " 1. 1. 1. 1. 1. 1. 1. 1. 1. 1. 1. 1. 1. 1. 1. 1. 1. 1. 1. 1. 1. 1. 1. 1.\n",
      " 1. 1. 1. 1. 1. 1. 1. 1. 1. 1. 1. 1. 1. 1. 1. 1. 1. 1. 1. 1. 1. 1. 1. 1.\n",
      " 1. 1. 1. 1. 1. 1. 1. 1. 1. 1. 1. 1. 1. 1. 1. 1. 1. 1. 1. 1. 1. 1. 1. 1.\n",
      " 1. 1. 1. 1. 1. 1. 1. 1. 1. 1. 1. 1. 1. 1. 1. 1. 1. 1. 1. 1. 1. 1. 1. 1.\n",
      " 1. 1. 1. 1. 1. 1. 1. 1. 1. 1. 1. 1. 1. 1. 1. 1. 1. 1. 1. 1. 1. 1. 1. 1.\n",
      " 1. 1. 1. 1. 1. 1. 1. 1. 1. 1. 1. 1. 1. 1. 1. 1. 1. 1. 1. 1. 1. 1. 1. 1.\n",
      " 1. 1. 1. 1. 1. 1. 1. 1. 1. 1. 1. 1. 1. 1. 1. 1. 1. 1. 1. 1. 1. 1. 1. 1.\n",
      " 1. 1. 1. 1. 1. 1. 1. 1. 1. 1. 1. 1. 1. 1. 1. 1. 1. 1. 1. 1. 1. 1. 1. 1.\n",
      " 1. 1. 1. 1. 1. 1. 1. 1. 1. 1. 1. 1. 1. 1. 1. 1. 1. 1. 1. 1.]\n"
     ]
    }
   ],
   "source": [
    "# make prediction\n",
    "result = np.zeros(len(y_train_num))\n",
    "for i in range(len(y_train_num)):\n",
    "    pt = X_train_num[i]\n",
    "    result[i] = int(sigmoid(np.dot(pt, weights) + bias))\n",
    "print(result)"
   ]
  },
  {
   "cell_type": "code",
   "execution_count": null,
   "id": "sunrise-thailand",
   "metadata": {},
   "outputs": [],
   "source": [
    "from sklearn.metrics import accuracy_score\n",
    "accuracy_score(y_train_num, result)"
   ]
  },
  {
   "cell_type": "code",
   "execution_count": null,
   "id": "divine-return",
   "metadata": {},
   "outputs": [],
   "source": []
  }
 ],
 "metadata": {
  "kernelspec": {
   "display_name": "Python 3",
   "language": "python",
   "name": "python3"
  },
  "language_info": {
   "codemirror_mode": {
    "name": "ipython",
    "version": 3
   },
   "file_extension": ".py",
   "mimetype": "text/x-python",
   "name": "python",
   "nbconvert_exporter": "python",
   "pygments_lexer": "ipython3",
   "version": "3.9.2"
  }
 },
 "nbformat": 4,
 "nbformat_minor": 5
}
