{
 "cells": [
  {
   "cell_type": "code",
   "execution_count": 101,
   "id": "5ea50fc3",
   "metadata": {},
   "outputs": [
    {
     "data": {
      "text/plain": [
       "True"
      ]
     },
     "execution_count": 101,
     "metadata": {},
     "output_type": "execute_result"
    }
   ],
   "source": [
    "from keras.datasets import mnist\n",
    "import numpy as np \n",
    "import json\n",
    "from web3 import Web3\n",
    "import matplotlib.pyplot as plt\n",
    "ganache_url =\"http://127.0.0.1:8545\"\n",
    "web3 = Web3(Web3.HTTPProvider(ganache_url))\n",
    "web3.isConnected()"
   ]
  },
  {
   "cell_type": "code",
   "execution_count": 102,
   "id": "672b8d9b",
   "metadata": {},
   "outputs": [],
   "source": [
    "## Sigmoid contract"
   ]
  },
  {
   "cell_type": "code",
   "execution_count": 473,
   "id": "23eeecdb",
   "metadata": {},
   "outputs": [],
   "source": [
    "sig_abi = json.loads('[ { \"constant\": false, \"inputs\": [ { \"name\": \"x\", \"type\": \"int256\" }, { \"name\": \"y\", \"type\": \"int256\" }, { \"name\": \"a\", \"type\": \"uint256\" }, { \"name\": \"b\", \"type\": \"uint256\" } ], \"name\": \"sigmoid_act\", \"outputs\": [], \"payable\": false, \"stateMutability\": \"nonpayable\", \"type\": \"function\" }, { \"constant\": true, \"inputs\": [ { \"name\": \"x\", \"type\": \"int256\" }, { \"name\": \"y\", \"type\": \"int256\" } ], \"name\": \"div\", \"outputs\": [ { \"name\": \"\", \"type\": \"int256\" }, { \"name\": \"\", \"type\": \"int256\" } ], \"payable\": false, \"stateMutability\": \"view\", \"type\": \"function\" }, { \"constant\": true, \"inputs\": [], \"name\": \"sigprint\", \"outputs\": [ { \"name\": \"\", \"type\": \"uint256\" }, { \"name\": \"\", \"type\": \"uint256\" } ], \"payable\": false, \"stateMutability\": \"view\", \"type\": \"function\" } ]')\n",
    "sig_cont_address = \"0x3524560988D41eeD75a9115b4D46812ed77f9a07\"\n",
    "sig_cont = web3.eth.contract(address=sig_cont_address,abi=sig_abi)"
   ]
  },
  {
   "cell_type": "code",
   "execution_count": 474,
   "id": "5e829c59",
   "metadata": {},
   "outputs": [],
   "source": [
    "## Softmax contract"
   ]
  },
  {
   "cell_type": "code",
   "execution_count": 475,
   "id": "233301c5",
   "metadata": {},
   "outputs": [],
   "source": [
    "soft_abi = json.loads('[ { \"constant\": false, \"inputs\": [], \"name\": \"del_arr\", \"outputs\": [], \"payable\": false, \"stateMutability\": \"nonpayable\", \"type\": \"function\" }, { \"constant\": false, \"inputs\": [], \"name\": \"get_softmax\", \"outputs\": [], \"payable\": false, \"stateMutability\": \"nonpayable\", \"type\": \"function\" }, { \"constant\": false, \"inputs\": [ { \"name\": \"C\", \"type\": \"int256\" }, { \"name\": \"D\", \"type\": \"int256\" }, { \"name\": \"k\", \"type\": \"uint256\" }, { \"name\": \"j\", \"type\": \"uint256\" } ], \"name\": \"getexpon\", \"outputs\": [], \"payable\": false, \"stateMutability\": \"nonpayable\", \"type\": \"function\" }, { \"constant\": false, \"inputs\": [], \"name\": \"sum_exp\", \"outputs\": [], \"payable\": false, \"stateMutability\": \"nonpayable\", \"type\": \"function\" }, { \"constant\": true, \"inputs\": [ { \"name\": \"\", \"type\": \"int256\" } ], \"name\": \"exp\", \"outputs\": [ { \"name\": \"\", \"type\": \"int256\" } ], \"payable\": false, \"stateMutability\": \"view\", \"type\": \"function\" }, { \"constant\": true, \"inputs\": [], \"name\": \"set_softmax\", \"outputs\": [ { \"name\": \"\", \"type\": \"uint256[]\" }, { \"name\": \"\", \"type\": \"uint256[]\" } ], \"payable\": false, \"stateMutability\": \"view\", \"type\": \"function\" }, { \"constant\": true, \"inputs\": [], \"name\": \"set_sumexp\", \"outputs\": [ { \"name\": \"\", \"type\": \"uint256\" } ], \"payable\": false, \"stateMutability\": \"view\", \"type\": \"function\" }, { \"constant\": true, \"inputs\": [], \"name\": \"setallexpon\", \"outputs\": [ { \"name\": \"\", \"type\": \"uint256[]\" } ], \"payable\": false, \"stateMutability\": \"view\", \"type\": \"function\" }, { \"constant\": true, \"inputs\": [], \"name\": \"setexpon\", \"outputs\": [ { \"name\": \"\", \"type\": \"uint256\" } ], \"payable\": false, \"stateMutability\": \"view\", \"type\": \"function\" } ]')\n",
    "soft_cont_address = \"0x5F9900a281C41822b6D057138d3BD3bDaB174e39\"\n",
    "soft_cont = web3.eth.contract(address=soft_cont_address,abi=soft_abi)"
   ]
  },
  {
   "cell_type": "code",
   "execution_count": 476,
   "id": "6f6ea09c",
   "metadata": {},
   "outputs": [],
   "source": [
    "## NN-LayerContract"
   ]
  },
  {
   "cell_type": "code",
   "execution_count": 489,
   "id": "9b688b72",
   "metadata": {},
   "outputs": [],
   "source": [
    "nn_abi = json.loads('[ { \"constant\": false, \"inputs\": [ { \"name\": \"x\", \"type\": \"int256[]\" }, { \"name\": \"w1\", \"type\": \"int256[]\" }, { \"name\": \"w2\", \"type\": \"int256[]\" }, { \"name\": \"w3\", \"type\": \"int256[]\" }, { \"name\": \"w4\", \"type\": \"int256[]\" }, { \"name\": \"b1\", \"type\": \"int256[]\" } ], \"name\": \"multiply_layer1\", \"outputs\": [], \"payable\": false, \"stateMutability\": \"nonpayable\", \"type\": \"function\" }, { \"constant\": false, \"inputs\": [ { \"name\": \"l1_output\", \"type\": \"int256[]\" }, { \"name\": \"w1\", \"type\": \"int256[]\" }, { \"name\": \"w2\", \"type\": \"int256[]\" }, { \"name\": \"w3\", \"type\": \"int256[]\" }, { \"name\": \"w4\", \"type\": \"int256[]\" }, { \"name\": \"w5\", \"type\": \"int256[]\" }, { \"name\": \"w6\", \"type\": \"int256[]\" }, { \"name\": \"w7\", \"type\": \"int256[]\" }, { \"name\": \"w8\", \"type\": \"int256[]\" }, { \"name\": \"w9\", \"type\": \"int256[]\" }, { \"name\": \"w10\", \"type\": \"int256[]\" }, { \"name\": \"b2\", \"type\": \"int256[]\" } ], \"name\": \"multiply_layer2\", \"outputs\": [], \"payable\": false, \"stateMutability\": \"nonpayable\", \"type\": \"function\" }, { \"constant\": true, \"inputs\": [], \"name\": \"print_l1\", \"outputs\": [ { \"name\": \"\", \"type\": \"int256\" }, { \"name\": \"\", \"type\": \"int256\" }, { \"name\": \"\", \"type\": \"int256\" }, { \"name\": \"\", \"type\": \"int256\" } ], \"payable\": false, \"stateMutability\": \"view\", \"type\": \"function\" }, { \"constant\": true, \"inputs\": [], \"name\": \"print_l2\", \"outputs\": [ { \"name\": \"\", \"type\": \"int256\" }, { \"name\": \"\", \"type\": \"int256\" }, { \"name\": \"\", \"type\": \"int256\" }, { \"name\": \"\", \"type\": \"int256\" }, { \"name\": \"\", \"type\": \"int256\" }, { \"name\": \"\", \"type\": \"int256\" }, { \"name\": \"\", \"type\": \"int256\" }, { \"name\": \"\", \"type\": \"int256\" }, { \"name\": \"\", \"type\": \"int256\" }, { \"name\": \"\", \"type\": \"int256\" } ], \"payable\": false, \"stateMutability\": \"view\", \"type\": \"function\" } ]')\n",
    "nn_cont_address = \"0x9bA829Da74F516b757DB33dCfe99A7c34511aA50\"\n",
    "nn_cont = web3.eth.contract(address=nn_cont_address,abi=nn_abi)"
   ]
  },
  {
   "cell_type": "code",
   "execution_count": 478,
   "id": "fb8bc3a2",
   "metadata": {},
   "outputs": [],
   "source": [
    "account1 = \"0x2C0c1D0dA7c537ad49b6AD3cdF0ed6db462446E9\"\n",
    "private_key1=\"d2b80a53fd2b1a30ecbe14517a65c07858679034061f2d0d5f768518ed46a1b6\"\n",
    "account2 = \"0x76b717F8b07365060131752EE08242C268CFd37B\"\n",
    "private_key2=\"a3e852bd651cf3aa5f6d863e0727519140431ae912588b351ab5f7ee02e06cac\""
   ]
  },
  {
   "cell_type": "code",
   "execution_count": 434,
   "id": "35838a0e",
   "metadata": {},
   "outputs": [],
   "source": [
    "def getlayer1(x,w11,w12,w13,w14,b1):\n",
    "    nonce = web3.eth.getTransactionCount(account1)\n",
    "    transaction = nn_cont.functions.multiply_layer1(\n",
    "        x,w11,w12,w13,w14,b1\n",
    "         ).buildTransaction({\n",
    "        'gas': 8000000,\n",
    "        'gasPrice': web3.toWei('1', 'gwei'),\n",
    "        'from': account1,\n",
    "        'nonce': nonce\n",
    "        }) \n",
    "    signed_txn = web3.eth.account.signTransaction(transaction, private_key=private_key1)\n",
    "    tx_hash = web3.eth.sendRawTransaction(signed_txn.rawTransaction)\n",
    "    tx_receipt = web3.eth.waitForTransactionReceipt(tx_hash,timeout=300)\n",
    "    return tx_receipt.gasUsed\n",
    "\n",
    "\n",
    "def getlayer2(l1,w21,w22,w23,w24,w25,w26,w27,w28,w29,w30,b2):\n",
    "    nonce = web3.eth.getTransactionCount(account1)\n",
    "    transaction = nn_cont.functions.multiply_layer2(\n",
    "        l1,w21,w22,w23,w24,w25,w26,w27,w28,w29,w30,b2\n",
    "         ).buildTransaction({\n",
    "        'gas': 6700000,\n",
    "        'gasPrice': web3.toWei('1', 'gwei'),\n",
    "        'from': account1,\n",
    "        'nonce': nonce\n",
    "        }) \n",
    "    signed_txn = web3.eth.account.signTransaction(transaction, private_key=private_key1)\n",
    "    tx_hash = web3.eth.sendRawTransaction(signed_txn.rawTransaction)\n",
    "    tx_receipt = web3.eth.waitForTransactionReceipt(tx_hash,timeout=300)\n",
    "    return tx_receipt.gasUsed\n",
    "\n",
    "\n",
    "def sigfrac(x,y,a,b):\n",
    "    nonce = web3.eth.getTransactionCount(account1)\n",
    "    transaction = sig_cont.functions.sigmoid_act(\n",
    "        x,y,a,b\n",
    "         ).buildTransaction({\n",
    "        'gas': 100000,\n",
    "        'gasPrice': web3.toWei('10', 'gwei'),\n",
    "        'from': account1,\n",
    "        'nonce': nonce\n",
    "        }) \n",
    "    signed_txn = web3.eth.account.signTransaction(transaction, private_key=private_key1)\n",
    "    tx_hash = web3.eth.sendRawTransaction(signed_txn.rawTransaction)\n",
    "    tx_receipt = web3.eth.waitForTransactionReceipt(tx_hash)\n",
    "    return tx_receipt.gasUsed\n",
    "\n",
    "def getexpon(a,b,c,d):\n",
    "    nonce = web3.eth.getTransactionCount(account1)\n",
    "    transaction = soft_cont.functions.getexpon(\n",
    "        a,b,c,d\n",
    "         ).buildTransaction({\n",
    "        'gas': 3000000,\n",
    "        'gasPrice': web3.toWei('10', 'gwei'),\n",
    "        'from': account1,\n",
    "        'nonce': nonce\n",
    "        }) \n",
    "    signed_txn = web3.eth.account.signTransaction(transaction, private_key=private_key1)\n",
    "    tx_hash = web3.eth.sendRawTransaction(signed_txn.rawTransaction)\n",
    "    tx_receipt = web3.eth.waitForTransactionReceipt(tx_hash)\n",
    "    return tx_receipt.gasUsed\n",
    "\n",
    "def getsumexpon():\n",
    "    nonce = web3.eth.getTransactionCount(account1)\n",
    "    transaction = soft_cont.functions.sum_exp(\n",
    "         ).buildTransaction({\n",
    "        'gas': 3000000,\n",
    "        'gasPrice': web3.toWei('1', 'gwei'),\n",
    "        'from': account1,\n",
    "        'nonce': nonce\n",
    "        }) \n",
    "    signed_txn = web3.eth.account.signTransaction(transaction, private_key=private_key1)\n",
    "    tx_hash = web3.eth.sendRawTransaction(signed_txn.rawTransaction)\n",
    "    tx_receipt = web3.eth.waitForTransactionReceipt(tx_hash)\n",
    "    return tx_receipt.gasUsed\n",
    "\n",
    "def getsoftmax():\n",
    "    nonce = web3.eth.getTransactionCount(account1)\n",
    "    transaction = soft_cont.functions.get_softmax(\n",
    "         ).buildTransaction({\n",
    "        'gas': 3000000,\n",
    "        'gasPrice': web3.toWei('10', 'gwei'),\n",
    "        'from': account1,\n",
    "        'nonce': nonce\n",
    "        }) \n",
    "    signed_txn = web3.eth.account.signTransaction(transaction, private_key=private_key1)\n",
    "    tx_hash = web3.eth.sendRawTransaction(signed_txn.rawTransaction)\n",
    "    tx_receipt = web3.eth.waitForTransactionReceipt(tx_hash)\n",
    "    return tx_receipt.gasUsed"
   ]
  },
  {
   "cell_type": "code",
   "execution_count": 110,
   "id": "a9a1cbfc",
   "metadata": {},
   "outputs": [
    {
     "name": "stdout",
     "output_type": "stream",
     "text": [
      "[160322905, 160322906, 160322907, 160322908]\n",
      "[0, 0, 0, 0, 0, 0, 0, 0, 0, 0]\n"
     ]
    },
    {
     "ename": "ZeroDivisionError",
     "evalue": "division by zero",
     "output_type": "error",
     "traceback": [
      "\u001b[0;31m---------------------------------------------------------------------------\u001b[0m",
      "\u001b[0;31mZeroDivisionError\u001b[0m                         Traceback (most recent call last)",
      "\u001b[0;32m/var/folders/9j/xg5sl5n57fs3q8d3c9svsb1r0000gq/T/ipykernel_3833/2314841075.py\u001b[0m in \u001b[0;36m<module>\u001b[0;34m\u001b[0m\n\u001b[1;32m      2\u001b[0m \u001b[0mprint\u001b[0m\u001b[0;34m(\u001b[0m\u001b[0mnn_cont\u001b[0m\u001b[0;34m.\u001b[0m\u001b[0mfunctions\u001b[0m\u001b[0;34m.\u001b[0m\u001b[0mprint_l2\u001b[0m\u001b[0;34m(\u001b[0m\u001b[0;34m)\u001b[0m\u001b[0;34m.\u001b[0m\u001b[0mcall\u001b[0m\u001b[0;34m(\u001b[0m\u001b[0;34m)\u001b[0m\u001b[0;34m)\u001b[0m\u001b[0;34m\u001b[0m\u001b[0;34m\u001b[0m\u001b[0m\n\u001b[1;32m      3\u001b[0m \u001b[0mn\u001b[0m\u001b[0;34m,\u001b[0m \u001b[0md\u001b[0m \u001b[0;34m=\u001b[0m \u001b[0msig_cont\u001b[0m\u001b[0;34m.\u001b[0m\u001b[0mfunctions\u001b[0m\u001b[0;34m.\u001b[0m\u001b[0msigprint\u001b[0m\u001b[0;34m(\u001b[0m\u001b[0;34m)\u001b[0m\u001b[0;34m.\u001b[0m\u001b[0mcall\u001b[0m\u001b[0;34m(\u001b[0m\u001b[0;34m)\u001b[0m\u001b[0;34m\u001b[0m\u001b[0;34m\u001b[0m\u001b[0m\n\u001b[0;32m----> 4\u001b[0;31m \u001b[0mprint\u001b[0m\u001b[0;34m(\u001b[0m\u001b[0;34m\"value of sigmoid is:\"\u001b[0m\u001b[0;34m,\u001b[0m \u001b[0mn\u001b[0m\u001b[0;34m/\u001b[0m\u001b[0md\u001b[0m\u001b[0;34m)\u001b[0m\u001b[0;34m\u001b[0m\u001b[0;34m\u001b[0m\u001b[0m\n\u001b[0m\u001b[1;32m      5\u001b[0m \u001b[0mprint\u001b[0m\u001b[0;34m(\u001b[0m\u001b[0msoft_cont\u001b[0m\u001b[0;34m.\u001b[0m\u001b[0mfunctions\u001b[0m\u001b[0;34m.\u001b[0m\u001b[0mset_softmax\u001b[0m\u001b[0;34m(\u001b[0m\u001b[0;34m)\u001b[0m\u001b[0;34m.\u001b[0m\u001b[0mcall\u001b[0m\u001b[0;34m(\u001b[0m\u001b[0;34m)\u001b[0m\u001b[0;34m)\u001b[0m\u001b[0;34m\u001b[0m\u001b[0;34m\u001b[0m\u001b[0m\n",
      "\u001b[0;31mZeroDivisionError\u001b[0m: division by zero"
     ]
    }
   ],
   "source": [
    "print(nn_cont.functions.print_l1().call())\n",
    "print(nn_cont.functions.print_l2().call())\n",
    "n, d = sig_cont.functions.sigprint().call()\n",
    "print(\"value of sigmoid is:\", n/d)\n",
    "print(soft_cont.functions.set_softmax().call())"
   ]
  },
  {
   "cell_type": "code",
   "execution_count": 4,
   "id": "administrative-appreciation",
   "metadata": {},
   "outputs": [],
   "source": [
    "\n",
    "(x_train, y_train), (x_test, y_test) = mnist.load_data()"
   ]
  },
  {
   "cell_type": "code",
   "execution_count": 5,
   "id": "pacific-floor",
   "metadata": {},
   "outputs": [
    {
     "name": "stdout",
     "output_type": "stream",
     "text": [
      "Training data shape:  (60000, 28, 28)\n",
      "Test data shape (10000, 28, 28)\n"
     ]
    }
   ],
   "source": [
    "\n",
    "from keras.datasets import mnist\n",
    "\n",
    "# Setup train and test splits\n",
    "(x_train, y_train), (x_test, y_test) = mnist.load_data()\n",
    "print(\"Training data shape: \", x_train.shape) # (60000, 28, 28) -- 60000 images, each 28x28 pixels\n",
    "print(\"Test data shape\", x_test.shape) # (10000, 28, 28) -- 10000 images, each 28x28\n",
    "\n",
    "# Flatten the images\n",
    "image_vector_size = 28*28\n",
    "x_train = x_train.reshape(x_train.shape[0], image_vector_size)\n",
    "x_test = x_test.reshape(x_test.shape[0], image_vector_size)\n",
    "y_orig_test = y_test"
   ]
  },
  {
   "cell_type": "code",
   "execution_count": null,
   "id": "laughing-violin",
   "metadata": {},
   "outputs": [],
   "source": []
  },
  {
   "cell_type": "code",
   "execution_count": 6,
   "id": "overhead-collectible",
   "metadata": {},
   "outputs": [
    {
     "name": "stdout",
     "output_type": "stream",
     "text": [
      "First 5 training lables as one-hot encoded vectors:\n",
      " [[0. 0. 0. 0. 0. 1. 0. 0. 0. 0.]\n",
      " [1. 0. 0. 0. 0. 0. 0. 0. 0. 0.]\n",
      " [0. 0. 0. 0. 1. 0. 0. 0. 0. 0.]\n",
      " [0. 1. 0. 0. 0. 0. 0. 0. 0. 0.]\n",
      " [0. 0. 0. 0. 0. 0. 0. 0. 0. 1.]]\n"
     ]
    },
    {
     "data": {
      "text/plain": [
       "'\\n[[0, 0, 0, 0, 0, 1, 0, 0, 0, 0]\\n [1, 0, 0, 0, 0, 0, 0, 0, 0, 0]\\n [0, 0, 0, 0, 1, 0, 0, 0, 0, 0]\\n [0, 1, 0, 0, 0, 0, 0, 0, 0, 0]\\n [0, 0, 0, 0, 0, 0, 0, 0, 0, 1]]\\n'"
      ]
     },
     "execution_count": 6,
     "metadata": {},
     "output_type": "execute_result"
    }
   ],
   "source": [
    "from tensorflow import keras\n",
    "from keras.datasets import mnist\n",
    "from keras import utils as np_utils\n",
    "\n",
    "# Setup train and test splits\n",
    "# (x_train, y_train), (x_test, y_test) = mnist.load_data()\n",
    "# print(\"Training label shape: \", y_train.shape) # (60000,) -- 60000 numbers (all 0-9)\n",
    "# print(\"First 5 training labels: \", y_train[:5]) # [5, 0, 4, 1, 9]\n",
    "\n",
    "# Convert to \"one-hot\" vectors using the to_categorical function\n",
    "num_classes = 10\n",
    "y_train = keras.utils.to_categorical(y_train, num_classes)\n",
    "y_test = keras.utils.to_categorical(y_test, num_classes)\n",
    "print(\"First 5 training lables as one-hot encoded vectors:\\n\", y_train[:5])\n",
    "\n",
    "# This is the one-hot version of: [5, 0, 4, 1, 9]\n",
    "\"\"\"\n",
    "[[0, 0, 0, 0, 0, 1, 0, 0, 0, 0]\n",
    " [1, 0, 0, 0, 0, 0, 0, 0, 0, 0]\n",
    " [0, 0, 0, 0, 1, 0, 0, 0, 0, 0]\n",
    " [0, 1, 0, 0, 0, 0, 0, 0, 0, 0]\n",
    " [0, 0, 0, 0, 0, 0, 0, 0, 0, 1]]\n",
    "\"\"\""
   ]
  },
  {
   "cell_type": "code",
   "execution_count": 7,
   "id": "applicable-influence",
   "metadata": {},
   "outputs": [
    {
     "name": "stdout",
     "output_type": "stream",
     "text": [
      "Model: \"sequential\"\n",
      "_________________________________________________________________\n",
      " Layer (type)                Output Shape              Param #   \n",
      "=================================================================\n",
      " dense (Dense)               (None, 4)                 3140      \n",
      "                                                                 \n",
      " dense_1 (Dense)             (None, 10)                50        \n",
      "                                                                 \n",
      "=================================================================\n",
      "Total params: 3,190\n",
      "Trainable params: 3,190\n",
      "Non-trainable params: 0\n",
      "_________________________________________________________________\n"
     ]
    },
    {
     "name": "stderr",
     "output_type": "stream",
     "text": [
      "2022-03-20 17:11:45.861224: I tensorflow/core/platform/cpu_feature_guard.cc:151] This TensorFlow binary is optimized with oneAPI Deep Neural Network Library (oneDNN) to use the following CPU instructions in performance-critical operations:  AVX2 FMA\n",
      "To enable them in other operations, rebuild TensorFlow with the appropriate compiler flags.\n"
     ]
    }
   ],
   "source": [
    "import matplotlib.pyplot as plt \n",
    "from keras.layers import Dense # Dense layers are \"fully connected\" layers\n",
    "from keras.models import Sequential # Documentation: https://keras.io/models/sequential/\n",
    "\n",
    "image_size = 784 # 28*28\n",
    "num_classes = 10 # ten unique digits\n",
    "\n",
    "model = Sequential()\n",
    "\n",
    "# The input layer requires the special input_shape parameter which should match\n",
    "# the shape of our training data.\n",
    "model.add(Dense(units=4, activation='sigmoid', input_shape=(image_size,)))\n",
    "model.add(Dense(units=num_classes, activation='softmax'))\n",
    "model.summary()"
   ]
  },
  {
   "cell_type": "code",
   "execution_count": 8,
   "id": "forbidden-interpretation",
   "metadata": {},
   "outputs": [
    {
     "name": "stdout",
     "output_type": "stream",
     "text": [
      "Epoch 1/100\n",
      "422/422 [==============================] - 1s 2ms/step - loss: 2.0544 - acc: 0.3467 - val_loss: 1.9253 - val_acc: 0.4693\n",
      "Epoch 2/100\n",
      "422/422 [==============================] - 1s 2ms/step - loss: 1.8747 - acc: 0.4920 - val_loss: 1.8080 - val_acc: 0.5282\n",
      "Epoch 3/100\n",
      "422/422 [==============================] - 1s 2ms/step - loss: 1.7573 - acc: 0.5170 - val_loss: 1.6862 - val_acc: 0.5305\n",
      "Epoch 4/100\n",
      "422/422 [==============================] - 1s 2ms/step - loss: 1.6580 - acc: 0.5525 - val_loss: 1.5872 - val_acc: 0.5875\n",
      "Epoch 5/100\n",
      "422/422 [==============================] - 1s 2ms/step - loss: 1.5684 - acc: 0.5931 - val_loss: 1.4929 - val_acc: 0.6768\n",
      "Epoch 6/100\n",
      "422/422 [==============================] - 1s 2ms/step - loss: 1.4843 - acc: 0.6464 - val_loss: 1.4253 - val_acc: 0.6702\n",
      "Epoch 7/100\n",
      "422/422 [==============================] - 1s 2ms/step - loss: 1.4115 - acc: 0.6563 - val_loss: 1.3718 - val_acc: 0.6603\n",
      "Epoch 8/100\n",
      "422/422 [==============================] - 1s 2ms/step - loss: 1.3501 - acc: 0.6574 - val_loss: 1.3016 - val_acc: 0.6703\n",
      "Epoch 9/100\n",
      "422/422 [==============================] - 1s 2ms/step - loss: 1.3057 - acc: 0.6533 - val_loss: 1.2365 - val_acc: 0.6868\n",
      "Epoch 10/100\n",
      "422/422 [==============================] - 1s 2ms/step - loss: 1.2591 - acc: 0.6594 - val_loss: 1.2054 - val_acc: 0.6910\n",
      "Epoch 11/100\n",
      "422/422 [==============================] - 1s 2ms/step - loss: 1.2274 - acc: 0.6568 - val_loss: 1.1669 - val_acc: 0.6855\n",
      "Epoch 12/100\n",
      "422/422 [==============================] - 1s 2ms/step - loss: 1.1922 - acc: 0.6546 - val_loss: 1.1239 - val_acc: 0.6942\n",
      "Epoch 13/100\n",
      "422/422 [==============================] - 1s 2ms/step - loss: 1.1680 - acc: 0.6578 - val_loss: 1.1226 - val_acc: 0.6785\n",
      "Epoch 14/100\n",
      "422/422 [==============================] - 1s 2ms/step - loss: 1.1497 - acc: 0.6551 - val_loss: 1.1145 - val_acc: 0.6725\n",
      "Epoch 15/100\n",
      "422/422 [==============================] - 1s 2ms/step - loss: 1.1178 - acc: 0.6679 - val_loss: 1.0561 - val_acc: 0.6948\n",
      "Epoch 16/100\n",
      "422/422 [==============================] - 1s 2ms/step - loss: 1.1009 - acc: 0.6635 - val_loss: 1.0302 - val_acc: 0.6972\n",
      "Epoch 17/100\n",
      "422/422 [==============================] - 1s 2ms/step - loss: 1.0818 - acc: 0.6644 - val_loss: 1.0277 - val_acc: 0.6995\n",
      "Epoch 18/100\n",
      "422/422 [==============================] - 1s 2ms/step - loss: 1.0678 - acc: 0.6701 - val_loss: 1.0125 - val_acc: 0.6950\n",
      "Epoch 19/100\n",
      "422/422 [==============================] - 1s 2ms/step - loss: 1.0546 - acc: 0.6709 - val_loss: 0.9927 - val_acc: 0.6973\n",
      "Epoch 20/100\n",
      "422/422 [==============================] - 1s 2ms/step - loss: 1.0451 - acc: 0.6718 - val_loss: 0.9958 - val_acc: 0.6890\n",
      "Epoch 21/100\n",
      "422/422 [==============================] - 1s 2ms/step - loss: 1.0338 - acc: 0.6761 - val_loss: 0.9727 - val_acc: 0.7007\n",
      "Epoch 22/100\n",
      "422/422 [==============================] - 1s 2ms/step - loss: 1.0256 - acc: 0.6744 - val_loss: 0.9711 - val_acc: 0.6940\n",
      "Epoch 23/100\n",
      "422/422 [==============================] - 1s 2ms/step - loss: 1.0157 - acc: 0.6734 - val_loss: 0.9501 - val_acc: 0.6998\n",
      "Epoch 24/100\n",
      "422/422 [==============================] - 1s 2ms/step - loss: 1.0092 - acc: 0.6737 - val_loss: 0.9342 - val_acc: 0.7030\n",
      "Epoch 25/100\n",
      "422/422 [==============================] - 1s 2ms/step - loss: 0.9935 - acc: 0.6762 - val_loss: 0.9258 - val_acc: 0.7053\n",
      "Epoch 26/100\n",
      "422/422 [==============================] - 1s 2ms/step - loss: 0.9902 - acc: 0.6757 - val_loss: 0.9603 - val_acc: 0.6885\n",
      "Epoch 27/100\n",
      "422/422 [==============================] - 1s 2ms/step - loss: 0.9830 - acc: 0.6782 - val_loss: 0.9145 - val_acc: 0.7040\n",
      "Epoch 28/100\n",
      "422/422 [==============================] - 1s 2ms/step - loss: 0.9754 - acc: 0.6766 - val_loss: 0.9269 - val_acc: 0.6938\n",
      "Epoch 29/100\n",
      "422/422 [==============================] - 1s 3ms/step - loss: 0.9670 - acc: 0.6773 - val_loss: 0.9235 - val_acc: 0.6950\n",
      "Epoch 30/100\n",
      "422/422 [==============================] - 1s 2ms/step - loss: 0.9686 - acc: 0.6730 - val_loss: 0.9187 - val_acc: 0.6908\n",
      "Epoch 31/100\n",
      "422/422 [==============================] - 1s 2ms/step - loss: 0.9660 - acc: 0.6725 - val_loss: 0.9421 - val_acc: 0.6873\n",
      "Epoch 32/100\n",
      "422/422 [==============================] - 1s 2ms/step - loss: 0.9638 - acc: 0.6757 - val_loss: 0.9012 - val_acc: 0.7093\n",
      "Epoch 33/100\n",
      "422/422 [==============================] - 1s 2ms/step - loss: 0.9498 - acc: 0.6813 - val_loss: 0.8979 - val_acc: 0.6995\n",
      "Epoch 34/100\n",
      "422/422 [==============================] - 1s 2ms/step - loss: 0.9422 - acc: 0.6817 - val_loss: 0.9154 - val_acc: 0.6977\n",
      "Epoch 35/100\n",
      "422/422 [==============================] - 1s 2ms/step - loss: 0.9393 - acc: 0.6817 - val_loss: 0.8769 - val_acc: 0.7032\n",
      "Epoch 36/100\n",
      "422/422 [==============================] - 1s 2ms/step - loss: 0.9300 - acc: 0.6809 - val_loss: 0.8721 - val_acc: 0.7050\n",
      "Epoch 37/100\n",
      "422/422 [==============================] - 1s 2ms/step - loss: 0.9366 - acc: 0.6796 - val_loss: 0.8797 - val_acc: 0.7020\n",
      "Epoch 38/100\n",
      "422/422 [==============================] - 1s 2ms/step - loss: 0.9406 - acc: 0.6728 - val_loss: 0.8879 - val_acc: 0.6913\n",
      "Epoch 39/100\n",
      "422/422 [==============================] - 1s 2ms/step - loss: 0.9353 - acc: 0.6747 - val_loss: 0.8760 - val_acc: 0.6942\n",
      "Epoch 40/100\n",
      "422/422 [==============================] - 1s 2ms/step - loss: 0.9264 - acc: 0.6783 - val_loss: 0.8550 - val_acc: 0.7055\n",
      "Epoch 41/100\n",
      "422/422 [==============================] - 1s 2ms/step - loss: 0.9263 - acc: 0.6792 - val_loss: 0.8746 - val_acc: 0.6890\n",
      "Epoch 42/100\n",
      "422/422 [==============================] - 1s 2ms/step - loss: 0.9202 - acc: 0.6857 - val_loss: 0.8642 - val_acc: 0.7140\n",
      "Epoch 43/100\n",
      "422/422 [==============================] - 1s 2ms/step - loss: 0.9230 - acc: 0.6844 - val_loss: 0.8555 - val_acc: 0.7117\n",
      "Epoch 44/100\n",
      "422/422 [==============================] - 1s 2ms/step - loss: 0.9123 - acc: 0.6852 - val_loss: 0.8552 - val_acc: 0.7028\n",
      "Epoch 45/100\n",
      "422/422 [==============================] - 1s 2ms/step - loss: 0.9076 - acc: 0.6891 - val_loss: 0.8535 - val_acc: 0.7080\n",
      "Epoch 46/100\n",
      "422/422 [==============================] - 1s 2ms/step - loss: 0.9127 - acc: 0.6858 - val_loss: 0.8554 - val_acc: 0.7052\n",
      "Epoch 47/100\n",
      "422/422 [==============================] - 1s 2ms/step - loss: 0.9175 - acc: 0.6808 - val_loss: 0.8598 - val_acc: 0.7163\n",
      "Epoch 48/100\n",
      "422/422 [==============================] - 1s 2ms/step - loss: 0.9008 - acc: 0.6888 - val_loss: 0.8284 - val_acc: 0.7065\n",
      "Epoch 49/100\n",
      "422/422 [==============================] - 1s 2ms/step - loss: 0.8948 - acc: 0.6852 - val_loss: 0.8269 - val_acc: 0.7143\n",
      "Epoch 50/100\n",
      "422/422 [==============================] - 1s 2ms/step - loss: 0.9057 - acc: 0.6826 - val_loss: 0.8801 - val_acc: 0.7040\n",
      "Epoch 51/100\n",
      "422/422 [==============================] - 1s 2ms/step - loss: 0.8999 - acc: 0.6899 - val_loss: 0.8379 - val_acc: 0.7120\n",
      "Epoch 52/100\n",
      "422/422 [==============================] - 1s 2ms/step - loss: 0.8955 - acc: 0.6963 - val_loss: 0.8630 - val_acc: 0.7185\n",
      "Epoch 53/100\n",
      "422/422 [==============================] - 1s 2ms/step - loss: 0.8947 - acc: 0.6936 - val_loss: 0.8545 - val_acc: 0.7245\n",
      "Epoch 54/100\n",
      "422/422 [==============================] - 1s 2ms/step - loss: 0.9047 - acc: 0.6840 - val_loss: 0.8552 - val_acc: 0.6900\n",
      "Epoch 55/100\n",
      "422/422 [==============================] - 1s 2ms/step - loss: 0.8856 - acc: 0.6906 - val_loss: 0.8239 - val_acc: 0.7027\n",
      "Epoch 56/100\n",
      "422/422 [==============================] - 1s 2ms/step - loss: 0.8882 - acc: 0.6919 - val_loss: 0.8217 - val_acc: 0.7192\n",
      "Epoch 57/100\n",
      "422/422 [==============================] - 1s 2ms/step - loss: 0.8915 - acc: 0.6937 - val_loss: 0.8447 - val_acc: 0.7138\n",
      "Epoch 58/100\n",
      "422/422 [==============================] - 1s 2ms/step - loss: 0.8955 - acc: 0.6814 - val_loss: 0.8231 - val_acc: 0.7075\n",
      "Epoch 59/100\n",
      "422/422 [==============================] - 1s 2ms/step - loss: 0.8770 - acc: 0.6856 - val_loss: 0.8251 - val_acc: 0.7122\n",
      "Epoch 60/100\n",
      "422/422 [==============================] - 1s 2ms/step - loss: 0.8781 - acc: 0.6876 - val_loss: 0.8096 - val_acc: 0.7135\n",
      "Epoch 61/100\n",
      "422/422 [==============================] - 1s 2ms/step - loss: 0.8779 - acc: 0.6883 - val_loss: 0.8359 - val_acc: 0.7128\n",
      "Epoch 62/100\n",
      "422/422 [==============================] - 1s 2ms/step - loss: 0.8807 - acc: 0.6964 - val_loss: 0.8362 - val_acc: 0.6967\n",
      "Epoch 63/100\n",
      "422/422 [==============================] - 1s 2ms/step - loss: 0.8771 - acc: 0.6934 - val_loss: 0.8121 - val_acc: 0.7087\n",
      "Epoch 64/100\n",
      "422/422 [==============================] - 1s 2ms/step - loss: 0.8895 - acc: 0.6920 - val_loss: 0.8226 - val_acc: 0.7048\n",
      "Epoch 65/100\n",
      "422/422 [==============================] - 1s 2ms/step - loss: 0.8731 - acc: 0.6924 - val_loss: 0.8042 - val_acc: 0.7238\n",
      "Epoch 66/100\n",
      "422/422 [==============================] - 1s 2ms/step - loss: 0.8747 - acc: 0.6905 - val_loss: 0.8439 - val_acc: 0.6962\n",
      "Epoch 67/100\n",
      "422/422 [==============================] - 1s 2ms/step - loss: 0.8810 - acc: 0.6929 - val_loss: 0.8207 - val_acc: 0.7210\n",
      "Epoch 68/100\n",
      "422/422 [==============================] - 1s 2ms/step - loss: 0.8712 - acc: 0.6969 - val_loss: 0.8070 - val_acc: 0.7100\n",
      "Epoch 69/100\n",
      "422/422 [==============================] - 1s 2ms/step - loss: 0.8661 - acc: 0.6992 - val_loss: 0.8309 - val_acc: 0.7128\n",
      "Epoch 70/100\n",
      "422/422 [==============================] - 1s 2ms/step - loss: 0.8656 - acc: 0.6991 - val_loss: 0.8076 - val_acc: 0.7160\n",
      "Epoch 71/100\n",
      "422/422 [==============================] - 1s 2ms/step - loss: 0.8754 - acc: 0.6986 - val_loss: 0.8234 - val_acc: 0.7097\n",
      "Epoch 72/100\n",
      "422/422 [==============================] - 1s 2ms/step - loss: 0.8723 - acc: 0.6985 - val_loss: 0.7977 - val_acc: 0.7252\n",
      "Epoch 73/100\n",
      "422/422 [==============================] - 1s 2ms/step - loss: 0.8717 - acc: 0.6919 - val_loss: 0.7992 - val_acc: 0.7175\n",
      "Epoch 74/100\n",
      "422/422 [==============================] - 1s 2ms/step - loss: 0.8577 - acc: 0.6979 - val_loss: 0.7987 - val_acc: 0.7103\n",
      "Epoch 75/100\n",
      "422/422 [==============================] - 1s 2ms/step - loss: 0.8556 - acc: 0.6981 - val_loss: 0.8053 - val_acc: 0.7245\n",
      "Epoch 76/100\n",
      "422/422 [==============================] - 1s 2ms/step - loss: 0.8673 - acc: 0.6964 - val_loss: 0.8059 - val_acc: 0.7167\n",
      "Epoch 77/100\n",
      "422/422 [==============================] - 1s 2ms/step - loss: 0.8582 - acc: 0.6979 - val_loss: 0.8052 - val_acc: 0.7163\n",
      "Epoch 78/100\n",
      "422/422 [==============================] - 1s 2ms/step - loss: 0.8510 - acc: 0.7029 - val_loss: 0.7860 - val_acc: 0.7280\n",
      "Epoch 79/100\n",
      "422/422 [==============================] - 1s 2ms/step - loss: 0.8558 - acc: 0.6999 - val_loss: 0.8146 - val_acc: 0.7043\n",
      "Epoch 80/100\n",
      "422/422 [==============================] - 1s 2ms/step - loss: 0.8480 - acc: 0.7037 - val_loss: 0.7909 - val_acc: 0.7167\n",
      "Epoch 81/100\n",
      "422/422 [==============================] - 1s 2ms/step - loss: 0.8615 - acc: 0.6980 - val_loss: 0.7937 - val_acc: 0.7200\n",
      "Epoch 82/100\n",
      "422/422 [==============================] - 1s 2ms/step - loss: 0.8655 - acc: 0.7007 - val_loss: 0.8153 - val_acc: 0.7165\n",
      "Epoch 83/100\n",
      "422/422 [==============================] - 1s 2ms/step - loss: 0.8680 - acc: 0.6932 - val_loss: 0.7900 - val_acc: 0.7233\n",
      "Epoch 84/100\n",
      "422/422 [==============================] - 1s 2ms/step - loss: 0.8534 - acc: 0.7048 - val_loss: 0.7907 - val_acc: 0.7323\n",
      "Epoch 85/100\n",
      "422/422 [==============================] - 1s 2ms/step - loss: 0.8570 - acc: 0.7076 - val_loss: 0.8003 - val_acc: 0.7375\n",
      "Epoch 86/100\n",
      "422/422 [==============================] - 1s 2ms/step - loss: 0.8650 - acc: 0.7056 - val_loss: 0.7856 - val_acc: 0.7270\n",
      "Epoch 87/100\n",
      "422/422 [==============================] - 1s 2ms/step - loss: 0.8543 - acc: 0.7041 - val_loss: 0.8157 - val_acc: 0.7302\n",
      "Epoch 88/100\n",
      "422/422 [==============================] - 1s 2ms/step - loss: 0.8631 - acc: 0.7040 - val_loss: 0.8984 - val_acc: 0.6950\n",
      "Epoch 89/100\n",
      "422/422 [==============================] - 1s 2ms/step - loss: 0.8586 - acc: 0.7093 - val_loss: 0.7711 - val_acc: 0.7357\n",
      "Epoch 90/100\n",
      "422/422 [==============================] - 1s 2ms/step - loss: 0.8433 - acc: 0.7064 - val_loss: 0.7868 - val_acc: 0.7272\n",
      "Epoch 91/100\n",
      "422/422 [==============================] - 1s 2ms/step - loss: 0.8493 - acc: 0.7108 - val_loss: 0.7870 - val_acc: 0.7242\n",
      "Epoch 92/100\n",
      "422/422 [==============================] - 1s 2ms/step - loss: 0.8393 - acc: 0.7082 - val_loss: 0.7980 - val_acc: 0.7335\n",
      "Epoch 93/100\n",
      "422/422 [==============================] - 1s 2ms/step - loss: 0.8508 - acc: 0.7034 - val_loss: 0.7740 - val_acc: 0.7308\n",
      "Epoch 94/100\n",
      "422/422 [==============================] - 1s 2ms/step - loss: 0.8439 - acc: 0.7044 - val_loss: 0.7828 - val_acc: 0.7313\n",
      "Epoch 95/100\n",
      "422/422 [==============================] - 1s 2ms/step - loss: 0.8465 - acc: 0.7102 - val_loss: 0.8318 - val_acc: 0.6943\n",
      "Epoch 96/100\n",
      "422/422 [==============================] - 1s 2ms/step - loss: 0.8449 - acc: 0.7044 - val_loss: 0.7866 - val_acc: 0.7215\n",
      "Epoch 97/100\n",
      "422/422 [==============================] - 1s 2ms/step - loss: 0.8463 - acc: 0.7055 - val_loss: 0.7940 - val_acc: 0.7260\n",
      "Epoch 98/100\n",
      "422/422 [==============================] - 1s 2ms/step - loss: 0.8596 - acc: 0.7035 - val_loss: 0.7803 - val_acc: 0.7357\n",
      "Epoch 99/100\n",
      "422/422 [==============================] - 1s 2ms/step - loss: 0.8504 - acc: 0.7071 - val_loss: 0.7769 - val_acc: 0.7348\n",
      "Epoch 100/100\n",
      "422/422 [==============================] - 1s 2ms/step - loss: 0.8404 - acc: 0.7216 - val_loss: 0.7794 - val_acc: 0.7428\n"
     ]
    },
    {
     "data": {
      "image/png": "[encoded data removed]",
      "text/plain": [
       "<Figure size 432x288 with 1 Axes>"
      ]
     },
     "metadata": {
      "needs_background": "light"
     },
     "output_type": "display_data"
    },
    {
     "name": "stdout",
     "output_type": "stream",
     "text": [
      "Test loss: 0.837\n",
      "Test accuracy: 0.721\n"
     ]
    }
   ],
   "source": [
    "model.compile(optimizer=\"sgd\", loss='categorical_crossentropy', metrics=[\"acc\"])\n",
    "history = model.fit(x_train, y_train, batch_size=128, epochs=100, verbose=True, validation_split=.1)\n",
    "loss, accuracy  = model.evaluate(x_test, y_test, verbose=False)\n",
    "\n",
    "plt.plot(history.history['acc'])\n",
    "plt.plot(history.history['val_acc'])\n",
    "plt.title('model accuracy')\n",
    "plt.ylabel('accuracy')\n",
    "plt.xlabel('epoch')\n",
    "plt.legend(['training', 'validation'], loc='best')\n",
    "plt.show()\n",
    "\n",
    "print(f'Test loss: {loss:.3}')\n",
    "print(f'Test accuracy: {accuracy:.3}')"
   ]
  },
  {
   "cell_type": "code",
   "execution_count": 131,
   "id": "primary-missouri",
   "metadata": {},
   "outputs": [],
   "source": [
    "first_layer_weights = model.layers[0].get_weights()[0]\n",
    "first_layer_biases  = model.layers[0].get_weights()[1]\n",
    "second_layer_weights = model.layers[1].get_weights()[0]\n",
    "second_layer_biases  = model.layers[1].get_weights()[1]"
   ]
  },
  {
   "cell_type": "code",
   "execution_count": 132,
   "id": "b78bfe5c",
   "metadata": {},
   "outputs": [
    {
     "data": {
      "text/plain": [
       "array([-0.00271032, -0.00827304, -0.00501157,  0.00198953], dtype=float32)"
      ]
     },
     "execution_count": 132,
     "metadata": {},
     "output_type": "execute_result"
    }
   ],
   "source": [
    "model.layers[0].get_weights()[1]"
   ]
  },
  {
   "cell_type": "code",
   "execution_count": 200,
   "id": "29f76185",
   "metadata": {},
   "outputs": [
    {
     "data": {
      "text/plain": [
       "array([ 1.0073209 ,  1.217863  , -1.5576632 , -1.939995  , -0.7067397 ,\n",
       "        0.14599818, -0.9704011 ,  1.9079922 ,  0.67137474,  0.22425392],\n",
       "      dtype=float32)"
      ]
     },
     "execution_count": 200,
     "metadata": {},
     "output_type": "execute_result"
    }
   ],
   "source": [
    "model.layers[1].get_weights()[1]"
   ]
  },
  {
   "cell_type": "code",
   "execution_count": 315,
   "id": "silent-queue",
   "metadata": {},
   "outputs": [],
   "source": [
    "fw = (first_layer_weights*1000).astype(int)\n",
    "sw = (second_layer_weights*10).astype(int) \n",
    "fb = (first_layer_biases*100).astype(int)  \n",
    "sb = (second_layer_biases*100).astype(int)"
   ]
  },
  {
   "cell_type": "code",
   "execution_count": 316,
   "id": "sublime-latin",
   "metadata": {},
   "outputs": [],
   "source": [
    "# fw = first_layer_weights\n",
    "# sw = second_layer_weights\n",
    "# fb = first_layer_biases \n",
    "# sb = second_layer_biases"
   ]
  },
  {
   "cell_type": "code",
   "execution_count": 317,
   "id": "d5daf78f",
   "metadata": {},
   "outputs": [
    {
     "data": {
      "text/plain": [
       "array([0, 0, 0, 0])"
      ]
     },
     "execution_count": 317,
     "metadata": {},
     "output_type": "execute_result"
    }
   ],
   "source": [
    "fb"
   ]
  },
  {
   "cell_type": "code",
   "execution_count": 318,
   "id": "indie-browse",
   "metadata": {},
   "outputs": [
    {
     "data": {
      "text/plain": [
       "(784, 4)"
      ]
     },
     "execution_count": 318,
     "metadata": {},
     "output_type": "execute_result"
    }
   ],
   "source": [
    "fw.shape"
   ]
  },
  {
   "cell_type": "code",
   "execution_count": 319,
   "id": "variable-luxury",
   "metadata": {},
   "outputs": [
    {
     "data": {
      "text/plain": [
       "(4, 10)"
      ]
     },
     "execution_count": 319,
     "metadata": {},
     "output_type": "execute_result"
    }
   ],
   "source": [
    "sw.shape"
   ]
  },
  {
   "cell_type": "code",
   "execution_count": 320,
   "id": "graphic-basement",
   "metadata": {},
   "outputs": [
    {
     "data": {
      "text/plain": [
       "array([[ 78,  61, -68, -30],\n",
       "       [-65,  19,  11,  16],\n",
       "       [-22, -32, -72, -54],\n",
       "       ...,\n",
       "       [ 35, -86,  42,  44],\n",
       "       [ 17,  -2,  59, -68],\n",
       "       [-76, -80,  28,  15]])"
      ]
     },
     "execution_count": 320,
     "metadata": {},
     "output_type": "execute_result"
    }
   ],
   "source": [
    "fw"
   ]
  },
  {
   "cell_type": "code",
   "execution_count": 321,
   "id": "oriental-anger",
   "metadata": {},
   "outputs": [
    {
     "data": {
      "text/plain": [
       "array([[-254,  382,  314,  306, -158, -155, -252,   52,  -86, -140],\n",
       "       [-340,  -35, -153,  150,  185,  156, -157, -289,  241,  142],\n",
       "       [ 294, -362,  186,  179, -195,  169,  257, -373,   -2, -260],\n",
       "       [-283, -277,  113, -133,  243, -220,  252,  250, -256,  190]])"
      ]
     },
     "execution_count": 321,
     "metadata": {},
     "output_type": "execute_result"
    }
   ],
   "source": [
    "sw"
   ]
  },
  {
   "cell_type": "code",
   "execution_count": 497,
   "id": "e3ae60f0",
   "metadata": {},
   "outputs": [
    {
     "name": "stderr",
     "output_type": "stream",
     "text": [
      "/Users/Syed/anaconda/anaconda3/lib/python3.7/site-packages/ipykernel_launcher.py:2: RuntimeWarning: overflow encountered in exp\n",
      "  \n"
     ]
    }
   ],
   "source": [
    "def sigmoid(x):\n",
    "    return (1/(1+np.exp(-x)))\n",
    "def softmax(x):\n",
    "    sumexp = np.sum(np.exp(x))\n",
    "    return((np.exp(x)/sumexp))\n",
    "def layer1(x,w,b):\n",
    "    return sigmoid(np.dot(x,w)+b)\n",
    "def layer2(x,w,b):\n",
    "    return  softmax(np.dot(x,w)+b)\n",
    "layer1_out = layer1(x_test,fw,fb)\n",
    "layer2_out = layer2(layer1_out,sw,sb)\n",
    "pred= np.zeros(layer2_out.shape[0])\n",
    "for i in range(layer2_out.shape[0]):\n",
    "    pred[i] = np.argmax(layer2_out[i])"
   ]
  },
  {
   "cell_type": "code",
   "execution_count": 498,
   "id": "a1af6540",
   "metadata": {},
   "outputs": [
    {
     "data": {
      "text/plain": [
       "array([7, 2, 1, ..., 4, 5, 6], dtype=uint8)"
      ]
     },
     "execution_count": 498,
     "metadata": {},
     "output_type": "execute_result"
    }
   ],
   "source": [
    "y_orig_test"
   ]
  },
  {
   "cell_type": "code",
   "execution_count": 499,
   "id": "005323ca",
   "metadata": {},
   "outputs": [
    {
     "data": {
      "text/plain": [
       "array([7., 2., 1., ..., 4., 5., 6.])"
      ]
     },
     "execution_count": 499,
     "metadata": {},
     "output_type": "execute_result"
    }
   ],
   "source": [
    "pred"
   ]
  },
  {
   "cell_type": "code",
   "execution_count": 500,
   "id": "8ccdc44e",
   "metadata": {},
   "outputs": [
    {
     "data": {
      "text/plain": [
       "0.7212"
      ]
     },
     "execution_count": 500,
     "metadata": {},
     "output_type": "execute_result"
    }
   ],
   "source": [
    "from sklearn.metrics import accuracy_score\n",
    "accuracy_score(pred,y_orig_test)"
   ]
  },
  {
   "cell_type": "code",
   "execution_count": 513,
   "id": "86596b0d",
   "metadata": {},
   "outputs": [],
   "source": [
    "x = x_test[2].tolist()\n",
    "\n",
    "w11 = fw[:,0].tolist()\n",
    "w12 = fw[:,1].tolist()\n",
    "w13 = fw[:,2].tolist()\n",
    "w14 = fw[:,3].tolist()\n",
    "\n",
    "w21 = sw[:,0].tolist()\n",
    "w22 = sw[:,1].tolist()\n",
    "w23 = sw[:,2].tolist()\n",
    "w24 = sw[:,3].tolist()\n",
    "w25 = sw[:,4].tolist()\n",
    "w26 = sw[:,5].tolist()\n",
    "w27 = sw[:,6].tolist()\n",
    "w28 = sw[:,7].tolist()\n",
    "w29 = sw[:,8].tolist()\n",
    "w30 = sw[:,9].tolist()\n",
    "\n",
    "b1 = fb.tolist()\n",
    "b2 = sb.tolist()"
   ]
  },
  {
   "cell_type": "code",
   "execution_count": 514,
   "id": "5909fd4a",
   "metadata": {},
   "outputs": [
    {
     "data": {
      "text/plain": [
       "[0, 0, 0, 0]"
      ]
     },
     "execution_count": 514,
     "metadata": {},
     "output_type": "execute_result"
    }
   ],
   "source": [
    "b1"
   ]
  },
  {
   "cell_type": "code",
   "execution_count": 515,
   "id": "37ee666c",
   "metadata": {},
   "outputs": [
    {
     "data": {
      "text/plain": [
       "[100, 121, -155, -193, -70, 14, -97, 190, 67, 22]"
      ]
     },
     "execution_count": 515,
     "metadata": {},
     "output_type": "execute_result"
    }
   ],
   "source": [
    "b2"
   ]
  },
  {
   "cell_type": "code",
   "execution_count": 516,
   "id": "8f701692",
   "metadata": {},
   "outputs": [
    {
     "data": {
      "text/plain": [
       "list"
      ]
     },
     "execution_count": 516,
     "metadata": {},
     "output_type": "execute_result"
    }
   ],
   "source": [
    "type(w11)"
   ]
  },
  {
   "cell_type": "code",
   "execution_count": 517,
   "id": "7b253605",
   "metadata": {},
   "outputs": [],
   "source": [
    "# print(nn_cont.functions.print_l1().call())\n",
    "# print(nn_cont.functions.print_l2().call())\n",
    "# n, d = sig_cont.functions.sigprint().call()\n",
    "# print(\"value of sigmoid is:\", n/d)\n",
    "# print(soft_cont.functions.set_softmax().call())"
   ]
  },
  {
   "cell_type": "code",
   "execution_count": 518,
   "id": "a2f7efb5",
   "metadata": {},
   "outputs": [],
   "source": [
    "# x = np.arange(1,784).tolist()\n",
    "# w11 = np.arange(1,784).tolist()\n",
    "# w12 = np.arange(1,784).tolist()\n",
    "# w13 = np.arange(1,784).tolist()\n",
    "# w14 = np.arange(1,784).tolist()\n",
    "# b1 = np.arange(1,5).tolist()"
   ]
  },
  {
   "cell_type": "code",
   "execution_count": 519,
   "id": "362ca10b",
   "metadata": {},
   "outputs": [],
   "source": [
    "##testing a sample  in layer 1"
   ]
  },
  {
   "cell_type": "code",
   "execution_count": 520,
   "id": "422bfa40",
   "metadata": {},
   "outputs": [
    {
     "name": "stdout",
     "output_type": "stream",
     "text": [
      "442848\n"
     ]
    }
   ],
   "source": [
    "print(np.sum(x_test[2]* fw[:,0]))"
   ]
  },
  {
   "cell_type": "code",
   "execution_count": 521,
   "id": "58d3f135",
   "metadata": {},
   "outputs": [
    {
     "name": "stdout",
     "output_type": "stream",
     "text": [
      "[ 442848. -313970. -492180. -550151.]\n",
      "(442848, 1, 442848, 1)\n",
      "(-313970, 1, 313970, 1)\n",
      "(-492180, 1, 492180, 1)\n",
      "(-550151, 1, 550151, 1)\n"
     ]
    }
   ],
   "source": [
    "## multiply layer 1\n",
    "l1_mult= np.zeros(4)\n",
    "l1_out= np.zeros(4)\n",
    "getlayer1(x,w11,w12,w13,w14,b1)\n",
    "# getlayer1(x,w11,w12,w13,w14,b1)\n",
    "l1_mult[:]=nn_cont.functions.print_l1().call()\n",
    "print(l1_mult)\n",
    "## get sigmoid\n",
    "for i in range(len(l1_mult)):\n",
    "    print((int(l1_mult[i]),1,int(abs(l1_mult[i])),1))\n",
    "    sigfrac(int(l1_mult[i]),1,int(abs(l1_mult[i])),1)\n",
    "#     print(sig_cont.functions.sigprint().call())\n",
    "    n,d = sig_cont.functions.sigprint().call()\n",
    "    l1_out[i] = n/d"
   ]
  },
  {
   "cell_type": "code",
   "execution_count": 522,
   "id": "0caf70bb",
   "metadata": {},
   "outputs": [
    {
     "data": {
      "text/plain": [
       "array([1., 0., 0., 0.])"
      ]
     },
     "execution_count": 522,
     "metadata": {},
     "output_type": "execute_result"
    }
   ],
   "source": [
    "l1_out"
   ]
  },
  {
   "cell_type": "code",
   "execution_count": 523,
   "id": "c4e481ed",
   "metadata": {},
   "outputs": [],
   "source": [
    "l1_out = l1_out.astype(int)"
   ]
  },
  {
   "cell_type": "code",
   "execution_count": 524,
   "id": "adac51ae",
   "metadata": {},
   "outputs": [],
   "source": [
    "l1_out = l1_out.tolist()"
   ]
  },
  {
   "cell_type": "code",
   "execution_count": 525,
   "id": "ee064ac1",
   "metadata": {},
   "outputs": [
    {
     "data": {
      "text/plain": [
       "[1, 0, 0, 0]"
      ]
     },
     "execution_count": 525,
     "metadata": {},
     "output_type": "execute_result"
    }
   ],
   "source": [
    "l1_out"
   ]
  },
  {
   "cell_type": "code",
   "execution_count": 526,
   "id": "33b73271",
   "metadata": {},
   "outputs": [],
   "source": [
    "## testing a sample in layer 2"
   ]
  },
  {
   "cell_type": "code",
   "execution_count": 527,
   "id": "555b14eb",
   "metadata": {},
   "outputs": [
    {
     "name": "stdout",
     "output_type": "stream",
     "text": [
      "[-154.  503.  159.  113. -228. -141. -349.  242.  -19. -118.]\n"
     ]
    }
   ],
   "source": [
    "#multiply layer 2\n",
    "\n",
    "\n",
    "l2_mult = np.zeros(10)\n",
    "l2_out = np.zeros(10)\n",
    "getlayer2(l1_out,w21,w22,w23,w24,w25,w26,w27,w28,w29,w30,b2)\n",
    "l2_out[:] = nn_cont.functions.print_l2().call()\n",
    "print(l2_out)\n",
    "## get softmax\n",
    "\n"
   ]
  },
  {
   "cell_type": "code",
   "execution_count": 393,
   "id": "c009bc1d",
   "metadata": {},
   "outputs": [
    {
     "data": {
      "text/plain": [
       "5"
      ]
     },
     "execution_count": 393,
     "metadata": {},
     "output_type": "execute_result"
    }
   ],
   "source": [
    "np.argmax(l2_out)"
   ]
  },
  {
   "cell_type": "code",
   "execution_count": 182,
   "id": "4a8b2327",
   "metadata": {},
   "outputs": [],
   "source": [
    "for i in range(len(l2_out)):\n",
    "    getexpon(int(l2_out[i]),1, abs(int(l2_out[i])),1)\n",
    "getsumexpon()\n",
    "getsoftmax()\n",
    "smaxn,smaxd = soft_cont.functions.set_softmax().call()"
   ]
  },
  {
   "cell_type": "code",
   "execution_count": 183,
   "id": "e0a872bc",
   "metadata": {},
   "outputs": [
    {
     "name": "stdout",
     "output_type": "stream",
     "text": [
      "[0, 0, 0, 0, 0, 0, 0, 0, 0, 0] [0, 0, 0, 0, 0, 0, 0, 0, 0, 0]\n"
     ]
    }
   ],
   "source": [
    "print(smaxn,smaxd)"
   ]
  },
  {
   "cell_type": "code",
   "execution_count": 15,
   "id": "functional-surveillance",
   "metadata": {},
   "outputs": [],
   "source": [
    "## testing prediction with builtin functions"
   ]
  },
  {
   "cell_type": "code",
   "execution_count": 16,
   "id": "blind-juice",
   "metadata": {},
   "outputs": [],
   "source": [
    "def sigmoid(x):\n",
    "    return (1/(1+np.exp(-x)))\n",
    "def softmax(x):\n",
    "    sumexp = np.sum(np.exp(x))\n",
    "    return((np.exp(x)/sumexp))\n",
    "def layer1(x,w,b):\n",
    "    return sigmoid(np.dot(x,w)+b)\n",
    "def layer2(x,w,b):\n",
    "    return  softmax(np.dot(x,w)+b)"
   ]
  },
  {
   "cell_type": "code",
   "execution_count": 17,
   "id": "consecutive-matthew",
   "metadata": {},
   "outputs": [
    {
     "name": "stderr",
     "output_type": "stream",
     "text": [
      "/Users/Syed/anaconda/anaconda3/lib/python3.7/site-packages/ipykernel_launcher.py:2: RuntimeWarning: overflow encountered in exp\n",
      "  \n"
     ]
    }
   ],
   "source": [
    "layer1_out = layer1(x_test,fw,fb)\n",
    "# layer1_out[:50]\n"
   ]
  },
  {
   "cell_type": "code",
   "execution_count": 18,
   "id": "proved-ottawa",
   "metadata": {},
   "outputs": [
    {
     "data": {
      "text/plain": [
       "array([2.76898550e-20, 2.98692853e-44, 6.98583051e-22, 4.64583254e-21,\n",
       "       1.50356482e-37, 6.86730237e-36, 3.05191685e-42, 8.96994448e-16,\n",
       "       1.65533536e-39, 6.15235175e-36])"
      ]
     },
     "execution_count": 18,
     "metadata": {},
     "output_type": "execute_result"
    }
   ],
   "source": [
    "layer2_out = layer2(layer1_out,sw,sb)\n",
    "layer2_out[0]"
   ]
  },
  {
   "cell_type": "code",
   "execution_count": 19,
   "id": "everyday-cylinder",
   "metadata": {},
   "outputs": [],
   "source": [
    "pred= np.zeros(layer2_out.shape[0])\n",
    "for i in range(layer2_out.shape[0]):\n",
    "    pred[i] = np.argmax(layer2_out[i])"
   ]
  },
  {
   "cell_type": "code",
   "execution_count": 20,
   "id": "caring-aquatic",
   "metadata": {},
   "outputs": [
    {
     "data": {
      "text/plain": [
       "array([7, 2, 1, ..., 4, 5, 6], dtype=uint8)"
      ]
     },
     "execution_count": 20,
     "metadata": {},
     "output_type": "execute_result"
    }
   ],
   "source": [
    "y_orig_test"
   ]
  },
  {
   "cell_type": "code",
   "execution_count": 21,
   "id": "provincial-davis",
   "metadata": {},
   "outputs": [
    {
     "data": {
      "text/plain": [
       "array([7., 2., 1., ..., 4., 5., 6.])"
      ]
     },
     "execution_count": 21,
     "metadata": {},
     "output_type": "execute_result"
    }
   ],
   "source": [
    "pred"
   ]
  },
  {
   "cell_type": "code",
   "execution_count": 22,
   "id": "stupid-retro",
   "metadata": {},
   "outputs": [
    {
     "data": {
      "text/plain": [
       "0.6137"
      ]
     },
     "execution_count": 22,
     "metadata": {},
     "output_type": "execute_result"
    }
   ],
   "source": [
    "from sklearn.metrics import accuracy_score\n",
    "accuracy_score(pred,y_orig_test)"
   ]
  },
  {
   "cell_type": "code",
   "execution_count": 208,
   "id": "american-narrow",
   "metadata": {},
   "outputs": [],
   "source": [
    "# in depth layers\n",
    "\n",
    "def create_dense(layer_sizes):\n",
    "    model = Sequential()\n",
    "    model.add(Dense(layer_sizes[0], activation='sigmoid', input_shape=(image_size,)))\n",
    "\n",
    "    for s in layer_sizes[1:]:\n",
    "        model.add(Dense(units = s, activation = 'sigmoid'))\n",
    "\n",
    "    model.add(Dense(units=num_classes, activation='softmax'))\n",
    "    return model\n",
    "\n",
    "def evaluate(model, batch_size=128, epochs=5):\n",
    "    model.summary()\n",
    "    model.compile(optimizer='sgd', loss='categorical_crossentropy', metrics=['acc'])\n",
    "    history = model.fit(x_train, y_train, batch_size=batch_size, epochs=epochs, validation_split=.1, verbose=False)\n",
    "    loss, accuracy  = model.evaluate(x_test, y_test, verbose=False)\n",
    "    \n",
    "    plt.plot(history.history['acc'])\n",
    "    plt.plot(history.history['val_acc'])\n",
    "    plt.title('model accuracy')\n",
    "    plt.ylabel('accuracy')\n",
    "    plt.xlabel('epoch')\n",
    "    plt.legend(['training', 'validation'], loc='best')\n",
    "    plt.show()\n",
    "\n",
    "    print()\n",
    "    print(f'Test loss: {loss:.3}')\n",
    "    print(f'Test accuracy: {accuracy:.3}')"
   ]
  },
  {
   "cell_type": "code",
   "execution_count": 27,
   "id": "plain-stereo",
   "metadata": {},
   "outputs": [
    {
     "name": "stdout",
     "output_type": "stream",
     "text": [
      "Model: \"sequential_7\"\n",
      "_________________________________________________________________\n",
      "Layer (type)                 Output Shape              Param #   \n",
      "=================================================================\n",
      "dense_20 (Dense)             (None, 32)                25120     \n",
      "_________________________________________________________________\n",
      "dense_21 (Dense)             (None, 10)                330       \n",
      "=================================================================\n",
      "Total params: 25,450\n",
      "Trainable params: 25,450\n",
      "Non-trainable params: 0\n",
      "_________________________________________________________________\n"
     ]
    },
    {
     "data": {
      "image/png": "[encoded data removed]",
      "text/plain": [
       "<Figure size 432x288 with 1 Axes>"
      ]
     },
     "metadata": {
      "needs_background": "light"
     },
     "output_type": "display_data"
    },
    {
     "name": "stdout",
     "output_type": "stream",
     "text": [
      "\n",
      "Test loss: 0.494\n",
      "Test accuracy: 0.888\n",
      "Model: \"sequential_8\"\n",
      "_________________________________________________________________\n",
      "Layer (type)                 Output Shape              Param #   \n",
      "=================================================================\n",
      "dense_22 (Dense)             (None, 32)                25120     \n",
      "_________________________________________________________________\n",
      "dense_23 (Dense)             (None, 32)                1056      \n",
      "_________________________________________________________________\n",
      "dense_24 (Dense)             (None, 10)                330       \n",
      "=================================================================\n",
      "Total params: 26,506\n",
      "Trainable params: 26,506\n",
      "Non-trainable params: 0\n",
      "_________________________________________________________________\n"
     ]
    },
    {
     "data": {
      "image/png": "[encoded data removed]",
      "text/plain": [
       "<Figure size 432x288 with 1 Axes>"
      ]
     },
     "metadata": {
      "needs_background": "light"
     },
     "output_type": "display_data"
    },
    {
     "name": "stdout",
     "output_type": "stream",
     "text": [
      "\n",
      "Test loss: 1.16\n",
      "Test accuracy: 0.814\n",
      "Model: \"sequential_9\"\n",
      "_________________________________________________________________\n",
      "Layer (type)                 Output Shape              Param #   \n",
      "=================================================================\n",
      "dense_25 (Dense)             (None, 32)                25120     \n",
      "_________________________________________________________________\n",
      "dense_26 (Dense)             (None, 32)                1056      \n",
      "_________________________________________________________________\n",
      "dense_27 (Dense)             (None, 32)                1056      \n",
      "_________________________________________________________________\n",
      "dense_28 (Dense)             (None, 10)                330       \n",
      "=================================================================\n",
      "Total params: 27,562\n",
      "Trainable params: 27,562\n",
      "Non-trainable params: 0\n",
      "_________________________________________________________________\n"
     ]
    },
    {
     "data": {
      "image/png": "[encoded data removed]",
      "text/plain": [
       "<Figure size 432x288 with 1 Axes>"
      ]
     },
     "metadata": {
      "needs_background": "light"
     },
     "output_type": "display_data"
    },
    {
     "name": "stdout",
     "output_type": "stream",
     "text": [
      "\n",
      "Test loss: 2.15\n",
      "Test accuracy: 0.569\n",
      "Model: \"sequential_10\"\n",
      "_________________________________________________________________\n",
      "Layer (type)                 Output Shape              Param #   \n",
      "=================================================================\n",
      "dense_29 (Dense)             (None, 32)                25120     \n",
      "_________________________________________________________________\n",
      "dense_30 (Dense)             (None, 32)                1056      \n",
      "_________________________________________________________________\n",
      "dense_31 (Dense)             (None, 32)                1056      \n",
      "_________________________________________________________________\n",
      "dense_32 (Dense)             (None, 32)                1056      \n",
      "_________________________________________________________________\n",
      "dense_33 (Dense)             (None, 10)                330       \n",
      "=================================================================\n",
      "Total params: 28,618\n",
      "Trainable params: 28,618\n",
      "Non-trainable params: 0\n",
      "_________________________________________________________________\n"
     ]
    },
    {
     "data": {
      "image/png": "[encoded data removed]",
      "text/plain": [
       "<Figure size 432x288 with 1 Axes>"
      ]
     },
     "metadata": {
      "needs_background": "light"
     },
     "output_type": "display_data"
    },
    {
     "name": "stdout",
     "output_type": "stream",
     "text": [
      "\n",
      "Test loss: 2.29\n",
      "Test accuracy: 0.113\n"
     ]
    }
   ],
   "source": [
    "for layers in range(1, 5):\n",
    "    model = create_dense([32] * layers)\n",
    "    evaluate(model)"
   ]
  },
  {
   "cell_type": "code",
   "execution_count": null,
   "id": "amateur-subdivision",
   "metadata": {},
   "outputs": [],
   "source": []
  }
 ],
 "metadata": {
  "kernelspec": {
   "display_name": "Python 3 (ipykernel)",
   "language": "python",
   "name": "python3"
  },
  "language_info": {
   "codemirror_mode": {
    "name": "ipython",
    "version": 3
   },
   "file_extension": ".py",
   "mimetype": "text/x-python",
   "name": "python",
   "nbconvert_exporter": "python",
   "pygments_lexer": "ipython3",
   "version": "3.7.11"
  }
 },
 "nbformat": 4,
 "nbformat_minor": 5
}
