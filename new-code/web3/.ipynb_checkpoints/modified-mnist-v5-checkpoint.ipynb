{
 "cells": [
  {
   "cell_type": "code",
   "execution_count": 3,
   "id": "5ea50fc3",
   "metadata": {},
   "outputs": [
    {
     "data": {
      "text/plain": [
       "True"
      ]
     },
     "execution_count": 3,
     "metadata": {},
     "output_type": "execute_result"
    }
   ],
   "source": [
    "from keras.datasets import mnist\n",
    "import numpy as np \n",
    "import json\n",
    "from web3 import Web3\n",
    "import matplotlib.pyplot as plt\n",
    "ganache_url =\"http://127.0.0.1:8545\"\n",
    "web3 = Web3(Web3.HTTPProvider(ganache_url))\n",
    "web3.isConnected()"
   ]
  },
  {
   "cell_type": "code",
   "execution_count": 4,
   "id": "672b8d9b",
   "metadata": {},
   "outputs": [],
   "source": [
    "## Sigmoid contract"
   ]
  },
  {
   "cell_type": "code",
   "execution_count": 5,
   "id": "23eeecdb",
   "metadata": {},
   "outputs": [],
   "source": [
    "sig_abi = json.loads('[ { \"constant\": false, \"inputs\": [ { \"name\": \"x\", \"type\": \"int256\" }, { \"name\": \"y\", \"type\": \"int256\" }, { \"name\": \"a\", \"type\": \"uint256\" }, { \"name\": \"b\", \"type\": \"uint256\" } ], \"name\": \"sigmoid_act\", \"outputs\": [], \"payable\": false, \"stateMutability\": \"nonpayable\", \"type\": \"function\" }, { \"constant\": true, \"inputs\": [ { \"name\": \"x\", \"type\": \"int256\" }, { \"name\": \"y\", \"type\": \"int256\" } ], \"name\": \"div\", \"outputs\": [ { \"name\": \"\", \"type\": \"int256\" }, { \"name\": \"\", \"type\": \"int256\" } ], \"payable\": false, \"stateMutability\": \"view\", \"type\": \"function\" }, { \"constant\": true, \"inputs\": [], \"name\": \"sigprint\", \"outputs\": [ { \"name\": \"\", \"type\": \"uint256\" }, { \"name\": \"\", \"type\": \"uint256\" } ], \"payable\": false, \"stateMutability\": \"view\", \"type\": \"function\" } ]')\n",
    "sig_cont_address = \"0x3524560988D41eeD75a9115b4D46812ed77f9a07\"\n",
    "sig_cont = web3.eth.contract(address=sig_cont_address,abi=sig_abi)"
   ]
  },
  {
   "cell_type": "code",
   "execution_count": 6,
   "id": "5e829c59",
   "metadata": {},
   "outputs": [],
   "source": [
    "## Softmax contract"
   ]
  },
  {
   "cell_type": "code",
   "execution_count": 7,
   "id": "233301c5",
   "metadata": {},
   "outputs": [],
   "source": [
    "soft_abi = json.loads('[ { \"constant\": false, \"inputs\": [], \"name\": \"del_arr\", \"outputs\": [], \"payable\": false, \"stateMutability\": \"nonpayable\", \"type\": \"function\" }, { \"constant\": false, \"inputs\": [], \"name\": \"get_softmax\", \"outputs\": [], \"payable\": false, \"stateMutability\": \"nonpayable\", \"type\": \"function\" }, { \"constant\": false, \"inputs\": [ { \"name\": \"C\", \"type\": \"int256\" }, { \"name\": \"D\", \"type\": \"int256\" }, { \"name\": \"k\", \"type\": \"uint256\" }, { \"name\": \"j\", \"type\": \"uint256\" } ], \"name\": \"getexpon\", \"outputs\": [], \"payable\": false, \"stateMutability\": \"nonpayable\", \"type\": \"function\" }, { \"constant\": false, \"inputs\": [], \"name\": \"sum_exp\", \"outputs\": [], \"payable\": false, \"stateMutability\": \"nonpayable\", \"type\": \"function\" }, { \"constant\": true, \"inputs\": [ { \"name\": \"\", \"type\": \"int256\" } ], \"name\": \"exp\", \"outputs\": [ { \"name\": \"\", \"type\": \"int256\" } ], \"payable\": false, \"stateMutability\": \"view\", \"type\": \"function\" }, { \"constant\": true, \"inputs\": [], \"name\": \"set_softmax\", \"outputs\": [ { \"name\": \"\", \"type\": \"uint256[]\" }, { \"name\": \"\", \"type\": \"uint256[]\" } ], \"payable\": false, \"stateMutability\": \"view\", \"type\": \"function\" }, { \"constant\": true, \"inputs\": [], \"name\": \"set_sumexp\", \"outputs\": [ { \"name\": \"\", \"type\": \"uint256\" } ], \"payable\": false, \"stateMutability\": \"view\", \"type\": \"function\" }, { \"constant\": true, \"inputs\": [], \"name\": \"setallexpon\", \"outputs\": [ { \"name\": \"\", \"type\": \"uint256[]\" } ], \"payable\": false, \"stateMutability\": \"view\", \"type\": \"function\" }, { \"constant\": true, \"inputs\": [], \"name\": \"setexpon\", \"outputs\": [ { \"name\": \"\", \"type\": \"uint256\" } ], \"payable\": false, \"stateMutability\": \"view\", \"type\": \"function\" } ]')\n",
    "soft_cont_address = \"0x5F9900a281C41822b6D057138d3BD3bDaB174e39\"\n",
    "soft_cont = web3.eth.contract(address=soft_cont_address,abi=soft_abi)"
   ]
  },
  {
   "cell_type": "code",
   "execution_count": 8,
   "id": "6f6ea09c",
   "metadata": {},
   "outputs": [],
   "source": [
    "## NN-LayerContract"
   ]
  },
  {
   "cell_type": "code",
   "execution_count": 9,
   "id": "9b688b72",
   "metadata": {},
   "outputs": [],
   "source": [
    "nn_abi = json.loads('[ { \"constant\": false, \"inputs\": [ { \"name\": \"x\", \"type\": \"int256[]\" }, { \"name\": \"w1\", \"type\": \"int256[]\" }, { \"name\": \"w2\", \"type\": \"int256[]\" }, { \"name\": \"w3\", \"type\": \"int256[]\" }, { \"name\": \"w4\", \"type\": \"int256[]\" }, { \"name\": \"b1\", \"type\": \"int256[]\" } ], \"name\": \"multiply_layer1\", \"outputs\": [], \"payable\": false, \"stateMutability\": \"nonpayable\", \"type\": \"function\" }, { \"constant\": false, \"inputs\": [ { \"name\": \"l1_output\", \"type\": \"int256[]\" }, { \"name\": \"w1\", \"type\": \"int256[]\" }, { \"name\": \"w2\", \"type\": \"int256[]\" }, { \"name\": \"w3\", \"type\": \"int256[]\" }, { \"name\": \"w4\", \"type\": \"int256[]\" }, { \"name\": \"w5\", \"type\": \"int256[]\" }, { \"name\": \"w6\", \"type\": \"int256[]\" }, { \"name\": \"w7\", \"type\": \"int256[]\" }, { \"name\": \"w8\", \"type\": \"int256[]\" }, { \"name\": \"w9\", \"type\": \"int256[]\" }, { \"name\": \"w10\", \"type\": \"int256[]\" }, { \"name\": \"b2\", \"type\": \"int256[]\" } ], \"name\": \"multiply_layer2\", \"outputs\": [], \"payable\": false, \"stateMutability\": \"nonpayable\", \"type\": \"function\" }, { \"constant\": true, \"inputs\": [], \"name\": \"print_l1\", \"outputs\": [ { \"name\": \"\", \"type\": \"int256\" }, { \"name\": \"\", \"type\": \"int256\" }, { \"name\": \"\", \"type\": \"int256\" }, { \"name\": \"\", \"type\": \"int256\" } ], \"payable\": false, \"stateMutability\": \"view\", \"type\": \"function\" }, { \"constant\": true, \"inputs\": [], \"name\": \"print_l2\", \"outputs\": [ { \"name\": \"\", \"type\": \"int256\" }, { \"name\": \"\", \"type\": \"int256\" }, { \"name\": \"\", \"type\": \"int256\" }, { \"name\": \"\", \"type\": \"int256\" }, { \"name\": \"\", \"type\": \"int256\" }, { \"name\": \"\", \"type\": \"int256\" }, { \"name\": \"\", \"type\": \"int256\" }, { \"name\": \"\", \"type\": \"int256\" }, { \"name\": \"\", \"type\": \"int256\" }, { \"name\": \"\", \"type\": \"int256\" } ], \"payable\": false, \"stateMutability\": \"view\", \"type\": \"function\" } ]')\n",
    "nn_cont_address = \"0x9bA829Da74F516b757DB33dCfe99A7c34511aA50\"\n",
    "nn_cont = web3.eth.contract(address=nn_cont_address,abi=nn_abi)"
   ]
  },
  {
   "cell_type": "code",
   "execution_count": 10,
   "id": "fb8bc3a2",
   "metadata": {},
   "outputs": [],
   "source": [
    "account1 = \"0x2C0c1D0dA7c537ad49b6AD3cdF0ed6db462446E9\"\n",
    "private_key1=\"d2b80a53fd2b1a30ecbe14517a65c07858679034061f2d0d5f768518ed46a1b6\"\n",
    "account2 = \"0x76b717F8b07365060131752EE08242C268CFd37B\"\n",
    "private_key2=\"a3e852bd651cf3aa5f6d863e0727519140431ae912588b351ab5f7ee02e06cac\""
   ]
  },
  {
   "cell_type": "code",
   "execution_count": 11,
   "id": "35838a0e",
   "metadata": {},
   "outputs": [],
   "source": [
    "def getlayer1(x,w11,w12,w13,w14,b1):\n",
    "    nonce = web3.eth.getTransactionCount(account1)\n",
    "    transaction = nn_cont.functions.multiply_layer1(\n",
    "        x,w11,w12,w13,w14,b1\n",
    "         ).buildTransaction({\n",
    "        'gas': 8000000,\n",
    "        'gasPrice': web3.toWei('1', 'gwei'),\n",
    "        'from': account1,\n",
    "        'nonce': nonce\n",
    "        }) \n",
    "    signed_txn = web3.eth.account.signTransaction(transaction, private_key=private_key1)\n",
    "    tx_hash = web3.eth.sendRawTransaction(signed_txn.rawTransaction)\n",
    "    tx_receipt = web3.eth.waitForTransactionReceipt(tx_hash,timeout=300)\n",
    "    return tx_receipt.gasUsed\n",
    "\n",
    "\n",
    "def getlayer2(l1,w21,w22,w23,w24,w25,w26,w27,w28,w29,w30,b2):\n",
    "    nonce = web3.eth.getTransactionCount(account1)\n",
    "    transaction = nn_cont.functions.multiply_layer2(\n",
    "        l1,w21,w22,w23,w24,w25,w26,w27,w28,w29,w30,b2\n",
    "         ).buildTransaction({\n",
    "        'gas': 6700000,\n",
    "        'gasPrice': web3.toWei('1', 'gwei'),\n",
    "        'from': account1,\n",
    "        'nonce': nonce\n",
    "        }) \n",
    "    signed_txn = web3.eth.account.signTransaction(transaction, private_key=private_key1)\n",
    "    tx_hash = web3.eth.sendRawTransaction(signed_txn.rawTransaction)\n",
    "    tx_receipt = web3.eth.waitForTransactionReceipt(tx_hash,timeout=300)\n",
    "    return tx_receipt.gasUsed\n",
    "\n",
    "\n",
    "def sigfrac(x,y,a,b):\n",
    "    nonce = web3.eth.getTransactionCount(account1)\n",
    "    transaction = sig_cont.functions.sigmoid_act(\n",
    "        x,y,a,b\n",
    "         ).buildTransaction({\n",
    "        'gas': 100000,\n",
    "        'gasPrice': web3.toWei('10', 'gwei'),\n",
    "        'from': account1,\n",
    "        'nonce': nonce\n",
    "        }) \n",
    "    signed_txn = web3.eth.account.signTransaction(transaction, private_key=private_key1)\n",
    "    tx_hash = web3.eth.sendRawTransaction(signed_txn.rawTransaction)\n",
    "    tx_receipt = web3.eth.waitForTransactionReceipt(tx_hash)\n",
    "    return tx_receipt.gasUsed\n",
    "\n",
    "def getexpon(a,b,c,d):\n",
    "    nonce = web3.eth.getTransactionCount(account1)\n",
    "    transaction = soft_cont.functions.getexpon(\n",
    "        a,b,c,d\n",
    "         ).buildTransaction({\n",
    "        'gas': 3000000,\n",
    "        'gasPrice': web3.toWei('10', 'gwei'),\n",
    "        'from': account1,\n",
    "        'nonce': nonce\n",
    "        }) \n",
    "    signed_txn = web3.eth.account.signTransaction(transaction, private_key=private_key1)\n",
    "    tx_hash = web3.eth.sendRawTransaction(signed_txn.rawTransaction)\n",
    "    tx_receipt = web3.eth.waitForTransactionReceipt(tx_hash)\n",
    "    return tx_receipt.gasUsed\n",
    "\n",
    "def getsumexpon():\n",
    "    nonce = web3.eth.getTransactionCount(account1)\n",
    "    transaction = soft_cont.functions.sum_exp(\n",
    "         ).buildTransaction({\n",
    "        'gas': 3000000,\n",
    "        'gasPrice': web3.toWei('1', 'gwei'),\n",
    "        'from': account1,\n",
    "        'nonce': nonce\n",
    "        }) \n",
    "    signed_txn = web3.eth.account.signTransaction(transaction, private_key=private_key1)\n",
    "    tx_hash = web3.eth.sendRawTransaction(signed_txn.rawTransaction)\n",
    "    tx_receipt = web3.eth.waitForTransactionReceipt(tx_hash)\n",
    "    return tx_receipt.gasUsed\n",
    "\n",
    "def getsoftmax():\n",
    "    nonce = web3.eth.getTransactionCount(account1)\n",
    "    transaction = soft_cont.functions.get_softmax(\n",
    "         ).buildTransaction({\n",
    "        'gas': 3000000,\n",
    "        'gasPrice': web3.toWei('10', 'gwei'),\n",
    "        'from': account1,\n",
    "        'nonce': nonce\n",
    "        }) \n",
    "    signed_txn = web3.eth.account.signTransaction(transaction, private_key=private_key1)\n",
    "    tx_hash = web3.eth.sendRawTransaction(signed_txn.rawTransaction)\n",
    "    tx_receipt = web3.eth.waitForTransactionReceipt(tx_hash)\n",
    "    return tx_receipt.gasUsed"
   ]
  },
  {
   "cell_type": "code",
   "execution_count": 12,
   "id": "a9a1cbfc",
   "metadata": {},
   "outputs": [
    {
     "name": "stdout",
     "output_type": "stream",
     "text": [
      "[442848, -313970, -492180, -550151]\n",
      "[-154, 503, 159, 113, -228, -141, -349, 242, -19, -118]\n",
      "value of sigmoid is: 0.0\n"
     ]
    },
    {
     "ename": "BadFunctionCallOutput",
     "evalue": "Could not transact with/call contract function, is contract deployed correctly and chain synced?",
     "output_type": "error",
     "traceback": [
      "\u001b[0;31m---------------------------------------------------------------------------\u001b[0m",
      "\u001b[0;31mInsufficientDataBytes\u001b[0m                     Traceback (most recent call last)",
      "\u001b[0;32m~/anaconda/anaconda3/lib/python3.7/site-packages/web3/contract.py\u001b[0m in \u001b[0;36mcall_contract_function\u001b[0;34m(web3, address, normalizers, function_identifier, transaction, block_id, contract_abi, fn_abi, state_override, *args, **kwargs)\u001b[0m\n\u001b[1;32m   1512\u001b[0m     \u001b[0;32mtry\u001b[0m\u001b[0;34m:\u001b[0m\u001b[0;34m\u001b[0m\u001b[0;34m\u001b[0m\u001b[0m\n\u001b[0;32m-> 1513\u001b[0;31m         \u001b[0moutput_data\u001b[0m \u001b[0;34m=\u001b[0m \u001b[0mweb3\u001b[0m\u001b[0;34m.\u001b[0m\u001b[0mcodec\u001b[0m\u001b[0;34m.\u001b[0m\u001b[0mdecode_abi\u001b[0m\u001b[0;34m(\u001b[0m\u001b[0moutput_types\u001b[0m\u001b[0;34m,\u001b[0m \u001b[0mreturn_data\u001b[0m\u001b[0;34m)\u001b[0m\u001b[0;34m\u001b[0m\u001b[0;34m\u001b[0m\u001b[0m\n\u001b[0m\u001b[1;32m   1514\u001b[0m     \u001b[0;32mexcept\u001b[0m \u001b[0mDecodingError\u001b[0m \u001b[0;32mas\u001b[0m \u001b[0me\u001b[0m\u001b[0;34m:\u001b[0m\u001b[0;34m\u001b[0m\u001b[0;34m\u001b[0m\u001b[0m\n",
      "\u001b[0;32m~/anaconda/anaconda3/lib/python3.7/site-packages/eth_abi/codec.py\u001b[0m in \u001b[0;36mdecode_abi\u001b[0;34m(self, types, data)\u001b[0m\n\u001b[1;32m    180\u001b[0m \u001b[0;34m\u001b[0m\u001b[0m\n\u001b[0;32m--> 181\u001b[0;31m         \u001b[0;32mreturn\u001b[0m \u001b[0mdecoder\u001b[0m\u001b[0;34m(\u001b[0m\u001b[0mstream\u001b[0m\u001b[0;34m)\u001b[0m\u001b[0;34m\u001b[0m\u001b[0;34m\u001b[0m\u001b[0m\n\u001b[0m\u001b[1;32m    182\u001b[0m \u001b[0;34m\u001b[0m\u001b[0m\n",
      "\u001b[0;32m~/anaconda/anaconda3/lib/python3.7/site-packages/eth_abi/decoding.py\u001b[0m in \u001b[0;36m__call__\u001b[0;34m(self, stream)\u001b[0m\n\u001b[1;32m    126\u001b[0m     \u001b[0;32mdef\u001b[0m \u001b[0m__call__\u001b[0m\u001b[0;34m(\u001b[0m\u001b[0mself\u001b[0m\u001b[0;34m,\u001b[0m \u001b[0mstream\u001b[0m\u001b[0;34m:\u001b[0m \u001b[0mContextFramesBytesIO\u001b[0m\u001b[0;34m)\u001b[0m \u001b[0;34m->\u001b[0m \u001b[0mAny\u001b[0m\u001b[0;34m:\u001b[0m\u001b[0;34m\u001b[0m\u001b[0;34m\u001b[0m\u001b[0m\n\u001b[0;32m--> 127\u001b[0;31m         \u001b[0;32mreturn\u001b[0m \u001b[0mself\u001b[0m\u001b[0;34m.\u001b[0m\u001b[0mdecode\u001b[0m\u001b[0;34m(\u001b[0m\u001b[0mstream\u001b[0m\u001b[0;34m)\u001b[0m\u001b[0;34m\u001b[0m\u001b[0;34m\u001b[0m\u001b[0m\n\u001b[0m\u001b[1;32m    128\u001b[0m \u001b[0;34m\u001b[0m\u001b[0m\n",
      "\u001b[0;32m~/anaconda/anaconda3/lib/python3.7/site-packages/eth_utils/functional.py\u001b[0m in \u001b[0;36minner\u001b[0;34m(*args, **kwargs)\u001b[0m\n\u001b[1;32m     44\u001b[0m         \u001b[0;32mdef\u001b[0m \u001b[0minner\u001b[0m\u001b[0;34m(\u001b[0m\u001b[0;34m*\u001b[0m\u001b[0margs\u001b[0m\u001b[0;34m,\u001b[0m \u001b[0;34m**\u001b[0m\u001b[0mkwargs\u001b[0m\u001b[0;34m)\u001b[0m \u001b[0;34m->\u001b[0m \u001b[0mT\u001b[0m\u001b[0;34m:\u001b[0m  \u001b[0;31m# type: ignore\u001b[0m\u001b[0;34m\u001b[0m\u001b[0;34m\u001b[0m\u001b[0m\n\u001b[0;32m---> 45\u001b[0;31m             \u001b[0;32mreturn\u001b[0m \u001b[0mcallback\u001b[0m\u001b[0;34m(\u001b[0m\u001b[0mfn\u001b[0m\u001b[0;34m(\u001b[0m\u001b[0;34m*\u001b[0m\u001b[0margs\u001b[0m\u001b[0;34m,\u001b[0m \u001b[0;34m**\u001b[0m\u001b[0mkwargs\u001b[0m\u001b[0;34m)\u001b[0m\u001b[0;34m)\u001b[0m\u001b[0;34m\u001b[0m\u001b[0;34m\u001b[0m\u001b[0m\n\u001b[0m\u001b[1;32m     46\u001b[0m \u001b[0;34m\u001b[0m\u001b[0m\n",
      "\u001b[0;32m~/anaconda/anaconda3/lib/python3.7/site-packages/eth_abi/decoding.py\u001b[0m in \u001b[0;36mdecode\u001b[0;34m(self, stream)\u001b[0m\n\u001b[1;32m    172\u001b[0m         \u001b[0;32mfor\u001b[0m \u001b[0mdecoder\u001b[0m \u001b[0;32min\u001b[0m \u001b[0mself\u001b[0m\u001b[0;34m.\u001b[0m\u001b[0mdecoders\u001b[0m\u001b[0;34m:\u001b[0m\u001b[0;34m\u001b[0m\u001b[0;34m\u001b[0m\u001b[0m\n\u001b[0;32m--> 173\u001b[0;31m             \u001b[0;32myield\u001b[0m \u001b[0mdecoder\u001b[0m\u001b[0;34m(\u001b[0m\u001b[0mstream\u001b[0m\u001b[0;34m)\u001b[0m\u001b[0;34m\u001b[0m\u001b[0;34m\u001b[0m\u001b[0m\n\u001b[0m\u001b[1;32m    174\u001b[0m \u001b[0;34m\u001b[0m\u001b[0m\n",
      "\u001b[0;32m~/anaconda/anaconda3/lib/python3.7/site-packages/eth_abi/decoding.py\u001b[0m in \u001b[0;36m__call__\u001b[0;34m(self, stream)\u001b[0m\n\u001b[1;32m    126\u001b[0m     \u001b[0;32mdef\u001b[0m \u001b[0m__call__\u001b[0m\u001b[0;34m(\u001b[0m\u001b[0mself\u001b[0m\u001b[0;34m,\u001b[0m \u001b[0mstream\u001b[0m\u001b[0;34m:\u001b[0m \u001b[0mContextFramesBytesIO\u001b[0m\u001b[0;34m)\u001b[0m \u001b[0;34m->\u001b[0m \u001b[0mAny\u001b[0m\u001b[0;34m:\u001b[0m\u001b[0;34m\u001b[0m\u001b[0;34m\u001b[0m\u001b[0m\n\u001b[0;32m--> 127\u001b[0;31m         \u001b[0;32mreturn\u001b[0m \u001b[0mself\u001b[0m\u001b[0;34m.\u001b[0m\u001b[0mdecode\u001b[0m\u001b[0;34m(\u001b[0m\u001b[0mstream\u001b[0m\u001b[0;34m)\u001b[0m\u001b[0;34m\u001b[0m\u001b[0;34m\u001b[0m\u001b[0m\n\u001b[0m\u001b[1;32m    128\u001b[0m \u001b[0;34m\u001b[0m\u001b[0m\n",
      "\u001b[0;32m~/anaconda/anaconda3/lib/python3.7/site-packages/eth_abi/decoding.py\u001b[0m in \u001b[0;36mdecode\u001b[0;34m(self, stream)\u001b[0m\n\u001b[1;32m    141\u001b[0m     \u001b[0;32mdef\u001b[0m \u001b[0mdecode\u001b[0m\u001b[0;34m(\u001b[0m\u001b[0mself\u001b[0m\u001b[0;34m,\u001b[0m \u001b[0mstream\u001b[0m\u001b[0;34m)\u001b[0m\u001b[0;34m:\u001b[0m\u001b[0;34m\u001b[0m\u001b[0;34m\u001b[0m\u001b[0m\n\u001b[0;32m--> 142\u001b[0;31m         \u001b[0mstart_pos\u001b[0m \u001b[0;34m=\u001b[0m \u001b[0mdecode_uint_256\u001b[0m\u001b[0;34m(\u001b[0m\u001b[0mstream\u001b[0m\u001b[0;34m)\u001b[0m\u001b[0;34m\u001b[0m\u001b[0;34m\u001b[0m\u001b[0m\n\u001b[0m\u001b[1;32m    143\u001b[0m \u001b[0;34m\u001b[0m\u001b[0m\n",
      "\u001b[0;32m~/anaconda/anaconda3/lib/python3.7/site-packages/eth_abi/decoding.py\u001b[0m in \u001b[0;36m__call__\u001b[0;34m(self, stream)\u001b[0m\n\u001b[1;32m    126\u001b[0m     \u001b[0;32mdef\u001b[0m \u001b[0m__call__\u001b[0m\u001b[0;34m(\u001b[0m\u001b[0mself\u001b[0m\u001b[0;34m,\u001b[0m \u001b[0mstream\u001b[0m\u001b[0;34m:\u001b[0m \u001b[0mContextFramesBytesIO\u001b[0m\u001b[0;34m)\u001b[0m \u001b[0;34m->\u001b[0m \u001b[0mAny\u001b[0m\u001b[0;34m:\u001b[0m\u001b[0;34m\u001b[0m\u001b[0;34m\u001b[0m\u001b[0m\n\u001b[0;32m--> 127\u001b[0;31m         \u001b[0;32mreturn\u001b[0m \u001b[0mself\u001b[0m\u001b[0;34m.\u001b[0m\u001b[0mdecode\u001b[0m\u001b[0;34m(\u001b[0m\u001b[0mstream\u001b[0m\u001b[0;34m)\u001b[0m\u001b[0;34m\u001b[0m\u001b[0;34m\u001b[0m\u001b[0m\n\u001b[0m\u001b[1;32m    128\u001b[0m \u001b[0;34m\u001b[0m\u001b[0m\n",
      "\u001b[0;32m~/anaconda/anaconda3/lib/python3.7/site-packages/eth_abi/decoding.py\u001b[0m in \u001b[0;36mdecode\u001b[0;34m(self, stream)\u001b[0m\n\u001b[1;32m    197\u001b[0m     \u001b[0;32mdef\u001b[0m \u001b[0mdecode\u001b[0m\u001b[0;34m(\u001b[0m\u001b[0mself\u001b[0m\u001b[0;34m,\u001b[0m \u001b[0mstream\u001b[0m\u001b[0;34m)\u001b[0m\u001b[0;34m:\u001b[0m\u001b[0;34m\u001b[0m\u001b[0;34m\u001b[0m\u001b[0m\n\u001b[0;32m--> 198\u001b[0;31m         \u001b[0mraw_data\u001b[0m \u001b[0;34m=\u001b[0m \u001b[0mself\u001b[0m\u001b[0;34m.\u001b[0m\u001b[0mread_data_from_stream\u001b[0m\u001b[0;34m(\u001b[0m\u001b[0mstream\u001b[0m\u001b[0;34m)\u001b[0m\u001b[0;34m\u001b[0m\u001b[0;34m\u001b[0m\u001b[0m\n\u001b[0m\u001b[1;32m    199\u001b[0m         \u001b[0mdata\u001b[0m\u001b[0;34m,\u001b[0m \u001b[0mpadding_bytes\u001b[0m \u001b[0;34m=\u001b[0m \u001b[0mself\u001b[0m\u001b[0;34m.\u001b[0m\u001b[0msplit_data_and_padding\u001b[0m\u001b[0;34m(\u001b[0m\u001b[0mraw_data\u001b[0m\u001b[0;34m)\u001b[0m\u001b[0;34m\u001b[0m\u001b[0;34m\u001b[0m\u001b[0m\n",
      "\u001b[0;32m~/anaconda/anaconda3/lib/python3.7/site-packages/eth_abi/decoding.py\u001b[0m in \u001b[0;36mread_data_from_stream\u001b[0;34m(self, stream)\u001b[0m\n\u001b[1;32m    307\u001b[0m                     \u001b[0mself\u001b[0m\u001b[0;34m.\u001b[0m\u001b[0mdata_byte_size\u001b[0m\u001b[0;34m,\u001b[0m\u001b[0;34m\u001b[0m\u001b[0;34m\u001b[0m\u001b[0m\n\u001b[0;32m--> 308\u001b[0;31m                     \u001b[0mlen\u001b[0m\u001b[0;34m(\u001b[0m\u001b[0mdata\u001b[0m\u001b[0;34m)\u001b[0m\u001b[0;34m,\u001b[0m\u001b[0;34m\u001b[0m\u001b[0;34m\u001b[0m\u001b[0m\n\u001b[0m\u001b[1;32m    309\u001b[0m                 )\n",
      "\u001b[0;31mInsufficientDataBytes\u001b[0m: Tried to read 32 bytes.  Only got 0 bytes",
      "\nThe above exception was the direct cause of the following exception:\n",
      "\u001b[0;31mBadFunctionCallOutput\u001b[0m                     Traceback (most recent call last)",
      "\u001b[0;32m/var/folders/9j/xg5sl5n57fs3q8d3c9svsb1r0000gq/T/ipykernel_6003/2314841075.py\u001b[0m in \u001b[0;36m<module>\u001b[0;34m\u001b[0m\n\u001b[1;32m      3\u001b[0m \u001b[0mn\u001b[0m\u001b[0;34m,\u001b[0m \u001b[0md\u001b[0m \u001b[0;34m=\u001b[0m \u001b[0msig_cont\u001b[0m\u001b[0;34m.\u001b[0m\u001b[0mfunctions\u001b[0m\u001b[0;34m.\u001b[0m\u001b[0msigprint\u001b[0m\u001b[0;34m(\u001b[0m\u001b[0;34m)\u001b[0m\u001b[0;34m.\u001b[0m\u001b[0mcall\u001b[0m\u001b[0;34m(\u001b[0m\u001b[0;34m)\u001b[0m\u001b[0;34m\u001b[0m\u001b[0;34m\u001b[0m\u001b[0m\n\u001b[1;32m      4\u001b[0m \u001b[0mprint\u001b[0m\u001b[0;34m(\u001b[0m\u001b[0;34m\"value of sigmoid is:\"\u001b[0m\u001b[0;34m,\u001b[0m \u001b[0mn\u001b[0m\u001b[0;34m/\u001b[0m\u001b[0md\u001b[0m\u001b[0;34m)\u001b[0m\u001b[0;34m\u001b[0m\u001b[0;34m\u001b[0m\u001b[0m\n\u001b[0;32m----> 5\u001b[0;31m \u001b[0mprint\u001b[0m\u001b[0;34m(\u001b[0m\u001b[0msoft_cont\u001b[0m\u001b[0;34m.\u001b[0m\u001b[0mfunctions\u001b[0m\u001b[0;34m.\u001b[0m\u001b[0mset_softmax\u001b[0m\u001b[0;34m(\u001b[0m\u001b[0;34m)\u001b[0m\u001b[0;34m.\u001b[0m\u001b[0mcall\u001b[0m\u001b[0;34m(\u001b[0m\u001b[0;34m)\u001b[0m\u001b[0;34m)\u001b[0m\u001b[0;34m\u001b[0m\u001b[0;34m\u001b[0m\u001b[0m\n\u001b[0m",
      "\u001b[0;32m~/anaconda/anaconda3/lib/python3.7/site-packages/web3/contract.py\u001b[0m in \u001b[0;36mcall\u001b[0;34m(self, transaction, block_identifier, state_override)\u001b[0m\n\u001b[1;32m    966\u001b[0m             \u001b[0mstate_override\u001b[0m\u001b[0;34m,\u001b[0m\u001b[0;34m\u001b[0m\u001b[0;34m\u001b[0m\u001b[0m\n\u001b[1;32m    967\u001b[0m             \u001b[0;34m*\u001b[0m\u001b[0mself\u001b[0m\u001b[0;34m.\u001b[0m\u001b[0margs\u001b[0m\u001b[0;34m,\u001b[0m\u001b[0;34m\u001b[0m\u001b[0;34m\u001b[0m\u001b[0m\n\u001b[0;32m--> 968\u001b[0;31m             \u001b[0;34m**\u001b[0m\u001b[0mself\u001b[0m\u001b[0;34m.\u001b[0m\u001b[0mkwargs\u001b[0m\u001b[0;34m\u001b[0m\u001b[0;34m\u001b[0m\u001b[0m\n\u001b[0m\u001b[1;32m    969\u001b[0m         )\n\u001b[1;32m    970\u001b[0m \u001b[0;34m\u001b[0m\u001b[0m\n",
      "\u001b[0;32m~/anaconda/anaconda3/lib/python3.7/site-packages/web3/contract.py\u001b[0m in \u001b[0;36mcall_contract_function\u001b[0;34m(web3, address, normalizers, function_identifier, transaction, block_id, contract_abi, fn_abi, state_override, *args, **kwargs)\u001b[0m\n\u001b[1;32m   1528\u001b[0m                 \u001b[0;34mf\"return data: {str(return_data)}, output_types: {output_types}\"\u001b[0m\u001b[0;34m\u001b[0m\u001b[0;34m\u001b[0m\u001b[0m\n\u001b[1;32m   1529\u001b[0m             )\n\u001b[0;32m-> 1530\u001b[0;31m         \u001b[0;32mraise\u001b[0m \u001b[0mBadFunctionCallOutput\u001b[0m\u001b[0;34m(\u001b[0m\u001b[0mmsg\u001b[0m\u001b[0;34m)\u001b[0m \u001b[0;32mfrom\u001b[0m \u001b[0me\u001b[0m\u001b[0;34m\u001b[0m\u001b[0;34m\u001b[0m\u001b[0m\n\u001b[0m\u001b[1;32m   1531\u001b[0m \u001b[0;34m\u001b[0m\u001b[0m\n\u001b[1;32m   1532\u001b[0m     _normalizers = itertools.chain(\n",
      "\u001b[0;31mBadFunctionCallOutput\u001b[0m: Could not transact with/call contract function, is contract deployed correctly and chain synced?"
     ]
    }
   ],
   "source": [
    "print(nn_cont.functions.print_l1().call())\n",
    "print(nn_cont.functions.print_l2().call())\n",
    "n, d = sig_cont.functions.sigprint().call()\n",
    "print(\"value of sigmoid is:\", n/d)\n",
    "print(soft_cont.functions.set_softmax().call())"
   ]
  },
  {
   "cell_type": "code",
   "execution_count": 13,
   "id": "administrative-appreciation",
   "metadata": {},
   "outputs": [],
   "source": [
    "\n",
    "(x_train, y_train), (x_test, y_test) = mnist.load_data()"
   ]
  },
  {
   "cell_type": "code",
   "execution_count": 14,
   "id": "pacific-floor",
   "metadata": {},
   "outputs": [
    {
     "name": "stdout",
     "output_type": "stream",
     "text": [
      "Training data shape:  (60000, 28, 28)\n",
      "Test data shape (10000, 28, 28)\n"
     ]
    }
   ],
   "source": [
    "\n",
    "from keras.datasets import mnist\n",
    "\n",
    "# Setup train and test splits\n",
    "(x_train, y_train), (x_test, y_test) = mnist.load_data()\n",
    "print(\"Training data shape: \", x_train.shape) # (60000, 28, 28) -- 60000 images, each 28x28 pixels\n",
    "print(\"Test data shape\", x_test.shape) # (10000, 28, 28) -- 10000 images, each 28x28\n",
    "\n",
    "# Flatten the images\n",
    "image_vector_size = 28*28\n",
    "x_train = x_train.reshape(x_train.shape[0], image_vector_size)\n",
    "x_test = x_test.reshape(x_test.shape[0], image_vector_size)\n",
    "y_orig_test = y_test"
   ]
  },
  {
   "cell_type": "code",
   "execution_count": null,
   "id": "laughing-violin",
   "metadata": {},
   "outputs": [],
   "source": []
  },
  {
   "cell_type": "code",
   "execution_count": 15,
   "id": "overhead-collectible",
   "metadata": {},
   "outputs": [
    {
     "name": "stdout",
     "output_type": "stream",
     "text": [
      "First 5 training lables as one-hot encoded vectors:\n",
      " [[0. 0. 0. 0. 0. 1. 0. 0. 0. 0.]\n",
      " [1. 0. 0. 0. 0. 0. 0. 0. 0. 0.]\n",
      " [0. 0. 0. 0. 1. 0. 0. 0. 0. 0.]\n",
      " [0. 1. 0. 0. 0. 0. 0. 0. 0. 0.]\n",
      " [0. 0. 0. 0. 0. 0. 0. 0. 0. 1.]]\n"
     ]
    },
    {
     "data": {
      "text/plain": [
       "'\\n[[0, 0, 0, 0, 0, 1, 0, 0, 0, 0]\\n [1, 0, 0, 0, 0, 0, 0, 0, 0, 0]\\n [0, 0, 0, 0, 1, 0, 0, 0, 0, 0]\\n [0, 1, 0, 0, 0, 0, 0, 0, 0, 0]\\n [0, 0, 0, 0, 0, 0, 0, 0, 0, 1]]\\n'"
      ]
     },
     "execution_count": 15,
     "metadata": {},
     "output_type": "execute_result"
    }
   ],
   "source": [
    "from tensorflow import keras\n",
    "from keras.datasets import mnist\n",
    "from keras import utils as np_utils\n",
    "\n",
    "# Setup train and test splits\n",
    "# (x_train, y_train), (x_test, y_test) = mnist.load_data()\n",
    "# print(\"Training label shape: \", y_train.shape) # (60000,) -- 60000 numbers (all 0-9)\n",
    "# print(\"First 5 training labels: \", y_train[:5]) # [5, 0, 4, 1, 9]\n",
    "\n",
    "# Convert to \"one-hot\" vectors using the to_categorical function\n",
    "num_classes = 10\n",
    "y_train = keras.utils.to_categorical(y_train, num_classes)\n",
    "y_test = keras.utils.to_categorical(y_test, num_classes)\n",
    "print(\"First 5 training lables as one-hot encoded vectors:\\n\", y_train[:5])\n",
    "\n",
    "# This is the one-hot version of: [5, 0, 4, 1, 9]\n",
    "\"\"\"\n",
    "[[0, 0, 0, 0, 0, 1, 0, 0, 0, 0]\n",
    " [1, 0, 0, 0, 0, 0, 0, 0, 0, 0]\n",
    " [0, 0, 0, 0, 1, 0, 0, 0, 0, 0]\n",
    " [0, 1, 0, 0, 0, 0, 0, 0, 0, 0]\n",
    " [0, 0, 0, 0, 0, 0, 0, 0, 0, 1]]\n",
    "\"\"\""
   ]
  },
  {
   "cell_type": "code",
   "execution_count": 16,
   "id": "applicable-influence",
   "metadata": {},
   "outputs": [
    {
     "name": "stdout",
     "output_type": "stream",
     "text": [
      "Model: \"sequential\"\n",
      "_________________________________________________________________\n",
      " Layer (type)                Output Shape              Param #   \n",
      "=================================================================\n",
      " dense (Dense)               (None, 4)                 3140      \n",
      "                                                                 \n",
      " dense_1 (Dense)             (None, 10)                50        \n",
      "                                                                 \n",
      "=================================================================\n",
      "Total params: 3,190\n",
      "Trainable params: 3,190\n",
      "Non-trainable params: 0\n",
      "_________________________________________________________________\n"
     ]
    },
    {
     "name": "stderr",
     "output_type": "stream",
     "text": [
      "2022-03-20 20:04:11.803332: I tensorflow/core/platform/cpu_feature_guard.cc:151] This TensorFlow binary is optimized with oneAPI Deep Neural Network Library (oneDNN) to use the following CPU instructions in performance-critical operations:  AVX2 FMA\n",
      "To enable them in other operations, rebuild TensorFlow with the appropriate compiler flags.\n"
     ]
    }
   ],
   "source": [
    "import matplotlib.pyplot as plt \n",
    "from keras.layers import Dense # Dense layers are \"fully connected\" layers\n",
    "from keras.models import Sequential # Documentation: https://keras.io/models/sequential/\n",
    "\n",
    "image_size = 784 # 28*28\n",
    "num_classes = 10 # ten unique digits\n",
    "\n",
    "model = Sequential()\n",
    "\n",
    "# The input layer requires the special input_shape parameter which should match\n",
    "# the shape of our training data.\n",
    "model.add(Dense(units=4, activation='sigmoid', input_shape=(image_size,)))\n",
    "model.add(Dense(units=num_classes, activation='softmax'))\n",
    "model.summary()"
   ]
  },
  {
   "cell_type": "code",
   "execution_count": 17,
   "id": "forbidden-interpretation",
   "metadata": {},
   "outputs": [
    {
     "name": "stdout",
     "output_type": "stream",
     "text": [
      "Epoch 1/100\n",
      "422/422 [==============================] - 1s 2ms/step - loss: 2.1193 - acc: 0.2735 - val_loss: 2.0400 - val_acc: 0.4003\n",
      "Epoch 2/100\n",
      "422/422 [==============================] - 1s 2ms/step - loss: 1.9944 - acc: 0.4101 - val_loss: 1.9263 - val_acc: 0.4445\n",
      "Epoch 3/100\n",
      "422/422 [==============================] - 1s 2ms/step - loss: 1.9073 - acc: 0.4306 - val_loss: 1.8612 - val_acc: 0.4895\n",
      "Epoch 4/100\n",
      "422/422 [==============================] - 1s 2ms/step - loss: 1.8288 - acc: 0.4929 - val_loss: 1.7830 - val_acc: 0.5117\n",
      "Epoch 5/100\n",
      "422/422 [==============================] - 1s 2ms/step - loss: 1.7640 - acc: 0.5005 - val_loss: 1.7328 - val_acc: 0.4885\n",
      "Epoch 6/100\n",
      "422/422 [==============================] - 1s 2ms/step - loss: 1.7060 - acc: 0.5042 - val_loss: 1.6784 - val_acc: 0.5222\n",
      "Epoch 7/100\n",
      "422/422 [==============================] - 1s 2ms/step - loss: 1.6559 - acc: 0.5134 - val_loss: 1.6185 - val_acc: 0.5145\n",
      "Epoch 8/100\n",
      "422/422 [==============================] - 1s 2ms/step - loss: 1.6173 - acc: 0.5103 - val_loss: 1.5765 - val_acc: 0.5237\n",
      "Epoch 9/100\n",
      "422/422 [==============================] - 1s 2ms/step - loss: 1.5797 - acc: 0.5101 - val_loss: 1.5214 - val_acc: 0.5410\n",
      "Epoch 10/100\n",
      "422/422 [==============================] - 1s 2ms/step - loss: 1.5485 - acc: 0.5137 - val_loss: 1.5177 - val_acc: 0.5353\n",
      "Epoch 11/100\n",
      "422/422 [==============================] - 1s 2ms/step - loss: 1.5234 - acc: 0.5150 - val_loss: 1.4773 - val_acc: 0.5448\n",
      "Epoch 12/100\n",
      "422/422 [==============================] - 1s 2ms/step - loss: 1.4954 - acc: 0.5177 - val_loss: 1.4474 - val_acc: 0.5313\n",
      "Epoch 13/100\n",
      "422/422 [==============================] - 1s 2ms/step - loss: 1.4713 - acc: 0.5198 - val_loss: 1.4206 - val_acc: 0.5458\n",
      "Epoch 14/100\n",
      "422/422 [==============================] - 1s 2ms/step - loss: 1.4523 - acc: 0.5229 - val_loss: 1.4064 - val_acc: 0.5385\n",
      "Epoch 15/100\n",
      "422/422 [==============================] - 1s 2ms/step - loss: 1.4377 - acc: 0.5188 - val_loss: 1.3911 - val_acc: 0.5392\n",
      "Epoch 16/100\n",
      "422/422 [==============================] - 1s 2ms/step - loss: 1.4210 - acc: 0.5194 - val_loss: 1.3880 - val_acc: 0.5412\n",
      "Epoch 17/100\n",
      "422/422 [==============================] - 1s 2ms/step - loss: 1.4026 - acc: 0.5184 - val_loss: 1.3532 - val_acc: 0.5353\n",
      "Epoch 18/100\n",
      "422/422 [==============================] - 1s 2ms/step - loss: 1.3880 - acc: 0.5174 - val_loss: 1.3408 - val_acc: 0.5363\n",
      "Epoch 19/100\n",
      "422/422 [==============================] - 1s 2ms/step - loss: 1.3778 - acc: 0.5178 - val_loss: 1.3378 - val_acc: 0.5323\n",
      "Epoch 20/100\n",
      "422/422 [==============================] - 1s 2ms/step - loss: 1.3633 - acc: 0.5135 - val_loss: 1.3181 - val_acc: 0.5200\n",
      "Epoch 21/100\n",
      "422/422 [==============================] - 1s 3ms/step - loss: 1.3442 - acc: 0.5208 - val_loss: 1.2932 - val_acc: 0.5393\n",
      "Epoch 22/100\n",
      "422/422 [==============================] - 1s 3ms/step - loss: 1.3348 - acc: 0.5389 - val_loss: 1.3273 - val_acc: 0.5573\n",
      "Epoch 23/100\n",
      "422/422 [==============================] - 1s 3ms/step - loss: 1.3237 - acc: 0.5570 - val_loss: 1.3006 - val_acc: 0.5530\n",
      "Epoch 24/100\n",
      "422/422 [==============================] - 1s 2ms/step - loss: 1.3220 - acc: 0.5513 - val_loss: 1.2780 - val_acc: 0.5707\n",
      "Epoch 25/100\n",
      "422/422 [==============================] - 1s 3ms/step - loss: 1.3128 - acc: 0.5449 - val_loss: 1.3008 - val_acc: 0.5393\n",
      "Epoch 26/100\n",
      "422/422 [==============================] - 1s 3ms/step - loss: 1.2967 - acc: 0.5536 - val_loss: 1.2589 - val_acc: 0.5763\n",
      "Epoch 27/100\n",
      "422/422 [==============================] - 1s 2ms/step - loss: 1.2959 - acc: 0.5555 - val_loss: 1.2780 - val_acc: 0.5595\n",
      "Epoch 28/100\n",
      "422/422 [==============================] - 1s 3ms/step - loss: 1.2897 - acc: 0.5599 - val_loss: 1.2266 - val_acc: 0.5927\n",
      "Epoch 29/100\n",
      "422/422 [==============================] - 1s 3ms/step - loss: 1.2770 - acc: 0.5668 - val_loss: 1.2297 - val_acc: 0.5832\n",
      "Epoch 30/100\n",
      "422/422 [==============================] - 1s 2ms/step - loss: 1.2632 - acc: 0.5660 - val_loss: 1.2514 - val_acc: 0.5707\n",
      "Epoch 31/100\n",
      "422/422 [==============================] - 1s 2ms/step - loss: 1.2597 - acc: 0.5660 - val_loss: 1.1987 - val_acc: 0.5958\n",
      "Epoch 32/100\n",
      "422/422 [==============================] - 1s 2ms/step - loss: 1.2624 - acc: 0.5618 - val_loss: 1.2186 - val_acc: 0.5898\n",
      "Epoch 33/100\n",
      "422/422 [==============================] - 1s 2ms/step - loss: 1.2567 - acc: 0.5604 - val_loss: 1.2019 - val_acc: 0.5855\n",
      "Epoch 34/100\n",
      "422/422 [==============================] - 1s 2ms/step - loss: 1.2437 - acc: 0.5690 - val_loss: 1.2009 - val_acc: 0.5863\n",
      "Epoch 35/100\n",
      "422/422 [==============================] - 1s 2ms/step - loss: 1.2547 - acc: 0.5643 - val_loss: 1.2035 - val_acc: 0.5783\n",
      "Epoch 36/100\n",
      "422/422 [==============================] - 1s 2ms/step - loss: 1.2463 - acc: 0.5619 - val_loss: 1.1846 - val_acc: 0.5870\n",
      "Epoch 37/100\n",
      "422/422 [==============================] - 1s 2ms/step - loss: 1.2339 - acc: 0.5684 - val_loss: 1.2010 - val_acc: 0.5852\n",
      "Epoch 38/100\n",
      "422/422 [==============================] - 1s 2ms/step - loss: 1.2232 - acc: 0.5669 - val_loss: 1.1749 - val_acc: 0.5850\n",
      "Epoch 39/100\n",
      "422/422 [==============================] - 1s 2ms/step - loss: 1.2139 - acc: 0.5745 - val_loss: 1.1716 - val_acc: 0.5932\n",
      "Epoch 40/100\n",
      "422/422 [==============================] - 1s 2ms/step - loss: 1.2316 - acc: 0.5679 - val_loss: 1.1902 - val_acc: 0.5817\n",
      "Epoch 41/100\n",
      "422/422 [==============================] - 1s 2ms/step - loss: 1.2194 - acc: 0.5678 - val_loss: 1.2148 - val_acc: 0.5677\n",
      "Epoch 42/100\n",
      "422/422 [==============================] - 1s 2ms/step - loss: 1.2196 - acc: 0.5647 - val_loss: 1.1604 - val_acc: 0.5910\n",
      "Epoch 43/100\n",
      "422/422 [==============================] - 1s 2ms/step - loss: 1.2198 - acc: 0.5645 - val_loss: 1.1737 - val_acc: 0.5843\n",
      "Epoch 44/100\n",
      "422/422 [==============================] - 1s 2ms/step - loss: 1.2053 - acc: 0.5716 - val_loss: 1.1928 - val_acc: 0.5700\n",
      "Epoch 45/100\n",
      "422/422 [==============================] - 1s 2ms/step - loss: 1.2113 - acc: 0.5656 - val_loss: 1.1485 - val_acc: 0.5898\n",
      "Epoch 46/100\n",
      "422/422 [==============================] - 1s 2ms/step - loss: 1.1977 - acc: 0.5731 - val_loss: 1.1614 - val_acc: 0.5927\n",
      "Epoch 47/100\n",
      "422/422 [==============================] - 1s 2ms/step - loss: 1.1868 - acc: 0.5769 - val_loss: 1.1325 - val_acc: 0.5978\n",
      "Epoch 48/100\n",
      "422/422 [==============================] - 1s 2ms/step - loss: 1.1783 - acc: 0.5894 - val_loss: 1.1471 - val_acc: 0.6143\n",
      "Epoch 49/100\n",
      "422/422 [==============================] - 1s 2ms/step - loss: 1.1654 - acc: 0.6284 - val_loss: 1.1161 - val_acc: 0.6520\n",
      "Epoch 50/100\n",
      "422/422 [==============================] - 1s 2ms/step - loss: 1.1431 - acc: 0.6430 - val_loss: 1.0886 - val_acc: 0.6678\n",
      "Epoch 51/100\n",
      "422/422 [==============================] - 1s 2ms/step - loss: 1.1331 - acc: 0.6482 - val_loss: 1.1081 - val_acc: 0.6588\n",
      "Epoch 52/100\n",
      "422/422 [==============================] - 1s 2ms/step - loss: 1.1044 - acc: 0.6698 - val_loss: 1.0513 - val_acc: 0.7062\n",
      "Epoch 53/100\n",
      "422/422 [==============================] - 1s 2ms/step - loss: 1.0896 - acc: 0.6862 - val_loss: 1.0355 - val_acc: 0.7165\n",
      "Epoch 54/100\n",
      "422/422 [==============================] - 1s 2ms/step - loss: 1.0797 - acc: 0.6942 - val_loss: 1.0437 - val_acc: 0.7162\n",
      "Epoch 55/100\n",
      "422/422 [==============================] - 1s 2ms/step - loss: 1.0655 - acc: 0.6859 - val_loss: 1.0223 - val_acc: 0.7022\n",
      "Epoch 56/100\n",
      "422/422 [==============================] - 1s 2ms/step - loss: 1.0443 - acc: 0.6971 - val_loss: 0.9967 - val_acc: 0.7290\n",
      "Epoch 57/100\n",
      "422/422 [==============================] - 1s 2ms/step - loss: 1.0366 - acc: 0.6973 - val_loss: 1.0157 - val_acc: 0.7040\n",
      "Epoch 58/100\n",
      "422/422 [==============================] - 1s 2ms/step - loss: 1.0241 - acc: 0.6987 - val_loss: 0.9958 - val_acc: 0.7092\n",
      "Epoch 59/100\n",
      "422/422 [==============================] - 1s 2ms/step - loss: 1.0092 - acc: 0.7085 - val_loss: 0.9496 - val_acc: 0.7348\n",
      "Epoch 60/100\n",
      "422/422 [==============================] - 1s 2ms/step - loss: 1.0179 - acc: 0.7028 - val_loss: 0.9623 - val_acc: 0.7357\n",
      "Epoch 61/100\n",
      "422/422 [==============================] - 1s 2ms/step - loss: 1.0077 - acc: 0.7081 - val_loss: 0.9507 - val_acc: 0.7275\n",
      "Epoch 62/100\n",
      "422/422 [==============================] - 1s 2ms/step - loss: 0.9989 - acc: 0.7036 - val_loss: 0.9540 - val_acc: 0.7238\n",
      "Epoch 63/100\n",
      "422/422 [==============================] - 1s 2ms/step - loss: 1.0036 - acc: 0.6966 - val_loss: 0.9412 - val_acc: 0.7280\n",
      "Epoch 64/100\n",
      "422/422 [==============================] - 1s 2ms/step - loss: 0.9859 - acc: 0.7032 - val_loss: 0.9216 - val_acc: 0.7335\n",
      "Epoch 65/100\n",
      "422/422 [==============================] - 1s 2ms/step - loss: 0.9760 - acc: 0.7085 - val_loss: 0.9284 - val_acc: 0.7357\n",
      "Epoch 66/100\n",
      "422/422 [==============================] - 1s 2ms/step - loss: 0.9830 - acc: 0.6998 - val_loss: 0.9064 - val_acc: 0.7385\n",
      "Epoch 67/100\n",
      "422/422 [==============================] - 1s 2ms/step - loss: 0.9662 - acc: 0.7087 - val_loss: 0.8995 - val_acc: 0.7473\n",
      "Epoch 68/100\n",
      "422/422 [==============================] - 1s 2ms/step - loss: 0.9577 - acc: 0.7143 - val_loss: 0.9026 - val_acc: 0.7408\n",
      "Epoch 69/100\n",
      "422/422 [==============================] - 1s 2ms/step - loss: 0.9542 - acc: 0.7148 - val_loss: 0.9272 - val_acc: 0.7365\n",
      "Epoch 70/100\n",
      "422/422 [==============================] - 1s 2ms/step - loss: 0.9517 - acc: 0.7129 - val_loss: 0.9067 - val_acc: 0.7393\n",
      "Epoch 71/100\n",
      "422/422 [==============================] - 1s 2ms/step - loss: 0.9484 - acc: 0.7064 - val_loss: 0.8816 - val_acc: 0.7400\n",
      "Epoch 72/100\n",
      "422/422 [==============================] - 1s 2ms/step - loss: 0.9397 - acc: 0.7123 - val_loss: 0.9592 - val_acc: 0.7128\n",
      "Epoch 73/100\n",
      "422/422 [==============================] - 1s 2ms/step - loss: 0.9462 - acc: 0.7162 - val_loss: 0.8955 - val_acc: 0.7520\n",
      "Epoch 74/100\n",
      "422/422 [==============================] - 1s 2ms/step - loss: 0.9316 - acc: 0.7308 - val_loss: 0.8935 - val_acc: 0.7513\n",
      "Epoch 75/100\n",
      "422/422 [==============================] - 1s 2ms/step - loss: 0.9347 - acc: 0.7272 - val_loss: 0.8854 - val_acc: 0.7490\n",
      "Epoch 76/100\n",
      "422/422 [==============================] - 1s 2ms/step - loss: 0.9243 - acc: 0.7284 - val_loss: 0.8463 - val_acc: 0.7660\n",
      "Epoch 77/100\n",
      "422/422 [==============================] - 1s 2ms/step - loss: 0.9214 - acc: 0.7313 - val_loss: 0.8716 - val_acc: 0.7565\n",
      "Epoch 78/100\n",
      "422/422 [==============================] - 1s 2ms/step - loss: 0.9378 - acc: 0.7233 - val_loss: 0.8670 - val_acc: 0.7605\n",
      "Epoch 79/100\n",
      "422/422 [==============================] - 1s 2ms/step - loss: 0.9209 - acc: 0.7297 - val_loss: 0.8700 - val_acc: 0.7680\n",
      "Epoch 80/100\n",
      "422/422 [==============================] - 1s 2ms/step - loss: 0.9273 - acc: 0.7303 - val_loss: 0.8511 - val_acc: 0.7683\n",
      "Epoch 81/100\n",
      "422/422 [==============================] - 1s 2ms/step - loss: 0.9277 - acc: 0.7342 - val_loss: 0.8681 - val_acc: 0.7637\n",
      "Epoch 82/100\n",
      "422/422 [==============================] - 1s 2ms/step - loss: 0.9273 - acc: 0.7294 - val_loss: 0.8658 - val_acc: 0.7660\n",
      "Epoch 83/100\n",
      "422/422 [==============================] - 1s 2ms/step - loss: 0.9182 - acc: 0.7347 - val_loss: 0.9054 - val_acc: 0.7430\n",
      "Epoch 84/100\n",
      "422/422 [==============================] - 1s 2ms/step - loss: 0.9175 - acc: 0.7343 - val_loss: 0.8537 - val_acc: 0.7688\n",
      "Epoch 85/100\n",
      "422/422 [==============================] - 1s 2ms/step - loss: 0.9107 - acc: 0.7336 - val_loss: 0.8519 - val_acc: 0.7722\n",
      "Epoch 86/100\n",
      "422/422 [==============================] - 1s 2ms/step - loss: 0.9094 - acc: 0.7403 - val_loss: 0.8472 - val_acc: 0.7687\n",
      "Epoch 87/100\n",
      "422/422 [==============================] - 1s 2ms/step - loss: 0.9023 - acc: 0.7387 - val_loss: 0.8595 - val_acc: 0.7652\n",
      "Epoch 88/100\n",
      "422/422 [==============================] - 1s 2ms/step - loss: 0.9030 - acc: 0.7412 - val_loss: 0.8455 - val_acc: 0.7785\n",
      "Epoch 89/100\n",
      "422/422 [==============================] - 1s 2ms/step - loss: 0.9046 - acc: 0.7389 - val_loss: 0.8579 - val_acc: 0.7717\n",
      "Epoch 90/100\n",
      "422/422 [==============================] - 1s 2ms/step - loss: 0.9147 - acc: 0.7370 - val_loss: 0.8881 - val_acc: 0.7595\n",
      "Epoch 91/100\n",
      "422/422 [==============================] - 2s 4ms/step - loss: 0.8983 - acc: 0.7440 - val_loss: 0.8433 - val_acc: 0.7727\n",
      "Epoch 92/100\n",
      "422/422 [==============================] - 1s 2ms/step - loss: 0.8981 - acc: 0.7464 - val_loss: 0.8324 - val_acc: 0.7827\n",
      "Epoch 93/100\n",
      "422/422 [==============================] - 1s 2ms/step - loss: 0.9079 - acc: 0.7417 - val_loss: 0.8330 - val_acc: 0.7855\n",
      "Epoch 94/100\n",
      "422/422 [==============================] - 1s 3ms/step - loss: 0.9131 - acc: 0.7411 - val_loss: 0.8626 - val_acc: 0.7632\n",
      "Epoch 95/100\n",
      "422/422 [==============================] - 1s 2ms/step - loss: 0.9152 - acc: 0.7321 - val_loss: 0.8817 - val_acc: 0.7612\n",
      "Epoch 96/100\n",
      "422/422 [==============================] - 1s 2ms/step - loss: 0.8958 - acc: 0.7439 - val_loss: 0.8559 - val_acc: 0.7648\n",
      "Epoch 97/100\n",
      "422/422 [==============================] - 1s 2ms/step - loss: 0.9026 - acc: 0.7403 - val_loss: 0.8198 - val_acc: 0.7853\n",
      "Epoch 98/100\n",
      "422/422 [==============================] - 1s 2ms/step - loss: 0.8813 - acc: 0.7511 - val_loss: 0.8208 - val_acc: 0.7743\n",
      "Epoch 99/100\n",
      "422/422 [==============================] - 1s 2ms/step - loss: 0.8935 - acc: 0.7427 - val_loss: 0.8279 - val_acc: 0.7825\n",
      "Epoch 100/100\n",
      "422/422 [==============================] - 1s 2ms/step - loss: 0.8886 - acc: 0.7488 - val_loss: 0.8262 - val_acc: 0.7800\n"
     ]
    },
    {
     "data": {
      "image/png": "[encoded data removed]",
      "text/plain": [
       "<Figure size 432x288 with 1 Axes>"
      ]
     },
     "metadata": {
      "needs_background": "light"
     },
     "output_type": "display_data"
    },
    {
     "name": "stdout",
     "output_type": "stream",
     "text": [
      "Test loss: 0.889\n",
      "Test accuracy: 0.75\n"
     ]
    }
   ],
   "source": [
    "model.compile(optimizer=\"sgd\", loss='categorical_crossentropy', metrics=[\"acc\"])\n",
    "history = model.fit(x_train, y_train, batch_size=128, epochs=100, verbose=True, validation_split=.1)\n",
    "loss, accuracy  = model.evaluate(x_test, y_test, verbose=False)\n",
    "\n",
    "plt.plot(history.history['acc'])\n",
    "plt.plot(history.history['val_acc'])\n",
    "plt.title('model accuracy')\n",
    "plt.ylabel('accuracy')\n",
    "plt.xlabel('epoch')\n",
    "plt.legend(['training', 'validation'], loc='best')\n",
    "plt.show()\n",
    "\n",
    "print(f'Test loss: {loss:.3}')\n",
    "print(f'Test accuracy: {accuracy:.3}')"
   ]
  },
  {
   "cell_type": "code",
   "execution_count": 18,
   "id": "primary-missouri",
   "metadata": {},
   "outputs": [],
   "source": [
    "first_layer_weights = model.layers[0].get_weights()[0]\n",
    "first_layer_biases  = model.layers[0].get_weights()[1]\n",
    "second_layer_weights = model.layers[1].get_weights()[0]\n",
    "second_layer_biases  = model.layers[1].get_weights()[1]"
   ]
  },
  {
   "cell_type": "code",
   "execution_count": 19,
   "id": "b78bfe5c",
   "metadata": {},
   "outputs": [
    {
     "data": {
      "text/plain": [
       "array([ 0.00371542,  0.00664995,  0.01167684, -0.000719  ], dtype=float32)"
      ]
     },
     "execution_count": 19,
     "metadata": {},
     "output_type": "execute_result"
    }
   ],
   "source": [
    "model.layers[0].get_weights()[1]"
   ]
  },
  {
   "cell_type": "code",
   "execution_count": 20,
   "id": "29f76185",
   "metadata": {},
   "outputs": [
    {
     "data": {
      "text/plain": [
       "array([-3.3168788 , -0.6575536 ,  1.3378127 ,  3.5806537 , -0.33847523,\n",
       "        0.8452104 , -2.5317516 , -0.901362  ,  1.6813993 ,  0.30094412],\n",
       "      dtype=float32)"
      ]
     },
     "execution_count": 20,
     "metadata": {},
     "output_type": "execute_result"
    }
   ],
   "source": [
    "model.layers[1].get_weights()[1]"
   ]
  },
  {
   "cell_type": "code",
   "execution_count": 32,
   "id": "silent-queue",
   "metadata": {},
   "outputs": [],
   "source": [
    "fw = (first_layer_weights*1000).astype(int)\n",
    "sw = (second_layer_weights*10).astype(int) \n",
    "fb = (first_layer_biases*10).astype(int)  \n",
    "sb = (second_layer_biases*10).astype(int)"
   ]
  },
  {
   "cell_type": "code",
   "execution_count": 33,
   "id": "sublime-latin",
   "metadata": {},
   "outputs": [],
   "source": [
    "# fw = first_layer_weights\n",
    "# sw = second_layer_weights\n",
    "# fb = first_layer_biases \n",
    "# sb = second_layer_biases"
   ]
  },
  {
   "cell_type": "code",
   "execution_count": 34,
   "id": "d5daf78f",
   "metadata": {},
   "outputs": [
    {
     "data": {
      "text/plain": [
       "array([0, 0, 0, 0])"
      ]
     },
     "execution_count": 34,
     "metadata": {},
     "output_type": "execute_result"
    }
   ],
   "source": [
    "fb"
   ]
  },
  {
   "cell_type": "code",
   "execution_count": 35,
   "id": "indie-browse",
   "metadata": {},
   "outputs": [
    {
     "data": {
      "text/plain": [
       "(784, 4)"
      ]
     },
     "execution_count": 35,
     "metadata": {},
     "output_type": "execute_result"
    }
   ],
   "source": [
    "fw.shape"
   ]
  },
  {
   "cell_type": "code",
   "execution_count": 36,
   "id": "variable-luxury",
   "metadata": {},
   "outputs": [
    {
     "data": {
      "text/plain": [
       "(4, 10)"
      ]
     },
     "execution_count": 36,
     "metadata": {},
     "output_type": "execute_result"
    }
   ],
   "source": [
    "sw.shape"
   ]
  },
  {
   "cell_type": "code",
   "execution_count": 37,
   "id": "graphic-basement",
   "metadata": {},
   "outputs": [
    {
     "data": {
      "text/plain": [
       "array([[ -6, -67, -46,  62],\n",
       "       [ 29,  58, -57,  -7],\n",
       "       [ 30, -48, -38, -18],\n",
       "       ...,\n",
       "       [ 27,  36,  35,  44],\n",
       "       [ 61,  79,  44, -71],\n",
       "       [ 68,   3,  -8, -66]])"
      ]
     },
     "execution_count": 37,
     "metadata": {},
     "output_type": "execute_result"
    }
   ],
   "source": [
    "fw"
   ]
  },
  {
   "cell_type": "code",
   "execution_count": 38,
   "id": "oriental-anger",
   "metadata": {},
   "outputs": [
    {
     "data": {
      "text/plain": [
       "array([[ 17,  22,  -4, -16, -23,  23,  26, -30,  20, -23],\n",
       "       [ 27,  31,  -1,   1, -23, -11, -26,  35, -13, -13],\n",
       "       [ 18, -35, -28, -27,  31,  -1,  19,  20, -13,  33],\n",
       "       [ 16, -10,  34,  -9,  15, -11,  24, -10, -12,  -9]])"
      ]
     },
     "execution_count": 38,
     "metadata": {},
     "output_type": "execute_result"
    }
   ],
   "source": [
    "sw"
   ]
  },
  {
   "cell_type": "code",
   "execution_count": 39,
   "id": "e3ae60f0",
   "metadata": {},
   "outputs": [
    {
     "name": "stderr",
     "output_type": "stream",
     "text": [
      "/Users/Syed/anaconda/anaconda3/lib/python3.7/site-packages/ipykernel_launcher.py:2: RuntimeWarning: overflow encountered in exp\n",
      "  \n"
     ]
    }
   ],
   "source": [
    "def sigmoid(x):\n",
    "    return (1/(1+np.exp(-x)))\n",
    "def softmax(x):\n",
    "    sumexp = np.sum(np.exp(x))\n",
    "    return((np.exp(x)/sumexp))\n",
    "def layer1(x,w,b):\n",
    "    return sigmoid(np.dot(x,w)+b)\n",
    "def layer2(x,w,b):\n",
    "    return  softmax(np.dot(x,w)+b)\n",
    "layer1_out = layer1(x_test,fw,fb)\n",
    "layer2_out = layer2(layer1_out,sw,sb)\n",
    "pred= np.zeros(layer2_out.shape[0])\n",
    "for i in range(layer2_out.shape[0]):\n",
    "    pred[i] = np.argmax(layer2_out[i])"
   ]
  },
  {
   "cell_type": "code",
   "execution_count": 40,
   "id": "a1af6540",
   "metadata": {},
   "outputs": [
    {
     "data": {
      "text/plain": [
       "array([7, 2, 1, ..., 4, 5, 6], dtype=uint8)"
      ]
     },
     "execution_count": 40,
     "metadata": {},
     "output_type": "execute_result"
    }
   ],
   "source": [
    "y_orig_test"
   ]
  },
  {
   "cell_type": "code",
   "execution_count": 41,
   "id": "005323ca",
   "metadata": {},
   "outputs": [
    {
     "data": {
      "text/plain": [
       "array([7., 2., 1., ..., 9., 5., 6.])"
      ]
     },
     "execution_count": 41,
     "metadata": {},
     "output_type": "execute_result"
    }
   ],
   "source": [
    "pred"
   ]
  },
  {
   "cell_type": "code",
   "execution_count": 42,
   "id": "8ccdc44e",
   "metadata": {},
   "outputs": [
    {
     "data": {
      "text/plain": [
       "0.7495"
      ]
     },
     "execution_count": 42,
     "metadata": {},
     "output_type": "execute_result"
    }
   ],
   "source": [
    "from sklearn.metrics import accuracy_score\n",
    "accuracy_score(pred,y_orig_test)"
   ]
  },
  {
   "cell_type": "code",
   "execution_count": 43,
   "id": "86596b0d",
   "metadata": {},
   "outputs": [],
   "source": [
    "x = x_test[2].tolist()\n",
    "\n",
    "w11 = fw[:,0].tolist()\n",
    "w12 = fw[:,1].tolist()\n",
    "w13 = fw[:,2].tolist()\n",
    "w14 = fw[:,3].tolist()\n",
    "\n",
    "w21 = sw[:,0].tolist()\n",
    "w22 = sw[:,1].tolist()\n",
    "w23 = sw[:,2].tolist()\n",
    "w24 = sw[:,3].tolist()\n",
    "w25 = sw[:,4].tolist()\n",
    "w26 = sw[:,5].tolist()\n",
    "w27 = sw[:,6].tolist()\n",
    "w28 = sw[:,7].tolist()\n",
    "w29 = sw[:,8].tolist()\n",
    "w30 = sw[:,9].tolist()\n",
    "\n",
    "b1 = fb.tolist()\n",
    "b2 = sb.tolist()"
   ]
  },
  {
   "cell_type": "code",
   "execution_count": 44,
   "id": "5909fd4a",
   "metadata": {},
   "outputs": [
    {
     "data": {
      "text/plain": [
       "[0, 0, 0, 0]"
      ]
     },
     "execution_count": 44,
     "metadata": {},
     "output_type": "execute_result"
    }
   ],
   "source": [
    "b1"
   ]
  },
  {
   "cell_type": "code",
   "execution_count": 45,
   "id": "37ee666c",
   "metadata": {},
   "outputs": [
    {
     "data": {
      "text/plain": [
       "[-33, -6, 13, 35, -3, 8, -25, -9, 16, 3]"
      ]
     },
     "execution_count": 45,
     "metadata": {},
     "output_type": "execute_result"
    }
   ],
   "source": [
    "b2"
   ]
  },
  {
   "cell_type": "code",
   "execution_count": 46,
   "id": "8f701692",
   "metadata": {},
   "outputs": [
    {
     "data": {
      "text/plain": [
       "list"
      ]
     },
     "execution_count": 46,
     "metadata": {},
     "output_type": "execute_result"
    }
   ],
   "source": [
    "type(w11)"
   ]
  },
  {
   "cell_type": "code",
   "execution_count": 47,
   "id": "7b253605",
   "metadata": {},
   "outputs": [],
   "source": [
    "# print(nn_cont.functions.print_l1().call())\n",
    "# print(nn_cont.functions.print_l2().call())\n",
    "# n, d = sig_cont.functions.sigprint().call()\n",
    "# print(\"value of sigmoid is:\", n/d)\n",
    "# print(soft_cont.functions.set_softmax().call())"
   ]
  },
  {
   "cell_type": "code",
   "execution_count": 48,
   "id": "a2f7efb5",
   "metadata": {},
   "outputs": [],
   "source": [
    "# x = np.arange(1,784).tolist()\n",
    "# w11 = np.arange(1,784).tolist()\n",
    "# w12 = np.arange(1,784).tolist()\n",
    "# w13 = np.arange(1,784).tolist()\n",
    "# w14 = np.arange(1,784).tolist()\n",
    "# b1 = np.arange(1,5).tolist()"
   ]
  },
  {
   "cell_type": "code",
   "execution_count": 49,
   "id": "362ca10b",
   "metadata": {},
   "outputs": [],
   "source": [
    "##testing a sample  in layer 1"
   ]
  },
  {
   "cell_type": "code",
   "execution_count": 50,
   "id": "422bfa40",
   "metadata": {},
   "outputs": [
    {
     "name": "stdout",
     "output_type": "stream",
     "text": [
      "728124\n"
     ]
    }
   ],
   "source": [
    "print(np.sum(x_test[2]* fw[:,0]))"
   ]
  },
  {
   "cell_type": "code",
   "execution_count": 59,
   "id": "58d3f135",
   "metadata": {},
   "outputs": [
    {
     "name": "stdout",
     "output_type": "stream",
     "text": [
      "0\n",
      "1\n",
      "2\n",
      "3\n",
      "4\n",
      "5\n",
      "6\n",
      "7\n",
      "8\n",
      "9\n",
      "10\n",
      "11\n",
      "12\n",
      "13\n",
      "14\n",
      "15\n",
      "16\n",
      "17\n",
      "18\n",
      "19\n",
      "20\n",
      "21\n",
      "22\n",
      "23\n",
      "24\n",
      "25\n",
      "26\n",
      "27\n",
      "28\n",
      "29\n",
      "30\n",
      "31\n",
      "32\n",
      "33\n",
      "34\n",
      "35\n",
      "36\n",
      "37\n",
      "38\n",
      "39\n",
      "40\n",
      "41\n",
      "42\n",
      "43\n",
      "44\n",
      "45\n",
      "46\n",
      "47\n",
      "48\n",
      "49\n",
      "50\n",
      "51\n",
      "52\n",
      "53\n",
      "54\n",
      "55\n",
      "56\n",
      "57\n",
      "58\n",
      "59\n",
      "60\n",
      "61\n",
      "62\n",
      "63\n",
      "64\n",
      "65\n",
      "66\n",
      "67\n",
      "68\n",
      "69\n",
      "70\n",
      "71\n",
      "72\n",
      "73\n",
      "74\n",
      "75\n",
      "76\n",
      "77\n",
      "78\n",
      "79\n",
      "80\n",
      "81\n",
      "82\n",
      "83\n",
      "84\n",
      "85\n",
      "86\n",
      "87\n"
     ]
    },
    {
     "ename": "ValueError",
     "evalue": "{'message': \"the tx doesn't have the correct nonce. account has nonce of: 700 tx has nonce of: 699\", 'code': -32000, 'data': {'stack': \"TXRejectedError: the tx doesn't have the correct nonce. account has nonce of: 700 tx has nonce of: 699\\n    at validateNonce (/Applications/Ganache 2.app/Contents/Resources/static/node/node_modules/ganache-core/lib/statemanager.js:1017:11)\\n    at /Applications/Ganache 2.app/Contents/Resources/static/node/node_modules/ganache-core/lib/statemanager.js:1026:7\\n    at /Applications/Ganache 2.app/Contents/Resources/static/node/node_modules/ganache-core/lib/blockchain_double.js:444:5\\n    at /Applications/Ganache 2.app/Contents/Resources/static/node/node_modules/ganache-core/node_modules/merkle-patricia-tree/baseTrie.js:97:9\\n    at /Applications/Ganache 2.app/Contents/Resources/static/node/node_modules/ganache-core/node_modules/merkle-patricia-tree/baseTrie.js:520:18\\n    at Object._return [as return] (/Applications/Ganache 2.app/Contents/Resources/static/node/node_modules/ganache-core/node_modules/merkle-patricia-tree/baseTrie.js:545:13)\\n    at processNode (/Applications/Ganache 2.app/Contents/Resources/static/node/node_modules/ganache-core/node_modules/merkle-patricia-tree/baseTrie.js:325:34)\\n    at processNode (/Applications/Ganache 2.app/Contents/Resources/static/node/node_modules/ganache-core/node_modules/merkle-patricia-tree/baseTrie.js:579:9)\\n    at /Applications/Ganache 2.app/Contents/Resources/static/node/node_modules/ganache-core/node_modules/merkle-patricia-tree/baseTrie.js:574:17\\n    at /Applications/Ganache 2.app/Contents/Resources/static/node/node_modules/ganache-core/node_modules/merkle-patricia-tree/baseTrie.js:212:11\\n    at processTicksAndRejections (internal/process/task_queues.js:75:11)\", 'name': 'TXRejectedError'}}",
     "output_type": "error",
     "traceback": [
      "\u001b[0;31m---------------------------------------------------------------------------\u001b[0m",
      "\u001b[0;31mValueError\u001b[0m                                Traceback (most recent call last)",
      "\u001b[0;32m/var/folders/9j/xg5sl5n57fs3q8d3c9svsb1r0000gq/T/ipykernel_6003/1664741737.py\u001b[0m in \u001b[0;36m<module>\u001b[0;34m\u001b[0m\n\u001b[1;32m      5\u001b[0m     \u001b[0ml1_out\u001b[0m\u001b[0;34m=\u001b[0m \u001b[0mnp\u001b[0m\u001b[0;34m.\u001b[0m\u001b[0mzeros\u001b[0m\u001b[0;34m(\u001b[0m\u001b[0;36m4\u001b[0m\u001b[0;34m)\u001b[0m\u001b[0;34m\u001b[0m\u001b[0;34m\u001b[0m\u001b[0m\n\u001b[1;32m      6\u001b[0m     \u001b[0mx\u001b[0m\u001b[0;34m=\u001b[0m \u001b[0mx_test\u001b[0m\u001b[0;34m[\u001b[0m\u001b[0mi\u001b[0m\u001b[0;34m]\u001b[0m\u001b[0;34m.\u001b[0m\u001b[0mtolist\u001b[0m\u001b[0;34m(\u001b[0m\u001b[0;34m)\u001b[0m\u001b[0;34m\u001b[0m\u001b[0;34m\u001b[0m\u001b[0m\n\u001b[0;32m----> 7\u001b[0;31m     \u001b[0mgetlayer1\u001b[0m\u001b[0;34m(\u001b[0m\u001b[0mx\u001b[0m\u001b[0;34m,\u001b[0m\u001b[0mw11\u001b[0m\u001b[0;34m,\u001b[0m\u001b[0mw12\u001b[0m\u001b[0;34m,\u001b[0m\u001b[0mw13\u001b[0m\u001b[0;34m,\u001b[0m\u001b[0mw14\u001b[0m\u001b[0;34m,\u001b[0m\u001b[0mb1\u001b[0m\u001b[0;34m)\u001b[0m\u001b[0;34m\u001b[0m\u001b[0;34m\u001b[0m\u001b[0m\n\u001b[0m\u001b[1;32m      8\u001b[0m     \u001b[0;31m# getlayer1(x,w11,w12,w13,w14,b1)\u001b[0m\u001b[0;34m\u001b[0m\u001b[0;34m\u001b[0m\u001b[0;34m\u001b[0m\u001b[0m\n\u001b[1;32m      9\u001b[0m     \u001b[0ml1_mult\u001b[0m\u001b[0;34m[\u001b[0m\u001b[0;34m:\u001b[0m\u001b[0;34m]\u001b[0m\u001b[0;34m=\u001b[0m\u001b[0mnn_cont\u001b[0m\u001b[0;34m.\u001b[0m\u001b[0mfunctions\u001b[0m\u001b[0;34m.\u001b[0m\u001b[0mprint_l1\u001b[0m\u001b[0;34m(\u001b[0m\u001b[0;34m)\u001b[0m\u001b[0;34m.\u001b[0m\u001b[0mcall\u001b[0m\u001b[0;34m(\u001b[0m\u001b[0;34m)\u001b[0m\u001b[0;34m\u001b[0m\u001b[0;34m\u001b[0m\u001b[0m\n",
      "\u001b[0;32m/var/folders/9j/xg5sl5n57fs3q8d3c9svsb1r0000gq/T/ipykernel_6003/185639176.py\u001b[0m in \u001b[0;36mgetlayer1\u001b[0;34m(x, w11, w12, w13, w14, b1)\u001b[0m\n\u001b[1;32m     10\u001b[0m         }) \n\u001b[1;32m     11\u001b[0m     \u001b[0msigned_txn\u001b[0m \u001b[0;34m=\u001b[0m \u001b[0mweb3\u001b[0m\u001b[0;34m.\u001b[0m\u001b[0meth\u001b[0m\u001b[0;34m.\u001b[0m\u001b[0maccount\u001b[0m\u001b[0;34m.\u001b[0m\u001b[0msignTransaction\u001b[0m\u001b[0;34m(\u001b[0m\u001b[0mtransaction\u001b[0m\u001b[0;34m,\u001b[0m \u001b[0mprivate_key\u001b[0m\u001b[0;34m=\u001b[0m\u001b[0mprivate_key1\u001b[0m\u001b[0;34m)\u001b[0m\u001b[0;34m\u001b[0m\u001b[0;34m\u001b[0m\u001b[0m\n\u001b[0;32m---> 12\u001b[0;31m     \u001b[0mtx_hash\u001b[0m \u001b[0;34m=\u001b[0m \u001b[0mweb3\u001b[0m\u001b[0;34m.\u001b[0m\u001b[0meth\u001b[0m\u001b[0;34m.\u001b[0m\u001b[0msendRawTransaction\u001b[0m\u001b[0;34m(\u001b[0m\u001b[0msigned_txn\u001b[0m\u001b[0;34m.\u001b[0m\u001b[0mrawTransaction\u001b[0m\u001b[0;34m)\u001b[0m\u001b[0;34m\u001b[0m\u001b[0;34m\u001b[0m\u001b[0m\n\u001b[0m\u001b[1;32m     13\u001b[0m     \u001b[0mtx_receipt\u001b[0m \u001b[0;34m=\u001b[0m \u001b[0mweb3\u001b[0m\u001b[0;34m.\u001b[0m\u001b[0meth\u001b[0m\u001b[0;34m.\u001b[0m\u001b[0mwaitForTransactionReceipt\u001b[0m\u001b[0;34m(\u001b[0m\u001b[0mtx_hash\u001b[0m\u001b[0;34m,\u001b[0m\u001b[0mtimeout\u001b[0m\u001b[0;34m=\u001b[0m\u001b[0;36m300\u001b[0m\u001b[0;34m)\u001b[0m\u001b[0;34m\u001b[0m\u001b[0;34m\u001b[0m\u001b[0m\n\u001b[1;32m     14\u001b[0m     \u001b[0;32mreturn\u001b[0m \u001b[0mtx_receipt\u001b[0m\u001b[0;34m.\u001b[0m\u001b[0mgasUsed\u001b[0m\u001b[0;34m\u001b[0m\u001b[0;34m\u001b[0m\u001b[0m\n",
      "\u001b[0;32m~/anaconda/anaconda3/lib/python3.7/site-packages/web3/eth.py\u001b[0m in \u001b[0;36msend_raw_transaction\u001b[0;34m(self, transaction)\u001b[0m\n\u001b[1;32m    816\u001b[0m \u001b[0;34m\u001b[0m\u001b[0m\n\u001b[1;32m    817\u001b[0m     \u001b[0;32mdef\u001b[0m \u001b[0msend_raw_transaction\u001b[0m\u001b[0;34m(\u001b[0m\u001b[0mself\u001b[0m\u001b[0;34m,\u001b[0m \u001b[0mtransaction\u001b[0m\u001b[0;34m:\u001b[0m \u001b[0mUnion\u001b[0m\u001b[0;34m[\u001b[0m\u001b[0mHexStr\u001b[0m\u001b[0;34m,\u001b[0m \u001b[0mbytes\u001b[0m\u001b[0;34m]\u001b[0m\u001b[0;34m)\u001b[0m \u001b[0;34m->\u001b[0m \u001b[0mHexBytes\u001b[0m\u001b[0;34m:\u001b[0m\u001b[0;34m\u001b[0m\u001b[0;34m\u001b[0m\u001b[0m\n\u001b[0;32m--> 818\u001b[0;31m         \u001b[0;32mreturn\u001b[0m \u001b[0mself\u001b[0m\u001b[0;34m.\u001b[0m\u001b[0m_send_raw_transaction\u001b[0m\u001b[0;34m(\u001b[0m\u001b[0mtransaction\u001b[0m\u001b[0;34m)\u001b[0m\u001b[0;34m\u001b[0m\u001b[0;34m\u001b[0m\u001b[0m\n\u001b[0m\u001b[1;32m    819\u001b[0m \u001b[0;34m\u001b[0m\u001b[0m\n\u001b[1;32m    820\u001b[0m     def sign_munger(\n",
      "\u001b[0;32m~/anaconda/anaconda3/lib/python3.7/site-packages/web3/module.py\u001b[0m in \u001b[0;36mcaller\u001b[0;34m(*args, **kwargs)\u001b[0m\n\u001b[1;32m     58\u001b[0m                                              \u001b[0mparams\u001b[0m\u001b[0;34m,\u001b[0m\u001b[0;34m\u001b[0m\u001b[0;34m\u001b[0m\u001b[0m\n\u001b[1;32m     59\u001b[0m                                              \u001b[0merror_formatters\u001b[0m\u001b[0;34m,\u001b[0m\u001b[0;34m\u001b[0m\u001b[0;34m\u001b[0m\u001b[0m\n\u001b[0;32m---> 60\u001b[0;31m                                              null_result_formatters)\n\u001b[0m\u001b[1;32m     61\u001b[0m         \u001b[0;32mreturn\u001b[0m \u001b[0mapply_result_formatters\u001b[0m\u001b[0;34m(\u001b[0m\u001b[0mresult_formatters\u001b[0m\u001b[0;34m,\u001b[0m \u001b[0mresult\u001b[0m\u001b[0;34m)\u001b[0m\u001b[0;34m\u001b[0m\u001b[0;34m\u001b[0m\u001b[0m\n\u001b[1;32m     62\u001b[0m     \u001b[0;32mreturn\u001b[0m \u001b[0mcaller\u001b[0m\u001b[0;34m\u001b[0m\u001b[0;34m\u001b[0m\u001b[0m\n",
      "\u001b[0;32m~/anaconda/anaconda3/lib/python3.7/site-packages/web3/manager.py\u001b[0m in \u001b[0;36mrequest_blocking\u001b[0;34m(self, method, params, error_formatters, null_result_formatters)\u001b[0m\n\u001b[1;32m    199\u001b[0m                                        \u001b[0mparams\u001b[0m\u001b[0;34m,\u001b[0m\u001b[0;34m\u001b[0m\u001b[0;34m\u001b[0m\u001b[0m\n\u001b[1;32m    200\u001b[0m                                        \u001b[0merror_formatters\u001b[0m\u001b[0;34m,\u001b[0m\u001b[0;34m\u001b[0m\u001b[0;34m\u001b[0m\u001b[0m\n\u001b[0;32m--> 201\u001b[0;31m                                        null_result_formatters)\n\u001b[0m\u001b[1;32m    202\u001b[0m \u001b[0;34m\u001b[0m\u001b[0m\n\u001b[1;32m    203\u001b[0m     async def coro_request(\n",
      "\u001b[0;32m~/anaconda/anaconda3/lib/python3.7/site-packages/web3/manager.py\u001b[0m in \u001b[0;36mformatted_response\u001b[0;34m(response, params, error_formatters, null_result_formatters)\u001b[0m\n\u001b[1;32m    169\u001b[0m         \u001b[0;32mif\u001b[0m \u001b[0;34m\"error\"\u001b[0m \u001b[0;32min\u001b[0m \u001b[0mresponse\u001b[0m\u001b[0;34m:\u001b[0m\u001b[0;34m\u001b[0m\u001b[0;34m\u001b[0m\u001b[0m\n\u001b[1;32m    170\u001b[0m             \u001b[0mapply_error_formatters\u001b[0m\u001b[0;34m(\u001b[0m\u001b[0merror_formatters\u001b[0m\u001b[0;34m,\u001b[0m \u001b[0mresponse\u001b[0m\u001b[0;34m)\u001b[0m\u001b[0;34m\u001b[0m\u001b[0;34m\u001b[0m\u001b[0m\n\u001b[0;32m--> 171\u001b[0;31m             \u001b[0;32mraise\u001b[0m \u001b[0mValueError\u001b[0m\u001b[0;34m(\u001b[0m\u001b[0mresponse\u001b[0m\u001b[0;34m[\u001b[0m\u001b[0;34m\"error\"\u001b[0m\u001b[0;34m]\u001b[0m\u001b[0;34m)\u001b[0m\u001b[0;34m\u001b[0m\u001b[0;34m\u001b[0m\u001b[0m\n\u001b[0m\u001b[1;32m    172\u001b[0m         \u001b[0;31m# NULL_RESPONSES includes None, so return False here as the default\u001b[0m\u001b[0;34m\u001b[0m\u001b[0;34m\u001b[0m\u001b[0;34m\u001b[0m\u001b[0m\n\u001b[1;32m    173\u001b[0m         \u001b[0;31m# so we don't apply the null_result_formatters if there is no 'result' key\u001b[0m\u001b[0;34m\u001b[0m\u001b[0;34m\u001b[0m\u001b[0;34m\u001b[0m\u001b[0m\n",
      "\u001b[0;31mValueError\u001b[0m: {'message': \"the tx doesn't have the correct nonce. account has nonce of: 700 tx has nonce of: 699\", 'code': -32000, 'data': {'stack': \"TXRejectedError: the tx doesn't have the correct nonce. account has nonce of: 700 tx has nonce of: 699\\n    at validateNonce (/Applications/Ganache 2.app/Contents/Resources/static/node/node_modules/ganache-core/lib/statemanager.js:1017:11)\\n    at /Applications/Ganache 2.app/Contents/Resources/static/node/node_modules/ganache-core/lib/statemanager.js:1026:7\\n    at /Applications/Ganache 2.app/Contents/Resources/static/node/node_modules/ganache-core/lib/blockchain_double.js:444:5\\n    at /Applications/Ganache 2.app/Contents/Resources/static/node/node_modules/ganache-core/node_modules/merkle-patricia-tree/baseTrie.js:97:9\\n    at /Applications/Ganache 2.app/Contents/Resources/static/node/node_modules/ganache-core/node_modules/merkle-patricia-tree/baseTrie.js:520:18\\n    at Object._return [as return] (/Applications/Ganache 2.app/Contents/Resources/static/node/node_modules/ganache-core/node_modules/merkle-patricia-tree/baseTrie.js:545:13)\\n    at processNode (/Applications/Ganache 2.app/Contents/Resources/static/node/node_modules/ganache-core/node_modules/merkle-patricia-tree/baseTrie.js:325:34)\\n    at processNode (/Applications/Ganache 2.app/Contents/Resources/static/node/node_modules/ganache-core/node_modules/merkle-patricia-tree/baseTrie.js:579:9)\\n    at /Applications/Ganache 2.app/Contents/Resources/static/node/node_modules/ganache-core/node_modules/merkle-patricia-tree/baseTrie.js:574:17\\n    at /Applications/Ganache 2.app/Contents/Resources/static/node/node_modules/ganache-core/node_modules/merkle-patricia-tree/baseTrie.js:212:11\\n    at processTicksAndRejections (internal/process/task_queues.js:75:11)\", 'name': 'TXRejectedError'}}"
     ]
    }
   ],
   "source": [
    "pred_t= np.zeros(100)\n",
    "## multiply layer 1\n",
    "for i in range(100):\n",
    "    l1_mult= np.zeros(4)\n",
    "    l1_out= np.zeros(4)\n",
    "    x= x_test[i].tolist()\n",
    "    getlayer1(x,w11,w12,w13,w14,b1)\n",
    "    # getlayer1(x,w11,w12,w13,w14,b1)\n",
    "    l1_mult[:]=nn_cont.functions.print_l1().call()\n",
    "    # print(l1_mult)\n",
    "    ## get sigmoid\n",
    "    for j in range(len(l1_mult)):\n",
    "    #     print((int(l1_mult[i]),1,int(abs(l1_mult[i])),1))\n",
    "        sigfrac(int(l1_mult[j]),1,int(abs(l1_mult[j])),1)\n",
    "    #     print(sig_cont.functions.sigprint().call())\n",
    "        n,d = sig_cont.functions.sigprint().call()\n",
    "        l1_out[j] = n/d\n",
    "    #multiply layer 2\n",
    "\n",
    "\n",
    "    l2_mult = np.zeros(10)\n",
    "    l2_out = np.zeros(10)\n",
    "    l1_out = l1_out.astype(int)\n",
    "    l1_out = l1_out.tolist()\n",
    "    getlayer2(l1_out,w21,w22,w23,w24,w25,w26,w27,w28,w29,w30,b2)\n",
    "    l2_out[:] = nn_cont.functions.print_l2().call()\n",
    "    pred_t[i] = np.argmax(l2_out)\n",
    "    print(i)"
   ]
  },
  {
   "cell_type": "code",
   "execution_count": 54,
   "id": "555b14eb",
   "metadata": {},
   "outputs": [
    {
     "data": {
      "text/plain": [
       "array([7., 2., 1., 0., 4., 1., 9., 9., 6., 9., 0., 6., 9., 0., 1., 8., 9.,\n",
       "       7., 3., 4.])"
      ]
     },
     "execution_count": 54,
     "metadata": {},
     "output_type": "execute_result"
    }
   ],
   "source": [
    "\n",
    "# print(l2_out)\n",
    "## get softmax\n",
    "\n",
    "pred_t"
   ]
  },
  {
   "cell_type": "code",
   "execution_count": 55,
   "id": "c009bc1d",
   "metadata": {},
   "outputs": [
    {
     "data": {
      "text/plain": [
       "array([7, 2, 1, 0, 4, 1, 4, 9, 5, 9, 0, 6, 9, 0, 1, 5, 9, 7, 3, 4],\n",
       "      dtype=uint8)"
      ]
     },
     "execution_count": 55,
     "metadata": {},
     "output_type": "execute_result"
    }
   ],
   "source": [
    "y_orig_test[:20]"
   ]
  },
  {
   "cell_type": "code",
   "execution_count": 58,
   "id": "f0cf86f8",
   "metadata": {},
   "outputs": [
    {
     "data": {
      "text/plain": [
       "10000"
      ]
     },
     "execution_count": 58,
     "metadata": {},
     "output_type": "execute_result"
    }
   ],
   "source": [
    "len(y_orig_test)"
   ]
  },
  {
   "cell_type": "code",
   "execution_count": 68,
   "id": "d6cb1297",
   "metadata": {},
   "outputs": [],
   "source": [
    "from sklearn.metrics import accuracy_score\n",
    "z = accuracy_score(pred_t[:88],y_orig_test[:88])"
   ]
  },
  {
   "cell_type": "code",
   "execution_count": 66,
   "id": "138d9740",
   "metadata": {},
   "outputs": [
    {
     "ename": "TypeError",
     "evalue": "only size-1 arrays can be converted to Python scalars",
     "output_type": "error",
     "traceback": [
      "\u001b[0;31m---------------------------------------------------------------------------\u001b[0m",
      "\u001b[0;31mTypeError\u001b[0m                                 Traceback (most recent call last)",
      "\u001b[0;32m/var/folders/9j/xg5sl5n57fs3q8d3c9svsb1r0000gq/T/ipykernel_6003/3138343777.py\u001b[0m in \u001b[0;36m<module>\u001b[0;34m\u001b[0m\n\u001b[0;32m----> 1\u001b[0;31m \u001b[0mint\u001b[0m\u001b[0;34m(\u001b[0m\u001b[0mpred_t\u001b[0m\u001b[0;34m*\u001b[0m\u001b[0;36m100\u001b[0m\u001b[0;34m)\u001b[0m\u001b[0;34m\u001b[0m\u001b[0;34m\u001b[0m\u001b[0m\n\u001b[0m",
      "\u001b[0;31mTypeError\u001b[0m: only size-1 arrays can be converted to Python scalars"
     ]
    }
   ],
   "source": [
    "int(pred_t*100)"
   ]
  },
  {
   "cell_type": "code",
   "execution_count": 76,
   "id": "75449b6a",
   "metadata": {},
   "outputs": [
    {
     "data": {
      "image/png": "[encoded data removed]",
      "text/plain": [
       "<Figure size 504x504 with 1 Axes>"
      ]
     },
     "metadata": {
      "needs_background": "light"
     },
     "output_type": "display_data"
    }
   ],
   "source": [
    "import matplotlib.pyplot as plt\n",
    "x = np.arange(100)\n",
    "plt.figure(figsize=(7,7))\n",
    "plt.bar(\"on-chain prediction\", z)\n",
    "plt.bar(\"off-chain prediction\", z)\n",
    "plt.title(\"Prediction Accuracy of MNIST Dataset\",fontsize=14)\n",
    "plt.xlabel(\"Prediction type\",fontsize=13)\n",
    "plt.ylabel(\"Accuracy of predictrion\",fontsize=13)\n",
    "plt.savefig(\"pred_accuracy.pdf\",bbox_inches='tight')"
   ]
  },
  {
   "cell_type": "code",
   "execution_count": 81,
   "id": "ff405df9",
   "metadata": {},
   "outputs": [
    {
     "data": {
      "text/plain": [
       "array([[ 8,  0,  0,  0,  0,  0,  0,  0,  0,  0],\n",
       "       [ 0, 10,  0,  1,  0,  0,  0,  0,  0,  0],\n",
       "       [ 0,  0,  7,  0,  0,  0,  0,  1,  0,  0],\n",
       "       [ 0,  0,  0,  6,  0,  0,  0,  1,  1,  1],\n",
       "       [ 0,  0,  0,  0,  7,  0,  1,  0,  0,  5],\n",
       "       [ 1,  0,  0,  0,  0,  2,  2,  0,  2,  0],\n",
       "       [ 1,  0,  0,  0,  0,  0,  6,  0,  0,  0],\n",
       "       [ 0,  0,  0,  0,  0,  0,  0, 14,  0,  0],\n",
       "       [ 0,  0,  0,  0,  0,  1,  0,  0,  1,  0],\n",
       "       [ 0,  0,  0,  0,  0,  0,  0,  1,  0,  8]])"
      ]
     },
     "execution_count": 81,
     "metadata": {},
     "output_type": "execute_result"
    }
   ],
   "source": [
    "from sklearn.metrics import confusion_matrix\n",
    "cm = confusion_matrix(y_orig_test[:88],pred_t[:88])\n",
    "cm"
   ]
  },
  {
   "cell_type": "code",
   "execution_count": 84,
   "id": "a0f7d8d2",
   "metadata": {},
   "outputs": [
    {
     "data": {
      "text/plain": [
       "<AxesSubplot:>"
      ]
     },
     "execution_count": 84,
     "metadata": {},
     "output_type": "execute_result"
    },
    {
     "data": {
      "image/png": "[encoded data removed]",
      "text/plain": [
       "<Figure size 720x504 with 2 Axes>"
      ]
     },
     "metadata": {
      "needs_background": "light"
     },
     "output_type": "display_data"
    }
   ],
   "source": [
    "import seaborn as sn\n",
    "import pandas as pd\n",
    "import matplotlib.pyplot as plt\n",
    "labels = [0,1,2,3,4,5,6,7,8,9]\n",
    "df_cm = pd.DataFrame(cm, index = [i for i in labels],\n",
    "              columns = [i for i in labels])\n",
    "plt.figure(figsize = (10,7))\n",
    "sn.heatmap(df_cm, annot=True,cmap=\"OrRd\")"
   ]
  },
  {
   "cell_type": "code",
   "execution_count": 182,
   "id": "4a8b2327",
   "metadata": {},
   "outputs": [],
   "source": [
    "for i in range(len(l2_out)):\n",
    "    getexpon(int(l2_out[i]),1, abs(int(l2_out[i])),1)\n",
    "getsumexpon()\n",
    "getsoftmax()\n",
    "smaxn,smaxd = soft_cont.functions.set_softmax().call()"
   ]
  },
  {
   "cell_type": "code",
   "execution_count": 183,
   "id": "e0a872bc",
   "metadata": {},
   "outputs": [
    {
     "name": "stdout",
     "output_type": "stream",
     "text": [
      "[0, 0, 0, 0, 0, 0, 0, 0, 0, 0] [0, 0, 0, 0, 0, 0, 0, 0, 0, 0]\n"
     ]
    }
   ],
   "source": [
    "print(smaxn,smaxd)"
   ]
  },
  {
   "cell_type": "code",
   "execution_count": 15,
   "id": "functional-surveillance",
   "metadata": {},
   "outputs": [],
   "source": [
    "## testing prediction with builtin functions"
   ]
  },
  {
   "cell_type": "code",
   "execution_count": 16,
   "id": "blind-juice",
   "metadata": {},
   "outputs": [],
   "source": [
    "def sigmoid(x):\n",
    "    return (1/(1+np.exp(-x)))\n",
    "def softmax(x):\n",
    "    sumexp = np.sum(np.exp(x))\n",
    "    return((np.exp(x)/sumexp))\n",
    "def layer1(x,w,b):\n",
    "    return sigmoid(np.dot(x,w)+b)\n",
    "def layer2(x,w,b):\n",
    "    return  softmax(np.dot(x,w)+b)"
   ]
  },
  {
   "cell_type": "code",
   "execution_count": 17,
   "id": "consecutive-matthew",
   "metadata": {},
   "outputs": [
    {
     "name": "stderr",
     "output_type": "stream",
     "text": [
      "/Users/Syed/anaconda/anaconda3/lib/python3.7/site-packages/ipykernel_launcher.py:2: RuntimeWarning: overflow encountered in exp\n",
      "  \n"
     ]
    }
   ],
   "source": [
    "layer1_out = layer1(x_test,fw,fb)\n",
    "# layer1_out[:50]\n"
   ]
  },
  {
   "cell_type": "code",
   "execution_count": 18,
   "id": "proved-ottawa",
   "metadata": {},
   "outputs": [
    {
     "data": {
      "text/plain": [
       "array([2.76898550e-20, 2.98692853e-44, 6.98583051e-22, 4.64583254e-21,\n",
       "       1.50356482e-37, 6.86730237e-36, 3.05191685e-42, 8.96994448e-16,\n",
       "       1.65533536e-39, 6.15235175e-36])"
      ]
     },
     "execution_count": 18,
     "metadata": {},
     "output_type": "execute_result"
    }
   ],
   "source": [
    "layer2_out = layer2(layer1_out,sw,sb)\n",
    "layer2_out[0]"
   ]
  },
  {
   "cell_type": "code",
   "execution_count": 19,
   "id": "everyday-cylinder",
   "metadata": {},
   "outputs": [],
   "source": [
    "pred= np.zeros(layer2_out.shape[0])\n",
    "for i in range(layer2_out.shape[0]):\n",
    "    pred[i] = np.argmax(layer2_out[i])"
   ]
  },
  {
   "cell_type": "code",
   "execution_count": 20,
   "id": "caring-aquatic",
   "metadata": {},
   "outputs": [
    {
     "data": {
      "text/plain": [
       "array([7, 2, 1, ..., 4, 5, 6], dtype=uint8)"
      ]
     },
     "execution_count": 20,
     "metadata": {},
     "output_type": "execute_result"
    }
   ],
   "source": [
    "y_orig_test"
   ]
  },
  {
   "cell_type": "code",
   "execution_count": 21,
   "id": "provincial-davis",
   "metadata": {},
   "outputs": [
    {
     "data": {
      "text/plain": [
       "array([7., 2., 1., ..., 4., 5., 6.])"
      ]
     },
     "execution_count": 21,
     "metadata": {},
     "output_type": "execute_result"
    }
   ],
   "source": [
    "pred"
   ]
  },
  {
   "cell_type": "code",
   "execution_count": 22,
   "id": "stupid-retro",
   "metadata": {},
   "outputs": [
    {
     "data": {
      "text/plain": [
       "0.6137"
      ]
     },
     "execution_count": 22,
     "metadata": {},
     "output_type": "execute_result"
    }
   ],
   "source": [
    "from sklearn.metrics import accuracy_score\n",
    "accuracy_score(pred,y_orig_test)"
   ]
  },
  {
   "cell_type": "code",
   "execution_count": 208,
   "id": "american-narrow",
   "metadata": {},
   "outputs": [],
   "source": [
    "# in depth layers\n",
    "\n",
    "def create_dense(layer_sizes):\n",
    "    model = Sequential()\n",
    "    model.add(Dense(layer_sizes[0], activation='sigmoid', input_shape=(image_size,)))\n",
    "\n",
    "    for s in layer_sizes[1:]:\n",
    "        model.add(Dense(units = s, activation = 'sigmoid'))\n",
    "\n",
    "    model.add(Dense(units=num_classes, activation='softmax'))\n",
    "    return model\n",
    "\n",
    "def evaluate(model, batch_size=128, epochs=5):\n",
    "    model.summary()\n",
    "    model.compile(optimizer='sgd', loss='categorical_crossentropy', metrics=['acc'])\n",
    "    history = model.fit(x_train, y_train, batch_size=batch_size, epochs=epochs, validation_split=.1, verbose=False)\n",
    "    loss, accuracy  = model.evaluate(x_test, y_test, verbose=False)\n",
    "    \n",
    "    plt.plot(history.history['acc'])\n",
    "    plt.plot(history.history['val_acc'])\n",
    "    plt.title('model accuracy')\n",
    "    plt.ylabel('accuracy')\n",
    "    plt.xlabel('epoch')\n",
    "    plt.legend(['training', 'validation'], loc='best')\n",
    "    plt.show()\n",
    "\n",
    "    print()\n",
    "    print(f'Test loss: {loss:.3}')\n",
    "    print(f'Test accuracy: {accuracy:.3}')"
   ]
  },
  {
   "cell_type": "code",
   "execution_count": 27,
   "id": "plain-stereo",
   "metadata": {},
   "outputs": [
    {
     "name": "stdout",
     "output_type": "stream",
     "text": [
      "Model: \"sequential_7\"\n",
      "_________________________________________________________________\n",
      "Layer (type)                 Output Shape              Param #   \n",
      "=================================================================\n",
      "dense_20 (Dense)             (None, 32)                25120     \n",
      "_________________________________________________________________\n",
      "dense_21 (Dense)             (None, 10)                330       \n",
      "=================================================================\n",
      "Total params: 25,450\n",
      "Trainable params: 25,450\n",
      "Non-trainable params: 0\n",
      "_________________________________________________________________\n"
     ]
    },
    {
     "data": {
      "image/png": "[encoded data removed]",
      "text/plain": [
       "<Figure size 432x288 with 1 Axes>"
      ]
     },
     "metadata": {
      "needs_background": "light"
     },
     "output_type": "display_data"
    },
    {
     "name": "stdout",
     "output_type": "stream",
     "text": [
      "\n",
      "Test loss: 0.494\n",
      "Test accuracy: 0.888\n",
      "Model: \"sequential_8\"\n",
      "_________________________________________________________________\n",
      "Layer (type)                 Output Shape              Param #   \n",
      "=================================================================\n",
      "dense_22 (Dense)             (None, 32)                25120     \n",
      "_________________________________________________________________\n",
      "dense_23 (Dense)             (None, 32)                1056      \n",
      "_________________________________________________________________\n",
      "dense_24 (Dense)             (None, 10)                330       \n",
      "=================================================================\n",
      "Total params: 26,506\n",
      "Trainable params: 26,506\n",
      "Non-trainable params: 0\n",
      "_________________________________________________________________\n"
     ]
    },
    {
     "data": {
      "image/png": "[encoded data removed]",
      "text/plain": [
       "<Figure size 432x288 with 1 Axes>"
      ]
     },
     "metadata": {
      "needs_background": "light"
     },
     "output_type": "display_data"
    },
    {
     "name": "stdout",
     "output_type": "stream",
     "text": [
      "\n",
      "Test loss: 1.16\n",
      "Test accuracy: 0.814\n",
      "Model: \"sequential_9\"\n",
      "_________________________________________________________________\n",
      "Layer (type)                 Output Shape              Param #   \n",
      "=================================================================\n",
      "dense_25 (Dense)             (None, 32)                25120     \n",
      "_________________________________________________________________\n",
      "dense_26 (Dense)             (None, 32)                1056      \n",
      "_________________________________________________________________\n",
      "dense_27 (Dense)             (None, 32)                1056      \n",
      "_________________________________________________________________\n",
      "dense_28 (Dense)             (None, 10)                330       \n",
      "=================================================================\n",
      "Total params: 27,562\n",
      "Trainable params: 27,562\n",
      "Non-trainable params: 0\n",
      "_________________________________________________________________\n"
     ]
    },
    {
     "data": {
      "image/png": "[encoded data removed]",
      "text/plain": [
       "<Figure size 432x288 with 1 Axes>"
      ]
     },
     "metadata": {
      "needs_background": "light"
     },
     "output_type": "display_data"
    },
    {
     "name": "stdout",
     "output_type": "stream",
     "text": [
      "\n",
      "Test loss: 2.15\n",
      "Test accuracy: 0.569\n",
      "Model: \"sequential_10\"\n",
      "_________________________________________________________________\n",
      "Layer (type)                 Output Shape              Param #   \n",
      "=================================================================\n",
      "dense_29 (Dense)             (None, 32)                25120     \n",
      "_________________________________________________________________\n",
      "dense_30 (Dense)             (None, 32)                1056      \n",
      "_________________________________________________________________\n",
      "dense_31 (Dense)             (None, 32)                1056      \n",
      "_________________________________________________________________\n",
      "dense_32 (Dense)             (None, 32)                1056      \n",
      "_________________________________________________________________\n",
      "dense_33 (Dense)             (None, 10)                330       \n",
      "=================================================================\n",
      "Total params: 28,618\n",
      "Trainable params: 28,618\n",
      "Non-trainable params: 0\n",
      "_________________________________________________________________\n"
     ]
    },
    {
     "data": {
      "image/png": "[encoded data removed]",
      "text/plain": [
       "<Figure size 432x288 with 1 Axes>"
      ]
     },
     "metadata": {
      "needs_background": "light"
     },
     "output_type": "display_data"
    },
    {
     "name": "stdout",
     "output_type": "stream",
     "text": [
      "\n",
      "Test loss: 2.29\n",
      "Test accuracy: 0.113\n"
     ]
    }
   ],
   "source": [
    "for layers in range(1, 5):\n",
    "    model = create_dense([32] * layers)\n",
    "    evaluate(model)"
   ]
  },
  {
   "cell_type": "code",
   "execution_count": null,
   "id": "amateur-subdivision",
   "metadata": {},
   "outputs": [],
   "source": []
  }
 ],
 "metadata": {
  "kernelspec": {
   "display_name": "Python 3 (ipykernel)",
   "language": "python",
   "name": "python3"
  },
  "language_info": {
   "codemirror_mode": {
    "name": "ipython",
    "version": 3
   },
   "file_extension": ".py",
   "mimetype": "text/x-python",
   "name": "python",
   "nbconvert_exporter": "python",
   "pygments_lexer": "ipython3",
   "version": "3.7.11"
  }
 },
 "nbformat": 4,
 "nbformat_minor": 5
}
