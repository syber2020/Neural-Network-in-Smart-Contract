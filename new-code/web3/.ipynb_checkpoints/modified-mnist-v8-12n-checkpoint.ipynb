{
 "cells": [
  {
   "cell_type": "code",
   "execution_count": 1,
   "id": "5ea50fc3",
   "metadata": {},
   "outputs": [
    {
     "data": {
      "text/plain": [
       "True"
      ]
     },
     "execution_count": 1,
     "metadata": {},
     "output_type": "execute_result"
    }
   ],
   "source": [
    "from keras.datasets import mnist\n",
    "import numpy as np \n",
    "import json\n",
    "from web3 import Web3\n",
    "import matplotlib.pyplot as plt\n",
    "ganache_url =\"http://127.0.0.1:8545\"\n",
    "web3 = Web3(Web3.HTTPProvider(ganache_url))\n",
    "web3.isConnected()"
   ]
  },
  {
   "cell_type": "code",
   "execution_count": 2,
   "id": "672b8d9b",
   "metadata": {},
   "outputs": [],
   "source": [
    "## Sigmoid contract"
   ]
  },
  {
   "cell_type": "code",
   "execution_count": 3,
   "id": "23eeecdb",
   "metadata": {},
   "outputs": [],
   "source": [
    "sig_abi = json.loads('[ { \"constant\": false, \"inputs\": [ { \"name\": \"x\", \"type\": \"int256\" }, { \"name\": \"y\", \"type\": \"int256\" }, { \"name\": \"a\", \"type\": \"uint256\" }, { \"name\": \"b\", \"type\": \"uint256\" } ], \"name\": \"sigmoid_act\", \"outputs\": [], \"payable\": false, \"stateMutability\": \"nonpayable\", \"type\": \"function\" }, { \"constant\": true, \"inputs\": [ { \"name\": \"x\", \"type\": \"int256\" }, { \"name\": \"y\", \"type\": \"int256\" } ], \"name\": \"div\", \"outputs\": [ { \"name\": \"\", \"type\": \"int256\" }, { \"name\": \"\", \"type\": \"int256\" } ], \"payable\": false, \"stateMutability\": \"view\", \"type\": \"function\" }, { \"constant\": true, \"inputs\": [], \"name\": \"sigprint\", \"outputs\": [ { \"name\": \"\", \"type\": \"uint256\" }, { \"name\": \"\", \"type\": \"uint256\" } ], \"payable\": false, \"stateMutability\": \"view\", \"type\": \"function\" } ]')\n",
    "sig_cont_address = \"0xA89f1b1B54ef9d9Cba6F9E6CC6a54ec1f9411E07\"\n",
    "sig_cont = web3.eth.contract(address=sig_cont_address,abi=sig_abi)"
   ]
  },
  {
   "cell_type": "code",
   "execution_count": 4,
   "id": "5e829c59",
   "metadata": {},
   "outputs": [],
   "source": [
    "## Softmax contract"
   ]
  },
  {
   "cell_type": "code",
   "execution_count": 5,
   "id": "233301c5",
   "metadata": {},
   "outputs": [],
   "source": [
    "soft_abi = json.loads('[ { \"constant\": false, \"inputs\": [], \"name\": \"del_arr\", \"outputs\": [], \"payable\": false, \"stateMutability\": \"nonpayable\", \"type\": \"function\" }, { \"constant\": true, \"inputs\": [], \"name\": \"set_sumexp\", \"outputs\": [ { \"name\": \"\", \"type\": \"uint256\" } ], \"payable\": false, \"stateMutability\": \"view\", \"type\": \"function\" }, { \"constant\": false, \"inputs\": [], \"name\": \"get_softmax\", \"outputs\": [], \"payable\": false, \"stateMutability\": \"nonpayable\", \"type\": \"function\" }, { \"constant\": false, \"inputs\": [ { \"name\": \"C\", \"type\": \"int256\" }, { \"name\": \"D\", \"type\": \"int256\" }, { \"name\": \"k\", \"type\": \"uint256\" }, { \"name\": \"j\", \"type\": \"uint256\" } ], \"name\": \"getexpon\", \"outputs\": [], \"payable\": false, \"stateMutability\": \"nonpayable\", \"type\": \"function\" }, { \"constant\": true, \"inputs\": [], \"name\": \"setexpon\", \"outputs\": [ { \"name\": \"\", \"type\": \"uint256\" } ], \"payable\": false, \"stateMutability\": \"view\", \"type\": \"function\" }, { \"constant\": true, \"inputs\": [], \"name\": \"set_softmax\", \"outputs\": [ { \"name\": \"\", \"type\": \"uint256[]\" }, { \"name\": \"\", \"type\": \"uint256[]\" } ], \"payable\": false, \"stateMutability\": \"view\", \"type\": \"function\" }, { \"constant\": false, \"inputs\": [], \"name\": \"sum_exp\", \"outputs\": [], \"payable\": false, \"stateMutability\": \"nonpayable\", \"type\": \"function\" }, { \"constant\": true, \"inputs\": [ { \"name\": \"\", \"type\": \"int256\" } ], \"name\": \"exp\", \"outputs\": [ { \"name\": \"\", \"type\": \"int256\" } ], \"payable\": false, \"stateMutability\": \"view\", \"type\": \"function\" }, { \"constant\": true, \"inputs\": [], \"name\": \"setallexpon\", \"outputs\": [ { \"name\": \"\", \"type\": \"uint256[]\" } ], \"payable\": false, \"stateMutability\": \"view\", \"type\": \"function\" } ]')\n",
    "soft_cont_address = \"0x40F15d9cFA51a80B4f5dfFCb9DD7eF80d7A78a53\"\n",
    "soft_cont = web3.eth.contract(address=soft_cont_address,abi=soft_abi)"
   ]
  },
  {
   "cell_type": "code",
   "execution_count": 6,
   "id": "6f6ea09c",
   "metadata": {},
   "outputs": [],
   "source": [
    "## NN-LayerContract"
   ]
  },
  {
   "cell_type": "code",
   "execution_count": 7,
   "id": "9b688b72",
   "metadata": {},
   "outputs": [],
   "source": [
    "nn_abi = json.loads('[ { \"constant\": true, \"inputs\": [], \"name\": \"print_l2\", \"outputs\": [ { \"name\": \"\", \"type\": \"int256\" }, { \"name\": \"\", \"type\": \"int256\" }, { \"name\": \"\", \"type\": \"int256\" }, { \"name\": \"\", \"type\": \"int256\" }, { \"name\": \"\", \"type\": \"int256\" }, { \"name\": \"\", \"type\": \"int256\" }, { \"name\": \"\", \"type\": \"int256\" }, { \"name\": \"\", \"type\": \"int256\" }, { \"name\": \"\", \"type\": \"int256\" }, { \"name\": \"\", \"type\": \"int256\" } ], \"payable\": false, \"stateMutability\": \"view\", \"type\": \"function\" }, { \"constant\": false, \"inputs\": [ { \"name\": \"l1_output\", \"type\": \"int256[]\" }, { \"name\": \"w1\", \"type\": \"int256[]\" }, { \"name\": \"w2\", \"type\": \"int256[]\" }, { \"name\": \"w3\", \"type\": \"int256[]\" }, { \"name\": \"w4\", \"type\": \"int256[]\" }, { \"name\": \"w5\", \"type\": \"int256[]\" }, { \"name\": \"w6\", \"type\": \"int256[]\" }, { \"name\": \"w7\", \"type\": \"int256[]\" }, { \"name\": \"w8\", \"type\": \"int256[]\" }, { \"name\": \"w9\", \"type\": \"int256[]\" }, { \"name\": \"w10\", \"type\": \"int256[]\" }, { \"name\": \"b2\", \"type\": \"int256[]\" } ], \"name\": \"multiply_layer2\", \"outputs\": [], \"payable\": false, \"stateMutability\": \"nonpayable\", \"type\": \"function\" }, { \"constant\": false, \"inputs\": [ { \"name\": \"x\", \"type\": \"int256[]\" }, { \"name\": \"w1\", \"type\": \"int256[]\" }, { \"name\": \"w2\", \"type\": \"int256[]\" }, { \"name\": \"w3\", \"type\": \"int256[]\" }, { \"name\": \"w4\", \"type\": \"int256[]\" }, { \"name\": \"b1\", \"type\": \"int256[]\" } ], \"name\": \"multiply_layer1\", \"outputs\": [], \"payable\": false, \"stateMutability\": \"nonpayable\", \"type\": \"function\" }, { \"constant\": true, \"inputs\": [], \"name\": \"print_l1\", \"outputs\": [ { \"name\": \"\", \"type\": \"int256\" }, { \"name\": \"\", \"type\": \"int256\" }, { \"name\": \"\", \"type\": \"int256\" }, { \"name\": \"\", \"type\": \"int256\" } ], \"payable\": false, \"stateMutability\": \"view\", \"type\": \"function\" } ]')\n",
    "nn_cont_address = \"0xA034099ce49B18A6281e0135A9348a5c6bAd96eC\"\n",
    "nn_cont = web3.eth.contract(address=nn_cont_address,abi=nn_abi)"
   ]
  },
  {
   "cell_type": "code",
   "execution_count": 8,
   "id": "fb8bc3a2",
   "metadata": {},
   "outputs": [],
   "source": [
    "# account1 = \"0x2C0c1D0dA7c537ad49b6AD3cdF0ed6db462446E9\"\n",
    "# private_key1=\"d2b80a53fd2b1a30ecbe14517a65c07858679034061f2d0d5f768518ed46a1b6\"\n",
    "# account2 = \"0x76b717F8b07365060131752EE08242C268CFd37B\"\n",
    "# private_key2=\"a3e852bd651cf3aa5f6d863e0727519140431ae912588b351ab5f7ee02e06cac\""
   ]
  },
  {
   "cell_type": "code",
   "execution_count": 9,
   "id": "aacd7296",
   "metadata": {},
   "outputs": [],
   "source": [
    "#grit\n",
    "account1 = \"0xdd617f9D5120b7b30E4C502fdd6b13dCf286A300\"\n",
    "private_key1=\"c00b36dc1777e7fda60ff1f55b57c3f51b18c0c16fe44724e451ed062a173d74\"\n",
    "account2 = \"0x8883f1016E727C8fE93C1Df471f102bBbAF2B910\"\n",
    "private_key2=\"8d70f54549b5fb7c04fc016cc88c447fc81aff3af3065c696aee1b529fbc8ba5\""
   ]
  },
  {
   "cell_type": "code",
   "execution_count": null,
   "id": "fbd04e1e",
   "metadata": {},
   "outputs": [],
   "source": []
  },
  {
   "cell_type": "code",
   "execution_count": 10,
   "id": "35838a0e",
   "metadata": {},
   "outputs": [],
   "source": [
    "def getlayer1(x,w11,w12,w13,w14,b1):\n",
    "    nonce = web3.eth.getTransactionCount(account1)\n",
    "    transaction = nn_cont.functions.multiply_layer1(\n",
    "        x,w11,w12,w13,w14,b1\n",
    "         ).buildTransaction({\n",
    "        'gas': 800000000,\n",
    "        'gasPrice': web3.toWei('1', 'gwei'),\n",
    "        'from': account1,\n",
    "        'nonce': nonce\n",
    "        }) \n",
    "    signed_txn = web3.eth.account.signTransaction(transaction, private_key=private_key1)\n",
    "    tx_hash = web3.eth.sendRawTransaction(signed_txn.rawTransaction)\n",
    "    tx_receipt = web3.eth.waitForTransactionReceipt(tx_hash,timeout=300)\n",
    "    return tx_receipt.gasUsed\n",
    "\n",
    "\n",
    "def getlayer2(l1,w21,w22,w23,w24,w25,w26,w27,w28,w29,w30,b2):\n",
    "    nonce = web3.eth.getTransactionCount(account1)\n",
    "    transaction = nn_cont.functions.multiply_layer2(\n",
    "        l1,w21,w22,w23,w24,w25,w26,w27,w28,w29,w30,b2\n",
    "         ).buildTransaction({\n",
    "        'gas': 8700000,\n",
    "        'gasPrice': web3.toWei('1', 'gwei'),\n",
    "        'from': account1,\n",
    "        'nonce': nonce\n",
    "        }) \n",
    "    signed_txn = web3.eth.account.signTransaction(transaction, private_key=private_key1)\n",
    "    tx_hash = web3.eth.sendRawTransaction(signed_txn.rawTransaction)\n",
    "    tx_receipt = web3.eth.waitForTransactionReceipt(tx_hash,timeout=300)\n",
    "    return tx_receipt.gasUsed\n",
    "\n",
    "\n",
    "def sigfrac(x,y,a,b):\n",
    "    nonce = web3.eth.getTransactionCount(account1)\n",
    "    transaction = sig_cont.functions.sigmoid_act(\n",
    "        x,y,a,b\n",
    "         ).buildTransaction({\n",
    "        'gas': 100000,\n",
    "        'gasPrice': web3.toWei('10', 'gwei'),\n",
    "        'from': account1,\n",
    "        'nonce': nonce\n",
    "        }) \n",
    "    signed_txn = web3.eth.account.signTransaction(transaction, private_key=private_key1)\n",
    "    tx_hash = web3.eth.sendRawTransaction(signed_txn.rawTransaction)\n",
    "    tx_receipt = web3.eth.waitForTransactionReceipt(tx_hash)\n",
    "    return tx_receipt.gasUsed\n",
    "\n",
    "def getexpon(a,b,c,d):\n",
    "    nonce = web3.eth.getTransactionCount(account1)\n",
    "    transaction = soft_cont.functions.getexpon(\n",
    "        a,b,c,d\n",
    "         ).buildTransaction({\n",
    "        'gas': 3000000,\n",
    "        'gasPrice': web3.toWei('10', 'gwei'),\n",
    "        'from': account1,\n",
    "        'nonce': nonce\n",
    "        }) \n",
    "    signed_txn = web3.eth.account.signTransaction(transaction, private_key=private_key1)\n",
    "    tx_hash = web3.eth.sendRawTransaction(signed_txn.rawTransaction)\n",
    "    tx_receipt = web3.eth.waitForTransactionReceipt(tx_hash)\n",
    "    return tx_receipt.gasUsed\n",
    "\n",
    "def getsumexpon():\n",
    "    nonce = web3.eth.getTransactionCount(account1)\n",
    "    transaction = soft_cont.functions.sum_exp(\n",
    "         ).buildTransaction({\n",
    "        'gas': 3000000,\n",
    "        'gasPrice': web3.toWei('1', 'gwei'),\n",
    "        'from': account1,\n",
    "        'nonce': nonce\n",
    "        }) \n",
    "    signed_txn = web3.eth.account.signTransaction(transaction, private_key=private_key1)\n",
    "    tx_hash = web3.eth.sendRawTransaction(signed_txn.rawTransaction)\n",
    "    tx_receipt = web3.eth.waitForTransactionReceipt(tx_hash)\n",
    "    return tx_receipt.gasUsed\n",
    "\n",
    "def getsoftmax():\n",
    "    nonce = web3.eth.getTransactionCount(account1)\n",
    "    transaction = soft_cont.functions.get_softmax(\n",
    "         ).buildTransaction({\n",
    "        'gas': 3000000,\n",
    "        'gasPrice': web3.toWei('10', 'gwei'),\n",
    "        'from': account1,\n",
    "        'nonce': nonce\n",
    "        }) \n",
    "    signed_txn = web3.eth.account.signTransaction(transaction, private_key=private_key1)\n",
    "    tx_hash = web3.eth.sendRawTransaction(signed_txn.rawTransaction)\n",
    "    tx_receipt = web3.eth.waitForTransactionReceipt(tx_hash)\n",
    "    return tx_receipt.gasUsed"
   ]
  },
  {
   "cell_type": "code",
   "execution_count": 11,
   "id": "a9a1cbfc",
   "metadata": {},
   "outputs": [
    {
     "name": "stdout",
     "output_type": "stream",
     "text": [
      "[1798135, -1043560, -2615846, 1134640]\n",
      "[-41, 5, -11, -8, 33, 2, -16, 10, 10, 32]\n",
      "value of sigmoid is: 1.0\n",
      "[[0, 0, 23558331, 0, 9420585631, 0, 1, 35488624655893883195338, 0, 511328671423], [35488624656414656010724, 35488624656414656010724, 35488624656414656010724, 35488624656414656010724, 35488624656414656010724, 35488624656414656010724, 35488624656414656010724, 35488624656414656010724, 35488624656414656010724, 35488624656414656010724]]\n"
     ]
    }
   ],
   "source": [
    "print(nn_cont.functions.print_l1().call())\n",
    "print(nn_cont.functions.print_l2().call())\n",
    "n, d = sig_cont.functions.sigprint().call()\n",
    "print(\"value of sigmoid is:\", n/d)\n",
    "print(soft_cont.functions.set_softmax().call())"
   ]
  },
  {
   "cell_type": "code",
   "execution_count": 12,
   "id": "administrative-appreciation",
   "metadata": {},
   "outputs": [],
   "source": [
    "\n",
    "(x_train, y_train), (x_test, y_test) = mnist.load_data()"
   ]
  },
  {
   "cell_type": "code",
   "execution_count": 13,
   "id": "pacific-floor",
   "metadata": {},
   "outputs": [
    {
     "name": "stdout",
     "output_type": "stream",
     "text": [
      "Training data shape:  (60000, 28, 28)\n",
      "Test data shape (10000, 28, 28)\n"
     ]
    }
   ],
   "source": [
    "\n",
    "from keras.datasets import mnist\n",
    "\n",
    "# Setup train and test splits\n",
    "(x_train, y_train), (x_test, y_test) = mnist.load_data()\n",
    "print(\"Training data shape: \", x_train.shape) # (60000, 28, 28) -- 60000 images, each 28x28 pixels\n",
    "print(\"Test data shape\", x_test.shape) # (10000, 28, 28) -- 10000 images, each 28x28\n",
    "\n",
    "# Flatten the images\n",
    "image_vector_size = 28*28\n",
    "x_train = x_train.reshape(x_train.shape[0], image_vector_size)\n",
    "x_test = x_test.reshape(x_test.shape[0], image_vector_size)\n",
    "y_orig_test = y_test"
   ]
  },
  {
   "cell_type": "code",
   "execution_count": null,
   "id": "laughing-violin",
   "metadata": {},
   "outputs": [],
   "source": []
  },
  {
   "cell_type": "code",
   "execution_count": 14,
   "id": "overhead-collectible",
   "metadata": {},
   "outputs": [
    {
     "name": "stdout",
     "output_type": "stream",
     "text": [
      "First 5 training lables as one-hot encoded vectors:\n",
      " [[0. 0. 0. 0. 0. 1. 0. 0. 0. 0.]\n",
      " [1. 0. 0. 0. 0. 0. 0. 0. 0. 0.]\n",
      " [0. 0. 0. 0. 1. 0. 0. 0. 0. 0.]\n",
      " [0. 1. 0. 0. 0. 0. 0. 0. 0. 0.]\n",
      " [0. 0. 0. 0. 0. 0. 0. 0. 0. 1.]]\n"
     ]
    },
    {
     "data": {
      "text/plain": [
       "'\\n[[0, 0, 0, 0, 0, 1, 0, 0, 0, 0]\\n [1, 0, 0, 0, 0, 0, 0, 0, 0, 0]\\n [0, 0, 0, 0, 1, 0, 0, 0, 0, 0]\\n [0, 1, 0, 0, 0, 0, 0, 0, 0, 0]\\n [0, 0, 0, 0, 0, 0, 0, 0, 0, 1]]\\n'"
      ]
     },
     "execution_count": 14,
     "metadata": {},
     "output_type": "execute_result"
    }
   ],
   "source": [
    "from tensorflow import keras\n",
    "from keras.datasets import mnist\n",
    "from keras import utils as np_utils\n",
    "\n",
    "# Setup train and test splits\n",
    "# (x_train, y_train), (x_test, y_test) = mnist.load_data()\n",
    "# print(\"Training label shape: \", y_train.shape) # (60000,) -- 60000 numbers (all 0-9)\n",
    "# print(\"First 5 training labels: \", y_train[:5]) # [5, 0, 4, 1, 9]\n",
    "\n",
    "# Convert to \"one-hot\" vectors using the to_categorical function\n",
    "num_classes = 10\n",
    "y_train = keras.utils.to_categorical(y_train, num_classes)\n",
    "y_test = keras.utils.to_categorical(y_test, num_classes)\n",
    "print(\"First 5 training lables as one-hot encoded vectors:\\n\", y_train[:5])\n",
    "\n",
    "# This is the one-hot version of: [5, 0, 4, 1, 9]\n",
    "\"\"\"\n",
    "[[0, 0, 0, 0, 0, 1, 0, 0, 0, 0]\n",
    " [1, 0, 0, 0, 0, 0, 0, 0, 0, 0]\n",
    " [0, 0, 0, 0, 1, 0, 0, 0, 0, 0]\n",
    " [0, 1, 0, 0, 0, 0, 0, 0, 0, 0]\n",
    " [0, 0, 0, 0, 0, 0, 0, 0, 0, 1]]\n",
    "\"\"\""
   ]
  },
  {
   "cell_type": "code",
   "execution_count": 15,
   "id": "applicable-influence",
   "metadata": {},
   "outputs": [
    {
     "name": "stdout",
     "output_type": "stream",
     "text": [
      "Model: \"sequential\"\n",
      "_________________________________________________________________\n",
      " Layer (type)                Output Shape              Param #   \n",
      "=================================================================\n",
      " dense (Dense)               (None, 8)                 6280      \n",
      "                                                                 \n",
      " dense_1 (Dense)             (None, 10)                90        \n",
      "                                                                 \n",
      "=================================================================\n",
      "Total params: 6,370\n",
      "Trainable params: 6,370\n",
      "Non-trainable params: 0\n",
      "_________________________________________________________________\n"
     ]
    },
    {
     "name": "stderr",
     "output_type": "stream",
     "text": [
      "2022-04-15 19:15:56.536312: I tensorflow/core/platform/cpu_feature_guard.cc:151] This TensorFlow binary is optimized with oneAPI Deep Neural Network Library (oneDNN) to use the following CPU instructions in performance-critical operations:  AVX2 FMA\n",
      "To enable them in other operations, rebuild TensorFlow with the appropriate compiler flags.\n"
     ]
    }
   ],
   "source": [
    "import matplotlib.pyplot as plt \n",
    "from keras.layers import Dense # Dense layers are \"fully connected\" layers\n",
    "from keras.models import Sequential # Documentation: https://keras.io/models/sequential/\n",
    "\n",
    "image_size = 784 # 28*28\n",
    "num_classes = 10 # ten unique digits\n",
    "\n",
    "model = Sequential()\n",
    "\n",
    "# The input layer requires the special input_shape parameter which should match\n",
    "# the shape of our training data.\n",
    "model.add(Dense(units=8, activation='sigmoid', input_shape=(image_size,)))\n",
    "model.add(Dense(units=num_classes, activation='softmax'))\n",
    "model.summary()"
   ]
  },
  {
   "cell_type": "code",
   "execution_count": 16,
   "id": "forbidden-interpretation",
   "metadata": {},
   "outputs": [
    {
     "name": "stdout",
     "output_type": "stream",
     "text": [
      "Epoch 1/100\n",
      "422/422 [==============================] - 1s 2ms/step - loss: 1.8152 - acc: 0.4973 - val_loss: 1.5953 - val_acc: 0.6812\n",
      "Epoch 2/100\n",
      "422/422 [==============================] - 1s 2ms/step - loss: 1.5140 - acc: 0.6682 - val_loss: 1.3808 - val_acc: 0.7410\n",
      "Epoch 3/100\n",
      "422/422 [==============================] - 1s 2ms/step - loss: 1.3441 - acc: 0.7228 - val_loss: 1.2394 - val_acc: 0.7587\n",
      "Epoch 4/100\n",
      "422/422 [==============================] - 1s 2ms/step - loss: 1.2193 - acc: 0.7493 - val_loss: 1.1316 - val_acc: 0.7988\n",
      "Epoch 5/100\n",
      "422/422 [==============================] - 1s 2ms/step - loss: 1.1134 - acc: 0.7721 - val_loss: 1.0293 - val_acc: 0.8068\n",
      "Epoch 6/100\n",
      "422/422 [==============================] - 1s 2ms/step - loss: 1.0320 - acc: 0.7784 - val_loss: 0.9436 - val_acc: 0.8003\n",
      "Epoch 7/100\n",
      "422/422 [==============================] - 1s 2ms/step - loss: 0.9645 - acc: 0.7833 - val_loss: 0.8886 - val_acc: 0.8145\n",
      "Epoch 8/100\n",
      "422/422 [==============================] - 1s 2ms/step - loss: 0.9140 - acc: 0.7921 - val_loss: 0.8365 - val_acc: 0.8255\n",
      "Epoch 9/100\n",
      "422/422 [==============================] - 1s 2ms/step - loss: 0.8710 - acc: 0.7953 - val_loss: 0.7996 - val_acc: 0.8100\n",
      "Epoch 10/100\n",
      "422/422 [==============================] - 1s 2ms/step - loss: 0.8308 - acc: 0.8011 - val_loss: 0.7553 - val_acc: 0.8237\n",
      "Epoch 11/100\n",
      "422/422 [==============================] - 1s 2ms/step - loss: 0.8041 - acc: 0.7998 - val_loss: 0.7205 - val_acc: 0.8363\n",
      "Epoch 12/100\n",
      "422/422 [==============================] - 1s 2ms/step - loss: 0.7792 - acc: 0.8041 - val_loss: 0.7080 - val_acc: 0.8407\n",
      "Epoch 13/100\n",
      "422/422 [==============================] - 1s 2ms/step - loss: 0.7533 - acc: 0.8119 - val_loss: 0.6670 - val_acc: 0.8437\n",
      "Epoch 14/100\n",
      "422/422 [==============================] - 1s 2ms/step - loss: 0.7275 - acc: 0.8207 - val_loss: 0.6568 - val_acc: 0.8425\n",
      "Epoch 15/100\n",
      "422/422 [==============================] - 1s 2ms/step - loss: 0.7192 - acc: 0.8169 - val_loss: 0.6252 - val_acc: 0.8573\n",
      "Epoch 16/100\n",
      "422/422 [==============================] - 1s 2ms/step - loss: 0.7020 - acc: 0.8203 - val_loss: 0.6681 - val_acc: 0.8147\n",
      "Epoch 17/100\n",
      "422/422 [==============================] - 1s 2ms/step - loss: 0.6921 - acc: 0.8249 - val_loss: 0.6493 - val_acc: 0.8428\n",
      "Epoch 18/100\n",
      "422/422 [==============================] - 1s 2ms/step - loss: 0.6717 - acc: 0.8258 - val_loss: 0.6058 - val_acc: 0.8447\n",
      "Epoch 19/100\n",
      "422/422 [==============================] - 1s 2ms/step - loss: 0.6562 - acc: 0.8266 - val_loss: 0.5861 - val_acc: 0.8505\n",
      "Epoch 20/100\n",
      "422/422 [==============================] - 1s 2ms/step - loss: 0.6548 - acc: 0.8208 - val_loss: 0.5907 - val_acc: 0.8470\n",
      "Epoch 21/100\n",
      "422/422 [==============================] - 1s 2ms/step - loss: 0.6396 - acc: 0.8262 - val_loss: 0.5573 - val_acc: 0.8567\n",
      "Epoch 22/100\n",
      "422/422 [==============================] - 1s 2ms/step - loss: 0.6334 - acc: 0.8271 - val_loss: 0.5509 - val_acc: 0.8555\n",
      "Epoch 23/100\n",
      "422/422 [==============================] - 1s 2ms/step - loss: 0.6284 - acc: 0.8276 - val_loss: 0.5704 - val_acc: 0.8477\n",
      "Epoch 24/100\n",
      "422/422 [==============================] - 1s 2ms/step - loss: 0.6105 - acc: 0.8345 - val_loss: 0.5553 - val_acc: 0.8582\n",
      "Epoch 25/100\n",
      "422/422 [==============================] - 1s 2ms/step - loss: 0.6060 - acc: 0.8336 - val_loss: 0.5349 - val_acc: 0.8517\n",
      "Epoch 26/100\n",
      "422/422 [==============================] - 1s 2ms/step - loss: 0.5991 - acc: 0.8358 - val_loss: 0.5369 - val_acc: 0.8573\n",
      "Epoch 27/100\n",
      "422/422 [==============================] - 1s 2ms/step - loss: 0.6073 - acc: 0.8290 - val_loss: 0.5116 - val_acc: 0.8613\n",
      "Epoch 28/100\n",
      "422/422 [==============================] - 1s 2ms/step - loss: 0.5983 - acc: 0.8291 - val_loss: 0.5245 - val_acc: 0.8538\n",
      "Epoch 29/100\n",
      "422/422 [==============================] - 1s 2ms/step - loss: 0.5909 - acc: 0.8339 - val_loss: 0.5451 - val_acc: 0.8463\n",
      "Epoch 30/100\n",
      "422/422 [==============================] - 1s 2ms/step - loss: 0.5795 - acc: 0.8362 - val_loss: 0.5197 - val_acc: 0.8617\n",
      "Epoch 31/100\n",
      "422/422 [==============================] - 1s 2ms/step - loss: 0.5678 - acc: 0.8439 - val_loss: 0.4960 - val_acc: 0.8678\n",
      "Epoch 32/100\n",
      "422/422 [==============================] - 1s 2ms/step - loss: 0.5679 - acc: 0.8454 - val_loss: 0.4837 - val_acc: 0.8765\n",
      "Epoch 33/100\n",
      "422/422 [==============================] - 1s 2ms/step - loss: 0.5669 - acc: 0.8424 - val_loss: 0.4933 - val_acc: 0.8727\n",
      "Epoch 34/100\n",
      "422/422 [==============================] - 1s 2ms/step - loss: 0.5638 - acc: 0.8414 - val_loss: 0.5166 - val_acc: 0.8635\n",
      "Epoch 35/100\n",
      "422/422 [==============================] - 1s 2ms/step - loss: 0.5566 - acc: 0.8466 - val_loss: 0.4929 - val_acc: 0.8597\n",
      "Epoch 36/100\n",
      "422/422 [==============================] - 1s 2ms/step - loss: 0.5574 - acc: 0.8459 - val_loss: 0.4870 - val_acc: 0.8685\n",
      "Epoch 37/100\n",
      "422/422 [==============================] - 1s 2ms/step - loss: 0.5550 - acc: 0.8447 - val_loss: 0.4748 - val_acc: 0.8720\n",
      "Epoch 38/100\n",
      "422/422 [==============================] - 1s 2ms/step - loss: 0.5522 - acc: 0.8484 - val_loss: 0.4750 - val_acc: 0.8725\n",
      "Epoch 39/100\n",
      "422/422 [==============================] - 1s 2ms/step - loss: 0.5458 - acc: 0.8501 - val_loss: 0.4671 - val_acc: 0.8790\n",
      "Epoch 40/100\n",
      "422/422 [==============================] - 1s 2ms/step - loss: 0.5399 - acc: 0.8526 - val_loss: 0.4877 - val_acc: 0.8683\n",
      "Epoch 41/100\n",
      "422/422 [==============================] - 1s 2ms/step - loss: 0.5361 - acc: 0.8493 - val_loss: 0.4842 - val_acc: 0.8643\n",
      "Epoch 42/100\n",
      "422/422 [==============================] - 1s 2ms/step - loss: 0.5347 - acc: 0.8522 - val_loss: 0.4655 - val_acc: 0.8705\n",
      "Epoch 43/100\n",
      "422/422 [==============================] - 1s 2ms/step - loss: 0.5323 - acc: 0.8506 - val_loss: 0.4690 - val_acc: 0.8693\n",
      "Epoch 44/100\n",
      "422/422 [==============================] - 1s 2ms/step - loss: 0.5381 - acc: 0.8490 - val_loss: 0.4862 - val_acc: 0.8658\n",
      "Epoch 45/100\n",
      "422/422 [==============================] - 1s 2ms/step - loss: 0.5349 - acc: 0.8461 - val_loss: 0.4943 - val_acc: 0.8652\n",
      "Epoch 46/100\n",
      "422/422 [==============================] - 1s 2ms/step - loss: 0.5313 - acc: 0.8513 - val_loss: 0.4815 - val_acc: 0.8725\n",
      "Epoch 47/100\n",
      "422/422 [==============================] - 1s 2ms/step - loss: 0.5346 - acc: 0.8508 - val_loss: 0.4604 - val_acc: 0.8727\n",
      "Epoch 48/100\n",
      "422/422 [==============================] - 1s 2ms/step - loss: 0.5224 - acc: 0.8534 - val_loss: 0.4588 - val_acc: 0.8748\n",
      "Epoch 49/100\n",
      "422/422 [==============================] - 1s 2ms/step - loss: 0.5249 - acc: 0.8494 - val_loss: 0.4917 - val_acc: 0.8558\n",
      "Epoch 50/100\n",
      "422/422 [==============================] - 1s 2ms/step - loss: 0.5311 - acc: 0.8476 - val_loss: 0.4768 - val_acc: 0.8643\n",
      "Epoch 51/100\n",
      "422/422 [==============================] - 1s 2ms/step - loss: 0.5306 - acc: 0.8462 - val_loss: 0.4955 - val_acc: 0.8648\n",
      "Epoch 52/100\n",
      "422/422 [==============================] - 1s 2ms/step - loss: 0.5248 - acc: 0.8506 - val_loss: 0.4578 - val_acc: 0.8715\n",
      "Epoch 53/100\n",
      "422/422 [==============================] - 1s 2ms/step - loss: 0.5186 - acc: 0.8571 - val_loss: 0.4543 - val_acc: 0.8753\n",
      "Epoch 54/100\n",
      "422/422 [==============================] - 1s 2ms/step - loss: 0.5127 - acc: 0.8539 - val_loss: 0.4559 - val_acc: 0.8818\n",
      "Epoch 55/100\n",
      "422/422 [==============================] - 1s 2ms/step - loss: 0.5154 - acc: 0.8530 - val_loss: 0.4326 - val_acc: 0.8865\n",
      "Epoch 56/100\n",
      "422/422 [==============================] - 1s 2ms/step - loss: 0.5101 - acc: 0.8569 - val_loss: 0.4596 - val_acc: 0.8688\n",
      "Epoch 57/100\n",
      "422/422 [==============================] - 1s 2ms/step - loss: 0.5164 - acc: 0.8526 - val_loss: 0.5074 - val_acc: 0.8397\n",
      "Epoch 58/100\n",
      "422/422 [==============================] - 1s 2ms/step - loss: 0.5123 - acc: 0.8519 - val_loss: 0.4396 - val_acc: 0.8825\n",
      "Epoch 59/100\n",
      "422/422 [==============================] - 1s 2ms/step - loss: 0.5087 - acc: 0.8569 - val_loss: 0.4484 - val_acc: 0.8752\n",
      "Epoch 60/100\n",
      "422/422 [==============================] - 1s 2ms/step - loss: 0.5107 - acc: 0.8558 - val_loss: 0.4459 - val_acc: 0.8788\n",
      "Epoch 61/100\n",
      "422/422 [==============================] - 1s 2ms/step - loss: 0.5061 - acc: 0.8582 - val_loss: 0.4361 - val_acc: 0.8785\n",
      "Epoch 62/100\n"
     ]
    },
    {
     "name": "stdout",
     "output_type": "stream",
     "text": [
      "422/422 [==============================] - 1s 2ms/step - loss: 0.5129 - acc: 0.8519 - val_loss: 0.4269 - val_acc: 0.8858\n",
      "Epoch 63/100\n",
      "422/422 [==============================] - 1s 2ms/step - loss: 0.5013 - acc: 0.8554 - val_loss: 0.4442 - val_acc: 0.8753\n",
      "Epoch 64/100\n",
      "422/422 [==============================] - 1s 2ms/step - loss: 0.5002 - acc: 0.8544 - val_loss: 0.4207 - val_acc: 0.8838\n",
      "Epoch 65/100\n",
      "422/422 [==============================] - 1s 2ms/step - loss: 0.4914 - acc: 0.8626 - val_loss: 0.4239 - val_acc: 0.8858\n",
      "Epoch 66/100\n",
      "422/422 [==============================] - 1s 2ms/step - loss: 0.5015 - acc: 0.8601 - val_loss: 0.4316 - val_acc: 0.8883\n",
      "Epoch 67/100\n",
      "422/422 [==============================] - 1s 2ms/step - loss: 0.4895 - acc: 0.8631 - val_loss: 0.4399 - val_acc: 0.8788\n",
      "Epoch 68/100\n",
      "422/422 [==============================] - 1s 2ms/step - loss: 0.5039 - acc: 0.8571 - val_loss: 0.4540 - val_acc: 0.8680\n",
      "Epoch 69/100\n",
      "422/422 [==============================] - 1s 2ms/step - loss: 0.4906 - acc: 0.8623 - val_loss: 0.4483 - val_acc: 0.8792\n",
      "Epoch 70/100\n",
      "422/422 [==============================] - 1s 2ms/step - loss: 0.4948 - acc: 0.8612 - val_loss: 0.4316 - val_acc: 0.8842\n",
      "Epoch 71/100\n",
      "422/422 [==============================] - 1s 2ms/step - loss: 0.4946 - acc: 0.8608 - val_loss: 0.4299 - val_acc: 0.8910\n",
      "Epoch 72/100\n",
      "422/422 [==============================] - 1s 2ms/step - loss: 0.4907 - acc: 0.8635 - val_loss: 0.4277 - val_acc: 0.8872\n",
      "Epoch 73/100\n",
      "422/422 [==============================] - 1s 2ms/step - loss: 0.4919 - acc: 0.8617 - val_loss: 0.4230 - val_acc: 0.8893\n",
      "Epoch 74/100\n",
      "422/422 [==============================] - 1s 2ms/step - loss: 0.4892 - acc: 0.8613 - val_loss: 0.4250 - val_acc: 0.8832\n",
      "Epoch 75/100\n",
      "422/422 [==============================] - 1s 2ms/step - loss: 0.4898 - acc: 0.8595 - val_loss: 0.4205 - val_acc: 0.8815\n",
      "Epoch 76/100\n",
      "422/422 [==============================] - 1s 2ms/step - loss: 0.4884 - acc: 0.8616 - val_loss: 0.4351 - val_acc: 0.8805\n",
      "Epoch 77/100\n",
      "422/422 [==============================] - 1s 2ms/step - loss: 0.4935 - acc: 0.8589 - val_loss: 0.4327 - val_acc: 0.8845\n",
      "Epoch 78/100\n",
      "422/422 [==============================] - 1s 2ms/step - loss: 0.4871 - acc: 0.8667 - val_loss: 0.4301 - val_acc: 0.8848\n",
      "Epoch 79/100\n",
      "422/422 [==============================] - 1s 2ms/step - loss: 0.4853 - acc: 0.8651 - val_loss: 0.4347 - val_acc: 0.8775\n",
      "Epoch 80/100\n",
      "422/422 [==============================] - 1s 2ms/step - loss: 0.4924 - acc: 0.8596 - val_loss: 0.4487 - val_acc: 0.8808\n",
      "Epoch 81/100\n",
      "422/422 [==============================] - 1s 2ms/step - loss: 0.4907 - acc: 0.8595 - val_loss: 0.4277 - val_acc: 0.8767\n",
      "Epoch 82/100\n",
      "422/422 [==============================] - 1s 2ms/step - loss: 0.4842 - acc: 0.8619 - val_loss: 0.4201 - val_acc: 0.8820\n",
      "Epoch 83/100\n",
      "422/422 [==============================] - 1s 2ms/step - loss: 0.4842 - acc: 0.8601 - val_loss: 0.4182 - val_acc: 0.8890\n",
      "Epoch 84/100\n",
      "422/422 [==============================] - 1s 2ms/step - loss: 0.4785 - acc: 0.8663 - val_loss: 0.4134 - val_acc: 0.8827\n",
      "Epoch 85/100\n",
      "422/422 [==============================] - 1s 2ms/step - loss: 0.4743 - acc: 0.8662 - val_loss: 0.4228 - val_acc: 0.8813\n",
      "Epoch 86/100\n",
      "422/422 [==============================] - 1s 2ms/step - loss: 0.4817 - acc: 0.8637 - val_loss: 0.4174 - val_acc: 0.8850\n",
      "Epoch 87/100\n",
      "422/422 [==============================] - 1s 2ms/step - loss: 0.4898 - acc: 0.8630 - val_loss: 0.4238 - val_acc: 0.8830\n",
      "Epoch 88/100\n",
      "422/422 [==============================] - 1s 2ms/step - loss: 0.4866 - acc: 0.8627 - val_loss: 0.4466 - val_acc: 0.8657\n",
      "Epoch 89/100\n",
      "422/422 [==============================] - 1s 2ms/step - loss: 0.4845 - acc: 0.8624 - val_loss: 0.4185 - val_acc: 0.8857\n",
      "Epoch 90/100\n",
      "422/422 [==============================] - 1s 2ms/step - loss: 0.4737 - acc: 0.8666 - val_loss: 0.4259 - val_acc: 0.8798\n",
      "Epoch 91/100\n",
      "422/422 [==============================] - 1s 2ms/step - loss: 0.4802 - acc: 0.8634 - val_loss: 0.4152 - val_acc: 0.8832\n",
      "Epoch 92/100\n",
      "422/422 [==============================] - 1s 2ms/step - loss: 0.4772 - acc: 0.8648 - val_loss: 0.4181 - val_acc: 0.8855\n",
      "Epoch 93/100\n",
      "422/422 [==============================] - 1s 2ms/step - loss: 0.4742 - acc: 0.8634 - val_loss: 0.4259 - val_acc: 0.8787\n",
      "Epoch 94/100\n",
      "422/422 [==============================] - 1s 2ms/step - loss: 0.4900 - acc: 0.8580 - val_loss: 0.4312 - val_acc: 0.8772\n",
      "Epoch 95/100\n",
      "422/422 [==============================] - 1s 2ms/step - loss: 0.4775 - acc: 0.8634 - val_loss: 0.4140 - val_acc: 0.8868\n",
      "Epoch 96/100\n",
      "422/422 [==============================] - 1s 2ms/step - loss: 0.4677 - acc: 0.8691 - val_loss: 0.3971 - val_acc: 0.8927\n",
      "Epoch 97/100\n",
      "422/422 [==============================] - 1s 2ms/step - loss: 0.4669 - acc: 0.8699 - val_loss: 0.4099 - val_acc: 0.8880\n",
      "Epoch 98/100\n",
      "422/422 [==============================] - 1s 2ms/step - loss: 0.4626 - acc: 0.8709 - val_loss: 0.4075 - val_acc: 0.8867\n",
      "Epoch 99/100\n",
      "422/422 [==============================] - 1s 2ms/step - loss: 0.4693 - acc: 0.8698 - val_loss: 0.4020 - val_acc: 0.8925\n",
      "Epoch 100/100\n",
      "422/422 [==============================] - 1s 2ms/step - loss: 0.4878 - acc: 0.8629 - val_loss: 0.4159 - val_acc: 0.8910\n"
     ]
    },
    {
     "data": {
      "image/png": "[encoded data removed]",
      "text/plain": [
       "<Figure size 432x288 with 1 Axes>"
      ]
     },
     "metadata": {
      "needs_background": "light"
     },
     "output_type": "display_data"
    },
    {
     "name": "stdout",
     "output_type": "stream",
     "text": [
      "Test loss: 0.491\n",
      "Test accuracy: 0.868\n"
     ]
    }
   ],
   "source": [
    "model.compile(optimizer=\"sgd\", loss='categorical_crossentropy', metrics=[\"acc\"])\n",
    "history = model.fit(x_train, y_train, batch_size=128, epochs=100, verbose=True, validation_split=.1)\n",
    "loss, accuracy  = model.evaluate(x_test, y_test, verbose=False)\n",
    "\n",
    "plt.plot(history.history['acc'])\n",
    "plt.plot(history.history['val_acc'])\n",
    "plt.title('model accuracy')\n",
    "plt.ylabel('accuracy')\n",
    "plt.xlabel('epoch')\n",
    "plt.legend(['training', 'validation'], loc='best')\n",
    "plt.show()\n",
    "\n",
    "print(f'Test loss: {loss:.3}')\n",
    "print(f'Test accuracy: {accuracy:.3}')"
   ]
  },
  {
   "cell_type": "code",
   "execution_count": 17,
   "id": "primary-missouri",
   "metadata": {},
   "outputs": [],
   "source": [
    "first_layer_weights = model.layers[0].get_weights()[0]\n",
    "first_layer_biases  = model.layers[0].get_weights()[1]\n",
    "second_layer_weights = model.layers[1].get_weights()[0]\n",
    "second_layer_biases  = model.layers[1].get_weights()[1]"
   ]
  },
  {
   "cell_type": "code",
   "execution_count": 18,
   "id": "b78bfe5c",
   "metadata": {},
   "outputs": [
    {
     "data": {
      "text/plain": [
       "array([-0.00079743, -0.00534785,  0.00614052,  0.00504828, -0.00345586,\n",
       "       -0.00277898,  0.00473655, -0.00240046], dtype=float32)"
      ]
     },
     "execution_count": 18,
     "metadata": {},
     "output_type": "execute_result"
    }
   ],
   "source": [
    "model.layers[0].get_weights()[1]"
   ]
  },
  {
   "cell_type": "code",
   "execution_count": 19,
   "id": "29f76185",
   "metadata": {},
   "outputs": [
    {
     "data": {
      "text/plain": [
       "array([ 0.23346059, -1.2188152 ,  0.19970933,  0.2983388 ,  0.19153804,\n",
       "        0.11334501, -0.45825273, -0.3669184 ,  0.09870514,  0.9088893 ],\n",
       "      dtype=float32)"
      ]
     },
     "execution_count": 19,
     "metadata": {},
     "output_type": "execute_result"
    }
   ],
   "source": [
    "model.layers[1].get_weights()[1]"
   ]
  },
  {
   "cell_type": "code",
   "execution_count": 20,
   "id": "silent-queue",
   "metadata": {},
   "outputs": [],
   "source": [
    "fw = (first_layer_weights*1000).astype(int)\n",
    "sw = (second_layer_weights*10).astype(int) \n",
    "fb = (first_layer_biases*10).astype(int)  \n",
    "sb = (second_layer_biases*10).astype(int)"
   ]
  },
  {
   "cell_type": "code",
   "execution_count": 21,
   "id": "sublime-latin",
   "metadata": {},
   "outputs": [],
   "source": [
    "# fw = first_layer_weights\n",
    "# sw = second_layer_weights\n",
    "# fb = first_layer_biases \n",
    "# sb = second_layer_biases"
   ]
  },
  {
   "cell_type": "code",
   "execution_count": 22,
   "id": "d5daf78f",
   "metadata": {},
   "outputs": [
    {
     "data": {
      "text/plain": [
       "array([0, 0, 0, 0, 0, 0, 0, 0])"
      ]
     },
     "execution_count": 22,
     "metadata": {},
     "output_type": "execute_result"
    }
   ],
   "source": [
    "fb"
   ]
  },
  {
   "cell_type": "code",
   "execution_count": 23,
   "id": "indie-browse",
   "metadata": {},
   "outputs": [
    {
     "data": {
      "text/plain": [
       "(784, 8)"
      ]
     },
     "execution_count": 23,
     "metadata": {},
     "output_type": "execute_result"
    }
   ],
   "source": [
    "fw.shape"
   ]
  },
  {
   "cell_type": "code",
   "execution_count": 24,
   "id": "variable-luxury",
   "metadata": {},
   "outputs": [
    {
     "data": {
      "text/plain": [
       "(8, 10)"
      ]
     },
     "execution_count": 24,
     "metadata": {},
     "output_type": "execute_result"
    }
   ],
   "source": [
    "sw.shape"
   ]
  },
  {
   "cell_type": "code",
   "execution_count": 25,
   "id": "graphic-basement",
   "metadata": {},
   "outputs": [
    {
     "data": {
      "text/plain": [
       "array([[-41, -53,  35, ...,  83, -81,  39],\n",
       "       [-70, -37,  15, ...,  66, -22, -74],\n",
       "       [-44, -22,  80, ...,  19,  53, -20],\n",
       "       ...,\n",
       "       [ 33, -52,   7, ...,  66,  64,  47],\n",
       "       [-44, -34, -77, ..., -77,  32,  62],\n",
       "       [-84, -58, -84, ..., -22, -26,  42]])"
      ]
     },
     "execution_count": 25,
     "metadata": {},
     "output_type": "execute_result"
    }
   ],
   "source": [
    "fw"
   ]
  },
  {
   "cell_type": "code",
   "execution_count": 26,
   "id": "oriental-anger",
   "metadata": {},
   "outputs": [
    {
     "data": {
      "text/plain": [
       "array([[ 14,   3,  13,   6, -25,  -2, -24,  14,  15, -24],\n",
       "       [-12,  30, -19, -12,  -4,  16,   4, -13,  18,  -4],\n",
       "       [ 27, -19,   6,   1, -14,  26,  20, -25, -10, -15],\n",
       "       [ -3, -11,  -8, -10,  28,   1,  24,  10, -13, -12],\n",
       "       [-17,   4,  16, -22,  19, -16,   5, -14,   8,  13],\n",
       "       [-23, -18, -20,  19,   5,  12, -20,  12,  10,  10],\n",
       "       [ 13,   8, -14, -11, -11, -11,  -6,  27, -15,  21],\n",
       "       [-21,  22,  12,  26, -15, -10,  14,  -3, -14, -17]])"
      ]
     },
     "execution_count": 26,
     "metadata": {},
     "output_type": "execute_result"
    }
   ],
   "source": [
    "sw"
   ]
  },
  {
   "cell_type": "code",
   "execution_count": 27,
   "id": "e3ae60f0",
   "metadata": {},
   "outputs": [
    {
     "name": "stderr",
     "output_type": "stream",
     "text": [
      "/Users/Syed/anaconda/anaconda3/lib/python3.7/site-packages/ipykernel_launcher.py:2: RuntimeWarning: overflow encountered in exp\n",
      "  \n"
     ]
    }
   ],
   "source": [
    "def sigmoid(x):\n",
    "    return (1/(1+np.exp(-x)))\n",
    "def softmax(x):\n",
    "    sumexp = np.sum(np.exp(x))\n",
    "    return((np.exp(x)/sumexp))\n",
    "def layer1(x,w,b):\n",
    "    return sigmoid(np.dot(x,w)+b)\n",
    "def layer2(x,w,b):\n",
    "    return  softmax(np.dot(x,w)+b)\n",
    "layer1_out = layer1(x_test,fw,fb)\n",
    "layer2_out = layer2(layer1_out,sw,sb)\n",
    "pred= np.zeros(layer2_out.shape[0])\n",
    "for i in range(layer2_out.shape[0]):\n",
    "    pred[i] = np.argmax(layer2_out[i])"
   ]
  },
  {
   "cell_type": "code",
   "execution_count": 28,
   "id": "a1af6540",
   "metadata": {},
   "outputs": [
    {
     "data": {
      "text/plain": [
       "array([7, 2, 1, ..., 4, 5, 6], dtype=uint8)"
      ]
     },
     "execution_count": 28,
     "metadata": {},
     "output_type": "execute_result"
    }
   ],
   "source": [
    "y_orig_test"
   ]
  },
  {
   "cell_type": "code",
   "execution_count": 29,
   "id": "005323ca",
   "metadata": {},
   "outputs": [
    {
     "data": {
      "text/plain": [
       "array([7., 2., 1., ..., 4., 5., 6.])"
      ]
     },
     "execution_count": 29,
     "metadata": {},
     "output_type": "execute_result"
    }
   ],
   "source": [
    "pred"
   ]
  },
  {
   "cell_type": "code",
   "execution_count": 33,
   "id": "8ccdc44e",
   "metadata": {},
   "outputs": [
    {
     "data": {
      "text/plain": [
       "0.8668"
      ]
     },
     "execution_count": 33,
     "metadata": {},
     "output_type": "execute_result"
    }
   ],
   "source": [
    "from sklearn.metrics import accuracy_score\n",
    "bi= accuracy_score(pred,y_orig_test)\n",
    "bi"
   ]
  },
  {
   "cell_type": "code",
   "execution_count": 36,
   "id": "86596b0d",
   "metadata": {},
   "outputs": [],
   "source": [
    "# x = x_test[0].tolist()\n",
    "\n",
    "w11 = fw[:,0].tolist()\n",
    "w12 = fw[:,1].tolist()\n",
    "w13 = fw[:,2].tolist()\n",
    "w14 = fw[:,3].tolist()\n",
    "\n",
    "w15= fw[:,4].tolist()\n",
    "w16= fw[:,5].tolist()\n",
    "w17= fw[:,6].tolist()\n",
    "w18= fw[:,7].tolist()\n",
    "\n",
    "w21 = sw[:,0].tolist()\n",
    "w22 = sw[:,1].tolist()\n",
    "w23 = sw[:,2].tolist()\n",
    "w24 = sw[:,3].tolist()\n",
    "w25 = sw[:,4].tolist()\n",
    "w26 = sw[:,5].tolist()\n",
    "w27 = sw[:,6].tolist()\n",
    "w28 = sw[:,7].tolist()\n",
    "w29 = sw[:,8].tolist()\n",
    "w30 = sw[:,9].tolist()\n",
    "\n",
    "b11 = fb.tolist()\n",
    "b2 = sb.tolist()"
   ]
  },
  {
   "cell_type": "code",
   "execution_count": 37,
   "id": "5909fd4a",
   "metadata": {},
   "outputs": [
    {
     "data": {
      "text/plain": [
       "[0, 0, 0, 0, 0, 0, 0, 0]"
      ]
     },
     "execution_count": 37,
     "metadata": {},
     "output_type": "execute_result"
    }
   ],
   "source": [
    "b11"
   ]
  },
  {
   "cell_type": "code",
   "execution_count": 38,
   "id": "37ee666c",
   "metadata": {},
   "outputs": [
    {
     "data": {
      "text/plain": [
       "[2, -12, 1, 2, 1, 1, -4, -3, 0, 9]"
      ]
     },
     "execution_count": 38,
     "metadata": {},
     "output_type": "execute_result"
    }
   ],
   "source": [
    "b2"
   ]
  },
  {
   "cell_type": "code",
   "execution_count": 39,
   "id": "8f701692",
   "metadata": {},
   "outputs": [
    {
     "data": {
      "text/plain": [
       "list"
      ]
     },
     "execution_count": 39,
     "metadata": {},
     "output_type": "execute_result"
    }
   ],
   "source": [
    "type(w11)"
   ]
  },
  {
   "cell_type": "code",
   "execution_count": 40,
   "id": "7b253605",
   "metadata": {},
   "outputs": [],
   "source": [
    "# print(nn_cont.functions.print_l1().call())\n",
    "# print(nn_cont.functions.print_l2().call())\n",
    "# n, d = sig_cont.functions.sigprint().call()\n",
    "# print(\"value of sigmoid is:\", n/d)\n",
    "# print(soft_cont.functions.set_softmax().call())"
   ]
  },
  {
   "cell_type": "code",
   "execution_count": 41,
   "id": "a2f7efb5",
   "metadata": {},
   "outputs": [],
   "source": [
    "# x = np.arange(1,784).tolist()\n",
    "# w11 = np.arange(1,784).tolist()\n",
    "# w12 = np.arange(1,784).tolist()\n",
    "# w13 = np.arange(1,784).tolist()\n",
    "# w14 = np.arange(1,784).tolist()\n",
    "# b1 = np.arange(1,5).tolist()"
   ]
  },
  {
   "cell_type": "code",
   "execution_count": 42,
   "id": "362ca10b",
   "metadata": {},
   "outputs": [],
   "source": [
    "##testing a sample  in layer 1"
   ]
  },
  {
   "cell_type": "code",
   "execution_count": 45,
   "id": "0a16586c",
   "metadata": {},
   "outputs": [],
   "source": [
    "hb1 = b11[:4]\n",
    "hb2 = b11[4:]"
   ]
  },
  {
   "cell_type": "code",
   "execution_count": 44,
   "id": "422bfa40",
   "metadata": {},
   "outputs": [
    {
     "name": "stdout",
     "output_type": "stream",
     "text": [
      "378409\n"
     ]
    }
   ],
   "source": [
    "print(np.sum(x_test[2]* fw[:,0]))"
   ]
  },
  {
   "cell_type": "code",
   "execution_count": 48,
   "id": "58d3f135",
   "metadata": {},
   "outputs": [
    {
     "name": "stdout",
     "output_type": "stream",
     "text": [
      "predicted class 7\n",
      "0\n",
      "predicted class 2\n",
      "1\n",
      "predicted class 1\n",
      "2\n",
      "predicted class 0\n",
      "3\n",
      "predicted class 4\n",
      "4\n",
      "predicted class 1\n",
      "5\n",
      "predicted class 4\n",
      "6\n",
      "predicted class 9\n",
      "7\n",
      "predicted class 6\n",
      "8\n",
      "predicted class 9\n",
      "9\n",
      "predicted class 0\n",
      "10\n",
      "predicted class 6\n",
      "11\n",
      "predicted class 9\n",
      "12\n",
      "predicted class 0\n",
      "13\n",
      "predicted class 1\n",
      "14\n",
      "predicted class 5\n",
      "15\n",
      "predicted class 9\n",
      "16\n",
      "predicted class 7\n",
      "17\n",
      "predicted class 3\n",
      "18\n",
      "predicted class 4\n",
      "19\n",
      "predicted class 9\n",
      "20\n",
      "predicted class 6\n",
      "21\n",
      "predicted class 6\n",
      "22\n",
      "predicted class 5\n",
      "23\n",
      "predicted class 4\n",
      "24\n",
      "predicted class 0\n",
      "25\n",
      "predicted class 7\n",
      "26\n",
      "predicted class 4\n",
      "27\n",
      "predicted class 0\n",
      "28\n",
      "predicted class 1\n",
      "29\n",
      "predicted class 3\n",
      "30\n",
      "predicted class 1\n",
      "31\n",
      "predicted class 3\n",
      "32\n",
      "predicted class 6\n",
      "33\n",
      "predicted class 7\n",
      "34\n",
      "predicted class 2\n",
      "35\n",
      "predicted class 7\n",
      "36\n",
      "predicted class 1\n",
      "37\n",
      "predicted class 3\n",
      "38\n",
      "predicted class 1\n",
      "39\n",
      "predicted class 1\n",
      "40\n",
      "predicted class 7\n",
      "41\n",
      "predicted class 4\n",
      "42\n",
      "predicted class 2\n",
      "43\n",
      "predicted class 3\n",
      "44\n",
      "predicted class 5\n",
      "45\n",
      "predicted class 1\n",
      "46\n",
      "predicted class 2\n",
      "47\n",
      "predicted class 4\n",
      "48\n",
      "predicted class 4\n",
      "49\n",
      "predicted class 6\n",
      "50\n",
      "predicted class 3\n",
      "51\n",
      "predicted class 5\n",
      "52\n",
      "predicted class 5\n",
      "53\n",
      "predicted class 6\n",
      "54\n",
      "predicted class 5\n",
      "55\n",
      "predicted class 4\n",
      "56\n",
      "predicted class 1\n",
      "57\n",
      "predicted class 9\n",
      "58\n",
      "predicted class 0\n",
      "59\n",
      "predicted class 7\n",
      "60\n",
      "predicted class 8\n",
      "61\n",
      "predicted class 8\n",
      "62\n",
      "predicted class 2\n",
      "63\n",
      "predicted class 7\n",
      "64\n",
      "predicted class 4\n",
      "65\n",
      "predicted class 2\n",
      "66\n",
      "predicted class 4\n",
      "67\n",
      "predicted class 3\n",
      "68\n",
      "predicted class 0\n",
      "69\n",
      "predicted class 7\n",
      "70\n",
      "predicted class 0\n",
      "71\n",
      "predicted class 3\n",
      "72\n",
      "predicted class 8\n",
      "73\n",
      "predicted class 1\n",
      "74\n",
      "predicted class 7\n",
      "75\n",
      "predicted class 5\n",
      "76\n",
      "predicted class 7\n",
      "77\n",
      "predicted class 9\n",
      "78\n",
      "predicted class 7\n",
      "79\n",
      "predicted class 7\n",
      "80\n",
      "predicted class 6\n",
      "81\n",
      "predicted class 2\n",
      "82\n",
      "predicted class 7\n",
      "83\n",
      "predicted class 8\n",
      "84\n",
      "predicted class 4\n",
      "85\n",
      "predicted class 7\n",
      "86\n",
      "predicted class 3\n",
      "87\n",
      "predicted class 6\n",
      "88\n",
      "predicted class 1\n",
      "89\n",
      "predicted class 3\n",
      "90\n",
      "predicted class 6\n",
      "91\n",
      "predicted class 9\n",
      "92\n",
      "predicted class 3\n",
      "93\n",
      "predicted class 1\n",
      "94\n",
      "predicted class 4\n",
      "95\n",
      "predicted class 3\n",
      "96\n",
      "predicted class 7\n",
      "97\n",
      "predicted class 6\n",
      "98\n",
      "predicted class 9\n",
      "99\n"
     ]
    }
   ],
   "source": [
    "pred_t= np.zeros(100)\n",
    "## multiply layer 1\n",
    "for i in range(100):\n",
    "    l1_mult= np.zeros(8)\n",
    "    l1_out= np.zeros(8)\n",
    "    x= x_test[i].tolist()\n",
    "    getlayer1(x,w11,w12,w13,w14,hb1)\n",
    "    # getlayer1(x,w11,w12,w13,w14,b1)\n",
    "    l1_mult[:4]=nn_cont.functions.print_l1().call()\n",
    "    getlayer1(x,w15,w16,w17,w18,hb2)\n",
    "    # getlayer1(x,w11,w12,w13,w14,b1)\n",
    "    l1_mult[4:]=nn_cont.functions.print_l1().call()\n",
    "#     print(\"Layer 1 multiplication answer\",l1_mult)\n",
    "    ## get sigmoid\n",
    "    for j in range(len(l1_mult)):\n",
    "#         print((int(l1_mult[i]),1,int(abs(l1_mult[i])),1))\n",
    "        sigfrac(int(l1_mult[j]),1,int(abs(l1_mult[j])),1)\n",
    "#         print(sig_cont.functions.sigprint().call())\n",
    "        n,d = sig_cont.functions.sigprint().call()\n",
    "        l1_out[j] = n/d\n",
    "    \n",
    "    #multiply layer 2\n",
    "    l2_mult = np.zeros(10)\n",
    "    l2_out = np.zeros(10)\n",
    "    l1_out = l1_out.astype(int)\n",
    "    l1_out = l1_out.tolist()\n",
    "    getlayer2(l1_out,w21,w22,w23,w24,w25,w26,w27,w28,w29,w30,b2)\n",
    "    l2_out[:] = nn_cont.functions.print_l2().call()\n",
    "    pred_t[i] = np.argmax(l2_out)\n",
    "    print(\"predicted class\",np.argmax(l2_out))\n",
    "    print(i)\n",
    "    "
   ]
  },
  {
   "cell_type": "code",
   "execution_count": 49,
   "id": "555b14eb",
   "metadata": {},
   "outputs": [
    {
     "data": {
      "text/plain": [
       "array([7., 2., 1., 0., 4., 1., 4., 9., 6., 9., 0., 6., 9., 0., 1., 5., 9.,\n",
       "       7., 3., 4., 9., 6., 6., 5., 4., 0., 7., 4., 0., 1., 3., 1., 3., 6.,\n",
       "       7., 2., 7., 1., 3., 1., 1., 7., 4., 2., 3., 5., 1., 2., 4., 4., 6.,\n",
       "       3., 5., 5., 6., 5., 4., 1., 9., 0., 7., 8., 8., 2., 7., 4., 2., 4.,\n",
       "       3., 0., 7., 0., 3., 8., 1., 7., 5., 7., 9., 7., 7., 6., 2., 7., 8.,\n",
       "       4., 7., 3., 6., 1., 3., 6., 9., 3., 1., 4., 3., 7., 6., 9.])"
      ]
     },
     "execution_count": 49,
     "metadata": {},
     "output_type": "execute_result"
    }
   ],
   "source": [
    "\n",
    "# print(l2_out)\n",
    "## get softmax\n",
    "\n",
    "pred_t"
   ]
  },
  {
   "cell_type": "code",
   "execution_count": 50,
   "id": "c009bc1d",
   "metadata": {},
   "outputs": [
    {
     "data": {
      "text/plain": [
       "array([7, 2, 1, 0, 4, 1, 4, 9, 5, 9, 0, 6, 9, 0, 1, 5, 9, 7, 3, 4, 9, 6,\n",
       "       6, 5, 4, 0, 7, 4, 0, 1, 3, 1, 3, 4, 7, 2, 7, 1, 2, 1, 1, 7, 4, 2,\n",
       "       3, 5, 1, 2, 4, 4, 6, 3, 5, 5, 6, 0, 4, 1, 9, 5, 7, 8, 9, 3, 7, 4,\n",
       "       6, 4, 3, 0, 7, 0, 2, 9, 1, 7, 3, 2, 9, 7, 7, 6, 2, 7, 8, 4, 7, 3,\n",
       "       6, 1, 3, 6, 9, 3, 1, 4, 1, 7, 6, 9], dtype=uint8)"
      ]
     },
     "execution_count": 50,
     "metadata": {},
     "output_type": "execute_result"
    }
   ],
   "source": [
    "y_orig_test[:100]"
   ]
  },
  {
   "cell_type": "code",
   "execution_count": 123,
   "id": "f0cf86f8",
   "metadata": {},
   "outputs": [
    {
     "data": {
      "text/plain": [
       "10000"
      ]
     },
     "execution_count": 123,
     "metadata": {},
     "output_type": "execute_result"
    }
   ],
   "source": [
    "len(y_orig_test)"
   ]
  },
  {
   "cell_type": "code",
   "execution_count": 51,
   "id": "d6cb1297",
   "metadata": {},
   "outputs": [
    {
     "data": {
      "text/plain": [
       "0.87"
      ]
     },
     "execution_count": 51,
     "metadata": {},
     "output_type": "execute_result"
    }
   ],
   "source": [
    "from sklearn.metrics import accuracy_score\n",
    "sc = accuracy_score(pred_t[:100],y_orig_test[:100])\n",
    "sc"
   ]
  },
  {
   "cell_type": "code",
   "execution_count": 125,
   "id": "138d9740",
   "metadata": {},
   "outputs": [
    {
     "ename": "TypeError",
     "evalue": "only size-1 arrays can be converted to Python scalars",
     "output_type": "error",
     "traceback": [
      "\u001b[0;31m---------------------------------------------------------------------------\u001b[0m",
      "\u001b[0;31mTypeError\u001b[0m                                 Traceback (most recent call last)",
      "\u001b[0;32m/var/folders/9j/xg5sl5n57fs3q8d3c9svsb1r0000gq/T/ipykernel_1371/3138343777.py\u001b[0m in \u001b[0;36m<module>\u001b[0;34m\u001b[0m\n\u001b[0;32m----> 1\u001b[0;31m \u001b[0mint\u001b[0m\u001b[0;34m(\u001b[0m\u001b[0mpred_t\u001b[0m\u001b[0;34m*\u001b[0m\u001b[0;36m100\u001b[0m\u001b[0;34m)\u001b[0m\u001b[0;34m\u001b[0m\u001b[0;34m\u001b[0m\u001b[0m\n\u001b[0m",
      "\u001b[0;31mTypeError\u001b[0m: only size-1 arrays can be converted to Python scalars"
     ]
    }
   ],
   "source": [
    "int(pred_t*100)"
   ]
  },
  {
   "cell_type": "code",
   "execution_count": null,
   "id": "cfdbc00a",
   "metadata": {},
   "outputs": [],
   "source": [
    "sc"
   ]
  },
  {
   "cell_type": "code",
   "execution_count": 129,
   "id": "75449b6a",
   "metadata": {},
   "outputs": [
    {
     "data": {
      "image/png": "[encoded data removed]",
      "text/plain": [
       "<Figure size 504x504 with 1 Axes>"
      ]
     },
     "metadata": {
      "needs_background": "light"
     },
     "output_type": "display_data"
    }
   ],
   "source": [
    "import matplotlib.pyplot as plt\n",
    "x = np.arange(100)\n",
    "plt.figure(figsize=(7,7))\n",
    "plt.bar(\"Smart Contract Prediction\", sc,width=0.6 )\n",
    "plt.bar(\"Library function Prediction\", bi,width=0.6)\n",
    "plt.tick_params(axis='both', which='major', labelsize=14)\n",
    "plt.tick_params(axis='both', which='minor', labelsize=14)\n",
    "plt.xlabel(\"Prediction types\",fontsize=14)\n",
    "plt.ylabel(\"Accuracy of predictrion\",fontsize=14)\n",
    "plt.savefig(\"pred_accuracy.pdf\",bbox_inches='tight')"
   ]
  },
  {
   "cell_type": "code",
   "execution_count": 130,
   "id": "3bae2a68",
   "metadata": {},
   "outputs": [
    {
     "data": {
      "text/plain": [
       "array([[ 8,  0,  0,  0,  0,  0,  0,  0,  0,  0],\n",
       "       [ 0, 13,  0,  0,  1,  0,  0,  0,  0,  0],\n",
       "       [ 0,  1,  7,  0,  0,  0,  0,  0,  0,  0],\n",
       "       [ 0,  0,  1,  8,  0,  0,  0,  1,  1,  0],\n",
       "       [ 1,  0,  0,  0, 12,  0,  0,  0,  1,  0],\n",
       "       [ 0,  0,  0,  0,  1,  3,  0,  0,  3,  0],\n",
       "       [ 0,  1,  1,  0,  0,  0,  8,  0,  0,  0],\n",
       "       [ 0,  0,  0,  0,  1,  0,  0, 14,  0,  0],\n",
       "       [ 0,  0,  0,  0,  0,  0,  1,  0,  1,  0],\n",
       "       [ 0,  0,  0,  0, 10,  0,  0,  1,  0,  0]])"
      ]
     },
     "execution_count": 130,
     "metadata": {},
     "output_type": "execute_result"
    }
   ],
   "source": [
    "from sklearn.metrics import confusion_matrix\n",
    "cm = confusion_matrix(y_orig_test[:100],pred[:100])\n",
    "cm"
   ]
  },
  {
   "cell_type": "code",
   "execution_count": 131,
   "id": "cccb8c25",
   "metadata": {},
   "outputs": [
    {
     "data": {
      "text/plain": [
       "<AxesSubplot:>"
      ]
     },
     "execution_count": 131,
     "metadata": {},
     "output_type": "execute_result"
    },
    {
     "data": {
      "image/png": "[encoded data removed]",
      "text/plain": [
       "<Figure size 720x504 with 2 Axes>"
      ]
     },
     "metadata": {
      "needs_background": "light"
     },
     "output_type": "display_data"
    }
   ],
   "source": [
    "import seaborn as sn\n",
    "import pandas as pd\n",
    "import matplotlib.pyplot as plt\n",
    "labels = [0,1,2,3,4,5,6,7,8,9]\n",
    "df_cm = pd.DataFrame(cm, index = [i for i in labels],\n",
    "              columns = [i for i in labels])\n",
    "plt.figure(figsize = (10,7))\n",
    "sn.heatmap(df_cm, annot=True,cmap=\"OrRd\")"
   ]
  },
  {
   "cell_type": "code",
   "execution_count": 132,
   "id": "ff405df9",
   "metadata": {},
   "outputs": [
    {
     "data": {
      "text/plain": [
       "array([[ 8,  0,  0,  0,  0,  0,  0,  0,  0,  0],\n",
       "       [ 0, 13,  0,  0,  1,  0,  0,  0,  0,  0],\n",
       "       [ 0,  1,  7,  0,  0,  0,  0,  0,  0,  0],\n",
       "       [ 0,  0,  1,  8,  0,  0,  0,  1,  1,  0],\n",
       "       [ 1,  0,  0,  0, 12,  0,  0,  0,  1,  0],\n",
       "       [ 0,  0,  0,  0,  1,  3,  0,  0,  3,  0],\n",
       "       [ 0,  1,  1,  0,  0,  0,  8,  0,  0,  0],\n",
       "       [ 0,  0,  0,  0,  1,  0,  0, 14,  0,  0],\n",
       "       [ 0,  0,  0,  0,  0,  0,  1,  0,  1,  0],\n",
       "       [ 0,  0,  0,  0, 10,  0,  0,  1,  0,  0]])"
      ]
     },
     "execution_count": 132,
     "metadata": {},
     "output_type": "execute_result"
    }
   ],
   "source": [
    "from sklearn.metrics import confusion_matrix\n",
    "cm = confusion_matrix(y_orig_test[:100],pred_t[:100])\n",
    "cm"
   ]
  },
  {
   "cell_type": "code",
   "execution_count": 133,
   "id": "a0f7d8d2",
   "metadata": {},
   "outputs": [
    {
     "data": {
      "text/plain": [
       "<AxesSubplot:>"
      ]
     },
     "execution_count": 133,
     "metadata": {},
     "output_type": "execute_result"
    },
    {
     "data": {
      "image/png": "[encoded data removed]",
      "text/plain": [
       "<Figure size 720x504 with 2 Axes>"
      ]
     },
     "metadata": {
      "needs_background": "light"
     },
     "output_type": "display_data"
    }
   ],
   "source": [
    "import seaborn as sn\n",
    "import pandas as pd\n",
    "import matplotlib.pyplot as plt\n",
    "labels = [0,1,2,3,4,5,6,7,8,9]\n",
    "df_cm = pd.DataFrame(cm, index = [i for i in labels],\n",
    "              columns = [i for i in labels])\n",
    "plt.figure(figsize = (10,7))\n",
    "sn.heatmap(df_cm, annot=True,cmap=\"OrRd\")"
   ]
  },
  {
   "cell_type": "code",
   "execution_count": 182,
   "id": "4a8b2327",
   "metadata": {},
   "outputs": [],
   "source": [
    "for i in range(len(l2_out)):\n",
    "    getexpon(int(l2_out[i]),1, abs(int(l2_out[i])),1)\n",
    "getsumexpon()\n",
    "getsoftmax()\n",
    "smaxn,smaxd = soft_cont.functions.set_softmax().call()"
   ]
  },
  {
   "cell_type": "code",
   "execution_count": 183,
   "id": "e0a872bc",
   "metadata": {},
   "outputs": [
    {
     "name": "stdout",
     "output_type": "stream",
     "text": [
      "[0, 0, 0, 0, 0, 0, 0, 0, 0, 0] [0, 0, 0, 0, 0, 0, 0, 0, 0, 0]\n"
     ]
    }
   ],
   "source": [
    "print(smaxn,smaxd)"
   ]
  },
  {
   "cell_type": "code",
   "execution_count": 15,
   "id": "functional-surveillance",
   "metadata": {},
   "outputs": [],
   "source": [
    "## testing prediction with builtin functions"
   ]
  },
  {
   "cell_type": "code",
   "execution_count": 16,
   "id": "blind-juice",
   "metadata": {},
   "outputs": [],
   "source": [
    "def sigmoid(x):\n",
    "    return (1/(1+np.exp(-x)))\n",
    "def softmax(x):\n",
    "    sumexp = np.sum(np.exp(x))\n",
    "    return((np.exp(x)/sumexp))\n",
    "def layer1(x,w,b):\n",
    "    return sigmoid(np.dot(x,w)+b)\n",
    "def layer2(x,w,b):\n",
    "    return  softmax(np.dot(x,w)+b)"
   ]
  },
  {
   "cell_type": "code",
   "execution_count": 17,
   "id": "consecutive-matthew",
   "metadata": {},
   "outputs": [
    {
     "name": "stderr",
     "output_type": "stream",
     "text": [
      "/Users/Syed/anaconda/anaconda3/lib/python3.7/site-packages/ipykernel_launcher.py:2: RuntimeWarning: overflow encountered in exp\n",
      "  \n"
     ]
    }
   ],
   "source": [
    "layer1_out = layer1(x_test,fw,fb)\n",
    "# layer1_out[:50]\n"
   ]
  },
  {
   "cell_type": "code",
   "execution_count": 18,
   "id": "proved-ottawa",
   "metadata": {},
   "outputs": [
    {
     "data": {
      "text/plain": [
       "array([2.76898550e-20, 2.98692853e-44, 6.98583051e-22, 4.64583254e-21,\n",
       "       1.50356482e-37, 6.86730237e-36, 3.05191685e-42, 8.96994448e-16,\n",
       "       1.65533536e-39, 6.15235175e-36])"
      ]
     },
     "execution_count": 18,
     "metadata": {},
     "output_type": "execute_result"
    }
   ],
   "source": [
    "layer2_out = layer2(layer1_out,sw,sb)\n",
    "layer2_out[0]"
   ]
  },
  {
   "cell_type": "code",
   "execution_count": 19,
   "id": "everyday-cylinder",
   "metadata": {},
   "outputs": [],
   "source": [
    "pred= np.zeros(layer2_out.shape[0])\n",
    "for i in range(layer2_out.shape[0]):\n",
    "    pred[i] = np.argmax(layer2_out[i])"
   ]
  },
  {
   "cell_type": "code",
   "execution_count": 20,
   "id": "caring-aquatic",
   "metadata": {},
   "outputs": [
    {
     "data": {
      "text/plain": [
       "array([7, 2, 1, ..., 4, 5, 6], dtype=uint8)"
      ]
     },
     "execution_count": 20,
     "metadata": {},
     "output_type": "execute_result"
    }
   ],
   "source": [
    "y_orig_test"
   ]
  },
  {
   "cell_type": "code",
   "execution_count": 21,
   "id": "provincial-davis",
   "metadata": {},
   "outputs": [
    {
     "data": {
      "text/plain": [
       "array([7., 2., 1., ..., 4., 5., 6.])"
      ]
     },
     "execution_count": 21,
     "metadata": {},
     "output_type": "execute_result"
    }
   ],
   "source": [
    "pred"
   ]
  },
  {
   "cell_type": "code",
   "execution_count": 22,
   "id": "stupid-retro",
   "metadata": {},
   "outputs": [
    {
     "data": {
      "text/plain": [
       "0.6137"
      ]
     },
     "execution_count": 22,
     "metadata": {},
     "output_type": "execute_result"
    }
   ],
   "source": [
    "from sklearn.metrics import accuracy_score\n",
    "accuracy_score(pred,y_orig_test)"
   ]
  },
  {
   "cell_type": "code",
   "execution_count": 208,
   "id": "american-narrow",
   "metadata": {},
   "outputs": [],
   "source": [
    "# in depth layers\n",
    "\n",
    "def create_dense(layer_sizes):\n",
    "    model = Sequential()\n",
    "    model.add(Dense(layer_sizes[0], activation='sigmoid', input_shape=(image_size,)))\n",
    "\n",
    "    for s in layer_sizes[1:]:\n",
    "        model.add(Dense(units = s, activation = 'sigmoid'))\n",
    "\n",
    "    model.add(Dense(units=num_classes, activation='softmax'))\n",
    "    return model\n",
    "\n",
    "def evaluate(model, batch_size=128, epochs=5):\n",
    "    model.summary()\n",
    "    model.compile(optimizer='sgd', loss='categorical_crossentropy', metrics=['acc'])\n",
    "    history = model.fit(x_train, y_train, batch_size=batch_size, epochs=epochs, validation_split=.1, verbose=False)\n",
    "    loss, accuracy  = model.evaluate(x_test, y_test, verbose=False)\n",
    "    \n",
    "    plt.plot(history.history['acc'])\n",
    "    plt.plot(history.history['val_acc'])\n",
    "    plt.title('model accuracy')\n",
    "    plt.ylabel('accuracy')\n",
    "    plt.xlabel('epoch')\n",
    "    plt.legend(['training', 'validation'], loc='best')\n",
    "    plt.show()\n",
    "\n",
    "    print()\n",
    "    print(f'Test loss: {loss:.3}')\n",
    "    print(f'Test accuracy: {accuracy:.3}')"
   ]
  },
  {
   "cell_type": "code",
   "execution_count": 27,
   "id": "plain-stereo",
   "metadata": {},
   "outputs": [
    {
     "name": "stdout",
     "output_type": "stream",
     "text": [
      "Model: \"sequential_7\"\n",
      "_________________________________________________________________\n",
      "Layer (type)                 Output Shape              Param #   \n",
      "=================================================================\n",
      "dense_20 (Dense)             (None, 32)                25120     \n",
      "_________________________________________________________________\n",
      "dense_21 (Dense)             (None, 10)                330       \n",
      "=================================================================\n",
      "Total params: 25,450\n",
      "Trainable params: 25,450\n",
      "Non-trainable params: 0\n",
      "_________________________________________________________________\n"
     ]
    },
    {
     "data": {
      "image/png": "[encoded data removed]",
      "text/plain": [
       "<Figure size 432x288 with 1 Axes>"
      ]
     },
     "metadata": {
      "needs_background": "light"
     },
     "output_type": "display_data"
    },
    {
     "name": "stdout",
     "output_type": "stream",
     "text": [
      "\n",
      "Test loss: 0.494\n",
      "Test accuracy: 0.888\n",
      "Model: \"sequential_8\"\n",
      "_________________________________________________________________\n",
      "Layer (type)                 Output Shape              Param #   \n",
      "=================================================================\n",
      "dense_22 (Dense)             (None, 32)                25120     \n",
      "_________________________________________________________________\n",
      "dense_23 (Dense)             (None, 32)                1056      \n",
      "_________________________________________________________________\n",
      "dense_24 (Dense)             (None, 10)                330       \n",
      "=================================================================\n",
      "Total params: 26,506\n",
      "Trainable params: 26,506\n",
      "Non-trainable params: 0\n",
      "_________________________________________________________________\n"
     ]
    },
    {
     "data": {
      "image/png": "[encoded data removed]",
      "text/plain": [
       "<Figure size 432x288 with 1 Axes>"
      ]
     },
     "metadata": {
      "needs_background": "light"
     },
     "output_type": "display_data"
    },
    {
     "name": "stdout",
     "output_type": "stream",
     "text": [
      "\n",
      "Test loss: 1.16\n",
      "Test accuracy: 0.814\n",
      "Model: \"sequential_9\"\n",
      "_________________________________________________________________\n",
      "Layer (type)                 Output Shape              Param #   \n",
      "=================================================================\n",
      "dense_25 (Dense)             (None, 32)                25120     \n",
      "_________________________________________________________________\n",
      "dense_26 (Dense)             (None, 32)                1056      \n",
      "_________________________________________________________________\n",
      "dense_27 (Dense)             (None, 32)                1056      \n",
      "_________________________________________________________________\n",
      "dense_28 (Dense)             (None, 10)                330       \n",
      "=================================================================\n",
      "Total params: 27,562\n",
      "Trainable params: 27,562\n",
      "Non-trainable params: 0\n",
      "_________________________________________________________________\n"
     ]
    },
    {
     "data": {
      "image/png": "[encoded data removed]",
      "text/plain": [
       "<Figure size 432x288 with 1 Axes>"
      ]
     },
     "metadata": {
      "needs_background": "light"
     },
     "output_type": "display_data"
    },
    {
     "name": "stdout",
     "output_type": "stream",
     "text": [
      "\n",
      "Test loss: 2.15\n",
      "Test accuracy: 0.569\n",
      "Model: \"sequential_10\"\n",
      "_________________________________________________________________\n",
      "Layer (type)                 Output Shape              Param #   \n",
      "=================================================================\n",
      "dense_29 (Dense)             (None, 32)                25120     \n",
      "_________________________________________________________________\n",
      "dense_30 (Dense)             (None, 32)                1056      \n",
      "_________________________________________________________________\n",
      "dense_31 (Dense)             (None, 32)                1056      \n",
      "_________________________________________________________________\n",
      "dense_32 (Dense)             (None, 32)                1056      \n",
      "_________________________________________________________________\n",
      "dense_33 (Dense)             (None, 10)                330       \n",
      "=================================================================\n",
      "Total params: 28,618\n",
      "Trainable params: 28,618\n",
      "Non-trainable params: 0\n",
      "_________________________________________________________________\n"
     ]
    },
    {
     "data": {
      "image/png": "[encoded data removed]",
      "text/plain": [
       "<Figure size 432x288 with 1 Axes>"
      ]
     },
     "metadata": {
      "needs_background": "light"
     },
     "output_type": "display_data"
    },
    {
     "name": "stdout",
     "output_type": "stream",
     "text": [
      "\n",
      "Test loss: 2.29\n",
      "Test accuracy: 0.113\n"
     ]
    }
   ],
   "source": [
    "for layers in range(1, 5):\n",
    "    model = create_dense([32] * layers)\n",
    "    evaluate(model)"
   ]
  },
  {
   "cell_type": "code",
   "execution_count": null,
   "id": "amateur-subdivision",
   "metadata": {},
   "outputs": [],
   "source": []
  }
 ],
 "metadata": {
  "kernelspec": {
   "display_name": "Python 3 (ipykernel)",
   "language": "python",
   "name": "python3"
  },
  "language_info": {
   "codemirror_mode": {
    "name": "ipython",
    "version": 3
   },
   "file_extension": ".py",
   "mimetype": "text/x-python",
   "name": "python",
   "nbconvert_exporter": "python",
   "pygments_lexer": "ipython3",
   "version": "3.7.11"
  }
 },
 "nbformat": 4,
 "nbformat_minor": 5
}
