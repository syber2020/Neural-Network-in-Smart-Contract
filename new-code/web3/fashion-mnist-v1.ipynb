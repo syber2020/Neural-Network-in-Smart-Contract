{
 "cells": [
  {
   "cell_type": "code",
   "execution_count": 20,
   "id": "5ea50fc3",
   "metadata": {},
   "outputs": [
    {
     "data": {
      "text/plain": [
       "True"
      ]
     },
     "execution_count": 20,
     "metadata": {},
     "output_type": "execute_result"
    }
   ],
   "source": [
    "from keras.datasets import mnist\n",
    "import numpy as np \n",
    "import json\n",
    "from web3 import Web3\n",
    "import matplotlib.pyplot as plt\n",
    "import tensorflow as tf\n",
    "ganache_url =\"http://127.0.0.1:8545\"\n",
    "web3 = Web3(Web3.HTTPProvider(ganache_url))\n",
    "web3.isConnected()"
   ]
  },
  {
   "cell_type": "code",
   "execution_count": 4,
   "id": "672b8d9b",
   "metadata": {},
   "outputs": [],
   "source": [
    "## Sigmoid contract"
   ]
  },
  {
   "cell_type": "code",
   "execution_count": 8,
   "id": "23eeecdb",
   "metadata": {},
   "outputs": [],
   "source": [
    "sig_abi = json.loads('[ { \"constant\": false, \"inputs\": [ { \"name\": \"x\", \"type\": \"int256\" }, { \"name\": \"y\", \"type\": \"int256\" }, { \"name\": \"a\", \"type\": \"uint256\" }, { \"name\": \"b\", \"type\": \"uint256\" } ], \"name\": \"sigmoid_act\", \"outputs\": [], \"payable\": false, \"stateMutability\": \"nonpayable\", \"type\": \"function\" }, { \"constant\": true, \"inputs\": [ { \"name\": \"x\", \"type\": \"int256\" }, { \"name\": \"y\", \"type\": \"int256\" } ], \"name\": \"div\", \"outputs\": [ { \"name\": \"\", \"type\": \"int256\" }, { \"name\": \"\", \"type\": \"int256\" } ], \"payable\": false, \"stateMutability\": \"view\", \"type\": \"function\" }, { \"constant\": true, \"inputs\": [], \"name\": \"sigprint\", \"outputs\": [ { \"name\": \"\", \"type\": \"uint256\" }, { \"name\": \"\", \"type\": \"uint256\" } ], \"payable\": false, \"stateMutability\": \"view\", \"type\": \"function\" } ]')\n",
    "sig_cont_address = \"0x878b2d698D1F7D8D0C9343970a1A8ce001A446d0\"\n",
    "sig_cont = web3.eth.contract(address=sig_cont_address,abi=sig_abi)"
   ]
  },
  {
   "cell_type": "code",
   "execution_count": 9,
   "id": "5e829c59",
   "metadata": {},
   "outputs": [],
   "source": [
    "## Softmax contract"
   ]
  },
  {
   "cell_type": "code",
   "execution_count": 10,
   "id": "233301c5",
   "metadata": {},
   "outputs": [],
   "source": [
    "soft_abi = json.loads('[ { \"constant\": false, \"inputs\": [], \"name\": \"del_arr\", \"outputs\": [], \"payable\": false, \"stateMutability\": \"nonpayable\", \"type\": \"function\" }, { \"constant\": false, \"inputs\": [], \"name\": \"get_softmax\", \"outputs\": [], \"payable\": false, \"stateMutability\": \"nonpayable\", \"type\": \"function\" }, { \"constant\": false, \"inputs\": [ { \"name\": \"C\", \"type\": \"int256\" }, { \"name\": \"D\", \"type\": \"int256\" }, { \"name\": \"k\", \"type\": \"uint256\" }, { \"name\": \"j\", \"type\": \"uint256\" } ], \"name\": \"getexpon\", \"outputs\": [], \"payable\": false, \"stateMutability\": \"nonpayable\", \"type\": \"function\" }, { \"constant\": false, \"inputs\": [], \"name\": \"sum_exp\", \"outputs\": [], \"payable\": false, \"stateMutability\": \"nonpayable\", \"type\": \"function\" }, { \"constant\": true, \"inputs\": [ { \"name\": \"\", \"type\": \"int256\" } ], \"name\": \"exp\", \"outputs\": [ { \"name\": \"\", \"type\": \"int256\" } ], \"payable\": false, \"stateMutability\": \"view\", \"type\": \"function\" }, { \"constant\": true, \"inputs\": [], \"name\": \"set_softmax\", \"outputs\": [ { \"name\": \"\", \"type\": \"uint256[]\" }, { \"name\": \"\", \"type\": \"uint256[]\" } ], \"payable\": false, \"stateMutability\": \"view\", \"type\": \"function\" }, { \"constant\": true, \"inputs\": [], \"name\": \"set_sumexp\", \"outputs\": [ { \"name\": \"\", \"type\": \"uint256\" } ], \"payable\": false, \"stateMutability\": \"view\", \"type\": \"function\" }, { \"constant\": true, \"inputs\": [], \"name\": \"setallexpon\", \"outputs\": [ { \"name\": \"\", \"type\": \"uint256[]\" } ], \"payable\": false, \"stateMutability\": \"view\", \"type\": \"function\" }, { \"constant\": true, \"inputs\": [], \"name\": \"setexpon\", \"outputs\": [ { \"name\": \"\", \"type\": \"uint256\" } ], \"payable\": false, \"stateMutability\": \"view\", \"type\": \"function\" } ]')\n",
    "soft_cont_address = \"0x4F0Ad11a459893C1d89F4094cE3c298Fb1135545\"\n",
    "soft_cont = web3.eth.contract(address=soft_cont_address,abi=soft_abi)"
   ]
  },
  {
   "cell_type": "code",
   "execution_count": 11,
   "id": "6f6ea09c",
   "metadata": {},
   "outputs": [],
   "source": [
    "## NN-LayerContract"
   ]
  },
  {
   "cell_type": "code",
   "execution_count": 12,
   "id": "9b688b72",
   "metadata": {},
   "outputs": [],
   "source": [
    "nn_abi = json.loads('[ { \"constant\": false, \"inputs\": [ { \"name\": \"x\", \"type\": \"int256[]\" }, { \"name\": \"w1\", \"type\": \"int256[]\" }, { \"name\": \"w2\", \"type\": \"int256[]\" }, { \"name\": \"w3\", \"type\": \"int256[]\" }, { \"name\": \"w4\", \"type\": \"int256[]\" }, { \"name\": \"b1\", \"type\": \"int256[]\" } ], \"name\": \"multiply_layer1\", \"outputs\": [], \"payable\": false, \"stateMutability\": \"nonpayable\", \"type\": \"function\" }, { \"constant\": false, \"inputs\": [ { \"name\": \"l1_output\", \"type\": \"int256[]\" }, { \"name\": \"w1\", \"type\": \"int256[]\" }, { \"name\": \"w2\", \"type\": \"int256[]\" }, { \"name\": \"w3\", \"type\": \"int256[]\" }, { \"name\": \"w4\", \"type\": \"int256[]\" }, { \"name\": \"w5\", \"type\": \"int256[]\" }, { \"name\": \"w6\", \"type\": \"int256[]\" }, { \"name\": \"w7\", \"type\": \"int256[]\" }, { \"name\": \"w8\", \"type\": \"int256[]\" }, { \"name\": \"w9\", \"type\": \"int256[]\" }, { \"name\": \"w10\", \"type\": \"int256[]\" }, { \"name\": \"b2\", \"type\": \"int256[]\" } ], \"name\": \"multiply_layer2\", \"outputs\": [], \"payable\": false, \"stateMutability\": \"nonpayable\", \"type\": \"function\" }, { \"constant\": true, \"inputs\": [], \"name\": \"print_l1\", \"outputs\": [ { \"name\": \"\", \"type\": \"int256\" }, { \"name\": \"\", \"type\": \"int256\" }, { \"name\": \"\", \"type\": \"int256\" }, { \"name\": \"\", \"type\": \"int256\" } ], \"payable\": false, \"stateMutability\": \"view\", \"type\": \"function\" }, { \"constant\": true, \"inputs\": [], \"name\": \"print_l2\", \"outputs\": [ { \"name\": \"\", \"type\": \"int256\" }, { \"name\": \"\", \"type\": \"int256\" }, { \"name\": \"\", \"type\": \"int256\" }, { \"name\": \"\", \"type\": \"int256\" }, { \"name\": \"\", \"type\": \"int256\" }, { \"name\": \"\", \"type\": \"int256\" }, { \"name\": \"\", \"type\": \"int256\" }, { \"name\": \"\", \"type\": \"int256\" }, { \"name\": \"\", \"type\": \"int256\" }, { \"name\": \"\", \"type\": \"int256\" } ], \"payable\": false, \"stateMutability\": \"view\", \"type\": \"function\" } ]')\n",
    "nn_cont_address = \"0xaE1D7A07321D10F5000F13d93a5c87b2A94D4C3C\"\n",
    "nn_cont = web3.eth.contract(address=nn_cont_address,abi=nn_abi)"
   ]
  },
  {
   "cell_type": "code",
   "execution_count": 13,
   "id": "fb8bc3a2",
   "metadata": {},
   "outputs": [],
   "source": [
    "# account1 = \"0x2C0c1D0dA7c537ad49b6AD3cdF0ed6db462446E9\"\n",
    "# private_key1=\"d2b80a53fd2b1a30ecbe14517a65c07858679034061f2d0d5f768518ed46a1b6\"\n",
    "# account2 = \"0x76b717F8b07365060131752EE08242C268CFd37B\"\n",
    "# private_key2=\"a3e852bd651cf3aa5f6d863e0727519140431ae912588b351ab5f7ee02e06cac\""
   ]
  },
  {
   "cell_type": "code",
   "execution_count": 15,
   "id": "fcae6f1d",
   "metadata": {},
   "outputs": [],
   "source": [
    "account1 = \"0xdd617f9D5120b7b30E4C502fdd6b13dCf286A300\"\n",
    "private_key1=\"c00b36dc1777e7fda60ff1f55b57c3f51b18c0c16fe44724e451ed062a173d74\"\n",
    "account2 = \"0x8883f1016E727C8fE93C1Df471f102bBbAF2B910\"\n",
    "private_key2=\"8d70f54549b5fb7c04fc016cc88c447fc81aff3af3065c696aee1b529fbc8ba5\"\n",
    "account3= \"0xd39fdd79c3b5b0c411366D5A64ba26E423e1cF61\"\n",
    "private_key3=\"3f3bcef69f8cef4bb28953eebe0b11c40fca5b4ce8c9665d3647afd067050952\""
   ]
  },
  {
   "cell_type": "code",
   "execution_count": 16,
   "id": "35838a0e",
   "metadata": {},
   "outputs": [],
   "source": [
    "def getlayer1(x,w11,w12,w13,w14,b1):\n",
    "    nonce = web3.eth.getTransactionCount(account1)\n",
    "    transaction = nn_cont.functions.multiply_layer1(\n",
    "        x,w11,w12,w13,w14,b1\n",
    "         ).buildTransaction({\n",
    "        'gas': 8000000,\n",
    "        'gasPrice': web3.toWei('1', 'gwei'),\n",
    "        'from': account1,\n",
    "        'nonce': nonce\n",
    "        }) \n",
    "    signed_txn = web3.eth.account.signTransaction(transaction, private_key=private_key1)\n",
    "    tx_hash = web3.eth.sendRawTransaction(signed_txn.rawTransaction)\n",
    "    tx_receipt = web3.eth.waitForTransactionReceipt(tx_hash,timeout=300)\n",
    "    return tx_receipt.gasUsed\n",
    "\n",
    "\n",
    "def getlayer2(l1,w21,w22,w23,w24,w25,w26,w27,w28,w29,w30,b2):\n",
    "    nonce = web3.eth.getTransactionCount(account1)\n",
    "    transaction = nn_cont.functions.multiply_layer2(\n",
    "        l1,w21,w22,w23,w24,w25,w26,w27,w28,w29,w30,b2\n",
    "         ).buildTransaction({\n",
    "        'gas': 6700000,\n",
    "        'gasPrice': web3.toWei('1', 'gwei'),\n",
    "        'from': account1,\n",
    "        'nonce': nonce\n",
    "        }) \n",
    "    signed_txn = web3.eth.account.signTransaction(transaction, private_key=private_key1)\n",
    "    tx_hash = web3.eth.sendRawTransaction(signed_txn.rawTransaction)\n",
    "    tx_receipt = web3.eth.waitForTransactionReceipt(tx_hash,timeout=300)\n",
    "    return tx_receipt.gasUsed\n",
    "\n",
    "\n",
    "def sigfrac(x,y,a,b):\n",
    "    nonce = web3.eth.getTransactionCount(account1)\n",
    "    transaction = sig_cont.functions.sigmoid_act(\n",
    "        x,y,a,b\n",
    "         ).buildTransaction({\n",
    "        'gas': 100000,\n",
    "        'gasPrice': web3.toWei('10', 'gwei'),\n",
    "        'from': account1,\n",
    "        'nonce': nonce\n",
    "        }) \n",
    "    signed_txn = web3.eth.account.signTransaction(transaction, private_key=private_key1)\n",
    "    tx_hash = web3.eth.sendRawTransaction(signed_txn.rawTransaction)\n",
    "    tx_receipt = web3.eth.waitForTransactionReceipt(tx_hash)\n",
    "    return tx_receipt.gasUsed\n",
    "\n",
    "def getexpon(a,b,c,d):\n",
    "    nonce = web3.eth.getTransactionCount(account1)\n",
    "    transaction = soft_cont.functions.getexpon(\n",
    "        a,b,c,d\n",
    "         ).buildTransaction({\n",
    "        'gas': 3000000,\n",
    "        'gasPrice': web3.toWei('10', 'gwei'),\n",
    "        'from': account1,\n",
    "        'nonce': nonce\n",
    "        }) \n",
    "    signed_txn = web3.eth.account.signTransaction(transaction, private_key=private_key1)\n",
    "    tx_hash = web3.eth.sendRawTransaction(signed_txn.rawTransaction)\n",
    "    tx_receipt = web3.eth.waitForTransactionReceipt(tx_hash)\n",
    "    return tx_receipt.gasUsed\n",
    "\n",
    "def getsumexpon():\n",
    "    nonce = web3.eth.getTransactionCount(account1)\n",
    "    transaction = soft_cont.functions.sum_exp(\n",
    "         ).buildTransaction({\n",
    "        'gas': 3000000,\n",
    "        'gasPrice': web3.toWei('1', 'gwei'),\n",
    "        'from': account1,\n",
    "        'nonce': nonce\n",
    "        }) \n",
    "    signed_txn = web3.eth.account.signTransaction(transaction, private_key=private_key1)\n",
    "    tx_hash = web3.eth.sendRawTransaction(signed_txn.rawTransaction)\n",
    "    tx_receipt = web3.eth.waitForTransactionReceipt(tx_hash)\n",
    "    return tx_receipt.gasUsed\n",
    "\n",
    "def getsoftmax():\n",
    "    nonce = web3.eth.getTransactionCount(account1)\n",
    "    transaction = soft_cont.functions.get_softmax(\n",
    "         ).buildTransaction({\n",
    "        'gas': 3000000,\n",
    "        'gasPrice': web3.toWei('10', 'gwei'),\n",
    "        'from': account1,\n",
    "        'nonce': nonce\n",
    "        }) \n",
    "    signed_txn = web3.eth.account.signTransaction(transaction, private_key=private_key1)\n",
    "    tx_hash = web3.eth.sendRawTransaction(signed_txn.rawTransaction)\n",
    "    tx_receipt = web3.eth.waitForTransactionReceipt(tx_hash)\n",
    "    return tx_receipt.gasUsed"
   ]
  },
  {
   "cell_type": "code",
   "execution_count": 17,
   "id": "a9a1cbfc",
   "metadata": {},
   "outputs": [
    {
     "name": "stdout",
     "output_type": "stream",
     "text": [
      "[0, 0, 0, 0]\n",
      "[0, 0, 0, 0, 0, 0, 0, 0, 0, 0]\n"
     ]
    },
    {
     "ename": "ZeroDivisionError",
     "evalue": "division by zero",
     "output_type": "error",
     "traceback": [
      "\u001b[0;31m---------------------------------------------------------------------------\u001b[0m",
      "\u001b[0;31mZeroDivisionError\u001b[0m                         Traceback (most recent call last)",
      "\u001b[0;32m/var/folders/9j/xg5sl5n57fs3q8d3c9svsb1r0000gq/T/ipykernel_1635/2314841075.py\u001b[0m in \u001b[0;36m<module>\u001b[0;34m\u001b[0m\n\u001b[1;32m      2\u001b[0m \u001b[0mprint\u001b[0m\u001b[0;34m(\u001b[0m\u001b[0mnn_cont\u001b[0m\u001b[0;34m.\u001b[0m\u001b[0mfunctions\u001b[0m\u001b[0;34m.\u001b[0m\u001b[0mprint_l2\u001b[0m\u001b[0;34m(\u001b[0m\u001b[0;34m)\u001b[0m\u001b[0;34m.\u001b[0m\u001b[0mcall\u001b[0m\u001b[0;34m(\u001b[0m\u001b[0;34m)\u001b[0m\u001b[0;34m)\u001b[0m\u001b[0;34m\u001b[0m\u001b[0;34m\u001b[0m\u001b[0m\n\u001b[1;32m      3\u001b[0m \u001b[0mn\u001b[0m\u001b[0;34m,\u001b[0m \u001b[0md\u001b[0m \u001b[0;34m=\u001b[0m \u001b[0msig_cont\u001b[0m\u001b[0;34m.\u001b[0m\u001b[0mfunctions\u001b[0m\u001b[0;34m.\u001b[0m\u001b[0msigprint\u001b[0m\u001b[0;34m(\u001b[0m\u001b[0;34m)\u001b[0m\u001b[0;34m.\u001b[0m\u001b[0mcall\u001b[0m\u001b[0;34m(\u001b[0m\u001b[0;34m)\u001b[0m\u001b[0;34m\u001b[0m\u001b[0;34m\u001b[0m\u001b[0m\n\u001b[0;32m----> 4\u001b[0;31m \u001b[0mprint\u001b[0m\u001b[0;34m(\u001b[0m\u001b[0;34m\"value of sigmoid is:\"\u001b[0m\u001b[0;34m,\u001b[0m \u001b[0mn\u001b[0m\u001b[0;34m/\u001b[0m\u001b[0md\u001b[0m\u001b[0;34m)\u001b[0m\u001b[0;34m\u001b[0m\u001b[0;34m\u001b[0m\u001b[0m\n\u001b[0m\u001b[1;32m      5\u001b[0m \u001b[0mprint\u001b[0m\u001b[0;34m(\u001b[0m\u001b[0msoft_cont\u001b[0m\u001b[0;34m.\u001b[0m\u001b[0mfunctions\u001b[0m\u001b[0;34m.\u001b[0m\u001b[0mset_softmax\u001b[0m\u001b[0;34m(\u001b[0m\u001b[0;34m)\u001b[0m\u001b[0;34m.\u001b[0m\u001b[0mcall\u001b[0m\u001b[0;34m(\u001b[0m\u001b[0;34m)\u001b[0m\u001b[0;34m)\u001b[0m\u001b[0;34m\u001b[0m\u001b[0;34m\u001b[0m\u001b[0m\n",
      "\u001b[0;31mZeroDivisionError\u001b[0m: division by zero"
     ]
    }
   ],
   "source": [
    "print(nn_cont.functions.print_l1().call())\n",
    "print(nn_cont.functions.print_l2().call())\n",
    "n, d = sig_cont.functions.sigprint().call()\n",
    "print(\"value of sigmoid is:\", n/d)\n",
    "print(soft_cont.functions.set_softmax().call())"
   ]
  },
  {
   "cell_type": "code",
   "execution_count": 21,
   "id": "administrative-appreciation",
   "metadata": {},
   "outputs": [
    {
     "name": "stdout",
     "output_type": "stream",
     "text": [
      "Downloading data from https://storage.googleapis.com/tensorflow/tf-keras-datasets/train-labels-idx1-ubyte.gz\n",
      "32768/29515 [=================================] - 0s 1us/step\n",
      "40960/29515 [=========================================] - 0s 0us/step\n",
      "Downloading data from https://storage.googleapis.com/tensorflow/tf-keras-datasets/train-images-idx3-ubyte.gz\n",
      "26427392/26421880 [==============================] - 4s 0us/step\n",
      "26435584/26421880 [==============================] - 4s 0us/step\n",
      "Downloading data from https://storage.googleapis.com/tensorflow/tf-keras-datasets/t10k-labels-idx1-ubyte.gz\n",
      "16384/5148 [===============================================================================================] - 0s 0us/step\n",
      "Downloading data from https://storage.googleapis.com/tensorflow/tf-keras-datasets/t10k-images-idx3-ubyte.gz\n",
      "4423680/4422102 [==============================] - 1s 0us/step\n",
      "4431872/4422102 [==============================] - 1s 0us/step\n"
     ]
    }
   ],
   "source": [
    "\n",
    "# (x_train, y_train), (x_test, y_test) = mnist.load_data()\n",
    "(x_train, y_train), (x_test, y_test) = tf.keras.datasets.fashion_mnist.load_data()"
   ]
  },
  {
   "cell_type": "code",
   "execution_count": 22,
   "id": "pacific-floor",
   "metadata": {},
   "outputs": [
    {
     "name": "stdout",
     "output_type": "stream",
     "text": [
      "Training data shape:  (60000, 28, 28)\n",
      "Test data shape (10000, 28, 28)\n"
     ]
    }
   ],
   "source": [
    "\n",
    "from keras.datasets import mnist\n",
    "\n",
    "# Setup train and test splits\n",
    "# (x_train, y_train), (x_test, y_test) = mnist.load_data()\n",
    "print(\"Training data shape: \", x_train.shape) # (60000, 28, 28) -- 60000 images, each 28x28 pixels\n",
    "print(\"Test data shape\", x_test.shape) # (10000, 28, 28) -- 10000 images, each 28x28\n",
    "\n",
    "# Flatten the images\n",
    "image_vector_size = 28*28\n",
    "x_train = x_train.reshape(x_train.shape[0], image_vector_size)\n",
    "x_test = x_test.reshape(x_test.shape[0], image_vector_size)\n",
    "y_orig_test = y_test"
   ]
  },
  {
   "cell_type": "code",
   "execution_count": null,
   "id": "laughing-violin",
   "metadata": {},
   "outputs": [],
   "source": []
  },
  {
   "cell_type": "code",
   "execution_count": 23,
   "id": "overhead-collectible",
   "metadata": {},
   "outputs": [
    {
     "name": "stdout",
     "output_type": "stream",
     "text": [
      "First 5 training lables as one-hot encoded vectors:\n",
      " [[0. 0. 0. 0. 0. 0. 0. 0. 0. 1.]\n",
      " [1. 0. 0. 0. 0. 0. 0. 0. 0. 0.]\n",
      " [1. 0. 0. 0. 0. 0. 0. 0. 0. 0.]\n",
      " [0. 0. 0. 1. 0. 0. 0. 0. 0. 0.]\n",
      " [1. 0. 0. 0. 0. 0. 0. 0. 0. 0.]]\n"
     ]
    },
    {
     "data": {
      "text/plain": [
       "'\\n[[0, 0, 0, 0, 0, 1, 0, 0, 0, 0]\\n [1, 0, 0, 0, 0, 0, 0, 0, 0, 0]\\n [0, 0, 0, 0, 1, 0, 0, 0, 0, 0]\\n [0, 1, 0, 0, 0, 0, 0, 0, 0, 0]\\n [0, 0, 0, 0, 0, 0, 0, 0, 0, 1]]\\n'"
      ]
     },
     "execution_count": 23,
     "metadata": {},
     "output_type": "execute_result"
    }
   ],
   "source": [
    "from tensorflow import keras\n",
    "# from keras.datasets import mnist\n",
    "from keras import utils as np_utils\n",
    "\n",
    "# Setup train and test splits\n",
    "# (x_train, y_train), (x_test, y_test) = mnist.load_data()\n",
    "# print(\"Training label shape: \", y_train.shape) # (60000,) -- 60000 numbers (all 0-9)\n",
    "# print(\"First 5 training labels: \", y_train[:5]) # [5, 0, 4, 1, 9]\n",
    "\n",
    "# Convert to \"one-hot\" vectors using the to_categorical function\n",
    "num_classes = 10\n",
    "y_train = keras.utils.to_categorical(y_train, num_classes)\n",
    "y_test = keras.utils.to_categorical(y_test, num_classes)\n",
    "print(\"First 5 training lables as one-hot encoded vectors:\\n\", y_train[:5])\n",
    "\n",
    "# This is the one-hot version of: [5, 0, 4, 1, 9]\n",
    "\"\"\"\n",
    "[[0, 0, 0, 0, 0, 1, 0, 0, 0, 0]\n",
    " [1, 0, 0, 0, 0, 0, 0, 0, 0, 0]\n",
    " [0, 0, 0, 0, 1, 0, 0, 0, 0, 0]\n",
    " [0, 1, 0, 0, 0, 0, 0, 0, 0, 0]\n",
    " [0, 0, 0, 0, 0, 0, 0, 0, 0, 1]]\n",
    "\"\"\""
   ]
  },
  {
   "cell_type": "code",
   "execution_count": 24,
   "id": "applicable-influence",
   "metadata": {},
   "outputs": [
    {
     "name": "stdout",
     "output_type": "stream",
     "text": [
      "Model: \"sequential\"\n",
      "_________________________________________________________________\n",
      " Layer (type)                Output Shape              Param #   \n",
      "=================================================================\n",
      " dense (Dense)               (None, 4)                 3140      \n",
      "                                                                 \n",
      " dense_1 (Dense)             (None, 10)                50        \n",
      "                                                                 \n",
      "=================================================================\n",
      "Total params: 3,190\n",
      "Trainable params: 3,190\n",
      "Non-trainable params: 0\n",
      "_________________________________________________________________\n"
     ]
    },
    {
     "name": "stderr",
     "output_type": "stream",
     "text": [
      "2022-04-01 23:04:19.789525: I tensorflow/core/platform/cpu_feature_guard.cc:151] This TensorFlow binary is optimized with oneAPI Deep Neural Network Library (oneDNN) to use the following CPU instructions in performance-critical operations:  AVX2 FMA\n",
      "To enable them in other operations, rebuild TensorFlow with the appropriate compiler flags.\n"
     ]
    }
   ],
   "source": [
    "import matplotlib.pyplot as plt \n",
    "from keras.layers import Dense # Dense layers are \"fully connected\" layers\n",
    "from keras.models import Sequential # Documentation: https://keras.io/models/sequential/\n",
    "\n",
    "image_size = 784 # 28*28\n",
    "num_classes = 10 # ten unique digits\n",
    "\n",
    "model = Sequential()\n",
    "\n",
    "# The input layer requires the special input_shape parameter which should match\n",
    "# the shape of our training data.\n",
    "model.add(Dense(units=4, activation='sigmoid', input_shape=(image_size,)))\n",
    "model.add(Dense(units=num_classes, activation='softmax'))\n",
    "model.summary()"
   ]
  },
  {
   "cell_type": "code",
   "execution_count": 25,
   "id": "forbidden-interpretation",
   "metadata": {},
   "outputs": [
    {
     "name": "stdout",
     "output_type": "stream",
     "text": [
      "Epoch 1/100\n",
      "422/422 [==============================] - 1s 2ms/step - loss: 2.1426 - acc: 0.2762 - val_loss: 1.9922 - val_acc: 0.3275\n",
      "Epoch 2/100\n",
      "422/422 [==============================] - 1s 2ms/step - loss: 1.9481 - acc: 0.4109 - val_loss: 1.8749 - val_acc: 0.4917\n",
      "Epoch 3/100\n",
      "422/422 [==============================] - 1s 2ms/step - loss: 1.8399 - acc: 0.5037 - val_loss: 1.7871 - val_acc: 0.5657\n",
      "Epoch 4/100\n",
      "422/422 [==============================] - 1s 2ms/step - loss: 1.7579 - acc: 0.5459 - val_loss: 1.7158 - val_acc: 0.5605\n",
      "Epoch 5/100\n",
      "422/422 [==============================] - 1s 2ms/step - loss: 1.6913 - acc: 0.5490 - val_loss: 1.6510 - val_acc: 0.5553\n",
      "Epoch 6/100\n",
      "422/422 [==============================] - 1s 2ms/step - loss: 1.6339 - acc: 0.5522 - val_loss: 1.5878 - val_acc: 0.5938\n",
      "Epoch 7/100\n",
      "422/422 [==============================] - 1s 2ms/step - loss: 1.5735 - acc: 0.5773 - val_loss: 1.5313 - val_acc: 0.5947\n",
      "Epoch 8/100\n",
      "422/422 [==============================] - 1s 2ms/step - loss: 1.5328 - acc: 0.5703 - val_loss: 1.5052 - val_acc: 0.5808\n",
      "Epoch 9/100\n",
      "422/422 [==============================] - 1s 2ms/step - loss: 1.4830 - acc: 0.5752 - val_loss: 1.4532 - val_acc: 0.5927\n",
      "Epoch 10/100\n",
      "422/422 [==============================] - 1s 2ms/step - loss: 1.4399 - acc: 0.5864 - val_loss: 1.4365 - val_acc: 0.5887\n",
      "Epoch 11/100\n",
      "422/422 [==============================] - 1s 2ms/step - loss: 1.4175 - acc: 0.5768 - val_loss: 1.3689 - val_acc: 0.6048\n",
      "Epoch 12/100\n",
      "422/422 [==============================] - 1s 2ms/step - loss: 1.3897 - acc: 0.5761 - val_loss: 1.3772 - val_acc: 0.5702\n",
      "Epoch 13/100\n",
      "422/422 [==============================] - 1s 2ms/step - loss: 1.3454 - acc: 0.5850 - val_loss: 1.3451 - val_acc: 0.5870\n",
      "Epoch 14/100\n",
      "422/422 [==============================] - 1s 2ms/step - loss: 1.3163 - acc: 0.5923 - val_loss: 1.3071 - val_acc: 0.5985\n",
      "Epoch 15/100\n",
      "422/422 [==============================] - 1s 2ms/step - loss: 1.3039 - acc: 0.5862 - val_loss: 1.2903 - val_acc: 0.5888\n",
      "Epoch 16/100\n",
      "422/422 [==============================] - 1s 2ms/step - loss: 1.2931 - acc: 0.5769 - val_loss: 1.2703 - val_acc: 0.5893\n",
      "Epoch 17/100\n",
      "422/422 [==============================] - 1s 2ms/step - loss: 1.2759 - acc: 0.5841 - val_loss: 1.2444 - val_acc: 0.6035\n",
      "Epoch 18/100\n",
      "422/422 [==============================] - 1s 2ms/step - loss: 1.2720 - acc: 0.5798 - val_loss: 1.2565 - val_acc: 0.5805\n",
      "Epoch 19/100\n",
      "422/422 [==============================] - 1s 2ms/step - loss: 1.2356 - acc: 0.5886 - val_loss: 1.2960 - val_acc: 0.5712\n",
      "Epoch 20/100\n",
      "422/422 [==============================] - 1s 2ms/step - loss: 1.2263 - acc: 0.5880 - val_loss: 1.2692 - val_acc: 0.5665\n",
      "Epoch 21/100\n",
      "422/422 [==============================] - 1s 2ms/step - loss: 1.2244 - acc: 0.5866 - val_loss: 1.2489 - val_acc: 0.5825\n",
      "Epoch 22/100\n",
      "422/422 [==============================] - 1s 2ms/step - loss: 1.2091 - acc: 0.5893 - val_loss: 1.2005 - val_acc: 0.6042\n",
      "Epoch 23/100\n",
      "422/422 [==============================] - 1s 2ms/step - loss: 1.2023 - acc: 0.5858 - val_loss: 1.2261 - val_acc: 0.5693\n",
      "Epoch 24/100\n",
      "422/422 [==============================] - 1s 2ms/step - loss: 1.2025 - acc: 0.5831 - val_loss: 1.1724 - val_acc: 0.6033\n",
      "Epoch 25/100\n",
      "422/422 [==============================] - 1s 2ms/step - loss: 1.1850 - acc: 0.5852 - val_loss: 1.2053 - val_acc: 0.5748\n",
      "Epoch 26/100\n",
      "422/422 [==============================] - 1s 2ms/step - loss: 1.1698 - acc: 0.5881 - val_loss: 1.1574 - val_acc: 0.5970\n",
      "Epoch 27/100\n",
      "422/422 [==============================] - 1s 2ms/step - loss: 1.1706 - acc: 0.5899 - val_loss: 1.1695 - val_acc: 0.5977\n",
      "Epoch 28/100\n",
      "422/422 [==============================] - 1s 2ms/step - loss: 1.1672 - acc: 0.5840 - val_loss: 1.1462 - val_acc: 0.5925\n",
      "Epoch 29/100\n",
      "422/422 [==============================] - 1s 2ms/step - loss: 1.1471 - acc: 0.5910 - val_loss: 1.2680 - val_acc: 0.5230\n",
      "Epoch 30/100\n",
      "422/422 [==============================] - 1s 2ms/step - loss: 1.1577 - acc: 0.5838 - val_loss: 1.2237 - val_acc: 0.5493\n",
      "Epoch 31/100\n",
      "422/422 [==============================] - 1s 2ms/step - loss: 1.1406 - acc: 0.5887 - val_loss: 1.1117 - val_acc: 0.6053\n",
      "Epoch 32/100\n",
      "422/422 [==============================] - 1s 2ms/step - loss: 1.1284 - acc: 0.5925 - val_loss: 1.1047 - val_acc: 0.6093\n",
      "Epoch 33/100\n",
      "422/422 [==============================] - 1s 2ms/step - loss: 1.1382 - acc: 0.5863 - val_loss: 1.1035 - val_acc: 0.6063\n",
      "Epoch 34/100\n",
      "422/422 [==============================] - 1s 2ms/step - loss: 1.1190 - acc: 0.5941 - val_loss: 1.1074 - val_acc: 0.6008\n",
      "Epoch 35/100\n",
      "422/422 [==============================] - 1s 2ms/step - loss: 1.1246 - acc: 0.5911 - val_loss: 1.0946 - val_acc: 0.6070\n",
      "Epoch 36/100\n",
      "422/422 [==============================] - 1s 2ms/step - loss: 1.1142 - acc: 0.5909 - val_loss: 1.0817 - val_acc: 0.6148\n",
      "Epoch 37/100\n",
      "422/422 [==============================] - 1s 2ms/step - loss: 1.1156 - acc: 0.5895 - val_loss: 1.2134 - val_acc: 0.5582\n",
      "Epoch 38/100\n",
      "422/422 [==============================] - 1s 2ms/step - loss: 1.1132 - acc: 0.5949 - val_loss: 1.0922 - val_acc: 0.6013\n",
      "Epoch 39/100\n",
      "422/422 [==============================] - 1s 2ms/step - loss: 1.1183 - acc: 0.5908 - val_loss: 1.0961 - val_acc: 0.6025\n",
      "Epoch 40/100\n",
      "422/422 [==============================] - 1s 2ms/step - loss: 1.1018 - acc: 0.5978 - val_loss: 1.1055 - val_acc: 0.5997\n",
      "Epoch 41/100\n",
      "422/422 [==============================] - 1s 2ms/step - loss: 1.0988 - acc: 0.5976 - val_loss: 1.0876 - val_acc: 0.6070\n",
      "Epoch 42/100\n",
      "422/422 [==============================] - 1s 2ms/step - loss: 1.1010 - acc: 0.5940 - val_loss: 1.0929 - val_acc: 0.6085\n",
      "Epoch 43/100\n",
      "422/422 [==============================] - 1s 2ms/step - loss: 1.0945 - acc: 0.5949 - val_loss: 1.0755 - val_acc: 0.6035\n",
      "Epoch 44/100\n",
      "422/422 [==============================] - 1s 2ms/step - loss: 1.1092 - acc: 0.5910 - val_loss: 1.1037 - val_acc: 0.5990\n",
      "Epoch 45/100\n",
      "422/422 [==============================] - 1s 2ms/step - loss: 1.0959 - acc: 0.5933 - val_loss: 1.0692 - val_acc: 0.6060\n",
      "Epoch 46/100\n",
      "422/422 [==============================] - 1s 2ms/step - loss: 1.0997 - acc: 0.5956 - val_loss: 1.0666 - val_acc: 0.6095\n",
      "Epoch 47/100\n",
      "422/422 [==============================] - 1s 2ms/step - loss: 1.0970 - acc: 0.5886 - val_loss: 1.0694 - val_acc: 0.6032\n",
      "Epoch 48/100\n",
      "422/422 [==============================] - 1s 2ms/step - loss: 1.0814 - acc: 0.5926 - val_loss: 1.0690 - val_acc: 0.6085\n",
      "Epoch 49/100\n",
      "422/422 [==============================] - 1s 2ms/step - loss: 1.0788 - acc: 0.5946 - val_loss: 1.0730 - val_acc: 0.6013\n",
      "Epoch 50/100\n",
      "422/422 [==============================] - 1s 2ms/step - loss: 1.0919 - acc: 0.5889 - val_loss: 1.1015 - val_acc: 0.5943\n",
      "Epoch 51/100\n",
      "422/422 [==============================] - 1s 2ms/step - loss: 1.0740 - acc: 0.5956 - val_loss: 1.0690 - val_acc: 0.6067\n",
      "Epoch 52/100\n",
      "422/422 [==============================] - 1s 2ms/step - loss: 1.0850 - acc: 0.5947 - val_loss: 1.0477 - val_acc: 0.6112\n",
      "Epoch 53/100\n",
      "422/422 [==============================] - 1s 2ms/step - loss: 1.0857 - acc: 0.5910 - val_loss: 1.0511 - val_acc: 0.6093\n",
      "Epoch 54/100\n",
      "422/422 [==============================] - 1s 2ms/step - loss: 1.0807 - acc: 0.5899 - val_loss: 1.0530 - val_acc: 0.6050\n",
      "Epoch 55/100\n",
      "422/422 [==============================] - 1s 2ms/step - loss: 1.0747 - acc: 0.5905 - val_loss: 1.1918 - val_acc: 0.5407\n",
      "Epoch 56/100\n",
      "422/422 [==============================] - 1s 2ms/step - loss: 1.0864 - acc: 0.5848 - val_loss: 1.0551 - val_acc: 0.6047\n",
      "Epoch 57/100\n",
      "422/422 [==============================] - 1s 2ms/step - loss: 1.0808 - acc: 0.5830 - val_loss: 1.0930 - val_acc: 0.5923\n",
      "Epoch 58/100\n",
      "422/422 [==============================] - 1s 2ms/step - loss: 1.0623 - acc: 0.5944 - val_loss: 1.0398 - val_acc: 0.6100\n",
      "Epoch 59/100\n",
      "422/422 [==============================] - 1s 2ms/step - loss: 1.0642 - acc: 0.5942 - val_loss: 1.0578 - val_acc: 0.6030\n",
      "Epoch 60/100\n",
      "422/422 [==============================] - 1s 2ms/step - loss: 1.0718 - acc: 0.5885 - val_loss: 1.0519 - val_acc: 0.5988\n",
      "Epoch 61/100\n",
      "422/422 [==============================] - 1s 2ms/step - loss: 1.0522 - acc: 0.5973 - val_loss: 1.0497 - val_acc: 0.6065\n",
      "Epoch 62/100\n"
     ]
    },
    {
     "name": "stdout",
     "output_type": "stream",
     "text": [
      "422/422 [==============================] - 1s 2ms/step - loss: 1.0843 - acc: 0.5873 - val_loss: 1.0892 - val_acc: 0.6038\n",
      "Epoch 63/100\n",
      "422/422 [==============================] - 1s 2ms/step - loss: 1.0666 - acc: 0.5960 - val_loss: 1.0327 - val_acc: 0.6100\n",
      "Epoch 64/100\n",
      "422/422 [==============================] - 1s 2ms/step - loss: 1.0737 - acc: 0.5909 - val_loss: 1.0898 - val_acc: 0.5957\n",
      "Epoch 65/100\n",
      "422/422 [==============================] - 1s 2ms/step - loss: 1.0814 - acc: 0.5884 - val_loss: 1.0528 - val_acc: 0.6013\n",
      "Epoch 66/100\n",
      "422/422 [==============================] - 1s 2ms/step - loss: 1.0701 - acc: 0.5859 - val_loss: 1.0557 - val_acc: 0.5957\n",
      "Epoch 67/100\n",
      "422/422 [==============================] - 1s 2ms/step - loss: 1.0508 - acc: 0.5956 - val_loss: 1.0438 - val_acc: 0.5985\n",
      "Epoch 68/100\n",
      "422/422 [==============================] - 1s 2ms/step - loss: 1.0515 - acc: 0.5949 - val_loss: 1.0724 - val_acc: 0.5952\n",
      "Epoch 69/100\n",
      "422/422 [==============================] - 1s 2ms/step - loss: 1.0514 - acc: 0.5956 - val_loss: 1.0701 - val_acc: 0.5973\n",
      "Epoch 70/100\n",
      "422/422 [==============================] - 1s 2ms/step - loss: 1.0575 - acc: 0.5978 - val_loss: 1.0399 - val_acc: 0.6108\n",
      "Epoch 71/100\n",
      "422/422 [==============================] - 1s 2ms/step - loss: 1.0525 - acc: 0.5978 - val_loss: 1.0414 - val_acc: 0.6060\n",
      "Epoch 72/100\n",
      "422/422 [==============================] - 1s 2ms/step - loss: 1.0574 - acc: 0.5943 - val_loss: 1.0427 - val_acc: 0.6082\n",
      "Epoch 73/100\n",
      "422/422 [==============================] - 1s 2ms/step - loss: 1.0507 - acc: 0.5981 - val_loss: 1.0444 - val_acc: 0.6123\n",
      "Epoch 74/100\n",
      "422/422 [==============================] - 1s 2ms/step - loss: 1.0479 - acc: 0.6005 - val_loss: 1.0299 - val_acc: 0.6118\n",
      "Epoch 75/100\n",
      "422/422 [==============================] - 1s 2ms/step - loss: 1.0684 - acc: 0.5900 - val_loss: 1.0391 - val_acc: 0.6078\n",
      "Epoch 76/100\n",
      "422/422 [==============================] - 1s 2ms/step - loss: 1.0411 - acc: 0.5975 - val_loss: 1.0286 - val_acc: 0.6147\n",
      "Epoch 77/100\n",
      "422/422 [==============================] - 1s 2ms/step - loss: 1.0587 - acc: 0.5934 - val_loss: 1.0405 - val_acc: 0.6105\n",
      "Epoch 78/100\n",
      "422/422 [==============================] - 1s 2ms/step - loss: 1.0517 - acc: 0.5933 - val_loss: 1.0099 - val_acc: 0.6130\n",
      "Epoch 79/100\n",
      "422/422 [==============================] - 1s 2ms/step - loss: 1.0632 - acc: 0.5901 - val_loss: 1.0534 - val_acc: 0.5982\n",
      "Epoch 80/100\n",
      "422/422 [==============================] - 1s 2ms/step - loss: 1.0481 - acc: 0.5961 - val_loss: 1.0328 - val_acc: 0.6030\n",
      "Epoch 81/100\n",
      "422/422 [==============================] - 1s 2ms/step - loss: 1.0473 - acc: 0.5956 - val_loss: 1.0085 - val_acc: 0.6168\n",
      "Epoch 82/100\n",
      "422/422 [==============================] - 1s 2ms/step - loss: 1.0403 - acc: 0.5994 - val_loss: 1.0151 - val_acc: 0.6175\n",
      "Epoch 83/100\n",
      "422/422 [==============================] - 1s 2ms/step - loss: 1.0488 - acc: 0.5930 - val_loss: 1.0302 - val_acc: 0.6048\n",
      "Epoch 84/100\n",
      "422/422 [==============================] - 1s 2ms/step - loss: 1.0343 - acc: 0.5983 - val_loss: 1.0273 - val_acc: 0.6110\n",
      "Epoch 85/100\n",
      "422/422 [==============================] - 1s 2ms/step - loss: 1.0333 - acc: 0.5979 - val_loss: 1.0141 - val_acc: 0.6110\n",
      "Epoch 86/100\n",
      "422/422 [==============================] - 1s 2ms/step - loss: 1.0279 - acc: 0.5941 - val_loss: 1.0026 - val_acc: 0.6063\n",
      "Epoch 87/100\n",
      "422/422 [==============================] - 1s 2ms/step - loss: 1.0259 - acc: 0.6226 - val_loss: 1.0345 - val_acc: 0.6347\n",
      "Epoch 88/100\n",
      "422/422 [==============================] - 1s 2ms/step - loss: 1.0174 - acc: 0.6306 - val_loss: 1.0490 - val_acc: 0.6223\n",
      "Epoch 89/100\n",
      "422/422 [==============================] - 1s 2ms/step - loss: 1.0212 - acc: 0.6258 - val_loss: 1.0059 - val_acc: 0.6362\n",
      "Epoch 90/100\n",
      "422/422 [==============================] - 1s 2ms/step - loss: 1.0451 - acc: 0.6154 - val_loss: 1.1053 - val_acc: 0.5990\n",
      "Epoch 91/100\n",
      "422/422 [==============================] - 1s 2ms/step - loss: 1.1139 - acc: 0.5855 - val_loss: 1.0888 - val_acc: 0.5843\n",
      "Epoch 92/100\n",
      "422/422 [==============================] - 1s 2ms/step - loss: 1.1010 - acc: 0.5776 - val_loss: 1.0613 - val_acc: 0.6137\n",
      "Epoch 93/100\n",
      "422/422 [==============================] - 1s 2ms/step - loss: 1.0838 - acc: 0.5835 - val_loss: 1.1180 - val_acc: 0.5588\n",
      "Epoch 94/100\n",
      "422/422 [==============================] - 1s 2ms/step - loss: 1.0719 - acc: 0.5830 - val_loss: 1.0970 - val_acc: 0.5802\n",
      "Epoch 95/100\n",
      "422/422 [==============================] - 1s 2ms/step - loss: 1.0644 - acc: 0.5959 - val_loss: 1.0437 - val_acc: 0.6057\n",
      "Epoch 96/100\n",
      "422/422 [==============================] - 1s 2ms/step - loss: 1.0727 - acc: 0.5870 - val_loss: 1.0820 - val_acc: 0.5972\n",
      "Epoch 97/100\n",
      "422/422 [==============================] - 1s 2ms/step - loss: 1.0580 - acc: 0.5970 - val_loss: 1.0520 - val_acc: 0.6100\n",
      "Epoch 98/100\n",
      "422/422 [==============================] - 1s 2ms/step - loss: 1.0502 - acc: 0.5989 - val_loss: 1.0613 - val_acc: 0.5928\n",
      "Epoch 99/100\n",
      "422/422 [==============================] - 1s 2ms/step - loss: 1.0447 - acc: 0.5992 - val_loss: 1.0469 - val_acc: 0.6035\n",
      "Epoch 100/100\n",
      "422/422 [==============================] - 1s 2ms/step - loss: 1.0423 - acc: 0.6015 - val_loss: 1.0302 - val_acc: 0.6093\n"
     ]
    },
    {
     "data": {
      "image/png": "[encoded data removed]",
      "text/plain": [
       "<Figure size 432x288 with 1 Axes>"
      ]
     },
     "metadata": {
      "needs_background": "light"
     },
     "output_type": "display_data"
    },
    {
     "name": "stdout",
     "output_type": "stream",
     "text": [
      "Test loss: 1.04\n",
      "Test accuracy: 0.604\n"
     ]
    }
   ],
   "source": [
    "model.compile(optimizer=\"sgd\", loss='categorical_crossentropy', metrics=[\"acc\"])\n",
    "history = model.fit(x_train, y_train, batch_size=128, epochs=100, verbose=True, validation_split=.1)\n",
    "loss, accuracy  = model.evaluate(x_test, y_test, verbose=False)\n",
    "\n",
    "plt.plot(history.history['acc'])\n",
    "plt.plot(history.history['val_acc'])\n",
    "plt.title('model accuracy')\n",
    "plt.ylabel('accuracy')\n",
    "plt.xlabel('epoch')\n",
    "plt.legend(['training', 'validation'], loc='best')\n",
    "plt.show()\n",
    "\n",
    "print(f'Test loss: {loss:.3}')\n",
    "print(f'Test accuracy: {accuracy:.3}')"
   ]
  },
  {
   "cell_type": "code",
   "execution_count": 26,
   "id": "primary-missouri",
   "metadata": {},
   "outputs": [],
   "source": [
    "first_layer_weights = model.layers[0].get_weights()[0]\n",
    "first_layer_biases  = model.layers[0].get_weights()[1]\n",
    "second_layer_weights = model.layers[1].get_weights()[0]\n",
    "second_layer_biases  = model.layers[1].get_weights()[1]"
   ]
  },
  {
   "cell_type": "code",
   "execution_count": 27,
   "id": "b78bfe5c",
   "metadata": {},
   "outputs": [
    {
     "data": {
      "text/plain": [
       "array([-0.00145811,  0.00693794, -0.00016449,  0.00818048], dtype=float32)"
      ]
     },
     "execution_count": 27,
     "metadata": {},
     "output_type": "execute_result"
    }
   ],
   "source": [
    "model.layers[0].get_weights()[1]"
   ]
  },
  {
   "cell_type": "code",
   "execution_count": 28,
   "id": "29f76185",
   "metadata": {},
   "outputs": [
    {
     "data": {
      "text/plain": [
       "array([ 0.4118962 , -1.5121402 ,  2.7769895 , -0.57341105,  1.3708235 ,\n",
       "       -1.2409862 ,  1.9369763 , -1.4254439 , -1.7835927 ,  0.03889553],\n",
       "      dtype=float32)"
      ]
     },
     "execution_count": 28,
     "metadata": {},
     "output_type": "execute_result"
    }
   ],
   "source": [
    "model.layers[1].get_weights()[1]"
   ]
  },
  {
   "cell_type": "code",
   "execution_count": 82,
   "id": "silent-queue",
   "metadata": {},
   "outputs": [],
   "source": [
    "fw = (first_layer_weights*100).astype(int)\n",
    "sw = (second_layer_weights*10).astype(int) \n",
    "fb = (first_layer_biases*100).astype(int)  \n",
    "sb = (second_layer_biases*10).astype(int)"
   ]
  },
  {
   "cell_type": "code",
   "execution_count": 83,
   "id": "sublime-latin",
   "metadata": {},
   "outputs": [],
   "source": [
    "# fw = first_layer_weights\n",
    "# sw = second_layer_weights\n",
    "# fb = first_layer_biases \n",
    "# sb = second_layer_biases"
   ]
  },
  {
   "cell_type": "code",
   "execution_count": 84,
   "id": "d5daf78f",
   "metadata": {},
   "outputs": [
    {
     "data": {
      "text/plain": [
       "array([0, 0, 0, 0])"
      ]
     },
     "execution_count": 84,
     "metadata": {},
     "output_type": "execute_result"
    }
   ],
   "source": [
    "fb"
   ]
  },
  {
   "cell_type": "code",
   "execution_count": 85,
   "id": "indie-browse",
   "metadata": {},
   "outputs": [
    {
     "data": {
      "text/plain": [
       "(784, 4)"
      ]
     },
     "execution_count": 85,
     "metadata": {},
     "output_type": "execute_result"
    }
   ],
   "source": [
    "fw.shape"
   ]
  },
  {
   "cell_type": "code",
   "execution_count": 86,
   "id": "variable-luxury",
   "metadata": {},
   "outputs": [
    {
     "data": {
      "text/plain": [
       "(4, 10)"
      ]
     },
     "execution_count": 86,
     "metadata": {},
     "output_type": "execute_result"
    }
   ],
   "source": [
    "sw.shape"
   ]
  },
  {
   "cell_type": "code",
   "execution_count": 87,
   "id": "graphic-basement",
   "metadata": {},
   "outputs": [
    {
     "data": {
      "text/plain": [
       "array([[  0,   1,  -1,  -5],\n",
       "       [  0,   7,   7,  -4],\n",
       "       [  0,   8,  -3,   3],\n",
       "       ...,\n",
       "       [-29,   6,   8,  12],\n",
       "       [ -9,  -3,   3,   9],\n",
       "       [ -3,  -2,   4,   4]])"
      ]
     },
     "execution_count": 87,
     "metadata": {},
     "output_type": "execute_result"
    }
   ],
   "source": [
    "fw"
   ]
  },
  {
   "cell_type": "code",
   "execution_count": 88,
   "id": "oriental-anger",
   "metadata": {},
   "outputs": [
    {
     "data": {
      "text/plain": [
       "array([[ 28,  24, -21,  27,  -8, -16,   0, -24,  28, -39],\n",
       "       [-31,  25, -33,   9, -31,  30, -32,  32, -22,  39],\n",
       "       [  5,  -5,  16,  -1,   8,  -3,  12,  -8,  -7,   4],\n",
       "       [-24, -25, -10, -13,  16,  18,   3,  18,  31, -26]])"
      ]
     },
     "execution_count": 88,
     "metadata": {},
     "output_type": "execute_result"
    }
   ],
   "source": [
    "sw"
   ]
  },
  {
   "cell_type": "code",
   "execution_count": 89,
   "id": "e3ae60f0",
   "metadata": {},
   "outputs": [
    {
     "name": "stderr",
     "output_type": "stream",
     "text": [
      "/Users/Syed/anaconda/anaconda3/lib/python3.7/site-packages/ipykernel_launcher.py:2: RuntimeWarning: overflow encountered in exp\n",
      "  \n"
     ]
    }
   ],
   "source": [
    "def sigmoid(x):\n",
    "    return (1/(1+np.exp(-x)))\n",
    "def softmax(x):\n",
    "    sumexp = np.sum(np.exp(x))\n",
    "    return((np.exp(x)/sumexp))\n",
    "def layer1(x,w,b):\n",
    "    return sigmoid(np.dot(x,w)+b)\n",
    "def layer2(x,w,b):\n",
    "    return  softmax(np.dot(x,w)+b)\n",
    "layer1_out = layer1(x_test,fw,fb)\n",
    "layer2_out = layer2(layer1_out,sw,sb)\n",
    "pred= np.zeros(layer2_out.shape[0])\n",
    "for i in range(layer2_out.shape[0]):\n",
    "    pred[i] = np.argmax(layer2_out[i])"
   ]
  },
  {
   "cell_type": "code",
   "execution_count": 90,
   "id": "a1af6540",
   "metadata": {},
   "outputs": [
    {
     "data": {
      "text/plain": [
       "array([9, 2, 1, ..., 8, 1, 5], dtype=uint8)"
      ]
     },
     "execution_count": 90,
     "metadata": {},
     "output_type": "execute_result"
    }
   ],
   "source": [
    "y_orig_test"
   ]
  },
  {
   "cell_type": "code",
   "execution_count": 91,
   "id": "005323ca",
   "metadata": {},
   "outputs": [
    {
     "data": {
      "text/plain": [
       "array([5., 2., 1., ..., 8., 1., 5.])"
      ]
     },
     "execution_count": 91,
     "metadata": {},
     "output_type": "execute_result"
    }
   ],
   "source": [
    "pred"
   ]
  },
  {
   "cell_type": "code",
   "execution_count": 92,
   "id": "8ccdc44e",
   "metadata": {},
   "outputs": [
    {
     "data": {
      "text/plain": [
       "0.5948"
      ]
     },
     "execution_count": 92,
     "metadata": {},
     "output_type": "execute_result"
    }
   ],
   "source": [
    "from sklearn.metrics import accuracy_score\n",
    "accuracy_score(pred,y_orig_test)"
   ]
  },
  {
   "cell_type": "code",
   "execution_count": 93,
   "id": "86596b0d",
   "metadata": {},
   "outputs": [],
   "source": [
    "x = x_test[2].tolist()\n",
    "\n",
    "w11 = fw[:,0].tolist()\n",
    "w12 = fw[:,1].tolist()\n",
    "w13 = fw[:,2].tolist()\n",
    "w14 = fw[:,3].tolist()\n",
    "\n",
    "w21 = sw[:,0].tolist()\n",
    "w22 = sw[:,1].tolist()\n",
    "w23 = sw[:,2].tolist()\n",
    "w24 = sw[:,3].tolist()\n",
    "w25 = sw[:,4].tolist()\n",
    "w26 = sw[:,5].tolist()\n",
    "w27 = sw[:,6].tolist()\n",
    "w28 = sw[:,7].tolist()\n",
    "w29 = sw[:,8].tolist()\n",
    "w30 = sw[:,9].tolist()\n",
    "\n",
    "b1 = fb.tolist()\n",
    "b2 = sb.tolist()"
   ]
  },
  {
   "cell_type": "code",
   "execution_count": 94,
   "id": "5909fd4a",
   "metadata": {},
   "outputs": [
    {
     "data": {
      "text/plain": [
       "[0, 0, 0, 0]"
      ]
     },
     "execution_count": 94,
     "metadata": {},
     "output_type": "execute_result"
    }
   ],
   "source": [
    "b1"
   ]
  },
  {
   "cell_type": "code",
   "execution_count": 95,
   "id": "37ee666c",
   "metadata": {},
   "outputs": [
    {
     "data": {
      "text/plain": [
       "[4, -15, 27, -5, 13, -12, 19, -14, -17, 0]"
      ]
     },
     "execution_count": 95,
     "metadata": {},
     "output_type": "execute_result"
    }
   ],
   "source": [
    "b2"
   ]
  },
  {
   "cell_type": "code",
   "execution_count": 96,
   "id": "8f701692",
   "metadata": {},
   "outputs": [
    {
     "data": {
      "text/plain": [
       "list"
      ]
     },
     "execution_count": 96,
     "metadata": {},
     "output_type": "execute_result"
    }
   ],
   "source": [
    "type(w11)"
   ]
  },
  {
   "cell_type": "code",
   "execution_count": 97,
   "id": "7b253605",
   "metadata": {},
   "outputs": [],
   "source": [
    "# print(nn_cont.functions.print_l1().call())\n",
    "# print(nn_cont.functions.print_l2().call())\n",
    "# n, d = sig_cont.functions.sigprint().call()\n",
    "# print(\"value of sigmoid is:\", n/d)\n",
    "# print(soft_cont.functions.set_softmax().call())"
   ]
  },
  {
   "cell_type": "code",
   "execution_count": 98,
   "id": "a2f7efb5",
   "metadata": {},
   "outputs": [],
   "source": [
    "# x = np.arange(1,784).tolist()\n",
    "# w11 = np.arange(1,784).tolist()\n",
    "# w12 = np.arange(1,784).tolist()\n",
    "# w13 = np.arange(1,784).tolist()\n",
    "# w14 = np.arange(1,784).tolist()\n",
    "# b1 = np.arange(1,5).tolist()"
   ]
  },
  {
   "cell_type": "code",
   "execution_count": 99,
   "id": "362ca10b",
   "metadata": {},
   "outputs": [],
   "source": [
    "##testing a sample  in layer 1"
   ]
  },
  {
   "cell_type": "code",
   "execution_count": 100,
   "id": "422bfa40",
   "metadata": {},
   "outputs": [
    {
     "name": "stdout",
     "output_type": "stream",
     "text": [
      "247213\n"
     ]
    }
   ],
   "source": [
    "print(np.sum(x_test[2]* fw[:,0]))"
   ]
  },
  {
   "cell_type": "code",
   "execution_count": null,
   "id": "58d3f135",
   "metadata": {},
   "outputs": [
    {
     "name": "stdout",
     "output_type": "stream",
     "text": [
      "0\n",
      "1\n",
      "2\n",
      "3\n",
      "4\n",
      "5\n",
      "6\n",
      "7\n",
      "8\n",
      "9\n",
      "10\n",
      "11\n",
      "12\n",
      "13\n",
      "14\n",
      "15\n",
      "16\n",
      "17\n",
      "18\n",
      "19\n",
      "20\n",
      "21\n",
      "22\n",
      "23\n",
      "24\n",
      "25\n",
      "26\n",
      "27\n",
      "28\n",
      "29\n",
      "30\n",
      "31\n",
      "32\n",
      "33\n",
      "34\n",
      "35\n",
      "36\n",
      "37\n",
      "38\n",
      "39\n",
      "40\n",
      "41\n",
      "42\n",
      "43\n",
      "44\n",
      "45\n",
      "46\n",
      "47\n"
     ]
    }
   ],
   "source": [
    "pred_t= np.zeros(50)\n",
    "## multiply layer 1\n",
    "for i in range(50):\n",
    "    l1_mult= np.zeros(4)\n",
    "    l1_out= np.zeros(4)\n",
    "    x= x_test[i].tolist()\n",
    "    getlayer1(x,w11,w12,w13,w14,b1)\n",
    "    # getlayer1(x,w11,w12,w13,w14,b1)\n",
    "    l1_mult[:]=nn_cont.functions.print_l1().call()\n",
    "    # print(l1_mult)\n",
    "    ## get sigmoid\n",
    "    for j in range(len(l1_mult)):\n",
    "    #     print((int(l1_mult[i]),1,int(abs(l1_mult[i])),1))\n",
    "        sigfrac(int(l1_mult[j]),1,int(abs(l1_mult[j])),1)\n",
    "    #     print(sig_cont.functions.sigprint().call())\n",
    "        n,d = sig_cont.functions.sigprint().call()\n",
    "        l1_out[j] = n/d\n",
    "    #multiply layer 2\n",
    "\n",
    "\n",
    "    l2_mult = np.zeros(10)\n",
    "    l2_out = np.zeros(10)\n",
    "    l1_out = l1_out.astype(int)\n",
    "    l1_out = l1_out.tolist()\n",
    "    getlayer2(l1_out,w21,w22,w23,w24,w25,w26,w27,w28,w29,w30,b2)\n",
    "    l2_out[:] = nn_cont.functions.print_l2().call()\n",
    "    pred_t[i] = np.argmax(l2_out)\n",
    "    print(i)"
   ]
  },
  {
   "cell_type": "code",
   "execution_count": 49,
   "id": "555b14eb",
   "metadata": {},
   "outputs": [
    {
     "data": {
      "text/plain": [
       "array([8., 7., 9., 8., 2., 5., 1., 0., 7., 5., 9., 0., 9., 9., 9., 0., 8.,\n",
       "       8., 8., 9., 3., 1., 6., 2., 9., 9., 3., 2., 1., 2., 3., 9., 2., 8.,\n",
       "       8., 4., 9., 3., 8., 6., 0., 1., 1., 2., 2., 2., 0., 9., 0., 1., 2.,\n",
       "       0., 5., 8., 8., 3., 8., 8., 2., 2., 1., 8., 2., 8., 2., 8., 0., 4.,\n",
       "       9., 2., 2., 4., 3., 8., 0., 1., 4., 1., 3., 0., 4., 9., 2., 2., 1.,\n",
       "       3., 0., 2., 9., 9., 2., 4., 1., 0., 2., 5., 8., 9., 2., 8.])"
      ]
     },
     "execution_count": 49,
     "metadata": {},
     "output_type": "execute_result"
    }
   ],
   "source": [
    "\n",
    "# print(l2_out)\n",
    "## get softmax\n",
    "\n",
    "pred_t"
   ]
  },
  {
   "cell_type": "code",
   "execution_count": 50,
   "id": "c009bc1d",
   "metadata": {},
   "outputs": [
    {
     "data": {
      "text/plain": [
       "array([9, 2, 1, 1, 6, 1, 4, 6, 5, 7, 4, 5, 7, 3, 4, 1, 2, 4, 8, 0],\n",
       "      dtype=uint8)"
      ]
     },
     "execution_count": 50,
     "metadata": {},
     "output_type": "execute_result"
    }
   ],
   "source": [
    "y_orig_test[:20]"
   ]
  },
  {
   "cell_type": "code",
   "execution_count": 51,
   "id": "f0cf86f8",
   "metadata": {},
   "outputs": [
    {
     "data": {
      "text/plain": [
       "10000"
      ]
     },
     "execution_count": 51,
     "metadata": {},
     "output_type": "execute_result"
    }
   ],
   "source": [
    "len(y_orig_test)"
   ]
  },
  {
   "cell_type": "code",
   "execution_count": 54,
   "id": "d6cb1297",
   "metadata": {},
   "outputs": [
    {
     "data": {
      "text/plain": [
       "0.08"
      ]
     },
     "execution_count": 54,
     "metadata": {},
     "output_type": "execute_result"
    }
   ],
   "source": [
    "from sklearn.metrics import accuracy_score\n",
    "accuracy_score(pred_t[:100],y_orig_test[:100])"
   ]
  },
  {
   "cell_type": "code",
   "execution_count": 53,
   "id": "138d9740",
   "metadata": {},
   "outputs": [
    {
     "ename": "TypeError",
     "evalue": "only size-1 arrays can be converted to Python scalars",
     "output_type": "error",
     "traceback": [
      "\u001b[0;31m---------------------------------------------------------------------------\u001b[0m",
      "\u001b[0;31mTypeError\u001b[0m                                 Traceback (most recent call last)",
      "\u001b[0;32m/var/folders/9j/xg5sl5n57fs3q8d3c9svsb1r0000gq/T/ipykernel_1635/3138343777.py\u001b[0m in \u001b[0;36m<module>\u001b[0;34m\u001b[0m\n\u001b[0;32m----> 1\u001b[0;31m \u001b[0mint\u001b[0m\u001b[0;34m(\u001b[0m\u001b[0mpred_t\u001b[0m\u001b[0;34m*\u001b[0m\u001b[0;36m100\u001b[0m\u001b[0;34m)\u001b[0m\u001b[0;34m\u001b[0m\u001b[0;34m\u001b[0m\u001b[0m\n\u001b[0m",
      "\u001b[0;31mTypeError\u001b[0m: only size-1 arrays can be converted to Python scalars"
     ]
    }
   ],
   "source": [
    "int(pred_t*100)"
   ]
  },
  {
   "cell_type": "code",
   "execution_count": 76,
   "id": "75449b6a",
   "metadata": {},
   "outputs": [
    {
     "data": {
      "image/png": "[encoded data removed]",
      "text/plain": [
       "<Figure size 504x504 with 1 Axes>"
      ]
     },
     "metadata": {
      "needs_background": "light"
     },
     "output_type": "display_data"
    }
   ],
   "source": [
    "import matplotlib.pyplot as plt\n",
    "x = np.arange(100)\n",
    "plt.figure(figsize=(7,7))\n",
    "plt.bar(\"on-chain prediction\", z)\n",
    "plt.bar(\"off-chain prediction\", z)\n",
    "plt.title(\"Prediction Accuracy of MNIST Dataset\",fontsize=14)\n",
    "plt.xlabel(\"Prediction type\",fontsize=13)\n",
    "plt.ylabel(\"Accuracy of predictrion\",fontsize=13)\n",
    "plt.savefig(\"pred_accuracy.pdf\",bbox_inches='tight')"
   ]
  },
  {
   "cell_type": "code",
   "execution_count": 81,
   "id": "ff405df9",
   "metadata": {},
   "outputs": [
    {
     "data": {
      "text/plain": [
       "array([[ 8,  0,  0,  0,  0,  0,  0,  0,  0,  0],\n",
       "       [ 0, 10,  0,  1,  0,  0,  0,  0,  0,  0],\n",
       "       [ 0,  0,  7,  0,  0,  0,  0,  1,  0,  0],\n",
       "       [ 0,  0,  0,  6,  0,  0,  0,  1,  1,  1],\n",
       "       [ 0,  0,  0,  0,  7,  0,  1,  0,  0,  5],\n",
       "       [ 1,  0,  0,  0,  0,  2,  2,  0,  2,  0],\n",
       "       [ 1,  0,  0,  0,  0,  0,  6,  0,  0,  0],\n",
       "       [ 0,  0,  0,  0,  0,  0,  0, 14,  0,  0],\n",
       "       [ 0,  0,  0,  0,  0,  1,  0,  0,  1,  0],\n",
       "       [ 0,  0,  0,  0,  0,  0,  0,  1,  0,  8]])"
      ]
     },
     "execution_count": 81,
     "metadata": {},
     "output_type": "execute_result"
    }
   ],
   "source": [
    "from sklearn.metrics import confusion_matrix\n",
    "cm = confusion_matrix(y_orig_test[:88],pred_t[:88])\n",
    "cm"
   ]
  },
  {
   "cell_type": "code",
   "execution_count": 84,
   "id": "a0f7d8d2",
   "metadata": {},
   "outputs": [
    {
     "data": {
      "text/plain": [
       "<AxesSubplot:>"
      ]
     },
     "execution_count": 84,
     "metadata": {},
     "output_type": "execute_result"
    },
    {
     "data": {
      "image/png": "[encoded data removed]",
      "text/plain": [
       "<Figure size 720x504 with 2 Axes>"
      ]
     },
     "metadata": {
      "needs_background": "light"
     },
     "output_type": "display_data"
    }
   ],
   "source": [
    "import seaborn as sn\n",
    "import pandas as pd\n",
    "import matplotlib.pyplot as plt\n",
    "labels = [0,1,2,3,4,5,6,7,8,9]\n",
    "df_cm = pd.DataFrame(cm, index = [i for i in labels],\n",
    "              columns = [i for i in labels])\n",
    "plt.figure(figsize = (10,7))\n",
    "sn.heatmap(df_cm, annot=True,cmap=\"OrRd\")"
   ]
  },
  {
   "cell_type": "code",
   "execution_count": 182,
   "id": "4a8b2327",
   "metadata": {},
   "outputs": [],
   "source": [
    "for i in range(len(l2_out)):\n",
    "    getexpon(int(l2_out[i]),1, abs(int(l2_out[i])),1)\n",
    "getsumexpon()\n",
    "getsoftmax()\n",
    "smaxn,smaxd = soft_cont.functions.set_softmax().call()"
   ]
  },
  {
   "cell_type": "code",
   "execution_count": 183,
   "id": "e0a872bc",
   "metadata": {},
   "outputs": [
    {
     "name": "stdout",
     "output_type": "stream",
     "text": [
      "[0, 0, 0, 0, 0, 0, 0, 0, 0, 0] [0, 0, 0, 0, 0, 0, 0, 0, 0, 0]\n"
     ]
    }
   ],
   "source": [
    "print(smaxn,smaxd)"
   ]
  },
  {
   "cell_type": "code",
   "execution_count": 15,
   "id": "functional-surveillance",
   "metadata": {},
   "outputs": [],
   "source": [
    "## testing prediction with builtin functions"
   ]
  },
  {
   "cell_type": "code",
   "execution_count": 16,
   "id": "blind-juice",
   "metadata": {},
   "outputs": [],
   "source": [
    "def sigmoid(x):\n",
    "    return (1/(1+np.exp(-x)))\n",
    "def softmax(x):\n",
    "    sumexp = np.sum(np.exp(x))\n",
    "    return((np.exp(x)/sumexp))\n",
    "def layer1(x,w,b):\n",
    "    return sigmoid(np.dot(x,w)+b)\n",
    "def layer2(x,w,b):\n",
    "    return  softmax(np.dot(x,w)+b)"
   ]
  },
  {
   "cell_type": "code",
   "execution_count": 17,
   "id": "consecutive-matthew",
   "metadata": {},
   "outputs": [
    {
     "name": "stderr",
     "output_type": "stream",
     "text": [
      "/Users/Syed/anaconda/anaconda3/lib/python3.7/site-packages/ipykernel_launcher.py:2: RuntimeWarning: overflow encountered in exp\n",
      "  \n"
     ]
    }
   ],
   "source": [
    "layer1_out = layer1(x_test,fw,fb)\n",
    "# layer1_out[:50]\n"
   ]
  },
  {
   "cell_type": "code",
   "execution_count": 18,
   "id": "proved-ottawa",
   "metadata": {},
   "outputs": [
    {
     "data": {
      "text/plain": [
       "array([2.76898550e-20, 2.98692853e-44, 6.98583051e-22, 4.64583254e-21,\n",
       "       1.50356482e-37, 6.86730237e-36, 3.05191685e-42, 8.96994448e-16,\n",
       "       1.65533536e-39, 6.15235175e-36])"
      ]
     },
     "execution_count": 18,
     "metadata": {},
     "output_type": "execute_result"
    }
   ],
   "source": [
    "layer2_out = layer2(layer1_out,sw,sb)\n",
    "layer2_out[0]"
   ]
  },
  {
   "cell_type": "code",
   "execution_count": 19,
   "id": "everyday-cylinder",
   "metadata": {},
   "outputs": [],
   "source": [
    "pred= np.zeros(layer2_out.shape[0])\n",
    "for i in range(layer2_out.shape[0]):\n",
    "    pred[i] = np.argmax(layer2_out[i])"
   ]
  },
  {
   "cell_type": "code",
   "execution_count": 20,
   "id": "caring-aquatic",
   "metadata": {},
   "outputs": [
    {
     "data": {
      "text/plain": [
       "array([7, 2, 1, ..., 4, 5, 6], dtype=uint8)"
      ]
     },
     "execution_count": 20,
     "metadata": {},
     "output_type": "execute_result"
    }
   ],
   "source": [
    "y_orig_test"
   ]
  },
  {
   "cell_type": "code",
   "execution_count": 21,
   "id": "provincial-davis",
   "metadata": {},
   "outputs": [
    {
     "data": {
      "text/plain": [
       "array([7., 2., 1., ..., 4., 5., 6.])"
      ]
     },
     "execution_count": 21,
     "metadata": {},
     "output_type": "execute_result"
    }
   ],
   "source": [
    "pred"
   ]
  },
  {
   "cell_type": "code",
   "execution_count": 22,
   "id": "stupid-retro",
   "metadata": {},
   "outputs": [
    {
     "data": {
      "text/plain": [
       "0.6137"
      ]
     },
     "execution_count": 22,
     "metadata": {},
     "output_type": "execute_result"
    }
   ],
   "source": [
    "from sklearn.metrics import accuracy_score\n",
    "accuracy_score(pred,y_orig_test)"
   ]
  },
  {
   "cell_type": "code",
   "execution_count": 208,
   "id": "american-narrow",
   "metadata": {},
   "outputs": [],
   "source": [
    "# in depth layers\n",
    "\n",
    "def create_dense(layer_sizes):\n",
    "    model = Sequential()\n",
    "    model.add(Dense(layer_sizes[0], activation='sigmoid', input_shape=(image_size,)))\n",
    "\n",
    "    for s in layer_sizes[1:]:\n",
    "        model.add(Dense(units = s, activation = 'sigmoid'))\n",
    "\n",
    "    model.add(Dense(units=num_classes, activation='softmax'))\n",
    "    return model\n",
    "\n",
    "def evaluate(model, batch_size=128, epochs=5):\n",
    "    model.summary()\n",
    "    model.compile(optimizer='sgd', loss='categorical_crossentropy', metrics=['acc'])\n",
    "    history = model.fit(x_train, y_train, batch_size=batch_size, epochs=epochs, validation_split=.1, verbose=False)\n",
    "    loss, accuracy  = model.evaluate(x_test, y_test, verbose=False)\n",
    "    \n",
    "    plt.plot(history.history['acc'])\n",
    "    plt.plot(history.history['val_acc'])\n",
    "    plt.title('model accuracy')\n",
    "    plt.ylabel('accuracy')\n",
    "    plt.xlabel('epoch')\n",
    "    plt.legend(['training', 'validation'], loc='best')\n",
    "    plt.show()\n",
    "\n",
    "    print()\n",
    "    print(f'Test loss: {loss:.3}')\n",
    "    print(f'Test accuracy: {accuracy:.3}')"
   ]
  },
  {
   "cell_type": "code",
   "execution_count": 27,
   "id": "plain-stereo",
   "metadata": {},
   "outputs": [
    {
     "name": "stdout",
     "output_type": "stream",
     "text": [
      "Model: \"sequential_7\"\n",
      "_________________________________________________________________\n",
      "Layer (type)                 Output Shape              Param #   \n",
      "=================================================================\n",
      "dense_20 (Dense)             (None, 32)                25120     \n",
      "_________________________________________________________________\n",
      "dense_21 (Dense)             (None, 10)                330       \n",
      "=================================================================\n",
      "Total params: 25,450\n",
      "Trainable params: 25,450\n",
      "Non-trainable params: 0\n",
      "_________________________________________________________________\n"
     ]
    },
    {
     "data": {
      "image/png": "[encoded data removed]",
      "text/plain": [
       "<Figure size 432x288 with 1 Axes>"
      ]
     },
     "metadata": {
      "needs_background": "light"
     },
     "output_type": "display_data"
    },
    {
     "name": "stdout",
     "output_type": "stream",
     "text": [
      "\n",
      "Test loss: 0.494\n",
      "Test accuracy: 0.888\n",
      "Model: \"sequential_8\"\n",
      "_________________________________________________________________\n",
      "Layer (type)                 Output Shape              Param #   \n",
      "=================================================================\n",
      "dense_22 (Dense)             (None, 32)                25120     \n",
      "_________________________________________________________________\n",
      "dense_23 (Dense)             (None, 32)                1056      \n",
      "_________________________________________________________________\n",
      "dense_24 (Dense)             (None, 10)                330       \n",
      "=================================================================\n",
      "Total params: 26,506\n",
      "Trainable params: 26,506\n",
      "Non-trainable params: 0\n",
      "_________________________________________________________________\n"
     ]
    },
    {
     "data": {
      "image/png": "[encoded data removed]",
      "text/plain": [
       "<Figure size 432x288 with 1 Axes>"
      ]
     },
     "metadata": {
      "needs_background": "light"
     },
     "output_type": "display_data"
    },
    {
     "name": "stdout",
     "output_type": "stream",
     "text": [
      "\n",
      "Test loss: 1.16\n",
      "Test accuracy: 0.814\n",
      "Model: \"sequential_9\"\n",
      "_________________________________________________________________\n",
      "Layer (type)                 Output Shape              Param #   \n",
      "=================================================================\n",
      "dense_25 (Dense)             (None, 32)                25120     \n",
      "_________________________________________________________________\n",
      "dense_26 (Dense)             (None, 32)                1056      \n",
      "_________________________________________________________________\n",
      "dense_27 (Dense)             (None, 32)                1056      \n",
      "_________________________________________________________________\n",
      "dense_28 (Dense)             (None, 10)                330       \n",
      "=================================================================\n",
      "Total params: 27,562\n",
      "Trainable params: 27,562\n",
      "Non-trainable params: 0\n",
      "_________________________________________________________________\n"
     ]
    },
    {
     "data": {
      "image/png": "[encoded data removed]",
      "text/plain": [
       "<Figure size 432x288 with 1 Axes>"
      ]
     },
     "metadata": {
      "needs_background": "light"
     },
     "output_type": "display_data"
    },
    {
     "name": "stdout",
     "output_type": "stream",
     "text": [
      "\n",
      "Test loss: 2.15\n",
      "Test accuracy: 0.569\n",
      "Model: \"sequential_10\"\n",
      "_________________________________________________________________\n",
      "Layer (type)                 Output Shape              Param #   \n",
      "=================================================================\n",
      "dense_29 (Dense)             (None, 32)                25120     \n",
      "_________________________________________________________________\n",
      "dense_30 (Dense)             (None, 32)                1056      \n",
      "_________________________________________________________________\n",
      "dense_31 (Dense)             (None, 32)                1056      \n",
      "_________________________________________________________________\n",
      "dense_32 (Dense)             (None, 32)                1056      \n",
      "_________________________________________________________________\n",
      "dense_33 (Dense)             (None, 10)                330       \n",
      "=================================================================\n",
      "Total params: 28,618\n",
      "Trainable params: 28,618\n",
      "Non-trainable params: 0\n",
      "_________________________________________________________________\n"
     ]
    },
    {
     "data": {
      "image/png": "[encoded data removed]",
      "text/plain": [
       "<Figure size 432x288 with 1 Axes>"
      ]
     },
     "metadata": {
      "needs_background": "light"
     },
     "output_type": "display_data"
    },
    {
     "name": "stdout",
     "output_type": "stream",
     "text": [
      "\n",
      "Test loss: 2.29\n",
      "Test accuracy: 0.113\n"
     ]
    }
   ],
   "source": [
    "for layers in range(1, 5):\n",
    "    model = create_dense([32] * layers)\n",
    "    evaluate(model)"
   ]
  },
  {
   "cell_type": "code",
   "execution_count": null,
   "id": "amateur-subdivision",
   "metadata": {},
   "outputs": [],
   "source": []
  }
 ],
 "metadata": {
  "kernelspec": {
   "display_name": "Python 3 (ipykernel)",
   "language": "python",
   "name": "python3"
  },
  "language_info": {
   "codemirror_mode": {
    "name": "ipython",
    "version": 3
   },
   "file_extension": ".py",
   "mimetype": "text/x-python",
   "name": "python",
   "nbconvert_exporter": "python",
   "pygments_lexer": "ipython3",
   "version": "3.7.11"
  }
 },
 "nbformat": 4,
 "nbformat_minor": 5
}
