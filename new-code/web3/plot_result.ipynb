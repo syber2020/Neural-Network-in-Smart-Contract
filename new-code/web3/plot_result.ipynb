{
 "cells": [
  {
   "cell_type": "code",
   "execution_count": 2,
   "id": "funky-update",
   "metadata": {},
   "outputs": [],
   "source": [
    "import numpy as np\n",
    "import matplotlib.pyplot as plt"
   ]
  },
  {
   "cell_type": "code",
   "execution_count": 3,
   "id": "perfect-fighter",
   "metadata": {},
   "outputs": [],
   "source": [
    "neurons = [1,2,3,4,5,6,7,8,9,10,11,12,13,14,15,16,17,18,19,20]\n",
    "gas_used =[680486,1082366,1486596,1895512,0,0,0,0,0,0,0,0,0,0,0,0,0,0,0,0]\n"
   ]
  },
  {
   "cell_type": "code",
   "execution_count": 4,
   "id": "sporting-primary",
   "metadata": {},
   "outputs": [],
   "source": [
    "# finding equation\n",
    "\n",
    "def line_eq(y2,y1,x2,x1):\n",
    "    m = (y2-y1)/(x2-x1)\n",
    "    c = y2 -m*x2\n",
    "    return(m,c)\n",
    "m,c = line_eq(gas_used[0],gas_used[3], neurons[0], neurons[3])"
   ]
  },
  {
   "cell_type": "code",
   "execution_count": 9,
   "id": "9b5c8f5c",
   "metadata": {},
   "outputs": [
    {
     "name": "stdout",
     "output_type": "stream",
     "text": [
      "405008.6666666667 275477.3333333333\n"
     ]
    }
   ],
   "source": [
    "print(m,c)"
   ]
  },
  {
   "cell_type": "code",
   "execution_count": 5,
   "id": "australian-portugal",
   "metadata": {},
   "outputs": [],
   "source": [
    "for i in range(4,20):\n",
    "    gas_used[i] = m*neurons[i] +c\n",
    "    "
   ]
  },
  {
   "cell_type": "code",
   "execution_count": 6,
   "id": "judicial-welding",
   "metadata": {},
   "outputs": [
    {
     "data": {
      "text/plain": [
       "[1, 2, 3, 4, 5, 6, 7, 8, 9, 10, 11, 12, 13, 14, 15, 16, 17, 18, 19, 20]"
      ]
     },
     "execution_count": 6,
     "metadata": {},
     "output_type": "execute_result"
    }
   ],
   "source": [
    "neurons"
   ]
  },
  {
   "cell_type": "code",
   "execution_count": 7,
   "id": "jewish-thailand",
   "metadata": {},
   "outputs": [
    {
     "data": {
      "text/plain": [
       "[680486,\n",
       " 1082366,\n",
       " 1486596,\n",
       " 1895512,\n",
       " 2300520.666666667,\n",
       " 2705529.3333333335,\n",
       " 3110538.0000000005,\n",
       " 3515546.666666667,\n",
       " 3920555.3333333335,\n",
       " 4325564.0,\n",
       " 4730572.666666667,\n",
       " 5135581.333333333,\n",
       " 5540590.0,\n",
       " 5945598.666666667,\n",
       " 6350607.333333333,\n",
       " 6755616.0,\n",
       " 7160624.666666667,\n",
       " 7565633.333333333,\n",
       " 7970642.0,\n",
       " 8375650.666666667]"
      ]
     },
     "execution_count": 7,
     "metadata": {},
     "output_type": "execute_result"
    }
   ],
   "source": [
    "gas_used"
   ]
  },
  {
   "cell_type": "code",
   "execution_count": 21,
   "id": "outstanding-relay",
   "metadata": {},
   "outputs": [
    {
     "data": {
      "image/png": "[encoded data removed]",
      "text/plain": [
       "<Figure size 432x288 with 1 Axes>"
      ]
     },
     "metadata": {
      "needs_background": "light"
     },
     "output_type": "display_data"
    }
   ],
   "source": [
    "eqn = \"y = 405008x + 275477\"\n",
    "# plt.figure(figsize=(7,7))\n",
    "plt.plot(neurons,gas_used,label = eqn)\n",
    "plt.xlabel(\"Number of neurons\",fontsize = 14)\n",
    "plt.ylabel(\"Gas consumption inf Gwei\",fontsize=14)\n",
    "plt.tick_params(axis='both', which='major', labelsize=14)\n",
    "plt.tick_params(axis='both', which='minor', labelsize=14)\n",
    "plt.legend()\n",
    "plt.ticklabel_format( style='plain')\n",
    "plt.xticks(neurons)\n",
    "\n",
    "plt.savefig(\"neurons-gas.pdf\",bbox_inches='tight')\n",
    "plt.show()"
   ]
  },
  {
   "cell_type": "code",
   "execution_count": null,
   "id": "composite-detection",
   "metadata": {},
   "outputs": [],
   "source": []
  },
  {
   "cell_type": "code",
   "execution_count": null,
   "id": "131ee0ee",
   "metadata": {},
   "outputs": [],
   "source": []
  }
 ],
 "metadata": {
  "kernelspec": {
   "display_name": "Python 3 (ipykernel)",
   "language": "python",
   "name": "python3"
  },
  "language_info": {
   "codemirror_mode": {
    "name": "ipython",
    "version": 3
   },
   "file_extension": ".py",
   "mimetype": "text/x-python",
   "name": "python",
   "nbconvert_exporter": "python",
   "pygments_lexer": "ipython3",
   "version": "3.7.11"
  }
 },
 "nbformat": 4,
 "nbformat_minor": 5
}
