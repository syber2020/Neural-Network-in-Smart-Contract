{
 "cells": [
  {
   "cell_type": "code",
   "execution_count": 1,
   "id": "convertible-daily",
   "metadata": {},
   "outputs": [
    {
     "data": {
      "text/plain": [
       "True"
      ]
     },
     "execution_count": 1,
     "metadata": {},
     "output_type": "execute_result"
    }
   ],
   "source": [
    "# starting web3 operations\n",
    "import numpy as np\n",
    "import json\n",
    "from web3 import Web3\n",
    "import time\n",
    "ganache_url = \"HTTP://127.0.0.1:8545\"\n",
    "# ropsten_url =\"https://ropsten.infura.io/v3/6072fdc3b95c407caa681f63ebaf72b8\"\n",
    "# web3 = Web3(Web3.HTTPProvider(ganache_url))\n",
    "web3 = Web3(Web3.HTTPProvider(ganache_url))\n",
    "web3.isConnected()"
   ]
  },
  {
   "cell_type": "code",
   "execution_count": 31,
   "id": "f2c1747d",
   "metadata": {},
   "outputs": [],
   "source": [
    "#Addresses\n",
    "# account1 = \"0xdd617f9D5120b7b30E4C502fdd6b13dCf286A300\"\n",
    "# private_key1=\"c00b36dc1777e7fda60ff1f55b57c3f51b18c0c16fe44724e451ed062a173d74\"\n",
    "# account2 = \"0x8883f1016E727C8fE93C1Df471f102bBbAF2B910\"\n",
    "# private_key2=\"8d70f54549b5fb7c04fc016cc88c447fc81aff3af3065c696aee1b529fbc8ba5\""
   ]
  },
  {
   "cell_type": "code",
   "execution_count": 2,
   "id": "usual-madagascar",
   "metadata": {},
   "outputs": [
    {
     "name": "stdout",
     "output_type": "stream",
     "text": [
      "97.211558616\n"
     ]
    }
   ],
   "source": [
    "# Basic web3 \n",
    "block = web3.eth.get_block('latest')\n",
    "balance_1 = web3.eth.getBalance(\"0xdd617f9D5120b7b30E4C502fdd6b13dCf286A300\")\n",
    "print(web3.fromWei(balance_1,'ether'))"
   ]
  },
  {
   "cell_type": "code",
   "execution_count": 3,
   "id": "billion-clinic",
   "metadata": {},
   "outputs": [],
   "source": [
    "#convert proposal names into bytes32\n",
    "candidate0 = \"0x63616e6469646174653100000000000000000000000000000000000000000000\"\n",
    "candidate1 = \"0x63616e6469646174653200000000000000000000000000000000000000000000\""
   ]
  },
  {
   "cell_type": "code",
   "execution_count": 4,
   "id": "insured-broadcasting",
   "metadata": {},
   "outputs": [],
   "source": [
    "#abi = Contract Application Binary Interface \n",
    "abi = json.loads('[ { \"inputs\": [ { \"internalType\": \"address\", \"name\": \"to\", \"type\": \"address\" } ], \"name\": \"delegate\", \"outputs\": [], \"stateMutability\": \"nonpayable\", \"type\": \"function\" }, { \"inputs\": [ { \"internalType\": \"address\", \"name\": \"voter\", \"type\": \"address\" } ], \"name\": \"giveRightToVote\", \"outputs\": [], \"stateMutability\": \"nonpayable\", \"type\": \"function\" }, { \"inputs\": [ { \"internalType\": \"bytes32[]\", \"name\": \"proposalNames\", \"type\": \"bytes32[]\" } ], \"stateMutability\": \"nonpayable\", \"type\": \"constructor\" }, { \"inputs\": [ { \"internalType\": \"uint256\", \"name\": \"proposal\", \"type\": \"uint256\" } ], \"name\": \"vote\", \"outputs\": [], \"stateMutability\": \"nonpayable\", \"type\": \"function\" }, { \"inputs\": [], \"name\": \"chairperson\", \"outputs\": [ { \"internalType\": \"address\", \"name\": \"\", \"type\": \"address\" } ], \"stateMutability\": \"view\", \"type\": \"function\" }, { \"inputs\": [ { \"internalType\": \"uint256\", \"name\": \"\", \"type\": \"uint256\" } ], \"name\": \"proposals\", \"outputs\": [ { \"internalType\": \"bytes32\", \"name\": \"name\", \"type\": \"bytes32\" }, { \"internalType\": \"uint256\", \"name\": \"voteCount\", \"type\": \"uint256\" } ], \"stateMutability\": \"view\", \"type\": \"function\" }, { \"inputs\": [ { \"internalType\": \"address\", \"name\": \"\", \"type\": \"address\" } ], \"name\": \"voters\", \"outputs\": [ { \"internalType\": \"uint256\", \"name\": \"weight\", \"type\": \"uint256\" }, { \"internalType\": \"bool\", \"name\": \"voted\", \"type\": \"bool\" }, { \"internalType\": \"address\", \"name\": \"delegate\", \"type\": \"address\" }, { \"internalType\": \"uint256\", \"name\": \"vote\", \"type\": \"uint256\" } ], \"stateMutability\": \"view\", \"type\": \"function\" }, { \"inputs\": [], \"name\": \"winnerName\", \"outputs\": [ { \"internalType\": \"bytes32\", \"name\": \"winnerName_\", \"type\": \"bytes32\" } ], \"stateMutability\": \"view\", \"type\": \"function\" }, { \"inputs\": [], \"name\": \"winningProposal\", \"outputs\": [ { \"internalType\": \"uint256\", \"name\": \"winningProposal_\", \"type\": \"uint256\" } ], \"stateMutability\": \"view\", \"type\": \"function\" } ]')\n",
    "cont_address = \"0x0f242425917C04Fe902220431C898B3E26feb6E0\"\n"
   ]
  },
  {
   "cell_type": "code",
   "execution_count": 5,
   "id": "robust-herald",
   "metadata": {},
   "outputs": [],
   "source": [
    "contract = web3.eth.contract(address=cont_address,abi=abi)"
   ]
  },
  {
   "cell_type": "code",
   "execution_count": 6,
   "id": "palestinian-transmission",
   "metadata": {},
   "outputs": [
    {
     "data": {
      "text/plain": [
       "['0xdd617f9D5120b7b30E4C502fdd6b13dCf286A300',\n",
       " '0x8883f1016E727C8fE93C1Df471f102bBbAF2B910',\n",
       " '0xd39fdd79c3b5b0c411366D5A64ba26E423e1cF61',\n",
       " '0xc35903FEf5A3c481e5374F8757789b7a926d8167',\n",
       " '0x02D1713f69E4bB575cc08Fd1fa0F38FCC77adEA0',\n",
       " '0x2e3bADAfAd1e9775980135bDBeDb59C222AA5Ef3',\n",
       " '0x5Be0c6823C4A2F2383f7de178A20757CbF372E62',\n",
       " '0x184AcdD70119eFbde97B6429AE66122C8D845e33',\n",
       " '0x543456141D649b97aa59d221C5aEAF0919C17F1D',\n",
       " '0x979b25044F7A02f9aC437a82A2b734Cf3A0e59eB']"
      ]
     },
     "execution_count": 6,
     "metadata": {},
     "output_type": "execute_result"
    }
   ],
   "source": [
    "accounts = web3.eth.accounts\n",
    "accounts"
   ]
  },
  {
   "cell_type": "code",
   "execution_count": 7,
   "id": "e56f9f3d",
   "metadata": {},
   "outputs": [],
   "source": [
    "accounts_key =[\n",
    "    \"c00b36dc1777e7fda60ff1f55b57c3f51b18c0c16fe44724e451ed062a173d74\",\n",
    "    \"8d70f54549b5fb7c04fc016cc88c447fc81aff3af3065c696aee1b529fbc8ba5\",\n",
    "    \"3f3bcef69f8cef4bb28953eebe0b11c40fca5b4ce8c9665d3647afd067050952\",\n",
    "    \"e67231d384bdbf3e0c081889ab35ee7858d74ff955923071a621f01bda9dbebf\",\n",
    "    \"e67231d384bdbf3e0c081889ab35ee7858d74ff955923071a621f01bda9dbebf\",\n",
    "    \"23033da7b470c850c6b17c9bf76d4a8cc3c9693b327f3713819b0c58c65fc0da\",\n",
    "    \"31003471a69b7a147ac460e9b46fca960e072d42cd34030e225ad931329b317c\",\n",
    "    \"bbe1607f2f9f38c30414bd1dc450f2696aea893cac1e6e6fa6ceb8b7638ed1b0\",\n",
    "    \"c40a2cfcbe732bfe45b885999de4b4d1db3db1d7797ee1300323fbc5f0fed4c0\",\n",
    "    \"c97f1bbbdaa0559bf10737f3bbcfe8fba9b3e698ea9c5de71b4c88fca7da55fc\",\n",
    "    \"14d59bfd1052b77f45c9b88f6b066674c1cf57c46f2fb628778696f5be1df49a\"\n",
    "]"
   ]
  },
  {
   "cell_type": "code",
   "execution_count": 9,
   "id": "velvet-burton",
   "metadata": {},
   "outputs": [],
   "source": [
    "# callfunction = contract.function.callfunction().call()\n",
    "#print(web3.utils.fromWei(callfunction,'ether'))"
   ]
  },
  {
   "cell_type": "markdown",
   "id": "roman-sound",
   "metadata": {},
   "source": [
    "### Functions"
   ]
  },
  {
   "cell_type": "code",
   "execution_count": 8,
   "id": "painful-bronze",
   "metadata": {},
   "outputs": [],
   "source": [
    "def give_right_to_vote(chair,chair_key,voter):\n",
    "    nonce = web3.eth.getTransactionCount(chair)\n",
    "    transaction = contract.functions.giveRightToVote(\n",
    "        voter\n",
    "         ).buildTransaction({\n",
    "        'gas': 100000,\n",
    "        'gasPrice': web3.toWei('10', 'gwei'),\n",
    "        'from': chair,\n",
    "        'nonce': nonce\n",
    "        }) \n",
    "    signed_txn = web3.eth.account.signTransaction(transaction, private_key=chair_key)\n",
    "    tx_hash = web3.eth.sendRawTransaction(signed_txn.rawTransaction)\n",
    "    tx_receipt = web3.eth.waitForTransactionReceipt(tx_hash)\n",
    "    return tx_receipt\n",
    "\n",
    "def delegate_vote(delegator,delegator_key,voter):\n",
    "    nonce = web3.eth.getTransactionCount(delegator)\n",
    "    transaction = contract.functions.delegate(\n",
    "        voter\n",
    "         ).buildTransaction({\n",
    "        'gas': 100000,\n",
    "        'gasPrice': web3.toWei('10', 'gwei'),\n",
    "        'from': delegator,\n",
    "        'nonce': nonce\n",
    "        }) \n",
    "    signed_txn = web3.eth.account.signTransaction(transaction, private_key=delegator_key)\n",
    "    tx_hash = web3.eth.sendRawTransaction(signed_txn.rawTransaction)\n",
    "    tx_receipt = web3.eth.waitForTransactionReceipt(tx_hash)\n",
    "    return tx_receipt\n",
    "\n",
    "def vote(voter,voter_key,proposal):\n",
    "    nonce = web3.eth.getTransactionCount(voter)\n",
    "    transaction = contract.functions.vote(\n",
    "        proposal\n",
    "         ).buildTransaction({\n",
    "        'gas': 100000,\n",
    "        'gasPrice': web3.toWei('10', 'gwei'),\n",
    "        'from': voter,\n",
    "        'nonce': nonce\n",
    "        }) \n",
    "    signed_txn = web3.eth.account.signTransaction(transaction, private_key=voter_key)\n",
    "    tx_hash = web3.eth.sendRawTransaction(signed_txn.rawTransaction)\n",
    "    tx_receipt = web3.eth.waitForTransactionReceipt(tx_hash)\n",
    "    return tx_receipt\n"
   ]
  },
  {
   "cell_type": "code",
   "execution_count": 9,
   "id": "printable-apparel",
   "metadata": {},
   "outputs": [
    {
     "name": "stdout",
     "output_type": "stream",
     "text": [
      "97.211558616\n"
     ]
    }
   ],
   "source": [
    "print(web3.fromWei(balance_1,'ether'))"
   ]
  },
  {
   "cell_type": "code",
   "execution_count": 10,
   "id": "d0932aab",
   "metadata": {},
   "outputs": [],
   "source": [
    "chair = accounts[0]\n",
    "chair_key = accounts_key[0]"
   ]
  },
  {
   "cell_type": "code",
   "execution_count": 11,
   "id": "c00ec845",
   "metadata": {},
   "outputs": [
    {
     "data": {
      "text/plain": [
       "AttributeDict({'transactionHash': HexBytes('0xb54f8d11f0a64d5bd8d68afd2944eb354a76de48108f6561f525b9cd853efd1a'),\n",
       " 'transactionIndex': 0,\n",
       " 'blockHash': HexBytes('0x1f6e4d6352694c3c70d6e241bea1c30506564fcbde91b2b637836b9b7871c2d5'),\n",
       " 'blockNumber': 5359,\n",
       " 'from': '0xdd617f9D5120b7b30E4C502fdd6b13dCf286A300',\n",
       " 'to': '0x0f242425917C04Fe902220431C898B3E26feb6E0',\n",
       " 'gasUsed': 44757,\n",
       " 'cumulativeGasUsed': 44757,\n",
       " 'contractAddress': None,\n",
       " 'logs': [],\n",
       " 'status': 1,\n",
       " 'logsBloom': HexBytes('0x00000000000000000000000000000000000000000000000000000000000000000000000000000000000000000000000000000000000000000000000000000000000000000000000000000000000000000000000000000000000000000000000000000000000000000000000000000000000000000000000000000000000000000000000000000000000000000000000000000000000000000000000000000000000000000000000000000000000000000000000000000000000000000000000000000000000000000000000000000000000000000000000000000000000000000000000000000000000000000000000000000000000000000000000000000000')})"
      ]
     },
     "execution_count": 11,
     "metadata": {},
     "output_type": "execute_result"
    }
   ],
   "source": [
    "give_right_to_vote(chair,chair_key,accounts[1])"
   ]
  },
  {
   "cell_type": "code",
   "execution_count": 12,
   "id": "9b66be38",
   "metadata": {},
   "outputs": [
    {
     "data": {
      "text/plain": [
       "AttributeDict({'transactionHash': HexBytes('0x3f81a74face7c5634ffca2a283c5bac3e7a5866486cdb1617ce5a0cdfbc9e071'),\n",
       " 'transactionIndex': 0,\n",
       " 'blockHash': HexBytes('0x7a1576c4a212948c6c59bee44bd1cee5f18526ff6c2e5a8c05ba866ea8ae4abe'),\n",
       " 'blockNumber': 5360,\n",
       " 'from': '0xdd617f9D5120b7b30E4C502fdd6b13dCf286A300',\n",
       " 'to': '0x0f242425917C04Fe902220431C898B3E26feb6E0',\n",
       " 'gasUsed': 44757,\n",
       " 'cumulativeGasUsed': 44757,\n",
       " 'contractAddress': None,\n",
       " 'logs': [],\n",
       " 'status': 1,\n",
       " 'logsBloom': HexBytes('0x00000000000000000000000000000000000000000000000000000000000000000000000000000000000000000000000000000000000000000000000000000000000000000000000000000000000000000000000000000000000000000000000000000000000000000000000000000000000000000000000000000000000000000000000000000000000000000000000000000000000000000000000000000000000000000000000000000000000000000000000000000000000000000000000000000000000000000000000000000000000000000000000000000000000000000000000000000000000000000000000000000000000000000000000000000000')})"
      ]
     },
     "execution_count": 12,
     "metadata": {},
     "output_type": "execute_result"
    }
   ],
   "source": [
    "give_right_to_vote(chair,chair_key,accounts[2])"
   ]
  },
  {
   "cell_type": "code",
   "execution_count": 13,
   "id": "0dabb580",
   "metadata": {},
   "outputs": [
    {
     "data": {
      "text/plain": [
       "AttributeDict({'transactionHash': HexBytes('0x3aa48ddcc7e58c2be6df1068298e75bf21a6f4dc078715b9c97b236e4b86f591'),\n",
       " 'transactionIndex': 0,\n",
       " 'blockHash': HexBytes('0xa0663718302189fb09f2d09a754d67238e7f0daa171de9f7b4581d165b9e8dcf'),\n",
       " 'blockNumber': 5361,\n",
       " 'from': '0xdd617f9D5120b7b30E4C502fdd6b13dCf286A300',\n",
       " 'to': '0x0f242425917C04Fe902220431C898B3E26feb6E0',\n",
       " 'gasUsed': 44757,\n",
       " 'cumulativeGasUsed': 44757,\n",
       " 'contractAddress': None,\n",
       " 'logs': [],\n",
       " 'status': 1,\n",
       " 'logsBloom': HexBytes('0x00000000000000000000000000000000000000000000000000000000000000000000000000000000000000000000000000000000000000000000000000000000000000000000000000000000000000000000000000000000000000000000000000000000000000000000000000000000000000000000000000000000000000000000000000000000000000000000000000000000000000000000000000000000000000000000000000000000000000000000000000000000000000000000000000000000000000000000000000000000000000000000000000000000000000000000000000000000000000000000000000000000000000000000000000000000')})"
      ]
     },
     "execution_count": 13,
     "metadata": {},
     "output_type": "execute_result"
    }
   ],
   "source": [
    "give_right_to_vote(chair,chair_key,accounts[3])"
   ]
  },
  {
   "cell_type": "code",
   "execution_count": 14,
   "id": "2044d5fc",
   "metadata": {},
   "outputs": [
    {
     "data": {
      "text/plain": [
       "AttributeDict({'transactionHash': HexBytes('0xf2944c879c6b1d25176324948d2820d1a5ad013a299be0662385a801a007914f'),\n",
       " 'transactionIndex': 0,\n",
       " 'blockHash': HexBytes('0xe210db506544681bd587e725a7a30637ff5dfe32b410d1d22c1a2d093e7d95ca'),\n",
       " 'blockNumber': 5362,\n",
       " 'from': '0x8883f1016E727C8fE93C1Df471f102bBbAF2B910',\n",
       " 'to': '0x0f242425917C04Fe902220431C898B3E26feb6E0',\n",
       " 'gasUsed': 67812,\n",
       " 'cumulativeGasUsed': 67812,\n",
       " 'contractAddress': None,\n",
       " 'logs': [],\n",
       " 'status': 1,\n",
       " 'logsBloom': HexBytes('0x00000000000000000000000000000000000000000000000000000000000000000000000000000000000000000000000000000000000000000000000000000000000000000000000000000000000000000000000000000000000000000000000000000000000000000000000000000000000000000000000000000000000000000000000000000000000000000000000000000000000000000000000000000000000000000000000000000000000000000000000000000000000000000000000000000000000000000000000000000000000000000000000000000000000000000000000000000000000000000000000000000000000000000000000000000000')})"
      ]
     },
     "execution_count": 14,
     "metadata": {},
     "output_type": "execute_result"
    }
   ],
   "source": [
    "voter = accounts[1]\n",
    "voter_key = accounts_key[1]\n",
    "vote(voter,voter_key, 0)"
   ]
  },
  {
   "cell_type": "code",
   "execution_count": 16,
   "id": "78be3fcb",
   "metadata": {},
   "outputs": [
    {
     "data": {
      "text/plain": [
       "AttributeDict({'transactionHash': HexBytes('0x46528bbca6aacfbad1a1bf59aaecd4ee04316b4781a96311e58f806cbae281b0'),\n",
       " 'transactionIndex': 0,\n",
       " 'blockHash': HexBytes('0xb72007fd12cc23b7584b500309f0605000b00613b9a53bd984e2b7b1531ee3b3'),\n",
       " 'blockNumber': 5363,\n",
       " 'from': '0xd39fdd79c3b5b0c411366D5A64ba26E423e1cF61',\n",
       " 'to': '0x0f242425917C04Fe902220431C898B3E26feb6E0',\n",
       " 'gasUsed': 87024,\n",
       " 'cumulativeGasUsed': 87024,\n",
       " 'contractAddress': None,\n",
       " 'logs': [],\n",
       " 'status': 1,\n",
       " 'logsBloom': HexBytes('0x00000000000000000000000000000000000000000000000000000000000000000000000000000000000000000000000000000000000000000000000000000000000000000000000000000000000000000000000000000000000000000000000000000000000000000000000000000000000000000000000000000000000000000000000000000000000000000000000000000000000000000000000000000000000000000000000000000000000000000000000000000000000000000000000000000000000000000000000000000000000000000000000000000000000000000000000000000000000000000000000000000000000000000000000000000000')})"
      ]
     },
     "execution_count": 16,
     "metadata": {},
     "output_type": "execute_result"
    }
   ],
   "source": [
    "voter = accounts[2]\n",
    "voter_key = accounts_key[2]\n",
    "vote(voter,voter_key, 1)"
   ]
  },
  {
   "cell_type": "code",
   "execution_count": 17,
   "id": "fatal-organ",
   "metadata": {},
   "outputs": [
    {
     "data": {
      "text/plain": [
       "AttributeDict({'transactionHash': HexBytes('0x41bada60638a8cb5c639ef9560f9fdc1d935a2581c0c54f1a08b7aea58356966'),\n",
       " 'transactionIndex': 0,\n",
       " 'blockHash': HexBytes('0xa23e24b957934383edd70071bd479fd3192f40c2a4c2d847c5f77c8e322bae70'),\n",
       " 'blockNumber': 5364,\n",
       " 'from': '0xc35903FEf5A3c481e5374F8757789b7a926d8167',\n",
       " 'to': '0x0f242425917C04Fe902220431C898B3E26feb6E0',\n",
       " 'gasUsed': 72024,\n",
       " 'cumulativeGasUsed': 72024,\n",
       " 'contractAddress': None,\n",
       " 'logs': [],\n",
       " 'status': 1,\n",
       " 'logsBloom': HexBytes('0x00000000000000000000000000000000000000000000000000000000000000000000000000000000000000000000000000000000000000000000000000000000000000000000000000000000000000000000000000000000000000000000000000000000000000000000000000000000000000000000000000000000000000000000000000000000000000000000000000000000000000000000000000000000000000000000000000000000000000000000000000000000000000000000000000000000000000000000000000000000000000000000000000000000000000000000000000000000000000000000000000000000000000000000000000000000')})"
      ]
     },
     "execution_count": 17,
     "metadata": {},
     "output_type": "execute_result"
    }
   ],
   "source": [
    "voter = accounts[3]\n",
    "voter_key = accounts_key[3]\n",
    "vote(voter,voter_key, 1)"
   ]
  },
  {
   "cell_type": "code",
   "execution_count": null,
   "id": "71d01eb8",
   "metadata": {},
   "outputs": [],
   "source": [
    "delegate_vote(delegator,voter)"
   ]
  },
  {
   "cell_type": "code",
   "execution_count": 28,
   "id": "recognized-tuition",
   "metadata": {},
   "outputs": [],
   "source": [
    "# contract.functions.proposals().call()"
   ]
  },
  {
   "cell_type": "code",
   "execution_count": 18,
   "id": "7aa68a04",
   "metadata": {},
   "outputs": [
    {
     "data": {
      "text/plain": [
       "'0xdd617f9D5120b7b30E4C502fdd6b13dCf286A300'"
      ]
     },
     "execution_count": 18,
     "metadata": {},
     "output_type": "execute_result"
    }
   ],
   "source": [
    "contract.functions.chairperson().call()"
   ]
  },
  {
   "cell_type": "code",
   "execution_count": 19,
   "id": "af740025",
   "metadata": {},
   "outputs": [
    {
     "data": {
      "text/plain": [
       "b'candidate2\\x00\\x00\\x00\\x00\\x00\\x00\\x00\\x00\\x00\\x00\\x00\\x00\\x00\\x00\\x00\\x00\\x00\\x00\\x00\\x00\\x00\\x00'"
      ]
     },
     "execution_count": 19,
     "metadata": {},
     "output_type": "execute_result"
    }
   ],
   "source": [
    "contract.functions.winnerName().call()"
   ]
  },
  {
   "cell_type": "code",
   "execution_count": 20,
   "id": "d0fbaf3e",
   "metadata": {},
   "outputs": [
    {
     "data": {
      "text/plain": [
       "1"
      ]
     },
     "execution_count": 20,
     "metadata": {},
     "output_type": "execute_result"
    }
   ],
   "source": [
    "contract.functions.winningProposal().call()"
   ]
  },
  {
   "cell_type": "code",
   "execution_count": null,
   "id": "a2d36cc1",
   "metadata": {},
   "outputs": [],
   "source": []
  }
 ],
 "metadata": {
  "kernelspec": {
   "display_name": "Python 3",
   "language": "python",
   "name": "python3"
  },
  "language_info": {
   "codemirror_mode": {
    "name": "ipython",
    "version": 3
   },
   "file_extension": ".py",
   "mimetype": "text/x-python",
   "name": "python",
   "nbconvert_exporter": "python",
   "pygments_lexer": "ipython3",
   "version": "3.9.2"
  }
 },
 "nbformat": 4,
 "nbformat_minor": 5
}
