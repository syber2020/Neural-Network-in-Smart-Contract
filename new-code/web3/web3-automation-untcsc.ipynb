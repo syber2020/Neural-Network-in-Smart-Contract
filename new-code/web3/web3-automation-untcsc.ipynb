{
 "cells": [
  {
   "cell_type": "code",
   "execution_count": 30,
   "id": "convertible-daily",
   "metadata": {},
   "outputs": [
    {
     "data": {
      "text/plain": [
       "True"
      ]
     },
     "execution_count": 30,
     "metadata": {},
     "output_type": "execute_result"
    }
   ],
   "source": [
    "# starting web3 operations\n",
    "import numpy as np\n",
    "import json\n",
    "from web3 import Web3\n",
    "import time\n",
    "ganache_url = \"HTTP://127.0.0.1:8545\"\n",
    "# ropsten_url =\"https://ropsten.infura.io/v3/6072fdc3b95c407caa681f63ebaf72b8\"\n",
    "# web3 = Web3(Web3.HTTPProvider(ganache_url))\n",
    "web3 = Web3(Web3.HTTPProvider(ganache_url))\n",
    "web3.isConnected()"
   ]
  },
  {
   "cell_type": "code",
   "execution_count": 31,
   "id": "f2c1747d",
   "metadata": {},
   "outputs": [],
   "source": [
    "#Addresses\n",
    "# account1 = \"0xdd617f9D5120b7b30E4C502fdd6b13dCf286A300\"\n",
    "# private_key1=\"c00b36dc1777e7fda60ff1f55b57c3f51b18c0c16fe44724e451ed062a173d74\"\n",
    "# account2 = \"0x8883f1016E727C8fE93C1Df471f102bBbAF2B910\"\n",
    "# private_key2=\"8d70f54549b5fb7c04fc016cc88c447fc81aff3af3065c696aee1b529fbc8ba5\""
   ]
  },
  {
   "cell_type": "code",
   "execution_count": 32,
   "id": "usual-madagascar",
   "metadata": {},
   "outputs": [
    {
     "name": "stdout",
     "output_type": "stream",
     "text": [
      "98.285567524\n"
     ]
    }
   ],
   "source": [
    "# Basic web3 \n",
    "block = web3.eth.get_block('latest')\n",
    "balance_1 = web3.eth.getBalance(\"0xdd617f9D5120b7b30E4C502fdd6b13dCf286A300\")\n",
    "print(web3.fromWei(balance_1,'ether'))"
   ]
  },
  {
   "cell_type": "code",
   "execution_count": 33,
   "id": "insured-broadcasting",
   "metadata": {},
   "outputs": [],
   "source": [
    "#abi = Contract Application Binary Interface \n",
    "abi = json.loads('[ { \"inputs\": [ { \"internalType\": \"bytes32[]\", \"name\": \"proposalNames\", \"type\": \"bytes32[]\" } ], \"stateMutability\": \"nonpayable\", \"type\": \"constructor\" }, { \"inputs\": [], \"name\": \"chairperson\", \"outputs\": [ { \"internalType\": \"address\", \"name\": \"\", \"type\": \"address\" } ], \"stateMutability\": \"view\", \"type\": \"function\" }, { \"inputs\": [ { \"internalType\": \"address\", \"name\": \"to\", \"type\": \"address\" } ], \"name\": \"delegate\", \"outputs\": [], \"stateMutability\": \"nonpayable\", \"type\": \"function\" }, { \"inputs\": [ { \"internalType\": \"address\", \"name\": \"voter\", \"type\": \"address\" } ], \"name\": \"giveRightToVote\", \"outputs\": [], \"stateMutability\": \"nonpayable\", \"type\": \"function\" }, { \"inputs\": [ { \"internalType\": \"uint256\", \"name\": \"\", \"type\": \"uint256\" } ], \"name\": \"proposals\", \"outputs\": [ { \"internalType\": \"bytes32\", \"name\": \"name\", \"type\": \"bytes32\" }, { \"internalType\": \"uint256\", \"name\": \"voteCount\", \"type\": \"uint256\" } ], \"stateMutability\": \"view\", \"type\": \"function\" }, { \"inputs\": [ { \"internalType\": \"uint256\", \"name\": \"proposal\", \"type\": \"uint256\" } ], \"name\": \"vote\", \"outputs\": [], \"stateMutability\": \"nonpayable\", \"type\": \"function\" }, { \"inputs\": [ { \"internalType\": \"address\", \"name\": \"\", \"type\": \"address\" } ], \"name\": \"voters\", \"outputs\": [ { \"internalType\": \"uint256\", \"name\": \"weight\", \"type\": \"uint256\" }, { \"internalType\": \"bool\", \"name\": \"voted\", \"type\": \"bool\" }, { \"internalType\": \"address\", \"name\": \"delegate\", \"type\": \"address\" }, { \"internalType\": \"uint256\", \"name\": \"vote\", \"type\": \"uint256\" } ], \"stateMutability\": \"view\", \"type\": \"function\" }, { \"inputs\": [], \"name\": \"winnerName\", \"outputs\": [ { \"internalType\": \"bytes32\", \"name\": \"winnerName_\", \"type\": \"bytes32\" } ], \"stateMutability\": \"view\", \"type\": \"function\" }, { \"inputs\": [], \"name\": \"winningProposal\", \"outputs\": [ { \"internalType\": \"uint256\", \"name\": \"winningProposal_\", \"type\": \"uint256\" } ], \"stateMutability\": \"view\", \"type\": \"function\" } ]')\n",
    "cont_address = \"0xa3d219bB1C4D8aC461a361b8b7e7c659C469b511\"\n"
   ]
  },
  {
   "cell_type": "code",
   "execution_count": 34,
   "id": "robust-herald",
   "metadata": {},
   "outputs": [],
   "source": [
    "contract = web3.eth.contract(address=cont_address,abi=abi)"
   ]
  },
  {
   "cell_type": "code",
   "execution_count": 35,
   "id": "palestinian-transmission",
   "metadata": {},
   "outputs": [
    {
     "data": {
      "text/plain": [
       "['0xdd617f9D5120b7b30E4C502fdd6b13dCf286A300',\n",
       " '0x8883f1016E727C8fE93C1Df471f102bBbAF2B910',\n",
       " '0xd39fdd79c3b5b0c411366D5A64ba26E423e1cF61',\n",
       " '0xc35903FEf5A3c481e5374F8757789b7a926d8167',\n",
       " '0x02D1713f69E4bB575cc08Fd1fa0F38FCC77adEA0',\n",
       " '0x2e3bADAfAd1e9775980135bDBeDb59C222AA5Ef3',\n",
       " '0x5Be0c6823C4A2F2383f7de178A20757CbF372E62',\n",
       " '0x184AcdD70119eFbde97B6429AE66122C8D845e33',\n",
       " '0x543456141D649b97aa59d221C5aEAF0919C17F1D',\n",
       " '0x979b25044F7A02f9aC437a82A2b734Cf3A0e59eB']"
      ]
     },
     "execution_count": 35,
     "metadata": {},
     "output_type": "execute_result"
    }
   ],
   "source": [
    "accounts = web3.eth.accounts\n",
    "accounts"
   ]
  },
  {
   "cell_type": "code",
   "execution_count": 44,
   "id": "e56f9f3d",
   "metadata": {},
   "outputs": [],
   "source": [
    "accounts_key =[\n",
    "    \"c00b36dc1777e7fda60ff1f55b57c3f51b18c0c16fe44724e451ed062a173d74\",\n",
    "    \"8d70f54549b5fb7c04fc016cc88c447fc81aff3af3065c696aee1b529fbc8ba5\",\n",
    "    \"3f3bcef69f8cef4bb28953eebe0b11c40fca5b4ce8c9665d3647afd067050952\",\n",
    "    \"e67231d384bdbf3e0c081889ab35ee7858d74ff955923071a621f01bda9dbebf\",\n",
    "    \"e67231d384bdbf3e0c081889ab35ee7858d74ff955923071a621f01bda9dbebf\",\n",
    "    \"23033da7b470c850c6b17c9bf76d4a8cc3c9693b327f3713819b0c58c65fc0da\",\n",
    "    \"31003471a69b7a147ac460e9b46fca960e072d42cd34030e225ad931329b317c\",\n",
    "    \"bbe1607f2f9f38c30414bd1dc450f2696aea893cac1e6e6fa6ceb8b7638ed1b0\",\n",
    "    \"c40a2cfcbe732bfe45b885999de4b4d1db3db1d7797ee1300323fbc5f0fed4c0\",\n",
    "    \"c97f1bbbdaa0559bf10737f3bbcfe8fba9b3e698ea9c5de71b4c88fca7da55fc\",\n",
    "    \"14d59bfd1052b77f45c9b88f6b066674c1cf57c46f2fb628778696f5be1df49a\"\n",
    "]"
   ]
  },
  {
   "cell_type": "code",
   "execution_count": 9,
   "id": "velvet-burton",
   "metadata": {},
   "outputs": [],
   "source": [
    "# callfunction = contract.function.callfunction().call()\n",
    "#print(web3.utils.fromWei(callfunction,'ether'))"
   ]
  },
  {
   "cell_type": "markdown",
   "id": "roman-sound",
   "metadata": {},
   "source": [
    "### Functions"
   ]
  },
  {
   "cell_type": "code",
   "execution_count": 47,
   "id": "painful-bronze",
   "metadata": {},
   "outputs": [],
   "source": [
    "def give_right_to_vote(chair,chair_key,voter):\n",
    "    nonce = web3.eth.getTransactionCount(chair)\n",
    "    transaction = contract.functions.giveRightToVote(\n",
    "        voter\n",
    "         ).buildTransaction({\n",
    "        'gas': 100000,\n",
    "        'gasPrice': web3.toWei('10', 'gwei'),\n",
    "        'from': chair,\n",
    "        'nonce': nonce\n",
    "        }) \n",
    "    signed_txn = web3.eth.account.signTransaction(transaction, private_key=chair_key)\n",
    "    tx_hash = web3.eth.sendRawTransaction(signed_txn.rawTransaction)\n",
    "    tx_receipt = web3.eth.waitForTransactionReceipt(tx_hash)\n",
    "    return tx_receipt\n",
    "\n",
    "def delegate_vote(delegator,delegator_key,voter):\n",
    "    nonce = web3.eth.getTransactionCount(delegator)\n",
    "    transaction = contract.functions.delegate(\n",
    "        voter\n",
    "         ).buildTransaction({\n",
    "        'gas': 100000,\n",
    "        'gasPrice': web3.toWei('10', 'gwei'),\n",
    "        'from': delegator,\n",
    "        'nonce': nonce\n",
    "        }) \n",
    "    signed_txn = web3.eth.account.signTransaction(transaction, private_key=delegator_key)\n",
    "    tx_hash = web3.eth.sendRawTransaction(signed_txn.rawTransaction)\n",
    "    tx_receipt = web3.eth.waitForTransactionReceipt(tx_hash)\n",
    "    return tx_receipt\n",
    "\n",
    "def vote(voter,voter_key,proposal):\n",
    "    nonce = web3.eth.getTransactionCount(voter)\n",
    "    transaction = contract.functions.vote(\n",
    "        proposal\n",
    "         ).buildTransaction({\n",
    "        'gas': 100000,\n",
    "        'gasPrice': web3.toWei('10', 'gwei'),\n",
    "        'from': voter,\n",
    "        'nonce': nonce\n",
    "        }) \n",
    "    signed_txn = web3.eth.account.signTransaction(transaction, private_key=voter_key)\n",
    "    tx_hash = web3.eth.sendRawTransaction(signed_txn.rawTransaction)\n",
    "    tx_receipt = web3.eth.waitForTransactionReceipt(tx_hash)\n",
    "    return tx_receipt\n"
   ]
  },
  {
   "cell_type": "code",
   "execution_count": 48,
   "id": "printable-apparel",
   "metadata": {},
   "outputs": [
    {
     "name": "stdout",
     "output_type": "stream",
     "text": [
      "98.285567524\n"
     ]
    }
   ],
   "source": [
    "print(web3.fromWei(balance_1,'ether'))"
   ]
  },
  {
   "cell_type": "code",
   "execution_count": 49,
   "id": "d0932aab",
   "metadata": {},
   "outputs": [],
   "source": [
    "chair = accounts[0]\n",
    "chair_key = accounts_key[0]"
   ]
  },
  {
   "cell_type": "code",
   "execution_count": 50,
   "id": "c00ec845",
   "metadata": {},
   "outputs": [
    {
     "data": {
      "text/plain": [
       "AttributeDict({'transactionHash': HexBytes('0x504dc927e10e6e72d5cd4b217cf10c7cac0dd8413661b2b6d701e61c67f8ad19'),\n",
       " 'transactionIndex': 0,\n",
       " 'blockHash': HexBytes('0x096f32caa098adc6b614f3bfb4589c49e4056edf83df67f68274099a525cd7a5'),\n",
       " 'blockNumber': 1578,\n",
       " 'from': '0xdd617f9D5120b7b30E4C502fdd6b13dCf286A300',\n",
       " 'to': '0xa3d219bB1C4D8aC461a361b8b7e7c659C469b511',\n",
       " 'gasUsed': 44757,\n",
       " 'cumulativeGasUsed': 44757,\n",
       " 'contractAddress': None,\n",
       " 'logs': [],\n",
       " 'status': 1,\n",
       " 'logsBloom': HexBytes('0x00000000000000000000000000000000000000000000000000000000000000000000000000000000000000000000000000000000000000000000000000000000000000000000000000000000000000000000000000000000000000000000000000000000000000000000000000000000000000000000000000000000000000000000000000000000000000000000000000000000000000000000000000000000000000000000000000000000000000000000000000000000000000000000000000000000000000000000000000000000000000000000000000000000000000000000000000000000000000000000000000000000000000000000000000000000')})"
      ]
     },
     "execution_count": 50,
     "metadata": {},
     "output_type": "execute_result"
    }
   ],
   "source": [
    "give_right_to_vote(chair,chair_key,accounts[1])"
   ]
  },
  {
   "cell_type": "code",
   "execution_count": 51,
   "id": "9b66be38",
   "metadata": {},
   "outputs": [
    {
     "data": {
      "text/plain": [
       "AttributeDict({'transactionHash': HexBytes('0x851e0e3a2476056b59562661e76f33a1e39665a6e88a70862739d5e9bf2e5bed'),\n",
       " 'transactionIndex': 0,\n",
       " 'blockHash': HexBytes('0xf3d83454e4dbeda129791c2bb0c61adf1fe81598276b5d3bf85d41a4bfdf4a00'),\n",
       " 'blockNumber': 1579,\n",
       " 'from': '0xdd617f9D5120b7b30E4C502fdd6b13dCf286A300',\n",
       " 'to': '0xa3d219bB1C4D8aC461a361b8b7e7c659C469b511',\n",
       " 'gasUsed': 44757,\n",
       " 'cumulativeGasUsed': 44757,\n",
       " 'contractAddress': None,\n",
       " 'logs': [],\n",
       " 'status': 1,\n",
       " 'logsBloom': HexBytes('0x00000000000000000000000000000000000000000000000000000000000000000000000000000000000000000000000000000000000000000000000000000000000000000000000000000000000000000000000000000000000000000000000000000000000000000000000000000000000000000000000000000000000000000000000000000000000000000000000000000000000000000000000000000000000000000000000000000000000000000000000000000000000000000000000000000000000000000000000000000000000000000000000000000000000000000000000000000000000000000000000000000000000000000000000000000000')})"
      ]
     },
     "execution_count": 51,
     "metadata": {},
     "output_type": "execute_result"
    }
   ],
   "source": [
    "give_right_to_vote(chair,chair_key,accounts[2])"
   ]
  },
  {
   "cell_type": "code",
   "execution_count": 52,
   "id": "0dabb580",
   "metadata": {},
   "outputs": [
    {
     "data": {
      "text/plain": [
       "AttributeDict({'transactionHash': HexBytes('0x91a7cf50bbf6eb4f2f417fb02807883eb70816877432e0b8970c882b7487844b'),\n",
       " 'transactionIndex': 0,\n",
       " 'blockHash': HexBytes('0x028fe5e004ed613cbfdd58855362068881b0f7aebf7e5f6d33cc29acd9b377ff'),\n",
       " 'blockNumber': 1580,\n",
       " 'from': '0xdd617f9D5120b7b30E4C502fdd6b13dCf286A300',\n",
       " 'to': '0xa3d219bB1C4D8aC461a361b8b7e7c659C469b511',\n",
       " 'gasUsed': 44757,\n",
       " 'cumulativeGasUsed': 44757,\n",
       " 'contractAddress': None,\n",
       " 'logs': [],\n",
       " 'status': 1,\n",
       " 'logsBloom': HexBytes('0x00000000000000000000000000000000000000000000000000000000000000000000000000000000000000000000000000000000000000000000000000000000000000000000000000000000000000000000000000000000000000000000000000000000000000000000000000000000000000000000000000000000000000000000000000000000000000000000000000000000000000000000000000000000000000000000000000000000000000000000000000000000000000000000000000000000000000000000000000000000000000000000000000000000000000000000000000000000000000000000000000000000000000000000000000000000')})"
      ]
     },
     "execution_count": 52,
     "metadata": {},
     "output_type": "execute_result"
    }
   ],
   "source": [
    "give_right_to_vote(chair,chair_key,accounts[3])"
   ]
  },
  {
   "cell_type": "code",
   "execution_count": 54,
   "id": "2044d5fc",
   "metadata": {},
   "outputs": [
    {
     "data": {
      "text/plain": [
       "AttributeDict({'transactionHash': HexBytes('0x781d426b9e1fbc2713e1f821510af0efd8a6c338cf4dc7e6205ae7fe62451c3a'),\n",
       " 'transactionIndex': 0,\n",
       " 'blockHash': HexBytes('0x7b32b39ec859a0baa4c9a32b6e6fbc2770200757fa3462cac6bb92005cdf4481'),\n",
       " 'blockNumber': 1581,\n",
       " 'from': '0x8883f1016E727C8fE93C1Df471f102bBbAF2B910',\n",
       " 'to': '0xa3d219bB1C4D8aC461a361b8b7e7c659C469b511',\n",
       " 'gasUsed': 67812,\n",
       " 'cumulativeGasUsed': 67812,\n",
       " 'contractAddress': None,\n",
       " 'logs': [],\n",
       " 'status': 1,\n",
       " 'logsBloom': HexBytes('0x00000000000000000000000000000000000000000000000000000000000000000000000000000000000000000000000000000000000000000000000000000000000000000000000000000000000000000000000000000000000000000000000000000000000000000000000000000000000000000000000000000000000000000000000000000000000000000000000000000000000000000000000000000000000000000000000000000000000000000000000000000000000000000000000000000000000000000000000000000000000000000000000000000000000000000000000000000000000000000000000000000000000000000000000000000000')})"
      ]
     },
     "execution_count": 54,
     "metadata": {},
     "output_type": "execute_result"
    }
   ],
   "source": [
    "voter = accounts[1]\n",
    "voter_key = accounts_key[1]\n",
    "vote(voter,voter_key, 0)"
   ]
  },
  {
   "cell_type": "code",
   "execution_count": null,
   "id": "78be3fcb",
   "metadata": {},
   "outputs": [],
   "source": [
    "voter = accounts[2]\n",
    "voter_key = accounts_key[2]\n",
    "proposal \n",
    "vote(voter,voter_key, 1)"
   ]
  },
  {
   "cell_type": "code",
   "execution_count": null,
   "id": "71d01eb8",
   "metadata": {},
   "outputs": [],
   "source": [
    "delegate_vote(delegator,voter)"
   ]
  },
  {
   "cell_type": "code",
   "execution_count": 28,
   "id": "recognized-tuition",
   "metadata": {},
   "outputs": [],
   "source": [
    "# contract.functions.proposals().call()"
   ]
  },
  {
   "cell_type": "code",
   "execution_count": 25,
   "id": "7aa68a04",
   "metadata": {},
   "outputs": [
    {
     "data": {
      "text/plain": [
       "'0xdd617f9D5120b7b30E4C502fdd6b13dCf286A300'"
      ]
     },
     "execution_count": 25,
     "metadata": {},
     "output_type": "execute_result"
    }
   ],
   "source": [
    "contract.functions.chairperson().call()"
   ]
  },
  {
   "cell_type": "code",
   "execution_count": 26,
   "id": "af740025",
   "metadata": {},
   "outputs": [
    {
     "data": {
      "text/plain": [
       "b'candidate1\\x00\\x00\\x00\\x00\\x00\\x00\\x00\\x00\\x00\\x00\\x00\\x00\\x00\\x00\\x00\\x00\\x00\\x00\\x00\\x00\\x00\\x00'"
      ]
     },
     "execution_count": 26,
     "metadata": {},
     "output_type": "execute_result"
    }
   ],
   "source": [
    "contract.functions.winnerName().call()"
   ]
  },
  {
   "cell_type": "code",
   "execution_count": 27,
   "id": "d0fbaf3e",
   "metadata": {},
   "outputs": [
    {
     "data": {
      "text/plain": [
       "0"
      ]
     },
     "execution_count": 27,
     "metadata": {},
     "output_type": "execute_result"
    }
   ],
   "source": [
    "contract.functions.winningProposal().call()"
   ]
  },
  {
   "cell_type": "code",
   "execution_count": null,
   "id": "a2d36cc1",
   "metadata": {},
   "outputs": [],
   "source": []
  }
 ],
 "metadata": {
  "kernelspec": {
   "display_name": "Python 3 (ipykernel)",
   "language": "python",
   "name": "python3"
  },
  "language_info": {
   "codemirror_mode": {
    "name": "ipython",
    "version": 3
   },
   "file_extension": ".py",
   "mimetype": "text/x-python",
   "name": "python",
   "nbconvert_exporter": "python",
   "pygments_lexer": "ipython3",
   "version": "3.7.11"
  }
 },
 "nbformat": 4,
 "nbformat_minor": 5
}
