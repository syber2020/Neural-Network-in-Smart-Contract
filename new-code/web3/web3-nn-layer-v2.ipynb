{
 "cells": [
  {
   "cell_type": "code",
   "execution_count": 35,
   "id": "introductory-bristol",
   "metadata": {},
   "outputs": [
    {
     "data": {
      "text/plain": [
       "True"
      ]
     },
     "execution_count": 35,
     "metadata": {},
     "output_type": "execute_result"
    }
   ],
   "source": [
    "\n",
    "import numpy as np\n",
    "import json\n",
    "from web3 import Web3\n",
    "import matplotlib.pyplot as plt\n",
    "# ganache_url = \\\"https://ropsten.infura.io/v3/6072fdc3b95c407caa681f63ebaf72b8\\\"\\n\",\n",
    "# ganache_url = \\\"https://ropsten.infura.io/v3/0345978e22a6431f9222c56ea1f7b6bd\\\"\\n\",\n",
    "# ganache_url =\"https://lively-dark-firefly.ropsten.quiknode.pro/e98606c11b422cb244ac923a53d36c5b7ea2c17c\"\n",
    "# ropsten_url = \"https://ropsten.infura.io/v3/0345978e22a6431f9222c56ea1f7b6bd\"\n",
    "# quicknode_url =\"https://lively-dark-firefly.ropsten.quiknode.pro/e98606c11b422cb244ac923a53d36c5b7ea2c17c\"\n",
    "# ganache_url = \\\"https://lively-dark-firefly.ropsten.quiknode.pro/e98606c11b422cb244ac923a53d36c5b7ea2c17c/,\n",
    "ganache_url =\"http://127.0.0.1:8545\"\n",
    "web3 = Web3(Web3.HTTPProvider(ganache_url))\n",
    "web3.isConnected()"
   ]
  },
  {
   "cell_type": "code",
   "execution_count": null,
   "id": "allied-found",
   "metadata": {},
   "outputs": [],
   "source": [
    "def getlayer1(x,w11,w12,w13,w14,b1):\n",
    "\n",
    "        transaction = contract.functions.multiply_layer1(\\n\",\n",
    "            x,w11,w12,w13,w14,b1\\n\",\n",
    "             ).buildTransaction({\\n\",\n",
    "            'gas': 4700000,\\n\",\n",
    "           'gasPrice': web3.toWei('1', 'gwei'),\\n\",\n",
    "            'from': account1,\\n\",\n",
    "           'nonce': nonce\\n\",\n",
    "            }) \\n\",\n",
    "        signed_txn = web3.eth.account.signTransaction(transaction, private_key=private_key1)\\n\",\n",
    "        tx_hash = web3.eth.sendRawTransaction(signed_txn.rawTransaction)\\n\",\n",
    "        tx_receipt = web3.eth.waitForTransactionReceipt(tx_hash,timeout=300)\\n\",\n",
    "        print(tx_receipt)\\n\",\n",
    "        return tx_receipt.gasUsed\""
   ]
  },
  {
   "cell_type": "code",
   "execution_count": null,
   "id": "foster-pledge",
   "metadata": {},
   "outputs": [],
   "source": [
    "def getlayer2(l1,w21,w22,w23,w24,w25,w26,w27,w28,w29,w30,b2):\\n\",\n",
    "        nonce = web3.eth.getTransactionCount(account2)\\n\",\n",
    "        transaction = contract.functions.multiply_layer2(\\n\",\n",
    "            l1,w21,w22,w23,w24,w25,w26,w27,w28,w29,w30,b2\\n\",\n",
    "             ).buildTransaction({\\n\",\n",
    "            'gas': 4700000,\\n\",\n",
    "            'gasPrice': web3.toWei('1', 'gwei'),\\n\",\n",
    "            'from': account1,\\n\",\n",
    "            'nonce': nonce\\n\",\n",
    "            }) \\n\",\n",
    "        signed_txn = web3.eth.account.signTransaction(transaction, private_key=private_key1)\\n\",\n",
    "        tx_hash = web3.eth.sendRawTransaction(signed_txn.rawTransaction)\\n\",\n",
    "        tx_receipt = web3.eth.waitForTransactionReceipt(tx_hash,timeout=1000)\\n\",\n",
    "        return tx_receipt.gasUsed\"\n"
   ]
  },
  {
   "cell_type": "code",
   "execution_count": null,
   "id": "cooperative-ranch",
   "metadata": {},
   "outputs": [],
   "source": [
    "x = np.arange(1,100).tolist()\n",
    "w1 = np.arange(1,100).tolist()\n",
    "w2 = np.arange(1,100).tolist()\n",
    "w3 = np.arange(1,100).tolist()\n",
    "w4 = np.arange(1,100).tolist()\n",
    "b1 = np.arange(1,5).tolist()"
   ]
  },
  {
   "cell_type": "code",
   "execution_count": null,
   "id": "universal-lemon",
   "metadata": {},
   "outputs": [],
   "source": [
    "print(x,',',w1,',',w2,',',w3,',',w4,',',w5,',',b1)"
   ]
  },
  {
   "cell_type": "code",
   "execution_count": null,
   "id": "juvenile-miami",
   "metadata": {},
   "outputs": [],
   "source": [
    "x = np.arange(1,5).tolist()\n",
    "w1 = np.arange(1,5).tolist()\n",
    "w2 = np.arange(1,5).tolist()\n",
    "w3 = np.arange(1,5).tolist()\n",
    "w4 = np.arange(1,5).tolist()\n",
    "w5 = np.arange(1,5).tolist()\n",
    "w6 = np.arange(1,5).tolist()\n",
    "w7 = np.arange(1,5).tolist()\n",
    "w8 = np.arange(1,5).tolist()\n",
    "w9 = np.arange(1,5).tolist()\n",
    "w10 = np.arange(1,5).tolist()\n",
    "b2 = np.arange(1,11).tolist()"
   ]
  },
  {
   "cell_type": "code",
   "execution_count": 6,
   "id": "38d46030",
   "metadata": {},
   "outputs": [],
   "source": [
    "# y = 7637*x + 121794\n",
    "import numpy as np\n",
    "y= []\n",
    "x = np.array([100,200,300,400,500,600,700,800])\n",
    "for item in x:\n",
    "     y.append(7637*item + 121794)"
   ]
  },
  {
   "cell_type": "code",
   "execution_count": 28,
   "id": "40a85459",
   "metadata": {},
   "outputs": [],
   "source": [
    "import matplotlib.pyplot as plt\n",
    "from importlib import reload\n",
    "plt=reload(plt)"
   ]
  },
  {
   "cell_type": "code",
   "execution_count": 33,
   "id": "98fab76b",
   "metadata": {},
   "outputs": [
    {
     "data": {
      "image/png": "[encoded data removed]",
      "text/plain": [
       "<Figure size 504x504 with 1 Axes>"
      ]
     },
     "metadata": {
      "needs_background": "light"
     },
     "output_type": "display_data"
    }
   ],
   "source": [
    "plt.figure(figsize=(7,7))\n",
    "lab = 'y = 7637*x + 121794'\n",
    "plt.plot(x,y, label = lab)\n",
    "plt.ticklabel_format(style='plain')\n",
    "plt.xlabel(\"Number of input features\",fontsize =14)\n",
    "plt.ylabel(\"Gas consumption in Gwei\",fontsize=14)\n",
    "\n",
    "# plt.xlabel(\"Values of x ranging from -5.0 to 5.0\", fontsize=14)\n",
    "# plt.ylabel(\"Sigmoid Function Output value\", fontsize=14)\n",
    "\n",
    "plt.tick_params(axis='both', which='major', labelsize=14)\n",
    "plt.tick_params(axis='both', which='minor', labelsize=14)\n",
    "plt.legend()\n",
    "plt.savefig(\"feature-gas.pdf\", bbox_inches='tight')\n",
    "plt.show()"
   ]
  },
  {
   "cell_type": "code",
   "execution_count": null,
   "id": "8337a990",
   "metadata": {},
   "outputs": [],
   "source": [
    "import matplotlib.pyplot as plt\n",
    "plt.figure(figsize=(7,7))\n",
    "plt.plot(d, sig_b, label = \"Library Function Output\")\n",
    "plt.plot(d, sig_e, label = \"Smart Contract Output\")\n",
    "plt.xlabel(\"Values of x ranging from -5.0 to 5.0\", fontsize=14)\n",
    "plt.ylabel(\"Sigmoid Function Output value\", fontsize=14)\n",
    "plt.tick_params(axis='both', which='major', labelsize=14)\n",
    "plt.tick_params(axis='both', which='minor', labelsize=14)\n",
    "# plt.title(\"Sigmoid Value With Smart Contract Function\")\n",
    "plt.legend()\n",
    "plt.savefig(\"sigmoid_output.pdf\", bbox_inches='tight')\n",
    "plt.show()"
   ]
  },
  {
   "cell_type": "code",
   "execution_count": 40,
   "id": "233f5c12",
   "metadata": {},
   "outputs": [
    {
     "data": {
      "text/plain": [
       "[1, 2, 3, 4, 5, 6, 7, 8, 9, 10]"
      ]
     },
     "execution_count": 40,
     "metadata": {},
     "output_type": "execute_result"
    }
   ],
   "source": [
    "\n",
    "w1 = np.arange(1,11).tolist()\n"
   ]
  },
  {
   "cell_type": "code",
   "execution_count": null,
   "id": "6a816303",
   "metadata": {},
   "outputs": [],
   "source": [
    "gas_ganache = [49542,75799,106890,142930,179604,221295,266388,315014,367173,422768]\n",
    "gas_ropsten = \n",
    "ether_ropsten = [0.000127  ,.00191485]"
   ]
  },
  {
   "cell_type": "code",
   "execution_count": null,
   "id": "02e86764",
   "metadata": {},
   "outputs": [],
   "source": []
  }
 ],
 "metadata": {
  "kernelspec": {
   "display_name": "Python 3 (ipykernel)",
   "language": "python",
   "name": "python3"
  },
  "language_info": {
   "codemirror_mode": {
    "name": "ipython",
    "version": 3
   },
   "file_extension": ".py",
   "mimetype": "text/x-python",
   "name": "python",
   "nbconvert_exporter": "python",
   "pygments_lexer": "ipython3",
   "version": "3.7.11"
  }
 },
 "nbformat": 4,
 "nbformat_minor": 5
}
