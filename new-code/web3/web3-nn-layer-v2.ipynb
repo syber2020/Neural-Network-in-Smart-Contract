{
 "cells": [
  {
   "cell_type": "code",
   "execution_count": 4,
   "id": "introductory-bristol",
   "metadata": {},
   "outputs": [
    {
     "data": {
      "text/plain": [
       "False"
      ]
     },
     "execution_count": 4,
     "metadata": {},
     "output_type": "execute_result"
    }
   ],
   "source": [
    "\n",
    "import numpy as np\n",
    "import json\n",
    "from web3 import Web3\n",
    "import matplotlib.pyplot as plt\n",
    "# ganache_url = \\\"https://ropsten.infura.io/v3/6072fdc3b95c407caa681f63ebaf72b8\\\"\\n\",\n",
    "# ganache_url = \\\"https://ropsten.infura.io/v3/0345978e22a6431f9222c56ea1f7b6bd\\\"\\n\",\n",
    "ganache_url =\"https://lively-dark-firefly.ropsten.quiknode.pro/e98606c11b422cb244ac923a53d36c5b7ea2c17c\"\n",
    "ropsten_url = \"https://ropsten.infura.io/v3/0345978e22a6431f9222c56ea1f7b6bd\"\n",
    "quicknode_url =\"https://lively-dark-firefly.ropsten.quiknode.pro/e98606c11b422cb244ac923a53d36c5b7ea2c17c\"\n",
    "# ganache_url = \\\"https://lively-dark-firefly.ropsten.quiknode.pro/e98606c11b422cb244ac923a53d36c5b7ea2c17c/,\n",
    "ganache_url =\"http://127.0.0.1:8545\"\n",
    "web3 = Web3(Web3.HTTPProvider(quicknode_url))\n",
    "web3.isConnected()"
   ]
  },
  {
   "cell_type": "code",
   "execution_count": null,
   "id": "allied-found",
   "metadata": {},
   "outputs": [],
   "source": [
    "def getlayer1(x,w11,w12,w13,w14,b1):\n",
    "\n",
    "        transaction = contract.functions.multiply_layer1(\\n\",\n",
    "            x,w11,w12,w13,w14,b1\\n\",\n",
    "             ).buildTransaction({\\n\",\n",
    "            'gas': 4700000,\\n\",\n",
    "           'gasPrice': web3.toWei('1', 'gwei'),\\n\",\n",
    "            'from': account1,\\n\",\n",
    "           'nonce': nonce\\n\",\n",
    "            }) \\n\",\n",
    "        signed_txn = web3.eth.account.signTransaction(transaction, private_key=private_key1)\\n\",\n",
    "        tx_hash = web3.eth.sendRawTransaction(signed_txn.rawTransaction)\\n\",\n",
    "        tx_receipt = web3.eth.waitForTransactionReceipt(tx_hash,timeout=300)\\n\",\n",
    "        print(tx_receipt)\\n\",\n",
    "        return tx_receipt.gasUsed\""
   ]
  },
  {
   "cell_type": "code",
   "execution_count": null,
   "id": "foster-pledge",
   "metadata": {},
   "outputs": [],
   "source": [
    "def getlayer2(l1,w21,w22,w23,w24,w25,w26,w27,w28,w29,w30,b2):\\n\",\n",
    "        nonce = web3.eth.getTransactionCount(account2)\\n\",\n",
    "        transaction = contract.functions.multiply_layer2(\\n\",\n",
    "            l1,w21,w22,w23,w24,w25,w26,w27,w28,w29,w30,b2\\n\",\n",
    "             ).buildTransaction({\\n\",\n",
    "            'gas': 4700000,\\n\",\n",
    "            'gasPrice': web3.toWei('1', 'gwei'),\\n\",\n",
    "            'from': account1,\\n\",\n",
    "            'nonce': nonce\\n\",\n",
    "            }) \\n\",\n",
    "        signed_txn = web3.eth.account.signTransaction(transaction, private_key=private_key1)\\n\",\n",
    "        tx_hash = web3.eth.sendRawTransaction(signed_txn.rawTransaction)\\n\",\n",
    "        tx_receipt = web3.eth.waitForTransactionReceipt(tx_hash,timeout=1000)\\n\",\n",
    "        return tx_receipt.gasUsed\"\n"
   ]
  },
  {
   "cell_type": "code",
   "execution_count": null,
   "id": "cooperative-ranch",
   "metadata": {},
   "outputs": [],
   "source": [
    "x = np.arange(1,100).tolist()\n",
    "w1 = np.arange(1,100).tolist()\n",
    "w2 = np.arange(1,100).tolist()\n",
    "w3 = np.arange(1,100).tolist()\n",
    "w4 = np.arange(1,100).tolist()\n",
    "b1 = np.arange(1,5).tolist()"
   ]
  },
  {
   "cell_type": "code",
   "execution_count": null,
   "id": "universal-lemon",
   "metadata": {},
   "outputs": [],
   "source": [
    "print(x,',',w1,',',w2,',',w3,',',w4,',',w5,',',b1)"
   ]
  },
  {
   "cell_type": "code",
   "execution_count": null,
   "id": "juvenile-miami",
   "metadata": {},
   "outputs": [],
   "source": [
    "x = np.arange(1,5).tolist()\n",
    "w1 = np.arange(1,5).tolist()\n",
    "w2 = np.arange(1,5).tolist()\n",
    "w3 = np.arange(1,5).tolist()\n",
    "w4 = np.arange(1,5).tolist()\n",
    "w5 = np.arange(1,5).tolist()\n",
    "w6 = np.arange(1,5).tolist()\n",
    "w7 = np.arange(1,5).tolist()\n",
    "w8 = np.arange(1,5).tolist()\n",
    "w9 = np.arange(1,5).tolist()\n",
    "w10 = np.arange(1,5).tolist()\n",
    "b2 = np.arange(1,11).tolist()"
   ]
  }
 ],
 "metadata": {
  "kernelspec": {
   "display_name": "Python 3",
   "language": "python",
   "name": "python3"
  },
  "language_info": {
   "codemirror_mode": {
    "name": "ipython",
    "version": 3
   },
   "file_extension": ".py",
   "mimetype": "text/x-python",
   "name": "python",
   "nbconvert_exporter": "python",
   "pygments_lexer": "ipython3",
   "version": "3.9.2"
  }
 },
 "nbformat": 4,
 "nbformat_minor": 5
}
