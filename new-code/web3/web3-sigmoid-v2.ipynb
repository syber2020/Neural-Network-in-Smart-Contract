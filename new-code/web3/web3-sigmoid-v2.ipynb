{
 "cells": [
  {
   "cell_type": "code",
   "execution_count": 11,
   "id": "convertible-daily",
   "metadata": {},
   "outputs": [
    {
     "data": {
      "text/plain": [
       "True"
      ]
     },
     "execution_count": 11,
     "metadata": {},
     "output_type": "execute_result"
    }
   ],
   "source": [
    "# starting web3 operations\n",
    "import numpy as np\n",
    "import json\n",
    "from web3 import Web3\n",
    "# ganache_url = \"https://ropsten.infura.io/v3/6072fdc3b95c407caa681f63ebaf72b8\"\n",
    "ganache_url =\"http://127.0.0.1:8545\"\n",
    "web3 = Web3(Web3.HTTPProvider(ganache_url))\n",
    "web3.isConnected()"
   ]
  },
  {
   "cell_type": "code",
   "execution_count": 12,
   "id": "usual-madagascar",
   "metadata": {},
   "outputs": [],
   "source": [
    "# Basic web3 \n",
    "# block = web3.eth.get_block('latest')\n",
    "# balance_1 = web3.eth.getBalance(\"0x37bfB436392DaAE0E91EdcD9c4128FBcADF3919d\")\n",
    "# print(web3.fromWei(balance_1,'ether'))"
   ]
  },
  {
   "cell_type": "code",
   "execution_count": 13,
   "id": "insured-broadcasting",
   "metadata": {},
   "outputs": [],
   "source": [
    "abi = json.loads('[ { \"constant\": false, \"inputs\": [ { \"name\": \"x\", \"type\": \"int256\" }, { \"name\": \"y\", \"type\": \"int256\" }, { \"name\": \"a\", \"type\": \"uint256\" }, { \"name\": \"b\", \"type\": \"uint256\" } ], \"name\": \"sigmoid_act\", \"outputs\": [], \"payable\": false, \"stateMutability\": \"nonpayable\", \"type\": \"function\" }, { \"constant\": true, \"inputs\": [ { \"name\": \"x\", \"type\": \"int256\" }, { \"name\": \"y\", \"type\": \"int256\" } ], \"name\": \"div\", \"outputs\": [ { \"name\": \"\", \"type\": \"int256\" }, { \"name\": \"\", \"type\": \"int256\" } ], \"payable\": false, \"stateMutability\": \"view\", \"type\": \"function\" }, { \"constant\": true, \"inputs\": [], \"name\": \"sigprint\", \"outputs\": [ { \"name\": \"\", \"type\": \"uint256\" }, { \"name\": \"\", \"type\": \"uint256\" } ], \"payable\": false, \"stateMutability\": \"view\", \"type\": \"function\" } ]')\n",
    "cont_address = \"0x60B5F6Fdcdd217f02c3bc86675C05BeBC2fAC150\""
   ]
  },
  {
   "cell_type": "code",
   "execution_count": 14,
   "id": "robust-herald",
   "metadata": {},
   "outputs": [],
   "source": [
    "contract = web3.eth.contract(address=cont_address,abi=abi)"
   ]
  },
  {
   "cell_type": "code",
   "execution_count": 15,
   "id": "palestinian-transmission",
   "metadata": {},
   "outputs": [],
   "source": [
    "account1 = \"0xdd617f9D5120b7b30E4C502fdd6b13dCf286A300\"\n",
    "private_key1=\"c00b36dc1777e7fda60ff1f55b57c3f51b18c0c16fe44724e451ed062a173d74\"\n",
    "account2 = \"0x8883f1016E727C8fE93C1Df471f102bBbAF2B910\"\n",
    "private_key2=\"8d70f54549b5fb7c04fc016cc88c447fc81aff3af3065c696aee1b529fbc8ba5\"\n"
   ]
  },
  {
   "cell_type": "code",
   "execution_count": 16,
   "id": "recognized-tuition",
   "metadata": {},
   "outputs": [],
   "source": [
    "nonce = web3.eth.getTransactionCount(account1)"
   ]
  },
  {
   "cell_type": "code",
   "execution_count": 17,
   "id": "realistic-branch",
   "metadata": {},
   "outputs": [],
   "source": [
    "def sigfrac(x,y,a,b):\n",
    "    nonce = web3.eth.getTransactionCount(account1)\n",
    "    transaction = contract.functions.sigmoid_act(\n",
    "        x,y,a,b\n",
    "         ).buildTransaction({\n",
    "        'gas': 100000,\n",
    "        'gasPrice': web3.toWei('10', 'gwei'),\n",
    "        'from': account1,\n",
    "        'nonce': nonce\n",
    "        }) \n",
    "    signed_txn = web3.eth.account.signTransaction(transaction, private_key=private_key1)\n",
    "    tx_hash = web3.eth.sendRawTransaction(signed_txn.rawTransaction)\n",
    "    tx_receipt = web3.eth.waitForTransactionReceipt(tx_hash)\n",
    "    return tx_receipt.gasUsed"
   ]
  },
  {
   "cell_type": "code",
   "execution_count": 18,
   "id": "quarterly-binary",
   "metadata": {},
   "outputs": [
    {
     "ename": "ZeroDivisionError",
     "evalue": "division by zero",
     "output_type": "error",
     "traceback": [
      "\u001b[1;31m---------------------------------------------------------------------------\u001b[0m",
      "\u001b[1;31mZeroDivisionError\u001b[0m                         Traceback (most recent call last)",
      "\u001b[1;32m<ipython-input-18-1c5758b9c4e5>\u001b[0m in \u001b[0;36m<module>\u001b[1;34m\u001b[0m\n\u001b[0;32m      1\u001b[0m \u001b[0mn\u001b[0m\u001b[1;33m,\u001b[0m \u001b[0md\u001b[0m \u001b[1;33m=\u001b[0m \u001b[0mcontract\u001b[0m\u001b[1;33m.\u001b[0m\u001b[0mfunctions\u001b[0m\u001b[1;33m.\u001b[0m\u001b[0msigprint\u001b[0m\u001b[1;33m(\u001b[0m\u001b[1;33m)\u001b[0m\u001b[1;33m.\u001b[0m\u001b[0mcall\u001b[0m\u001b[1;33m(\u001b[0m\u001b[1;33m)\u001b[0m\u001b[1;33m\u001b[0m\u001b[1;33m\u001b[0m\u001b[0m\n\u001b[1;32m----> 2\u001b[1;33m \u001b[0mprint\u001b[0m\u001b[1;33m(\u001b[0m\u001b[1;34m\"value of sigmoid is:\"\u001b[0m\u001b[1;33m,\u001b[0m \u001b[0mn\u001b[0m\u001b[1;33m/\u001b[0m\u001b[0md\u001b[0m\u001b[1;33m)\u001b[0m\u001b[1;33m\u001b[0m\u001b[1;33m\u001b[0m\u001b[0m\n\u001b[0m",
      "\u001b[1;31mZeroDivisionError\u001b[0m: division by zero"
     ]
    }
   ],
   "source": [
    "n, d = contract.functions.sigprint().call()\n",
    "print(\"value of sigmoid is:\", n/d)"
   ]
  },
  {
   "cell_type": "code",
   "execution_count": 29,
   "id": "inner-organization",
   "metadata": {},
   "outputs": [],
   "source": [
    "# default sigmoid from system\n",
    "import math\n",
    "import numpy as np\n",
    "def sigmoid(x,y):\n",
    "    sig = 1 / (1 + math.exp(-x/y))\n",
    "    return sig"
   ]
  },
  {
   "cell_type": "code",
   "execution_count": 30,
   "id": "immune-satellite",
   "metadata": {},
   "outputs": [],
   "source": [
    "a_list = list(range(-200, 201))\n",
    "a_val_num = np.array(a_list)\n",
    "a_val_den = np.full(401,10)"
   ]
  },
  {
   "cell_type": "code",
   "execution_count": 31,
   "id": "assisted-arrival",
   "metadata": {},
   "outputs": [],
   "source": [
    "sig_b=np.zeros(401)\n",
    "for i in range(len(a_val_num)):\n",
    "    sig_b[i] = sigmoid(int(a_val_num[i]),int(a_val_den[i]))\n",
    "    "
   ]
  },
  {
   "cell_type": "code",
   "execution_count": 32,
   "id": "italic-alexandria",
   "metadata": {},
   "outputs": [],
   "source": [
    "sig_e=np.zeros(401)\n",
    "gasUse =[]\n",
    "for i in range(len(a_val_num)):\n",
    "    if (a_val_num[i]<0):\n",
    "        gasUse.append(sigfrac(int(a_val_num[i]),int(a_val_den[i]),int(a_val_num[i]*(-1)),int(a_val_den[i])))\n",
    "    else:\n",
    "        gasUse.append(sigfrac(int(a_val_num[i]),int(a_val_den[i]),int(a_val_num[i]),int(a_val_den[i]))) \n",
    "    n, d = contract.functions.sigprint().call()\n",
    "    \n",
    "    sig_e[i] = n/d"
   ]
  },
  {
   "cell_type": "code",
   "execution_count": 33,
   "id": "jewish-profit",
   "metadata": {},
   "outputs": [],
   "source": [
    "# sig_b"
   ]
  },
  {
   "cell_type": "code",
   "execution_count": 34,
   "id": "bottom-edgar",
   "metadata": {},
   "outputs": [],
   "source": [
    "# sig_e"
   ]
  },
  {
   "cell_type": "code",
   "execution_count": 35,
   "id": "aggregate-island",
   "metadata": {},
   "outputs": [],
   "source": [
    "d = np.arange(-2.0, 2.01, 0.01)\n",
    "# d"
   ]
  },
  {
   "cell_type": "code",
   "execution_count": 38,
   "id": "activated-strike",
   "metadata": {},
   "outputs": [
    {
     "data": {
      "image/png": "[encoded data removed]",
      "text/plain": [
       "<Figure size 432x288 with 1 Axes>"
      ]
     },
     "metadata": {
      "needs_background": "light"
     },
     "output_type": "display_data"
    }
   ],
   "source": [
    "import matplotlib.pyplot as plt\n",
    "plt.plot(d, sig_b, label = \"Non-Smart Contract Value\")\n",
    "plt.plot(d, sig_e, label = \"Smart Contract Value\")\n",
    "plt.xlabel(\"Values of x ranging from -1.0 to 1.0\")\n",
    "plt.ylabel(\"Sigmoid Function Output value\")\n",
    "plt.title(\"Sigmoid Value With Smart Contract Function\")\n",
    "plt.legend()\n",
    "# plt.savefig(\"sigmoid_output.pdf\")\n",
    "plt.show()"
   ]
  },
  {
   "cell_type": "code",
   "execution_count": 37,
   "id": "classical-convergence",
   "metadata": {},
   "outputs": [
    {
     "data": {
      "image/png": "[encoded data removed]",
      "text/plain": [
       "<Figure size 432x288 with 1 Axes>"
      ]
     },
     "metadata": {
      "needs_background": "light"
     },
     "output_type": "display_data"
    }
   ],
   "source": [
    "plt.plot(d, gasUse, label=\"gas Used Per Function Call\")\n",
    "plt.title(\"Gas Consumption per sigmoid function Calls\")\n",
    "plt.ylabel(\"Gas use in GWei\")\n",
    "plt.xlabel(\"values of x for sigmoid input\")\n",
    "# plt.savefig(\"sigmoid_gas.pdf\")\n",
    "plt.show()"
   ]
  },
  {
   "cell_type": "code",
   "execution_count": null,
   "id": "focal-paint",
   "metadata": {},
   "outputs": [],
   "source": []
  }
 ],
 "metadata": {
  "kernelspec": {
   "display_name": "Python 3",
   "language": "python",
   "name": "python3"
  },
  "language_info": {
   "codemirror_mode": {
    "name": "ipython",
    "version": 3
   },
   "file_extension": ".py",
   "mimetype": "text/x-python",
   "name": "python",
   "nbconvert_exporter": "python",
   "pygments_lexer": "ipython3",
   "version": "3.9.2"
  }
 },
 "nbformat": 4,
 "nbformat_minor": 5
}
