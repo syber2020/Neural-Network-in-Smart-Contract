{
 "cells": [
  {
   "cell_type": "code",
   "execution_count": 9,
   "id": "convertible-daily",
   "metadata": {},
   "outputs": [
    {
     "data": {
      "text/plain": [
       "True"
      ]
     },
     "execution_count": 9,
     "metadata": {},
     "output_type": "execute_result"
    }
   ],
   "source": [
    "# starting web3 operations\n",
    "import numpy as np\n",
    "import json\n",
    "from web3 import Web3\n",
    "import matplotlib.pyplot as plt\n",
    "# ganache_url = \"https://ropsten.infura.io/v3/6072fdc3b95c407caa681f63ebaf72b8\"\n",
    "ganache_url =\"http://127.0.0.1:8545\"\n",
    "web3 = Web3(Web3.HTTPProvider(ganache_url))\n",
    "web3.isConnected()"
   ]
  },
  {
   "cell_type": "code",
   "execution_count": 10,
   "id": "usual-madagascar",
   "metadata": {},
   "outputs": [],
   "source": [
    "# Basic web3 \n",
    "# block = web3.eth.get_block('latest')\n",
    "# balance_1 = web3.eth.getBalance(\"0x37bfB436392DaAE0E91EdcD9c4128FBcADF3919d\")\n",
    "# print(web3.fromWei(balance_1,'ether'))"
   ]
  },
  {
   "cell_type": "code",
   "execution_count": 58,
   "id": "insured-broadcasting",
   "metadata": {},
   "outputs": [],
   "source": [
    "abi = json.loads('[ { \"constant\": false, \"inputs\": [], \"name\": \"del_arr\", \"outputs\": [], \"payable\": false, \"stateMutability\": \"nonpayable\", \"type\": \"function\" }, { \"constant\": true, \"inputs\": [], \"name\": \"set_sumexp\", \"outputs\": [ { \"name\": \"\", \"type\": \"uint256\" } ], \"payable\": false, \"stateMutability\": \"view\", \"type\": \"function\" }, { \"constant\": false, \"inputs\": [], \"name\": \"get_softmax\", \"outputs\": [], \"payable\": false, \"stateMutability\": \"nonpayable\", \"type\": \"function\" }, { \"constant\": false, \"inputs\": [ { \"name\": \"C\", \"type\": \"int256\" }, { \"name\": \"D\", \"type\": \"int256\" }, { \"name\": \"k\", \"type\": \"uint256\" }, { \"name\": \"j\", \"type\": \"uint256\" } ], \"name\": \"getexpon\", \"outputs\": [], \"payable\": false, \"stateMutability\": \"nonpayable\", \"type\": \"function\" }, { \"constant\": true, \"inputs\": [], \"name\": \"setexpon\", \"outputs\": [ { \"name\": \"\", \"type\": \"uint256\" } ], \"payable\": false, \"stateMutability\": \"view\", \"type\": \"function\" }, { \"constant\": true, \"inputs\": [], \"name\": \"set_softmax\", \"outputs\": [ { \"name\": \"\", \"type\": \"uint256[]\" }, { \"name\": \"\", \"type\": \"uint256[]\" } ], \"payable\": false, \"stateMutability\": \"view\", \"type\": \"function\" }, { \"constant\": false, \"inputs\": [], \"name\": \"sum_exp\", \"outputs\": [], \"payable\": false, \"stateMutability\": \"nonpayable\", \"type\": \"function\" }, { \"constant\": true, \"inputs\": [ { \"name\": \"\", \"type\": \"int256\" } ], \"name\": \"exp\", \"outputs\": [ { \"name\": \"\", \"type\": \"int256\" } ], \"payable\": false, \"stateMutability\": \"view\", \"type\": \"function\" }, { \"constant\": true, \"inputs\": [], \"name\": \"setallexpon\", \"outputs\": [ { \"name\": \"\", \"type\": \"uint256[]\" } ], \"payable\": false, \"stateMutability\": \"view\", \"type\": \"function\" } ]')\n",
    "cont_address = \"0xD4F6AC701e9CdabB14E1156aC06D195c2F2a7645\""
   ]
  },
  {
   "cell_type": "code",
   "execution_count": 59,
   "id": "robust-herald",
   "metadata": {},
   "outputs": [],
   "source": [
    "contract = web3.eth.contract(address=cont_address,abi=abi)"
   ]
  },
  {
   "cell_type": "code",
   "execution_count": 60,
   "id": "palestinian-transmission",
   "metadata": {},
   "outputs": [],
   "source": [
    "account1 = \"0xdd617f9D5120b7b30E4C502fdd6b13dCf286A300\"\n",
    "private_key1=\"c00b36dc1777e7fda60ff1f55b57c3f51b18c0c16fe44724e451ed062a173d74\"\n",
    "account2 = \"0x8883f1016E727C8fE93C1Df471f102bBbAF2B910\"\n",
    "private_key2=\"8d70f54549b5fb7c04fc016cc88c447fc81aff3af3065c696aee1b529fbc8ba5\"\n"
   ]
  },
  {
   "cell_type": "code",
   "execution_count": 61,
   "id": "recognized-tuition",
   "metadata": {},
   "outputs": [],
   "source": [
    "nonce = web3.eth.getTransactionCount(account1)"
   ]
  },
  {
   "cell_type": "code",
   "execution_count": 70,
   "id": "realistic-branch",
   "metadata": {},
   "outputs": [],
   "source": [
    "def getexpon(a,b,c,d):\n",
    "    nonce = web3.eth.getTransactionCount(account1)\n",
    "    transaction = contract.functions.getexpon(\n",
    "        a,b,c,d\n",
    "         ).buildTransaction({\n",
    "        'gas': 100000,\n",
    "        'gasPrice': web3.toWei('10', 'gwei'),\n",
    "        'from': account1,\n",
    "        'nonce': nonce\n",
    "        }) \n",
    "    signed_txn = web3.eth.account.signTransaction(transaction, private_key=private_key1)\n",
    "    tx_hash = web3.eth.sendRawTransaction(signed_txn.rawTransaction)\n",
    "    tx_receipt = web3.eth.waitForTransactionReceipt(tx_hash)\n",
    "    return tx_receipt.gasUsed"
   ]
  },
  {
   "cell_type": "code",
   "execution_count": 71,
   "id": "quarterly-binary",
   "metadata": {},
   "outputs": [],
   "source": [
    "# print(contract.functions.setallexpon().call())\n",
    "# print(\"value of sigmoid is:\", n/d)"
   ]
  },
  {
   "cell_type": "code",
   "execution_count": 72,
   "id": "loaded-offer",
   "metadata": {},
   "outputs": [],
   "source": [
    "def getsumexpon():\n",
    "    nonce = web3.eth.getTransactionCount(account1)\n",
    "    transaction = contract.functions.sum_exp(\n",
    "         ).buildTransaction({\n",
    "        'gas': 3000000,\n",
    "        'gasPrice': web3.toWei('1', 'gwei'),\n",
    "        'from': account1,\n",
    "        'nonce': nonce\n",
    "        }) \n",
    "    signed_txn = web3.eth.account.signTransaction(transaction, private_key=private_key1)\n",
    "    tx_hash = web3.eth.sendRawTransaction(signed_txn.rawTransaction)\n",
    "    tx_receipt = web3.eth.waitForTransactionReceipt(tx_hash)\n",
    "    return tx_receipt.gasUsed"
   ]
  },
  {
   "cell_type": "code",
   "execution_count": 73,
   "id": "weighted-density",
   "metadata": {},
   "outputs": [],
   "source": [
    "def getsoftmax():\n",
    "    nonce = web3.eth.getTransactionCount(account1)\n",
    "    transaction = contract.functions.get_softmax(\n",
    "         ).buildTransaction({\n",
    "        'gas': 3000000,\n",
    "        'gasPrice': web3.toWei('10', 'gwei'),\n",
    "        'from': account1,\n",
    "        'nonce': nonce\n",
    "        }) \n",
    "    signed_txn = web3.eth.account.signTransaction(transaction, private_key=private_key1)\n",
    "    tx_hash = web3.eth.sendRawTransaction(signed_txn.rawTransaction)\n",
    "    tx_receipt = web3.eth.waitForTransactionReceipt(tx_hash)\n",
    "    return tx_receipt.gasUsed"
   ]
  },
  {
   "cell_type": "code",
   "execution_count": 74,
   "id": "worthy-baghdad",
   "metadata": {},
   "outputs": [
    {
     "name": "stdout",
     "output_type": "stream",
     "text": [
      "[[], []]\n"
     ]
    }
   ],
   "source": [
    "print(contract.functions.set_softmax().call())"
   ]
  },
  {
   "cell_type": "code",
   "execution_count": 75,
   "id": "headed-symphony",
   "metadata": {},
   "outputs": [
    {
     "data": {
      "text/plain": [
       "array([1., 1., 1., 1., 1., 1., 1., 1., 1., 1., 1., 1., 1., 1., 1., 1., 1.,\n",
       "       1., 1., 1., 1., 1., 1., 1., 1., 1., 1., 1., 1., 1., 1., 1., 1., 1.,\n",
       "       1., 1., 1., 1., 1., 1.])"
      ]
     },
     "execution_count": 75,
     "metadata": {},
     "output_type": "execute_result"
    }
   ],
   "source": [
    "x = np.arange(-20,20)\n",
    "a = np.ones((len(x)))\n",
    "a"
   ]
  },
  {
   "cell_type": "code",
   "execution_count": 110,
   "id": "paperback-encounter",
   "metadata": {},
   "outputs": [],
   "source": [
    "## testing softmax out of blockchain\n",
    "def softmax(x):\n",
    "    sumexp = np.sum(np.exp(x))\n",
    "    return(np.exp(x)/sumexp)\n",
    "\n",
    "x = np.arange(-20,20)\n",
    "# print(softmax(x))\n",
    "y = softmax(x)\n"
   ]
  },
  {
   "cell_type": "code",
   "execution_count": 111,
   "id": "flying-happiness",
   "metadata": {},
   "outputs": [
    {
     "data": {
      "image/png": "[encoded data removed]",
      "text/plain": [
       "<Figure size 432x432 with 1 Axes>"
      ]
     },
     "metadata": {
      "needs_background": "light"
     },
     "output_type": "display_data"
    }
   ],
   "source": [
    "plt.figure(figsize=(6,6))\n",
    "plt.plot(x,y)\n",
    "plt.title(\"Softmax output with builtin function\")\n",
    "plt.xlabel(\"Input values\")\n",
    "plt.ylabel(\"Output Values in probability\")\n",
    "plt.savefig(\"softmax-off-chain.pdf\")"
   ]
  },
  {
   "cell_type": "code",
   "execution_count": 89,
   "id": "vocational-seven",
   "metadata": {},
   "outputs": [
    {
     "name": "stdout",
     "output_type": "stream",
     "text": [
      "[0, 0, 0, 0, 0, 0, 0, 0, 0, 0, 0, 0, 0, 0, 0, 0, 0, 0, 0, 0, 1, 2, 7, 19, 54, 147, 399, 1085, 2946, 7996, 21704, 58913, 159906, 434032, 1178088, 3197668, 8679385, 23558331, 63944043, 173562404] [274807130, 274807130, 274807130, 274807130, 274807130, 274807130, 274807130, 274807130, 274807130, 274807130, 274807130, 274807130, 274807130, 274807130, 274807130, 274807130, 274807130, 274807130, 274807130, 274807130, 274807130, 274807130, 274807130, 274807130, 274807130, 274807130, 274807130, 274807130, 274807130, 274807130, 274807130, 274807130, 274807130, 274807130, 274807130, 274807130, 274807130, 274807130, 274807130, 274807130]\n"
     ]
    }
   ],
   "source": [
    "expongas=[]\n",
    "softexpogas=[]\n",
    "for i in range(len(a)):\n",
    "    expongas.append(getexpon(int(x[i]),int(a[i]), abs(int(x[i])),abs(int(a[i]))))\n",
    "gas_sumexpo = getsumexpon()\n",
    "soft_gas = getsoftmax()\n",
    "smaxn,smaxd = contract.functions.set_softmax().call()\n",
    "print(smaxn,smaxd)"
   ]
  },
  {
   "cell_type": "code",
   "execution_count": 114,
   "id": "iraqi-newton",
   "metadata": {},
   "outputs": [],
   "source": [
    "softn = np.array(smaxn)\n",
    "softd = np.array(smaxd)\n",
    "from textwrap import wrap"
   ]
  },
  {
   "cell_type": "code",
   "execution_count": 125,
   "id": "square-ensemble",
   "metadata": {},
   "outputs": [
    {
     "data": {
      "image/png": "[encoded data removed]",
      "text/plain": [
       "<Figure size 432x432 with 1 Axes>"
      ]
     },
     "metadata": {
      "needs_background": "light"
     },
     "output_type": "display_data"
    }
   ],
   "source": [
    "# print(softn/softd)\n",
    "plt.figure(figsize=(6,6))\n",
    "plt.plot(x,softn/softd)\n",
    "\n",
    "plt.title('Softmax output with Smart Contract function with probability \\n values (divisions perfomed outside smart contract')\n",
    "plt.xlabel(\"Input values\")\n",
    "plt.ylabel(\"Output Values in probability\")\n",
    "plt.savefig(\"softmax-on-chain.pdf\")"
   ]
  },
  {
   "cell_type": "code",
   "execution_count": 113,
   "id": "sweet-christian",
   "metadata": {},
   "outputs": [
    {
     "data": {
      "image/png": "[encoded data removed]",
      "text/plain": [
       "<Figure size 432x432 with 1 Axes>"
      ]
     },
     "metadata": {
      "needs_background": "light"
     },
     "output_type": "display_data"
    }
   ],
   "source": [
    "expongas = np.array(expongas)\n",
    "softexpogas= np.array(softexpogas)\n",
    "plt.figure(figsize=(6,6))\n",
    "plt.plot(x,expongas)\n",
    "plt.title(\"Exponent computation gas use\")\n",
    "plt.xlabel(\"Input values\")\n",
    "plt.ylabel(\"Gas Consumption in GWei\")\n",
    "plt.savefig(\"exponent_computation_gas.pdf\")"
   ]
  },
  {
   "cell_type": "code",
   "execution_count": 126,
   "id": "healthy-practitioner",
   "metadata": {},
   "outputs": [
    {
     "name": "stdout",
     "output_type": "stream",
     "text": [
      "189714\n",
      "1548981\n"
     ]
    }
   ],
   "source": [
    "print(gas_sumexpo) \n",
    "print(soft_gas) "
   ]
  },
  {
   "cell_type": "code",
   "execution_count": 147,
   "id": "saving-tracy",
   "metadata": {},
   "outputs": [
    {
     "data": {
      "image/png": "[encoded data removed]",
      "text/plain": [
       "<Figure size 504x504 with 1 Axes>"
      ]
     },
     "metadata": {
      "needs_background": "light"
     },
     "output_type": "display_data"
    }
   ],
   "source": [
    "plt.figure(figsize=(7,7))\n",
    "plt.ticklabel_format(style='plain') \n",
    "plt.bar(\"Sum of exponents\", gas_sumexpo)\n",
    "plt.bar(\"Softmax Computation\", soft_gas)\n",
    "plt.bar(\"Exponent Computation\", expongas[30])\n",
    "plt.title(\"Average Gas Consumption for functions\",fontsize=12)\n",
    "\n",
    "plt.xlabel(\"Type of functions\",fontsize=12)\n",
    "plt.ylabel(\"gas consumed in GWei\",fontsize=12)\n",
    "plt.savefig(\"Contract Function gas.pdf\",bbox_inches='tight')"
   ]
  },
  {
   "cell_type": "code",
   "execution_count": null,
   "id": "inner-organization",
   "metadata": {},
   "outputs": [],
   "source": [
    "# default sigmoid from system\n",
    "import math\n",
    "import numpy as np\n",
    "def sigmoid(x,y):\n",
    "    sig = 1 / (1 + math.exp(-x/y))\n",
    "    return sig"
   ]
  },
  {
   "cell_type": "code",
   "execution_count": 128,
   "id": "immune-satellite",
   "metadata": {},
   "outputs": [],
   "source": [
    "a_list = list(range(-100, 101))\n",
    "a_val_num = np.array(a_list)\n",
    "a_val_den = np.full(201,10)"
   ]
  },
  {
   "cell_type": "code",
   "execution_count": 129,
   "id": "assisted-arrival",
   "metadata": {},
   "outputs": [],
   "source": [
    "sig_b=np.zeros(201)\n",
    "for i in range(len(a_val_num)):\n",
    "    sig_b[i] = sigmoid(int(a_val_num[i]),int(a_val_den[i]))\n",
    "    "
   ]
  },
  {
   "cell_type": "code",
   "execution_count": 130,
   "id": "italic-alexandria",
   "metadata": {},
   "outputs": [],
   "source": [
    "sig_e=np.zeros(201)\n",
    "gasUse =[]\n",
    "for i in range(len(a_val_num)):\n",
    "    if (a_val_num[i]<0):\n",
    "        gasUse.append(sigfrac(int(a_val_num[i]),int(a_val_den[i]),int(a_val_num[i]*(-1)),int(a_val_den[i])))\n",
    "    else:\n",
    "        gasUse.append(sigfrac(int(a_val_num[i]),int(a_val_den[i]),int(a_val_num[i]),int(a_val_den[i]))) \n",
    "    n, d = contract.functions.sigprint().call()\n",
    "    \n",
    "    sig_e[i] = n/d"
   ]
  },
  {
   "cell_type": "code",
   "execution_count": 131,
   "id": "jewish-profit",
   "metadata": {},
   "outputs": [
    {
     "data": {
      "text/plain": [
       "array([4.53978687e-05, 5.01721647e-05, 5.54485247e-05, 6.12797396e-05,\n",
       "       6.77241496e-05, 7.48462275e-05, 8.27172229e-05, 9.14158739e-05,\n",
       "       1.01029194e-04, 1.11653341e-04, 1.23394576e-04, 1.36370327e-04,\n",
       "       1.50710358e-04, 1.66558065e-04, 1.84071905e-04, 2.03426978e-04,\n",
       "       2.24816770e-04, 2.48455082e-04, 2.74578156e-04, 3.03447030e-04,\n",
       "       3.35350130e-04, 3.70606141e-04, 4.09567165e-04, 4.52622223e-04,\n",
       "       5.00201107e-04, 5.52778637e-04, 6.10879359e-04, 6.75082731e-04,\n",
       "       7.46028834e-04, 8.24424686e-04, 9.11051194e-04, 1.00677082e-03,\n",
       "       1.11253603e-03, 1.22939862e-03, 1.35851995e-03, 1.50118226e-03,\n",
       "       1.65880108e-03, 1.83293894e-03, 2.02532039e-03, 2.23784852e-03,\n",
       "       2.47262316e-03, 2.73196076e-03, 3.01841632e-03, 3.33480731e-03,\n",
       "       3.68423990e-03, 4.07013772e-03, 4.49627316e-03, 4.96680165e-03,\n",
       "       5.48629890e-03, 6.05980149e-03, 6.69285092e-03, 7.39154134e-03,\n",
       "       8.16257115e-03, 9.01329865e-03, 9.95180187e-03, 1.09869426e-02,\n",
       "       1.21284350e-02, 1.33869178e-02, 1.47740317e-02, 1.63024994e-02,\n",
       "       1.79862100e-02, 1.98403057e-02, 2.18812709e-02, 2.41270214e-02,\n",
       "       2.65969936e-02, 2.93122308e-02, 3.22954647e-02, 3.55711893e-02,\n",
       "       3.91657228e-02, 4.31072549e-02, 4.74258732e-02, 5.21535631e-02,\n",
       "       5.73241759e-02, 6.29733561e-02, 6.91384203e-02, 7.58581800e-02,\n",
       "       8.31726965e-02, 9.11229610e-02, 9.97504891e-02, 1.09096821e-01,\n",
       "       1.19202922e-01, 1.30108474e-01, 1.41851065e-01, 1.54465265e-01,\n",
       "       1.67981615e-01, 1.82425524e-01, 1.97816111e-01, 2.14165017e-01,\n",
       "       2.31475217e-01, 2.49739894e-01, 2.68941421e-01, 2.89050497e-01,\n",
       "       3.10025519e-01, 3.31812228e-01, 3.54343694e-01, 3.77540669e-01,\n",
       "       4.01312340e-01, 4.25557483e-01, 4.50166003e-01, 4.75020813e-01,\n",
       "       5.00000000e-01, 5.24979187e-01, 5.49833997e-01, 5.74442517e-01,\n",
       "       5.98687660e-01, 6.22459331e-01, 6.45656306e-01, 6.68187772e-01,\n",
       "       6.89974481e-01, 7.10949503e-01, 7.31058579e-01, 7.50260106e-01,\n",
       "       7.68524783e-01, 7.85834983e-01, 8.02183889e-01, 8.17574476e-01,\n",
       "       8.32018385e-01, 8.45534735e-01, 8.58148935e-01, 8.69891526e-01,\n",
       "       8.80797078e-01, 8.90903179e-01, 9.00249511e-01, 9.08877039e-01,\n",
       "       9.16827304e-01, 9.24141820e-01, 9.30861580e-01, 9.37026644e-01,\n",
       "       9.42675824e-01, 9.47846437e-01, 9.52574127e-01, 9.56892745e-01,\n",
       "       9.60834277e-01, 9.64428811e-01, 9.67704535e-01, 9.70687769e-01,\n",
       "       9.73403006e-01, 9.75872979e-01, 9.78118729e-01, 9.80159694e-01,\n",
       "       9.82013790e-01, 9.83697501e-01, 9.85225968e-01, 9.86613082e-01,\n",
       "       9.87871565e-01, 9.89013057e-01, 9.90048198e-01, 9.90986701e-01,\n",
       "       9.91837429e-01, 9.92608459e-01, 9.93307149e-01, 9.93940199e-01,\n",
       "       9.94513701e-01, 9.95033198e-01, 9.95503727e-01, 9.95929862e-01,\n",
       "       9.96315760e-01, 9.96665193e-01, 9.96981584e-01, 9.97268039e-01,\n",
       "       9.97527377e-01, 9.97762151e-01, 9.97974680e-01, 9.98167061e-01,\n",
       "       9.98341199e-01, 9.98498818e-01, 9.98641480e-01, 9.98770601e-01,\n",
       "       9.98887464e-01, 9.98993229e-01, 9.99088949e-01, 9.99175575e-01,\n",
       "       9.99253971e-01, 9.99324917e-01, 9.99389121e-01, 9.99447221e-01,\n",
       "       9.99499799e-01, 9.99547378e-01, 9.99590433e-01, 9.99629394e-01,\n",
       "       9.99664650e-01, 9.99696553e-01, 9.99725422e-01, 9.99751545e-01,\n",
       "       9.99775183e-01, 9.99796573e-01, 9.99815928e-01, 9.99833442e-01,\n",
       "       9.99849290e-01, 9.99863630e-01, 9.99876605e-01, 9.99888347e-01,\n",
       "       9.99898971e-01, 9.99908584e-01, 9.99917283e-01, 9.99925154e-01,\n",
       "       9.99932276e-01, 9.99938720e-01, 9.99944551e-01, 9.99949828e-01,\n",
       "       9.99954602e-01])"
      ]
     },
     "execution_count": 131,
     "metadata": {},
     "output_type": "execute_result"
    }
   ],
   "source": [
    "sig_b"
   ]
  },
  {
   "cell_type": "code",
   "execution_count": 132,
   "id": "bottom-edgar",
   "metadata": {},
   "outputs": [
    {
     "data": {
      "text/plain": [
       "array([0.00000000e+00, 7.00000000e-05, 7.00000000e-05, 7.00000000e-05,\n",
       "       7.00000000e-05, 7.00000000e-05, 7.00000000e-05, 7.00000000e-05,\n",
       "       7.00000000e-05, 7.00000000e-05, 7.00000000e-05, 2.00000000e-04,\n",
       "       2.00000000e-04, 2.00000000e-04, 2.00000000e-04, 2.00000000e-04,\n",
       "       2.00000000e-04, 2.00000000e-04, 2.00000000e-04, 2.00000000e-04,\n",
       "       2.00000000e-04, 6.00000000e-04, 6.00000000e-04, 6.00000000e-04,\n",
       "       6.00000000e-04, 6.00000000e-04, 6.00000000e-04, 6.00000000e-04,\n",
       "       6.00000000e-04, 6.00000000e-04, 6.00000000e-04, 1.50000000e-03,\n",
       "       1.50000000e-03, 1.50000000e-03, 1.50000000e-03, 1.50000000e-03,\n",
       "       1.50000000e-03, 1.50000000e-03, 1.50000000e-03, 1.50000000e-03,\n",
       "       1.50000000e-03, 2.75852376e-03, 3.04491770e-03, 3.36197746e-03,\n",
       "       3.71279879e-03, 4.10076713e-03, 4.52959481e-03, 5.00336651e-03,\n",
       "       5.52659264e-03, 6.10426819e-03, 6.74193090e-03, 7.45218103e-03,\n",
       "       8.22185966e-03, 9.07307572e-03, 1.00138605e-02, 1.10529526e-02,\n",
       "       1.21998822e-02, 1.34650736e-02, 1.48599658e-02, 1.63971407e-02,\n",
       "       1.80904447e-02, 1.99722003e-02, 2.20063058e-02, 2.42497431e-02,\n",
       "       2.67217564e-02, 2.94429881e-02, 3.24356049e-02, 3.57234531e-02,\n",
       "       3.93322345e-02, 4.32896786e-02, 4.76256595e-02, 5.24156480e-02,\n",
       "       5.75599469e-02, 6.31937064e-02, 6.93534868e-02, 7.60768046e-02,\n",
       "       8.34020218e-02, 9.13682481e-02, 1.00015227e-01, 1.09383138e-01,\n",
       "       1.19512195e-01, 1.30541212e-01, 1.42202431e-01, 1.54760274e-01,\n",
       "       1.68242538e-01, 1.82670744e-01, 1.98059395e-01, 2.14415375e-01,\n",
       "       2.31737435e-01, 2.50015663e-01, 2.69230769e-01, 7.08798852e-01,\n",
       "       6.88831741e-01, 6.67629165e-01, 6.45411127e-01, 6.22366288e-01,\n",
       "       5.98659004e-01, 5.74436155e-01, 5.49833217e-01, 5.24979165e-01,\n",
       "       5.00000000e-01, 5.24979165e-01, 5.49833217e-01, 5.74436155e-01,\n",
       "       5.98659004e-01, 6.22366288e-01, 6.45411127e-01, 6.67629165e-01,\n",
       "       6.88831741e-01, 7.08798852e-01, 7.30769231e-01, 7.33453742e-01,\n",
       "       7.35899773e-01, 7.38126722e-01, 7.40152082e-01, 7.41991254e-01,\n",
       "       7.43657385e-01, 7.45161232e-01, 7.46511043e-01, 7.47712467e-01,\n",
       "       8.80487805e-01, 8.80692217e-01, 8.80877253e-01, 8.81044716e-01,\n",
       "       8.81196201e-01, 8.81333088e-01, 8.81456547e-01, 8.81567537e-01,\n",
       "       8.81666801e-01, 8.81754870e-01, 9.52374340e-01, 9.52386925e-01,\n",
       "       9.52398311e-01, 9.52408613e-01, 9.52417928e-01, 9.52426343e-01,\n",
       "       9.52433930e-01, 9.52440750e-01, 9.52446847e-01, 9.52452256e-01,\n",
       "       9.81909555e-01, 9.81910259e-01, 9.81910896e-01, 9.81911473e-01,\n",
       "       9.81911994e-01, 9.81912465e-01, 9.81912889e-01, 9.81913270e-01,\n",
       "       9.81913612e-01, 9.81913914e-01, 9.93310000e-01, 9.93310000e-01,\n",
       "       9.93310000e-01, 9.93310000e-01, 9.93310000e-01, 9.93310000e-01,\n",
       "       9.93310000e-01, 9.93310000e-01, 9.93310000e-01, 9.93310000e-01,\n",
       "       9.97530000e-01, 9.97530000e-01, 9.97530000e-01, 9.97530000e-01,\n",
       "       9.97530000e-01, 9.97530000e-01, 9.97530000e-01, 9.97530000e-01,\n",
       "       9.97530000e-01, 9.97530000e-01, 9.99090000e-01, 9.99090000e-01,\n",
       "       9.99090000e-01, 9.99090000e-01, 9.99090000e-01, 9.99090000e-01,\n",
       "       9.99090000e-01, 9.99090000e-01, 9.99090000e-01, 9.99090000e-01,\n",
       "       9.99660000e-01, 9.99660000e-01, 9.99660000e-01, 9.99660000e-01,\n",
       "       9.99660000e-01, 9.99660000e-01, 9.99660000e-01, 9.99660000e-01,\n",
       "       9.99660000e-01, 9.99660000e-01, 9.99880000e-01, 9.99880000e-01,\n",
       "       9.99880000e-01, 9.99880000e-01, 9.99880000e-01, 9.99880000e-01,\n",
       "       9.99880000e-01, 9.99880000e-01, 9.99880000e-01, 9.99880000e-01,\n",
       "       1.00000000e+00])"
      ]
     },
     "execution_count": 132,
     "metadata": {},
     "output_type": "execute_result"
    }
   ],
   "source": [
    "sig_e"
   ]
  },
  {
   "cell_type": "code",
   "execution_count": 133,
   "id": "aggregate-island",
   "metadata": {},
   "outputs": [
    {
     "data": {
      "text/plain": [
       "array([-1.0000000e+00, -9.9000000e-01, -9.8000000e-01, -9.7000000e-01,\n",
       "       -9.6000000e-01, -9.5000000e-01, -9.4000000e-01, -9.3000000e-01,\n",
       "       -9.2000000e-01, -9.1000000e-01, -9.0000000e-01, -8.9000000e-01,\n",
       "       -8.8000000e-01, -8.7000000e-01, -8.6000000e-01, -8.5000000e-01,\n",
       "       -8.4000000e-01, -8.3000000e-01, -8.2000000e-01, -8.1000000e-01,\n",
       "       -8.0000000e-01, -7.9000000e-01, -7.8000000e-01, -7.7000000e-01,\n",
       "       -7.6000000e-01, -7.5000000e-01, -7.4000000e-01, -7.3000000e-01,\n",
       "       -7.2000000e-01, -7.1000000e-01, -7.0000000e-01, -6.9000000e-01,\n",
       "       -6.8000000e-01, -6.7000000e-01, -6.6000000e-01, -6.5000000e-01,\n",
       "       -6.4000000e-01, -6.3000000e-01, -6.2000000e-01, -6.1000000e-01,\n",
       "       -6.0000000e-01, -5.9000000e-01, -5.8000000e-01, -5.7000000e-01,\n",
       "       -5.6000000e-01, -5.5000000e-01, -5.4000000e-01, -5.3000000e-01,\n",
       "       -5.2000000e-01, -5.1000000e-01, -5.0000000e-01, -4.9000000e-01,\n",
       "       -4.8000000e-01, -4.7000000e-01, -4.6000000e-01, -4.5000000e-01,\n",
       "       -4.4000000e-01, -4.3000000e-01, -4.2000000e-01, -4.1000000e-01,\n",
       "       -4.0000000e-01, -3.9000000e-01, -3.8000000e-01, -3.7000000e-01,\n",
       "       -3.6000000e-01, -3.5000000e-01, -3.4000000e-01, -3.3000000e-01,\n",
       "       -3.2000000e-01, -3.1000000e-01, -3.0000000e-01, -2.9000000e-01,\n",
       "       -2.8000000e-01, -2.7000000e-01, -2.6000000e-01, -2.5000000e-01,\n",
       "       -2.4000000e-01, -2.3000000e-01, -2.2000000e-01, -2.1000000e-01,\n",
       "       -2.0000000e-01, -1.9000000e-01, -1.8000000e-01, -1.7000000e-01,\n",
       "       -1.6000000e-01, -1.5000000e-01, -1.4000000e-01, -1.3000000e-01,\n",
       "       -1.2000000e-01, -1.1000000e-01, -1.0000000e-01, -9.0000000e-02,\n",
       "       -8.0000000e-02, -7.0000000e-02, -6.0000000e-02, -5.0000000e-02,\n",
       "       -4.0000000e-02, -3.0000000e-02, -2.0000000e-02, -1.0000000e-02,\n",
       "        8.8817842e-16,  1.0000000e-02,  2.0000000e-02,  3.0000000e-02,\n",
       "        4.0000000e-02,  5.0000000e-02,  6.0000000e-02,  7.0000000e-02,\n",
       "        8.0000000e-02,  9.0000000e-02,  1.0000000e-01,  1.1000000e-01,\n",
       "        1.2000000e-01,  1.3000000e-01,  1.4000000e-01,  1.5000000e-01,\n",
       "        1.6000000e-01,  1.7000000e-01,  1.8000000e-01,  1.9000000e-01,\n",
       "        2.0000000e-01,  2.1000000e-01,  2.2000000e-01,  2.3000000e-01,\n",
       "        2.4000000e-01,  2.5000000e-01,  2.6000000e-01,  2.7000000e-01,\n",
       "        2.8000000e-01,  2.9000000e-01,  3.0000000e-01,  3.1000000e-01,\n",
       "        3.2000000e-01,  3.3000000e-01,  3.4000000e-01,  3.5000000e-01,\n",
       "        3.6000000e-01,  3.7000000e-01,  3.8000000e-01,  3.9000000e-01,\n",
       "        4.0000000e-01,  4.1000000e-01,  4.2000000e-01,  4.3000000e-01,\n",
       "        4.4000000e-01,  4.5000000e-01,  4.6000000e-01,  4.7000000e-01,\n",
       "        4.8000000e-01,  4.9000000e-01,  5.0000000e-01,  5.1000000e-01,\n",
       "        5.2000000e-01,  5.3000000e-01,  5.4000000e-01,  5.5000000e-01,\n",
       "        5.6000000e-01,  5.7000000e-01,  5.8000000e-01,  5.9000000e-01,\n",
       "        6.0000000e-01,  6.1000000e-01,  6.2000000e-01,  6.3000000e-01,\n",
       "        6.4000000e-01,  6.5000000e-01,  6.6000000e-01,  6.7000000e-01,\n",
       "        6.8000000e-01,  6.9000000e-01,  7.0000000e-01,  7.1000000e-01,\n",
       "        7.2000000e-01,  7.3000000e-01,  7.4000000e-01,  7.5000000e-01,\n",
       "        7.6000000e-01,  7.7000000e-01,  7.8000000e-01,  7.9000000e-01,\n",
       "        8.0000000e-01,  8.1000000e-01,  8.2000000e-01,  8.3000000e-01,\n",
       "        8.4000000e-01,  8.5000000e-01,  8.6000000e-01,  8.7000000e-01,\n",
       "        8.8000000e-01,  8.9000000e-01,  9.0000000e-01,  9.1000000e-01,\n",
       "        9.2000000e-01,  9.3000000e-01,  9.4000000e-01,  9.5000000e-01,\n",
       "        9.6000000e-01,  9.7000000e-01,  9.8000000e-01,  9.9000000e-01,\n",
       "        1.0000000e+00])"
      ]
     },
     "execution_count": 133,
     "metadata": {},
     "output_type": "execute_result"
    }
   ],
   "source": [
    "d = np.arange(-1.0, 1.01, 0.01)\n",
    "d"
   ]
  },
  {
   "cell_type": "code",
   "execution_count": 134,
   "id": "activated-strike",
   "metadata": {},
   "outputs": [
    {
     "data": {
      "image/png": "[encoded data removed]",
      "text/plain": [
       "<Figure size 432x288 with 1 Axes>"
      ]
     },
     "metadata": {
      "needs_background": "light"
     },
     "output_type": "display_data"
    }
   ],
   "source": [
    "import matplotlib.pyplot as plt\n",
    "plt.plot(d, sig_b, label = \"Non-Smart Contract Value\")\n",
    "plt.plot(d, sig_e, label = \"Smart Contract Value\")\n",
    "plt.xlabel(\"Values of x ranging from -1.0 to 1.0\")\n",
    "plt.ylabel(\"Sigmoid Function Output value\")\n",
    "plt.title(\"Sigmoid Value With Smart Contract Function\")\n",
    "plt.legend()\n",
    "# plt.savefig(\"sigmoid_output.pdf\")\n",
    "plt.show()"
   ]
  },
  {
   "cell_type": "code",
   "execution_count": 135,
   "id": "classical-convergence",
   "metadata": {},
   "outputs": [
    {
     "data": {
      "image/png": "[encoded data removed]",
      "text/plain": [
       "<Figure size 432x288 with 1 Axes>"
      ]
     },
     "metadata": {
      "needs_background": "light"
     },
     "output_type": "display_data"
    }
   ],
   "source": [
    "plt.plot(d, gasUse, label=\"gas Used Per Function Call\")\n",
    "plt.title(\"Gas Consumption per sigmoid function Calls\")\n",
    "plt.ylabel(\"Gas use in GWei\")\n",
    "plt.xlabel(\"values of x for sigmoid input\")\n",
    "# plt.savefig(\"sigmoid_gas.pdf\")\n",
    "plt.show()"
   ]
  },
  {
   "cell_type": "code",
   "execution_count": null,
   "id": "focal-paint",
   "metadata": {},
   "outputs": [],
   "source": []
  }
 ],
 "metadata": {
  "kernelspec": {
   "display_name": "Python 3",
   "language": "python",
   "name": "python3"
  },
  "language_info": {
   "codemirror_mode": {
    "name": "ipython",
    "version": 3
   },
   "file_extension": ".py",
   "mimetype": "text/x-python",
   "name": "python",
   "nbconvert_exporter": "python",
   "pygments_lexer": "ipython3",
   "version": "3.9.2"
  }
 },
 "nbformat": 4,
 "nbformat_minor": 5
}
