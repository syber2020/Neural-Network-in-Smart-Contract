{
 "cells": [
  {
   "cell_type": "code",
   "execution_count": 10,
   "id": "convertible-daily",
   "metadata": {},
   "outputs": [
    {
     "data": {
      "text/plain": [
       "True"
      ]
     },
     "execution_count": 10,
     "metadata": {},
     "output_type": "execute_result"
    }
   ],
   "source": [
    "# starting web3 operations\n",
    "import numpy as np\n",
    "import json\n",
    "from web3 import Web3\n",
    "import time\n",
    "# ganache_url = \"https://ropsten.infura.io/v3/0345978e22a6431f9222c56ea1f7b6bd\"\n",
    "#ganache_url=\"https://lively-dark-firefly.ropsten.quiknode.pro/e98606c11b422cb244ac923a53d36c5b7ea2c17c/\"\n",
    "ganache_url =\"http://127.0.0.1:8545\"\n",
    "web3 = Web3(Web3.HTTPProvider(ganache_url))\n",
    "web3.isConnected()"
   ]
  },
  {
   "cell_type": "code",
   "execution_count": 11,
   "id": "usual-madagascar",
   "metadata": {},
   "outputs": [],
   "source": [
    "# Basic web3 \n",
    "# block = web3.eth.get_block('latest')\n",
    "# balance_1 = web3.eth.getBalance(\"0x37bfB436392DaAE0E91EdcD9c4128FBcADF3919d\")\n",
    "# print(web3.fromWei(balance_1,'ether'))"
   ]
  },
  {
   "cell_type": "code",
   "execution_count": 12,
   "id": "insured-broadcasting",
   "metadata": {},
   "outputs": [],
   "source": [
    "abi = json.loads('[ { \"constant\": false, \"inputs\": [ { \"name\": \"x\", \"type\": \"int256\" }, { \"name\": \"y\", \"type\": \"int256\" }, { \"name\": \"a\", \"type\": \"uint256\" }, { \"name\": \"b\", \"type\": \"uint256\" } ], \"name\": \"sigmoid_act\", \"outputs\": [], \"payable\": false, \"stateMutability\": \"nonpayable\", \"type\": \"function\" }, { \"constant\": true, \"inputs\": [ { \"name\": \"x\", \"type\": \"int256\" }, { \"name\": \"y\", \"type\": \"int256\" } ], \"name\": \"div\", \"outputs\": [ { \"name\": \"\", \"type\": \"int256\" }, { \"name\": \"\", \"type\": \"int256\" } ], \"payable\": false, \"stateMutability\": \"view\", \"type\": \"function\" }, { \"constant\": true, \"inputs\": [], \"name\": \"sigprint\", \"outputs\": [ { \"name\": \"\", \"type\": \"uint256\" }, { \"name\": \"\", \"type\": \"uint256\" } ], \"payable\": false, \"stateMutability\": \"view\", \"type\": \"function\" } ]')\n",
    "\n",
    "cont_address = \"0x8a03D1D7B16160A66bAFDabd9C7c2368f9760aeb\""
   ]
  },
  {
   "cell_type": "code",
   "execution_count": 13,
   "id": "robust-herald",
   "metadata": {},
   "outputs": [],
   "source": [
    "contract = web3.eth.contract(address=cont_address,abi=abi)"
   ]
  },
  {
   "cell_type": "code",
   "execution_count": 14,
   "id": "palestinian-transmission",
   "metadata": {},
   "outputs": [],
   "source": [
    "#grit\n",
    "account1 = \"0xdd617f9D5120b7b30E4C502fdd6b13dCf286A300\"\n",
    "private_key1=\"c00b36dc1777e7fda60ff1f55b57c3f51b18c0c16fe44724e451ed062a173d74\"\n",
    "account2 = \"0x8883f1016E727C8fE93C1Df471f102bBbAF2B910\"\n",
    "private_key2=\"8d70f54549b5fb7c04fc016cc88c447fc81aff3af3065c696aee1b529fbc8ba5\"\n"
   ]
  },
  {
   "cell_type": "code",
   "execution_count": 15,
   "id": "7a92255a",
   "metadata": {},
   "outputs": [],
   "source": [
    "# account1 = \"0x2C0c1D0dA7c537ad49b6AD3cdF0ed6db462446E9\"\n",
    "# private_key1=\"d2b80a53fd2b1a30ecbe14517a65c07858679034061f2d0d5f768518ed46a1b6\"\n",
    "# account2 = \"0x76b717F8b07365060131752EE08242C268CFd37B\"\n",
    "# private_key2=\"a3e852bd651cf3aa5f6d863e0727519140431ae912588b351ab5f7ee02e06cac\""
   ]
  },
  {
   "cell_type": "code",
   "execution_count": 16,
   "id": "recognized-tuition",
   "metadata": {},
   "outputs": [],
   "source": [
    "nonce = web3.eth.getTransactionCount(account1)"
   ]
  },
  {
   "cell_type": "code",
   "execution_count": 17,
   "id": "realistic-branch",
   "metadata": {},
   "outputs": [],
   "source": [
    "def sigfrac(x,y,a,b):\n",
    "    nonce = web3.eth.getTransactionCount(account1)\n",
    "    transaction = contract.functions.sigmoid_act(\n",
    "        x,y,a,b\n",
    "         ).buildTransaction({\n",
    "        'gas': 100000,\n",
    "        'gasPrice': web3.toWei('10', 'gwei'),\n",
    "        'from': account1,\n",
    "        'nonce': nonce\n",
    "        }) \n",
    "    signed_txn = web3.eth.account.signTransaction(transaction, private_key=private_key1)\n",
    "    tx_hash = web3.eth.sendRawTransaction(signed_txn.rawTransaction)\n",
    "    tx_receipt = web3.eth.waitForTransactionReceipt(tx_hash,timeout=1000)\n",
    "    return tx_receipt.gasUsed"
   ]
  },
  {
   "cell_type": "code",
   "execution_count": 18,
   "id": "quarterly-binary",
   "metadata": {},
   "outputs": [
    {
     "ename": "ZeroDivisionError",
     "evalue": "division by zero",
     "output_type": "error",
     "traceback": [
      "\u001b[0;31m---------------------------------------------------------------------------\u001b[0m",
      "\u001b[0;31mZeroDivisionError\u001b[0m                         Traceback (most recent call last)",
      "\u001b[0;32m/var/folders/9j/xg5sl5n57fs3q8d3c9svsb1r0000gq/T/ipykernel_1814/2202464953.py\u001b[0m in \u001b[0;36m<module>\u001b[0;34m\u001b[0m\n\u001b[1;32m      1\u001b[0m \u001b[0mn\u001b[0m\u001b[0;34m,\u001b[0m \u001b[0md\u001b[0m \u001b[0;34m=\u001b[0m \u001b[0mcontract\u001b[0m\u001b[0;34m.\u001b[0m\u001b[0mfunctions\u001b[0m\u001b[0;34m.\u001b[0m\u001b[0msigprint\u001b[0m\u001b[0;34m(\u001b[0m\u001b[0;34m)\u001b[0m\u001b[0;34m.\u001b[0m\u001b[0mcall\u001b[0m\u001b[0;34m(\u001b[0m\u001b[0;34m)\u001b[0m\u001b[0;34m\u001b[0m\u001b[0;34m\u001b[0m\u001b[0m\n\u001b[0;32m----> 2\u001b[0;31m \u001b[0mprint\u001b[0m\u001b[0;34m(\u001b[0m\u001b[0;34m\"value of sigmoid is:\"\u001b[0m\u001b[0;34m,\u001b[0m \u001b[0mn\u001b[0m\u001b[0;34m/\u001b[0m\u001b[0md\u001b[0m\u001b[0;34m)\u001b[0m\u001b[0;34m\u001b[0m\u001b[0;34m\u001b[0m\u001b[0m\n\u001b[0m",
      "\u001b[0;31mZeroDivisionError\u001b[0m: division by zero"
     ]
    }
   ],
   "source": [
    "n, d = contract.functions.sigprint().call()\n",
    "print(\"value of sigmoid is:\", n/d)"
   ]
  },
  {
   "cell_type": "code",
   "execution_count": null,
   "id": "cb247a6f",
   "metadata": {},
   "outputs": [],
   "source": []
  },
  {
   "cell_type": "code",
   "execution_count": 19,
   "id": "inner-organization",
   "metadata": {},
   "outputs": [],
   "source": [
    "# default sigmoid from system\n",
    "import math\n",
    "import numpy as np\n",
    "def sigmoid(x,y):\n",
    "    sig = 1 / (1 + math.exp(-x/y))\n",
    "    return sig"
   ]
  },
  {
   "cell_type": "code",
   "execution_count": 31,
   "id": "immune-satellite",
   "metadata": {},
   "outputs": [],
   "source": [
    "a_list = list(range(-100, 101))\n",
    "a_val_num = np.array(a_list)\n",
    "a_val_den = np.full(201,10)"
   ]
  },
  {
   "cell_type": "code",
   "execution_count": 32,
   "id": "73c430bb",
   "metadata": {},
   "outputs": [
    {
     "name": "stdout",
     "output_type": "stream",
     "text": [
      "[-10.   -9.9  -9.8  -9.7  -9.6  -9.5  -9.4  -9.3  -9.2  -9.1  -9.   -8.9\n",
      "  -8.8  -8.7  -8.6  -8.5  -8.4  -8.3  -8.2  -8.1  -8.   -7.9  -7.8  -7.7\n",
      "  -7.6  -7.5  -7.4  -7.3  -7.2  -7.1  -7.   -6.9  -6.8  -6.7  -6.6  -6.5\n",
      "  -6.4  -6.3  -6.2  -6.1  -6.   -5.9  -5.8  -5.7  -5.6  -5.5  -5.4  -5.3\n",
      "  -5.2  -5.1  -5.   -4.9  -4.8  -4.7  -4.6  -4.5  -4.4  -4.3  -4.2  -4.1\n",
      "  -4.   -3.9  -3.8  -3.7  -3.6  -3.5  -3.4  -3.3  -3.2  -3.1  -3.   -2.9\n",
      "  -2.8  -2.7  -2.6  -2.5  -2.4  -2.3  -2.2  -2.1  -2.   -1.9  -1.8  -1.7\n",
      "  -1.6  -1.5  -1.4  -1.3  -1.2  -1.1  -1.   -0.9  -0.8  -0.7  -0.6  -0.5\n",
      "  -0.4  -0.3  -0.2  -0.1   0.    0.1   0.2   0.3   0.4   0.5   0.6   0.7\n",
      "   0.8   0.9   1.    1.1   1.2   1.3   1.4   1.5   1.6   1.7   1.8   1.9\n",
      "   2.    2.1   2.2   2.3   2.4   2.5   2.6   2.7   2.8   2.9   3.    3.1\n",
      "   3.2   3.3   3.4   3.5   3.6   3.7   3.8   3.9   4.    4.1   4.2   4.3\n",
      "   4.4   4.5   4.6   4.7   4.8   4.9   5.    5.1   5.2   5.3   5.4   5.5\n",
      "   5.6   5.7   5.8   5.9   6.    6.1   6.2   6.3   6.4   6.5   6.6   6.7\n",
      "   6.8   6.9   7.    7.1   7.2   7.3   7.4   7.5   7.6   7.7   7.8   7.9\n",
      "   8.    8.1   8.2   8.3   8.4   8.5   8.6   8.7   8.8   8.9   9.    9.1\n",
      "   9.2   9.3   9.4   9.5   9.6   9.7   9.8   9.9  10. ]\n"
     ]
    }
   ],
   "source": [
    "print(a_val_num/a_val_den)"
   ]
  },
  {
   "cell_type": "code",
   "execution_count": 33,
   "id": "assisted-arrival",
   "metadata": {},
   "outputs": [],
   "source": [
    "sig_b=np.zeros(201)\n",
    "for i in range(len(a_val_num)):\n",
    "    sig_b[i] = sigmoid(int(a_val_num[i]),int(a_val_den[i]))\n",
    "    "
   ]
  },
  {
   "cell_type": "code",
   "execution_count": 34,
   "id": "italic-alexandria",
   "metadata": {},
   "outputs": [],
   "source": [
    "sig_e=np.zeros(201)\n",
    "gasUse =[]\n",
    "for i in range(len(a_val_num)):\n",
    "#     time.sleep(10)\n",
    "    if (a_val_num[i]<0):\n",
    "        gasUse.append(sigfrac(int(a_val_num[i]),int(a_val_den[i]),int(a_val_num[i]*(-1)),int(a_val_den[i])))\n",
    "    else:\n",
    "        gasUse.append(sigfrac(int(a_val_num[i]),int(a_val_den[i]),int(a_val_num[i]),int(a_val_den[i]))) \n",
    "    n, d = contract.functions.sigprint().call()\n",
    "    \n",
    "    sig_e[i] = n/d"
   ]
  },
  {
   "cell_type": "code",
   "execution_count": 35,
   "id": "jewish-profit",
   "metadata": {},
   "outputs": [],
   "source": [
    "# sig_b"
   ]
  },
  {
   "cell_type": "code",
   "execution_count": 36,
   "id": "bottom-edgar",
   "metadata": {},
   "outputs": [],
   "source": [
    "# sig_e"
   ]
  },
  {
   "cell_type": "code",
   "execution_count": 41,
   "id": "aggregate-island",
   "metadata": {},
   "outputs": [],
   "source": [
    "d = np.arange(-10.0, 10.1, 0.1)\n",
    "# d"
   ]
  },
  {
   "cell_type": "code",
   "execution_count": 38,
   "id": "c57fa250",
   "metadata": {},
   "outputs": [
    {
     "name": "stdout",
     "output_type": "stream",
     "text": [
      "[4.60706545e-05 5.09603052e-05 5.62669385e-05 6.21452747e-05\n",
      " 6.86538351e-05 7.58568004e-05 8.38247663e-05 9.26356662e-05\n",
      " 1.02375862e-04 1.13141361e-04 1.25039044e-04 1.38308746e-04\n",
      " 1.52709817e-04 1.68662063e-04 1.86324195e-04 2.05870258e-04\n",
      " 2.27491675e-04 2.51399742e-04 2.77828581e-04 3.07038427e-04\n",
      " 3.39318957e-04 3.75320464e-04 4.14389594e-04 4.57664701e-04\n",
      " 5.05575613e-04 5.58593562e-04 6.17236690e-04 6.82076774e-04\n",
      " 7.53747155e-04 8.32951590e-04 9.20473167e-04 1.01807194e-03\n",
      " 1.12397330e-03 1.24125891e-03 1.37108834e-03 1.51473203e-03\n",
      " 1.67358588e-03 1.84918903e-03 2.04324498e-03 2.25764487e-03\n",
      " 2.49449098e-03 2.75852376e-03 3.04491770e-03 3.36197746e-03\n",
      " 3.71279879e-03 4.10076713e-03 4.52959481e-03 5.00336651e-03\n",
      " 5.52659264e-03 6.10426819e-03 6.74193090e-03 7.45218103e-03\n",
      " 8.22185966e-03 9.07307572e-03 1.00138605e-02 1.10529526e-02\n",
      " 1.21998822e-02 1.34650736e-02 1.48599658e-02 1.63971407e-02\n",
      " 1.80904447e-02 1.99722003e-02 2.20063058e-02 2.42497431e-02\n",
      " 2.67217564e-02 2.94429881e-02 3.24356049e-02 3.57234531e-02\n",
      " 3.93322345e-02 4.32896786e-02 4.76256595e-02 5.24156480e-02\n",
      " 5.75599469e-02 6.31937064e-02 6.93534868e-02 7.60768046e-02\n",
      " 8.34020218e-02 9.13682481e-02 1.00015227e-01 1.09383138e-01\n",
      " 1.19512195e-01 1.30541212e-01 1.42202431e-01 1.54760274e-01\n",
      " 1.68242538e-01 1.82670744e-01 1.98059395e-01 2.14415375e-01\n",
      " 2.31737435e-01 2.50015663e-01 2.69230769e-01 2.89533019e-01\n",
      " 3.10327706e-01 3.31986483e-01 3.54433969e-01 3.77581121e-01\n",
      " 4.01327055e-01 4.25561342e-01 4.50166562e-01 4.75020832e-01\n",
      " 4.75020832e-01 5.24979165e-01 5.49833217e-01 5.74436155e-01\n",
      " 5.98659004e-01 6.22366288e-01 6.45411127e-01 6.67629165e-01\n",
      " 6.88831741e-01 7.08798852e-01 7.30769231e-01 7.49984334e-01\n",
      " 7.68262406e-01 7.85582900e-01 8.01931388e-01 8.17295844e-01\n",
      " 8.31662713e-01 8.45012950e-01 8.57318188e-01 8.68537183e-01\n",
      " 8.80487805e-01 8.90616861e-01 8.99984693e-01 9.08630902e-01\n",
      " 9.16593542e-01 9.23907465e-01 9.30602809e-01 9.36703646e-01\n",
      " 9.42226794e-01 9.47180797e-01 9.52374340e-01 9.56710321e-01\n",
      " 9.60667732e-01 9.64276194e-01 9.67562574e-01 9.70550617e-01\n",
      " 9.73260633e-01 9.75709227e-01 9.77909073e-01 9.79868725e-01\n",
      " 9.81909555e-01 9.83602859e-01 9.85140021e-01 9.86534790e-01\n",
      " 9.87799419e-01 9.88944601e-01 9.89979426e-01 9.90911334e-01\n",
      " 9.91746078e-01 9.92487699e-01 9.93258069e-01 9.93895732e-01\n",
      " 9.94473402e-01 9.94996583e-01 9.95470144e-01 9.95898319e-01\n",
      " 9.96284696e-01 9.96632212e-01 9.96943146e-01 9.97219116e-01\n",
      " 9.97505509e-01 9.97742355e-01 9.97956753e-01 9.98150792e-01\n",
      " 9.98326317e-01 9.98484929e-01 9.98627984e-01 9.98756591e-01\n",
      " 9.98871612e-01 9.98973661e-01 9.99079527e-01 9.99167048e-01\n",
      " 9.99246252e-01 9.99317916e-01 9.99382728e-01 9.99441281e-01\n",
      " 9.99494082e-01 9.99541542e-01 9.99583982e-01 9.99621630e-01\n",
      " 9.99660681e-01 9.99692962e-01 9.99722171e-01 9.99748598e-01\n",
      " 9.99772495e-01 9.99794084e-01 9.99813550e-01 9.99831046e-01\n",
      " 9.99846690e-01 9.99860567e-01 9.99874961e-01 9.99886859e-01\n",
      " 9.99897624e-01 9.99907363e-01 9.99916170e-01 9.99924126e-01\n",
      " 9.99931300e-01 9.99937747e-01 9.99943512e-01 9.99948625e-01\n",
      " 9.99953929e-01]\n"
     ]
    }
   ],
   "source": [
    "print(sig_e)"
   ]
  },
  {
   "cell_type": "code",
   "execution_count": 39,
   "id": "882a5a7a",
   "metadata": {},
   "outputs": [
    {
     "name": "stdout",
     "output_type": "stream",
     "text": [
      "[4.53978687e-05 5.01721647e-05 5.54485247e-05 6.12797396e-05\n",
      " 6.77241496e-05 7.48462275e-05 8.27172229e-05 9.14158739e-05\n",
      " 1.01029194e-04 1.11653341e-04 1.23394576e-04 1.36370327e-04\n",
      " 1.50710358e-04 1.66558065e-04 1.84071905e-04 2.03426978e-04\n",
      " 2.24816770e-04 2.48455082e-04 2.74578156e-04 3.03447030e-04\n",
      " 3.35350130e-04 3.70606141e-04 4.09567165e-04 4.52622223e-04\n",
      " 5.00201107e-04 5.52778637e-04 6.10879359e-04 6.75082731e-04\n",
      " 7.46028834e-04 8.24424686e-04 9.11051194e-04 1.00677082e-03\n",
      " 1.11253603e-03 1.22939862e-03 1.35851995e-03 1.50118226e-03\n",
      " 1.65880108e-03 1.83293894e-03 2.02532039e-03 2.23784852e-03\n",
      " 2.47262316e-03 2.73196076e-03 3.01841632e-03 3.33480731e-03\n",
      " 3.68423990e-03 4.07013772e-03 4.49627316e-03 4.96680165e-03\n",
      " 5.48629890e-03 6.05980149e-03 6.69285092e-03 7.39154134e-03\n",
      " 8.16257115e-03 9.01329865e-03 9.95180187e-03 1.09869426e-02\n",
      " 1.21284350e-02 1.33869178e-02 1.47740317e-02 1.63024994e-02\n",
      " 1.79862100e-02 1.98403057e-02 2.18812709e-02 2.41270214e-02\n",
      " 2.65969936e-02 2.93122308e-02 3.22954647e-02 3.55711893e-02\n",
      " 3.91657228e-02 4.31072549e-02 4.74258732e-02 5.21535631e-02\n",
      " 5.73241759e-02 6.29733561e-02 6.91384203e-02 7.58581800e-02\n",
      " 8.31726965e-02 9.11229610e-02 9.97504891e-02 1.09096821e-01\n",
      " 1.19202922e-01 1.30108474e-01 1.41851065e-01 1.54465265e-01\n",
      " 1.67981615e-01 1.82425524e-01 1.97816111e-01 2.14165017e-01\n",
      " 2.31475217e-01 2.49739894e-01 2.68941421e-01 2.89050497e-01\n",
      " 3.10025519e-01 3.31812228e-01 3.54343694e-01 3.77540669e-01\n",
      " 4.01312340e-01 4.25557483e-01 4.50166003e-01 4.75020813e-01\n",
      " 5.00000000e-01 5.24979187e-01 5.49833997e-01 5.74442517e-01\n",
      " 5.98687660e-01 6.22459331e-01 6.45656306e-01 6.68187772e-01\n",
      " 6.89974481e-01 7.10949503e-01 7.31058579e-01 7.50260106e-01\n",
      " 7.68524783e-01 7.85834983e-01 8.02183889e-01 8.17574476e-01\n",
      " 8.32018385e-01 8.45534735e-01 8.58148935e-01 8.69891526e-01\n",
      " 8.80797078e-01 8.90903179e-01 9.00249511e-01 9.08877039e-01\n",
      " 9.16827304e-01 9.24141820e-01 9.30861580e-01 9.37026644e-01\n",
      " 9.42675824e-01 9.47846437e-01 9.52574127e-01 9.56892745e-01\n",
      " 9.60834277e-01 9.64428811e-01 9.67704535e-01 9.70687769e-01\n",
      " 9.73403006e-01 9.75872979e-01 9.78118729e-01 9.80159694e-01\n",
      " 9.82013790e-01 9.83697501e-01 9.85225968e-01 9.86613082e-01\n",
      " 9.87871565e-01 9.89013057e-01 9.90048198e-01 9.90986701e-01\n",
      " 9.91837429e-01 9.92608459e-01 9.93307149e-01 9.93940199e-01\n",
      " 9.94513701e-01 9.95033198e-01 9.95503727e-01 9.95929862e-01\n",
      " 9.96315760e-01 9.96665193e-01 9.96981584e-01 9.97268039e-01\n",
      " 9.97527377e-01 9.97762151e-01 9.97974680e-01 9.98167061e-01\n",
      " 9.98341199e-01 9.98498818e-01 9.98641480e-01 9.98770601e-01\n",
      " 9.98887464e-01 9.98993229e-01 9.99088949e-01 9.99175575e-01\n",
      " 9.99253971e-01 9.99324917e-01 9.99389121e-01 9.99447221e-01\n",
      " 9.99499799e-01 9.99547378e-01 9.99590433e-01 9.99629394e-01\n",
      " 9.99664650e-01 9.99696553e-01 9.99725422e-01 9.99751545e-01\n",
      " 9.99775183e-01 9.99796573e-01 9.99815928e-01 9.99833442e-01\n",
      " 9.99849290e-01 9.99863630e-01 9.99876605e-01 9.99888347e-01\n",
      " 9.99898971e-01 9.99908584e-01 9.99917283e-01 9.99925154e-01\n",
      " 9.99932276e-01 9.99938720e-01 9.99944551e-01 9.99949828e-01\n",
      " 9.99954602e-01]\n"
     ]
    }
   ],
   "source": [
    "print(sig_b)"
   ]
  },
  {
   "cell_type": "code",
   "execution_count": 42,
   "id": "activated-strike",
   "metadata": {},
   "outputs": [
    {
     "data": {
      "image/png": "[encoded data removed]",
      "text/plain": [
       "<Figure size 504x504 with 1 Axes>"
      ]
     },
     "metadata": {
      "needs_background": "light"
     },
     "output_type": "display_data"
    }
   ],
   "source": [
    "import matplotlib.pyplot as plt\n",
    "plt.figure(figsize=(7,7))\n",
    "plt.plot(d, sig_b, label = \"Library Function Output\")\n",
    "plt.plot(d, sig_e, label = \"Smart Contract Output\")\n",
    "plt.xlabel(\"Values of x ranging from -5.0 to 5.0\", fontsize=14)\n",
    "plt.ylabel(\"Sigmoid Function Output value\", fontsize=14)\n",
    "plt.tick_params(axis='both', which='major', labelsize=14)\n",
    "plt.tick_params(axis='both', which='minor', labelsize=14)\n",
    "# plt.title(\"Sigmoid Value With Smart Contract Function\")\n",
    "plt.legend()\n",
    "plt.savefig(\"sigmoid_output.pdf\", bbox_inches='tight')\n",
    "plt.show()"
   ]
  },
  {
   "cell_type": "code",
   "execution_count": 30,
   "id": "classical-convergence",
   "metadata": {},
   "outputs": [
    {
     "data": {
      "image/png": "[encoded data removed]",
      "text/plain": [
       "<Figure size 432x288 with 1 Axes>"
      ]
     },
     "metadata": {
      "needs_background": "light"
     },
     "output_type": "display_data"
    }
   ],
   "source": [
    "plt.plot(d, gasUse, label=\"gas Used Per Function Call\")\n",
    "# plt.title(\"Gas Consumption per sigmoid function Calls\")\n",
    "plt.ylabel(\"Gas use in GWei\",fontsize=14)\n",
    "plt.xlabel(\"values of x for sigmoid input\",fontsize=14)\n",
    "plt.tick_params(axis='both', which='major', labelsize=14)\n",
    "plt.tick_params(axis='both', which='minor', labelsize=14)\n",
    "plt.savefig(\"sigmoid_gas.pdf\", bbox_inches='tight')\n",
    "plt.show()\n",
    "\n"
   ]
  },
  {
   "cell_type": "code",
   "execution_count": null,
   "id": "focal-paint",
   "metadata": {},
   "outputs": [],
   "source": []
  }
 ],
 "metadata": {
  "kernelspec": {
   "display_name": "Python 3 (ipykernel)",
   "language": "python",
   "name": "python3"
  },
  "language_info": {
   "codemirror_mode": {
    "name": "ipython",
    "version": 3
   },
   "file_extension": ".py",
   "mimetype": "text/x-python",
   "name": "python",
   "nbconvert_exporter": "python",
   "pygments_lexer": "ipython3",
   "version": "3.7.11"
  }
 },
 "nbformat": 4,
 "nbformat_minor": 5
}
