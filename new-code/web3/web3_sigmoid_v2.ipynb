{
 "cells": [
  {
   "cell_type": "code",
   "execution_count": 33,
   "id": "convertible-daily",
   "metadata": {},
   "outputs": [
    {
     "data": {
      "text/plain": [
       "True"
      ]
     },
     "execution_count": 33,
     "metadata": {},
     "output_type": "execute_result"
    }
   ],
   "source": [
    "# starting web3 operations\n",
    "import numpy as np\n",
    "import json\n",
    "from web3 import Web3\n",
    "import time\n",
    "# ganache_url = \"https://ropsten.infura.io/v3/0345978e22a6431f9222c56ea1f7b6bd\"\n",
    "#ganache_url=\"https://lively-dark-firefly.ropsten.quiknode.pro/e98606c11b422cb244ac923a53d36c5b7ea2c17c/\"\n",
    "ganache_url =\"http://127.0.0.1:8545\"\n",
    "web3 = Web3(Web3.HTTPProvider(ganache_url))\n",
    "web3.isConnected()"
   ]
  },
  {
   "cell_type": "code",
   "execution_count": 34,
   "id": "usual-madagascar",
   "metadata": {},
   "outputs": [],
   "source": [
    "# Basic web3 \n",
    "# block = web3.eth.get_block('latest')\n",
    "# balance_1 = web3.eth.getBalance(\"0x37bfB436392DaAE0E91EdcD9c4128FBcADF3919d\")\n",
    "# print(web3.fromWei(balance_1,'ether'))"
   ]
  },
  {
   "cell_type": "code",
   "execution_count": 54,
   "id": "insured-broadcasting",
   "metadata": {},
   "outputs": [],
   "source": [
    "abi = json.loads('[ { \"constant\": false, \"inputs\": [ { \"name\": \"x\", \"type\": \"int256\" }, { \"name\": \"y\", \"type\": \"int256\" }, { \"name\": \"a\", \"type\": \"uint256\" }, { \"name\": \"b\", \"type\": \"uint256\" } ], \"name\": \"sigmoid_act\", \"outputs\": [], \"payable\": false, \"stateMutability\": \"nonpayable\", \"type\": \"function\" }, { \"constant\": true, \"inputs\": [ { \"name\": \"x\", \"type\": \"int256\" }, { \"name\": \"y\", \"type\": \"int256\" } ], \"name\": \"div\", \"outputs\": [ { \"name\": \"\", \"type\": \"int256\" }, { \"name\": \"\", \"type\": \"int256\" } ], \"payable\": false, \"stateMutability\": \"view\", \"type\": \"function\" }, { \"constant\": true, \"inputs\": [], \"name\": \"sigprint\", \"outputs\": [ { \"name\": \"\", \"type\": \"uint256\" }, { \"name\": \"\", \"type\": \"uint256\" } ], \"payable\": false, \"stateMutability\": \"view\", \"type\": \"function\" } ]')\n",
    "\n",
    "cont_address = \"0xE5DDeDF2cEF5945Ca7aa1C6CEb014E7184ff0776\""
   ]
  },
  {
   "cell_type": "code",
   "execution_count": 55,
   "id": "robust-herald",
   "metadata": {},
   "outputs": [],
   "source": [
    "contract = web3.eth.contract(address=cont_address,abi=abi)"
   ]
  },
  {
   "cell_type": "code",
   "execution_count": 56,
   "id": "palestinian-transmission",
   "metadata": {},
   "outputs": [],
   "source": [
    "#grit\n",
    "account1 = \"0xdd617f9D5120b7b30E4C502fdd6b13dCf286A300\"\n",
    "private_key1=\"c00b36dc1777e7fda60ff1f55b57c3f51b18c0c16fe44724e451ed062a173d74\"\n",
    "account2 = \"0x8883f1016E727C8fE93C1Df471f102bBbAF2B910\"\n",
    "private_key2=\"8d70f54549b5fb7c04fc016cc88c447fc81aff3af3065c696aee1b529fbc8ba5\"\n"
   ]
  },
  {
   "cell_type": "code",
   "execution_count": 57,
   "id": "7a92255a",
   "metadata": {},
   "outputs": [],
   "source": [
    "# account1 = \"0x2C0c1D0dA7c537ad49b6AD3cdF0ed6db462446E9\"\n",
    "# private_key1=\"d2b80a53fd2b1a30ecbe14517a65c07858679034061f2d0d5f768518ed46a1b6\"\n",
    "# account2 = \"0x76b717F8b07365060131752EE08242C268CFd37B\"\n",
    "# private_key2=\"a3e852bd651cf3aa5f6d863e0727519140431ae912588b351ab5f7ee02e06cac\""
   ]
  },
  {
   "cell_type": "code",
   "execution_count": 58,
   "id": "recognized-tuition",
   "metadata": {},
   "outputs": [],
   "source": [
    "nonce = web3.eth.getTransactionCount(account1)"
   ]
  },
  {
   "cell_type": "code",
   "execution_count": 59,
   "id": "realistic-branch",
   "metadata": {},
   "outputs": [],
   "source": [
    "def sigfrac(x,y,a,b):\n",
    "    nonce = web3.eth.getTransactionCount(account1)\n",
    "    transaction = contract.functions.sigmoid_act(\n",
    "        x,y,a,b\n",
    "         ).buildTransaction({\n",
    "        'gas': 100000,\n",
    "        'gasPrice': web3.toWei('10', 'gwei'),\n",
    "        'from': account1,\n",
    "        'nonce': nonce\n",
    "        }) \n",
    "    signed_txn = web3.eth.account.signTransaction(transaction, private_key=private_key1)\n",
    "    tx_hash = web3.eth.sendRawTransaction(signed_txn.rawTransaction)\n",
    "    tx_receipt = web3.eth.waitForTransactionReceipt(tx_hash,timeout=1000)\n",
    "    return tx_receipt.gasUsed"
   ]
  },
  {
   "cell_type": "code",
   "execution_count": 60,
   "id": "quarterly-binary",
   "metadata": {},
   "outputs": [
    {
     "ename": "ZeroDivisionError",
     "evalue": "division by zero",
     "output_type": "error",
     "traceback": [
      "\u001b[0;31m---------------------------------------------------------------------------\u001b[0m",
      "\u001b[0;31mZeroDivisionError\u001b[0m                         Traceback (most recent call last)",
      "\u001b[0;32m/var/folders/9j/xg5sl5n57fs3q8d3c9svsb1r0000gq/T/ipykernel_3027/2202464953.py\u001b[0m in \u001b[0;36m<module>\u001b[0;34m\u001b[0m\n\u001b[1;32m      1\u001b[0m \u001b[0mn\u001b[0m\u001b[0;34m,\u001b[0m \u001b[0md\u001b[0m \u001b[0;34m=\u001b[0m \u001b[0mcontract\u001b[0m\u001b[0;34m.\u001b[0m\u001b[0mfunctions\u001b[0m\u001b[0;34m.\u001b[0m\u001b[0msigprint\u001b[0m\u001b[0;34m(\u001b[0m\u001b[0;34m)\u001b[0m\u001b[0;34m.\u001b[0m\u001b[0mcall\u001b[0m\u001b[0;34m(\u001b[0m\u001b[0;34m)\u001b[0m\u001b[0;34m\u001b[0m\u001b[0;34m\u001b[0m\u001b[0m\n\u001b[0;32m----> 2\u001b[0;31m \u001b[0mprint\u001b[0m\u001b[0;34m(\u001b[0m\u001b[0;34m\"value of sigmoid is:\"\u001b[0m\u001b[0;34m,\u001b[0m \u001b[0mn\u001b[0m\u001b[0;34m/\u001b[0m\u001b[0md\u001b[0m\u001b[0;34m)\u001b[0m\u001b[0;34m\u001b[0m\u001b[0;34m\u001b[0m\u001b[0m\n\u001b[0m",
      "\u001b[0;31mZeroDivisionError\u001b[0m: division by zero"
     ]
    }
   ],
   "source": [
    "n, d = contract.functions.sigprint().call()\n",
    "print(\"value of sigmoid is:\", n/d)"
   ]
  },
  {
   "cell_type": "code",
   "execution_count": null,
   "id": "cb247a6f",
   "metadata": {},
   "outputs": [],
   "source": []
  },
  {
   "cell_type": "code",
   "execution_count": 61,
   "id": "inner-organization",
   "metadata": {},
   "outputs": [],
   "source": [
    "# default sigmoid from system\n",
    "import math\n",
    "import numpy as np\n",
    "def sigmoid(x,y):\n",
    "    sig = 1 / (1 + math.exp(-x/y))\n",
    "    return sig"
   ]
  },
  {
   "cell_type": "code",
   "execution_count": 62,
   "id": "immune-satellite",
   "metadata": {},
   "outputs": [],
   "source": [
    "a_list = list(range(-50, 51))\n",
    "a_val_num = np.array(a_list)\n",
    "a_val_den = np.full(101,10)"
   ]
  },
  {
   "cell_type": "code",
   "execution_count": 63,
   "id": "73c430bb",
   "metadata": {},
   "outputs": [
    {
     "name": "stdout",
     "output_type": "stream",
     "text": [
      "[-5.  -4.9 -4.8 -4.7 -4.6 -4.5 -4.4 -4.3 -4.2 -4.1 -4.  -3.9 -3.8 -3.7\n",
      " -3.6 -3.5 -3.4 -3.3 -3.2 -3.1 -3.  -2.9 -2.8 -2.7 -2.6 -2.5 -2.4 -2.3\n",
      " -2.2 -2.1 -2.  -1.9 -1.8 -1.7 -1.6 -1.5 -1.4 -1.3 -1.2 -1.1 -1.  -0.9\n",
      " -0.8 -0.7 -0.6 -0.5 -0.4 -0.3 -0.2 -0.1  0.   0.1  0.2  0.3  0.4  0.5\n",
      "  0.6  0.7  0.8  0.9  1.   1.1  1.2  1.3  1.4  1.5  1.6  1.7  1.8  1.9\n",
      "  2.   2.1  2.2  2.3  2.4  2.5  2.6  2.7  2.8  2.9  3.   3.1  3.2  3.3\n",
      "  3.4  3.5  3.6  3.7  3.8  3.9  4.   4.1  4.2  4.3  4.4  4.5  4.6  4.7\n",
      "  4.8  4.9  5. ]\n"
     ]
    }
   ],
   "source": [
    "print(a_val_num/a_val_den)"
   ]
  },
  {
   "cell_type": "code",
   "execution_count": 64,
   "id": "assisted-arrival",
   "metadata": {},
   "outputs": [],
   "source": [
    "sig_b=np.zeros(101)\n",
    "for i in range(len(a_val_num)):\n",
    "    sig_b[i] = sigmoid(int(a_val_num[i]),int(a_val_den[i]))\n",
    "    "
   ]
  },
  {
   "cell_type": "code",
   "execution_count": 65,
   "id": "italic-alexandria",
   "metadata": {},
   "outputs": [],
   "source": [
    "sig_e=np.zeros(101)\n",
    "gasUse =[]\n",
    "for i in range(len(a_val_num)):\n",
    "#     time.sleep(10)\n",
    "    if (a_val_num[i]<0):\n",
    "        gasUse.append(sigfrac(int(a_val_num[i]),int(a_val_den[i]),int(a_val_num[i]*(-1)),int(a_val_den[i])))\n",
    "    else:\n",
    "        gasUse.append(sigfrac(int(a_val_num[i]),int(a_val_den[i]),int(a_val_num[i]),int(a_val_den[i]))) \n",
    "    n, d = contract.functions.sigprint().call()\n",
    "    \n",
    "    sig_e[i] = n/d"
   ]
  },
  {
   "cell_type": "code",
   "execution_count": 66,
   "id": "jewish-profit",
   "metadata": {},
   "outputs": [],
   "source": [
    "# sig_b"
   ]
  },
  {
   "cell_type": "code",
   "execution_count": 67,
   "id": "bottom-edgar",
   "metadata": {},
   "outputs": [],
   "source": [
    "# sig_e"
   ]
  },
  {
   "cell_type": "code",
   "execution_count": 68,
   "id": "aggregate-island",
   "metadata": {},
   "outputs": [],
   "source": [
    "d = np.arange(-5.0, 5.1, 0.1)\n",
    "# d"
   ]
  },
  {
   "cell_type": "code",
   "execution_count": 69,
   "id": "c57fa250",
   "metadata": {},
   "outputs": [
    {
     "name": "stdout",
     "output_type": "stream",
     "text": [
      "[0.00674193 0.00745218 0.00822186 0.00907308 0.01001386 0.01105295\n",
      " 0.01219988 0.01346507 0.01485997 0.01639714 0.01809044 0.0199722\n",
      " 0.02200631 0.02424974 0.02672176 0.02944299 0.0324356  0.03572345\n",
      " 0.03933223 0.04328968 0.04762566 0.05241565 0.05755995 0.06319371\n",
      " 0.06935349 0.0760768  0.08340202 0.09136825 0.10001523 0.10938314\n",
      " 0.1195122  0.13054121 0.14220243 0.15476027 0.16824254 0.18267074\n",
      " 0.1980594  0.21441538 0.23173743 0.25001566 0.26923077 0.28953302\n",
      " 0.31032771 0.33198648 0.35443397 0.37758112 0.40132705 0.42556134\n",
      " 0.45016656 0.47502083 0.47502083 0.52497916 0.54983322 0.57443616\n",
      " 0.598659   0.62236629 0.64541113 0.66762917 0.68883174 0.70879885\n",
      " 0.73076923 0.74998433 0.76826241 0.7855829  0.80193139 0.81729584\n",
      " 0.83166271 0.84501295 0.85731819 0.86853718 0.8804878  0.89061686\n",
      " 0.89998469 0.9086309  0.91659354 0.92390747 0.93060281 0.93670365\n",
      " 0.94222679 0.9471808  0.95237434 0.95671032 0.96066773 0.96427619\n",
      " 0.96756257 0.97055062 0.97326063 0.97570923 0.97790907 0.97986872\n",
      " 0.98190956 0.98360286 0.98514002 0.98653479 0.98779942 0.9889446\n",
      " 0.98997943 0.99091133 0.99174608 0.9924877  0.99325807]\n"
     ]
    }
   ],
   "source": [
    "print(sig_e)"
   ]
  },
  {
   "cell_type": "code",
   "execution_count": 70,
   "id": "882a5a7a",
   "metadata": {},
   "outputs": [
    {
     "name": "stdout",
     "output_type": "stream",
     "text": [
      "[0.00669285 0.00739154 0.00816257 0.0090133  0.0099518  0.01098694\n",
      " 0.01212843 0.01338692 0.01477403 0.0163025  0.01798621 0.01984031\n",
      " 0.02188127 0.02412702 0.02659699 0.02931223 0.03229546 0.03557119\n",
      " 0.03916572 0.04310725 0.04742587 0.05215356 0.05732418 0.06297336\n",
      " 0.06913842 0.07585818 0.0831727  0.09112296 0.09975049 0.10909682\n",
      " 0.11920292 0.13010847 0.14185106 0.15446527 0.16798161 0.18242552\n",
      " 0.19781611 0.21416502 0.23147522 0.24973989 0.26894142 0.2890505\n",
      " 0.31002552 0.33181223 0.35434369 0.37754067 0.40131234 0.42555748\n",
      " 0.450166   0.47502081 0.5        0.52497919 0.549834   0.57444252\n",
      " 0.59868766 0.62245933 0.64565631 0.66818777 0.68997448 0.7109495\n",
      " 0.73105858 0.75026011 0.76852478 0.78583498 0.80218389 0.81757448\n",
      " 0.83201839 0.84553473 0.85814894 0.86989153 0.88079708 0.89090318\n",
      " 0.90024951 0.90887704 0.9168273  0.92414182 0.93086158 0.93702664\n",
      " 0.94267582 0.94784644 0.95257413 0.95689275 0.96083428 0.96442881\n",
      " 0.96770454 0.97068777 0.97340301 0.97587298 0.97811873 0.98015969\n",
      " 0.98201379 0.9836975  0.98522597 0.98661308 0.98787157 0.98901306\n",
      " 0.9900482  0.9909867  0.99183743 0.99260846 0.99330715]\n"
     ]
    }
   ],
   "source": [
    "print(sig_b)"
   ]
  },
  {
   "cell_type": "code",
   "execution_count": 71,
   "id": "activated-strike",
   "metadata": {},
   "outputs": [
    {
     "data": {
      "image/png": "[encoded data removed]",
      "text/plain": [
       "<Figure size 504x504 with 1 Axes>"
      ]
     },
     "metadata": {
      "needs_background": "light"
     },
     "output_type": "display_data"
    }
   ],
   "source": [
    "import matplotlib.pyplot as plt\n",
    "plt.figure(figsize=(7,7))\n",
    "plt.plot(d, sig_b, label = \"Library Function Output\")\n",
    "plt.plot(d, sig_e, label = \"Smart Contract Output\")\n",
    "plt.xlabel(\"Values of x ranging from -5.0 to 5.0\", fontsize=14)\n",
    "plt.ylabel(\"Sigmoid Function Output value\", fontsize=14)\n",
    "plt.tick_params(axis='both', which='major', labelsize=14)\n",
    "plt.tick_params(axis='both', which='minor', labelsize=14)\n",
    "# plt.title(\"Sigmoid Value With Smart Contract Function\")\n",
    "plt.legend()\n",
    "plt.savefig(\"sigmoid_output.pdf\", bbox_inches='tight')\n",
    "plt.show()"
   ]
  },
  {
   "cell_type": "code",
   "execution_count": 72,
   "id": "classical-convergence",
   "metadata": {},
   "outputs": [
    {
     "data": {
      "image/png": "[encoded data removed]",
      "text/plain": [
       "<Figure size 432x288 with 1 Axes>"
      ]
     },
     "metadata": {
      "needs_background": "light"
     },
     "output_type": "display_data"
    }
   ],
   "source": [
    "plt.plot(d, gasUse, label=\"gas Used Per Function Call\")\n",
    "# plt.title(\"Gas Consumption per sigmoid function Calls\")\n",
    "plt.ylabel(\"Gas use in GWei\",fontsize=14)\n",
    "plt.xlabel(\"values of x for sigmoid input\",fontsize=14)\n",
    "plt.tick_params(axis='both', which='major', labelsize=14)\n",
    "plt.tick_params(axis='both', which='minor', labelsize=14)\n",
    "plt.savefig(\"sigmoid_gas.pdf\", bbox_inches='tight')\n",
    "plt.show()\n",
    "\n"
   ]
  },
  {
   "cell_type": "code",
   "execution_count": null,
   "id": "focal-paint",
   "metadata": {},
   "outputs": [],
   "source": []
  }
 ],
 "metadata": {
  "kernelspec": {
   "display_name": "Python 3 (ipykernel)",
   "language": "python",
   "name": "python3"
  },
  "language_info": {
   "codemirror_mode": {
    "name": "ipython",
    "version": 3
   },
   "file_extension": ".py",
   "mimetype": "text/x-python",
   "name": "python",
   "nbconvert_exporter": "python",
   "pygments_lexer": "ipython3",
   "version": "3.7.11"
  }
 },
 "nbformat": 4,
 "nbformat_minor": 5
}
