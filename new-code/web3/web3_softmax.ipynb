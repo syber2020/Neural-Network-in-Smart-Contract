{
 "cells": [
  {
   "cell_type": "code",
   "execution_count": 4,
   "id": "convertible-daily",
   "metadata": {},
   "outputs": [
    {
     "data": {
      "text/plain": [
       "True"
      ]
     },
     "execution_count": 4,
     "metadata": {},
     "output_type": "execute_result"
    }
   ],
   "source": [
    "# starting web3 operations\n",
    "import numpy as np\n",
    "import json\n",
    "from web3 import Web3\n",
    "import matplotlib.pyplot as plt\n",
    "# ganache_url = \"https://ropsten.infura.io/v3/6072fdc3b95c407caa681f63ebaf72b8\"\n",
    "ganache_url =\"http://127.0.0.1:8545\"\n",
    "ropsten = \"https://ropsten.infura.io/v3/0345978e22a6431f9222c56ea1f7b6bd\"\n",
    "web3 = Web3(Web3.HTTPProvider(ropsten))\n",
    "web3.isConnected()"
   ]
  },
  {
   "cell_type": "code",
   "execution_count": 5,
   "id": "usual-madagascar",
   "metadata": {},
   "outputs": [],
   "source": [
    "# Basic web3 \n",
    "# block = web3.eth.get_block('latest')\n",
    "# balance_1 = web3.eth.getBalance(\"0x37bfB436392DaAE0E91EdcD9c4128FBcADF3919d\")\n",
    "# print(web3.fromWei(balance_1,'ether'))"
   ]
  },
  {
   "cell_type": "code",
   "execution_count": 21,
   "id": "insured-broadcasting",
   "metadata": {},
   "outputs": [],
   "source": [
    "abi = json.loads('[ { \"constant\": false, \"inputs\": [], \"name\": \"del_arr\", \"outputs\": [], \"payable\": false, \"stateMutability\": \"nonpayable\", \"type\": \"function\" }, { \"constant\": false, \"inputs\": [], \"name\": \"get_softmax\", \"outputs\": [], \"payable\": false, \"stateMutability\": \"nonpayable\", \"type\": \"function\" }, { \"constant\": false, \"inputs\": [ { \"name\": \"C\", \"type\": \"int256\" }, { \"name\": \"D\", \"type\": \"int256\" }, { \"name\": \"k\", \"type\": \"uint256\" }, { \"name\": \"j\", \"type\": \"uint256\" } ], \"name\": \"getexpon\", \"outputs\": [], \"payable\": false, \"stateMutability\": \"nonpayable\", \"type\": \"function\" }, { \"constant\": false, \"inputs\": [], \"name\": \"sum_exp\", \"outputs\": [], \"payable\": false, \"stateMutability\": \"nonpayable\", \"type\": \"function\" }, { \"constant\": true, \"inputs\": [ { \"name\": \"\", \"type\": \"int256\" } ], \"name\": \"exp\", \"outputs\": [ { \"name\": \"\", \"type\": \"int256\" } ], \"payable\": false, \"stateMutability\": \"view\", \"type\": \"function\" }, { \"constant\": true, \"inputs\": [], \"name\": \"set_softmax\", \"outputs\": [ { \"name\": \"\", \"type\": \"uint256[]\" }, { \"name\": \"\", \"type\": \"uint256[]\" } ], \"payable\": false, \"stateMutability\": \"view\", \"type\": \"function\" }, { \"constant\": true, \"inputs\": [], \"name\": \"set_sumexp\", \"outputs\": [ { \"name\": \"\", \"type\": \"uint256\" } ], \"payable\": false, \"stateMutability\": \"view\", \"type\": \"function\" }, { \"constant\": true, \"inputs\": [], \"name\": \"setallexpon\", \"outputs\": [ { \"name\": \"\", \"type\": \"uint256[]\" } ], \"payable\": false, \"stateMutability\": \"view\", \"type\": \"function\" }, { \"constant\": true, \"inputs\": [], \"name\": \"setexpon\", \"outputs\": [ { \"name\": \"\", \"type\": \"uint256\" } ], \"payable\": false, \"stateMutability\": \"view\", \"type\": \"function\" } ]')\n",
    "cont_address = \"0xa0030EaC131EcDABeFa34054eF467F265348b3f5\""
   ]
  },
  {
   "cell_type": "code",
   "execution_count": 22,
   "id": "robust-herald",
   "metadata": {},
   "outputs": [],
   "source": [
    "contract = web3.eth.contract(address=cont_address,abi=abi)"
   ]
  },
  {
   "cell_type": "code",
   "execution_count": 8,
   "id": "palestinian-transmission",
   "metadata": {},
   "outputs": [],
   "source": [
    "account1 = \"0xdd617f9D5120b7b30E4C502fdd6b13dCf286A300\"\n",
    "private_key1=\"c00b36dc1777e7fda60ff1f55b57c3f51b18c0c16fe44724e451ed062a173d74\"\n",
    "account2 = \"0x8883f1016E727C8fE93C1Df471f102bBbAF2B910\"\n",
    "private_key2=\"8d70f54549b5fb7c04fc016cc88c447fc81aff3af3065c696aee1b529fbc8ba5\"\n",
    "account3 = \"0xd39fdd79c3b5b0c411366D5A64ba26E423e1cF61\"\n",
    "private_key3 = \"3f3bcef69f8cef4bb28953eebe0b11c40fca5b4ce8c9665d3647afd067050952\"\n",
    "account4 = \"0xc35903FEf5A3c481e5374F8757789b7a926d8167\"\n",
    "private_key4 = \"e67231d384bdbf3e0c081889ab35ee7858d74ff955923071a621f01bda9dbebf\""
   ]
  },
  {
   "cell_type": "code",
   "execution_count": 9,
   "id": "011e27e5",
   "metadata": {},
   "outputs": [],
   "source": [
    "# account1 = \"0xB195A9E2d2CC6eFD2CcDDC3b590E9C48fa54199D\"\n",
    "# private_key1=\"f1c47e3da7fac64af7066d0c088a3258c843c7b994b3e384ea7919eab1f6b349\"\n",
    "# account2 = \"0xE820D2FfB580b93BAB2658B37D736030fB554519\"\n",
    "# private_key2=\"bacd9d460ed5e9c06994b030d4cee25fd805a6ed996a96d26957adb32e6bd667\""
   ]
  },
  {
   "cell_type": "code",
   "execution_count": 10,
   "id": "recognized-tuition",
   "metadata": {},
   "outputs": [],
   "source": [
    "nonce = web3.eth.getTransactionCount(account1)"
   ]
  },
  {
   "cell_type": "code",
   "execution_count": 11,
   "id": "realistic-branch",
   "metadata": {},
   "outputs": [],
   "source": [
    "def getexpon(a,b,c,d,account1,private_key1):\n",
    "    nonce = web3.eth.getTransactionCount(account1)\n",
    "    transaction = contract.functions.getexpon(\n",
    "        a,b,c,d\n",
    "         ).buildTransaction({\n",
    "        'gas': 100000,\n",
    "        'gasPrice': web3.toWei('10', 'gwei'),\n",
    "        'from': account1,\n",
    "        'nonce': nonce\n",
    "        }) \n",
    "    signed_txn = web3.eth.account.signTransaction(transaction, private_key=private_key1)\n",
    "    tx_hash = web3.eth.sendRawTransaction(signed_txn.rawTransaction)\n",
    "    tx_receipt = web3.eth.waitForTransactionReceipt(tx_hash)\n",
    "    return tx_receipt.gasUsed"
   ]
  },
  {
   "cell_type": "code",
   "execution_count": 12,
   "id": "quarterly-binary",
   "metadata": {},
   "outputs": [],
   "source": [
    "# print(contract.functions.setallexpon().call())\n",
    "# print(\"value of sigmoid is:\", n/d)"
   ]
  },
  {
   "cell_type": "code",
   "execution_count": 13,
   "id": "loaded-offer",
   "metadata": {},
   "outputs": [],
   "source": [
    "def getsumexpon(account1,private_key1):\n",
    "    nonce = web3.eth.getTransactionCount(account1)\n",
    "    transaction = contract.functions.sum_exp(\n",
    "         ).buildTransaction({\n",
    "        'gas': 3000000,\n",
    "        'gasPrice': web3.toWei('1', 'gwei'),\n",
    "        'from': account1,\n",
    "        'nonce': nonce\n",
    "        }) \n",
    "    signed_txn = web3.eth.account.signTransaction(transaction, private_key=private_key1)\n",
    "    tx_hash = web3.eth.sendRawTransaction(signed_txn.rawTransaction)\n",
    "    tx_receipt = web3.eth.waitForTransactionReceipt(tx_hash)\n",
    "    return tx_receipt.gasUsed"
   ]
  },
  {
   "cell_type": "code",
   "execution_count": 14,
   "id": "weighted-density",
   "metadata": {},
   "outputs": [],
   "source": [
    "def getsoftmax(account1_private_key1):\n",
    "    nonce = web3.eth.getTransactionCount(account1)\n",
    "    transaction = contract.functions.get_softmax(\n",
    "         ).buildTransaction({\n",
    "        'gas': 3000000,\n",
    "        'gasPrice': web3.toWei('10', 'gwei'),\n",
    "        'from': account1,\n",
    "        'nonce': nonce\n",
    "        }) \n",
    "    signed_txn = web3.eth.account.signTransaction(transaction, private_key=private_key1)\n",
    "    tx_hash = web3.eth.sendRawTransaction(signed_txn.rawTransaction)\n",
    "    tx_receipt = web3.eth.waitForTransactionReceipt(tx_hash)\n",
    "    return tx_receipt.gasUsed"
   ]
  },
  {
   "cell_type": "code",
   "execution_count": 15,
   "id": "worthy-baghdad",
   "metadata": {},
   "outputs": [
    {
     "name": "stdout",
     "output_type": "stream",
     "text": [
      "[[], []]\n"
     ]
    }
   ],
   "source": [
    "print(contract.functions.set_softmax().call())"
   ]
  },
  {
   "cell_type": "code",
   "execution_count": 16,
   "id": "headed-symphony",
   "metadata": {},
   "outputs": [
    {
     "data": {
      "text/plain": [
       "array([1., 1., 1., 1., 1., 1., 1., 1., 1., 1., 1., 1., 1., 1., 1., 1., 1.,\n",
       "       1., 1., 1., 1., 1., 1., 1., 1., 1., 1., 1., 1., 1., 1., 1., 1., 1.,\n",
       "       1., 1., 1., 1., 1., 1.])"
      ]
     },
     "execution_count": 16,
     "metadata": {},
     "output_type": "execute_result"
    }
   ],
   "source": [
    "x = np.arange(-20,20)\n",
    "a = np.ones((len(x)))\n",
    "a"
   ]
  },
  {
   "cell_type": "code",
   "execution_count": 17,
   "id": "paperback-encounter",
   "metadata": {},
   "outputs": [],
   "source": [
    "## testing softmax out of blockchain\n",
    "def softmax(x):\n",
    "    sumexp = np.sum(np.exp(x))\n",
    "    return(np.exp(x)/sumexp)\n",
    "\n",
    "x = np.arange(-20,20)\n",
    "# print(softmax(x))\n",
    "y = softmax(x)\n"
   ]
  },
  {
   "cell_type": "code",
   "execution_count": 18,
   "id": "flying-happiness",
   "metadata": {},
   "outputs": [
    {
     "data": {
      "text/plain": [
       "Text(0, 0.5, 'Output Values in probability')"
      ]
     },
     "execution_count": 18,
     "metadata": {},
     "output_type": "execute_result"
    },
    {
     "data": {
      "image/png": "[encoded data removed]",
      "text/plain": [
       "<Figure size 432x432 with 1 Axes>"
      ]
     },
     "metadata": {
      "needs_background": "light"
     },
     "output_type": "display_data"
    }
   ],
   "source": [
    "plt.figure(figsize=(6,6))\n",
    "plt.plot(x,y)\n",
    "plt.title(\"Softmax output with builtin function\")\n",
    "plt.xlabel(\"Input values\")\n",
    "plt.ylabel(\"Output Values in probability\")\n",
    "# plt.savefig(\"softmax-off-chain.pdf\")"
   ]
  },
  {
   "cell_type": "code",
   "execution_count": 23,
   "id": "vocational-seven",
   "metadata": {},
   "outputs": [
    {
     "name": "stdout",
     "output_type": "stream",
     "text": [
      "0\n",
      "1\n",
      "2\n",
      "3\n",
      "4\n",
      "5\n",
      "6\n",
      "7\n",
      "8\n",
      "9\n",
      "10\n",
      "11\n",
      "12\n",
      "13\n",
      "14\n",
      "15\n",
      "16\n",
      "17\n",
      "18\n",
      "19\n",
      "20\n",
      "21\n",
      "22\n",
      "23\n",
      "24\n",
      "25\n",
      "26\n",
      "27\n",
      "28\n",
      "29\n",
      "30\n",
      "31\n",
      "32\n",
      "33\n",
      "34\n",
      "35\n",
      "36\n",
      "37\n",
      "38\n",
      "39\n"
     ]
    },
    {
     "ename": "TypeError",
     "evalue": "getsoftmax() takes 1 positional argument but 2 were given",
     "output_type": "error",
     "traceback": [
      "\u001b[1;31m---------------------------------------------------------------------------\u001b[0m",
      "\u001b[1;31mTypeError\u001b[0m                                 Traceback (most recent call last)",
      "\u001b[1;32m<ipython-input-23-bbdf662646f4>\u001b[0m in \u001b[0;36m<module>\u001b[1;34m\u001b[0m\n\u001b[0;32m     18\u001b[0m     \u001b[0mprint\u001b[0m\u001b[1;33m(\u001b[0m\u001b[0mi\u001b[0m\u001b[1;33m)\u001b[0m\u001b[1;33m\u001b[0m\u001b[1;33m\u001b[0m\u001b[0m\n\u001b[0;32m     19\u001b[0m \u001b[0mgas_sumexpo\u001b[0m \u001b[1;33m=\u001b[0m \u001b[0mgetsumexpon\u001b[0m\u001b[1;33m(\u001b[0m\u001b[0maccount3\u001b[0m\u001b[1;33m,\u001b[0m\u001b[0mprivate_key3\u001b[0m\u001b[1;33m)\u001b[0m\u001b[1;33m\u001b[0m\u001b[1;33m\u001b[0m\u001b[0m\n\u001b[1;32m---> 20\u001b[1;33m \u001b[0msoft_gas\u001b[0m \u001b[1;33m=\u001b[0m \u001b[0mgetsoftmax\u001b[0m\u001b[1;33m(\u001b[0m\u001b[0maccount4\u001b[0m\u001b[1;33m,\u001b[0m\u001b[0mprivate_key4\u001b[0m\u001b[1;33m)\u001b[0m\u001b[1;33m\u001b[0m\u001b[1;33m\u001b[0m\u001b[0m\n\u001b[0m\u001b[0;32m     21\u001b[0m \u001b[0msmaxn\u001b[0m\u001b[1;33m,\u001b[0m\u001b[0msmaxd\u001b[0m \u001b[1;33m=\u001b[0m \u001b[0mcontract\u001b[0m\u001b[1;33m.\u001b[0m\u001b[0mfunctions\u001b[0m\u001b[1;33m.\u001b[0m\u001b[0mset_softmax\u001b[0m\u001b[1;33m(\u001b[0m\u001b[1;33m)\u001b[0m\u001b[1;33m.\u001b[0m\u001b[0mcall\u001b[0m\u001b[1;33m(\u001b[0m\u001b[1;33m)\u001b[0m\u001b[1;33m\u001b[0m\u001b[1;33m\u001b[0m\u001b[0m\n\u001b[0;32m     22\u001b[0m \u001b[0mprint\u001b[0m\u001b[1;33m(\u001b[0m\u001b[0msmaxn\u001b[0m\u001b[1;33m,\u001b[0m\u001b[0msmaxd\u001b[0m\u001b[1;33m)\u001b[0m\u001b[1;33m\u001b[0m\u001b[1;33m\u001b[0m\u001b[0m\n",
      "\u001b[1;31mTypeError\u001b[0m: getsoftmax() takes 1 positional argument but 2 were given"
     ]
    }
   ],
   "source": [
    "import time\n",
    "expongas=[]\n",
    "softexpogas=[]\n",
    "soft_time=[]\n",
    "for i in range(len(a)):\n",
    "    if(i%2==0):\n",
    "        start = time.time()\n",
    "        expongas.append(getexpon(int(x[i]),int(a[i]), abs(int(x[i])),abs(int(a[i])),account3,private_key3))\n",
    "        end = time.time()\n",
    "        t = end-start\n",
    "        soft_time.append(t)\n",
    "    else:\n",
    "        start = time.time()\n",
    "        expongas.append(getexpon(int(x[i]),int(a[i]), abs(int(x[i])),abs(int(a[i])),account4,private_key4))\n",
    "        end = time.time()\n",
    "        t = end-start\n",
    "        soft_time.append(t)\n",
    "    print(i)\n",
    "gas_sumexpo = getsumexpon(account3,private_key3)\n",
    "soft_gas = getsoftmax(account4,private_key4)\n",
    "smaxn,smaxd = contract.functions.set_softmax().call()\n",
    "print(smaxn,smaxd)"
   ]
  },
  {
   "cell_type": "code",
   "execution_count": 24,
   "id": "recent-backing",
   "metadata": {},
   "outputs": [
    {
     "name": "stdout",
     "output_type": "stream",
     "text": [
      "[14.835530042648315, 24.06520414352417, 24.006142616271973, 11.984691858291626, 11.9080650806427, 24.226805448532104, 24.083243131637573, 24.001973390579224, 12.4498450756073, 11.389252185821533, 11.960666418075562, 24.03543448448181, 36.49055552482605, 11.588168859481812, 12.044418096542358, 23.88220739364624, 12.04860544204712, 24.000183820724487, 23.847105264663696, 12.270127296447754, 23.969586610794067, 12.125899314880371, 11.58250904083252, 24.20037817955017, 11.876938819885254, 11.956545114517212, 12.007409572601318, 12.281390905380249, 23.948253870010376, 12.44886589050293, 23.984344244003296, 23.408418655395508, 12.648542165756226, 11.59658169746399, 23.806191205978394, 24.020767211914062, 12.043122291564941, 24.611401319503784, 11.392988920211792, 12.061436891555786]\n"
     ]
    }
   ],
   "source": [
    "print(soft_time)"
   ]
  },
  {
   "cell_type": "code",
   "execution_count": 108,
   "id": "iraqi-newton",
   "metadata": {},
   "outputs": [],
   "source": [
    "softn = np.array(smaxn)\n",
    "softd = np.array(smaxd)\n",
    "from textwrap import wrap"
   ]
  },
  {
   "cell_type": "code",
   "execution_count": 109,
   "id": "breeding-clinic",
   "metadata": {},
   "outputs": [
    {
     "data": {
      "text/plain": [
       "[86662,\n",
       " 41662,\n",
       " 41662,\n",
       " 41662,\n",
       " 41662,\n",
       " 41662,\n",
       " 41662,\n",
       " 41662,\n",
       " 41662,\n",
       " 41662,\n",
       " 41662,\n",
       " 41662,\n",
       " 41662,\n",
       " 41662,\n",
       " 41662,\n",
       " 41662,\n",
       " 41662,\n",
       " 41662,\n",
       " 41662,\n",
       " 41662,\n",
       " 60488,\n",
       " 60574,\n",
       " 60574,\n",
       " 60574,\n",
       " 60574,\n",
       " 60574,\n",
       " 60574,\n",
       " 60574,\n",
       " 60574,\n",
       " 60574,\n",
       " 60574,\n",
       " 60574,\n",
       " 60574,\n",
       " 60574,\n",
       " 60574,\n",
       " 60574,\n",
       " 60574,\n",
       " 60574,\n",
       " 60574,\n",
       " 60574]"
      ]
     },
     "execution_count": 109,
     "metadata": {},
     "output_type": "execute_result"
    }
   ],
   "source": [
    "expongas"
   ]
  },
  {
   "cell_type": "code",
   "execution_count": 110,
   "id": "square-ensemble",
   "metadata": {},
   "outputs": [
    {
     "data": {
      "image/png": "[encoded data removed]",
      "text/plain": [
       "<Figure size 432x432 with 1 Axes>"
      ]
     },
     "metadata": {
      "needs_background": "light"
     },
     "output_type": "display_data"
    }
   ],
   "source": [
    "# print(softn/softd)\n",
    "plt.figure(figsize=(6,6))\n",
    "plt.plot(x,y,label =\"Library Function Output\")\n",
    "plt.plot(x,softn/softd, label = \" Smart Contract Output\")\n",
    "\n",
    "# plt.title('Softmax output with Smart Contract function with probability \\n values (divisions perfomed outside smart contract')\n",
    "plt.xlabel(\"Input values\",fontsize=14)\n",
    "plt.ylabel(\"Output Values in probability\",fontsize=14)\n",
    "plt.tick_params(axis='both', which='major', labelsize=14)\n",
    "plt.tick_params(axis='both', which='minor', labelsize=14)\n",
    "plt.legend()\n",
    "plt.savefig(\"softmax-on-chain.pdf\",bbox_inches='tight')\n",
    "plt.show()"
   ]
  },
  {
   "cell_type": "code",
   "execution_count": 111,
   "id": "unknown-track",
   "metadata": {},
   "outputs": [
    {
     "ename": "TypeError",
     "evalue": "can only concatenate list (not \"int\") to list",
     "output_type": "error",
     "traceback": [
      "\u001b[0;31m---------------------------------------------------------------------------\u001b[0m",
      "\u001b[0;31mTypeError\u001b[0m                                 Traceback (most recent call last)",
      "\u001b[0;32m/var/folders/9j/xg5sl5n57fs3q8d3c9svsb1r0000gq/T/ipykernel_3031/116886730.py\u001b[0m in \u001b[0;36m<module>\u001b[0;34m\u001b[0m\n\u001b[0;32m----> 1\u001b[0;31m \u001b[0mexpongas\u001b[0m \u001b[0;34m=\u001b[0m \u001b[0mexpongas\u001b[0m \u001b[0;34m+\u001b[0m \u001b[0msoft_gas\u001b[0m\u001b[0;34m+\u001b[0m\u001b[0mgas_sumexpo\u001b[0m\u001b[0;34m\u001b[0m\u001b[0;34m\u001b[0m\u001b[0m\n\u001b[0m\u001b[1;32m      2\u001b[0m \u001b[0mexpongas\u001b[0m\u001b[0;34m\u001b[0m\u001b[0;34m\u001b[0m\u001b[0m\n",
      "\u001b[0;31mTypeError\u001b[0m: can only concatenate list (not \"int\") to list"
     ]
    }
   ],
   "source": [
    "expongas = expongas + soft_gas+gas_sumexpo\n",
    "expongas"
   ]
  },
  {
   "cell_type": "code",
   "execution_count": 112,
   "id": "sweet-christian",
   "metadata": {},
   "outputs": [
    {
     "data": {
      "image/png": "[encoded data removed]",
      "text/plain": [
       "<Figure size 504x504 with 1 Axes>"
      ]
     },
     "metadata": {
      "needs_background": "light"
     },
     "output_type": "display_data"
    }
   ],
   "source": [
    "expongas = np.array(expongas)\n",
    "softexpogas= np.array(softexpogas)\n",
    "plt.figure(figsize=(7,7))\n",
    "plt.plot(x,expongas, label=\"Gas Consumption \")\n",
    "# plt.title(\"Exponent computation gas use\")\n",
    "plt.xlabel(\"Input values\", fontsize=14)\n",
    "plt.ylabel(\"Gas Consumption in GWei\", fontsize=14)\n",
    "plt.tick_params(axis='both', which='major', labelsize=14)\n",
    "plt.tick_params(axis='both', which='minor', labelsize=14)\n",
    "plt.ticklabel_format(style='plain')\n",
    "plt.legend(loc='upper left')\n",
    "plt.savefig(\"softmax_computation_gas.pdf\",bbox_inches='tight')\n",
    "plt.show()"
   ]
  },
  {
   "cell_type": "code",
   "execution_count": 35,
   "id": "healthy-practitioner",
   "metadata": {},
   "outputs": [
    {
     "name": "stdout",
     "output_type": "stream",
     "text": [
      "3339603\n",
      "208914\n",
      "1548981\n"
     ]
    }
   ],
   "source": [
    "print(expongas[1])\n",
    "print(gas_sumexpo) \n",
    "print(soft_gas) "
   ]
  },
  {
   "cell_type": "code",
   "execution_count": 26,
   "id": "saving-tracy",
   "metadata": {},
   "outputs": [
    {
     "data": {
      "image/png": "[encoded data removed]",
      "text/plain": [
       "<Figure size 504x504 with 1 Axes>"
      ]
     },
     "metadata": {
      "needs_background": "light"
     },
     "output_type": "display_data"
    }
   ],
   "source": [
    "plt.figure(figsize=(7,7))\n",
    "plt.ticklabel_format(style='plain') \n",
    "plt.bar(\"Exponent Computation\", expongas[30])\n",
    "plt.bar(\"Sum of exponents\", gas_sumexpo)\n",
    "plt.bar(\"Softmax Computation\", soft_gas)\n",
    "\n",
    "plt.title(\"Average Gas Consumption for functions\",fontsize=12)\n",
    "plt.xlabel(\"Type of functions\",fontsize=12)\n",
    "plt.ylabel(\"gas consumed in GWei\",fontsize=12)\n",
    "plt.savefig(\"softmax_gas.pdf\",bbox_inches='tight')"
   ]
  },
  {
   "cell_type": "code",
   "execution_count": null,
   "id": "focal-paint",
   "metadata": {},
   "outputs": [],
   "source": []
  }
 ],
 "metadata": {
  "kernelspec": {
   "display_name": "Python 3",
   "language": "python",
   "name": "python3"
  },
  "language_info": {
   "codemirror_mode": {
    "name": "ipython",
    "version": 3
   },
   "file_extension": ".py",
   "mimetype": "text/x-python",
   "name": "python",
   "nbconvert_exporter": "python",
   "pygments_lexer": "ipython3",
   "version": "3.9.2"
  }
 },
 "nbformat": 4,
 "nbformat_minor": 5
}
