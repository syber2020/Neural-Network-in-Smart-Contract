{
 "cells": [
  {
   "cell_type": "code",
   "execution_count": 4,
   "id": "convertible-daily",
   "metadata": {},
   "outputs": [
    {
     "data": {
      "text/plain": [
       "True"
      ]
     },
     "execution_count": 4,
     "metadata": {},
     "output_type": "execute_result"
    }
   ],
   "source": [
    "# starting web3 operations\n",
    "import numpy as np\n",
    "import json\n",
    "from web3 import Web3\n",
    "import time\n",
    "# ganache_url = \"HTTP://127.0.0.1:8545\"\n",
    "ropsten_url =\"https://ropsten.infura.io/v3/6072fdc3b95c407caa681f63ebaf72b8\"\n",
    "# web3 = Web3(Web3.HTTPProvider(ganache_url))\n",
    "web3 = Web3(Web3.HTTPProvider(ropsten_url))\n",
    "web3.isConnected()"
   ]
  },
  {
   "cell_type": "code",
   "execution_count": 5,
   "id": "usual-madagascar",
   "metadata": {},
   "outputs": [
    {
     "name": "stdout",
     "output_type": "stream",
     "text": [
      "8.447044911021390878\n"
     ]
    }
   ],
   "source": [
    "# Basic web3 \n",
    "block = web3.eth.get_block('latest')\n",
    "balance_1 = web3.eth.getBalance(\"0x37bfB436392DaAE0E91EdcD9c4128FBcADF3919d\")\n",
    "print(web3.fromWei(balance_1,'ether'))"
   ]
  },
  {
   "cell_type": "code",
   "execution_count": 6,
   "id": "insured-broadcasting",
   "metadata": {},
   "outputs": [],
   "source": [
    "abi = json.loads('[ { \"inputs\": [], \"name\": \"retrieve\", \"outputs\": [ { \"internalType\": \"uint256\", \"name\": \"\", \"type\": \"uint256\" } ], \"stateMutability\": \"view\", \"type\": \"function\" }, { \"inputs\": [ { \"internalType\": \"uint256\", \"name\": \"num\", \"type\": \"uint256\" } ], \"name\": \"store\", \"outputs\": [], \"stateMutability\": \"nonpayable\", \"type\": \"function\" }]')\n",
    "cont_address = \"0x1c3292FD9b62Cc6e0DcafF8424db9A2242825170\"\n"
   ]
  },
  {
   "cell_type": "code",
   "execution_count": 7,
   "id": "robust-herald",
   "metadata": {},
   "outputs": [],
   "source": [
    "contract = web3.eth.contract(address=cont_address,abi=abi)"
   ]
  },
  {
   "cell_type": "code",
   "execution_count": 8,
   "id": "palestinian-transmission",
   "metadata": {},
   "outputs": [],
   "source": [
    "account1 = \"0x37bfB436392DaAE0E91EdcD9c4128FBcADF3919d\"\n",
    "private_key1 = \"e72044de2331844a3c0232dc23d43fb8ca4f555854b4da07e2fb530d003e5e2d\"\n",
    "account2 = \"account\"\n",
    "private_key2=\"private key\""
   ]
  },
  {
   "cell_type": "code",
   "execution_count": 9,
   "id": "velvet-burton",
   "metadata": {},
   "outputs": [],
   "source": [
    "# callfunction = contract.function.callfunction().call()\n",
    "#print(web3.utils.fromWei(callfunction,'ether'))"
   ]
  },
  {
   "cell_type": "markdown",
   "id": "roman-sound",
   "metadata": {},
   "source": [
    "### Sending Ether between accounts"
   ]
  },
  {
   "cell_type": "code",
   "execution_count": 10,
   "id": "painful-bronze",
   "metadata": {},
   "outputs": [],
   "source": [
    "# # get the nonce\n",
    "# nonce = web3.eth.getTransactionCount(account1)\n",
    "# # build the transaction\n",
    "# tx = {\n",
    "#     'nonce': nonce,\n",
    "#     'to': account2,\n",
    "#     'value':web3.toWei(1,'ether'),\n",
    "#     'gas':2000000,      #for miners to mine transactions\n",
    "#     'gasPrice': web3.toWei('50','gwei') \n",
    "# }\n",
    "# # sign the transaction\n",
    "# signed_tx = web3.eth.account.signTransaction(tx,private_key1)\n",
    "# # send the transaction\n",
    "# tx_hash = web3.eth.sendRawTransaction(signed_tx.rawTransaction)\n"
   ]
  },
  {
   "cell_type": "code",
   "execution_count": 11,
   "id": "printable-apparel",
   "metadata": {},
   "outputs": [
    {
     "name": "stdout",
     "output_type": "stream",
     "text": [
      "8.447044911021390878\n"
     ]
    }
   ],
   "source": [
    "print(web3.fromWei(balance_1,'ether'))"
   ]
  },
  {
   "cell_type": "code",
   "execution_count": 12,
   "id": "norwegian-stability",
   "metadata": {},
   "outputs": [],
   "source": [
    "# # get transaction hash\n",
    "# print(web3.toHex(tx_hash))"
   ]
  },
  {
   "cell_type": "code",
   "execution_count": 13,
   "id": "recognized-tuition",
   "metadata": {},
   "outputs": [],
   "source": [
    "nonce = web3.eth.getTransactionCount(account1)"
   ]
  },
  {
   "cell_type": "code",
   "execution_count": 14,
   "id": "realistic-branch",
   "metadata": {},
   "outputs": [],
   "source": [
    "a =15\n",
    "b = 30\n",
    "c = 40\n",
    "d  = 50"
   ]
  },
  {
   "cell_type": "code",
   "execution_count": 18,
   "id": "immediate-pittsburgh",
   "metadata": {},
   "outputs": [],
   "source": [
    "def send_tx(x, account, private_key,contract):\n",
    "    nonce = web3.eth.getTransactionCount(account)\n",
    "    tx_store = contract.functions.store(\n",
    "        x\n",
    "         ).buildTransaction({\n",
    "        'gas': 100000,\n",
    "        'gasPrice': web3.toWei('10', 'gwei'),\n",
    "        'from': account,\n",
    "        'nonce': nonce\n",
    "        })\n",
    "\n",
    "    signed_txn = web3.eth.account.signTransaction(tx_store, private_key=private_key)\n",
    "    start_time = time.time()\n",
    "    tx_hash = web3.eth.sendRawTransaction(signed_txn.rawTransaction)\n",
    "    tx_receipt = web3.eth.waitForTransactionReceipt(tx_hash)\n",
    "\n",
    "    end_time = time.time()\n",
    "    print(\"time taken for thsi transaction is\",end_time -start_time)\n",
    "    print(\"gas used for this transactino is\",tx_receipt.gasUsed)\n",
    "    print(\"the stored number is \", contract.functions.retrieve().call())"
   ]
  },
  {
   "cell_type": "code",
   "execution_count": 19,
   "id": "dental-insulation",
   "metadata": {},
   "outputs": [
    {
     "name": "stdout",
     "output_type": "stream",
     "text": [
      "time taken for thsi transaction is 0.8698642253875732\n",
      "gas used for this transactino is 23824\n",
      "the stored number is  15\n"
     ]
    }
   ],
   "source": [
    "send_tx(a,account1,private_key1,contract)"
   ]
  },
  {
   "cell_type": "code",
   "execution_count": 22,
   "id": "quarterly-binary",
   "metadata": {},
   "outputs": [
    {
     "name": "stdout",
     "output_type": "stream",
     "text": [
      "time taken for thsi transaction is 20.46413564682007\n",
      "gas used for this transactino is 26624\n",
      "the stored number is  1\n",
      "time taken for thsi transaction is 4.141005039215088\n",
      "gas used for this transactino is 26624\n",
      "the stored number is  2\n",
      "time taken for thsi transaction is 22.13821005821228\n",
      "gas used for this transactino is 26624\n",
      "the stored number is  3\n",
      "time taken for thsi transaction is 16.545472621917725\n",
      "gas used for this transactino is 26624\n",
      "the stored number is  4\n"
     ]
    },
    {
     "ename": "ValueError",
     "evalue": "{'code': -32000, 'message': 'replacement transaction underpriced'}",
     "output_type": "error",
     "traceback": [
      "\u001b[1;31m---------------------------------------------------------------------------\u001b[0m",
      "\u001b[1;31mValueError\u001b[0m                                Traceback (most recent call last)",
      "\u001b[1;32m<ipython-input-22-680b82995540>\u001b[0m in \u001b[0;36m<module>\u001b[1;34m\u001b[0m\n\u001b[0;32m      1\u001b[0m \u001b[0ma\u001b[0m \u001b[1;33m=\u001b[0m \u001b[1;33m[\u001b[0m\u001b[1;36m1\u001b[0m\u001b[1;33m,\u001b[0m\u001b[1;36m2\u001b[0m\u001b[1;33m,\u001b[0m\u001b[1;36m3\u001b[0m\u001b[1;33m,\u001b[0m\u001b[1;36m4\u001b[0m\u001b[1;33m,\u001b[0m\u001b[1;36m5\u001b[0m\u001b[1;33m,\u001b[0m\u001b[1;36m6\u001b[0m\u001b[1;33m,\u001b[0m\u001b[1;36m7\u001b[0m\u001b[1;33m,\u001b[0m\u001b[1;36m8\u001b[0m\u001b[1;33m,\u001b[0m\u001b[1;36m9\u001b[0m\u001b[1;33m,\u001b[0m\u001b[1;36m10\u001b[0m\u001b[1;33m]\u001b[0m\u001b[1;33m\u001b[0m\u001b[1;33m\u001b[0m\u001b[0m\n\u001b[0;32m      2\u001b[0m \u001b[1;32mfor\u001b[0m \u001b[0mi\u001b[0m \u001b[1;32min\u001b[0m \u001b[0mrange\u001b[0m\u001b[1;33m(\u001b[0m\u001b[0mlen\u001b[0m\u001b[1;33m(\u001b[0m\u001b[0ma\u001b[0m\u001b[1;33m)\u001b[0m\u001b[1;33m)\u001b[0m\u001b[1;33m:\u001b[0m\u001b[1;33m\u001b[0m\u001b[1;33m\u001b[0m\u001b[0m\n\u001b[1;32m----> 3\u001b[1;33m     \u001b[0msend_tx\u001b[0m\u001b[1;33m(\u001b[0m\u001b[0ma\u001b[0m\u001b[1;33m[\u001b[0m\u001b[0mi\u001b[0m\u001b[1;33m]\u001b[0m\u001b[1;33m,\u001b[0m\u001b[0maccount1\u001b[0m\u001b[1;33m,\u001b[0m\u001b[0mprivate_key1\u001b[0m\u001b[1;33m,\u001b[0m\u001b[0mcontract\u001b[0m\u001b[1;33m)\u001b[0m\u001b[1;33m\u001b[0m\u001b[1;33m\u001b[0m\u001b[0m\n\u001b[0m\u001b[0;32m      4\u001b[0m \u001b[1;33m\u001b[0m\u001b[0m\n",
      "\u001b[1;32m<ipython-input-18-952122102611>\u001b[0m in \u001b[0;36msend_tx\u001b[1;34m(x, account, private_key, contract)\u001b[0m\n\u001b[0;32m     12\u001b[0m     \u001b[0msigned_txn\u001b[0m \u001b[1;33m=\u001b[0m \u001b[0mweb3\u001b[0m\u001b[1;33m.\u001b[0m\u001b[0meth\u001b[0m\u001b[1;33m.\u001b[0m\u001b[0maccount\u001b[0m\u001b[1;33m.\u001b[0m\u001b[0msignTransaction\u001b[0m\u001b[1;33m(\u001b[0m\u001b[0mtx_store\u001b[0m\u001b[1;33m,\u001b[0m \u001b[0mprivate_key\u001b[0m\u001b[1;33m=\u001b[0m\u001b[0mprivate_key\u001b[0m\u001b[1;33m)\u001b[0m\u001b[1;33m\u001b[0m\u001b[1;33m\u001b[0m\u001b[0m\n\u001b[0;32m     13\u001b[0m     \u001b[0mstart_time\u001b[0m \u001b[1;33m=\u001b[0m \u001b[0mtime\u001b[0m\u001b[1;33m.\u001b[0m\u001b[0mtime\u001b[0m\u001b[1;33m(\u001b[0m\u001b[1;33m)\u001b[0m\u001b[1;33m\u001b[0m\u001b[1;33m\u001b[0m\u001b[0m\n\u001b[1;32m---> 14\u001b[1;33m     \u001b[0mtx_hash\u001b[0m \u001b[1;33m=\u001b[0m \u001b[0mweb3\u001b[0m\u001b[1;33m.\u001b[0m\u001b[0meth\u001b[0m\u001b[1;33m.\u001b[0m\u001b[0msendRawTransaction\u001b[0m\u001b[1;33m(\u001b[0m\u001b[0msigned_txn\u001b[0m\u001b[1;33m.\u001b[0m\u001b[0mrawTransaction\u001b[0m\u001b[1;33m)\u001b[0m\u001b[1;33m\u001b[0m\u001b[1;33m\u001b[0m\u001b[0m\n\u001b[0m\u001b[0;32m     15\u001b[0m     \u001b[0mtx_receipt\u001b[0m \u001b[1;33m=\u001b[0m \u001b[0mweb3\u001b[0m\u001b[1;33m.\u001b[0m\u001b[0meth\u001b[0m\u001b[1;33m.\u001b[0m\u001b[0mwaitForTransactionReceipt\u001b[0m\u001b[1;33m(\u001b[0m\u001b[0mtx_hash\u001b[0m\u001b[1;33m)\u001b[0m\u001b[1;33m\u001b[0m\u001b[1;33m\u001b[0m\u001b[0m\n\u001b[0;32m     16\u001b[0m \u001b[1;33m\u001b[0m\u001b[0m\n",
      "\u001b[1;32mc:\\users\\syed\\appdata\\local\\programs\\python\\python39\\lib\\site-packages\\web3\\module.py\u001b[0m in \u001b[0;36mcaller\u001b[1;34m(*args, **kwargs)\u001b[0m\n\u001b[0;32m     55\u001b[0m             \u001b[1;32mreturn\u001b[0m \u001b[0mLogFilter\u001b[0m\u001b[1;33m(\u001b[0m\u001b[0meth_module\u001b[0m\u001b[1;33m=\u001b[0m\u001b[0mmodule\u001b[0m\u001b[1;33m,\u001b[0m \u001b[0mfilter_id\u001b[0m\u001b[1;33m=\u001b[0m\u001b[0merr\u001b[0m\u001b[1;33m.\u001b[0m\u001b[0mfilter_id\u001b[0m\u001b[1;33m)\u001b[0m\u001b[1;33m\u001b[0m\u001b[1;33m\u001b[0m\u001b[0m\n\u001b[0;32m     56\u001b[0m         \u001b[0mresult_formatters\u001b[0m\u001b[1;33m,\u001b[0m \u001b[0merror_formatters\u001b[0m\u001b[1;33m,\u001b[0m \u001b[0mnull_result_formatters\u001b[0m \u001b[1;33m=\u001b[0m \u001b[0mresponse_formatters\u001b[0m\u001b[1;33m\u001b[0m\u001b[1;33m\u001b[0m\u001b[0m\n\u001b[1;32m---> 57\u001b[1;33m         result = w3.manager.request_blocking(method_str,\n\u001b[0m\u001b[0;32m     58\u001b[0m                                              \u001b[0mparams\u001b[0m\u001b[1;33m,\u001b[0m\u001b[1;33m\u001b[0m\u001b[1;33m\u001b[0m\u001b[0m\n\u001b[0;32m     59\u001b[0m                                              \u001b[0merror_formatters\u001b[0m\u001b[1;33m,\u001b[0m\u001b[1;33m\u001b[0m\u001b[1;33m\u001b[0m\u001b[0m\n",
      "\u001b[1;32mc:\\users\\syed\\appdata\\local\\programs\\python\\python39\\lib\\site-packages\\web3\\manager.py\u001b[0m in \u001b[0;36mrequest_blocking\u001b[1;34m(self, method, params, error_formatters, null_result_formatters)\u001b[0m\n\u001b[0;32m    185\u001b[0m         \"\"\"\n\u001b[0;32m    186\u001b[0m         \u001b[0mresponse\u001b[0m \u001b[1;33m=\u001b[0m \u001b[0mself\u001b[0m\u001b[1;33m.\u001b[0m\u001b[0m_make_request\u001b[0m\u001b[1;33m(\u001b[0m\u001b[0mmethod\u001b[0m\u001b[1;33m,\u001b[0m \u001b[0mparams\u001b[0m\u001b[1;33m)\u001b[0m\u001b[1;33m\u001b[0m\u001b[1;33m\u001b[0m\u001b[0m\n\u001b[1;32m--> 187\u001b[1;33m         return self.formatted_response(response,\n\u001b[0m\u001b[0;32m    188\u001b[0m                                        \u001b[0mparams\u001b[0m\u001b[1;33m,\u001b[0m\u001b[1;33m\u001b[0m\u001b[1;33m\u001b[0m\u001b[0m\n\u001b[0;32m    189\u001b[0m                                        \u001b[0merror_formatters\u001b[0m\u001b[1;33m,\u001b[0m\u001b[1;33m\u001b[0m\u001b[1;33m\u001b[0m\u001b[0m\n",
      "\u001b[1;32mc:\\users\\syed\\appdata\\local\\programs\\python\\python39\\lib\\site-packages\\web3\\manager.py\u001b[0m in \u001b[0;36mformatted_response\u001b[1;34m(self, response, params, error_formatters, null_result_formatters)\u001b[0m\n\u001b[0;32m    166\u001b[0m         \u001b[1;32mif\u001b[0m \u001b[1;34m\"error\"\u001b[0m \u001b[1;32min\u001b[0m \u001b[0mresponse\u001b[0m\u001b[1;33m:\u001b[0m\u001b[1;33m\u001b[0m\u001b[1;33m\u001b[0m\u001b[0m\n\u001b[0;32m    167\u001b[0m             \u001b[0mapply_error_formatters\u001b[0m\u001b[1;33m(\u001b[0m\u001b[0merror_formatters\u001b[0m\u001b[1;33m,\u001b[0m \u001b[0mresponse\u001b[0m\u001b[1;33m)\u001b[0m\u001b[1;33m\u001b[0m\u001b[1;33m\u001b[0m\u001b[0m\n\u001b[1;32m--> 168\u001b[1;33m             \u001b[1;32mraise\u001b[0m \u001b[0mValueError\u001b[0m\u001b[1;33m(\u001b[0m\u001b[0mresponse\u001b[0m\u001b[1;33m[\u001b[0m\u001b[1;34m\"error\"\u001b[0m\u001b[1;33m]\u001b[0m\u001b[1;33m)\u001b[0m\u001b[1;33m\u001b[0m\u001b[1;33m\u001b[0m\u001b[0m\n\u001b[0m\u001b[0;32m    169\u001b[0m         \u001b[1;32melif\u001b[0m \u001b[0mresponse\u001b[0m\u001b[1;33m[\u001b[0m\u001b[1;34m'result'\u001b[0m\u001b[1;33m]\u001b[0m \u001b[1;32min\u001b[0m \u001b[0mNULL_RESPONSES\u001b[0m\u001b[1;33m:\u001b[0m\u001b[1;33m\u001b[0m\u001b[1;33m\u001b[0m\u001b[0m\n\u001b[0;32m    170\u001b[0m             \u001b[1;31m# null_result_formatters raise either a BlockNotFound\u001b[0m\u001b[1;33m\u001b[0m\u001b[1;33m\u001b[0m\u001b[1;33m\u001b[0m\u001b[0m\n",
      "\u001b[1;31mValueError\u001b[0m: {'code': -32000, 'message': 'replacement transaction underpriced'}"
     ]
    }
   ],
   "source": [
    "\n",
    "a = [1,2,3,4,5,6,7,8,9,10]\n",
    "for i in range(len(a)):\n",
    "    send_tx(a[i],account1,private_key1,contract)\n",
    "    time.sleep(5)\n"
   ]
  },
  {
   "cell_type": "code",
   "execution_count": null,
   "id": "three-turkish",
   "metadata": {},
   "outputs": [],
   "source": [
    "print(tx_receipt.gasUsed)"
   ]
  },
  {
   "cell_type": "code",
   "execution_count": null,
   "id": "immune-satellite",
   "metadata": {},
   "outputs": [],
   "source": []
  }
 ],
 "metadata": {
  "kernelspec": {
   "display_name": "Python 3",
   "language": "python",
   "name": "python3"
  },
  "language_info": {
   "codemirror_mode": {
    "name": "ipython",
    "version": 3
   },
   "file_extension": ".py",
   "mimetype": "text/x-python",
   "name": "python",
   "nbconvert_exporter": "python",
   "pygments_lexer": "ipython3",
   "version": "3.9.2"
  }
 },
 "nbformat": 4,
 "nbformat_minor": 5
}
