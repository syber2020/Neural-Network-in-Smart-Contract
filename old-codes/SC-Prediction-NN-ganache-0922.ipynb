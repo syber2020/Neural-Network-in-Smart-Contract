{
 "cells": [
  {
   "cell_type": "code",
   "execution_count": 1,
   "id": "alive-rally",
   "metadata": {
    "scrolled": true
   },
   "outputs": [
    {
     "name": "stdout",
     "output_type": "stream",
     "text": [
      "INFO:tensorflow:Enabling eager execution\n",
      "INFO:tensorflow:Enabling v2 tensorshape\n",
      "INFO:tensorflow:Enabling resource variables\n",
      "INFO:tensorflow:Enabling tensor equality\n",
      "INFO:tensorflow:Enabling control flow v2\n"
     ]
    },
    {
     "data": {
      "text/plain": [
       "False"
      ]
     },
     "execution_count": 1,
     "metadata": {},
     "output_type": "execute_result"
    }
   ],
   "source": [
    "import numpy as np\n",
    "import pandas as pd\n",
    "from sklearn.linear_model import Perceptron\n",
    "from keras.models import Sequential\n",
    "from keras.layers import Dense\n",
    "df = pd.read_csv('diabetes.csv',sep = ',')\n",
    "# starting web3 operations\n",
    "import numpy as np\n",
    "import json\n",
    "from web3 import Web3\n",
    "import time\n",
    "ganache_url = \"HTTP://127.0.0.1:8545\"\n",
    "web3 = Web3(Web3.HTTPProvider(ganache_url))\n",
    "web3.isConnected()"
   ]
  },
  {
   "cell_type": "code",
   "execution_count": 2,
   "id": "qualified-matthew",
   "metadata": {},
   "outputs": [],
   "source": [
    "abi = json.loads('[{ \"inputs\": [], \"name\": \"add_print\", \"outputs\": [ { \"internalType\": \"int256\", \"name\": \"x\", \"type\": \"int256\" }, { \"internalType\": \"int256\", \"name\": \"y\", \"type\": \"int256\" } ], \"stateMutability\": \"view\", \"type\": \"function\" }, { \"inputs\": [ { \"internalType\": \"int256[]\", \"name\": \"input\", \"type\": \"int256[]\" }, { \"internalType\": \"int256[]\", \"name\": \"w\", \"type\": \"int256[]\" }, { \"internalType\": \"int256[]\", \"name\": \"b\", \"type\": \"int256[]\" } ], \"name\": \"compute_IXWB\", \"outputs\": [], \"stateMutability\": \"nonpayable\", \"type\": \"function\" }, { \"inputs\": [ { \"internalType\": \"int256\", \"name\": \"a\", \"type\": \"int256\" }, { \"internalType\": \"int256\", \"name\": \"b\", \"type\": \"int256\" }, { \"internalType\": \"int256\", \"name\": \"c\", \"type\": \"int256\" }, { \"internalType\": \"int256\", \"name\": \"d\", \"type\": \"int256\" } ], \"name\": \"compute_addition\", \"outputs\": [], \"stateMutability\": \"nonpayable\", \"type\": \"function\" }, { \"inputs\": [ { \"internalType\": \"int256\", \"name\": \"x\", \"type\": \"int256\" }, { \"internalType\": \"int256\", \"name\": \"y\", \"type\": \"int256\" } ], \"name\": \"compute_lcm\", \"outputs\": [], \"stateMutability\": \"nonpayable\", \"type\": \"function\" }, { \"inputs\": [ { \"internalType\": \"int256\", \"name\": \"d\", \"type\": \"int256\" } ], \"name\": \"compute_sigmoid\", \"outputs\": [], \"stateMutability\": \"nonpayable\", \"type\": \"function\" }, { \"inputs\": [], \"name\": \"lcm_print\", \"outputs\": [ { \"internalType\": \"int256\", \"name\": \"\", \"type\": \"int256\" } ], \"stateMutability\": \"view\", \"type\": \"function\" }, { \"inputs\": [], \"name\": \"predict_print\", \"outputs\": [ { \"internalType\": \"int256\", \"name\": \"\", \"type\": \"int256\" } ], \"stateMutability\": \"view\", \"type\": \"function\" }]')\n",
    "cont_address = \"0xFD9fFdE09432258482C532d80bBDB5c4577dc2DF\"\n",
    "\n",
    "account1 = \"0x37bfB436392DaAE0E91EdcD9c4128FBcADF3919d\"\n",
    "private_key1 = \"e72044de2331844a3c0232dc23d43fb8ca4f555854b4da07e2fb530d003e5e2d\"\n",
    "account2 = \"0xfbD8f1F5878b0b5b3E627e7cc14617b05B582867\"\n",
    "private_key2=\"56c8f569b23a423f9d66d46f86f7ada7ba0d28dfba03c34f661bb15358b042bb\"\n"
   ]
  },
  {
   "cell_type": "code",
   "execution_count": 3,
   "id": "demanding-spoke",
   "metadata": {},
   "outputs": [
    {
     "data": {
      "text/html": [
       "<div>\n",
       "<style scoped>\n",
       "    .dataframe tbody tr th:only-of-type {\n",
       "        vertical-align: middle;\n",
       "    }\n",
       "\n",
       "    .dataframe tbody tr th {\n",
       "        vertical-align: top;\n",
       "    }\n",
       "\n",
       "    .dataframe thead th {\n",
       "        text-align: right;\n",
       "    }\n",
       "</style>\n",
       "<table border=\"1\" class=\"dataframe\">\n",
       "  <thead>\n",
       "    <tr style=\"text-align: right;\">\n",
       "      <th></th>\n",
       "      <th>Pregnancies</th>\n",
       "      <th>Glucose</th>\n",
       "      <th>BloodPressure</th>\n",
       "      <th>SkinThickness</th>\n",
       "      <th>Insulin</th>\n",
       "      <th>BMI</th>\n",
       "      <th>DiabetesPedigreeFunction</th>\n",
       "      <th>Age</th>\n",
       "      <th>Outcome</th>\n",
       "    </tr>\n",
       "  </thead>\n",
       "  <tbody>\n",
       "    <tr>\n",
       "      <th>0</th>\n",
       "      <td>6</td>\n",
       "      <td>148</td>\n",
       "      <td>72</td>\n",
       "      <td>35</td>\n",
       "      <td>0</td>\n",
       "      <td>33</td>\n",
       "      <td>62</td>\n",
       "      <td>50</td>\n",
       "      <td>1</td>\n",
       "    </tr>\n",
       "    <tr>\n",
       "      <th>1</th>\n",
       "      <td>1</td>\n",
       "      <td>85</td>\n",
       "      <td>66</td>\n",
       "      <td>29</td>\n",
       "      <td>0</td>\n",
       "      <td>26</td>\n",
       "      <td>35</td>\n",
       "      <td>31</td>\n",
       "      <td>0</td>\n",
       "    </tr>\n",
       "    <tr>\n",
       "      <th>2</th>\n",
       "      <td>8</td>\n",
       "      <td>183</td>\n",
       "      <td>64</td>\n",
       "      <td>0</td>\n",
       "      <td>0</td>\n",
       "      <td>23</td>\n",
       "      <td>67</td>\n",
       "      <td>32</td>\n",
       "      <td>1</td>\n",
       "    </tr>\n",
       "    <tr>\n",
       "      <th>3</th>\n",
       "      <td>1</td>\n",
       "      <td>89</td>\n",
       "      <td>66</td>\n",
       "      <td>23</td>\n",
       "      <td>94</td>\n",
       "      <td>28</td>\n",
       "      <td>16</td>\n",
       "      <td>21</td>\n",
       "      <td>0</td>\n",
       "    </tr>\n",
       "    <tr>\n",
       "      <th>4</th>\n",
       "      <td>0</td>\n",
       "      <td>137</td>\n",
       "      <td>40</td>\n",
       "      <td>35</td>\n",
       "      <td>168</td>\n",
       "      <td>43</td>\n",
       "      <td>228</td>\n",
       "      <td>33</td>\n",
       "      <td>1</td>\n",
       "    </tr>\n",
       "  </tbody>\n",
       "</table>\n",
       "</div>"
      ],
      "text/plain": [
       "   Pregnancies  Glucose  BloodPressure  SkinThickness  Insulin  BMI  \\\n",
       "0            6      148             72             35        0   33   \n",
       "1            1       85             66             29        0   26   \n",
       "2            8      183             64              0        0   23   \n",
       "3            1       89             66             23       94   28   \n",
       "4            0      137             40             35      168   43   \n",
       "\n",
       "   DiabetesPedigreeFunction  Age  Outcome  \n",
       "0                        62   50        1  \n",
       "1                        35   31        0  \n",
       "2                        67   32        1  \n",
       "3                        16   21        0  \n",
       "4                       228   33        1  "
      ]
     },
     "execution_count": 3,
     "metadata": {},
     "output_type": "execute_result"
    }
   ],
   "source": [
    "df['DiabetesPedigreeFunction'] = df['DiabetesPedigreeFunction']*100\n",
    "df.DiabetesPedigreeFunction = df.DiabetesPedigreeFunction.astype(int)\n",
    "df.BMI = df.BMI.astype(int) \n",
    "df.head()"
   ]
  },
  {
   "cell_type": "code",
   "execution_count": 4,
   "id": "valued-burton",
   "metadata": {
    "scrolled": true
   },
   "outputs": [],
   "source": [
    "dataset = df.to_numpy()\n",
    "\n",
    "X = dataset[:500,0:8]\n",
    "X1 = dataset[500:,0:8]\n",
    "y = dataset[:500,8]\n",
    "y1 = dataset[500:,8]"
   ]
  },
  {
   "cell_type": "code",
   "execution_count": 5,
   "id": "parliamentary-breach",
   "metadata": {},
   "outputs": [
    {
     "name": "stdout",
     "output_type": "stream",
     "text": [
      "[[  6 148  72  35   0  33  62  50]\n",
      " [  1  85  66  29   0  26  35  31]\n",
      " [  8 183  64   0   0  23  67  32]\n",
      " [  1  89  66  23  94  28  16  21]\n",
      " [  0 137  40  35 168  43 228  33]]\n",
      "[1 0 1 0 1]\n"
     ]
    }
   ],
   "source": [
    "print(X[:5])\n",
    "print(y[:5])"
   ]
  },
  {
   "cell_type": "code",
   "execution_count": 6,
   "id": "grateful-influence",
   "metadata": {},
   "outputs": [],
   "source": [
    "# define the keras model\n",
    "model = Sequential()\n",
    "# model.add(Dense(12, input_dim=8, activation='sigmoid'))\n",
    "# model.add(Dense(8, activation='sigmoid'))\n",
    "model.add(Dense(1, activation='sigmoid'))"
   ]
  },
  {
   "cell_type": "code",
   "execution_count": 7,
   "id": "worthy-clearing",
   "metadata": {},
   "outputs": [],
   "source": [
    "# compile the keras model\n",
    "model.compile(loss='binary_crossentropy', optimizer='adam', metrics=['accuracy'])"
   ]
  },
  {
   "cell_type": "code",
   "execution_count": 8,
   "id": "least-harvey",
   "metadata": {},
   "outputs": [
    {
     "name": "stdout",
     "output_type": "stream",
     "text": [
      "Epoch 1/150\n",
      "WARNING:tensorflow:AutoGraph could not transform <bound method Dense.call of <keras.layers.core.Dense object at 0x000001E1C4F0CB20>> and will run it as-is.\n",
      "Please report this to the TensorFlow team. When filing the bug, set the verbosity to 10 (on Linux, `export AUTOGRAPH_VERBOSITY=10`) and attach the full output.\n",
      "Cause: invalid syntax (tmpzpxdy4xe.py, line 48)\n",
      "To silence this warning, decorate the function with @tf.autograph.experimental.do_not_convert\n",
      "WARNING: AutoGraph could not transform <bound method Dense.call of <keras.layers.core.Dense object at 0x000001E1C4F0CB20>> and will run it as-is.\n",
      "Please report this to the TensorFlow team. When filing the bug, set the verbosity to 10 (on Linux, `export AUTOGRAPH_VERBOSITY=10`) and attach the full output.\n",
      "Cause: invalid syntax (tmpzpxdy4xe.py, line 48)\n",
      "To silence this warning, decorate the function with @tf.autograph.experimental.do_not_convert\n",
      "50/50 [==============================] - 16s 660us/step - loss: 27.6949 - accuracy: 0.6315\n",
      "Epoch 2/150\n",
      "50/50 [==============================] - 0s 530us/step - loss: 20.3595 - accuracy: 0.6015\n",
      "Epoch 3/150\n",
      "50/50 [==============================] - 0s 530us/step - loss: 23.9690 - accuracy: 0.5034\n",
      "Epoch 4/150\n",
      "50/50 [==============================] - 0s 530us/step - loss: 20.3117 - accuracy: 0.5401\n",
      "Epoch 5/150\n",
      "50/50 [==============================] - 0s 521us/step - loss: 17.9892 - accuracy: 0.6060\n",
      "Epoch 6/150\n",
      "50/50 [==============================] - 0s 530us/step - loss: 21.2359 - accuracy: 0.5387\n",
      "Epoch 7/150\n",
      "50/50 [==============================] - 0s 551us/step - loss: 19.0662 - accuracy: 0.5528\n",
      "Epoch 8/150\n",
      "50/50 [==============================] - 0s 537us/step - loss: 17.9316 - accuracy: 0.5445\n",
      "Epoch 9/150\n",
      "50/50 [==============================] - 0s 522us/step - loss: 16.0241 - accuracy: 0.5488\n",
      "Epoch 10/150\n",
      "50/50 [==============================] - 0s 514us/step - loss: 13.2105 - accuracy: 0.5354\n",
      "Epoch 11/150\n",
      "50/50 [==============================] - 0s 530us/step - loss: 11.6034 - accuracy: 0.5667\n",
      "Epoch 12/150\n",
      "50/50 [==============================] - 0s 594us/step - loss: 13.2820 - accuracy: 0.5182\n",
      "Epoch 13/150\n",
      "50/50 [==============================] - 0s 530us/step - loss: 12.5456 - accuracy: 0.5051\n",
      "Epoch 14/150\n",
      "50/50 [==============================] - 0s 510us/step - loss: 9.8954 - accuracy: 0.5732\n",
      "Epoch 15/150\n",
      "50/50 [==============================] - 0s 514us/step - loss: 8.0187 - accuracy: 0.5452\n",
      "Epoch 16/150\n",
      "50/50 [==============================] - 0s 509us/step - loss: 7.2471 - accuracy: 0.5699\n",
      "Epoch 17/150\n",
      "50/50 [==============================] - 0s 530us/step - loss: 6.8177 - accuracy: 0.5562\n",
      "Epoch 18/150\n",
      "50/50 [==============================] - 0s 530us/step - loss: 6.1316 - accuracy: 0.5669\n",
      "Epoch 19/150\n",
      "50/50 [==============================] - 0s 530us/step - loss: 5.8432 - accuracy: 0.5925\n",
      "Epoch 20/150\n",
      "50/50 [==============================] - 0s 530us/step - loss: 5.3311 - accuracy: 0.5987\n",
      "Epoch 21/150\n",
      "50/50 [==============================] - 0s 551us/step - loss: 5.3376 - accuracy: 0.5782\n",
      "Epoch 22/150\n",
      "50/50 [==============================] - 0s 490us/step - loss: 4.8445 - accuracy: 0.6128\n",
      "Epoch 23/150\n",
      "50/50 [==============================] - 0s 510us/step - loss: 4.1945 - accuracy: 0.6229\n",
      "Epoch 24/150\n",
      "50/50 [==============================] - 0s 530us/step - loss: 4.4062 - accuracy: 0.6167\n",
      "Epoch 25/150\n",
      "50/50 [==============================] - 0s 510us/step - loss: 3.6663 - accuracy: 0.6451\n",
      "Epoch 26/150\n",
      "50/50 [==============================] - 0s 530us/step - loss: 3.5962 - accuracy: 0.6297\n",
      "Epoch 27/150\n",
      "50/50 [==============================] - 0s 530us/step - loss: 3.4084 - accuracy: 0.6531\n",
      "Epoch 28/150\n",
      "50/50 [==============================] - 0s 506us/step - loss: 3.2475 - accuracy: 0.6725\n",
      "Epoch 29/150\n",
      "50/50 [==============================] - 0s 530us/step - loss: 3.2548 - accuracy: 0.6618\n",
      "Epoch 30/150\n",
      "50/50 [==============================] - 0s 510us/step - loss: 2.9297 - accuracy: 0.6514\n",
      "Epoch 31/150\n",
      "50/50 [==============================] - 0s 490us/step - loss: 3.3901 - accuracy: 0.6502\n",
      "Epoch 32/150\n",
      "50/50 [==============================] - 0s 510us/step - loss: 3.2708 - accuracy: 0.6352\n",
      "Epoch 33/150\n",
      "50/50 [==============================] - 0s 515us/step - loss: 2.5022 - accuracy: 0.6743\n",
      "Epoch 34/150\n",
      "50/50 [==============================] - 0s 510us/step - loss: 3.3350 - accuracy: 0.6406\n",
      "Epoch 35/150\n",
      "50/50 [==============================] - 0s 510us/step - loss: 2.5005 - accuracy: 0.6871\n",
      "Epoch 36/150\n",
      "50/50 [==============================] - 0s 530us/step - loss: 2.4061 - accuracy: 0.6651\n",
      "Epoch 37/150\n",
      "50/50 [==============================] - 0s 510us/step - loss: 2.8155 - accuracy: 0.6484\n",
      "Epoch 38/150\n",
      "50/50 [==============================] - 0s 537us/step - loss: 3.0356 - accuracy: 0.6208\n",
      "Epoch 39/150\n",
      "50/50 [==============================] - 0s 530us/step - loss: 2.4402 - accuracy: 0.6507\n",
      "Epoch 40/150\n",
      "50/50 [==============================] - 0s 510us/step - loss: 2.1327 - accuracy: 0.6731\n",
      "Epoch 41/150\n",
      "50/50 [==============================] - 0s 522us/step - loss: 2.0124 - accuracy: 0.6866\n",
      "Epoch 42/150\n",
      "50/50 [==============================] - 0s 510us/step - loss: 2.0614 - accuracy: 0.6414\n",
      "Epoch 43/150\n",
      "50/50 [==============================] - 0s 510us/step - loss: 2.1462 - accuracy: 0.6466\n",
      "Epoch 44/150\n",
      "50/50 [==============================] - 0s 510us/step - loss: 1.9911 - accuracy: 0.6767\n",
      "Epoch 45/150\n",
      "50/50 [==============================] - 0s 481us/step - loss: 1.9895 - accuracy: 0.6783\n",
      "Epoch 46/150\n",
      "50/50 [==============================] - 0s 510us/step - loss: 1.8373 - accuracy: 0.6763\n",
      "Epoch 47/150\n",
      "50/50 [==============================] - 0s 530us/step - loss: 1.8196 - accuracy: 0.6407\n",
      "Epoch 48/150\n",
      "50/50 [==============================] - 0s 510us/step - loss: 1.5185 - accuracy: 0.6871\n",
      "Epoch 49/150\n",
      "50/50 [==============================] - 0s 489us/step - loss: 1.6766 - accuracy: 0.6694\n",
      "Epoch 50/150\n",
      "50/50 [==============================] - 0s 490us/step - loss: 1.7462 - accuracy: 0.6723\n",
      "Epoch 51/150\n",
      "50/50 [==============================] - 0s 490us/step - loss: 1.4408 - accuracy: 0.6893\n",
      "Epoch 52/150\n",
      "50/50 [==============================] - 0s 510us/step - loss: 1.4058 - accuracy: 0.6830\n",
      "Epoch 53/150\n",
      "50/50 [==============================] - 0s 486us/step - loss: 1.4920 - accuracy: 0.6906\n",
      "Epoch 54/150\n",
      "50/50 [==============================] - 0s 490us/step - loss: 1.2059 - accuracy: 0.6896\n",
      "Epoch 55/150\n",
      "50/50 [==============================] - 0s 482us/step - loss: 1.3138 - accuracy: 0.7172\n",
      "Epoch 56/150\n",
      "50/50 [==============================] - 0s 490us/step - loss: 1.4485 - accuracy: 0.7023\n",
      "Epoch 57/150\n",
      "50/50 [==============================] - 0s 490us/step - loss: 1.2381 - accuracy: 0.6894\n",
      "Epoch 58/150\n",
      "50/50 [==============================] - 0s 502us/step - loss: 0.9315 - accuracy: 0.7159\n",
      "Epoch 59/150\n",
      "50/50 [==============================] - 0s 493us/step - loss: 1.3542 - accuracy: 0.6813\n",
      "Epoch 60/150\n",
      "50/50 [==============================] - 0s 489us/step - loss: 1.0573 - accuracy: 0.7107\n",
      "Epoch 61/150\n",
      "50/50 [==============================] - 0s 488us/step - loss: 1.0422 - accuracy: 0.7131\n",
      "Epoch 62/150\n",
      "50/50 [==============================] - 0s 508us/step - loss: 0.9529 - accuracy: 0.7144\n",
      "Epoch 63/150\n",
      "50/50 [==============================] - 0s 506us/step - loss: 0.8058 - accuracy: 0.7513\n",
      "Epoch 64/150\n",
      "50/50 [==============================] - 0s 530us/step - loss: 0.9809 - accuracy: 0.7139\n",
      "Epoch 65/150\n",
      "50/50 [==============================] - 0s 489us/step - loss: 1.1729 - accuracy: 0.6565\n",
      "Epoch 66/150\n",
      "50/50 [==============================] - 0s 612us/step - loss: 0.9610 - accuracy: 0.6816\n",
      "Epoch 67/150\n",
      "50/50 [==============================] - 0s 673us/step - loss: 0.8659 - accuracy: 0.7090\n",
      "Epoch 68/150\n",
      "50/50 [==============================] - 0s 632us/step - loss: 0.9312 - accuracy: 0.6893\n",
      "Epoch 69/150\n",
      "50/50 [==============================] - 0s 592us/step - loss: 0.8172 - accuracy: 0.6797\n",
      "Epoch 70/150\n",
      "50/50 [==============================] - 0s 571us/step - loss: 0.8007 - accuracy: 0.7262\n",
      "Epoch 71/150\n",
      "50/50 [==============================] - 0s 530us/step - loss: 0.7920 - accuracy: 0.7156\n",
      "Epoch 72/150\n"
     ]
    },
    {
     "name": "stdout",
     "output_type": "stream",
     "text": [
      "50/50 [==============================] - 0s 469us/step - loss: 0.8783 - accuracy: 0.6515\n",
      "Epoch 73/150\n",
      "50/50 [==============================] - 0s 469us/step - loss: 0.7204 - accuracy: 0.7122\n",
      "Epoch 74/150\n",
      "50/50 [==============================] - 0s 476us/step - loss: 0.8178 - accuracy: 0.6802\n",
      "Epoch 75/150\n",
      "50/50 [==============================] - 0s 500us/step - loss: 0.7247 - accuracy: 0.6875\n",
      "Epoch 76/150\n",
      "50/50 [==============================] - 0s 489us/step - loss: 0.7228 - accuracy: 0.6827\n",
      "Epoch 77/150\n",
      "50/50 [==============================] - 0s 490us/step - loss: 0.7468 - accuracy: 0.6803\n",
      "Epoch 78/150\n",
      "50/50 [==============================] - 0s 505us/step - loss: 0.6456 - accuracy: 0.7013\n",
      "Epoch 79/150\n",
      "50/50 [==============================] - 0s 507us/step - loss: 0.7201 - accuracy: 0.6779\n",
      "Epoch 80/150\n",
      "50/50 [==============================] - 0s 507us/step - loss: 0.6166 - accuracy: 0.7202\n",
      "Epoch 81/150\n",
      "50/50 [==============================] - 0s 474us/step - loss: 0.6574 - accuracy: 0.6890\n",
      "Epoch 82/150\n",
      "50/50 [==============================] - 0s 490us/step - loss: 0.7382 - accuracy: 0.7168\n",
      "Epoch 83/150\n",
      "50/50 [==============================] - 0s 510us/step - loss: 0.6486 - accuracy: 0.7016\n",
      "Epoch 84/150\n",
      "50/50 [==============================] - 0s 489us/step - loss: 0.6536 - accuracy: 0.7040\n",
      "Epoch 85/150\n",
      "50/50 [==============================] - 0s 505us/step - loss: 0.6535 - accuracy: 0.7154\n",
      "Epoch 86/150\n",
      "50/50 [==============================] - 0s 490us/step - loss: 0.7101 - accuracy: 0.6987\n",
      "Epoch 87/150\n",
      "50/50 [==============================] - 0s 478us/step - loss: 0.6109 - accuracy: 0.7639\n",
      "Epoch 88/150\n",
      "50/50 [==============================] - 0s 489us/step - loss: 0.6416 - accuracy: 0.6673\n",
      "Epoch 89/150\n",
      "50/50 [==============================] - 0s 512us/step - loss: 0.6141 - accuracy: 0.7257\n",
      "Epoch 90/150\n",
      "50/50 [==============================] - 0s 492us/step - loss: 0.6596 - accuracy: 0.7047\n",
      "Epoch 91/150\n",
      "50/50 [==============================] - 0s 501us/step - loss: 0.5912 - accuracy: 0.7178\n",
      "Epoch 92/150\n",
      "50/50 [==============================] - 0s 496us/step - loss: 0.6163 - accuracy: 0.6927\n",
      "Epoch 93/150\n",
      "50/50 [==============================] - 0s 510us/step - loss: 0.6283 - accuracy: 0.7156\n",
      "Epoch 94/150\n",
      "50/50 [==============================] - 0s 490us/step - loss: 0.6233 - accuracy: 0.7051\n",
      "Epoch 95/150\n",
      "50/50 [==============================] - 0s 472us/step - loss: 0.6270 - accuracy: 0.7129\n",
      "Epoch 96/150\n",
      "50/50 [==============================] - 0s 506us/step - loss: 0.6361 - accuracy: 0.6790\n",
      "Epoch 97/150\n",
      "50/50 [==============================] - 0s 506us/step - loss: 0.6785 - accuracy: 0.6505\n",
      "Epoch 98/150\n",
      "50/50 [==============================] - 0s 510us/step - loss: 0.6409 - accuracy: 0.6746\n",
      "Epoch 99/150\n",
      "50/50 [==============================] - 0s 510us/step - loss: 0.6595 - accuracy: 0.6650\n",
      "Epoch 100/150\n",
      "50/50 [==============================] - 0s 485us/step - loss: 0.6231 - accuracy: 0.6968\n",
      "Epoch 101/150\n",
      "50/50 [==============================] - 0s 483us/step - loss: 0.6179 - accuracy: 0.6864\n",
      "Epoch 102/150\n",
      "50/50 [==============================] - 0s 497us/step - loss: 0.5824 - accuracy: 0.7089\n",
      "Epoch 103/150\n",
      "50/50 [==============================] - 0s 489us/step - loss: 0.5907 - accuracy: 0.7182\n",
      "Epoch 104/150\n",
      "50/50 [==============================] - 0s 502us/step - loss: 0.6021 - accuracy: 0.7054\n",
      "Epoch 105/150\n",
      "50/50 [==============================] - 0s 490us/step - loss: 0.6298 - accuracy: 0.6657\n",
      "Epoch 106/150\n",
      "50/50 [==============================] - 0s 490us/step - loss: 0.5988 - accuracy: 0.7110\n",
      "Epoch 107/150\n",
      "50/50 [==============================] - 0s 489us/step - loss: 0.5812 - accuracy: 0.7064\n",
      "Epoch 108/150\n",
      "50/50 [==============================] - 0s 494us/step - loss: 0.5931 - accuracy: 0.7168\n",
      "Epoch 109/150\n",
      "50/50 [==============================] - 0s 498us/step - loss: 0.6193 - accuracy: 0.7265\n",
      "Epoch 110/150\n",
      "50/50 [==============================] - 0s 469us/step - loss: 0.5856 - accuracy: 0.7097\n",
      "Epoch 111/150\n",
      "50/50 [==============================] - 0s 469us/step - loss: 0.6187 - accuracy: 0.6920\n",
      "Epoch 112/150\n",
      "50/50 [==============================] - 0s 483us/step - loss: 0.5897 - accuracy: 0.6916\n",
      "Epoch 113/150\n",
      "50/50 [==============================] - 0s 490us/step - loss: 0.5585 - accuracy: 0.7538\n",
      "Epoch 114/150\n",
      "50/50 [==============================] - 0s 484us/step - loss: 0.5968 - accuracy: 0.7269\n",
      "Epoch 115/150\n",
      "50/50 [==============================] - 0s 490us/step - loss: 0.5784 - accuracy: 0.7049\n",
      "Epoch 116/150\n",
      "50/50 [==============================] - 0s 510us/step - loss: 0.6291 - accuracy: 0.6615\n",
      "Epoch 117/150\n",
      "50/50 [==============================] - 0s 489us/step - loss: 0.5949 - accuracy: 0.6969\n",
      "Epoch 118/150\n",
      "50/50 [==============================] - 0s 473us/step - loss: 0.5640 - accuracy: 0.7260\n",
      "Epoch 119/150\n",
      "50/50 [==============================] - 0s 540us/step - loss: 0.5743 - accuracy: 0.7039\n",
      "Epoch 120/150\n",
      "50/50 [==============================] - 0s 530us/step - loss: 0.5813 - accuracy: 0.7172\n",
      "Epoch 121/150\n",
      "50/50 [==============================] - 0s 530us/step - loss: 0.5901 - accuracy: 0.7035\n",
      "Epoch 122/150\n",
      "50/50 [==============================] - 0s 531us/step - loss: 0.5979 - accuracy: 0.6846\n",
      "Epoch 123/150\n",
      "50/50 [==============================] - 0s 524us/step - loss: 0.6180 - accuracy: 0.7119\n",
      "Epoch 124/150\n",
      "50/50 [==============================] - 0s 511us/step - loss: 0.5747 - accuracy: 0.7132\n",
      "Epoch 125/150\n",
      "50/50 [==============================] - 0s 475us/step - loss: 0.5967 - accuracy: 0.7186\n",
      "Epoch 126/150\n",
      "50/50 [==============================] - 0s 519us/step - loss: 0.5778 - accuracy: 0.7227\n",
      "Epoch 127/150\n",
      "50/50 [==============================] - 0s 530us/step - loss: 0.6273 - accuracy: 0.7158\n",
      "Epoch 128/150\n",
      "50/50 [==============================] - 0s 510us/step - loss: 0.5796 - accuracy: 0.6991\n",
      "Epoch 129/150\n",
      "50/50 [==============================] - 0s 510us/step - loss: 0.6029 - accuracy: 0.7083\n",
      "Epoch 130/150\n",
      "50/50 [==============================] - 0s 498us/step - loss: 0.6371 - accuracy: 0.6686\n",
      "Epoch 131/150\n",
      "50/50 [==============================] - 0s 497us/step - loss: 0.5749 - accuracy: 0.7019\n",
      "Epoch 132/150\n",
      "50/50 [==============================] - 0s 531us/step - loss: 0.6175 - accuracy: 0.6723\n",
      "Epoch 133/150\n",
      "50/50 [==============================] - 0s 516us/step - loss: 0.6212 - accuracy: 0.6876\n",
      "Epoch 134/150\n",
      "50/50 [==============================] - 0s 505us/step - loss: 0.5615 - accuracy: 0.7389\n",
      "Epoch 135/150\n",
      "50/50 [==============================] - 0s 521us/step - loss: 0.6005 - accuracy: 0.7095\n",
      "Epoch 136/150\n",
      "50/50 [==============================] - 0s 510us/step - loss: 0.5549 - accuracy: 0.7284\n",
      "Epoch 137/150\n",
      "50/50 [==============================] - 0s 530us/step - loss: 0.5826 - accuracy: 0.7339\n",
      "Epoch 138/150\n",
      "50/50 [==============================] - 0s 498us/step - loss: 0.5911 - accuracy: 0.7146\n",
      "Epoch 139/150\n",
      "50/50 [==============================] - 0s 511us/step - loss: 0.6048 - accuracy: 0.6898\n",
      "Epoch 140/150\n",
      "50/50 [==============================] - 0s 571us/step - loss: 0.6004 - accuracy: 0.6893\n",
      "Epoch 141/150\n",
      "50/50 [==============================] - 0s 531us/step - loss: 0.5756 - accuracy: 0.7159\n",
      "Epoch 142/150\n",
      "50/50 [==============================] - 0s 510us/step - loss: 0.6029 - accuracy: 0.6985\n",
      "Epoch 143/150\n",
      "50/50 [==============================] - 0s 489us/step - loss: 0.5995 - accuracy: 0.6950\n",
      "Epoch 144/150\n",
      "50/50 [==============================] - 0s 522us/step - loss: 0.5742 - accuracy: 0.7094\n",
      "Epoch 145/150\n",
      "50/50 [==============================] - 0s 494us/step - loss: 0.5601 - accuracy: 0.7489\n",
      "Epoch 146/150\n",
      "50/50 [==============================] - 0s 490us/step - loss: 0.5820 - accuracy: 0.7089\n",
      "Epoch 147/150\n",
      "50/50 [==============================] - 0s 525us/step - loss: 0.6041 - accuracy: 0.6990\n",
      "Epoch 148/150\n",
      "50/50 [==============================] - 0s 514us/step - loss: 0.6063 - accuracy: 0.6947\n",
      "Epoch 149/150\n",
      "50/50 [==============================] - 0s 510us/step - loss: 0.5751 - accuracy: 0.7110\n",
      "Epoch 150/150\n",
      "50/50 [==============================] - 0s 534us/step - loss: 0.5787 - accuracy: 0.7140\n"
     ]
    },
    {
     "data": {
      "text/plain": [
       "<keras.callbacks.History at 0x1e1a0e51160>"
      ]
     },
     "execution_count": 8,
     "metadata": {},
     "output_type": "execute_result"
    }
   ],
   "source": [
    "4\n",
    "...\n",
    "# fit the keras model on the dataset\n",
    "model.fit(X, y, epochs=150, batch_size=10)"
   ]
  },
  {
   "cell_type": "code",
   "execution_count": 9,
   "id": "arranged-superior",
   "metadata": {},
   "outputs": [
    {
     "name": "stdout",
     "output_type": "stream",
     "text": [
      "Model: \"sequential\"\n",
      "_________________________________________________________________\n",
      "Layer (type)                 Output Shape              Param #   \n",
      "=================================================================\n",
      "dense (Dense)                (10, 1)                   9         \n",
      "=================================================================\n",
      "Total params: 9\n",
      "Trainable params: 9\n",
      "Non-trainable params: 0\n",
      "_________________________________________________________________\n",
      "None\n"
     ]
    }
   ],
   "source": [
    "print(model.summary())"
   ]
  },
  {
   "cell_type": "code",
   "execution_count": 10,
   "id": "lasting-karaoke",
   "metadata": {},
   "outputs": [
    {
     "name": "stdout",
     "output_type": "stream",
     "text": [
      "16/16 [==============================] - 0s 639us/step - loss: 0.5721 - accuracy: 0.7220\n",
      "Accuracy: 72.20\n"
     ]
    }
   ],
   "source": [
    "4\n",
    "...\n",
    "# evaluate the keras model\n",
    "_, accuracy = model.evaluate(X, y)\n",
    "print('Accuracy: %.2f' % (accuracy*100))"
   ]
  },
  {
   "cell_type": "code",
   "execution_count": 11,
   "id": "tested-hudson",
   "metadata": {},
   "outputs": [
    {
     "name": "stdout",
     "output_type": "stream",
     "text": [
      "{'name': 'dense', 'trainable': True, 'dtype': 'float32', 'units': 1, 'activation': 'sigmoid', 'use_bias': True, 'kernel_initializer': {'class_name': 'GlorotUniform', 'config': {'seed': None}}, 'bias_initializer': {'class_name': 'Zeros', 'config': {}}, 'kernel_regularizer': None, 'bias_regularizer': None, 'activity_regularizer': None, 'kernel_constraint': None, 'bias_constraint': None}\n",
      "[array([[ 0.13420492],\n",
      "       [ 0.01372297],\n",
      "       [-0.02598029],\n",
      "       [-0.0096017 ],\n",
      "       [ 0.00154922],\n",
      "       [ 0.02458862],\n",
      "       [ 0.00475701],\n",
      "       [-0.01920895]], dtype=float32), array([-1.2286978], dtype=float32)]\n"
     ]
    }
   ],
   "source": [
    "for layer in model.layers: \n",
    "    print(layer.get_config())\n",
    "    print(layer.get_weights())\n",
    "    \n",
    "    w = layer.get_weights()"
   ]
  },
  {
   "cell_type": "code",
   "execution_count": 12,
   "id": "directed-census",
   "metadata": {},
   "outputs": [],
   "source": [
    "weights = w[0]\n",
    "bias = w[1]"
   ]
  },
  {
   "cell_type": "code",
   "execution_count": 13,
   "id": "intensive-princeton",
   "metadata": {},
   "outputs": [
    {
     "name": "stdout",
     "output_type": "stream",
     "text": [
      "[  2 117  90  19  71  25  31  21]\n"
     ]
    }
   ],
   "source": [
    "print(X1[0])"
   ]
  },
  {
   "cell_type": "code",
   "execution_count": 14,
   "id": "statutory-response",
   "metadata": {},
   "outputs": [],
   "source": [
    "predictions = model.predict(X1)\n",
    "# predictions"
   ]
  },
  {
   "cell_type": "code",
   "execution_count": 15,
   "id": "sharp-alliance",
   "metadata": {},
   "outputs": [],
   "source": [
    "# for i in range(len(predictions)):\n",
    "#     if(predictions[i]>=.5):\n",
    "#         print(i)"
   ]
  },
  {
   "cell_type": "code",
   "execution_count": 16,
   "id": "damaged-damages",
   "metadata": {},
   "outputs": [],
   "source": [
    "\n",
    "rounded= [round(x[0]) for x in predictions]\n",
    "# rounded"
   ]
  },
  {
   "cell_type": "code",
   "execution_count": 19,
   "id": "altered-korea",
   "metadata": {},
   "outputs": [
    {
     "data": {
      "text/plain": [
       "0.7313432835820896"
      ]
     },
     "execution_count": 19,
     "metadata": {},
     "output_type": "execute_result"
    }
   ],
   "source": [
    "from sklearn.metrics import accuracy_score\n",
    "from sklearn.metrics import classification_report\n",
    "accuracy_score(y1, rounded)"
   ]
  },
  {
   "cell_type": "code",
   "execution_count": 20,
   "id": "olive-dover",
   "metadata": {},
   "outputs": [
    {
     "name": "stdout",
     "output_type": "stream",
     "text": [
      "              precision    recall  f1-score   support\n",
      "\n",
      "           0       0.75      0.91      0.82       182\n",
      "           1       0.65      0.35      0.45        86\n",
      "\n",
      "    accuracy                           0.73       268\n",
      "   macro avg       0.70      0.63      0.64       268\n",
      "weighted avg       0.72      0.73      0.70       268\n",
      "\n"
     ]
    }
   ],
   "source": [
    "print(classification_report(y1,rounded))"
   ]
  },
  {
   "cell_type": "code",
   "execution_count": 21,
   "id": "advance-jacksonville",
   "metadata": {},
   "outputs": [
    {
     "name": "stdout",
     "output_type": "stream",
     "text": [
      "[0, 0, 0, 0, 0, 0, 0, 0, 0, 0, 0, 0, 0, 0, 0, 0, 0, 0, 1, 0, 0, 0, 1, 1, 0, 0, 0, 0, 0, 0, 0, 0, 0, 1, 0, 1, 0, 0, 0, 0, 0, 0, 0, 0, 0, 1, 1, 0, 0, 0, 0, 0, 0, 0, 0, 0, 0, 0, 0, 0, 0, 1, 0, 0, 0, 0, 0, 0, 0, 0, 0, 0, 0, 0, 0, 0, 1, 0, 1, 0, 0, 0, 0, 0, 1, 0, 1, 0, 0, 0, 0, 0, 0, 0, 0, 1, 0, 0, 0, 0, 0, 1, 0, 0, 1, 0, 1, 0, 0, 0, 0, 1, 1, 0, 1, 0, 0, 0, 0, 1, 0, 0, 1, 0, 0, 0, 0, 0, 0, 0, 0, 0, 0, 0, 0, 1, 0, 0, 0, 0, 0, 0, 0, 1, 0, 1, 0, 1, 0, 0, 0, 0, 0, 0, 0, 1, 0, 0, 0, 0, 0, 1, 0, 1, 0, 0, 0, 0, 0, 0, 1, 0, 0, 0, 0, 1, 0, 0, 0, 0, 0, 0, 0, 0, 0, 0, 0, 0, 0, 0, 0, 1, 0, 0, 0, 0, 0, 1, 0, 1, 0, 0, 0, 1, 0, 0, 1, 1, 1, 0, 1, 0, 1, 0, 0, 1, 1, 0, 0, 0, 0, 0, 0, 0, 0, 0, 0, 0, 0, 0, 0, 0, 0, 0, 0, 0, 0, 0, 0, 0, 1, 0, 0, 0, 1, 0, 0, 0, 1, 0, 1, 0, 0, 0, 0, 0, 0, 0, 0, 0, 0, 1, 0, 0, 0, 0, 0, 0]\n"
     ]
    }
   ],
   "source": [
    "print(rounded)"
   ]
  },
  {
   "cell_type": "code",
   "execution_count": 22,
   "id": "universal-vanilla",
   "metadata": {},
   "outputs": [
    {
     "name": "stdout",
     "output_type": "stream",
     "text": [
      "[0 0 1 0 0 0 1 0 0 0]\n"
     ]
    }
   ],
   "source": [
    "print(y1[:10])"
   ]
  },
  {
   "cell_type": "code",
   "execution_count": 23,
   "id": "interested-penguin",
   "metadata": {},
   "outputs": [
    {
     "data": {
      "text/plain": [
       "array([[ 134., 1000.],\n",
       "       [  13., 1000.],\n",
       "       [ -25., 1000.],\n",
       "       [  -9., 1000.],\n",
       "       [   1., 1000.],\n",
       "       [  24., 1000.],\n",
       "       [   4., 1000.],\n",
       "       [ -19., 1000.]])"
      ]
     },
     "execution_count": 23,
     "metadata": {},
     "output_type": "execute_result"
    }
   ],
   "source": [
    "w = np.zeros((8,2))\n",
    "for i in range(weights.shape[0]):\n",
    "    w[i][0] = int(weights[i][0]*1000)\n",
    "    w[i][1] = 1000\n",
    "w\n"
   ]
  },
  {
   "cell_type": "code",
   "execution_count": 24,
   "id": "marked-treatment",
   "metadata": {},
   "outputs": [],
   "source": [
    "b = []\n",
    "b.append(int(bias*1000))\n",
    "b.append(1000)"
   ]
  },
  {
   "cell_type": "code",
   "execution_count": 25,
   "id": "designed-seventh",
   "metadata": {},
   "outputs": [],
   "source": [
    "def compute_lcm(x, y):\n",
    "   # choose the greater number\n",
    "    if (x > y):\n",
    "        greater = x\n",
    "    else:\n",
    "        greater = y\n",
    "    while(True):\n",
    "        if((greater % x == 0) and (greater % y == 0)):\n",
    "            lcm = greater\n",
    "            break\n",
    "        greater += 1\n",
    "    return lcm"
   ]
  },
  {
   "cell_type": "code",
   "execution_count": 26,
   "id": "wired-words",
   "metadata": {},
   "outputs": [],
   "source": [
    "def addition(a,b,c,d):\n",
    "    den = compute_lcm(b,d)\n",
    "#     den = b*d\n",
    "    num = ((den/b)*a) + ((den/d)*c)\n",
    "#     print(num,den)\n",
    "    return float(num),float(den)\n",
    "        "
   ]
  },
  {
   "cell_type": "code",
   "execution_count": 27,
   "id": "revised-legislation",
   "metadata": {},
   "outputs": [],
   "source": [
    "def IXWB(inputs,w,b):\n",
    "    num=0\n",
    "    den=0\n",
    "    out = np.zeros((inputs.shape[0],1))\n",
    "    for i in range(inputs.shape[0]):\n",
    "#     for i in range(10):\n",
    "#         print(inputs[i][0],w)\n",
    "        for j in range(inputs.shape[1]):\n",
    "            num = num + inputs[i][j]*w[j][0]\n",
    "            den = w[0][1]\n",
    "        num,den = addition(num,den,b[0],b[1])\n",
    "        out[i][0] = num\n",
    "#         out[i][1] = den\n",
    "        num =0\n",
    "        den =0\n",
    "    return out"
   ]
  },
  {
   "cell_type": "code",
   "execution_count": 28,
   "id": "purple-jimmy",
   "metadata": {},
   "outputs": [
    {
     "name": "stdout",
     "output_type": "stream",
     "text": [
      "[  2 117  90  19  71  25  31  21]\n",
      "-1228\n"
     ]
    }
   ],
   "source": [
    "print(X1[0])\n",
    "print(b[0])"
   ]
  },
  {
   "cell_type": "code",
   "execution_count": 29,
   "id": "elementary-journal",
   "metadata": {},
   "outputs": [],
   "source": [
    "test = IXWB(X1,w,b)\n",
    "# print(test)"
   ]
  },
  {
   "cell_type": "code",
   "execution_count": 30,
   "id": "demonstrated-target",
   "metadata": {},
   "outputs": [],
   "source": [
    "# for i in range(len(test)):\n",
    "#     if(test[i][0]>0):\n",
    "#         print(i)"
   ]
  },
  {
   "cell_type": "code",
   "execution_count": 31,
   "id": "passing-opinion",
   "metadata": {},
   "outputs": [],
   "source": [
    "def sigmoidfrac(x):\n",
    "    if(x>=0):\n",
    "        return 1\n",
    "    else:\n",
    "        return 0"
   ]
  },
  {
   "cell_type": "code",
   "execution_count": 32,
   "id": "ignored-template",
   "metadata": {},
   "outputs": [],
   "source": [
    "out = []\n",
    "for i in range(test.shape[0]):\n",
    "    out.append(sigmoidfrac(test[i][0]))\n",
    "# out"
   ]
  },
  {
   "cell_type": "code",
   "execution_count": 33,
   "id": "guilty-simpson",
   "metadata": {},
   "outputs": [
    {
     "data": {
      "text/plain": [
       "0.7164179104477612"
      ]
     },
     "execution_count": 33,
     "metadata": {},
     "output_type": "execute_result"
    }
   ],
   "source": [
    "from sklearn.metrics import accuracy_score\n",
    "accuracy_score(y1, out)"
   ]
  },
  {
   "cell_type": "code",
   "execution_count": 34,
   "id": "horizontal-decade",
   "metadata": {},
   "outputs": [
    {
     "data": {
      "text/plain": [
       "array([[167,  15],\n",
       "       [ 61,  25]], dtype=int64)"
      ]
     },
     "execution_count": 34,
     "metadata": {},
     "output_type": "execute_result"
    }
   ],
   "source": [
    "\n",
    "from sklearn.metrics import confusion_matrix\n",
    "from sklearn.metrics import classification_report\n",
    "confusion_matrix(y1,out)"
   ]
  },
  {
   "cell_type": "code",
   "execution_count": 35,
   "id": "brazilian-yorkshire",
   "metadata": {},
   "outputs": [
    {
     "ename": "NameError",
     "evalue": "name 'sns' is not defined",
     "output_type": "error",
     "traceback": [
      "\u001b[1;31m---------------------------------------------------------------------------\u001b[0m",
      "\u001b[1;31mNameError\u001b[0m                                 Traceback (most recent call last)",
      "\u001b[1;32m<ipython-input-35-e657d804d472>\u001b[0m in \u001b[0;36m<module>\u001b[1;34m\u001b[0m\n\u001b[0;32m      2\u001b[0m \u001b[1;32mfrom\u001b[0m \u001b[0msklearn\u001b[0m\u001b[1;33m.\u001b[0m\u001b[0mmetrics\u001b[0m \u001b[1;32mimport\u001b[0m \u001b[0mclassification_report\u001b[0m\u001b[1;33m\u001b[0m\u001b[1;33m\u001b[0m\u001b[0m\n\u001b[0;32m      3\u001b[0m \u001b[0mcf_matrix\u001b[0m \u001b[1;33m=\u001b[0m \u001b[0mconfusion_matrix\u001b[0m\u001b[1;33m(\u001b[0m\u001b[0my1\u001b[0m\u001b[1;33m,\u001b[0m\u001b[0mout\u001b[0m\u001b[1;33m)\u001b[0m\u001b[1;33m\u001b[0m\u001b[1;33m\u001b[0m\u001b[0m\n\u001b[1;32m----> 4\u001b[1;33m sns.heatmap(cf_matrix/np.sum(cf_matrix), annot=True, \n\u001b[0m\u001b[0;32m      5\u001b[0m             fmt='.2%', cmap='Blues')\n",
      "\u001b[1;31mNameError\u001b[0m: name 'sns' is not defined"
     ]
    }
   ],
   "source": [
    "from sklearn.metrics import confusion_matrix\n",
    "from sklearn.metrics import classification_report\n",
    "cf_matrix = confusion_matrix(y1,out)\n",
    "sns.heatmap(cf_matrix/np.sum(cf_matrix), annot=True, \n",
    "            fmt='.2%', cmap='Blues')"
   ]
  },
  {
   "cell_type": "code",
   "execution_count": null,
   "id": "dependent-graphic",
   "metadata": {},
   "outputs": [],
   "source": [
    "weight = new_weight.tolist()"
   ]
  },
  {
   "cell_type": "code",
   "execution_count": null,
   "id": "capable-grass",
   "metadata": {},
   "outputs": [],
   "source": [
    "print(weights)\n",
    "print(bias)"
   ]
  },
  {
   "cell_type": "code",
   "execution_count": null,
   "id": "ordinary-optimum",
   "metadata": {},
   "outputs": [],
   "source": [
    "# # def sigmoid_tx(acc,pk,X_input,weight,bias,cont_address,abi):\n",
    "# contract = web3.eth.contract(address=cont_address,abi=abi)\n",
    "# # getting IXWB\n",
    "# nonce = web3.eth.getTransactionCount(account1)\n",
    "# print(type(X_input),type(weight),type(bias))\n",
    "# tx_IXWB = contract.functions.compute_IXWB(X_input,weight,bias\n",
    "#     ).buildTransaction({\n",
    "#     'gas': 100000,\n",
    "#     'gasPrice': web3.toWei('1', 'gwei'),\n",
    "#     'from': account1,\n",
    "#     'nonce': nonce\n",
    "#     }) \n",
    "# signed_txn = web3.eth.account.signTransaction(tx_IXWB, private_key=private_key1)\n",
    "# start_time = time.time()\n",
    "# tx_hash = web3.eth.sendRawTransaction(signed_txn.rawTransaction)\n",
    "# tx_receipt = web3.eth.waitForTransactionReceipt(tx_hash)\n",
    "# end_time = time.time()\n",
    "# print(end_time -start_time)\n",
    "# out_num,out_den = contract.functions.add_print().call()\n",
    "\n",
    "# # getting sigmoid\n",
    "# nonce= web3.eth.getTransactionCount(account1)\n",
    "# tx_sigmoid = contract.functions.compute_sigmoid(\n",
    "#     out_num\n",
    "#      ).buildTransaction({\n",
    "#     'gas': 70000,\n",
    "#     'gasPrice': web3.toWei('1', 'gwei'),\n",
    "#     'from': account1,\n",
    "#     'nonce': nonce\n",
    "#     }) \n",
    "# signed_txn = web3.eth.account.signTransaction(tx_sigmoid, private_key=private_key1)\n",
    "# start_time = time.time()\n",
    "# tx_hash = web3.eth.sendRawTransaction(signed_txn.rawTransaction)\n",
    "# tx_receipt = web3.eth.waitForTransactionReceipt(tx_hash)\n",
    "# end_time = time.time()\n",
    "# print(end_time -start_time)\n",
    "# pred = contract.functions.predict_print().call()\n",
    "# #     return pred"
   ]
  },
  {
   "cell_type": "code",
   "execution_count": null,
   "id": "brazilian-teens",
   "metadata": {},
   "outputs": [],
   "source": [
    "# print (X1, w,b,)\n",
    "# b = b.tolist()\n",
    "nw  = w[:,0].astype(int)\n",
    "nw = nw.tolist()\n",
    "print (X1, nw,b)"
   ]
  },
  {
   "cell_type": "code",
   "execution_count": null,
   "id": "exposed-score",
   "metadata": {},
   "outputs": [],
   "source": [
    "pred =[]\n",
    "IXWB_time=[]\n",
    "sigmoid_time=[]\n",
    "IXWB_gasuse=[]\n",
    "sigmoid_gasuse=[]\n",
    "\n",
    "for i in range(X1.shape[0]):\n",
    "    # getting IXWB\n",
    "    inputs = X1[i].tolist()\n",
    "#     pred.append(sigmoid_tx(account1, private_key1,inputs,weight,bias,cont_address,abi))\n",
    "    contract = web3.eth.contract(address=cont_address,abi=abi)\n",
    "#     print(inputs,nw,b)\n",
    "    nonce = web3.eth.getTransactionCount(account2)\n",
    "#     print(type(inputs),type(nw),type(b))\n",
    "    tx_IXWB = contract.functions.compute_IXWB(\n",
    "        inputs,nw,b\n",
    "        ).buildTransaction({\n",
    "        'gas': 1000000,\n",
    "        'gasPrice': web3.toWei('10', 'gwei'),\n",
    "        'from': account2,\n",
    "        'nonce': nonce\n",
    "        }) \n",
    "    signed_txn = web3.eth.account.signTransaction(tx_IXWB, private_key=private_key2)\n",
    "    start_time = time.time()\n",
    "    tx_hash = web3.eth.sendRawTransaction(signed_txn.rawTransaction)\n",
    "    tx_receipt = web3.eth.waitForTransactionReceipt(tx_hash)\n",
    "    end_time = time.time()\n",
    "    IXWB_time.append(end_time -start_time)\n",
    "    IXWB_gasuse.append(tx_receipt.gasUsed)\n",
    "    out_num,out_den = contract.functions.add_print().call()\n",
    "\n",
    "    # getting sigmoid\n",
    "    nonce= web3.eth.getTransactionCount(account2)\n",
    "    tx_sigmoid = contract.functions.compute_sigmoid(\n",
    "        out_num\n",
    "         ).buildTransaction({\n",
    "        'gas': 1000000,\n",
    "        'gasPrice': web3.toWei('10', 'gwei'),\n",
    "        'from': account2,\n",
    "        'nonce': nonce\n",
    "        }) \n",
    "    signed_txn = web3.eth.account.signTransaction(tx_sigmoid, private_key=private_key2)\n",
    "    start_time = time.time()\n",
    "    tx_hash = web3.eth.sendRawTransaction(signed_txn.rawTransaction)\n",
    "    tx_receipt = web3.eth.waitForTransactionReceipt(tx_hash)\n",
    "    end_time = time.time()\n",
    "    sigmoid_time.append(end_time -start_time)\n",
    "    sigmoid_gasuse.append(tx_receipt.gasUsed)\n",
    "    pred.append(contract.functions.predict_print().call())\n",
    "    inputs.clear()\n",
    "   "
   ]
  },
  {
   "cell_type": "code",
   "execution_count": null,
   "id": "complete-unknown",
   "metadata": {},
   "outputs": [],
   "source": [
    "print(pred)"
   ]
  },
  {
   "cell_type": "code",
   "execution_count": null,
   "id": "decent-dynamics",
   "metadata": {},
   "outputs": [],
   "source": [
    "print(accuracy_score(y1, pred))"
   ]
  },
  {
   "cell_type": "code",
   "execution_count": null,
   "id": "medium-gates",
   "metadata": {},
   "outputs": [],
   "source": [
    "print(sigmoid_time)\n",
    "print(sigmoid_gasuse)"
   ]
  },
  {
   "cell_type": "code",
   "execution_count": null,
   "id": "twelve-greeting",
   "metadata": {},
   "outputs": [],
   "source": [
    "import pandas as pd\n",
    "df = pd.DataFrame(sigmoid_time)\n",
    "df.to_csv(\"testfile\",index=False)\n"
   ]
  },
  {
   "cell_type": "code",
   "execution_count": null,
   "id": "great-engineering",
   "metadata": {},
   "outputs": [],
   "source": [
    "# a = pd.DataFrame(sigmoid_time)\n",
    "# a.to_csv(\"sigmoid_time_ganache.csv\",index=False)\n",
    "# a = pd.DataFrame(sigmoid_gasuse)\n",
    "# a.to_csv(\"sigmoid_gasuse_ganache.csv\",index=False)\n",
    "# a = pd.DataFrame(IXWB_time)\n",
    "# a.to_csv(\"IXWB_time_ganache.csv\",index=False)\n",
    "# a = pd.DataFrame(IXWB_gasuse)\n",
    "# a.to_csv(\"IXWB_gasuse_ganache.csv\",index=False)"
   ]
  },
  {
   "cell_type": "code",
   "execution_count": null,
   "id": "floating-lebanon",
   "metadata": {},
   "outputs": [],
   "source": [
    "from sklearn.metrics import confusion_matrix\n",
    "from sklearn.metrics import classification_report\n",
    "cf_matrix = confusion_matrix(y1,pred)"
   ]
  },
  {
   "cell_type": "code",
   "execution_count": null,
   "id": "simple-carry",
   "metadata": {},
   "outputs": [],
   "source": [
    "import seaborn as sns\n",
    "sns.heatmap(cf_matrix, annot=True)"
   ]
  },
  {
   "cell_type": "code",
   "execution_count": null,
   "id": "sustainable-month",
   "metadata": {},
   "outputs": [],
   "source": [
    "sns.heatmap(cf_matrix/np.sum(cf_matrix), annot=True, \n",
    "            fmt='.2%', cmap='Blues')"
   ]
  },
  {
   "cell_type": "code",
   "execution_count": null,
   "id": "broken-inventory",
   "metadata": {},
   "outputs": [],
   "source": [
    "print(classification_report(y1,pred))"
   ]
  },
  {
   "cell_type": "code",
   "execution_count": null,
   "id": "fossil-involvement",
   "metadata": {},
   "outputs": [],
   "source": []
  }
 ],
 "metadata": {
  "kernelspec": {
   "display_name": "Python 3",
   "language": "python",
   "name": "python3"
  },
  "language_info": {
   "codemirror_mode": {
    "name": "ipython",
    "version": 3
   },
   "file_extension": ".py",
   "mimetype": "text/x-python",
   "name": "python",
   "nbconvert_exporter": "python",
   "pygments_lexer": "ipython3",
   "version": "3.9.2"
  }
 },
 "nbformat": 4,
 "nbformat_minor": 5
}
