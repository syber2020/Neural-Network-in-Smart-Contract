{
 "cells": [
  {
   "cell_type": "code",
   "execution_count": 75,
   "id": "convertible-daily",
   "metadata": {},
   "outputs": [
    {
     "data": {
      "text/plain": [
       "True"
      ]
     },
     "execution_count": 75,
     "metadata": {},
     "output_type": "execute_result"
    }
   ],
   "source": [
    "# starting web3 operations\n",
    "import numpy as np\n",
    "import json\n",
    "from web3 import Web3\n",
    "import time\n",
    "ganache_url = \"HTTP://127.0.0.1:8545\"\n",
    "web3 = Web3(Web3.HTTPProvider(ganache_url))\n",
    "web3.isConnected()"
   ]
  },
  {
   "cell_type": "code",
   "execution_count": 76,
   "id": "usual-madagascar",
   "metadata": {},
   "outputs": [
    {
     "name": "stdout",
     "output_type": "stream",
     "text": [
      "99.992470998\n"
     ]
    }
   ],
   "source": [
    "# Basic web3 \n",
    "block = web3.eth.get_block('latest')\n",
    "balance_1 = web3.eth.getBalance(\"0x37bfB436392DaAE0E91EdcD9c4128FBcADF3919d\")\n",
    "print(web3.fromWei(balance_1,'ether'))"
   ]
  },
  {
   "cell_type": "code",
   "execution_count": 77,
   "id": "insured-broadcasting",
   "metadata": {},
   "outputs": [],
   "source": [
    "abi = json.loads('[{ \"inputs\": [], \"name\": \"add_print\", \"outputs\": [ { \"internalType\": \"int256\", \"name\": \"x\", \"type\": \"int256\" }, { \"internalType\": \"int256\", \"name\": \"y\", \"type\": \"int256\" } ], \"stateMutability\": \"view\", \"type\": \"function\" }, { \"inputs\": [ { \"internalType\": \"int256[]\", \"name\": \"input\", \"type\": \"int256[]\" }, { \"internalType\": \"int256[]\", \"name\": \"w\", \"type\": \"int256[]\" }, { \"internalType\": \"int256[]\", \"name\": \"b\", \"type\": \"int256[]\" } ], \"name\": \"compute_IXWB\", \"outputs\": [], \"stateMutability\": \"nonpayable\", \"type\": \"function\" }, { \"inputs\": [ { \"internalType\": \"int256\", \"name\": \"a\", \"type\": \"int256\" }, { \"internalType\": \"int256\", \"name\": \"b\", \"type\": \"int256\" }, { \"internalType\": \"int256\", \"name\": \"c\", \"type\": \"int256\" }, { \"internalType\": \"int256\", \"name\": \"d\", \"type\": \"int256\" } ], \"name\": \"compute_addition\", \"outputs\": [], \"stateMutability\": \"nonpayable\", \"type\": \"function\" }, { \"inputs\": [ { \"internalType\": \"int256\", \"name\": \"x\", \"type\": \"int256\" }, { \"internalType\": \"int256\", \"name\": \"y\", \"type\": \"int256\" } ], \"name\": \"compute_lcm\", \"outputs\": [], \"stateMutability\": \"nonpayable\", \"type\": \"function\" }, { \"inputs\": [ { \"internalType\": \"int256\", \"name\": \"d\", \"type\": \"int256\" } ], \"name\": \"compute_sigmoid\", \"outputs\": [], \"stateMutability\": \"nonpayable\", \"type\": \"function\" }, { \"inputs\": [], \"name\": \"lcm_print\", \"outputs\": [ { \"internalType\": \"int256\", \"name\": \"\", \"type\": \"int256\" } ], \"stateMutability\": \"view\", \"type\": \"function\" }, { \"inputs\": [], \"name\": \"predict_print\", \"outputs\": [ { \"internalType\": \"int256\", \"name\": \"\", \"type\": \"int256\" } ], \"stateMutability\": \"view\", \"type\": \"function\" }]')\n",
    "cont_address = \"0x824c0dd9D4Ddc38AbE39c8C4D37643c5500A8b49\""
   ]
  },
  {
   "cell_type": "code",
   "execution_count": 78,
   "id": "robust-herald",
   "metadata": {},
   "outputs": [],
   "source": [
    "contract = web3.eth.contract(address=cont_address,abi=abi)"
   ]
  },
  {
   "cell_type": "code",
   "execution_count": 79,
   "id": "palestinian-transmission",
   "metadata": {},
   "outputs": [],
   "source": [
    "account1 = \"0x37bfB436392DaAE0E91EdcD9c4128FBcADF3919d\"\n",
    "private_key1 = \"e72044de2331844a3c0232dc23d43fb8ca4f555854b4da07e2fb530d003e5e2d\"\n",
    "account2 = \"0xfbD8f1F5878b0b5b3E627e7cc14617b05B582867\"\n",
    "private_key2=\"56c8f569b23a423f9d66d46f86f7ada7ba0d28dfba03c34f661bb15358b042bb\""
   ]
  },
  {
   "cell_type": "code",
   "execution_count": 80,
   "id": "velvet-burton",
   "metadata": {},
   "outputs": [],
   "source": [
    "# callfunction = contract.function.callfunction().call()\n",
    "#print(web3.utils.fromWei(callfunction,'ether'))"
   ]
  },
  {
   "cell_type": "markdown",
   "id": "roman-sound",
   "metadata": {},
   "source": [
    "### Sending Ether between accounts"
   ]
  },
  {
   "cell_type": "code",
   "execution_count": 81,
   "id": "painful-bronze",
   "metadata": {},
   "outputs": [],
   "source": [
    "# # get the nonce\n",
    "# nonce = web3.eth.getTransactionCount(account1)\n",
    "# # build the transaction\n",
    "# tx = {\n",
    "#     'nonce': nonce,\n",
    "#     'to': account2,\n",
    "#     'value':web3.toWei(1,'ether'),\n",
    "#     'gas':2000000,      #for miners to mine transactions\n",
    "#     'gasPrice': web3.toWei('50','gwei') \n",
    "# }\n",
    "# # sign the transaction\n",
    "# signed_tx = web3.eth.account.signTransaction(tx,private_key1)\n",
    "\n",
    "# # send the transaction\n",
    "# tx_hash = web3.eth.sendRawTransaction(signed_tx.rawTransaction)\n",
    "\n"
   ]
  },
  {
   "cell_type": "code",
   "execution_count": 82,
   "id": "norwegian-stability",
   "metadata": {},
   "outputs": [],
   "source": [
    "# # get transaction hash\n",
    "# print(web3.toHex(tx_hash))"
   ]
  },
  {
   "cell_type": "code",
   "execution_count": 83,
   "id": "recognized-tuition",
   "metadata": {},
   "outputs": [],
   "source": [
    "nonce = web3.eth.getTransactionCount(account1)"
   ]
  },
  {
   "cell_type": "code",
   "execution_count": 84,
   "id": "realistic-branch",
   "metadata": {},
   "outputs": [
    {
     "name": "stdout",
     "output_type": "stream",
     "text": [
      "0.1357100009918213\n"
     ]
    }
   ],
   "source": [
    "a =15\n",
    "b = 30\n",
    "tx_lcm = contract.functions.compute_lcm(\n",
    "    a,b\n",
    "     ).buildTransaction({\n",
    "    'gas': 70000,\n",
    "    'gasPrice': web3.toWei('1', 'gwei'),\n",
    "    'from': account1,\n",
    "    'nonce': nonce\n",
    "    })\n",
    "\n",
    "signed_txn = web3.eth.account.signTransaction(tx_lcm, private_key=private_key1)\n",
    "start_time = time.time()\n",
    "tx_hash = web3.eth.sendRawTransaction(signed_txn.rawTransaction)\n",
    "tx_receipt = web3.eth.waitForTransactionReceipt(tx_hash)\n",
    "end_time = time.time()\n",
    "print(end_time -start_time)"
   ]
  },
  {
   "cell_type": "code",
   "execution_count": 85,
   "id": "quarterly-binary",
   "metadata": {},
   "outputs": [
    {
     "data": {
      "text/plain": [
       "30"
      ]
     },
     "execution_count": 85,
     "metadata": {},
     "output_type": "execute_result"
    }
   ],
   "source": [
    "lcm = contract.functions.lcm_print().call()\n",
    "lcm"
   ]
  },
  {
   "cell_type": "code",
   "execution_count": 86,
   "id": "virgin-founder",
   "metadata": {},
   "outputs": [
    {
     "name": "stdout",
     "output_type": "stream",
     "text": [
      "22628\n"
     ]
    }
   ],
   "source": [
    "print(tx_receipt.gasUsed)"
   ]
  },
  {
   "cell_type": "code",
   "execution_count": 87,
   "id": "operating-western",
   "metadata": {},
   "outputs": [
    {
     "name": "stdout",
     "output_type": "stream",
     "text": [
      "0.10251522064208984\n"
     ]
    }
   ],
   "source": [
    "a =15\n",
    "b = 30\n",
    "c = 28\n",
    "d = 30\n",
    "nonce = web3.eth.getTransactionCount(account1)\n",
    "tx_add = contract.functions.compute_addition(\n",
    "    a,b,c,d\n",
    "     ).buildTransaction({\n",
    "    'gas': 70000,\n",
    "    'gasPrice': web3.toWei('1', 'gwei'),\n",
    "    'from': account1,\n",
    "    'nonce': nonce\n",
    "    }) \n",
    "signed_txn = web3.eth.account.signTransaction(tx_add, private_key=private_key1)\n",
    "start_time = time.time()\n",
    "tx_hash = web3.eth.sendRawTransaction(signed_txn.rawTransaction)\n",
    "tx_receipt = web3.eth.waitForTransactionReceipt(tx_hash)\n",
    "end_time = time.time()\n",
    "print(end_time -start_time)"
   ]
  },
  {
   "cell_type": "code",
   "execution_count": 88,
   "id": "retained-parking",
   "metadata": {},
   "outputs": [
    {
     "name": "stdout",
     "output_type": "stream",
     "text": [
      "27144\n"
     ]
    }
   ],
   "source": [
    "add = contract.functions.add_print().call()\n",
    "add\n",
    "print(tx_receipt.gasUsed)"
   ]
  },
  {
   "cell_type": "code",
   "execution_count": 89,
   "id": "downtown-cooperation",
   "metadata": {},
   "outputs": [
    {
     "name": "stdout",
     "output_type": "stream",
     "text": [
      "27144\n"
     ]
    }
   ],
   "source": [
    "add = contract.functions.add_print().call()\n",
    "add\n",
    "print(tx_receipt.gasUsed)"
   ]
  },
  {
   "cell_type": "code",
   "execution_count": 96,
   "id": "pregnant-prescription",
   "metadata": {},
   "outputs": [],
   "source": [
    "inputs =np.array([1,2,3,4,5])\n",
    "weight =np.array([1.0,2.0,30.0,4.0,5.0])\n",
    "bias=np.array([1,2])"
   ]
  },
  {
   "cell_type": "code",
   "execution_count": 97,
   "id": "mounted-adams",
   "metadata": {},
   "outputs": [],
   "source": [
    "inputs=inputs.tolist()\n",
    "weight = weight.tolist()\n",
    "bias = bias.tolist()"
   ]
  },
  {
   "cell_type": "code",
   "execution_count": 98,
   "id": "complicated-picnic",
   "metadata": {},
   "outputs": [
    {
     "name": "stdout",
     "output_type": "stream",
     "text": [
      "[1, 2, 3, 4, 5]\n",
      "[1.0, 2.0, 30.0, 4.0, 5.0]\n",
      "[1, 2]\n"
     ]
    }
   ],
   "source": [
    "print(inputs)\n",
    "print(weight)\n",
    "print(bias)"
   ]
  },
  {
   "cell_type": "code",
   "execution_count": 99,
   "id": "blessed-amendment",
   "metadata": {},
   "outputs": [
    {
     "name": "stdout",
     "output_type": "stream",
     "text": [
      "<class 'list'> <class 'list'> <class 'list'>\n"
     ]
    },
    {
     "ename": "ValidationError",
     "evalue": "\nCould not identify the intended function with name `compute_IXWB`, positional argument(s) of type `(<class 'list'>, <class 'list'>, <class 'list'>)` and keyword argument(s) of type `{}`.\nFound 1 function(s) with the name `compute_IXWB`: ['compute_IXWB(int256[],int256[],int256[])']\nFunction invocation failed due to no matching argument types.",
     "output_type": "error",
     "traceback": [
      "\u001b[1;31m---------------------------------------------------------------------------\u001b[0m",
      "\u001b[1;31mValidationError\u001b[0m                           Traceback (most recent call last)",
      "\u001b[1;32m<ipython-input-99-b8456c0e3c73>\u001b[0m in \u001b[0;36m<module>\u001b[1;34m\u001b[0m\n\u001b[0;32m      6\u001b[0m \u001b[0mnonce\u001b[0m \u001b[1;33m=\u001b[0m \u001b[0mweb3\u001b[0m\u001b[1;33m.\u001b[0m\u001b[0meth\u001b[0m\u001b[1;33m.\u001b[0m\u001b[0mgetTransactionCount\u001b[0m\u001b[1;33m(\u001b[0m\u001b[0maccount1\u001b[0m\u001b[1;33m)\u001b[0m\u001b[1;33m\u001b[0m\u001b[1;33m\u001b[0m\u001b[0m\n\u001b[0;32m      7\u001b[0m \u001b[0mprint\u001b[0m\u001b[1;33m(\u001b[0m\u001b[0mtype\u001b[0m\u001b[1;33m(\u001b[0m\u001b[0minputs\u001b[0m\u001b[1;33m)\u001b[0m\u001b[1;33m,\u001b[0m\u001b[0mtype\u001b[0m\u001b[1;33m(\u001b[0m\u001b[0mweight\u001b[0m\u001b[1;33m)\u001b[0m\u001b[1;33m,\u001b[0m\u001b[0mtype\u001b[0m\u001b[1;33m(\u001b[0m\u001b[0mbias\u001b[0m\u001b[1;33m)\u001b[0m\u001b[1;33m)\u001b[0m\u001b[1;33m\u001b[0m\u001b[1;33m\u001b[0m\u001b[0m\n\u001b[1;32m----> 8\u001b[1;33m tx_IXWB = contract.functions.compute_IXWB(\n\u001b[0m\u001b[0;32m      9\u001b[0m     \u001b[0minputs\u001b[0m\u001b[1;33m,\u001b[0m\u001b[0mweight\u001b[0m\u001b[1;33m,\u001b[0m\u001b[0mbias\u001b[0m\u001b[1;33m\u001b[0m\u001b[1;33m\u001b[0m\u001b[0m\n\u001b[0;32m     10\u001b[0m      ).buildTransaction({\n",
      "\u001b[1;32mc:\\users\\syed\\appdata\\local\\programs\\python\\python39\\lib\\site-packages\\web3\\contract.py\u001b[0m in \u001b[0;36m__call__\u001b[1;34m(self, *args, **kwargs)\u001b[0m\n\u001b[0;32m    874\u001b[0m         \u001b[1;32melse\u001b[0m\u001b[1;33m:\u001b[0m\u001b[1;33m\u001b[0m\u001b[1;33m\u001b[0m\u001b[0m\n\u001b[0;32m    875\u001b[0m             \u001b[0mclone\u001b[0m\u001b[1;33m.\u001b[0m\u001b[0mkwargs\u001b[0m \u001b[1;33m=\u001b[0m \u001b[0mkwargs\u001b[0m\u001b[1;33m\u001b[0m\u001b[1;33m\u001b[0m\u001b[0m\n\u001b[1;32m--> 876\u001b[1;33m         \u001b[0mclone\u001b[0m\u001b[1;33m.\u001b[0m\u001b[0m_set_function_info\u001b[0m\u001b[1;33m(\u001b[0m\u001b[1;33m)\u001b[0m\u001b[1;33m\u001b[0m\u001b[1;33m\u001b[0m\u001b[0m\n\u001b[0m\u001b[0;32m    877\u001b[0m         \u001b[1;32mreturn\u001b[0m \u001b[0mclone\u001b[0m\u001b[1;33m\u001b[0m\u001b[1;33m\u001b[0m\u001b[0m\n\u001b[0;32m    878\u001b[0m \u001b[1;33m\u001b[0m\u001b[0m\n",
      "\u001b[1;32mc:\\users\\syed\\appdata\\local\\programs\\python\\python39\\lib\\site-packages\\web3\\contract.py\u001b[0m in \u001b[0;36m_set_function_info\u001b[1;34m(self)\u001b[0m\n\u001b[0;32m    879\u001b[0m     \u001b[1;32mdef\u001b[0m \u001b[0m_set_function_info\u001b[0m\u001b[1;33m(\u001b[0m\u001b[0mself\u001b[0m\u001b[1;33m)\u001b[0m \u001b[1;33m->\u001b[0m \u001b[1;32mNone\u001b[0m\u001b[1;33m:\u001b[0m\u001b[1;33m\u001b[0m\u001b[1;33m\u001b[0m\u001b[0m\n\u001b[0;32m    880\u001b[0m         \u001b[1;32mif\u001b[0m \u001b[1;32mnot\u001b[0m \u001b[0mself\u001b[0m\u001b[1;33m.\u001b[0m\u001b[0mabi\u001b[0m\u001b[1;33m:\u001b[0m\u001b[1;33m\u001b[0m\u001b[1;33m\u001b[0m\u001b[0m\n\u001b[1;32m--> 881\u001b[1;33m             self.abi = find_matching_fn_abi(\n\u001b[0m\u001b[0;32m    882\u001b[0m                 \u001b[0mself\u001b[0m\u001b[1;33m.\u001b[0m\u001b[0mcontract_abi\u001b[0m\u001b[1;33m,\u001b[0m\u001b[1;33m\u001b[0m\u001b[1;33m\u001b[0m\u001b[0m\n\u001b[0;32m    883\u001b[0m                 \u001b[0mself\u001b[0m\u001b[1;33m.\u001b[0m\u001b[0mweb3\u001b[0m\u001b[1;33m.\u001b[0m\u001b[0mcodec\u001b[0m\u001b[1;33m,\u001b[0m\u001b[1;33m\u001b[0m\u001b[1;33m\u001b[0m\u001b[0m\n",
      "\u001b[1;32mc:\\users\\syed\\appdata\\local\\programs\\python\\python39\\lib\\site-packages\\web3\\_utils\\contracts.py\u001b[0m in \u001b[0;36mfind_matching_fn_abi\u001b[1;34m(abi, abi_codec, fn_identifier, args, kwargs)\u001b[0m\n\u001b[0;32m    161\u001b[0m         )\n\u001b[0;32m    162\u001b[0m \u001b[1;33m\u001b[0m\u001b[0m\n\u001b[1;32m--> 163\u001b[1;33m         \u001b[1;32mraise\u001b[0m \u001b[0mValidationError\u001b[0m\u001b[1;33m(\u001b[0m\u001b[0mmessage\u001b[0m\u001b[1;33m)\u001b[0m\u001b[1;33m\u001b[0m\u001b[1;33m\u001b[0m\u001b[0m\n\u001b[0m\u001b[0;32m    164\u001b[0m \u001b[1;33m\u001b[0m\u001b[0m\n\u001b[0;32m    165\u001b[0m \u001b[1;33m\u001b[0m\u001b[0m\n",
      "\u001b[1;31mValidationError\u001b[0m: \nCould not identify the intended function with name `compute_IXWB`, positional argument(s) of type `(<class 'list'>, <class 'list'>, <class 'list'>)` and keyword argument(s) of type `{}`.\nFound 1 function(s) with the name `compute_IXWB`: ['compute_IXWB(int256[],int256[],int256[])']\nFunction invocation failed due to no matching argument types."
     ]
    }
   ],
   "source": [
    "# inputs =[1,2,3,4,5]\n",
    "# weight =[1,2,3,4,5]\n",
    "# bias=[1,2]\n",
    "# def sigmoid_tx(acc, pk,I,X,W,B):\n",
    "#     # getting IXWB\n",
    "nonce = web3.eth.getTransactionCount(account1)\n",
    "print(type(inputs),type(weight),type(bias))\n",
    "tx_IXWB = contract.functions.compute_IXWB(\n",
    "    inputs,weight,bias\n",
    "     ).buildTransaction({\n",
    "    'gas': 100000,\n",
    "    'gasPrice': web3.toWei('1', 'gwei'),\n",
    "    'from': account1,\n",
    "    'nonce': nonce\n",
    "    }) \n",
    "signed_txn = web3.eth.account.signTransaction(tx_IXWB, private_key=private_key1)\n",
    "start_time = time.time()\n",
    "tx_hash = web3.eth.sendRawTransaction(signed_txn.rawTransaction)\n",
    "tx_receipt = web3.eth.waitForTransactionReceipt(tx_hash)\n",
    "end_time = time.time()\n",
    "print(end_time -start_time)\n",
    "out_num,out_den = contract.functions.add_print().call()\n",
    "\n"
   ]
  },
  {
   "cell_type": "code",
   "execution_count": 93,
   "id": "immune-satellite",
   "metadata": {},
   "outputs": [
    {
     "name": "stdout",
     "output_type": "stream",
     "text": [
      "0.12106585502624512\n"
     ]
    }
   ],
   "source": [
    "# getting sigmoid\n",
    "out_num =-100\n",
    "nonce= web3.eth.getTransactionCount(account1)\n",
    "tx_sigmoid = contract.functions.compute_sigmoid(\n",
    "    out_num\n",
    "     ).buildTransaction({\n",
    "    'gas': 70000,\n",
    "    'gasPrice': web3.toWei('1', 'gwei'),\n",
    "    'from': account1,\n",
    "    'nonce': nonce\n",
    "    }) \n",
    "signed_txn = web3.eth.account.signTransaction(tx_sigmoid, private_key=private_key1)\n",
    "start_time = time.time()\n",
    "tx_hash = web3.eth.sendRawTransaction(signed_txn.rawTransaction)\n",
    "tx_receipt = web3.eth.waitForTransactionReceipt(tx_hash)\n",
    "end_time = time.time()\n",
    "print(end_time -start_time)\n",
    "pred = contract.functions.predict_print().call()"
   ]
  },
  {
   "cell_type": "code",
   "execution_count": 94,
   "id": "elegant-andrews",
   "metadata": {},
   "outputs": [
    {
     "name": "stdout",
     "output_type": "stream",
     "text": [
      "<class 'list'> <class 'list'> <class 'list'>\n"
     ]
    }
   ],
   "source": [
    "print(type(inputs),type(weight),type(bias))"
   ]
  },
  {
   "cell_type": "code",
   "execution_count": null,
   "id": "tribal-graham",
   "metadata": {},
   "outputs": [],
   "source": []
  }
 ],
 "metadata": {
  "kernelspec": {
   "display_name": "Python 3",
   "language": "python",
   "name": "python3"
  },
  "language_info": {
   "codemirror_mode": {
    "name": "ipython",
    "version": 3
   },
   "file_extension": ".py",
   "mimetype": "text/x-python",
   "name": "python",
   "nbconvert_exporter": "python",
   "pygments_lexer": "ipython3",
   "version": "3.9.2"
  }
 },
 "nbformat": 4,
 "nbformat_minor": 5
}
