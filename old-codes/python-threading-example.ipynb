{
 "cells": [
  {
   "cell_type": "code",
   "execution_count": 10,
   "id": "indie-gallery",
   "metadata": {},
   "outputs": [
    {
     "name": "stdout",
     "output_type": "stream",
     "text": [
      "Calculate square numbers: \n",
      "Calculate cube numbers: \n",
      "square:  4\n",
      "cube:  8\n",
      "square:  9\n",
      "cube:  27\n",
      "square:  64\n",
      "cube:  512\n",
      "square:  81\n",
      "cube:  729\n",
      "Successes!\n"
     ]
    }
   ],
   "source": [
    "import time\n",
    "import threading\n",
    "\n",
    "\n",
    "def calc_square(numbers):\n",
    "    print(\"Calculate square numbers: \")\n",
    "    for i in numbers:\n",
    "        time.sleep(2)  # artificial time-delay\n",
    "        print('square: ', str(i * i))\n",
    "\n",
    "\n",
    "def calc_cube(numbers):\n",
    "    print(\"Calculate cube numbers: \")\n",
    "    for i in numbers:\n",
    "        time.sleep(2)\n",
    "        print('cube: ', str(i * i * i))\n",
    "\n",
    "\n",
    "if __name__ == \"__main__\":\n",
    "    arr = [2, 3, 8, 9]\n",
    "    t1 = threading.Thread(target=calc_square, args=(arr,))\n",
    "    t2 = threading.Thread(target=calc_cube, args=(arr,))\n",
    "    # creating two threads here t1 & t2\n",
    "    t1.start()\n",
    "    t2.start()\n",
    "    # starting threads here parallel by using start function.\n",
    "    t1.join()\n",
    "    # this join() will wait until the cal_square() function is finished.\n",
    "    t2.join()\n",
    "    # this join() will wait unit the cal_cube() function is finished.\n",
    "    print(\"Successes!\")"
   ]
  },
  {
   "cell_type": "code",
   "execution_count": null,
   "id": "italic-empire",
   "metadata": {},
   "outputs": [],
   "source": []
  }
 ],
 "metadata": {
  "kernelspec": {
   "display_name": "Python 3",
   "language": "python",
   "name": "python3"
  },
  "language_info": {
   "codemirror_mode": {
    "name": "ipython",
    "version": 3
   },
   "file_extension": ".py",
   "mimetype": "text/x-python",
   "name": "python",
   "nbconvert_exporter": "python",
   "pygments_lexer": "ipython3",
   "version": "3.9.2"
  }
 },
 "nbformat": 4,
 "nbformat_minor": 5
}
