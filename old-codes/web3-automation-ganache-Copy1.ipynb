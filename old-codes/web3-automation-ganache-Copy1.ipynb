{
 "cells": [
  {
   "cell_type": "code",
   "execution_count": 6,
   "id": "convertible-daily",
   "metadata": {},
   "outputs": [
    {
     "data": {
      "text/plain": [
       "True"
      ]
     },
     "execution_count": 6,
     "metadata": {},
     "output_type": "execute_result"
    }
   ],
   "source": [
    "# starting web3 operations\n",
    "import numpy as np\n",
    "import json\n",
    "from web3 import Web3\n",
    "import time\n",
    "# ganache_url = \"HTTP://127.0.0.1:8545\"\n",
    "ropsten_url =\"https://ropsten.infura.io/v3/69facb650fb74935abcc5f574e93fd8c\"\n",
    "# web3 = Web3(Web3.HTTPProvider(ganache_url))\n",
    "web3 = Web3(Web3.HTTPProvider(ropsten_url))\n",
    "web3.isConnected()"
   ]
  },
  {
   "cell_type": "code",
   "execution_count": 8,
   "id": "insured-broadcasting",
   "metadata": {},
   "outputs": [],
   "source": [
    "abi = json.loads('[{ \"inputs\": [], \"name\": \"add_print\", \"outputs\": [ { \"internalType\": \"int256\", \"name\": \"x\", \"type\": \"int256\" }, { \"internalType\": \"int256\", \"name\": \"y\", \"type\": \"int256\" } ], \"stateMutability\": \"view\", \"type\": \"function\" }, { \"inputs\": [ { \"internalType\": \"int256[]\", \"name\": \"input\", \"type\": \"int256[]\" }, { \"internalType\": \"int256[]\", \"name\": \"w\", \"type\": \"int256[]\" }, { \"internalType\": \"int256[]\", \"name\": \"b\", \"type\": \"int256[]\" } ], \"name\": \"compute_IXWB\", \"outputs\": [], \"stateMutability\": \"nonpayable\", \"type\": \"function\" }, { \"inputs\": [ { \"internalType\": \"int256\", \"name\": \"a\", \"type\": \"int256\" }, { \"internalType\": \"int256\", \"name\": \"b\", \"type\": \"int256\" }, { \"internalType\": \"int256\", \"name\": \"c\", \"type\": \"int256\" }, { \"internalType\": \"int256\", \"name\": \"d\", \"type\": \"int256\" } ], \"name\": \"compute_addition\", \"outputs\": [], \"stateMutability\": \"nonpayable\", \"type\": \"function\" }, { \"inputs\": [ { \"internalType\": \"int256\", \"name\": \"x\", \"type\": \"int256\" }, { \"internalType\": \"int256\", \"name\": \"y\", \"type\": \"int256\" } ], \"name\": \"compute_lcm\", \"outputs\": [], \"stateMutability\": \"nonpayable\", \"type\": \"function\" }, { \"inputs\": [ { \"internalType\": \"int256\", \"name\": \"d\", \"type\": \"int256\" } ], \"name\": \"compute_sigmoid\", \"outputs\": [], \"stateMutability\": \"nonpayable\", \"type\": \"function\" }, { \"inputs\": [], \"name\": \"lcm_print\", \"outputs\": [ { \"internalType\": \"int256\", \"name\": \"\", \"type\": \"int256\" } ], \"stateMutability\": \"view\", \"type\": \"function\" }, { \"inputs\": [], \"name\": \"predict_print\", \"outputs\": [ { \"internalType\": \"int256\", \"name\": \"\", \"type\": \"int256\" } ], \"stateMutability\": \"view\", \"type\": \"function\" }]')\n",
    "# cont_address = \"0x824c0dd9D4Ddc38AbE39c8C4D37643c5500A8b49\"\n",
    "cont_address= \"0x230f5b534FD6bDcD1082918Ff4170F875BAA6B76\""
   ]
  },
  {
   "cell_type": "code",
   "execution_count": 9,
   "id": "robust-herald",
   "metadata": {},
   "outputs": [],
   "source": [
    "contract = web3.eth.contract(address=cont_address,abi=abi)"
   ]
  },
  {
   "cell_type": "code",
   "execution_count": 10,
   "id": "palestinian-transmission",
   "metadata": {},
   "outputs": [],
   "source": [
    "account1 = \"< account address>\"\n",
    "private_key1 = \"account private key\"\n",
    "account2 = \"account address\"\"\n",
    "private_key2=\"account private key\""
   ]
  },
  {
   "cell_type": "code",
   "execution_count": 11,
   "id": "velvet-burton",
   "metadata": {},
   "outputs": [],
   "source": [
    "# callfunction = contract.function.callfunction().call()\n",
    "#print(web3.utils.fromWei(callfunction,'ether'))"
   ]
  },
  {
   "cell_type": "markdown",
   "id": "roman-sound",
   "metadata": {},
   "source": [
    "### Sending Ether between accounts"
   ]
  },
  {
   "cell_type": "code",
   "execution_count": 12,
   "id": "painful-bronze",
   "metadata": {},
   "outputs": [],
   "source": [
    "# # get the nonce\n",
    "# nonce = web3.eth.getTransactionCount(account1)\n",
    "# # build the transaction\n",
    "# tx = {\n",
    "#     'nonce': nonce,\n",
    "#     'to': account2,\n",
    "#     'value':web3.toWei(1,'ether'),\n",
    "#     'gas':2000000,      #for miners to mine transactions\n",
    "#     'gasPrice': web3.toWei('50','gwei') \n",
    "# }\n",
    "# # sign the transaction\n",
    "# signed_tx = web3.eth.account.signTransaction(tx,private_key1)\n",
    "\n",
    "# # send the transaction\n",
    "# tx_hash = web3.eth.sendRawTransaction(signed_tx.rawTransaction)\n",
    "\n"
   ]
  },
  {
   "cell_type": "code",
   "execution_count": 13,
   "id": "norwegian-stability",
   "metadata": {},
   "outputs": [],
   "source": [
    "# # get transaction hash\n",
    "# print(web3.toHex(tx_hash))"
   ]
  },
  {
   "cell_type": "code",
   "execution_count": 14,
   "id": "recognized-tuition",
   "metadata": {},
   "outputs": [],
   "source": [
    "nonce = web3.eth.getTransactionCount(account1)"
   ]
  },
  {
   "cell_type": "code",
   "execution_count": 15,
   "id": "realistic-branch",
   "metadata": {},
   "outputs": [
    {
     "ename": "KeyboardInterrupt",
     "evalue": "",
     "output_type": "error",
     "traceback": [
      "\u001b[1;31m---------------------------------------------------------------------------\u001b[0m",
      "\u001b[1;31mKeyboardInterrupt\u001b[0m                         Traceback (most recent call last)",
      "\u001b[1;32m<ipython-input-15-032cc54bdc79>\u001b[0m in \u001b[0;36m<module>\u001b[1;34m\u001b[0m\n\u001b[0;32m     13\u001b[0m \u001b[0mstart_time\u001b[0m \u001b[1;33m=\u001b[0m \u001b[0mtime\u001b[0m\u001b[1;33m.\u001b[0m\u001b[0mtime\u001b[0m\u001b[1;33m(\u001b[0m\u001b[1;33m)\u001b[0m\u001b[1;33m\u001b[0m\u001b[1;33m\u001b[0m\u001b[0m\n\u001b[0;32m     14\u001b[0m \u001b[0mtx_hash\u001b[0m \u001b[1;33m=\u001b[0m \u001b[0mweb3\u001b[0m\u001b[1;33m.\u001b[0m\u001b[0meth\u001b[0m\u001b[1;33m.\u001b[0m\u001b[0msendRawTransaction\u001b[0m\u001b[1;33m(\u001b[0m\u001b[0msigned_txn\u001b[0m\u001b[1;33m.\u001b[0m\u001b[0mrawTransaction\u001b[0m\u001b[1;33m)\u001b[0m\u001b[1;33m\u001b[0m\u001b[1;33m\u001b[0m\u001b[0m\n\u001b[1;32m---> 15\u001b[1;33m \u001b[0mtx_receipt\u001b[0m \u001b[1;33m=\u001b[0m \u001b[0mweb3\u001b[0m\u001b[1;33m.\u001b[0m\u001b[0meth\u001b[0m\u001b[1;33m.\u001b[0m\u001b[0mwaitForTransactionReceipt\u001b[0m\u001b[1;33m(\u001b[0m\u001b[0mtx_hash\u001b[0m\u001b[1;33m)\u001b[0m\u001b[1;33m\u001b[0m\u001b[1;33m\u001b[0m\u001b[0m\n\u001b[0m\u001b[0;32m     16\u001b[0m \u001b[0mend_time\u001b[0m \u001b[1;33m=\u001b[0m \u001b[0mtime\u001b[0m\u001b[1;33m.\u001b[0m\u001b[0mtime\u001b[0m\u001b[1;33m(\u001b[0m\u001b[1;33m)\u001b[0m\u001b[1;33m\u001b[0m\u001b[1;33m\u001b[0m\u001b[0m\n\u001b[0;32m     17\u001b[0m \u001b[0mprint\u001b[0m\u001b[1;33m(\u001b[0m\u001b[0mend_time\u001b[0m \u001b[1;33m-\u001b[0m\u001b[0mstart_time\u001b[0m\u001b[1;33m)\u001b[0m\u001b[1;33m\u001b[0m\u001b[1;33m\u001b[0m\u001b[0m\n",
      "\u001b[1;32mc:\\users\\syed\\appdata\\local\\programs\\python\\python39\\lib\\site-packages\\web3\\_utils\\decorators.py\u001b[0m in \u001b[0;36mwrapper\u001b[1;34m(*args, **kwargs)\u001b[0m\n\u001b[0;32m     49\u001b[0m                 \u001b[1;34mf\"{to_wrap.__name__} is deprecated in favor of {replace_message}\"\u001b[0m\u001b[1;33m,\u001b[0m\u001b[1;33m\u001b[0m\u001b[1;33m\u001b[0m\u001b[0m\n\u001b[0;32m     50\u001b[0m                 category=DeprecationWarning)\n\u001b[1;32m---> 51\u001b[1;33m             \u001b[1;32mreturn\u001b[0m \u001b[0mto_wrap\u001b[0m\u001b[1;33m(\u001b[0m\u001b[1;33m*\u001b[0m\u001b[0margs\u001b[0m\u001b[1;33m,\u001b[0m \u001b[1;33m**\u001b[0m\u001b[0mkwargs\u001b[0m\u001b[1;33m)\u001b[0m\u001b[1;33m\u001b[0m\u001b[1;33m\u001b[0m\u001b[0m\n\u001b[0m\u001b[0;32m     52\u001b[0m         \u001b[1;32mreturn\u001b[0m \u001b[0mcast\u001b[0m\u001b[1;33m(\u001b[0m\u001b[0mTFunc\u001b[0m\u001b[1;33m,\u001b[0m \u001b[0mwrapper\u001b[0m\u001b[1;33m)\u001b[0m\u001b[1;33m\u001b[0m\u001b[1;33m\u001b[0m\u001b[0m\n\u001b[0;32m     53\u001b[0m     \u001b[1;32mreturn\u001b[0m \u001b[0mdecorator\u001b[0m\u001b[1;33m\u001b[0m\u001b[1;33m\u001b[0m\u001b[0m\n",
      "\u001b[1;32mc:\\users\\syed\\appdata\\local\\programs\\python\\python39\\lib\\site-packages\\web3\\eth.py\u001b[0m in \u001b[0;36mwaitForTransactionReceipt\u001b[1;34m(self, transaction_hash, timeout, poll_latency)\u001b[0m\n\u001b[0;32m    633\u001b[0m         \u001b[0mself\u001b[0m\u001b[1;33m,\u001b[0m \u001b[0mtransaction_hash\u001b[0m\u001b[1;33m:\u001b[0m \u001b[0m_Hash32\u001b[0m\u001b[1;33m,\u001b[0m \u001b[0mtimeout\u001b[0m\u001b[1;33m:\u001b[0m \u001b[0mint\u001b[0m \u001b[1;33m=\u001b[0m \u001b[1;36m120\u001b[0m\u001b[1;33m,\u001b[0m \u001b[0mpoll_latency\u001b[0m\u001b[1;33m:\u001b[0m \u001b[0mfloat\u001b[0m \u001b[1;33m=\u001b[0m \u001b[1;36m0.1\u001b[0m\u001b[1;33m\u001b[0m\u001b[1;33m\u001b[0m\u001b[0m\n\u001b[0;32m    634\u001b[0m     ) -> TxReceipt:\n\u001b[1;32m--> 635\u001b[1;33m         \u001b[1;32mreturn\u001b[0m \u001b[0mself\u001b[0m\u001b[1;33m.\u001b[0m\u001b[0mwait_for_transaction_receipt\u001b[0m\u001b[1;33m(\u001b[0m\u001b[0mtransaction_hash\u001b[0m\u001b[1;33m,\u001b[0m \u001b[0mtimeout\u001b[0m\u001b[1;33m,\u001b[0m \u001b[0mpoll_latency\u001b[0m\u001b[1;33m)\u001b[0m\u001b[1;33m\u001b[0m\u001b[1;33m\u001b[0m\u001b[0m\n\u001b[0m\u001b[0;32m    636\u001b[0m \u001b[1;33m\u001b[0m\u001b[0m\n\u001b[0;32m    637\u001b[0m     def wait_for_transaction_receipt(\n",
      "\u001b[1;32mc:\\users\\syed\\appdata\\local\\programs\\python\\python39\\lib\\site-packages\\web3\\eth.py\u001b[0m in \u001b[0;36mwait_for_transaction_receipt\u001b[1;34m(self, transaction_hash, timeout, poll_latency)\u001b[0m\n\u001b[0;32m    639\u001b[0m     ) -> TxReceipt:\n\u001b[0;32m    640\u001b[0m         \u001b[1;32mtry\u001b[0m\u001b[1;33m:\u001b[0m\u001b[1;33m\u001b[0m\u001b[1;33m\u001b[0m\u001b[0m\n\u001b[1;32m--> 641\u001b[1;33m             \u001b[1;32mreturn\u001b[0m \u001b[0mwait_for_transaction_receipt\u001b[0m\u001b[1;33m(\u001b[0m\u001b[0mself\u001b[0m\u001b[1;33m.\u001b[0m\u001b[0mweb3\u001b[0m\u001b[1;33m,\u001b[0m \u001b[0mtransaction_hash\u001b[0m\u001b[1;33m,\u001b[0m \u001b[0mtimeout\u001b[0m\u001b[1;33m,\u001b[0m \u001b[0mpoll_latency\u001b[0m\u001b[1;33m)\u001b[0m\u001b[1;33m\u001b[0m\u001b[1;33m\u001b[0m\u001b[0m\n\u001b[0m\u001b[0;32m    642\u001b[0m         \u001b[1;32mexcept\u001b[0m \u001b[0mTimeout\u001b[0m\u001b[1;33m:\u001b[0m\u001b[1;33m\u001b[0m\u001b[1;33m\u001b[0m\u001b[0m\n\u001b[0;32m    643\u001b[0m             raise TimeExhausted(\n",
      "\u001b[1;32mc:\\users\\syed\\appdata\\local\\programs\\python\\python39\\lib\\site-packages\\web3\\_utils\\transactions.py\u001b[0m in \u001b[0;36mwait_for_transaction_receipt\u001b[1;34m(web3, txn_hash, timeout, poll_latency)\u001b[0m\n\u001b[0;32m    130\u001b[0m             \u001b[1;32mif\u001b[0m \u001b[0mtxn_receipt\u001b[0m \u001b[1;32mis\u001b[0m \u001b[1;32mnot\u001b[0m \u001b[1;32mNone\u001b[0m \u001b[1;32mand\u001b[0m \u001b[0mtxn_receipt\u001b[0m\u001b[1;33m[\u001b[0m\u001b[1;34m'blockHash'\u001b[0m\u001b[1;33m]\u001b[0m \u001b[1;32mis\u001b[0m \u001b[1;32mnot\u001b[0m \u001b[1;32mNone\u001b[0m\u001b[1;33m:\u001b[0m\u001b[1;33m\u001b[0m\u001b[1;33m\u001b[0m\u001b[0m\n\u001b[0;32m    131\u001b[0m                 \u001b[1;32mbreak\u001b[0m\u001b[1;33m\u001b[0m\u001b[1;33m\u001b[0m\u001b[0m\n\u001b[1;32m--> 132\u001b[1;33m             \u001b[0m_timeout\u001b[0m\u001b[1;33m.\u001b[0m\u001b[0msleep\u001b[0m\u001b[1;33m(\u001b[0m\u001b[0mpoll_latency\u001b[0m\u001b[1;33m)\u001b[0m\u001b[1;33m\u001b[0m\u001b[1;33m\u001b[0m\u001b[0m\n\u001b[0m\u001b[0;32m    133\u001b[0m     \u001b[1;32mreturn\u001b[0m \u001b[0mtxn_receipt\u001b[0m\u001b[1;33m\u001b[0m\u001b[1;33m\u001b[0m\u001b[0m\n\u001b[0;32m    134\u001b[0m \u001b[1;33m\u001b[0m\u001b[0m\n",
      "\u001b[1;32mc:\\users\\syed\\appdata\\local\\programs\\python\\python39\\lib\\site-packages\\web3\\_utils\\threads.py\u001b[0m in \u001b[0;36msleep\u001b[1;34m(self, seconds)\u001b[0m\n\u001b[0;32m     86\u001b[0m \u001b[1;33m\u001b[0m\u001b[0m\n\u001b[0;32m     87\u001b[0m     \u001b[1;32mdef\u001b[0m \u001b[0msleep\u001b[0m\u001b[1;33m(\u001b[0m\u001b[0mself\u001b[0m\u001b[1;33m,\u001b[0m \u001b[0mseconds\u001b[0m\u001b[1;33m:\u001b[0m \u001b[0mfloat\u001b[0m\u001b[1;33m)\u001b[0m \u001b[1;33m->\u001b[0m \u001b[1;32mNone\u001b[0m\u001b[1;33m:\u001b[0m\u001b[1;33m\u001b[0m\u001b[1;33m\u001b[0m\u001b[0m\n\u001b[1;32m---> 88\u001b[1;33m         \u001b[0mtime\u001b[0m\u001b[1;33m.\u001b[0m\u001b[0msleep\u001b[0m\u001b[1;33m(\u001b[0m\u001b[0mseconds\u001b[0m\u001b[1;33m)\u001b[0m\u001b[1;33m\u001b[0m\u001b[1;33m\u001b[0m\u001b[0m\n\u001b[0m\u001b[0;32m     89\u001b[0m         \u001b[0mself\u001b[0m\u001b[1;33m.\u001b[0m\u001b[0mcheck\u001b[0m\u001b[1;33m(\u001b[0m\u001b[1;33m)\u001b[0m\u001b[1;33m\u001b[0m\u001b[1;33m\u001b[0m\u001b[0m\n\u001b[0;32m     90\u001b[0m \u001b[1;33m\u001b[0m\u001b[0m\n",
      "\u001b[1;31mKeyboardInterrupt\u001b[0m: "
     ]
    }
   ],
   "source": [
    "a =15\n",
    "b = 30\n",
    "transaction_lcm = contract.functions.compute_lcm(\n",
    "    a,b\n",
    "     ).buildTransaction({\n",
    "    'gas': 70000,\n",
    "    'gasPrice': web3.toWei('1', 'gwei'),\n",
    "    'from': account1,\n",
    "    'nonce': nonce\n",
    "    })\n",
    "\n",
    "signed_txn = web3.eth.account.signTransaction(transaction_lcm, private_key=private_key1)\n",
    "start_time = time.time()\n",
    "tx_hash = web3.eth.sendRawTransaction(signed_txn.rawTransaction)\n",
    "tx_receipt = web3.eth.waitForTransactionReceipt(tx_hash)\n",
    "end_time = time.time()\n",
    "print(end_time -start_time)"
   ]
  },
  {
   "cell_type": "code",
   "execution_count": null,
   "id": "quarterly-binary",
   "metadata": {},
   "outputs": [],
   "source": [
    "lcm = contract.functions.lcm_print().call()\n",
    "lcm"
   ]
  },
  {
   "cell_type": "code",
   "execution_count": null,
   "id": "three-turkish",
   "metadata": {},
   "outputs": [],
   "source": [
    "print(tx_receipt.gasUsed)"
   ]
  },
  {
   "cell_type": "code",
   "execution_count": null,
   "id": "operating-western",
   "metadata": {},
   "outputs": [],
   "source": [
    "a =15\n",
    "b = 30\n",
    "c = 28\n",
    "d = 30\n",
    "nonce = web3.eth.getTransactionCount(account1)\n",
    "transaction_additon = contract.functions.compute_addition(\n",
    "    a,b,c,d\n",
    "     ).buildTransaction({\n",
    "    'gas': 70000,\n",
    "    'gasPrice': web3.toWei('1', 'gwei'),\n",
    "    'from': account1,\n",
    "    'nonce': nonce\n",
    "    }) \n",
    "signed_txn = web3.eth.account.signTransaction(transaction_addition, private_key=private_key1)\n",
    "start_time = time.time()\n",
    "tx_hash = web3.eth.sendRawTransaction(signed_txn.rawTransaction)\n",
    "tx_receipt = web3.eth.waitForTransactionReceipt(tx_hash)\n",
    "end_time = time.time()\n",
    "print(end_time -start_time)"
   ]
  },
  {
   "cell_type": "code",
   "execution_count": null,
   "id": "retained-parking",
   "metadata": {},
   "outputs": [],
   "source": [
    "add = contract.functions.add_print().call()\n",
    "add\n",
    "print(tx_receipt.gasUsed)"
   ]
  },
  {
   "cell_type": "code",
   "execution_count": null,
   "id": "inner-organization",
   "metadata": {},
   "outputs": [],
   "source": [
    "input =[2,3,4,5,6]\n",
    "weight =[2,3,4,5,6]\n",
    "bias = [1,2]\n",
    "\n",
    "nonce = web3.eth.getTransactionCount(account1)\n",
    "transaction_IXWB = contract.functions.compute_IXWB(\n",
    "    input,weight,bias\n",
    "     ).buildTransaction({\n",
    "    'gas': 100000,\n",
    "    'gasPrice': web3.toWei('1', 'gwei'),\n",
    "    'from': account1,\n",
    "    'nonce': nonce\n",
    "    }) \n",
    "signed_txn = web3.eth.account.signTransaction(transaction_IXWB, private_key=private_key1)\n",
    "start_time = time.time()\n",
    "tx_hash = web3.eth.sendRawTransaction(signed_txn.rawTransaction)\n",
    "tx_receipt = web3.eth.waitForTransactionReceipt(tx_hash)\n",
    "end_time = time.time()\n",
    "print(end_time -start_time)\n"
   ]
  },
  {
   "cell_type": "code",
   "execution_count": null,
   "id": "downtown-cooperation",
   "metadata": {},
   "outputs": [],
   "source": [
    "add = contract.functions.add_print().call()\n",
    "add\n",
    "print(tx_receipt.gasUsed)"
   ]
  },
  {
   "cell_type": "code",
   "execution_count": null,
   "id": "blessed-amendment",
   "metadata": {},
   "outputs": [],
   "source": [
    "d =-50\n",
    "nonce = web3.eth.getTransactionCount(account1)\n",
    "transaction = contract.functions.compute_sigmoid(\n",
    "    d\n",
    "     ).buildTransaction({\n",
    "    'gas': 70000,\n",
    "    'gasPrice': web3.toWei('1', 'gwei'),\n",
    "    'from': account1,\n",
    "    'nonce': nonce\n",
    "    }) \n",
    "signed_txn = web3.eth.account.signTransaction(transaction, private_key=private_key1)\n",
    "start_time = time.time()\n",
    "tx_hash = web3.eth.sendRawTransaction(signed_txn.rawTransaction)\n",
    "tx_receipt = web3.eth.waitForTransactionReceipt(tx_hash)\n",
    "end_time = time.time()\n",
    "print(end_time -start_time)"
   ]
  },
  {
   "cell_type": "code",
   "execution_count": null,
   "id": "accepting-choice",
   "metadata": {},
   "outputs": [],
   "source": [
    "pred = contract.functions.predict_print().call()\n",
    "pred\n",
    "print(tx_receipt.gasUsed)"
   ]
  },
  {
   "cell_type": "code",
   "execution_count": null,
   "id": "immune-satellite",
   "metadata": {},
   "outputs": [],
   "source": []
  },
  {
   "cell_type": "code",
   "execution_count": null,
   "id": "written-tournament",
   "metadata": {},
   "outputs": [],
   "source": []
  }
 ],
 "metadata": {
  "kernelspec": {
   "display_name": "Python 3",
   "language": "python",
   "name": "python3"
  },
  "language_info": {
   "codemirror_mode": {
    "name": "ipython",
    "version": 3
   },
   "file_extension": ".py",
   "mimetype": "text/x-python",
   "name": "python",
   "nbconvert_exporter": "python",
   "pygments_lexer": "ipython3",
   "version": "3.9.2"
  }
 },
 "nbformat": 4,
 "nbformat_minor": 5
}
