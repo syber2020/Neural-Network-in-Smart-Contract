{
 "cells": [
  {
   "cell_type": "code",
   "execution_count": 8,
   "id": "medium-comparison",
   "metadata": {},
   "outputs": [
    {
     "ename": "SyntaxError",
     "evalue": "invalid syntax (<ipython-input-8-e15fc5b28ebc>, line 14)",
     "output_type": "error",
     "traceback": [
      "\u001b[1;36m  File \u001b[1;32m\"<ipython-input-8-e15fc5b28ebc>\"\u001b[1;36m, line \u001b[1;32m14\u001b[0m\n\u001b[1;33m    _thread.start_new_thread(print_time,(\"Thread-1\",2,))\u001b[0m\n\u001b[1;37m    ^\u001b[0m\n\u001b[1;31mSyntaxError\u001b[0m\u001b[1;31m:\u001b[0m invalid syntax\n"
     ]
    }
   ],
   "source": [
    "import _thread\n",
    "import time\n",
    "\n",
    "#defien functions\n",
    "def print_name(threadname, delay):\n",
    "    count =0\n",
    "    while count <5:\n",
    "        time.sleep(delay)\n",
    "        count+=1\n",
    "        print (\"%s: %s\" % ( threadName, time.ctime(time.time()) )\n",
    "\n",
    "#create two threads as follows\n",
    "\n",
    "    _thread.start_new_thread(print_time,(\"Thread-1\",2,))\n",
    "    _thread.start_new_thread(print_time,(\"Thread-2\",4, ))\n",
    "\n",
    "    print(\"Error:unable to start the thread\")\n",
    "               \n",
    "# while 1:\n",
    "#    pass    "
   ]
  },
  {
   "cell_type": "code",
   "execution_count": null,
   "id": "allied-princeton",
   "metadata": {},
   "outputs": [],
   "source": []
  }
 ],
 "metadata": {
  "kernelspec": {
   "display_name": "Python 3",
   "language": "python",
   "name": "python3"
  },
  "language_info": {
   "codemirror_mode": {
    "name": "ipython",
    "version": 3
   },
   "file_extension": ".py",
   "mimetype": "text/x-python",
   "name": "python",
   "nbconvert_exporter": "python",
   "pygments_lexer": "ipython3",
   "version": "3.9.2"
  }
 },
 "nbformat": 4,
 "nbformat_minor": 5
}
