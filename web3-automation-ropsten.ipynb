{
 "cells": [
  {
   "cell_type": "code",
   "execution_count": 1,
   "id": "convertible-daily",
   "metadata": {},
   "outputs": [
    {
     "data": {
      "text/plain": [
       "True"
      ]
     },
     "execution_count": 1,
     "metadata": {},
     "output_type": "execute_result"
    }
   ],
   "source": [
    "# starting web3 operations\n",
    "import numpy as np\n",
    "import json\n",
    "from web3 import Web3\n",
    "ganache_url = \"https://ropsten.infura.io/v3/6072fdc3b95c407caa681f63ebaf72b8\"\n",
    "web3 = Web3(Web3.HTTPProvider(ganache_url))\n",
    "web3.isConnected()"
   ]
  },
  {
   "cell_type": "code",
   "execution_count": 2,
   "id": "usual-madagascar",
   "metadata": {},
   "outputs": [
    {
     "name": "stdout",
     "output_type": "stream",
     "text": [
      "5.9727007974762902\n"
     ]
    }
   ],
   "source": [
    "# Basic web3 \n",
    "block = web3.eth.get_block('latest')\n",
    "balance_1 = web3.eth.getBalance(\"0x37bfB436392DaAE0E91EdcD9c4128FBcADF3919d\")\n",
    "print(web3.fromWei(balance_1,'ether'))"
   ]
  },
  {
   "cell_type": "code",
   "execution_count": 3,
   "id": "insured-broadcasting",
   "metadata": {},
   "outputs": [],
   "source": [
    "abi = json.loads('[{ \"inputs\": [], \"name\": \"add_print\", \"outputs\": [ { \"internalType\": \"int256\", \"name\": \"x\", \"type\": \"int256\" }, { \"internalType\": \"int256\", \"name\": \"y\", \"type\": \"int256\" } ], \"stateMutability\": \"view\", \"type\": \"function\" }, { \"inputs\": [ { \"internalType\": \"int256[]\", \"name\": \"input\", \"type\": \"int256[]\" }, { \"internalType\": \"int256[]\", \"name\": \"w\", \"type\": \"int256[]\" }, { \"internalType\": \"int256[]\", \"name\": \"b\", \"type\": \"int256[]\" } ], \"name\": \"compute_IXWB\", \"outputs\": [], \"stateMutability\": \"nonpayable\", \"type\": \"function\" }, { \"inputs\": [ { \"internalType\": \"int256\", \"name\": \"a\", \"type\": \"int256\" }, { \"internalType\": \"int256\", \"name\": \"b\", \"type\": \"int256\" }, { \"internalType\": \"int256\", \"name\": \"c\", \"type\": \"int256\" }, { \"internalType\": \"int256\", \"name\": \"d\", \"type\": \"int256\" } ], \"name\": \"compute_addition\", \"outputs\": [], \"stateMutability\": \"nonpayable\", \"type\": \"function\" }, { \"inputs\": [ { \"internalType\": \"int256\", \"name\": \"x\", \"type\": \"int256\" }, { \"internalType\": \"int256\", \"name\": \"y\", \"type\": \"int256\" } ], \"name\": \"compute_lcm\", \"outputs\": [], \"stateMutability\": \"nonpayable\", \"type\": \"function\" }, { \"inputs\": [ { \"internalType\": \"int256\", \"name\": \"d\", \"type\": \"int256\" } ], \"name\": \"compute_sigmoid\", \"outputs\": [], \"stateMutability\": \"nonpayable\", \"type\": \"function\" }, { \"inputs\": [], \"name\": \"lcm_print\", \"outputs\": [ { \"internalType\": \"int256\", \"name\": \"\", \"type\": \"int256\" } ], \"stateMutability\": \"view\", \"type\": \"function\" }, { \"inputs\": [], \"name\": \"predict_print\", \"outputs\": [ { \"internalType\": \"int256\", \"name\": \"\", \"type\": \"int256\" } ], \"stateMutability\": \"view\", \"type\": \"function\" }]')\n",
    "cont_address = \"0xFD9fFdE09432258482C532d80bBDB5c4577dc2DF\""
   ]
  },
  {
   "cell_type": "code",
   "execution_count": 4,
   "id": "robust-herald",
   "metadata": {},
   "outputs": [],
   "source": [
    "contract = web3.eth.contract(address=cont_address,abi=abi)"
   ]
  },
  {
   "cell_type": "code",
   "execution_count": 5,
   "id": "palestinian-transmission",
   "metadata": {},
   "outputs": [],
   "source": [
    "account1 = \"0xdd617f9D5120b7b30E4C502fdd6b13dCf286A300\"\n",
    "private_key1 = \"c00b36dc1777e7fda60ff1f55b57c3f51b18c0c16fe44724e451ed062a173d74\"\n",
    "account2 = \"0x8883f1016E727C8fE93C1Df471f102bBbAF2B910\"\n",
    "private_key2=\"8d70f54549b5fb7c04fc016cc88c447fc81aff3af3065c696aee1b529fbc8ba5\"\n",
    "account3 = \"0xd39fdd79c3b5b0c411366D5A64ba26E423e1cF61\"\n",
    "private_key3 =\"3f3bcef69f8cef4bb28953eebe0b11c40fca5b4ce8c9665d3647afd067050952\""
   ]
  },
  {
   "cell_type": "code",
   "execution_count": 6,
   "id": "velvet-burton",
   "metadata": {},
   "outputs": [],
   "source": [
    "# callfunction = contract.function.callfunction().call()\n",
    "#print(web3.utils.fromWei(callfunction,'ether'))"
   ]
  },
  {
   "cell_type": "markdown",
   "id": "roman-sound",
   "metadata": {},
   "source": [
    "### Sending Ether between accounts"
   ]
  },
  {
   "cell_type": "code",
   "execution_count": 7,
   "id": "painful-bronze",
   "metadata": {},
   "outputs": [],
   "source": [
    "# get the nonce\n",
    "# nonce = web3.eth.getTransactionCount(account1)\n",
    "# # build the transaction\n",
    "# tx = {\n",
    "#     'nonce': nonce,\n",
    "#     'to': account2,\n",
    "#     'value':web3.toWei(1,'ether'),\n",
    "#     'gas':2000000,      #for miners to mine transactions\n",
    "#     'gasPrice': web3.toWei('50','gwei') \n",
    "# }\n",
    "# # sign the transaction\n",
    "# signed_tx = web3.eth.account.signTransaction(tx,private_key1)\n",
    "\n",
    "# # send the transaction\n",
    "# tx_hash = web3.eth.sendRawTransaction(signed_tx.rawTransaction)\n",
    "\n"
   ]
  },
  {
   "cell_type": "code",
   "execution_count": 8,
   "id": "norwegian-stability",
   "metadata": {},
   "outputs": [],
   "source": [
    "# get transaction hash\n",
    "# print(web3.toHex(tx_hash))"
   ]
  },
  {
   "cell_type": "code",
   "execution_count": 9,
   "id": "recognized-tuition",
   "metadata": {},
   "outputs": [],
   "source": [
    "nonce = web3.eth.getTransactionCount(account1)"
   ]
  },
  {
   "cell_type": "code",
   "execution_count": 10,
   "id": "realistic-branch",
   "metadata": {},
   "outputs": [],
   "source": [
    "a =15\n",
    "b = 30\n",
    "transaction = contract.functions.compute_lcm(\n",
    "    a,b\n",
    "     ).buildTransaction({\n",
    "    'gas': 100000,\n",
    "    'gasPrice': web3.toWei('10', 'gwei'),\n",
    "    'from': account1,\n",
    "    'nonce': nonce\n",
    "    }) \n",
    "signed_txn = web3.eth.account.signTransaction(transaction, private_key=private_key1)\n",
    "tx_hash = web3.eth.sendRawTransaction(signed_txn.rawTransaction)\n",
    "tx_receipt = web3.eth.waitForTransactionReceipt(tx_hash)"
   ]
  },
  {
   "cell_type": "code",
   "execution_count": 11,
   "id": "quarterly-binary",
   "metadata": {},
   "outputs": [
    {
     "data": {
      "text/plain": [
       "30"
      ]
     },
     "execution_count": 11,
     "metadata": {},
     "output_type": "execute_result"
    }
   ],
   "source": [
    "lcm = contract.functions.lcm_print().call()\n",
    "lcm"
   ]
  },
  {
   "cell_type": "code",
   "execution_count": 12,
   "id": "operating-western",
   "metadata": {},
   "outputs": [
    {
     "name": "stdout",
     "output_type": "stream",
     "text": [
      "34844\n"
     ]
    }
   ],
   "source": [
    "a =15\n",
    "b = 30\n",
    "c = 28\n",
    "d = 30\n",
    "nonce = web3.eth.getTransactionCount(account1)\n",
    "transaction = contract.functions.compute_addition(\n",
    "    a,b,c,d\n",
    "     ).buildTransaction({\n",
    "    'gas': 100000,\n",
    "    'gasPrice': web3.toWei('20', 'gwei'),\n",
    "    'from': account1,\n",
    "    'nonce': nonce\n",
    "    }) \n",
    "signed_txn = web3.eth.account.signTransaction(transaction, private_key=private_key1)\n",
    "tx_hash = web3.eth.sendRawTransaction(signed_txn.rawTransaction)\n",
    "tx_receipt = web3.eth.waitForTransactionReceipt(tx_hash)\n",
    "# print(tx_receipt.size)\n",
    "print(tx_receipt.gasUsed)\n"
   ]
  },
  {
   "cell_type": "code",
   "execution_count": 13,
   "id": "retained-parking",
   "metadata": {},
   "outputs": [
    {
     "data": {
      "text/plain": [
       "[43, 30]"
      ]
     },
     "execution_count": 13,
     "metadata": {},
     "output_type": "execute_result"
    }
   ],
   "source": [
    "add = contract.functions.add_print().call()\n",
    "add"
   ]
  },
  {
   "cell_type": "code",
   "execution_count": 14,
   "id": "inner-organization",
   "metadata": {},
   "outputs": [],
   "source": [
    "input =[2,3,4,5,6]\n",
    "weight =[2,3,4,5,6]\n",
    "bias = [1,2]\n",
    "\n",
    "nonce = web3.eth.getTransactionCount(account1)\n",
    "transaction = contract.functions.compute_IXWB(\n",
    "    input,weight,bias\n",
    "     ).buildTransaction({\n",
    "    'gas': 100000,\n",
    "    'gasPrice': web3.toWei('10', 'gwei'),\n",
    "    'from': account1,\n",
    "    'nonce': nonce\n",
    "    }) \n",
    "signed_txn = web3.eth.account.signTransaction(transaction, private_key=private_key1)\n",
    "tx_hash = web3.eth.sendRawTransaction(signed_txn.rawTransaction)\n",
    "tx_receipt = web3.eth.waitForTransactionReceipt(tx_hash)\n"
   ]
  },
  {
   "cell_type": "code",
   "execution_count": 15,
   "id": "downtown-cooperation",
   "metadata": {},
   "outputs": [
    {
     "data": {
      "text/plain": [
       "[590, 1000]"
      ]
     },
     "execution_count": 15,
     "metadata": {},
     "output_type": "execute_result"
    }
   ],
   "source": [
    "add = contract.functions.add_print().call()\n",
    "add"
   ]
  },
  {
   "cell_type": "code",
   "execution_count": 16,
   "id": "blessed-amendment",
   "metadata": {},
   "outputs": [],
   "source": [
    "d =-50\n",
    "nonce = web3.eth.getTransactionCount(account1)\n",
    "transaction = contract.functions.compute_sigmoid(\n",
    "    d\n",
    "     ).buildTransaction({\n",
    "    'gas': 100000,\n",
    "    'gasPrice': web3.toWei('50', 'gwei'),\n",
    "    'from': account1,\n",
    "    'nonce': nonce\n",
    "    }) \n",
    "signed_txn = web3.eth.account.signTransaction(transaction, private_key=private_key1)\n",
    "tx_hash = web3.eth.sendRawTransaction(signed_txn.rawTransaction)\n",
    "tx_receipt = web3.eth.waitForTransactionReceipt(tx_hash)"
   ]
  },
  {
   "cell_type": "code",
   "execution_count": 17,
   "id": "accepting-choice",
   "metadata": {},
   "outputs": [
    {
     "data": {
      "text/plain": [
       "0"
      ]
     },
     "execution_count": 17,
     "metadata": {},
     "output_type": "execute_result"
    }
   ],
   "source": [
    "pred = contract.functions.predict_print().call()\n",
    "pred"
   ]
  },
  {
   "cell_type": "code",
   "execution_count": null,
   "id": "immune-satellite",
   "metadata": {},
   "outputs": [],
   "source": []
  }
 ],
 "metadata": {
  "kernelspec": {
   "display_name": "Python 3",
   "language": "python",
   "name": "python3"
  },
  "language_info": {
   "codemirror_mode": {
    "name": "ipython",
    "version": 3
   },
   "file_extension": ".py",
   "mimetype": "text/x-python",
   "name": "python",
   "nbconvert_exporter": "python",
   "pygments_lexer": "ipython3",
   "version": "3.9.2"
  }
 },
 "nbformat": 4,
 "nbformat_minor": 5
}
